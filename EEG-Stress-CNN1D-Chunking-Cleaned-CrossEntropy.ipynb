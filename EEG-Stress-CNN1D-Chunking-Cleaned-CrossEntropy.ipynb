{
  "cells": [
    {
      "cell_type": "markdown",
      "metadata": {
        "colab_type": "text",
        "id": "view-in-github"
      },
      "source": [
        "<a href=\"https://colab.research.google.com/github/guntsvzz/CP_Project/blob/main/EEG_Stress_CNN1D.ipynb\" target=\"_parent\"><img src=\"https://colab.research.google.com/assets/colab-badge.svg\" alt=\"Open In Colab\"/></a>"
      ]
    },
    {
      "cell_type": "code",
      "execution_count": 185,
      "metadata": {
        "colab": {
          "base_uri": "https://localhost:8080/"
        },
        "id": "fwrERBtOU9hH",
        "outputId": "5d148bfb-7273-495e-de9a-bdb4cc417725"
      },
      "outputs": [
        {
          "name": "stdout",
          "output_type": "stream",
          "text": [
            "Looking in indexes: https://pypi.org/simple, https://us-python.pkg.dev/colab-wheels/public/simple/\n",
            "Requirement already satisfied: gdown in /usr/local/lib/python3.7/dist-packages (4.5.4)\n",
            "Requirement already satisfied: beautifulsoup4 in /usr/local/lib/python3.7/dist-packages (from gdown) (4.6.3)\n",
            "Requirement already satisfied: tqdm in /usr/local/lib/python3.7/dist-packages (from gdown) (4.64.1)\n",
            "Requirement already satisfied: six in /usr/local/lib/python3.7/dist-packages (from gdown) (1.15.0)\n",
            "Requirement already satisfied: filelock in /usr/local/lib/python3.7/dist-packages (from gdown) (3.8.0)\n",
            "Requirement already satisfied: requests[socks] in /usr/local/lib/python3.7/dist-packages (from gdown) (2.23.0)\n",
            "Requirement already satisfied: chardet<4,>=3.0.2 in /usr/local/lib/python3.7/dist-packages (from requests[socks]->gdown) (3.0.4)\n",
            "Requirement already satisfied: certifi>=2017.4.17 in /usr/local/lib/python3.7/dist-packages (from requests[socks]->gdown) (2022.9.24)\n",
            "Requirement already satisfied: urllib3!=1.25.0,!=1.25.1,<1.26,>=1.21.1 in /usr/local/lib/python3.7/dist-packages (from requests[socks]->gdown) (1.24.3)\n",
            "Requirement already satisfied: idna<3,>=2.5 in /usr/local/lib/python3.7/dist-packages (from requests[socks]->gdown) (2.10)\n",
            "Requirement already satisfied: PySocks!=1.5.7,>=1.5.6 in /usr/local/lib/python3.7/dist-packages (from requests[socks]->gdown) (1.7.1)\n"
          ]
        }
      ],
      "source": [
        "!pip install --upgrade --no-cache-dir gdown"
      ]
    },
    {
      "cell_type": "code",
      "execution_count": 186,
      "metadata": {
        "colab": {
          "base_uri": "https://localhost:8080/"
        },
        "id": "vup-n60iVEOK",
        "outputId": "8a95f6ba-01fe-4934-983d-f2bec3046b24"
      },
      "outputs": [
        {
          "name": "stdout",
          "output_type": "stream",
          "text": [
            "/usr/local/lib/python3.7/dist-packages/gdown/cli.py:125: FutureWarning: Option `--id` was deprecated in version 4.3.1 and will be removed in 5.0. You don't need to pass it anymore to use a file ID.\n",
            "  category=FutureWarning,\n",
            "Downloading...\n",
            "From: https://drive.google.com/uc?id=1KZjrJfUrB_k1g8VUsohNpek_hvWNqGcr\n",
            "To: /content/Clean_signal.zip\n",
            "100% 113M/113M [00:00<00:00, 194MB/s] \n"
          ]
        }
      ],
      "source": [
        "!gdown --id 1KZjrJfUrB_k1g8VUsohNpek_hvWNqGcr"
      ]
    },
    {
      "cell_type": "code",
      "execution_count": 187,
      "metadata": {
        "colab": {
          "base_uri": "https://localhost:8080/"
        },
        "id": "6pIlRs5wVA7D",
        "outputId": "0b1e89d3-5266-49a0-a6f4-14091fb7f4b5"
      },
      "outputs": [
        {
          "name": "stdout",
          "output_type": "stream",
          "text": [
            "Archive:  /content/Clean_signal.zip\n",
            "replace __MACOSX/._Clean_signal? [y]es, [n]o, [A]ll, [N]one, [r]ename: A\n",
            "  inflating: __MACOSX/._Clean_signal  \n",
            "  inflating: Clean_signal/PSS10 - Sheet1.csv  \n",
            "  inflating: __MACOSX/Clean_signal/._PSS10 - Sheet1.csv  \n",
            "  inflating: Clean_signal/clean_exp08.csv  \n",
            "  inflating: __MACOSX/Clean_signal/._clean_exp08.csv  \n",
            "  inflating: Clean_signal/clean_exp09.csv  \n",
            "  inflating: __MACOSX/Clean_signal/._clean_exp09.csv  \n",
            "  inflating: Clean_signal/clean_exp01.csv  \n",
            "  inflating: __MACOSX/Clean_signal/._clean_exp01.csv  \n",
            "  inflating: Clean_signal/clean_exp15.csv  \n",
            "  inflating: __MACOSX/Clean_signal/._clean_exp15.csv  \n",
            "  inflating: Clean_signal/clean_exp14.csv  \n",
            "  inflating: __MACOSX/Clean_signal/._clean_exp14.csv  \n",
            "  inflating: Clean_signal/clean_exp16.csv  \n",
            "  inflating: __MACOSX/Clean_signal/._clean_exp16.csv  \n",
            "  inflating: Clean_signal/clean_exp02.csv  \n",
            "  inflating: __MACOSX/Clean_signal/._clean_exp02.csv  \n",
            "  inflating: Clean_signal/clean_exp03.csv  \n",
            "  inflating: __MACOSX/Clean_signal/._clean_exp03.csv  \n",
            "  inflating: Clean_signal/clean_exp17.csv  \n",
            "  inflating: __MACOSX/Clean_signal/._clean_exp17.csv  \n",
            "  inflating: Clean_signal/clean_exp13.csv  \n",
            "  inflating: __MACOSX/Clean_signal/._clean_exp13.csv  \n",
            "  inflating: Clean_signal/clean_exp07.csv  \n",
            "  inflating: __MACOSX/Clean_signal/._clean_exp07.csv  \n",
            "  inflating: Clean_signal/clean_exp06.csv  \n",
            "  inflating: __MACOSX/Clean_signal/._clean_exp06.csv  \n",
            "  inflating: Clean_signal/clean_exp12.csv  \n",
            "  inflating: __MACOSX/Clean_signal/._clean_exp12.csv  \n",
            "  inflating: Clean_signal/clean_exp04.csv  \n",
            "  inflating: __MACOSX/Clean_signal/._clean_exp04.csv  \n",
            "  inflating: Clean_signal/clean_exp10.csv  \n",
            "  inflating: __MACOSX/Clean_signal/._clean_exp10.csv  \n",
            "  inflating: Clean_signal/clean_exp11.csv  \n",
            "  inflating: __MACOSX/Clean_signal/._clean_exp11.csv  \n",
            "  inflating: Clean_signal/clean_exp05.csv  \n",
            "  inflating: __MACOSX/Clean_signal/._clean_exp05.csv  \n"
          ]
        }
      ],
      "source": [
        "!unzip '/content/Clean_signal.zip'\n",
        "#!mv '/content/clean_exp16' 'Cleaned_signal'"
      ]
    },
    {
      "cell_type": "code",
      "execution_count": 188,
      "metadata": {
        "colab": {
          "base_uri": "https://localhost:8080/"
        },
        "id": "pwzKGAORVEVK",
        "outputId": "55b31c31-f1ad-4405-b12e-b4f5f0e1a553"
      },
      "outputs": [
        {
          "name": "stdout",
          "output_type": "stream",
          "text": [
            "Looking in indexes: https://pypi.org/simple, https://us-python.pkg.dev/colab-wheels/public/simple/\n",
            "Requirement already satisfied: mne in /usr/local/lib/python3.7/dist-packages (1.2.2)\n",
            "Requirement already satisfied: jinja2 in /usr/local/lib/python3.7/dist-packages (from mne) (2.11.3)\n",
            "Requirement already satisfied: pooch>=1.5 in /usr/local/lib/python3.7/dist-packages (from mne) (1.6.0)\n",
            "Requirement already satisfied: numpy>=1.15.4 in /usr/local/lib/python3.7/dist-packages (from mne) (1.21.6)\n",
            "Requirement already satisfied: matplotlib in /usr/local/lib/python3.7/dist-packages (from mne) (3.2.2)\n",
            "Requirement already satisfied: packaging in /usr/local/lib/python3.7/dist-packages (from mne) (21.3)\n",
            "Requirement already satisfied: decorator in /usr/local/lib/python3.7/dist-packages (from mne) (4.4.2)\n",
            "Requirement already satisfied: scipy>=1.1.0 in /usr/local/lib/python3.7/dist-packages (from mne) (1.7.3)\n",
            "Requirement already satisfied: tqdm in /usr/local/lib/python3.7/dist-packages (from mne) (4.64.1)\n",
            "Requirement already satisfied: appdirs>=1.3.0 in /usr/local/lib/python3.7/dist-packages (from pooch>=1.5->mne) (1.4.4)\n",
            "Requirement already satisfied: requests>=2.19.0 in /usr/local/lib/python3.7/dist-packages (from pooch>=1.5->mne) (2.23.0)\n",
            "Requirement already satisfied: pyparsing!=3.0.5,>=2.0.2 in /usr/local/lib/python3.7/dist-packages (from packaging->mne) (3.0.9)\n",
            "Requirement already satisfied: urllib3!=1.25.0,!=1.25.1,<1.26,>=1.21.1 in /usr/local/lib/python3.7/dist-packages (from requests>=2.19.0->pooch>=1.5->mne) (1.24.3)\n",
            "Requirement already satisfied: idna<3,>=2.5 in /usr/local/lib/python3.7/dist-packages (from requests>=2.19.0->pooch>=1.5->mne) (2.10)\n",
            "Requirement already satisfied: chardet<4,>=3.0.2 in /usr/local/lib/python3.7/dist-packages (from requests>=2.19.0->pooch>=1.5->mne) (3.0.4)\n",
            "Requirement already satisfied: certifi>=2017.4.17 in /usr/local/lib/python3.7/dist-packages (from requests>=2.19.0->pooch>=1.5->mne) (2022.9.24)\n",
            "Requirement already satisfied: MarkupSafe>=0.23 in /usr/local/lib/python3.7/dist-packages (from jinja2->mne) (2.0.1)\n",
            "Requirement already satisfied: kiwisolver>=1.0.1 in /usr/local/lib/python3.7/dist-packages (from matplotlib->mne) (1.4.4)\n",
            "Requirement already satisfied: python-dateutil>=2.1 in /usr/local/lib/python3.7/dist-packages (from matplotlib->mne) (2.8.2)\n",
            "Requirement already satisfied: cycler>=0.10 in /usr/local/lib/python3.7/dist-packages (from matplotlib->mne) (0.11.0)\n",
            "Requirement already satisfied: typing-extensions in /usr/local/lib/python3.7/dist-packages (from kiwisolver>=1.0.1->matplotlib->mne) (4.1.1)\n",
            "Requirement already satisfied: six>=1.5 in /usr/local/lib/python3.7/dist-packages (from python-dateutil>=2.1->matplotlib->mne) (1.15.0)\n"
          ]
        }
      ],
      "source": [
        "pip install mne"
      ]
    },
    {
      "cell_type": "code",
      "execution_count": 189,
      "metadata": {
        "colab": {
          "base_uri": "https://localhost:8080/"
        },
        "id": "w10ogyD1VEYJ",
        "outputId": "d891c2fa-c09a-498d-d059-e90f1f36f383"
      },
      "outputs": [
        {
          "name": "stdout",
          "output_type": "stream",
          "text": [
            "Looking in indexes: https://pypi.org/simple, https://us-python.pkg.dev/colab-wheels/public/simple/\n",
            "Requirement already satisfied: components in /usr/local/lib/python3.7/dist-packages (1.2.8)\n"
          ]
        }
      ],
      "source": [
        "pip install components"
      ]
    },
    {
      "cell_type": "code",
      "execution_count": 2,
      "metadata": {
        "colab": {
          "base_uri": "https://localhost:8080/"
        },
        "id": "oV3Wo3-mVEa9",
        "outputId": "c9403116-467c-4c33-d710-32ad551dabba"
      },
      "outputs": [],
      "source": [
        "import pickle\n",
        "import numpy as np\n",
        "import os\n",
        "import mne\n",
        "import pandas as pd\n",
        "pickle.format_version\n",
        "\n",
        "import torch\n",
        "import torch.nn as nn\n",
        "import torch.nn.functional as F\n",
        "from torchvision import datasets, transforms  \n",
        "from torch.utils.data import DataLoader, Dataset  \n",
        "from torch.utils.data import TensorDataset\n",
        "from torch.autograd import Variable\n",
        "\n",
        "import pandas as pd\n",
        "from sklearn.metrics import confusion_matrix, ConfusionMatrixDisplay\n",
        "import matplotlib.pyplot as plt\n",
        "\n",
        "from sklearn.model_selection import train_test_split\n",
        "\n",
        "# setting seed so that splitting process and training process can be reproduce\n",
        "#torch.manual_seed(42)"
      ]
    },
    {
      "cell_type": "markdown",
      "metadata": {
        "id": "6v7rkdizVS5M"
      },
      "source": [
        "# ETL"
      ]
    },
    {
      "cell_type": "code",
      "execution_count": 4,
      "metadata": {
        "id": "RhLkEKQ1VEdx"
      },
      "outputs": [],
      "source": [
        "import os\n",
        "main_path = os.getcwd()\n",
        "\n",
        "filename = os.listdir(main_path + '/Clean_signal/') #P'amm\n",
        "#filename = os.listdir(main_path + '/Cleaned_signal/') # Tonson"
      ]
    },
    {
      "cell_type": "code",
      "execution_count": 5,
      "metadata": {
        "id": "cLR-bCqaVEgo"
      },
      "outputs": [],
      "source": [
        "filename = ['clean_exp01.csv',\n",
        " 'clean_exp02.csv',\n",
        " 'clean_exp03.csv',\n",
        " 'clean_exp04.csv',\n",
        " 'clean_exp05.csv',\n",
        " 'clean_exp06.csv',\n",
        " 'clean_exp07.csv',\n",
        " 'clean_exp08.csv',\n",
        " 'clean_exp09.csv',\n",
        " 'clean_exp10.csv',\n",
        " 'clean_exp11.csv',\n",
        " 'clean_exp12.csv',\n",
        " 'clean_exp13.csv',\n",
        " 'clean_exp14.csv',\n",
        " 'clean_exp15.csv',\n",
        " 'clean_exp16.csv',\n",
        " 'clean_exp17.csv']"
      ]
    },
    {
      "cell_type": "code",
      "execution_count": 6,
      "metadata": {
        "id": "IT1a4C7WUiup"
      },
      "outputs": [],
      "source": [
        "all_file_path = main_path + '/Clean_signal/' #P'amm\n",
        "#all_file_path = main_path + '/Cleaned_signal/' # Tonson\n",
        "\n",
        "X_list = list()\n",
        "for file in filename:\n",
        "    file_path = all_file_path + file\n",
        "    df = pd.read_csv(file_path, index_col=None)\n",
        "    df = df.loc[:, ~df.columns.str.contains('^Unnamed')]\n",
        "    X_list.append(df)  "
      ]
    },
    {
      "cell_type": "code",
      "execution_count": 7,
      "metadata": {
        "colab": {
          "base_uri": "https://localhost:8080/",
          "height": 270
        },
        "id": "COY-Jz-ZUiyo",
        "outputId": "16814a1b-99d1-4736-e8f6-34dbb8432ab5"
      },
      "outputs": [
        {
          "data": {
            "text/html": [
              "<div>\n",
              "<style scoped>\n",
              "    .dataframe tbody tr th:only-of-type {\n",
              "        vertical-align: middle;\n",
              "    }\n",
              "\n",
              "    .dataframe tbody tr th {\n",
              "        vertical-align: top;\n",
              "    }\n",
              "\n",
              "    .dataframe thead th {\n",
              "        text-align: right;\n",
              "    }\n",
              "</style>\n",
              "<table border=\"1\" class=\"dataframe\">\n",
              "  <thead>\n",
              "    <tr style=\"text-align: right;\">\n",
              "      <th></th>\n",
              "      <th>Fp1</th>\n",
              "      <th>Fp2</th>\n",
              "      <th>F7</th>\n",
              "      <th>F3</th>\n",
              "      <th>F4</th>\n",
              "      <th>F8</th>\n",
              "      <th>T3</th>\n",
              "      <th>C3</th>\n",
              "      <th>C4</th>\n",
              "      <th>T4</th>\n",
              "      <th>T5</th>\n",
              "      <th>P3</th>\n",
              "      <th>P4</th>\n",
              "      <th>T6</th>\n",
              "      <th>O1</th>\n",
              "      <th>O2</th>\n",
              "    </tr>\n",
              "  </thead>\n",
              "  <tbody>\n",
              "    <tr>\n",
              "      <th>0</th>\n",
              "      <td>1.558541e-13</td>\n",
              "      <td>1.202787e-12</td>\n",
              "      <td>-1.822815e-12</td>\n",
              "      <td>-6.666149e-13</td>\n",
              "      <td>-1.524659e-14</td>\n",
              "      <td>-9.656176e-14</td>\n",
              "      <td>1.778769e-13</td>\n",
              "      <td>-7.318365e-13</td>\n",
              "      <td>-3.218725e-14</td>\n",
              "      <td>6.776264e-15</td>\n",
              "      <td>2.463172e-12</td>\n",
              "      <td>-5.293956e-13</td>\n",
              "      <td>1.679243e-13</td>\n",
              "      <td>2.774456e-12</td>\n",
              "      <td>-3.303428e-13</td>\n",
              "      <td>2.217109e-13</td>\n",
              "    </tr>\n",
              "    <tr>\n",
              "      <th>1</th>\n",
              "      <td>-2.495299e+02</td>\n",
              "      <td>-2.591266e+02</td>\n",
              "      <td>-2.392414e+02</td>\n",
              "      <td>-2.472481e+02</td>\n",
              "      <td>-1.342918e+02</td>\n",
              "      <td>-2.469675e+02</td>\n",
              "      <td>-2.368676e+02</td>\n",
              "      <td>-2.375381e+02</td>\n",
              "      <td>8.964020e+01</td>\n",
              "      <td>9.114929e+01</td>\n",
              "      <td>9.105020e+01</td>\n",
              "      <td>7.684951e+01</td>\n",
              "      <td>1.383037e+02</td>\n",
              "      <td>-4.155527e+02</td>\n",
              "      <td>-3.083336e+02</td>\n",
              "      <td>-1.145710e+02</td>\n",
              "    </tr>\n",
              "    <tr>\n",
              "      <th>2</th>\n",
              "      <td>-1.022146e+02</td>\n",
              "      <td>-1.071695e+02</td>\n",
              "      <td>-8.913196e+01</td>\n",
              "      <td>-9.320015e+01</td>\n",
              "      <td>-7.188064e+01</td>\n",
              "      <td>-9.669399e+01</td>\n",
              "      <td>-7.360927e+01</td>\n",
              "      <td>-7.934479e+01</td>\n",
              "      <td>-8.483305e+00</td>\n",
              "      <td>-3.966042e+00</td>\n",
              "      <td>6.921319e-02</td>\n",
              "      <td>-5.860820e+00</td>\n",
              "      <td>6.340924e+00</td>\n",
              "      <td>-1.006591e+02</td>\n",
              "      <td>-7.385641e+01</td>\n",
              "      <td>-3.186257e+01</td>\n",
              "    </tr>\n",
              "    <tr>\n",
              "      <th>3</th>\n",
              "      <td>-1.894707e+02</td>\n",
              "      <td>-1.985657e+02</td>\n",
              "      <td>-1.666088e+02</td>\n",
              "      <td>-1.773347e+02</td>\n",
              "      <td>-1.206077e+02</td>\n",
              "      <td>-1.861381e+02</td>\n",
              "      <td>-1.566157e+02</td>\n",
              "      <td>-1.616160e+02</td>\n",
              "      <td>1.053098e+01</td>\n",
              "      <td>1.359837e+01</td>\n",
              "      <td>2.570865e+01</td>\n",
              "      <td>1.375228e+01</td>\n",
              "      <td>4.319836e+01</td>\n",
              "      <td>-2.383818e+02</td>\n",
              "      <td>-1.751361e+02</td>\n",
              "      <td>-7.472951e+01</td>\n",
              "    </tr>\n",
              "    <tr>\n",
              "      <th>4</th>\n",
              "      <td>-1.976600e+02</td>\n",
              "      <td>-2.088452e+02</td>\n",
              "      <td>-1.691085e+02</td>\n",
              "      <td>-1.829386e+02</td>\n",
              "      <td>-1.219805e+02</td>\n",
              "      <td>-1.981792e+02</td>\n",
              "      <td>-1.664133e+02</td>\n",
              "      <td>-1.711082e+02</td>\n",
              "      <td>5.430791e+00</td>\n",
              "      <td>5.540176e+00</td>\n",
              "      <td>2.039321e+01</td>\n",
              "      <td>9.522058e+00</td>\n",
              "      <td>4.153111e+01</td>\n",
              "      <td>-2.713544e+02</td>\n",
              "      <td>-1.985949e+02</td>\n",
              "      <td>-9.082392e+01</td>\n",
              "    </tr>\n",
              "  </tbody>\n",
              "</table>\n",
              "</div>"
            ],
            "text/plain": [
              "            Fp1           Fp2            F7            F3            F4  \\\n",
              "0  1.558541e-13  1.202787e-12 -1.822815e-12 -6.666149e-13 -1.524659e-14   \n",
              "1 -2.495299e+02 -2.591266e+02 -2.392414e+02 -2.472481e+02 -1.342918e+02   \n",
              "2 -1.022146e+02 -1.071695e+02 -8.913196e+01 -9.320015e+01 -7.188064e+01   \n",
              "3 -1.894707e+02 -1.985657e+02 -1.666088e+02 -1.773347e+02 -1.206077e+02   \n",
              "4 -1.976600e+02 -2.088452e+02 -1.691085e+02 -1.829386e+02 -1.219805e+02   \n",
              "\n",
              "             F8            T3            C3            C4            T4  \\\n",
              "0 -9.656176e-14  1.778769e-13 -7.318365e-13 -3.218725e-14  6.776264e-15   \n",
              "1 -2.469675e+02 -2.368676e+02 -2.375381e+02  8.964020e+01  9.114929e+01   \n",
              "2 -9.669399e+01 -7.360927e+01 -7.934479e+01 -8.483305e+00 -3.966042e+00   \n",
              "3 -1.861381e+02 -1.566157e+02 -1.616160e+02  1.053098e+01  1.359837e+01   \n",
              "4 -1.981792e+02 -1.664133e+02 -1.711082e+02  5.430791e+00  5.540176e+00   \n",
              "\n",
              "             T5            P3            P4            T6            O1  \\\n",
              "0  2.463172e-12 -5.293956e-13  1.679243e-13  2.774456e-12 -3.303428e-13   \n",
              "1  9.105020e+01  7.684951e+01  1.383037e+02 -4.155527e+02 -3.083336e+02   \n",
              "2  6.921319e-02 -5.860820e+00  6.340924e+00 -1.006591e+02 -7.385641e+01   \n",
              "3  2.570865e+01  1.375228e+01  4.319836e+01 -2.383818e+02 -1.751361e+02   \n",
              "4  2.039321e+01  9.522058e+00  4.153111e+01 -2.713544e+02 -1.985949e+02   \n",
              "\n",
              "             O2  \n",
              "0  2.217109e-13  \n",
              "1 -1.145710e+02  \n",
              "2 -3.186257e+01  \n",
              "3 -7.472951e+01  \n",
              "4 -9.082392e+01  "
            ]
          },
          "execution_count": 7,
          "metadata": {},
          "output_type": "execute_result"
        }
      ],
      "source": [
        "df.head()"
      ]
    },
    {
      "cell_type": "code",
      "execution_count": 8,
      "metadata": {
        "colab": {
          "base_uri": "https://localhost:8080/"
        },
        "id": "PEw38IzfV9Ze",
        "outputId": "bfd78d6c-8a62-430e-c3e3-19f48176388b"
      },
      "outputs": [
        {
          "data": {
            "text/plain": [
              "(17, 45000, 16)"
            ]
          },
          "execution_count": 8,
          "metadata": {},
          "output_type": "execute_result"
        }
      ],
      "source": [
        "X = np.array(X_list)\n",
        "X.shape \n",
        "#17 people \n",
        "#250 hz * 60 secs * 3 min\n",
        "#16 channels"
      ]
    },
    {
      "cell_type": "code",
      "execution_count": 9,
      "metadata": {
        "colab": {
          "base_uri": "https://localhost:8080/"
        },
        "id": "2sJ3TIjQV9cz",
        "outputId": "ce2c5898-aa50-44e7-9682-85dca7cab790"
      },
      "outputs": [
        {
          "data": {
            "text/plain": [
              "(17, 16, 45000)"
            ]
          },
          "execution_count": 9,
          "metadata": {},
          "output_type": "execute_result"
        }
      ],
      "source": [
        "# Reshape\n",
        "X = np.transpose(X, (0, 2, 1))\n",
        "X.shape"
      ]
    },
    {
      "cell_type": "code",
      "execution_count": 10,
      "metadata": {
        "id": "x9lOPEaJ1Upc"
      },
      "outputs": [],
      "source": [
        "def vectorized_windowing(arr, window_len, overlap_len=None):\n",
        "    '''\n",
        "    Sliding window without using loop\n",
        "    '''\n",
        "    seq_len = arr.shape[-1]\n",
        "    \n",
        "    if not overlap_len:\n",
        "        overlap_len = window_len\n",
        "\n",
        "    n_sliding_windows = ((seq_len - window_len) // overlap_len) + 1\n",
        "\n",
        "    sub_windows = np.array([np.arange(window_len)]) + np.array([np.arange(n_sliding_windows) * overlap_len]).T\n",
        "\n",
        "    slided_arr = arr[..., sub_windows]\n",
        "\n",
        "    return slided_arr\n"
      ]
    },
    {
      "cell_type": "code",
      "execution_count": 11,
      "metadata": {
        "colab": {
          "base_uri": "https://localhost:8080/"
        },
        "id": "-rG8-cd11Xm7",
        "outputId": "93899244-9583-41b2-c488-efb113cbe1c2"
      },
      "outputs": [
        {
          "name": "stdout",
          "output_type": "stream",
          "text": [
            "(170, 16, 4500)\n"
          ]
        }
      ],
      "source": [
        "X_chunked = vectorized_windowing(X, window_len=4500)\n",
        "X_chunked = np.swapaxes(X_chunked,1,2).reshape(-1, 16, 4500)\n",
        "\n",
        "print(X_chunked.shape)\n",
        "\n",
        "X = X_chunked.copy()\n",
        "\n",
        "# 17 people split in 10 chunks\n",
        "# 16 channels\n",
        "# 4500 signals "
      ]
    },
    {
      "cell_type": "code",
      "execution_count": 12,
      "metadata": {
        "colab": {
          "base_uri": "https://localhost:8080/"
        },
        "id": "ACZEM4DBV9fl",
        "outputId": "b92701a5-0eef-45fa-c557-5268902fd342"
      },
      "outputs": [
        {
          "data": {
            "text/plain": [
              "array([1, 1, 1, 0, 0, 0, 0, 1, 0, 0, 0, 1, 0, 0, 0, 1, 1])"
            ]
          },
          "execution_count": 12,
          "metadata": {},
          "output_type": "execute_result"
        }
      ],
      "source": [
        "y_path = '/content/Clean_signal/PSS10 - Sheet1.csv' # P' Am\n",
        "#y_path = '/root/projects/CP/Projects/Signal/label_exp.csv' # Tonson\n",
        "df = pd.read_csv(y_path)\n",
        "y = np.array(df['label'])\n",
        "y"
      ]
    },
    {
      "cell_type": "code",
      "execution_count": 13,
      "metadata": {
        "id": "TEGVmz846DkW"
      },
      "outputs": [],
      "source": [
        "y_chunked = np.repeat(y, 10)\n",
        "\n",
        "y = y_chunked.copy()"
      ]
    },
    {
      "cell_type": "code",
      "execution_count": 14,
      "metadata": {
        "colab": {
          "base_uri": "https://localhost:8080/"
        },
        "id": "gLXcEEK3s4BU",
        "outputId": "b8dfe392-8105-467a-eaa4-5cd755788001"
      },
      "outputs": [
        {
          "data": {
            "text/plain": [
              "(170,)"
            ]
          },
          "execution_count": 14,
          "metadata": {},
          "output_type": "execute_result"
        }
      ],
      "source": [
        "y_chunked.shape"
      ]
    },
    {
      "cell_type": "markdown",
      "metadata": {
        "id": "nGw8680y-3N5"
      },
      "source": [
        "# Split Data"
      ]
    },
    {
      "cell_type": "code",
      "execution_count": 15,
      "metadata": {
        "colab": {
          "base_uri": "https://localhost:8080/"
        },
        "id": "awnviaHZcdH7",
        "outputId": "9998d974-f155-4e30-98ee-8c8f323f5cf4"
      },
      "outputs": [
        {
          "name": "stdout",
          "output_type": "stream",
          "text": [
            "(136, 16, 4500) (34, 16, 4500) (136,) (34,)\n"
          ]
        }
      ],
      "source": [
        "X_train, X_test, y_train, y_test = train_test_split(X, y, test_size=0.2, shuffle = False, stratify = None)\n",
        "\n",
        "print(X_train.shape, X_test.shape, y_train.shape, y_test.shape)"
      ]
    },
    {
      "cell_type": "code",
      "execution_count": 16,
      "metadata": {
        "colab": {
          "base_uri": "https://localhost:8080/"
        },
        "id": "4lNlvnIMXXMI",
        "outputId": "fa8bd35b-debd-4d9d-da4e-4b9a46c1bf90"
      },
      "outputs": [
        {
          "name": "stdout",
          "output_type": "stream",
          "text": [
            "[[[ 7.84200330e+00  1.47207470e+01  1.42052595e+01 ... -5.89349247e+00\n",
            "   -1.51828042e+01 -2.08104358e+01]\n",
            "  [ 3.16583543e+00  8.26135009e+00  9.23106733e+00 ... -2.71454574e+01\n",
            "   -3.25662288e+01 -3.54135998e+01]\n",
            "  [ 2.32398500e+00  5.09731303e+00  3.61993697e-01 ... -1.74988647e+01\n",
            "   -2.87856476e+01 -3.47425425e+01]\n",
            "  ...\n",
            "  [-8.76076464e+00 -1.74142656e+00  5.77302593e-01 ...  2.39540520e+00\n",
            "    2.14318766e+00 -1.96665306e+00]\n",
            "  [ 3.02666012e+00  6.51500100e+00  4.10581095e+00 ...  3.91447209e+01\n",
            "    3.74479023e+01  2.25009333e+01]\n",
            "  [-1.46662092e+01 -3.50361569e+00  1.18964341e+00 ...  1.17311595e+01\n",
            "    1.10058886e+01 -3.73502614e+00]]\n",
            "\n",
            " [[-1.82454441e+01 -1.57154517e+01 -9.08109711e+00 ... -5.01454830e+00\n",
            "   -8.80962712e+00 -4.94259629e+00]\n",
            "  [-3.47973429e+01 -3.61339346e+01 -2.94382432e+01 ... -2.55171581e+00\n",
            "   -7.39142312e+00 -5.25420300e+00]\n",
            "  [-3.00576255e+01 -3.15323330e+01 -2.53430851e+01 ...  2.28278037e+00\n",
            "   -2.40692220e+00 -6.11756015e-02]\n",
            "  ...\n",
            "  [-2.07971800e+00 -2.52503017e-01  5.09790304e+00 ... -3.14076622e+00\n",
            "   -4.28058327e+00 -7.12660240e+00]\n",
            "  [ 4.35591237e+00 -4.57899853e+00 -6.25330591e+00 ... -3.28461268e+01\n",
            "   -3.00851284e+01 -1.55351592e+01]\n",
            "  [-1.19161368e+01 -9.40704227e+00 -4.14098964e+00 ... -8.17306879e+00\n",
            "   -7.56269858e+00 -5.87773352e+00]]\n",
            "\n",
            " [[-2.55895094e+00 -5.78241185e+00 -1.94101434e+00 ...  1.02858771e+01\n",
            "    1.46039031e+01  8.81544340e+00]\n",
            "  [-3.93388416e+00 -5.59066990e+00 -4.68423117e+00 ...  4.26031693e-01\n",
            "    6.03638910e+00 -1.45738098e+00]\n",
            "  [ 8.42393571e+00  6.82235937e+00  4.25529333e+00 ...  1.95785361e+01\n",
            "    2.36030598e+01  1.66985685e+01]\n",
            "  ...\n",
            "  [-9.25299856e+00 -7.95336033e+00 -5.84309971e+00 ...  5.98576127e+00\n",
            "    1.47156705e+01  1.70193845e+01]\n",
            "  [-2.10494402e+00 -2.15289886e+00 -9.29289139e+00 ...  2.19074083e+01\n",
            "    2.74035879e+01  1.95985165e+01]\n",
            "  [-3.89282985e+00 -3.54409343e+00 -5.11216727e+00 ...  1.54793166e+01\n",
            "    1.73550575e+01  1.39748558e+01]]\n",
            "\n",
            " ...\n",
            "\n",
            " [[ 3.17531096e+01  3.28001297e+01  3.30714791e+01 ... -5.18032270e+00\n",
            "    6.71832316e-01 -1.65334382e+00]\n",
            "  [ 2.46521394e+01  2.64001551e+01  2.55888297e+01 ... -2.44915088e+00\n",
            "    6.21596000e+00  3.89736128e+00]\n",
            "  [ 3.85433008e+01  3.62744450e+01  3.28495352e+01 ... -7.78193969e+00\n",
            "   -4.88275784e+00 -1.17770283e+01]\n",
            "  ...\n",
            "  [ 6.27970587e+01  6.75369204e+01  7.25241459e+01 ...  1.47631630e+01\n",
            "    1.11632825e+01  9.97103668e-01]\n",
            "  [-2.76864694e+00 -3.87042386e+00 -8.53924951e-01 ...  7.86840864e+00\n",
            "    4.28568100e+00 -5.32936869e+00]\n",
            "  [-2.27726663e+01 -9.83800172e+00  2.91855996e+00 ... -5.06363240e-02\n",
            "   -5.37021047e+00 -1.10162400e+01]]\n",
            "\n",
            " [[-1.03845318e+00  1.46715954e+01  2.16027717e+01 ...  5.97502281e-01\n",
            "    9.50369863e+00  2.27134810e+01]\n",
            "  [ 2.67038823e+00  2.21784941e+01  3.30299691e+01 ...  1.79567409e+00\n",
            "    1.40727621e+01  3.22251139e+01]\n",
            "  [-1.30335234e+01  1.36390143e+00  9.31477142e+00 ... -8.27321998e+00\n",
            "    2.59472689e+00  1.54252150e+01]\n",
            "  ...\n",
            "  [-4.10438533e+00 -6.39680547e+00 -9.85097543e+00 ... -1.79668183e+01\n",
            "   -1.63830837e+01 -8.95476878e+00]\n",
            "  [-9.40488240e+00 -8.89058515e+00 -8.43275640e+00 ...  4.13391765e+00\n",
            "    9.77695490e-01  1.58381483e+00]\n",
            "  [-1.21702694e+01 -1.36673843e+01 -1.26007425e+01 ... -6.81864220e+00\n",
            "   -1.32554064e+01 -1.38373846e+01]]\n",
            "\n",
            " [[-4.88985611e+00  3.11771092e+00  6.51197896e+00 ... -2.20719563e+01\n",
            "   -1.13576914e+02  3.32036915e-13]\n",
            "  [ 4.55329838e-01  4.16656692e+00  1.19269709e+01 ... -2.59238206e+01\n",
            "   -1.20994091e+02 -2.14299336e-12]\n",
            "  [-1.41921417e+01 -4.10346916e+00  4.01353981e+00 ... -2.63955657e+01\n",
            "   -1.15157851e+02 -1.71058304e-12]\n",
            "  ...\n",
            "  [-1.43085275e+01 -1.75655533e+01 -1.73438179e+01 ... -1.25148914e+02\n",
            "   -5.55865478e+02 -2.68340038e-12]\n",
            "  [-4.68377952e+00 -7.31895181e+00 -8.14388028e+00 ... -1.09210646e+02\n",
            "   -4.88264616e+02 -1.35525272e-12]\n",
            "  [-1.22149249e+01 -1.64239501e+01 -1.50505326e+01 ... -5.95475034e+01\n",
            "   -3.09504495e+02  8.30092288e-14]]]\n"
          ]
        }
      ],
      "source": [
        "print(X_test)"
      ]
    },
    {
      "cell_type": "code",
      "execution_count": 236,
      "metadata": {
        "colab": {
          "base_uri": "https://localhost:8080/"
        },
        "id": "N9Ih6_WEXtuo",
        "outputId": "fbd9a932-cfa2-4dbf-db15-602c18c7f5a1"
      },
      "outputs": [
        {
          "name": "stdout",
          "output_type": "stream",
          "text": [
            "[[[ 7.84200330e+00  1.47207470e+01  1.42052595e+01 ... -5.89349247e+00\n",
            "   -1.51828042e+01 -2.08104358e+01]\n",
            "  [ 3.16583543e+00  8.26135009e+00  9.23106733e+00 ... -2.71454574e+01\n",
            "   -3.25662288e+01 -3.54135998e+01]\n",
            "  [ 2.32398500e+00  5.09731303e+00  3.61993697e-01 ... -1.74988647e+01\n",
            "   -2.87856476e+01 -3.47425425e+01]\n",
            "  ...\n",
            "  [-8.76076464e+00 -1.74142656e+00  5.77302593e-01 ...  2.39540520e+00\n",
            "    2.14318766e+00 -1.96665306e+00]\n",
            "  [ 3.02666012e+00  6.51500100e+00  4.10581095e+00 ...  3.91447209e+01\n",
            "    3.74479023e+01  2.25009333e+01]\n",
            "  [-1.46662092e+01 -3.50361569e+00  1.18964341e+00 ...  1.17311595e+01\n",
            "    1.10058886e+01 -3.73502614e+00]]\n",
            "\n",
            " [[-1.82454441e+01 -1.57154517e+01 -9.08109711e+00 ... -5.01454830e+00\n",
            "   -8.80962712e+00 -4.94259629e+00]\n",
            "  [-3.47973429e+01 -3.61339346e+01 -2.94382432e+01 ... -2.55171581e+00\n",
            "   -7.39142312e+00 -5.25420300e+00]\n",
            "  [-3.00576255e+01 -3.15323330e+01 -2.53430851e+01 ...  2.28278037e+00\n",
            "   -2.40692220e+00 -6.11756015e-02]\n",
            "  ...\n",
            "  [-2.07971800e+00 -2.52503017e-01  5.09790304e+00 ... -3.14076622e+00\n",
            "   -4.28058327e+00 -7.12660240e+00]\n",
            "  [ 4.35591237e+00 -4.57899853e+00 -6.25330591e+00 ... -3.28461268e+01\n",
            "   -3.00851284e+01 -1.55351592e+01]\n",
            "  [-1.19161368e+01 -9.40704227e+00 -4.14098964e+00 ... -8.17306879e+00\n",
            "   -7.56269858e+00 -5.87773352e+00]]\n",
            "\n",
            " [[-2.55895094e+00 -5.78241185e+00 -1.94101434e+00 ...  1.02858771e+01\n",
            "    1.46039031e+01  8.81544340e+00]\n",
            "  [-3.93388416e+00 -5.59066990e+00 -4.68423117e+00 ...  4.26031693e-01\n",
            "    6.03638910e+00 -1.45738098e+00]\n",
            "  [ 8.42393571e+00  6.82235937e+00  4.25529333e+00 ...  1.95785361e+01\n",
            "    2.36030598e+01  1.66985685e+01]\n",
            "  ...\n",
            "  [-9.25299856e+00 -7.95336033e+00 -5.84309971e+00 ...  5.98576127e+00\n",
            "    1.47156705e+01  1.70193845e+01]\n",
            "  [-2.10494402e+00 -2.15289886e+00 -9.29289139e+00 ...  2.19074083e+01\n",
            "    2.74035879e+01  1.95985165e+01]\n",
            "  [-3.89282985e+00 -3.54409343e+00 -5.11216727e+00 ...  1.54793166e+01\n",
            "    1.73550575e+01  1.39748558e+01]]\n",
            "\n",
            " ...\n",
            "\n",
            " [[ 3.17531096e+01  3.28001297e+01  3.30714791e+01 ... -5.18032270e+00\n",
            "    6.71832316e-01 -1.65334382e+00]\n",
            "  [ 2.46521394e+01  2.64001551e+01  2.55888297e+01 ... -2.44915088e+00\n",
            "    6.21596000e+00  3.89736128e+00]\n",
            "  [ 3.85433008e+01  3.62744450e+01  3.28495352e+01 ... -7.78193969e+00\n",
            "   -4.88275784e+00 -1.17770283e+01]\n",
            "  ...\n",
            "  [ 6.27970587e+01  6.75369204e+01  7.25241459e+01 ...  1.47631630e+01\n",
            "    1.11632825e+01  9.97103668e-01]\n",
            "  [-2.76864694e+00 -3.87042386e+00 -8.53924951e-01 ...  7.86840864e+00\n",
            "    4.28568100e+00 -5.32936869e+00]\n",
            "  [-2.27726663e+01 -9.83800172e+00  2.91855996e+00 ... -5.06363240e-02\n",
            "   -5.37021047e+00 -1.10162400e+01]]\n",
            "\n",
            " [[-1.03845318e+00  1.46715954e+01  2.16027717e+01 ...  5.97502281e-01\n",
            "    9.50369863e+00  2.27134810e+01]\n",
            "  [ 2.67038823e+00  2.21784941e+01  3.30299691e+01 ...  1.79567409e+00\n",
            "    1.40727621e+01  3.22251139e+01]\n",
            "  [-1.30335234e+01  1.36390143e+00  9.31477142e+00 ... -8.27321998e+00\n",
            "    2.59472689e+00  1.54252150e+01]\n",
            "  ...\n",
            "  [-4.10438533e+00 -6.39680547e+00 -9.85097543e+00 ... -1.79668183e+01\n",
            "   -1.63830837e+01 -8.95476878e+00]\n",
            "  [-9.40488240e+00 -8.89058515e+00 -8.43275640e+00 ...  4.13391765e+00\n",
            "    9.77695490e-01  1.58381483e+00]\n",
            "  [-1.21702694e+01 -1.36673843e+01 -1.26007425e+01 ... -6.81864220e+00\n",
            "   -1.32554064e+01 -1.38373846e+01]]\n",
            "\n",
            " [[-4.88985611e+00  3.11771092e+00  6.51197896e+00 ... -2.20719563e+01\n",
            "   -1.13576914e+02  3.32036915e-13]\n",
            "  [ 4.55329838e-01  4.16656692e+00  1.19269709e+01 ... -2.59238206e+01\n",
            "   -1.20994091e+02 -2.14299336e-12]\n",
            "  [-1.41921417e+01 -4.10346916e+00  4.01353981e+00 ... -2.63955657e+01\n",
            "   -1.15157851e+02 -1.71058304e-12]\n",
            "  ...\n",
            "  [-1.43085275e+01 -1.75655533e+01 -1.73438179e+01 ... -1.25148914e+02\n",
            "   -5.55865478e+02 -2.68340038e-12]\n",
            "  [-4.68377952e+00 -7.31895181e+00 -8.14388028e+00 ... -1.09210646e+02\n",
            "   -4.88264616e+02 -1.35525272e-12]\n",
            "  [-1.22149249e+01 -1.64239501e+01 -1.50505326e+01 ... -5.95475034e+01\n",
            "   -3.09504495e+02  8.30092288e-14]]]\n"
          ]
        }
      ],
      "source": [
        "print(X_test)"
      ]
    },
    {
      "cell_type": "code",
      "execution_count": 17,
      "metadata": {
        "colab": {
          "base_uri": "https://localhost:8080/"
        },
        "id": "TF6zuq4phP9E",
        "outputId": "6dff9ed4-fc56-4149-8d0b-034cac6c7128"
      },
      "outputs": [
        {
          "name": "stdout",
          "output_type": "stream",
          "text": [
            "(122, 16, 4500) (14, 16, 4500) (122,) (14,)\n"
          ]
        }
      ],
      "source": [
        "X_train, X_val, y_train, y_val = train_test_split(X_train, y_train, test_size=0.1, random_state=999)\n",
        "print(X_train.shape, X_val.shape, y_train.shape, y_val.shape)"
      ]
    },
    {
      "cell_type": "code",
      "execution_count": 18,
      "metadata": {
        "id": "BOOZBX7BhRpR"
      },
      "outputs": [],
      "source": [
        "from sklearn.preprocessing import MinMaxScaler\n",
        "\n",
        "#scale transform each channel independently\n",
        "scalers = {}\n",
        "for i in range(X_train.shape[2]):\n",
        "    scalers[i] = MinMaxScaler(feature_range=(-1, 1))\n",
        "    X_train[:, :, i] = scalers[i].fit_transform(X_train[:, :, i]) \n",
        "\n",
        "for i in range(X_val.shape[2]):\n",
        "    X_val[:, :, i]   = scalers[i].transform(X_val[:, :, i])     \n",
        "    \n",
        "for i in range(X_test.shape[2]):\n",
        "    X_test[:, :, i]  = scalers[i].transform(X_test[:, :, i]) "
      ]
    },
    {
      "cell_type": "code",
      "execution_count": 19,
      "metadata": {
        "colab": {
          "base_uri": "https://localhost:8080/"
        },
        "id": "TbYlRdOGhUKy",
        "outputId": "01038cf9-63e4-4e3f-f593-5c8073bd32b4"
      },
      "outputs": [
        {
          "name": "stdout",
          "output_type": "stream",
          "text": [
            "0.004228958769664231 0.004157039756496878 0.004641125739653987\n",
            "-1.0 -29.253222821649473 -257.7915643965592\n",
            "1.0000000000000004 15.788878605040534 870.0946728954643\n"
          ]
        }
      ],
      "source": [
        "print(X_train.mean(), X_val.mean(), X_test.mean())\n",
        "print(X_train.min(), X_val.min(), X_test.min())\n",
        "print(X_train.max(), X_val.max(), X_test.max())"
      ]
    },
    {
      "cell_type": "markdown",
      "metadata": {
        "id": "hOl5sDXo_C_C"
      },
      "source": [
        "# Define Batch size and train,test, val loader"
      ]
    },
    {
      "cell_type": "code",
      "execution_count": 20,
      "metadata": {
        "id": "Y1enUccbhXGK"
      },
      "outputs": [],
      "source": [
        "X_train_tensor = torch.tensor(X_train).to(torch.float32)\n",
        "y_train_tensor = torch.tensor(y_train).to(torch.float32)\n",
        "X_val_tensor = torch.tensor(X_val).to(torch.float32)\n",
        "y_val_tensor = torch.tensor(y_val).to(torch.float32)\n",
        "X_test_tensor = torch.tensor(X_test).to(torch.float32)\n",
        "y_test_tensor = torch.tensor(y_test).to(torch.float32)\n",
        "\n",
        "# Cast data to dataloader for more convenience\n",
        "training_set = TensorDataset(X_train_tensor, y_train_tensor)\n",
        "testing_set = TensorDataset(X_test_tensor, y_test_tensor)\n",
        "validation_set = TensorDataset(X_val_tensor, y_val_tensor)\n",
        "\n",
        "train_batch_size = 32\n",
        "val_batch_size = len(validation_set)\n",
        "test_batch_size = len(testing_set)\n",
        "\n",
        "train_loader = DataLoader(training_set, train_batch_size, shuffle=True)\n",
        "val_loader = DataLoader(validation_set, val_batch_size, shuffle=True)\n",
        "test_loader = DataLoader(testing_set, test_batch_size, shuffle=True)"
      ]
    },
    {
      "cell_type": "code",
      "execution_count": 21,
      "metadata": {
        "colab": {
          "base_uri": "https://localhost:8080/"
        },
        "id": "LEJ3VJt3huYw",
        "outputId": "2c629f69-0a28-4711-a5d5-4fa78f5b9eba"
      },
      "outputs": [
        {
          "name": "stdout",
          "output_type": "stream",
          "text": [
            "tensor([[[ 0.1723, -0.6326, -0.3068,  ...,  0.1130, -0.0708,  0.2186],\n",
            "         [ 0.1268,  0.7762,  0.2851,  ...,  0.8093,  0.9011,  0.6181],\n",
            "         [ 0.2133, -0.5311, -0.1517,  ..., -0.5065, -0.3939, -0.0700],\n",
            "         ...,\n",
            "         [ 0.4821, -0.6477, -0.0347,  ...,  0.7566,  0.1797,  0.6534],\n",
            "         [ 0.7726,  0.7454,  0.7515,  ...,  0.7106,  0.7406,  0.7706],\n",
            "         [ 0.7469,  0.6425,  0.0106,  ...,  0.9553,  0.8657,  0.7883]],\n",
            "\n",
            "        [[ 0.5149, -0.4518, -0.2271,  ...,  0.0134, -0.1878,  0.0353],\n",
            "         [ 0.4325,  0.8110,  0.3640,  ...,  0.5636,  0.8519,  0.3376],\n",
            "         [ 0.2870, -0.5175, -0.2460,  ..., -0.4965, -0.3619, -0.1122],\n",
            "         ...,\n",
            "         [ 0.4621, -0.6621, -0.1999,  ...,  0.7543,  0.1671,  0.6447],\n",
            "         [ 0.7542,  0.7263,  0.7182,  ...,  0.7034,  0.7308,  0.7619],\n",
            "         [ 0.7187,  0.6034, -0.1558,  ...,  0.9398,  0.8413,  0.7671]],\n",
            "\n",
            "        [[ 0.2871, -0.5122, -0.1434,  ...,  0.3041, -0.0189,  0.2060],\n",
            "         [ 0.3550,  0.8240,  0.5321,  ...,  0.5518,  0.8243,  0.0350],\n",
            "         [-0.0815, -0.7659, -0.3121,  ..., -0.4594, -0.4123, -0.1778],\n",
            "         ...,\n",
            "         [ 0.5089, -0.6566, -0.0794,  ...,  0.7774,  0.2015,  0.6922],\n",
            "         [ 0.7722,  0.7445,  0.7512,  ...,  0.7133,  0.7424,  0.7706],\n",
            "         [ 0.7600,  0.6495, -0.0063,  ...,  0.9621,  0.8776,  0.7991]],\n",
            "\n",
            "        ...,\n",
            "\n",
            "        [[ 0.4009, -0.4025, -0.1494,  ..., -0.0950, -0.7196,  0.1631],\n",
            "         [ 0.3356,  0.8194,  0.4492,  ...,  0.6008,  0.8193,  0.4361],\n",
            "         [ 0.2170, -0.4353, -0.1286,  ..., -0.6672, -1.0000, -0.0748],\n",
            "         ...,\n",
            "         [ 0.4583, -0.6802, -0.1381,  ...,  0.7840,  0.2209,  0.6766],\n",
            "         [ 0.7633,  0.7314,  0.7361,  ...,  0.7080,  0.7432,  0.7674],\n",
            "         [ 0.7411,  0.6117, -0.0446,  ...,  0.9558,  0.8781,  0.7777]],\n",
            "\n",
            "        [[ 0.1973, -0.5061, -0.0943,  ...,  0.1528, -0.4025, -0.4055],\n",
            "         [ 0.0804,  0.7793,  0.3618,  ...,  0.6372,  0.8296, -0.0453],\n",
            "         [ 0.2141, -0.4097, -0.0424,  ..., -0.3847, -0.5013, -0.2769],\n",
            "         ...,\n",
            "         [-0.3271, -1.0000, -1.0000,  ..., -1.0000, -1.0000, -1.0000],\n",
            "         [ 0.7333,  0.6991,  0.6896,  ..., -1.0000, -1.0000, -1.0000],\n",
            "         [ 0.8039,  0.7442,  0.1377,  ..., -1.0000, -1.0000, -1.0000]],\n",
            "\n",
            "        [[ 0.3298, -0.4944, -0.1480,  ...,  0.1105,  0.0319,  0.2802],\n",
            "         [ 0.2477,  0.8036,  0.4054,  ...,  0.5065,  0.8555,  0.3223],\n",
            "         [ 0.3139, -0.4000,  0.0264,  ..., -0.2116, -0.0843,  0.1686],\n",
            "         ...,\n",
            "         [ 0.5306, -0.6483, -0.1091,  ...,  0.7789,  0.1971,  0.6827],\n",
            "         [ 0.7670,  0.7401,  0.7483,  ...,  0.7086,  0.7391,  0.7686],\n",
            "         [ 0.7471,  0.6268, -0.0413,  ...,  0.9566,  0.8656,  0.7828]]])\n"
          ]
        }
      ],
      "source": [
        "for data, label in train_loader:\n",
        "  print(data)\n",
        "  break"
      ]
    },
    {
      "cell_type": "code",
      "execution_count": 22,
      "metadata": {
        "colab": {
          "base_uri": "https://localhost:8080/"
        },
        "id": "PVMFMBwAjImF",
        "outputId": "927cde81-8500-436c-c1cd-c2d36f2c9b3d"
      },
      "outputs": [
        {
          "data": {
            "text/plain": [
              "torch.Size([32, 16, 4500])"
            ]
          },
          "execution_count": 22,
          "metadata": {},
          "output_type": "execute_result"
        }
      ],
      "source": [
        "data.shape"
      ]
    },
    {
      "cell_type": "code",
      "execution_count": 23,
      "metadata": {
        "id": "HaiKzvgCjc3_"
      },
      "outputs": [
        {
          "data": {
            "text/plain": [
              "'cuda'"
            ]
          },
          "execution_count": 23,
          "metadata": {},
          "output_type": "execute_result"
        }
      ],
      "source": [
        "device = 'cuda' if torch.cuda.is_available() else 'cpu'\n",
        "device"
      ]
    },
    {
      "cell_type": "markdown",
      "metadata": {
        "id": "tMV89z27_HmH"
      },
      "source": [
        "# CNN1D model"
      ]
    },
    {
      "cell_type": "code",
      "execution_count": 244,
      "metadata": {
        "id": "U0bk5XjGjoMk"
      },
      "outputs": [],
      "source": [
        "class eegConv1d(nn.Module):\n",
        "    def __init__(self, input_size = 16, out_size=2):\n",
        "        super().__init__()\n",
        "        self.c1 = nn.Conv1d(input_size, 50, kernel_size = 3)\n",
        "        self.c2 = nn.Conv1d(50, 30, kernel_size = 3)\n",
        "        self.relu = nn.ReLU()\n",
        "        self.dropout = nn.Dropout(p=0.5)\n",
        "        self.maxpool1d = nn.MaxPool1d(2,2)\n",
        "        self.linear = nn.Linear(30 * 2247, out_size) #taking the last hidden state\n",
        "        \n",
        "    def forward(self, seq):\n",
        "        #convo layer 8 -> 50 -> 30\n",
        "        #seq shape: (11, 50, 45000)\n",
        "        out = self.c1(seq)\n",
        "        out = self.relu(out)\n",
        "        out = self.dropout(out)\n",
        "        # out shape: (11, 50, 44998)\n",
        "        out = self.maxpool1d(out)\n",
        "        # out shape: (11, 50, 22499)\n",
        "        out = self.c2(out)\n",
        "        out = self.relu(out)\n",
        "        # out shape: (11, 30, 22496)\n",
        "        out = out.reshape(seq.size(0), -1)\n",
        "        #out shape: (30, 30*22496)\n",
        "        out = self.linear(out)\n",
        "        #out shape: (30*22496, 2)\n",
        "        return out"
      ]
    },
    {
      "cell_type": "code",
      "execution_count": 245,
      "metadata": {
        "id": "TIOLWwwXpMpw"
      },
      "outputs": [],
      "source": [
        "import time\n",
        "\n",
        "def epoch_time(start_time, end_time):\n",
        "    elapsed_time = end_time - start_time\n",
        "    elapsed_mins = int(elapsed_time / 60)\n",
        "    elapsed_secs = int(elapsed_time - (elapsed_mins * 60))\n",
        "    return elapsed_mins, elapsed_secs"
      ]
    },
    {
      "cell_type": "code",
      "execution_count": 246,
      "metadata": {
        "id": "Vy6ADHh2Ca9z"
      },
      "outputs": [],
      "source": [
        "# torch.manual_seed(999999)\n",
        "device = torch.device(\"cuda\" if torch.cuda.is_available() else \"cpu\")\n",
        "model = eegConv1d(input_size=16).to(device)\n",
        "criterion = nn.CrossEntropyLoss()\n",
        "optimizer = torch.optim.Adam(model.parameters(), lr = 0.0001)"
      ]
    },
    {
      "cell_type": "code",
      "execution_count": 215,
      "metadata": {
        "colab": {
          "base_uri": "https://localhost:8080/"
        },
        "id": "pC8Chq51CbBX",
        "outputId": "4dfee635-caa2-48ce-faf6-f5100e0f05cb"
      },
      "outputs": [
        {
          "name": "stdout",
          "output_type": "stream",
          "text": [
            "Epoch:  0 | Train acc:  59.84 | loss: 0.65422 | Val acc:  57.14 | loss: 0.68922 | Time: 0m 0s\n",
            "Epoch:  1 | Train acc:  59.02 | loss: 0.67119 | Val acc:  57.14 | loss: 0.66749 | Time: 0m 0s\n",
            "Epoch:  2 | Train acc:  63.93 | loss: 0.57025 | Val acc:  57.14 | loss: 0.73282 | Time: 0m 0s\n",
            "Epoch:  3 | Train acc:  63.93 | loss: 0.69050 | Val acc:  57.14 | loss: 0.77013 | Time: 0m 0s\n",
            "Epoch:  4 | Train acc:  69.67 | loss: 0.66584 | Val acc:  53.57 | loss: 0.68285 | Time: 0m 0s\n",
            "Epoch:  5 | Train acc:  67.21 | loss: 0.61856 | Val acc:  57.14 | loss: 0.78652 | Time: 0m 0s\n",
            "Epoch:  6 | Train acc:  63.93 | loss: 0.48500 | Val acc:  57.14 | loss: 0.74951 | Time: 0m 0s\n",
            "Epoch:  7 | Train acc:  68.03 | loss: 0.55754 | Val acc:  57.14 | loss: 0.75815 | Time: 0m 0s\n",
            "Epoch:  8 | Train acc:  70.49 | loss: 0.59466 | Val acc:  57.14 | loss: 0.76307 | Time: 0m 0s\n",
            "Epoch:  9 | Train acc:  66.39 | loss: 0.51947 | Val acc:  57.14 | loss: 0.77915 | Time: 0m 0s\n",
            "Epoch: 10 | Train acc:  70.49 | loss: 0.48729 | Val acc:  57.14 | loss: 0.74151 | Time: 0m 0s\n",
            "Epoch: 11 | Train acc:  69.67 | loss: 0.63928 | Val acc:  57.14 | loss: 0.75771 | Time: 0m 0s\n",
            "Epoch: 12 | Train acc:  71.31 | loss: 0.48433 | Val acc:  57.14 | loss: 0.72639 | Time: 0m 0s\n",
            "Epoch: 13 | Train acc:  77.05 | loss: 0.47140 | Val acc:  57.14 | loss: 0.76185 | Time: 0m 0s\n",
            "Epoch: 14 | Train acc:  71.31 | loss: 0.45748 | Val acc:  57.14 | loss: 0.86452 | Time: 0m 0s\n",
            "Epoch: 15 | Train acc:  72.13 | loss: 0.44987 | Val acc:  57.14 | loss: 0.77032 | Time: 0m 0s\n",
            "Epoch: 16 | Train acc:  95.90 | loss: 0.45112 | Val acc:  51.79 | loss: 0.84549 | Time: 0m 0s\n",
            "Epoch: 17 | Train acc:  72.95 | loss: 0.48192 | Val acc:  57.14 | loss: 0.94187 | Time: 0m 0s\n",
            "Epoch: 18 | Train acc:  77.87 | loss: 0.40314 | Val acc:  57.14 | loss: 0.80635 | Time: 0m 0s\n",
            "Epoch: 19 | Train acc:  98.36 | loss: 0.43653 | Val acc:  57.14 | loss: 0.91793 | Time: 0m 0s\n",
            "Epoch: 20 | Train acc:  77.05 | loss: 0.55893 | Val acc:  57.14 | loss: 0.98313 | Time: 0m 0s\n",
            "Epoch: 21 | Train acc:  90.98 | loss: 0.41636 | Val acc:  50.00 | loss: 0.86424 | Time: 0m 0s\n",
            "Epoch: 22 | Train acc:  86.07 | loss: 0.34576 | Val acc:  57.14 | loss: 1.11099 | Time: 0m 0s\n",
            "Epoch: 23 | Train acc:  88.52 | loss: 0.37765 | Val acc:  55.36 | loss: 0.86801 | Time: 0m 0s\n",
            "Epoch: 24 | Train acc:  87.70 | loss: 0.28842 | Val acc:  60.71 | loss: 1.04443 | Time: 0m 0s\n",
            "Epoch: 25 | Train acc:  94.26 | loss: 0.31831 | Val acc:  55.36 | loss: 1.01233 | Time: 0m 0s\n",
            "Epoch: 26 | Train acc:  99.18 | loss: 0.37283 | Val acc:  50.00 | loss: 1.02829 | Time: 0m 0s\n",
            "Epoch: 27 | Train acc:  93.44 | loss: 0.28989 | Val acc:  57.14 | loss: 1.15714 | Time: 0m 0s\n",
            "Epoch: 28 | Train acc:  99.18 | loss: 0.29490 | Val acc:  58.93 | loss: 1.12513 | Time: 0m 0s\n",
            "Epoch: 29 | Train acc:  97.54 | loss: 0.28174 | Val acc:  57.14 | loss: 1.23845 | Time: 0m 0s\n",
            "Epoch: 30 | Train acc:  97.54 | loss: 0.25064 | Val acc:  58.93 | loss: 1.19753 | Time: 0m 0s\n",
            "Epoch: 31 | Train acc:  100.00 | loss: 0.22263 | Val acc:  51.79 | loss: 1.35139 | Time: 0m 0s\n",
            "Epoch: 32 | Train acc:  98.36 | loss: 0.22696 | Val acc:  57.14 | loss: 1.10116 | Time: 0m 0s\n",
            "Epoch: 33 | Train acc:  99.18 | loss: 0.20769 | Val acc:  53.57 | loss: 1.30439 | Time: 0m 0s\n",
            "Epoch: 34 | Train acc:  98.36 | loss: 0.25268 | Val acc:  53.57 | loss: 1.32804 | Time: 0m 0s\n",
            "Epoch: 35 | Train acc:  100.00 | loss: 0.23371 | Val acc:  53.57 | loss: 1.34563 | Time: 0m 0s\n",
            "Epoch: 36 | Train acc:  100.00 | loss: 0.21038 | Val acc:  55.36 | loss: 1.47966 | Time: 0m 0s\n",
            "Epoch: 37 | Train acc:  98.36 | loss: 0.17962 | Val acc:  58.93 | loss: 1.43622 | Time: 0m 0s\n",
            "Epoch: 38 | Train acc:  100.00 | loss: 0.14316 | Val acc:  51.79 | loss: 1.44152 | Time: 0m 0s\n",
            "Epoch: 39 | Train acc:  100.00 | loss: 0.15761 | Val acc:  60.71 | loss: 1.58793 | Time: 0m 0s\n",
            "Epoch: 40 | Train acc:  100.00 | loss: 0.16563 | Val acc:  55.36 | loss: 1.30423 | Time: 0m 0s\n",
            "Epoch: 41 | Train acc:  98.36 | loss: 0.12294 | Val acc:  48.21 | loss: 1.74782 | Time: 0m 0s\n",
            "Epoch: 42 | Train acc:  99.18 | loss: 0.18572 | Val acc:  58.93 | loss: 1.49512 | Time: 0m 0s\n",
            "Epoch: 43 | Train acc:  95.08 | loss: 0.18548 | Val acc:  42.86 | loss: 1.59874 | Time: 0m 0s\n",
            "Epoch: 44 | Train acc:  97.54 | loss: 0.18340 | Val acc:  58.93 | loss: 1.77016 | Time: 0m 0s\n",
            "Epoch: 45 | Train acc:  99.18 | loss: 0.12144 | Val acc:  48.21 | loss: 1.55730 | Time: 0m 0s\n",
            "Epoch: 46 | Train acc:  99.18 | loss: 0.12331 | Val acc:  58.93 | loss: 1.70212 | Time: 0m 0s\n",
            "Epoch: 47 | Train acc:  98.36 | loss: 0.17720 | Val acc:  48.21 | loss: 1.60169 | Time: 0m 0s\n",
            "Epoch: 48 | Train acc:  100.00 | loss: 0.12809 | Val acc:  60.71 | loss: 1.87358 | Time: 0m 0s\n",
            "Epoch: 49 | Train acc:  100.00 | loss: 0.10059 | Val acc:  55.36 | loss: 1.71392 | Time: 0m 0s\n",
            "Epoch: 50 | Train acc:  100.00 | loss: 0.13280 | Val acc:  58.93 | loss: 1.82329 | Time: 0m 0s\n",
            "Epoch: 51 | Train acc:  100.00 | loss: 0.13708 | Val acc:  51.79 | loss: 1.71620 | Time: 0m 0s\n",
            "Epoch: 52 | Train acc:  100.00 | loss: 0.11003 | Val acc:  58.93 | loss: 1.97819 | Time: 0m 0s\n",
            "Epoch: 53 | Train acc:  100.00 | loss: 0.12114 | Val acc:  53.57 | loss: 1.80785 | Time: 0m 0s\n",
            "Epoch: 54 | Train acc:  100.00 | loss: 0.09521 | Val acc:  58.93 | loss: 1.93744 | Time: 0m 0s\n",
            "Epoch: 55 | Train acc:  100.00 | loss: 0.06260 | Val acc:  51.79 | loss: 1.85213 | Time: 0m 0s\n",
            "Epoch: 56 | Train acc:  100.00 | loss: 0.08445 | Val acc:  53.57 | loss: 2.10132 | Time: 0m 0s\n",
            "Epoch: 57 | Train acc:  100.00 | loss: 0.06074 | Val acc:  51.79 | loss: 1.90531 | Time: 0m 0s\n",
            "Epoch: 58 | Train acc:  100.00 | loss: 0.07531 | Val acc:  57.14 | loss: 1.99647 | Time: 0m 0s\n",
            "Epoch: 59 | Train acc:  100.00 | loss: 0.07784 | Val acc:  62.50 | loss: 2.01290 | Time: 0m 0s\n",
            "Epoch: 60 | Train acc:  100.00 | loss: 0.07946 | Val acc:  50.00 | loss: 2.04351 | Time: 0m 0s\n",
            "Epoch: 61 | Train acc:  100.00 | loss: 0.06587 | Val acc:  60.71 | loss: 2.09319 | Time: 0m 0s\n",
            "Epoch: 62 | Train acc:  100.00 | loss: 0.07019 | Val acc:  55.36 | loss: 1.92344 | Time: 0m 0s\n",
            "Epoch: 63 | Train acc:  100.00 | loss: 0.04904 | Val acc:  50.00 | loss: 2.11017 | Time: 0m 0s\n",
            "Epoch: 64 | Train acc:  100.00 | loss: 0.05758 | Val acc:  58.93 | loss: 2.08404 | Time: 0m 0s\n",
            "Epoch: 65 | Train acc:  100.00 | loss: 0.05521 | Val acc:  53.57 | loss: 2.01066 | Time: 0m 0s\n",
            "Epoch: 66 | Train acc:  100.00 | loss: 0.05661 | Val acc:  58.93 | loss: 2.30517 | Time: 0m 0s\n",
            "Epoch: 67 | Train acc:  100.00 | loss: 0.05295 | Val acc:  58.93 | loss: 2.14063 | Time: 0m 0s\n",
            "Epoch: 68 | Train acc:  100.00 | loss: 0.06165 | Val acc:  55.36 | loss: 2.12977 | Time: 0m 0s\n",
            "Epoch: 69 | Train acc:  100.00 | loss: 0.04857 | Val acc:  57.14 | loss: 2.17918 | Time: 0m 0s\n",
            "Epoch: 70 | Train acc:  100.00 | loss: 0.06159 | Val acc:  60.71 | loss: 2.14845 | Time: 0m 0s\n",
            "Epoch: 71 | Train acc:  100.00 | loss: 0.03789 | Val acc:  58.93 | loss: 2.24041 | Time: 0m 0s\n",
            "Epoch: 72 | Train acc:  100.00 | loss: 0.06291 | Val acc:  55.36 | loss: 2.29260 | Time: 0m 0s\n",
            "Epoch: 73 | Train acc:  100.00 | loss: 0.04610 | Val acc:  51.79 | loss: 2.32265 | Time: 0m 0s\n",
            "Epoch: 74 | Train acc:  100.00 | loss: 0.04077 | Val acc:  57.14 | loss: 2.24997 | Time: 0m 0s\n",
            "Epoch: 75 | Train acc:  100.00 | loss: 0.03136 | Val acc:  55.36 | loss: 2.17029 | Time: 0m 0s\n",
            "Epoch: 76 | Train acc:  100.00 | loss: 0.04292 | Val acc:  53.57 | loss: 2.51331 | Time: 0m 0s\n",
            "Epoch: 77 | Train acc:  100.00 | loss: 0.04169 | Val acc:  60.71 | loss: 2.45232 | Time: 0m 0s\n",
            "Epoch: 78 | Train acc:  100.00 | loss: 0.02241 | Val acc:  50.00 | loss: 2.42181 | Time: 0m 0s\n",
            "Epoch: 79 | Train acc:  100.00 | loss: 0.03048 | Val acc:  53.57 | loss: 2.42472 | Time: 0m 0s\n",
            "Epoch: 80 | Train acc:  100.00 | loss: 0.03666 | Val acc:  62.50 | loss: 2.50524 | Time: 0m 0s\n",
            "Epoch: 81 | Train acc:  100.00 | loss: 0.02764 | Val acc:  55.36 | loss: 2.32054 | Time: 0m 0s\n",
            "Epoch: 82 | Train acc:  100.00 | loss: 0.02675 | Val acc:  53.57 | loss: 2.39411 | Time: 0m 0s\n",
            "Epoch: 83 | Train acc:  100.00 | loss: 0.04360 | Val acc:  58.93 | loss: 2.60216 | Time: 0m 0s\n",
            "Epoch: 84 | Train acc:  100.00 | loss: 0.02001 | Val acc:  48.21 | loss: 2.30647 | Time: 0m 0s\n",
            "Epoch: 85 | Train acc:  100.00 | loss: 0.02648 | Val acc:  58.93 | loss: 2.69385 | Time: 0m 0s\n",
            "Epoch: 86 | Train acc:  100.00 | loss: 0.02782 | Val acc:  57.14 | loss: 2.50276 | Time: 0m 0s\n",
            "Epoch: 87 | Train acc:  100.00 | loss: 0.03664 | Val acc:  53.57 | loss: 2.51194 | Time: 0m 0s\n",
            "Epoch: 88 | Train acc:  100.00 | loss: 0.02318 | Val acc:  55.36 | loss: 2.50481 | Time: 0m 0s\n",
            "Epoch: 89 | Train acc:  100.00 | loss: 0.02361 | Val acc:  64.29 | loss: 2.73754 | Time: 0m 0s\n",
            "Epoch: 90 | Train acc:  100.00 | loss: 0.02813 | Val acc:  55.36 | loss: 2.82566 | Time: 0m 0s\n",
            "Epoch: 91 | Train acc:  100.00 | loss: 0.01589 | Val acc:  66.07 | loss: 2.69789 | Time: 0m 0s\n",
            "Epoch: 92 | Train acc:  100.00 | loss: 0.01784 | Val acc:  57.14 | loss: 2.52369 | Time: 0m 0s\n",
            "Epoch: 93 | Train acc:  100.00 | loss: 0.01952 | Val acc:  53.57 | loss: 2.23548 | Time: 0m 0s\n",
            "Epoch: 94 | Train acc:  100.00 | loss: 0.02006 | Val acc:  62.50 | loss: 2.91375 | Time: 0m 0s\n",
            "Epoch: 95 | Train acc:  100.00 | loss: 0.01580 | Val acc:  58.93 | loss: 2.51916 | Time: 0m 0s\n",
            "Epoch: 96 | Train acc:  100.00 | loss: 0.01834 | Val acc:  53.57 | loss: 2.49427 | Time: 0m 0s\n",
            "Epoch: 97 | Train acc:  100.00 | loss: 0.01988 | Val acc:  62.50 | loss: 2.76572 | Time: 0m 0s\n",
            "Epoch: 98 | Train acc:  100.00 | loss: 0.01773 | Val acc:  62.50 | loss: 2.66130 | Time: 0m 0s\n",
            "Epoch: 99 | Train acc:  100.00 | loss: 0.01616 | Val acc:  50.00 | loss: 2.59719 | Time: 0m 0s\n",
            "Epoch: 100 | Train acc:  100.00 | loss: 0.01685 | Val acc:  50.00 | loss: 2.89868 | Time: 0m 0s\n",
            "Epoch: 101 | Train acc:  100.00 | loss: 0.01867 | Val acc:  53.57 | loss: 2.84134 | Time: 0m 0s\n",
            "Epoch: 102 | Train acc:  100.00 | loss: 0.01066 | Val acc:  57.14 | loss: 2.63699 | Time: 0m 0s\n",
            "Epoch: 103 | Train acc:  100.00 | loss: 0.01823 | Val acc:  58.93 | loss: 2.94292 | Time: 0m 0s\n",
            "Epoch: 104 | Train acc:  100.00 | loss: 0.02068 | Val acc:  48.21 | loss: 2.80393 | Time: 0m 0s\n",
            "Epoch: 105 | Train acc:  100.00 | loss: 0.01275 | Val acc:  55.36 | loss: 3.19146 | Time: 0m 0s\n",
            "Epoch: 106 | Train acc:  100.00 | loss: 0.01529 | Val acc:  67.86 | loss: 3.00338 | Time: 0m 0s\n",
            "Epoch: 107 | Train acc:  100.00 | loss: 0.01564 | Val acc:  51.79 | loss: 2.62939 | Time: 0m 0s\n",
            "Epoch: 108 | Train acc:  100.00 | loss: 0.01670 | Val acc:  50.00 | loss: 3.05446 | Time: 0m 0s\n",
            "Epoch: 109 | Train acc:  100.00 | loss: 0.01084 | Val acc:  60.71 | loss: 2.96599 | Time: 0m 0s\n",
            "Epoch: 110 | Train acc:  100.00 | loss: 0.01718 | Val acc:  57.14 | loss: 2.82075 | Time: 0m 0s\n",
            "Epoch: 111 | Train acc:  100.00 | loss: 0.01431 | Val acc:  51.79 | loss: 2.90209 | Time: 0m 0s\n",
            "Epoch: 112 | Train acc:  100.00 | loss: 0.01396 | Val acc:  53.57 | loss: 3.06986 | Time: 0m 0s\n",
            "Epoch: 113 | Train acc:  100.00 | loss: 0.01394 | Val acc:  53.57 | loss: 2.80490 | Time: 0m 0s\n",
            "Epoch: 114 | Train acc:  100.00 | loss: 0.01522 | Val acc:  53.57 | loss: 3.01715 | Time: 0m 0s\n",
            "Epoch: 115 | Train acc:  100.00 | loss: 0.00733 | Val acc:  53.57 | loss: 2.91609 | Time: 0m 0s\n",
            "Epoch: 116 | Train acc:  100.00 | loss: 0.00945 | Val acc:  60.71 | loss: 2.99792 | Time: 0m 0s\n",
            "Epoch: 117 | Train acc:  100.00 | loss: 0.01627 | Val acc:  55.36 | loss: 2.84479 | Time: 0m 0s\n",
            "Epoch: 118 | Train acc:  100.00 | loss: 0.01312 | Val acc:  53.57 | loss: 2.85694 | Time: 0m 0s\n",
            "Epoch: 119 | Train acc:  100.00 | loss: 0.00871 | Val acc:  51.79 | loss: 2.95285 | Time: 0m 0s\n",
            "Epoch: 120 | Train acc:  100.00 | loss: 0.01213 | Val acc:  53.57 | loss: 3.14440 | Time: 0m 0s\n",
            "Epoch: 121 | Train acc:  100.00 | loss: 0.00994 | Val acc:  55.36 | loss: 2.87303 | Time: 0m 0s\n",
            "Epoch: 122 | Train acc:  100.00 | loss: 0.00917 | Val acc:  57.14 | loss: 3.15119 | Time: 0m 0s\n",
            "Epoch: 123 | Train acc:  100.00 | loss: 0.00890 | Val acc:  53.57 | loss: 2.97832 | Time: 0m 0s\n",
            "Epoch: 124 | Train acc:  100.00 | loss: 0.00634 | Val acc:  57.14 | loss: 3.00186 | Time: 0m 0s\n",
            "Epoch: 125 | Train acc:  100.00 | loss: 0.01309 | Val acc:  51.79 | loss: 3.12973 | Time: 0m 0s\n",
            "Epoch: 126 | Train acc:  100.00 | loss: 0.01031 | Val acc:  53.57 | loss: 3.03953 | Time: 0m 0s\n",
            "Epoch: 127 | Train acc:  100.00 | loss: 0.01068 | Val acc:  55.36 | loss: 2.95369 | Time: 0m 0s\n",
            "Epoch: 128 | Train acc:  100.00 | loss: 0.00694 | Val acc:  55.36 | loss: 3.04649 | Time: 0m 0s\n",
            "Epoch: 129 | Train acc:  100.00 | loss: 0.00849 | Val acc:  55.36 | loss: 3.28227 | Time: 0m 0s\n",
            "Epoch: 130 | Train acc:  100.00 | loss: 0.00726 | Val acc:  53.57 | loss: 3.25457 | Time: 0m 0s\n",
            "Epoch: 131 | Train acc:  100.00 | loss: 0.00690 | Val acc:  58.93 | loss: 3.24963 | Time: 0m 0s\n",
            "Epoch: 132 | Train acc:  100.00 | loss: 0.00918 | Val acc:  53.57 | loss: 3.04667 | Time: 0m 0s\n",
            "Epoch: 133 | Train acc:  100.00 | loss: 0.00827 | Val acc:  53.57 | loss: 3.37824 | Time: 0m 0s\n",
            "Epoch: 134 | Train acc:  100.00 | loss: 0.01104 | Val acc:  55.36 | loss: 3.17021 | Time: 0m 0s\n",
            "Epoch: 135 | Train acc:  100.00 | loss: 0.00717 | Val acc:  55.36 | loss: 3.35283 | Time: 0m 0s\n",
            "Epoch: 136 | Train acc:  100.00 | loss: 0.01080 | Val acc:  55.36 | loss: 3.13595 | Time: 0m 0s\n",
            "Epoch: 137 | Train acc:  100.00 | loss: 0.00538 | Val acc:  58.93 | loss: 3.12965 | Time: 0m 0s\n",
            "Epoch: 138 | Train acc:  100.00 | loss: 0.00466 | Val acc:  55.36 | loss: 3.12025 | Time: 0m 0s\n",
            "Epoch: 139 | Train acc:  100.00 | loss: 0.00536 | Val acc:  53.57 | loss: 3.17184 | Time: 0m 0s\n",
            "Epoch: 140 | Train acc:  100.00 | loss: 0.00614 | Val acc:  53.57 | loss: 3.46423 | Time: 0m 0s\n",
            "Epoch: 141 | Train acc:  100.00 | loss: 0.00634 | Val acc:  53.57 | loss: 3.30520 | Time: 0m 0s\n",
            "Epoch: 142 | Train acc:  100.00 | loss: 0.00584 | Val acc:  57.14 | loss: 3.14756 | Time: 0m 0s\n",
            "Epoch: 143 | Train acc:  100.00 | loss: 0.00568 | Val acc:  58.93 | loss: 3.26346 | Time: 0m 0s\n",
            "Epoch: 144 | Train acc:  100.00 | loss: 0.00888 | Val acc:  53.57 | loss: 3.28911 | Time: 0m 0s\n",
            "Epoch: 145 | Train acc:  100.00 | loss: 0.00375 | Val acc:  51.79 | loss: 3.30237 | Time: 0m 0s\n",
            "Epoch: 146 | Train acc:  100.00 | loss: 0.00475 | Val acc:  60.71 | loss: 3.51606 | Time: 0m 0s\n",
            "Epoch: 147 | Train acc:  100.00 | loss: 0.00788 | Val acc:  57.14 | loss: 3.37500 | Time: 0m 0s\n",
            "Epoch: 148 | Train acc:  100.00 | loss: 0.00730 | Val acc:  60.71 | loss: 3.27644 | Time: 0m 0s\n",
            "Epoch: 149 | Train acc:  100.00 | loss: 0.00357 | Val acc:  51.79 | loss: 3.16464 | Time: 0m 0s\n",
            "Epoch: 150 | Train acc:  100.00 | loss: 0.00460 | Val acc:  50.00 | loss: 3.35399 | Time: 0m 0s\n",
            "Epoch: 151 | Train acc:  100.00 | loss: 0.00574 | Val acc:  55.36 | loss: 3.20646 | Time: 0m 0s\n",
            "Epoch: 152 | Train acc:  100.00 | loss: 0.00456 | Val acc:  55.36 | loss: 3.38032 | Time: 0m 0s\n",
            "Epoch: 153 | Train acc:  100.00 | loss: 0.00533 | Val acc:  57.14 | loss: 3.27814 | Time: 0m 0s\n",
            "Epoch: 154 | Train acc:  100.00 | loss: 0.00345 | Val acc:  57.14 | loss: 3.48535 | Time: 0m 0s\n",
            "Epoch: 155 | Train acc:  100.00 | loss: 0.00641 | Val acc:  51.79 | loss: 3.23757 | Time: 0m 0s\n",
            "Epoch: 156 | Train acc:  100.00 | loss: 0.00452 | Val acc:  53.57 | loss: 3.58953 | Time: 0m 0s\n",
            "Epoch: 157 | Train acc:  100.00 | loss: 0.00373 | Val acc:  51.79 | loss: 3.43337 | Time: 0m 0s\n",
            "Epoch: 158 | Train acc:  100.00 | loss: 0.00371 | Val acc:  57.14 | loss: 3.52801 | Time: 0m 0s\n",
            "Epoch: 159 | Train acc:  100.00 | loss: 0.00444 | Val acc:  57.14 | loss: 3.58275 | Time: 0m 0s\n",
            "Epoch: 160 | Train acc:  100.00 | loss: 0.00389 | Val acc:  48.21 | loss: 3.42954 | Time: 0m 0s\n",
            "Epoch: 161 | Train acc:  100.00 | loss: 0.00378 | Val acc:  48.21 | loss: 3.39425 | Time: 0m 0s\n",
            "Epoch: 162 | Train acc:  100.00 | loss: 0.00450 | Val acc:  53.57 | loss: 3.24463 | Time: 0m 0s\n",
            "Epoch: 163 | Train acc:  100.00 | loss: 0.00406 | Val acc:  55.36 | loss: 3.65156 | Time: 0m 0s\n",
            "Epoch: 164 | Train acc:  100.00 | loss: 0.00519 | Val acc:  53.57 | loss: 3.63379 | Time: 0m 0s\n",
            "Epoch: 165 | Train acc:  100.00 | loss: 0.00276 | Val acc:  51.79 | loss: 3.58127 | Time: 0m 0s\n",
            "Epoch: 166 | Train acc:  100.00 | loss: 0.00545 | Val acc:  50.00 | loss: 3.18178 | Time: 0m 0s\n",
            "Epoch: 167 | Train acc:  100.00 | loss: 0.00499 | Val acc:  50.00 | loss: 3.44691 | Time: 0m 0s\n",
            "Epoch: 168 | Train acc:  100.00 | loss: 0.00401 | Val acc:  57.14 | loss: 3.76479 | Time: 0m 0s\n",
            "Epoch: 169 | Train acc:  100.00 | loss: 0.00437 | Val acc:  58.93 | loss: 3.52562 | Time: 0m 0s\n",
            "Epoch: 170 | Train acc:  100.00 | loss: 0.00342 | Val acc:  53.57 | loss: 3.34850 | Time: 0m 0s\n",
            "Epoch: 171 | Train acc:  100.00 | loss: 0.00446 | Val acc:  50.00 | loss: 3.50065 | Time: 0m 0s\n",
            "Epoch: 172 | Train acc:  100.00 | loss: 0.00335 | Val acc:  53.57 | loss: 3.36173 | Time: 0m 0s\n",
            "Epoch: 173 | Train acc:  100.00 | loss: 0.00206 | Val acc:  55.36 | loss: 3.84098 | Time: 0m 0s\n",
            "Epoch: 174 | Train acc:  100.00 | loss: 0.00356 | Val acc:  50.00 | loss: 3.56367 | Time: 0m 0s\n",
            "Epoch: 175 | Train acc:  100.00 | loss: 0.00273 | Val acc:  50.00 | loss: 3.51631 | Time: 0m 0s\n",
            "Epoch: 176 | Train acc:  100.00 | loss: 0.00288 | Val acc:  55.36 | loss: 3.67313 | Time: 0m 0s\n",
            "Epoch: 177 | Train acc:  100.00 | loss: 0.00380 | Val acc:  50.00 | loss: 3.66614 | Time: 0m 0s\n",
            "Epoch: 178 | Train acc:  100.00 | loss: 0.00373 | Val acc:  51.79 | loss: 3.97562 | Time: 0m 0s\n",
            "Epoch: 179 | Train acc:  100.00 | loss: 0.00353 | Val acc:  53.57 | loss: 3.76912 | Time: 0m 0s\n",
            "Epoch: 180 | Train acc:  100.00 | loss: 0.00422 | Val acc:  55.36 | loss: 3.76099 | Time: 0m 0s\n",
            "Epoch: 181 | Train acc:  100.00 | loss: 0.00361 | Val acc:  55.36 | loss: 3.69556 | Time: 0m 0s\n",
            "Epoch: 182 | Train acc:  100.00 | loss: 0.00309 | Val acc:  53.57 | loss: 3.39604 | Time: 0m 0s\n",
            "Epoch: 183 | Train acc:  100.00 | loss: 0.00423 | Val acc:  57.14 | loss: 3.50029 | Time: 0m 0s\n",
            "Epoch: 184 | Train acc:  100.00 | loss: 0.00241 | Val acc:  55.36 | loss: 3.37585 | Time: 0m 0s\n",
            "Epoch: 185 | Train acc:  100.00 | loss: 0.00395 | Val acc:  55.36 | loss: 3.76498 | Time: 0m 0s\n",
            "Epoch: 186 | Train acc:  100.00 | loss: 0.00424 | Val acc:  50.00 | loss: 3.59717 | Time: 0m 0s\n",
            "Epoch: 187 | Train acc:  100.00 | loss: 0.00341 | Val acc:  53.57 | loss: 3.59705 | Time: 0m 0s\n",
            "Epoch: 188 | Train acc:  100.00 | loss: 0.00271 | Val acc:  46.43 | loss: 3.26864 | Time: 0m 0s\n",
            "Epoch: 189 | Train acc:  100.00 | loss: 0.00500 | Val acc:  58.93 | loss: 3.77523 | Time: 0m 0s\n",
            "Epoch: 190 | Train acc:  100.00 | loss: 0.00274 | Val acc:  60.71 | loss: 3.58634 | Time: 0m 0s\n",
            "Epoch: 191 | Train acc:  100.00 | loss: 0.00289 | Val acc:  53.57 | loss: 3.68541 | Time: 0m 0s\n",
            "Epoch: 192 | Train acc:  100.00 | loss: 0.00321 | Val acc:  44.64 | loss: 3.58769 | Time: 0m 0s\n",
            "Epoch: 193 | Train acc:  100.00 | loss: 0.00273 | Val acc:  53.57 | loss: 3.74446 | Time: 0m 0s\n",
            "Epoch: 194 | Train acc:  100.00 | loss: 0.00215 | Val acc:  50.00 | loss: 3.81205 | Time: 0m 0s\n",
            "Epoch: 195 | Train acc:  100.00 | loss: 0.00377 | Val acc:  57.14 | loss: 3.69631 | Time: 0m 0s\n",
            "Epoch: 196 | Train acc:  100.00 | loss: 0.00266 | Val acc:  53.57 | loss: 3.61842 | Time: 0m 0s\n",
            "Epoch: 197 | Train acc:  100.00 | loss: 0.00321 | Val acc:  55.36 | loss: 3.70531 | Time: 0m 0s\n",
            "Epoch: 198 | Train acc:  100.00 | loss: 0.00278 | Val acc:  55.36 | loss: 3.93368 | Time: 0m 0s\n",
            "Epoch: 199 | Train acc:  100.00 | loss: 0.00164 | Val acc:  50.00 | loss: 3.73241 | Time: 0m 0s\n"
          ]
        }
      ],
      "source": [
        "epochs = 200\n",
        "\n",
        "best_valid_loss = float('inf')\n",
        "model.train()\n",
        "\n",
        "train_losses = []\n",
        "train_accs   = []\n",
        "valid_losses = []\n",
        "valid_accs   = []\n",
        "\n",
        "\n",
        "#print(f\"Training {type(model).__name__}\")\n",
        "\n",
        "for i in range(epochs):\n",
        "    train_total = 0\n",
        "    train_correct = 0\n",
        "    val_total   = 0  \n",
        "    val_correct = 0\n",
        "    train_acc   = 0\n",
        "    val_acc     = 0\n",
        "    \n",
        "    for X_train, y_train in train_loader:\n",
        "    \n",
        "        start_time = time.time()\n",
        "        \n",
        "        X_train = X_train.float().to(device)\n",
        "        y_train = y_train.type(torch.LongTensor).to(device)\n",
        "\n",
        "        #print(X_train.shape, X_train.dtype)\n",
        "\n",
        "        yhat_train = model(X_train)\n",
        "        \n",
        "        #train acc\n",
        "        _, predicted = torch.max(yhat_train.data, 1)  #returns max value, indices\n",
        "        train_total += y_train.size(0)  #keep track of total\n",
        "        train_correct += (predicted == y_train).sum().item()  #.item() give the raw number\n",
        "        train_acc = 100 * (train_correct / train_total)\n",
        "        \n",
        "        #print(y_train.shape, y_train.dtype)\n",
        "        \n",
        "        train_loss = criterion(yhat_train, y_train)\n",
        "        optimizer.zero_grad()\n",
        "        train_loss.backward()\n",
        "        optimizer.step()\n",
        "\n",
        "        end_time = time.time()\n",
        "    \n",
        "\n",
        "        #val accuracy\n",
        "        for X_val, y_val in val_loader:\n",
        "            X_val = X_val.float().to(device)\n",
        "            y_val = y_val.type(torch.LongTensor).to(device)\n",
        "            yhat_val  = model(X_val)\n",
        "            val_loss     = criterion(yhat_val, y_val)\n",
        "            _, predicted = torch.max(yhat_val.data, 1)  #returns max value, indices\n",
        "            val_total += y_val.size(0)  #keep track of total\n",
        "            val_correct += (predicted == y_val).sum().item()  #.item() give the raw number\n",
        "            val_acc = 100 * (val_correct / val_total)\n",
        "\n",
        "        #save the best model\n",
        "        if  val_loss < best_valid_loss:\n",
        "            best_valid_loss = val_loss\n",
        "            #print(\"Model:{} saved.\".format(type(model).__name__))\n",
        "            torch.save(model.state_dict(), './models/CNN1D.pt')\n",
        "            best_model_index = i\n",
        "\n",
        "        epoch_mins, epoch_secs = epoch_time(start_time, end_time)\n",
        "\n",
        "\n",
        "                    #for plotting\n",
        "        train_losses.append(train_loss.item())\n",
        "        train_accs  .append(train_acc)\n",
        "        valid_losses.append(val_loss.item())\n",
        "        valid_accs  .append(val_acc)\n",
        "\n",
        "    print(f\"Epoch: {i:2.0f} | Train acc: {train_acc: 2.2f} | \" +\n",
        "          f\"loss: {train_loss:2.5f} | Val acc: {val_acc: 2.2f} | \" +\n",
        "          f\"loss: {val_loss:2.5f} | Time: {epoch_mins}m {epoch_secs}s\")"
      ]
    },
    {
      "cell_type": "code",
      "execution_count": 216,
      "metadata": {
        "colab": {
          "base_uri": "https://localhost:8080/"
        },
        "id": "VmumuBHOCbEi",
        "outputId": "0f6c4b7b-a7ce-4f50-8449-18c545831b8e"
      },
      "outputs": [
        {
          "data": {
            "text/plain": [
              "torch.Size([26])"
            ]
          },
          "execution_count": 216,
          "metadata": {},
          "output_type": "execute_result"
        }
      ],
      "source": [
        "y_train.shape"
      ]
    },
    {
      "cell_type": "code",
      "execution_count": 217,
      "metadata": {
        "colab": {
          "base_uri": "https://localhost:8080/"
        },
        "id": "fY_gOH2aCbHq",
        "outputId": "f9346591-240c-400d-bce9-410f1550a96a"
      },
      "outputs": [
        {
          "data": {
            "text/plain": [
              "tensor([0, 0, 0, 0, 0, 0, 0, 1, 1, 0, 0, 0, 0, 1, 1, 0, 1, 0, 0, 0, 1, 0, 0, 0,\n",
              "        0, 0, 0, 0, 0, 0, 0, 0, 0, 0], device='cuda:0')"
            ]
          },
          "execution_count": 217,
          "metadata": {},
          "output_type": "execute_result"
        }
      ],
      "source": [
        "yhat = model(X_test_tensor.float().to(device))\n",
        "#testloss = criterion(yhat, y_test_tensor.type(torch.LongTensor).to(device))\n",
        "_, predicted = torch.max(yhat.data, 1)\n",
        "\n",
        "predicted"
      ]
    },
    {
      "cell_type": "code",
      "execution_count": 218,
      "metadata": {
        "colab": {
          "base_uri": "https://localhost:8080/",
          "height": 405
        },
        "id": "LRktsDYqCoTy",
        "outputId": "4c1690b6-3cd4-45ab-ee76-0825e0dffb31"
      },
      "outputs": [
        {
          "data": {
            "text/plain": [
              "Text(0, 0.5, 'loss')"
            ]
          },
          "execution_count": 218,
          "metadata": {},
          "output_type": "execute_result"
        },
        {
          "data": {
            "image/png": "[encoded data removed]",
            "text/plain": [
              "<Figure size 720x432 with 1 Axes>"
            ]
          },
          "metadata": {
            "needs_background": "light"
          },
          "output_type": "display_data"
        }
      ],
      "source": [
        "import matplotlib.pyplot as plt\n",
        "fig = plt.figure(figsize=(10, 6))\n",
        "ax  = fig.add_subplot(1, 1, 1)\n",
        "ax.plot(train_losses, label = 'train loss')\n",
        "ax.plot(valid_losses, label = 'valid loss')\n",
        "plt.legend()\n",
        "ax.set_xlabel('updates')\n",
        "ax.set_ylabel('loss')"
      ]
    },
    {
      "cell_type": "code",
      "execution_count": 219,
      "metadata": {
        "id": "CSo4x3NBCoW7"
      },
      "outputs": [],
      "source": [
        "#train_losses"
      ]
    },
    {
      "cell_type": "code",
      "execution_count": 220,
      "metadata": {
        "colab": {
          "base_uri": "https://localhost:8080/",
          "height": 405
        },
        "id": "O2oSUb9_G7uk",
        "outputId": "33db22d0-a012-46c1-bb0d-2f86c68d6965"
      },
      "outputs": [
        {
          "data": {
            "text/plain": [
              "Text(0, 0.5, 'acc')"
            ]
          },
          "execution_count": 220,
          "metadata": {},
          "output_type": "execute_result"
        },
        {
          "data": {
            "image/png": "[encoded data removed]",
            "text/plain": [
              "<Figure size 720x432 with 1 Axes>"
            ]
          },
          "metadata": {
            "needs_background": "light"
          },
          "output_type": "display_data"
        }
      ],
      "source": [
        "fig = plt.figure(figsize=(10, 6))\n",
        "ax  = fig.add_subplot(1, 1, 1)\n",
        "ax.plot(train_accs, label = 'train acc')\n",
        "ax.plot(valid_accs, label = 'valid acc')\n",
        "plt.legend()\n",
        "ax.set_xlabel('updates')\n",
        "ax.set_ylabel('acc')"
      ]
    },
    {
      "cell_type": "code",
      "execution_count": 221,
      "metadata": {
        "colab": {
          "base_uri": "https://localhost:8080/"
        },
        "id": "GtcFliZbNejE",
        "outputId": "9529c3f8-8a44-4e7c-dd4e-9623d835a25a"
      },
      "outputs": [
        {
          "name": "stdout",
          "output_type": "stream",
          "text": [
            "Accuracy: 64.706\n"
          ]
        }
      ],
      "source": [
        "model = eegConv1d().to(device)\n",
        "model.load_state_dict(torch.load('./models/CNN1D.pt'))\n",
        "\n",
        "model.eval()\n",
        "\n",
        "with torch.no_grad():\n",
        "    total   = 0\n",
        "    correct = 0\n",
        "    for X_test, y_test in test_loader:\n",
        "        X_test = X_test.to(device)\n",
        "        y_test = y_test.to(device)\n",
        "        predictions   = model(X_test)\n",
        "        test_loss     = criterion(predictions, y_test.to(torch.long))\n",
        "        # .to(torch.int64)\n",
        "        _, predicted = torch.max(predictions, 1)  #returns max value, indices\n",
        "\n",
        "        total += y_test.size(0)\n",
        "        correct += (predicted == y_test).sum().item()  #.item() give the raw number\n",
        "        acc = 100 * (correct / total)\n",
        "    \n",
        "print(f\"Accuracy: {acc:2.3f}\")"
      ]
    },
    {
      "cell_type": "code",
      "execution_count": 221,
      "metadata": {
        "id": "9nInKL-TUcU3"
      },
      "outputs": [],
      "source": []
    },
    {
      "cell_type": "markdown",
      "metadata": {},
      "source": [
        "### Baseline model Logistic regression"
      ]
    },
    {
      "cell_type": "code",
      "execution_count": 24,
      "metadata": {},
      "outputs": [],
      "source": [
        "X_train_tensor = torch.tensor(X_train).to(torch.float32)\n",
        "y_train_tensor = torch.tensor(y_train).to(torch.float32)\n",
        "X_val_tensor = torch.tensor(X_val).to(torch.float32)\n",
        "y_val_tensor = torch.tensor(y_val).to(torch.float32)\n",
        "X_test_tensor = torch.tensor(X_test).to(torch.float32)\n",
        "y_test_tensor = torch.tensor(y_test).to(torch.float32)\n",
        "\n",
        "# Cast data to dataloader for more convenience\n",
        "training_set = TensorDataset(X_train_tensor, y_train_tensor)\n",
        "testing_set = TensorDataset(X_test_tensor, y_test_tensor)\n",
        "validation_set = TensorDataset(X_val_tensor, y_val_tensor)\n",
        "\n",
        "train_batch_size = 32\n",
        "val_batch_size = len(validation_set)\n",
        "test_batch_size = len(testing_set)\n",
        "\n",
        "train_loader = DataLoader(training_set, train_batch_size, shuffle=True)\n",
        "val_loader = DataLoader(validation_set, val_batch_size, shuffle=True)\n",
        "test_loader = DataLoader(testing_set, test_batch_size, shuffle=True)"
      ]
    },
    {
      "cell_type": "code",
      "execution_count": 25,
      "metadata": {},
      "outputs": [
        {
          "name": "stdout",
          "output_type": "stream",
          "text": [
            "Using cuda device\n"
          ]
        }
      ],
      "source": [
        "device = \"cuda\" if torch.cuda.is_available() else \"cpu\"\n",
        "print(f\"Using {device} device\")"
      ]
    },
    {
      "cell_type": "code",
      "execution_count": 26,
      "metadata": {},
      "outputs": [
        {
          "data": {
            "text/plain": [
              "(122, 16, 4500)"
            ]
          },
          "execution_count": 26,
          "metadata": {},
          "output_type": "execute_result"
        }
      ],
      "source": [
        "X_train.shape # We have 16 features"
      ]
    },
    {
      "cell_type": "code",
      "execution_count": 52,
      "metadata": {},
      "outputs": [],
      "source": [
        "# Your code\n",
        "class eegConv1d_BCE(nn.Module):\n",
        "    def __init__(self, input_size = 16, out_size=1):\n",
        "        super().__init__()\n",
        "        self.c1 = nn.Conv1d(input_size, 50, kernel_size = 3)\n",
        "        self.c2 = nn.Conv1d(50, 30, kernel_size = 3)\n",
        "        self.relu = nn.ReLU()\n",
        "        self.dropout = nn.Dropout(p=0.5)\n",
        "        self.maxpool1d = nn.MaxPool1d(2,2)\n",
        "        self.linear = nn.Linear(30 * 2247, out_size) #taking the last hidden state\n",
        "        self.sigmoid = nn.Sigmoid()\n",
        "        \n",
        "    def forward(self, seq):\n",
        "        #convo layer 8 -> 50 -> 30\n",
        "        #seq shape: (11, 50, 45000)\n",
        "        out = self.c1(seq)\n",
        "        out = self.relu(out)\n",
        "        out = self.dropout(out)\n",
        "        # out shape: (11, 50, 44998)\n",
        "        out = self.maxpool1d(out)\n",
        "        # out shape: (11, 50, 22499)\n",
        "        out = self.c2(out)\n",
        "        out = self.relu(out)\n",
        "        # out shape: (11, 30, 22496)\n",
        "        out = out.reshape(seq.size(0), -1)\n",
        "        #out shape: (30, 30*22496)\n",
        "        out = self.linear(out)\n",
        "        #out shape: (30*22496, 2)\n",
        "        out = self.sigmoid(out)\n",
        "        return out"
      ]
    },
    {
      "cell_type": "code",
      "execution_count": 53,
      "metadata": {},
      "outputs": [],
      "source": [
        "model = eegConv1d_BCE(input_size=16, out_size=1).to(device)\n",
        "#model = eegConv1d(input_size=16).to(device)\n",
        "criterion = nn.BCELoss()\n",
        "optimizer = torch.optim.Adam(model.parameters(), lr = 0.0001)"
      ]
    },
    {
      "cell_type": "code",
      "execution_count": 33,
      "metadata": {},
      "outputs": [
        {
          "name": "stdout",
          "output_type": "stream",
          "text": [
            "torch.Size([32, 16, 4500]) torch.Size([32])\n"
          ]
        }
      ],
      "source": [
        "for testx, testy in train_loader:\n",
        "    print(testx.shape, testy.shape)\n",
        "    break"
      ]
    },
    {
      "cell_type": "code",
      "execution_count": 47,
      "metadata": {},
      "outputs": [],
      "source": [
        "torch.manual_seed(42)\n",
        "torch.manual_seed(17)\n",
        "torch.manual_seed(999)\n",
        "torch.manual_seed(200)\n",
        "torch.manual_seed(99)\n",
        "model_save_path = '/root/projects/CP/Projects/Model/CNN1D_Chunking_Cleaned_BCELOSS.pt'"
      ]
    },
    {
      "cell_type": "code",
      "execution_count": 54,
      "metadata": {},
      "outputs": [],
      "source": [
        "list_seed = [42, 17, 999, 200, 99]"
      ]
    },
    {
      "cell_type": "code",
      "execution_count": 57,
      "metadata": {},
      "outputs": [
        {
          "name": "stdout",
          "output_type": "stream",
          "text": [
            "Seed 42: Training Accruacy = 63.934426229508205, Validation Accruacy 38.23529411764706, Train Loss = 0.0023301502224057913, Validation Loss = 2.9136483669281006\n",
            "Seed 17: Training Accruacy = 65.1183970856102, Validation Accruacy 41.17647058823529, Train Loss = 0.006732259877026081, Validation Loss = 2.4990642070770264\n",
            "Seed 999: Training Accruacy = 64.34426229508196, Validation Accruacy 41.17647058823529, Train Loss = 0.005154659505933523, Validation Loss = 2.7854106426239014\n",
            "Seed 200: Training Accruacy = 61.065573770491795, Validation Accruacy 51.470588235294116, Train Loss = 0.00899593811482191, Validation Loss = 2.3928701877593994\n",
            "Seed 99: Training Accruacy = 64.26229508196721, Validation Accruacy 41.17647058823529, Train Loss = 0.006725273560732603, Validation Loss = 2.370198965072632\n"
          ]
        }
      ],
      "source": [
        "from sklearn.metrics import confusion_matrix, ConfusionMatrixDisplay, accuracy_score\n",
        "\n",
        "for seed in list_seed:\n",
        "    torch.manual_seed(seed)\n",
        "    model_name = str(seed) + '_CNN1D_Chunking_Cleaned_BCELOSS.pt'\n",
        "    model_save_path = '/root/projects/CP/Projects/Model/' + model_name\n",
        "\n",
        "    for layer in model.children():\n",
        "        if hasattr(layer, 'reset_parameters'):\n",
        "            layer.reset_parameters()\n",
        "\n",
        "    epochs = 150\n",
        "    losses = []\n",
        "    val_losses = []\n",
        "    y_pred_list = []\n",
        "    y_true_list = []\n",
        "\n",
        "    val_y_pred_list = []\n",
        "    val_y_true_list = []\n",
        "\n",
        "    acc_list = []\n",
        "    val_acc_list = []\n",
        "\n",
        "    val_old_loss = 999\n",
        "\n",
        "\n",
        "    for e in range(epochs):\n",
        "        for x_train, y_train in train_loader:\n",
        "            y_train = y_train.reshape(-1, 1)\n",
        "            x_train = x_train.float().to(device)\n",
        "            y_train = y_train.to(device)\n",
        "\n",
        "            y_pred = model(x_train)\n",
        "\n",
        "            loss = criterion(y_pred, y_train.float())\n",
        "            \n",
        "            optimizer.zero_grad()\n",
        "            loss.backward()\n",
        "            optimizer.step()\n",
        "\n",
        "            \n",
        "\n",
        "            # Predict\n",
        "            pred = np.round(y_pred.detach().cpu().numpy())\n",
        "            y_var = y_train.float()\n",
        "            y_true_list.extend(y_var.tolist()) \n",
        "            y_pred_list.extend(pred.reshape(-1).tolist())\n",
        "\n",
        "            \n",
        "\n",
        "        # a neat trick to save screen space:\n",
        "        if e % 10 == 0:\n",
        "            #print(f'Training : epoch: {e:2}  loss: {loss.item():10.8f}, acc: {accuracy_score(y_true_list, y_pred_list) * 100}')\n",
        "            acc_list.append(accuracy_score(y_true_list, y_pred_list) * 100)\n",
        "            losses.append(loss)\n",
        "\n",
        "        model.eval()\n",
        "        with torch.no_grad():\n",
        "            for x_val, y_val in test_loader:\n",
        "                \n",
        "                y_val = y_val.reshape(-1, 1)\n",
        "                x_val = x_val.float().to(device)\n",
        "                y_val = y_val.to(device)\n",
        "\n",
        "                y_val_pred = model(x_val)\n",
        "\n",
        "                val_loss = criterion(y_val_pred, y_val.float())\n",
        "                \n",
        "\n",
        "                # Predict\n",
        "                pred = np.round(y_val_pred.detach().cpu().numpy())\n",
        "                y_var = y_val.float()\n",
        "                val_y_true_list.extend(y_var.tolist()) \n",
        "                val_y_pred_list.extend(pred.reshape(-1).tolist())\n",
        "\n",
        "        if val_loss < val_old_loss:\n",
        "            torch.save(model.state_dict(), model_save_path) #state_dict is simply the weights\n",
        "            train_Accruacy = accuracy_score(y_true_list, y_pred_list) * 100\n",
        "            val_Accuracy = accuracy_score(val_y_true_list, val_y_pred_list) * 100\n",
        "            val_old_loss = val_loss\n",
        "\n",
        "\n",
        "        model.train()\n",
        "\n",
        "        if e % 10 == 0:\n",
        "            #print(f'Validation : epoch: {e:2}  loss: {loss.item():10.8f}, acc: {accuracy_score(val_y_true_list, val_y_pred_list) * 100}')\n",
        "            val_losses.append(loss)\n",
        "            val_acc_list.append(accuracy_score(val_y_true_list, val_y_pred_list) * 100)\n",
        "    print(f'Seed {seed}: Training Accruacy = {train_Accruacy}, Validation Accruacy {val_Accuracy}, Train Loss = {loss}, Validation Loss = {val_loss}')\n",
        "\n"
      ]
    },
    {
      "cell_type": "code",
      "execution_count": 62,
      "metadata": {},
      "outputs": [
        {
          "data": {
            "text/plain": [
              "61.76470588235294"
            ]
          },
          "execution_count": 62,
          "metadata": {},
          "output_type": "execute_result"
        }
      ],
      "source": [
        "# Testing using Seed 200 as it seem to be the best\n",
        "s200_path = '/root/projects/CP/Projects/Model/200_CNN1D_Chunking_Cleaned_BCELOSS.pt'\n",
        "model = eegConv1d_BCE(input_size=16, out_size=1).to(device)\n",
        "model.load_state_dict(torch.load(s200_path))\n",
        "model.eval()\n",
        "result = model(X_test_tensor.to(device))\n",
        "\n",
        "yhat = np.round(result.detach().cpu().numpy())\n",
        "\n",
        "accuracy_score(y_test, yhat) * 100"
      ]
    }
  ],
  "metadata": {
    "accelerator": "GPU",
    "colab": {
      "authorship_tag": "ABX9TyMqD1rtIeiBVuns3I91sjZz",
      "include_colab_link": true,
      "provenance": []
    },
    "gpuClass": "standard",
    "kernelspec": {
      "display_name": "Python 3.10.6 64-bit",
      "language": "python",
      "name": "python3"
    },
    "language_info": {
      "codemirror_mode": {
        "name": "ipython",
        "version": 3
      },
      "file_extension": ".py",
      "mimetype": "text/x-python",
      "name": "python",
      "nbconvert_exporter": "python",
      "pygments_lexer": "ipython3",
      "version": "3.10.6"
    },
    "vscode": {
      "interpreter": {
        "hash": "916dbcbb3f70747c44a77c7bcd40155683ae19c65e1c03b4aa3499c5328201f1"
      }
    }
  },
  "nbformat": 4,
  "nbformat_minor": 0
}
