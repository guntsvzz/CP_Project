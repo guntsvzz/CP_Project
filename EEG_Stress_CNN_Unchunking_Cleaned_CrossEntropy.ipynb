{
  "nbformat": 4,
  "nbformat_minor": 0,
  "metadata": {
    "colab": {
      "provenance": [],
      "collapsed_sections": [
        "hOl5sDXo_C_C"
      ],
      "include_colab_link": true
    },
    "kernelspec": {
      "name": "python3",
      "display_name": "Python 3"
    },
    "language_info": {
      "name": "python"
    },
    "accelerator": "GPU",
    "gpuClass": "standard"
  },
  "cells": [
    {
      "cell_type": "markdown",
      "metadata": {
        "id": "view-in-github",
        "colab_type": "text"
      },
      "source": [
        "<a href=\"https://colab.research.google.com/github/guntsvzz/CP_Project/blob/main/EEG_Stress_CNN_Unchunking_Cleaned_CrossEntropy.ipynb\" target=\"_parent\"><img src=\"https://colab.research.google.com/assets/colab-badge.svg\" alt=\"Open In Colab\"/></a>"
      ]
    },
    {
      "cell_type": "code",
      "source": [
        "!pip install --upgrade --no-cache-dir gdown"
      ],
      "metadata": {
        "colab": {
          "base_uri": "https://localhost:8080/"
        },
        "id": "3kkVXPs1iOqI",
        "outputId": "c6570ea5-f33a-4b75-8a83-60f073be22a9"
      },
      "execution_count": 9,
      "outputs": [
        {
          "output_type": "stream",
          "name": "stdout",
          "text": [
            "Looking in indexes: https://pypi.org/simple, https://us-python.pkg.dev/colab-wheels/public/simple/\n",
            "Requirement already satisfied: gdown in /usr/local/lib/python3.7/dist-packages (4.5.4)\n",
            "Requirement already satisfied: requests[socks] in /usr/local/lib/python3.7/dist-packages (from gdown) (2.23.0)\n",
            "Requirement already satisfied: six in /usr/local/lib/python3.7/dist-packages (from gdown) (1.15.0)\n",
            "Requirement already satisfied: filelock in /usr/local/lib/python3.7/dist-packages (from gdown) (3.8.0)\n",
            "Requirement already satisfied: beautifulsoup4 in /usr/local/lib/python3.7/dist-packages (from gdown) (4.6.3)\n",
            "Requirement already satisfied: tqdm in /usr/local/lib/python3.7/dist-packages (from gdown) (4.64.1)\n",
            "Requirement already satisfied: idna<3,>=2.5 in /usr/local/lib/python3.7/dist-packages (from requests[socks]->gdown) (2.10)\n",
            "Requirement already satisfied: urllib3!=1.25.0,!=1.25.1,<1.26,>=1.21.1 in /usr/local/lib/python3.7/dist-packages (from requests[socks]->gdown) (1.24.3)\n",
            "Requirement already satisfied: certifi>=2017.4.17 in /usr/local/lib/python3.7/dist-packages (from requests[socks]->gdown) (2022.9.24)\n",
            "Requirement already satisfied: chardet<4,>=3.0.2 in /usr/local/lib/python3.7/dist-packages (from requests[socks]->gdown) (3.0.4)\n",
            "Requirement already satisfied: PySocks!=1.5.7,>=1.5.6 in /usr/local/lib/python3.7/dist-packages (from requests[socks]->gdown) (1.7.1)\n"
          ]
        }
      ]
    },
    {
      "cell_type": "code",
      "source": [
        "!gdown --id 1KZjrJfUrB_k1g8VUsohNpek_hvWNqGcr"
      ],
      "metadata": {
        "colab": {
          "base_uri": "https://localhost:8080/"
        },
        "id": "_3AnMbRCkb0E",
        "outputId": "c777ef56-e599-4987-877f-a50ecf02dee1"
      },
      "execution_count": 33,
      "outputs": [
        {
          "output_type": "stream",
          "name": "stdout",
          "text": [
            "/usr/local/lib/python3.7/dist-packages/gdown/cli.py:125: FutureWarning: Option `--id` was deprecated in version 4.3.1 and will be removed in 5.0. You don't need to pass it anymore to use a file ID.\n",
            "  category=FutureWarning,\n",
            "Downloading...\n",
            "From: https://drive.google.com/uc?id=1KZjrJfUrB_k1g8VUsohNpek_hvWNqGcr\n",
            "To: /content/Clean_signal.zip\n",
            "100% 113M/113M [00:00<00:00, 214MB/s] \n"
          ]
        }
      ]
    },
    {
      "cell_type": "code",
      "source": [
        "!unzip '/content/Clean_signal.zip'\n",
        "#!mv '/content/clean_exp16' 'Cleaned_signal'"
      ],
      "metadata": {
        "colab": {
          "base_uri": "https://localhost:8080/"
        },
        "id": "fY30dqh8kjSM",
        "outputId": "1495aad7-4385-43d7-a66c-3c03edf2ba6b"
      },
      "execution_count": 34,
      "outputs": [
        {
          "output_type": "stream",
          "name": "stdout",
          "text": [
            "Archive:  /content/Clean_signal.zip\n",
            "replace __MACOSX/._Clean_signal? [y]es, [n]o, [A]ll, [N]one, [r]ename: A\n",
            "  inflating: __MACOSX/._Clean_signal  \n",
            "  inflating: Clean_signal/PSS10 - Sheet1.csv  \n",
            "  inflating: __MACOSX/Clean_signal/._PSS10 - Sheet1.csv  \n",
            "  inflating: Clean_signal/clean_exp08.csv  \n",
            "  inflating: __MACOSX/Clean_signal/._clean_exp08.csv  \n",
            "  inflating: Clean_signal/clean_exp09.csv  \n",
            "  inflating: __MACOSX/Clean_signal/._clean_exp09.csv  \n",
            "  inflating: Clean_signal/clean_exp01.csv  \n",
            "  inflating: __MACOSX/Clean_signal/._clean_exp01.csv  \n",
            "  inflating: Clean_signal/clean_exp15.csv  \n",
            "  inflating: __MACOSX/Clean_signal/._clean_exp15.csv  \n",
            "  inflating: Clean_signal/clean_exp14.csv  \n",
            "  inflating: __MACOSX/Clean_signal/._clean_exp14.csv  \n",
            "  inflating: Clean_signal/clean_exp16.csv  \n",
            "  inflating: __MACOSX/Clean_signal/._clean_exp16.csv  \n",
            "  inflating: Clean_signal/clean_exp02.csv  \n",
            "  inflating: __MACOSX/Clean_signal/._clean_exp02.csv  \n",
            "  inflating: Clean_signal/clean_exp03.csv  \n",
            "  inflating: __MACOSX/Clean_signal/._clean_exp03.csv  \n",
            "  inflating: Clean_signal/clean_exp17.csv  \n",
            "  inflating: __MACOSX/Clean_signal/._clean_exp17.csv  \n",
            "  inflating: Clean_signal/clean_exp13.csv  \n",
            "  inflating: __MACOSX/Clean_signal/._clean_exp13.csv  \n",
            "  inflating: Clean_signal/clean_exp07.csv  \n",
            "  inflating: __MACOSX/Clean_signal/._clean_exp07.csv  \n",
            "  inflating: Clean_signal/clean_exp06.csv  \n",
            "  inflating: __MACOSX/Clean_signal/._clean_exp06.csv  \n",
            "  inflating: Clean_signal/clean_exp12.csv  \n",
            "  inflating: __MACOSX/Clean_signal/._clean_exp12.csv  \n",
            "  inflating: Clean_signal/clean_exp04.csv  \n",
            "  inflating: __MACOSX/Clean_signal/._clean_exp04.csv  \n",
            "  inflating: Clean_signal/clean_exp10.csv  \n",
            "  inflating: __MACOSX/Clean_signal/._clean_exp10.csv  \n",
            "  inflating: Clean_signal/clean_exp11.csv  \n",
            "  inflating: __MACOSX/Clean_signal/._clean_exp11.csv  \n",
            "  inflating: Clean_signal/clean_exp05.csv  \n",
            "  inflating: __MACOSX/Clean_signal/._clean_exp05.csv  \n"
          ]
        }
      ]
    },
    {
      "cell_type": "code",
      "source": [
        "\n",
        "pip install mne"
      ],
      "metadata": {
        "colab": {
          "base_uri": "https://localhost:8080/"
        },
        "id": "Ip0Qx71RiRak",
        "outputId": "ff0b6c24-ee46-4681-a0f5-2a29791174f6"
      },
      "execution_count": 35,
      "outputs": [
        {
          "output_type": "stream",
          "name": "stdout",
          "text": [
            "Looking in indexes: https://pypi.org/simple, https://us-python.pkg.dev/colab-wheels/public/simple/\n",
            "Requirement already satisfied: mne in /usr/local/lib/python3.7/dist-packages (1.2.2)\n",
            "Requirement already satisfied: tqdm in /usr/local/lib/python3.7/dist-packages (from mne) (4.64.1)\n",
            "Requirement already satisfied: matplotlib in /usr/local/lib/python3.7/dist-packages (from mne) (3.2.2)\n",
            "Requirement already satisfied: jinja2 in /usr/local/lib/python3.7/dist-packages (from mne) (2.11.3)\n",
            "Requirement already satisfied: pooch>=1.5 in /usr/local/lib/python3.7/dist-packages (from mne) (1.6.0)\n",
            "Requirement already satisfied: packaging in /usr/local/lib/python3.7/dist-packages (from mne) (21.3)\n",
            "Requirement already satisfied: numpy>=1.15.4 in /usr/local/lib/python3.7/dist-packages (from mne) (1.21.6)\n",
            "Requirement already satisfied: decorator in /usr/local/lib/python3.7/dist-packages (from mne) (4.4.2)\n",
            "Requirement already satisfied: scipy>=1.1.0 in /usr/local/lib/python3.7/dist-packages (from mne) (1.7.3)\n",
            "Requirement already satisfied: requests>=2.19.0 in /usr/local/lib/python3.7/dist-packages (from pooch>=1.5->mne) (2.23.0)\n",
            "Requirement already satisfied: appdirs>=1.3.0 in /usr/local/lib/python3.7/dist-packages (from pooch>=1.5->mne) (1.4.4)\n",
            "Requirement already satisfied: pyparsing!=3.0.5,>=2.0.2 in /usr/local/lib/python3.7/dist-packages (from packaging->mne) (3.0.9)\n",
            "Requirement already satisfied: chardet<4,>=3.0.2 in /usr/local/lib/python3.7/dist-packages (from requests>=2.19.0->pooch>=1.5->mne) (3.0.4)\n",
            "Requirement already satisfied: idna<3,>=2.5 in /usr/local/lib/python3.7/dist-packages (from requests>=2.19.0->pooch>=1.5->mne) (2.10)\n",
            "Requirement already satisfied: urllib3!=1.25.0,!=1.25.1,<1.26,>=1.21.1 in /usr/local/lib/python3.7/dist-packages (from requests>=2.19.0->pooch>=1.5->mne) (1.24.3)\n",
            "Requirement already satisfied: certifi>=2017.4.17 in /usr/local/lib/python3.7/dist-packages (from requests>=2.19.0->pooch>=1.5->mne) (2022.9.24)\n",
            "Requirement already satisfied: MarkupSafe>=0.23 in /usr/local/lib/python3.7/dist-packages (from jinja2->mne) (2.0.1)\n",
            "Requirement already satisfied: cycler>=0.10 in /usr/local/lib/python3.7/dist-packages (from matplotlib->mne) (0.11.0)\n",
            "Requirement already satisfied: kiwisolver>=1.0.1 in /usr/local/lib/python3.7/dist-packages (from matplotlib->mne) (1.4.4)\n",
            "Requirement already satisfied: python-dateutil>=2.1 in /usr/local/lib/python3.7/dist-packages (from matplotlib->mne) (2.8.2)\n",
            "Requirement already satisfied: typing-extensions in /usr/local/lib/python3.7/dist-packages (from kiwisolver>=1.0.1->matplotlib->mne) (4.1.1)\n",
            "Requirement already satisfied: six>=1.5 in /usr/local/lib/python3.7/dist-packages (from python-dateutil>=2.1->matplotlib->mne) (1.15.0)\n"
          ]
        }
      ]
    },
    {
      "cell_type": "code",
      "source": [
        "pip install components"
      ],
      "metadata": {
        "colab": {
          "base_uri": "https://localhost:8080/"
        },
        "id": "3GxiHrcZiRdm",
        "outputId": "c1cd3e62-e9a4-407d-ee23-e7686590f995"
      },
      "execution_count": 36,
      "outputs": [
        {
          "output_type": "stream",
          "name": "stdout",
          "text": [
            "Looking in indexes: https://pypi.org/simple, https://us-python.pkg.dev/colab-wheels/public/simple/\n",
            "Requirement already satisfied: components in /usr/local/lib/python3.7/dist-packages (1.2.8)\n"
          ]
        }
      ]
    },
    {
      "cell_type": "code",
      "source": [
        "import pickle\n",
        "import numpy as np\n",
        "import os\n",
        "import mne\n",
        "import pandas as pd\n",
        "pickle.format_version\n",
        "\n",
        "import torch\n",
        "import torch.nn as nn\n",
        "import torch.nn.functional as F\n",
        "from torchvision import datasets, transforms  \n",
        "from torch.utils.data import DataLoader, Dataset  \n",
        "from torch.utils.data import TensorDataset\n",
        "from torch.autograd import Variable\n",
        "\n",
        "import pandas as pd\n",
        "from sklearn.metrics import confusion_matrix, ConfusionMatrixDisplay\n",
        "import matplotlib.pyplot as plt\n",
        "\n",
        "from sklearn.model_selection import train_test_split\n",
        "\n",
        "# setting seed so that splitting process and training process can be reproduce\n",
        "torch.manual_seed(42)"
      ],
      "metadata": {
        "colab": {
          "base_uri": "https://localhost:8080/"
        },
        "id": "mY4wJP1-iRgP",
        "outputId": "400984f6-5430-4355-eb61-3c82754b7fe4"
      },
      "execution_count": 106,
      "outputs": [
        {
          "output_type": "execute_result",
          "data": {
            "text/plain": [
              "<torch._C.Generator at 0x7f30f56739f0>"
            ]
          },
          "metadata": {},
          "execution_count": 106
        }
      ]
    },
    {
      "cell_type": "markdown",
      "source": [
        "# ETL"
      ],
      "metadata": {
        "id": "7F96WFs9ihQW"
      }
    },
    {
      "cell_type": "code",
      "source": [
        "import os\n",
        "main_path = os.getcwd()\n",
        "filename = os.listdir(main_path + '/Clean_signal/')"
      ],
      "metadata": {
        "id": "1aQoZm4jibEr"
      },
      "execution_count": 107,
      "outputs": []
    },
    {
      "cell_type": "code",
      "source": [
        "filename = ['clean_exp01.csv',\n",
        " 'clean_exp02.csv',\n",
        " 'clean_exp03.csv',\n",
        " 'clean_exp04.csv',\n",
        " 'clean_exp05.csv',\n",
        " 'clean_exp06.csv',\n",
        " 'clean_exp07.csv',\n",
        " 'clean_exp08.csv',\n",
        " 'clean_exp09.csv',\n",
        " 'clean_exp10.csv',\n",
        " 'clean_exp11.csv',\n",
        " 'clean_exp12.csv',\n",
        " 'clean_exp13.csv',\n",
        " 'clean_exp14.csv',\n",
        " 'clean_exp15.csv',\n",
        " 'clean_exp16.csv',\n",
        " 'clean_exp17.csv']"
      ],
      "metadata": {
        "id": "Z49O-2H2k6p5"
      },
      "execution_count": 108,
      "outputs": []
    },
    {
      "cell_type": "code",
      "source": [
        "all_file_path = main_path + '/Clean_signal/'\n",
        "X_list = list()\n",
        "for file in filename:\n",
        "    file_path = all_file_path + file\n",
        "    df = pd.read_csv(file_path, index_col=None)\n",
        "    df = df.loc[:, ~df.columns.str.contains('^Unnamed')]\n",
        "    X_list.append(df) "
      ],
      "metadata": {
        "id": "7N78RJfiibHn"
      },
      "execution_count": 109,
      "outputs": []
    },
    {
      "cell_type": "code",
      "source": [
        "df.head()"
      ],
      "metadata": {
        "colab": {
          "base_uri": "https://localhost:8080/",
          "height": 270
        },
        "id": "eGs1ADkribKx",
        "outputId": "60b49c6a-4899-4cef-d6de-79b3a1e6f261"
      },
      "execution_count": 110,
      "outputs": [
        {
          "output_type": "execute_result",
          "data": {
            "text/plain": [
              "            Fp1           Fp2            F7            F3            F4  \\\n",
              "0  1.558541e-13  1.202787e-12 -1.822815e-12 -6.666149e-13 -1.524659e-14   \n",
              "1 -2.495299e+02 -2.591266e+02 -2.392414e+02 -2.472481e+02 -1.342918e+02   \n",
              "2 -1.022146e+02 -1.071695e+02 -8.913196e+01 -9.320015e+01 -7.188064e+01   \n",
              "3 -1.894707e+02 -1.985657e+02 -1.666088e+02 -1.773347e+02 -1.206077e+02   \n",
              "4 -1.976600e+02 -2.088452e+02 -1.691085e+02 -1.829386e+02 -1.219805e+02   \n",
              "\n",
              "             F8            T3            C3            C4            T4  \\\n",
              "0 -9.656176e-14  1.778769e-13 -7.318365e-13 -3.218725e-14  6.776264e-15   \n",
              "1 -2.469675e+02 -2.368676e+02 -2.375381e+02  8.964020e+01  9.114929e+01   \n",
              "2 -9.669399e+01 -7.360927e+01 -7.934479e+01 -8.483305e+00 -3.966042e+00   \n",
              "3 -1.861381e+02 -1.566157e+02 -1.616160e+02  1.053098e+01  1.359837e+01   \n",
              "4 -1.981792e+02 -1.664133e+02 -1.711082e+02  5.430791e+00  5.540176e+00   \n",
              "\n",
              "             T5            P3            P4            T6            O1  \\\n",
              "0  2.463172e-12 -5.293956e-13  1.679243e-13  2.774456e-12 -3.303428e-13   \n",
              "1  9.105020e+01  7.684951e+01  1.383037e+02 -4.155527e+02 -3.083336e+02   \n",
              "2  6.921319e-02 -5.860820e+00  6.340924e+00 -1.006591e+02 -7.385641e+01   \n",
              "3  2.570865e+01  1.375228e+01  4.319836e+01 -2.383818e+02 -1.751361e+02   \n",
              "4  2.039321e+01  9.522058e+00  4.153111e+01 -2.713544e+02 -1.985949e+02   \n",
              "\n",
              "             O2  \n",
              "0  2.217109e-13  \n",
              "1 -1.145710e+02  \n",
              "2 -3.186257e+01  \n",
              "3 -7.472951e+01  \n",
              "4 -9.082392e+01  "
            ],
            "text/html": [
              "\n",
              "  <div id=\"df-c9f57d61-1e54-43e8-8227-771613e8a3b2\">\n",
              "    <div class=\"colab-df-container\">\n",
              "      <div>\n",
              "<style scoped>\n",
              "    .dataframe tbody tr th:only-of-type {\n",
              "        vertical-align: middle;\n",
              "    }\n",
              "\n",
              "    .dataframe tbody tr th {\n",
              "        vertical-align: top;\n",
              "    }\n",
              "\n",
              "    .dataframe thead th {\n",
              "        text-align: right;\n",
              "    }\n",
              "</style>\n",
              "<table border=\"1\" class=\"dataframe\">\n",
              "  <thead>\n",
              "    <tr style=\"text-align: right;\">\n",
              "      <th></th>\n",
              "      <th>Fp1</th>\n",
              "      <th>Fp2</th>\n",
              "      <th>F7</th>\n",
              "      <th>F3</th>\n",
              "      <th>F4</th>\n",
              "      <th>F8</th>\n",
              "      <th>T3</th>\n",
              "      <th>C3</th>\n",
              "      <th>C4</th>\n",
              "      <th>T4</th>\n",
              "      <th>T5</th>\n",
              "      <th>P3</th>\n",
              "      <th>P4</th>\n",
              "      <th>T6</th>\n",
              "      <th>O1</th>\n",
              "      <th>O2</th>\n",
              "    </tr>\n",
              "  </thead>\n",
              "  <tbody>\n",
              "    <tr>\n",
              "      <th>0</th>\n",
              "      <td>1.558541e-13</td>\n",
              "      <td>1.202787e-12</td>\n",
              "      <td>-1.822815e-12</td>\n",
              "      <td>-6.666149e-13</td>\n",
              "      <td>-1.524659e-14</td>\n",
              "      <td>-9.656176e-14</td>\n",
              "      <td>1.778769e-13</td>\n",
              "      <td>-7.318365e-13</td>\n",
              "      <td>-3.218725e-14</td>\n",
              "      <td>6.776264e-15</td>\n",
              "      <td>2.463172e-12</td>\n",
              "      <td>-5.293956e-13</td>\n",
              "      <td>1.679243e-13</td>\n",
              "      <td>2.774456e-12</td>\n",
              "      <td>-3.303428e-13</td>\n",
              "      <td>2.217109e-13</td>\n",
              "    </tr>\n",
              "    <tr>\n",
              "      <th>1</th>\n",
              "      <td>-2.495299e+02</td>\n",
              "      <td>-2.591266e+02</td>\n",
              "      <td>-2.392414e+02</td>\n",
              "      <td>-2.472481e+02</td>\n",
              "      <td>-1.342918e+02</td>\n",
              "      <td>-2.469675e+02</td>\n",
              "      <td>-2.368676e+02</td>\n",
              "      <td>-2.375381e+02</td>\n",
              "      <td>8.964020e+01</td>\n",
              "      <td>9.114929e+01</td>\n",
              "      <td>9.105020e+01</td>\n",
              "      <td>7.684951e+01</td>\n",
              "      <td>1.383037e+02</td>\n",
              "      <td>-4.155527e+02</td>\n",
              "      <td>-3.083336e+02</td>\n",
              "      <td>-1.145710e+02</td>\n",
              "    </tr>\n",
              "    <tr>\n",
              "      <th>2</th>\n",
              "      <td>-1.022146e+02</td>\n",
              "      <td>-1.071695e+02</td>\n",
              "      <td>-8.913196e+01</td>\n",
              "      <td>-9.320015e+01</td>\n",
              "      <td>-7.188064e+01</td>\n",
              "      <td>-9.669399e+01</td>\n",
              "      <td>-7.360927e+01</td>\n",
              "      <td>-7.934479e+01</td>\n",
              "      <td>-8.483305e+00</td>\n",
              "      <td>-3.966042e+00</td>\n",
              "      <td>6.921319e-02</td>\n",
              "      <td>-5.860820e+00</td>\n",
              "      <td>6.340924e+00</td>\n",
              "      <td>-1.006591e+02</td>\n",
              "      <td>-7.385641e+01</td>\n",
              "      <td>-3.186257e+01</td>\n",
              "    </tr>\n",
              "    <tr>\n",
              "      <th>3</th>\n",
              "      <td>-1.894707e+02</td>\n",
              "      <td>-1.985657e+02</td>\n",
              "      <td>-1.666088e+02</td>\n",
              "      <td>-1.773347e+02</td>\n",
              "      <td>-1.206077e+02</td>\n",
              "      <td>-1.861381e+02</td>\n",
              "      <td>-1.566157e+02</td>\n",
              "      <td>-1.616160e+02</td>\n",
              "      <td>1.053098e+01</td>\n",
              "      <td>1.359837e+01</td>\n",
              "      <td>2.570865e+01</td>\n",
              "      <td>1.375228e+01</td>\n",
              "      <td>4.319836e+01</td>\n",
              "      <td>-2.383818e+02</td>\n",
              "      <td>-1.751361e+02</td>\n",
              "      <td>-7.472951e+01</td>\n",
              "    </tr>\n",
              "    <tr>\n",
              "      <th>4</th>\n",
              "      <td>-1.976600e+02</td>\n",
              "      <td>-2.088452e+02</td>\n",
              "      <td>-1.691085e+02</td>\n",
              "      <td>-1.829386e+02</td>\n",
              "      <td>-1.219805e+02</td>\n",
              "      <td>-1.981792e+02</td>\n",
              "      <td>-1.664133e+02</td>\n",
              "      <td>-1.711082e+02</td>\n",
              "      <td>5.430791e+00</td>\n",
              "      <td>5.540176e+00</td>\n",
              "      <td>2.039321e+01</td>\n",
              "      <td>9.522058e+00</td>\n",
              "      <td>4.153111e+01</td>\n",
              "      <td>-2.713544e+02</td>\n",
              "      <td>-1.985949e+02</td>\n",
              "      <td>-9.082392e+01</td>\n",
              "    </tr>\n",
              "  </tbody>\n",
              "</table>\n",
              "</div>\n",
              "      <button class=\"colab-df-convert\" onclick=\"convertToInteractive('df-c9f57d61-1e54-43e8-8227-771613e8a3b2')\"\n",
              "              title=\"Convert this dataframe to an interactive table.\"\n",
              "              style=\"display:none;\">\n",
              "        \n",
              "  <svg xmlns=\"http://www.w3.org/2000/svg\" height=\"24px\"viewBox=\"0 0 24 24\"\n",
              "       width=\"24px\">\n",
              "    <path d=\"M0 0h24v24H0V0z\" fill=\"none\"/>\n",
              "    <path d=\"M18.56 5.44l.94 2.06.94-2.06 2.06-.94-2.06-.94-.94-2.06-.94 2.06-2.06.94zm-11 1L8.5 8.5l.94-2.06 2.06-.94-2.06-.94L8.5 2.5l-.94 2.06-2.06.94zm10 10l.94 2.06.94-2.06 2.06-.94-2.06-.94-.94-2.06-.94 2.06-2.06.94z\"/><path d=\"M17.41 7.96l-1.37-1.37c-.4-.4-.92-.59-1.43-.59-.52 0-1.04.2-1.43.59L10.3 9.45l-7.72 7.72c-.78.78-.78 2.05 0 2.83L4 21.41c.39.39.9.59 1.41.59.51 0 1.02-.2 1.41-.59l7.78-7.78 2.81-2.81c.8-.78.8-2.07 0-2.86zM5.41 20L4 18.59l7.72-7.72 1.47 1.35L5.41 20z\"/>\n",
              "  </svg>\n",
              "      </button>\n",
              "      \n",
              "  <style>\n",
              "    .colab-df-container {\n",
              "      display:flex;\n",
              "      flex-wrap:wrap;\n",
              "      gap: 12px;\n",
              "    }\n",
              "\n",
              "    .colab-df-convert {\n",
              "      background-color: #E8F0FE;\n",
              "      border: none;\n",
              "      border-radius: 50%;\n",
              "      cursor: pointer;\n",
              "      display: none;\n",
              "      fill: #1967D2;\n",
              "      height: 32px;\n",
              "      padding: 0 0 0 0;\n",
              "      width: 32px;\n",
              "    }\n",
              "\n",
              "    .colab-df-convert:hover {\n",
              "      background-color: #E2EBFA;\n",
              "      box-shadow: 0px 1px 2px rgba(60, 64, 67, 0.3), 0px 1px 3px 1px rgba(60, 64, 67, 0.15);\n",
              "      fill: #174EA6;\n",
              "    }\n",
              "\n",
              "    [theme=dark] .colab-df-convert {\n",
              "      background-color: #3B4455;\n",
              "      fill: #D2E3FC;\n",
              "    }\n",
              "\n",
              "    [theme=dark] .colab-df-convert:hover {\n",
              "      background-color: #434B5C;\n",
              "      box-shadow: 0px 1px 3px 1px rgba(0, 0, 0, 0.15);\n",
              "      filter: drop-shadow(0px 1px 2px rgba(0, 0, 0, 0.3));\n",
              "      fill: #FFFFFF;\n",
              "    }\n",
              "  </style>\n",
              "\n",
              "      <script>\n",
              "        const buttonEl =\n",
              "          document.querySelector('#df-c9f57d61-1e54-43e8-8227-771613e8a3b2 button.colab-df-convert');\n",
              "        buttonEl.style.display =\n",
              "          google.colab.kernel.accessAllowed ? 'block' : 'none';\n",
              "\n",
              "        async function convertToInteractive(key) {\n",
              "          const element = document.querySelector('#df-c9f57d61-1e54-43e8-8227-771613e8a3b2');\n",
              "          const dataTable =\n",
              "            await google.colab.kernel.invokeFunction('convertToInteractive',\n",
              "                                                     [key], {});\n",
              "          if (!dataTable) return;\n",
              "\n",
              "          const docLinkHtml = 'Like what you see? Visit the ' +\n",
              "            '<a target=\"_blank\" href=https://colab.research.google.com/notebooks/data_table.ipynb>data table notebook</a>'\n",
              "            + ' to learn more about interactive tables.';\n",
              "          element.innerHTML = '';\n",
              "          dataTable['output_type'] = 'display_data';\n",
              "          await google.colab.output.renderOutput(dataTable, element);\n",
              "          const docLink = document.createElement('div');\n",
              "          docLink.innerHTML = docLinkHtml;\n",
              "          element.appendChild(docLink);\n",
              "        }\n",
              "      </script>\n",
              "    </div>\n",
              "  </div>\n",
              "  "
            ]
          },
          "metadata": {},
          "execution_count": 110
        }
      ]
    },
    {
      "cell_type": "code",
      "source": [
        "X = np.array(X_list)\n",
        "X.shape \n",
        "#17 people \n",
        "#250 hz * 60 secs * 3 min\n",
        "#16 channels"
      ],
      "metadata": {
        "colab": {
          "base_uri": "https://localhost:8080/"
        },
        "id": "Tbl_IKDCjbk5",
        "outputId": "479b1557-7da0-4855-b745-8cb056854ba1"
      },
      "execution_count": 111,
      "outputs": [
        {
          "output_type": "execute_result",
          "data": {
            "text/plain": [
              "(17, 45000, 16)"
            ]
          },
          "metadata": {},
          "execution_count": 111
        }
      ]
    },
    {
      "cell_type": "code",
      "source": [
        "# Reshape\n",
        "X = np.transpose(X, (0, 2, 1))\n",
        "X.shape"
      ],
      "metadata": {
        "colab": {
          "base_uri": "https://localhost:8080/"
        },
        "id": "kFU5ZNkkinvr",
        "outputId": "fbe690a4-feac-4fce-85ee-88ec27a91657"
      },
      "execution_count": 112,
      "outputs": [
        {
          "output_type": "execute_result",
          "data": {
            "text/plain": [
              "(17, 16, 45000)"
            ]
          },
          "metadata": {},
          "execution_count": 112
        }
      ]
    },
    {
      "cell_type": "code",
      "source": [
        "y_path = '/content/Clean_signal/PSS10 - Sheet1.csv'\n",
        "df = pd.read_csv(y_path)\n",
        "y = np.array(df['label'])\n",
        "y"
      ],
      "metadata": {
        "colab": {
          "base_uri": "https://localhost:8080/"
        },
        "id": "58PB1ZyqlLL9",
        "outputId": "f5b67477-b3e0-4dcf-f0af-986c987df20b"
      },
      "execution_count": 113,
      "outputs": [
        {
          "output_type": "execute_result",
          "data": {
            "text/plain": [
              "array([1, 1, 1, 0, 0, 0, 0, 1, 0, 0, 0, 1, 0, 0, 0, 1, 1])"
            ]
          },
          "metadata": {},
          "execution_count": 113
        }
      ]
    },
    {
      "cell_type": "markdown",
      "source": [
        "# Split Data"
      ],
      "metadata": {
        "id": "GOBGZtryk_k7"
      }
    },
    {
      "cell_type": "code",
      "source": [
        "X_train, X_test, y_train, y_test = train_test_split(X, y, test_size=0.2, shuffle = False, stratify = None)\n",
        "\n",
        "print(X_train.shape, X_test.shape, y_train.shape, y_test.shape)"
      ],
      "metadata": {
        "colab": {
          "base_uri": "https://localhost:8080/"
        },
        "id": "xI2G9Bbsinyi",
        "outputId": "6ee6cf2c-cfa8-4da8-d6bd-f155b0a89011"
      },
      "execution_count": 114,
      "outputs": [
        {
          "output_type": "stream",
          "name": "stdout",
          "text": [
            "(13, 16, 45000) (4, 16, 45000) (13,) (4,)\n"
          ]
        }
      ]
    },
    {
      "cell_type": "code",
      "source": [
        "#print(X_test)"
      ],
      "metadata": {
        "id": "qYeicq65in1f"
      },
      "execution_count": 115,
      "outputs": []
    },
    {
      "cell_type": "code",
      "source": [
        "X_train, X_val, y_train, y_val = train_test_split(X_train, y_train, test_size=0.1, random_state=999)\n",
        "print(X_train.shape, X_val.shape, y_train.shape, y_val.shape)"
      ],
      "metadata": {
        "colab": {
          "base_uri": "https://localhost:8080/"
        },
        "id": "a9FqFv4sni7e",
        "outputId": "7d62362a-f66d-4f02-f0ae-7115619040c1"
      },
      "execution_count": 116,
      "outputs": [
        {
          "output_type": "stream",
          "name": "stdout",
          "text": [
            "(11, 16, 45000) (2, 16, 45000) (11,) (2,)\n"
          ]
        }
      ]
    },
    {
      "cell_type": "code",
      "source": [
        "from sklearn.preprocessing import MinMaxScaler\n",
        "\n",
        "#scale transform each channel independently\n",
        "scalers = {}\n",
        "for i in range(X_train.shape[2]):\n",
        "    scalers[i] = MinMaxScaler(feature_range=(-1, 1))\n",
        "    X_train[:, :, i] = scalers[i].fit_transform(X_train[:, :, i]) \n",
        "\n",
        "for i in range(X_val.shape[2]):\n",
        "    X_val[:, :, i]   = scalers[i].transform(X_val[:, :, i])     \n",
        "    \n",
        "for i in range(X_test.shape[2]):\n",
        "    X_test[:, :, i]  = scalers[i].transform(X_test[:, :, i]) "
      ],
      "metadata": {
        "id": "S8pWHAGeni_f"
      },
      "execution_count": 117,
      "outputs": []
    },
    {
      "cell_type": "code",
      "source": [
        "print(X_train.mean(), X_val.mean(), X_test.mean())\n",
        "print(X_train.min(), X_val.min(), X_test.min())\n",
        "print(X_train.max(), X_val.max(), X_test.max())"
      ],
      "metadata": {
        "colab": {
          "base_uri": "https://localhost:8080/"
        },
        "id": "uLOO4OpynjDC",
        "outputId": "317b9643-0422-4dcd-e624-19cb6c6e32a6"
      },
      "execution_count": 118,
      "outputs": [
        {
          "output_type": "stream",
          "name": "stdout",
          "text": [
            "-0.0035532945742628333 -0.005295317732894995 -0.0031302117490915734\n",
            "-1.0 -418.85970347464144 -2797.1708453940587\n",
            "1.0000000000000004 749.4431360181195 2064.2315527719506\n"
          ]
        }
      ]
    },
    {
      "cell_type": "markdown",
      "source": [
        "# Define Batch size and train,test, val loader"
      ],
      "metadata": {
        "id": "RLKlKqBWno9f"
      }
    },
    {
      "cell_type": "code",
      "source": [
        "X_train_tensor = torch.tensor(X_train).to(torch.float32)\n",
        "y_train_tensor = torch.tensor(y_train).to(torch.float32)\n",
        "X_val_tensor = torch.tensor(X_val).to(torch.float32)\n",
        "y_val_tensor = torch.tensor(y_val).to(torch.float32)\n",
        "X_test_tensor = torch.tensor(X_test).to(torch.float32)\n",
        "y_test_tensor = torch.tensor(y_test).to(torch.float32)\n",
        "\n",
        "# Cast data to dataloader for more convenience\n",
        "training_set = TensorDataset(X_train_tensor, y_train_tensor)\n",
        "testing_set = TensorDataset(X_test_tensor, y_test_tensor)\n",
        "validation_set = TensorDataset(X_val_tensor, y_val_tensor)\n",
        "\n",
        "train_batch_size = 32\n",
        "val_batch_size = len(validation_set)\n",
        "test_batch_size = len(testing_set)\n",
        "\n",
        "train_loader = DataLoader(training_set, train_batch_size, shuffle=True)\n",
        "val_loader = DataLoader(validation_set, val_batch_size, shuffle=True)\n",
        "test_loader = DataLoader(testing_set, test_batch_size, shuffle=True)"
      ],
      "metadata": {
        "id": "Y1enUccbhXGK"
      },
      "execution_count": 121,
      "outputs": []
    },
    {
      "cell_type": "code",
      "source": [
        "for data, label in train_loader:\n",
        "  print(data)\n",
        "  break"
      ],
      "metadata": {
        "colab": {
          "base_uri": "https://localhost:8080/"
        },
        "id": "LEJ3VJt3huYw",
        "outputId": "8f145c22-624b-4743-8df2-c6b05faa8a6f"
      },
      "execution_count": 122,
      "outputs": [
        {
          "output_type": "stream",
          "name": "stdout",
          "text": [
            "tensor([[[ 0.2625,  1.0000,  0.5220,  ..., -0.1055,  0.4833, -1.0000],\n",
            "         [-0.1846,  1.0000,  0.8369,  ...,  0.6823,  0.9280,  0.0450],\n",
            "         [-0.6639,  1.0000,  0.5339,  ...,  0.1186,  0.7721,  0.4254],\n",
            "         ...,\n",
            "         [ 0.5534, -0.8758, -1.0000,  ..., -0.7690, -0.9071,  0.5299],\n",
            "         [ 0.6211, -0.7073, -1.0000,  ...,  0.1866, -0.2887,  0.1363],\n",
            "         [-1.0000,  0.4953, -0.4354,  ...,  0.8192,  0.1606, -1.0000]],\n",
            "\n",
            "        [[ 0.2994, -0.1263,  0.7198,  ..., -0.3135, -0.2813, -0.9733],\n",
            "         [-0.0283,  0.9211,  0.8718,  ...,  0.6713,  0.8581, -0.9717],\n",
            "         [-1.0000, -0.0266,  0.6665,  ...,  0.0394,  0.1550, -1.0000],\n",
            "         ...,\n",
            "         [ 1.0000, -0.8192, -0.7463,  ..., -0.9722, -0.9601,  1.0000],\n",
            "         [-1.0000, -0.8281, -0.7549,  ..., -1.0000, -0.8562, -0.8752],\n",
            "         [-0.5561,  0.2080, -0.3849,  ...,  0.4928,  0.0105,  0.7527]],\n",
            "\n",
            "        [[ 0.5755,  0.8754,  0.7470,  ...,  0.1080,  0.4361,  0.9391],\n",
            "         [-0.3997,  0.9955,  0.8537,  ...,  0.7921,  0.9400, -0.4045],\n",
            "         [ 1.0000,  0.8592,  0.7077,  ...,  0.2499,  0.6919,  0.6833],\n",
            "         ...,\n",
            "         [ 0.5082,  0.8885,  0.1780,  ...,  0.1747,  0.4627,  0.4576],\n",
            "         [ 0.9204, -0.8709, -0.7902,  ..., -0.4588, -1.0000,  0.1688],\n",
            "         [ 0.2527,  1.0000, -0.0767,  ...,  0.9433,  1.0000,  0.6136]],\n",
            "\n",
            "        ...,\n",
            "\n",
            "        [[ 0.4288, -0.2783,  0.5553,  ..., -0.7431, -0.2954, -0.6487],\n",
            "         [ 0.2392,  0.9222,  0.8314,  ...,  0.6884,  0.8668, -0.8444],\n",
            "         [-0.3856, -0.2737,  0.4790,  ..., -0.2838,  0.0564,  0.7432],\n",
            "         ...,\n",
            "         [ 0.4443, -0.8626, -0.6387,  ..., -0.9919, -0.9627,  0.4064],\n",
            "         [ 0.4864, -0.8789, -0.6865,  ..., -0.7044, -0.9055, -0.3003],\n",
            "         [-0.2640,  0.1913, -0.1873,  ...,  0.5611, -0.0199,  0.7895]],\n",
            "\n",
            "        [[ 0.2968,  0.3130,  0.7292,  ..., -1.0000, -1.0000, -0.7500],\n",
            "         [ 0.2077,  0.9244,  0.8293,  ...,  0.6008,  0.8237, -1.0000],\n",
            "         [-0.0490,  0.7991,  0.7552,  ..., -1.0000, -1.0000,  0.4394],\n",
            "         ...,\n",
            "         [-0.0447, -1.0000, -0.6010,  ..., -0.9183, -0.8995, -1.0000],\n",
            "         [ 1.0000, -1.0000, -0.6260,  ..., -0.3759, -0.5769,  1.0000],\n",
            "         [ 1.0000, -0.0737,  0.0366,  ...,  0.7941,  0.1552,  0.2712]],\n",
            "\n",
            "        [[-1.0000, -0.1040,  0.7342,  ...,  0.0077, -0.0924,  1.0000],\n",
            "         [-1.0000, -1.0000, -1.0000,  ..., -1.0000, -1.0000,  1.0000],\n",
            "         [-0.3384,  0.0125,  0.7038,  ...,  0.1758,  0.1889,  0.0375],\n",
            "         ...,\n",
            "         [-0.0527,  1.0000,  1.0000,  ...,  1.0000,  1.0000,  0.5849],\n",
            "         [ 0.4439, -0.9257, -0.8425,  ..., -0.6804, -0.8012, -0.1237],\n",
            "         [-0.3389, -0.6549, -0.7661,  ...,  0.3446, -0.2156,  0.9060]]])\n"
          ]
        }
      ]
    },
    {
      "cell_type": "code",
      "source": [
        "data.shape"
      ],
      "metadata": {
        "colab": {
          "base_uri": "https://localhost:8080/"
        },
        "id": "ToOmNlhsPSG6",
        "outputId": "0655d6e4-7dc5-4e4d-9fe8-447d3b896e02"
      },
      "execution_count": 123,
      "outputs": [
        {
          "output_type": "execute_result",
          "data": {
            "text/plain": [
              "torch.Size([11, 16, 45000])"
            ]
          },
          "metadata": {},
          "execution_count": 123
        }
      ]
    },
    {
      "cell_type": "code",
      "source": [
        "data.shape"
      ],
      "metadata": {
        "colab": {
          "base_uri": "https://localhost:8080/"
        },
        "id": "PVMFMBwAjImF",
        "outputId": "fdc99c42-b601-4200-dc5d-ad746880e404"
      },
      "execution_count": 124,
      "outputs": [
        {
          "output_type": "execute_result",
          "data": {
            "text/plain": [
              "torch.Size([11, 16, 45000])"
            ]
          },
          "metadata": {},
          "execution_count": 124
        }
      ]
    },
    {
      "cell_type": "code",
      "source": [
        "device = 'cuda' if torch.cuda.is_available() else 'cpu'"
      ],
      "metadata": {
        "id": "HaiKzvgCjc3_"
      },
      "execution_count": 125,
      "outputs": []
    },
    {
      "cell_type": "markdown",
      "source": [
        "# CNN model"
      ],
      "metadata": {
        "id": "tMV89z27_HmH"
      }
    },
    {
      "cell_type": "code",
      "source": [
        "\n",
        "class eegConv1d(nn.Module):\n",
        "    def __init__(self, input_size = 16, out_size=2):\n",
        "        super().__init__()\n",
        "        self.c1 = nn.Conv1d(input_size, 50, kernel_size = 3)\n",
        "        self.c2 = nn.Conv1d(50, 30, kernel_size = 3)\n",
        "        self.relu = nn.ReLU()\n",
        "        self.dropout = nn.Dropout(p=0.5)\n",
        "        self.maxpool1d = nn.MaxPool1d(2,2)\n",
        "        self.linear = nn.Linear(30 * 22497, out_size) #taking the last hidden state\n",
        "        \n",
        "    def forward(self, seq):\n",
        "        #convo layer 8 -> 50 -> 30\n",
        "        #seq shape: (11, 50, 45000)\n",
        "        out = self.c1(seq)\n",
        "        out = self.relu(out)\n",
        "        out = self.dropout(out)\n",
        "        # out shape: (11, 50, 44998)\n",
        "        out = self.maxpool1d(out)\n",
        "        # out shape: (11, 50, 22499)\n",
        "        out = self.c2(out)\n",
        "        out = self.relu(out)\n",
        "        # out shape: (11, 30, 22496)\n",
        "        out = out.reshape(seq.size(0), -1)\n",
        "        #out shape: (30, 30*22496)\n",
        "        out = self.linear(out)\n",
        "        #out shape: (30*22496, 2)\n",
        "        return out"
      ],
      "metadata": {
        "id": "U0bk5XjGjoMk"
      },
      "execution_count": 126,
      "outputs": []
    },
    {
      "cell_type": "code",
      "source": [
        "import time\n",
        "\n",
        "def epoch_time(start_time, end_time):\n",
        "    elapsed_time = end_time - start_time\n",
        "    elapsed_mins = int(elapsed_time / 60)\n",
        "    elapsed_secs = int(elapsed_time - (elapsed_mins * 60))\n",
        "    return elapsed_mins, elapsed_secs"
      ],
      "metadata": {
        "id": "TIOLWwwXpMpw"
      },
      "execution_count": 127,
      "outputs": []
    },
    {
      "cell_type": "code",
      "source": [
        "# torch.manual_seed(999999)\n",
        "device = torch.device(\"cuda\" if torch.cuda.is_available() else \"cpu\")\n",
        "model = eegConv1d(input_size=16).to(device)\n",
        "criterion = nn.CrossEntropyLoss()\n",
        "#Good for finding Likelihood\n",
        "optimizer = torch.optim.Adam(model.parameters(), lr = 0.0001)"
      ],
      "metadata": {
        "id": "kpdAQllGD1tf"
      },
      "execution_count": 128,
      "outputs": []
    },
    {
      "cell_type": "code",
      "source": [
        "epochs = 200\n",
        "\n",
        "best_valid_loss = float('inf')\n",
        "model.train()\n",
        "\n",
        "train_losses = []\n",
        "train_accs   = []\n",
        "valid_losses = []\n",
        "valid_accs   = []\n",
        "\n",
        "\n",
        "#print(f\"Training {type(model).__name__}\")\n",
        "\n",
        "for i in range(epochs):\n",
        "    train_total = 0\n",
        "    train_correct = 0\n",
        "    val_total   = 0  \n",
        "    val_correct = 0\n",
        "    train_acc   = 0\n",
        "    val_acc     = 0\n",
        "    \n",
        "    for X_train, y_train in train_loader:\n",
        "    \n",
        "        start_time = time.time()\n",
        "        \n",
        "        X_train = X_train.float().to(device)\n",
        "        y_train = y_train.type(torch.LongTensor).to(device)\n",
        "\n",
        "        #print(X_train.shape, X_train.dtype)\n",
        "\n",
        "        yhat_train = model(X_train)\n",
        "        \n",
        "        #train acc\n",
        "        _, predicted = torch.max(yhat_train.data, 1)  #returns max value, indices\n",
        "        train_total += y_train.size(0)  #keep track of total\n",
        "        train_correct += (predicted == y_train).sum().item()  #.item() give the raw number\n",
        "        train_acc = 100 * (train_correct / train_total)\n",
        "        \n",
        "        #print(y_train.shape, y_train.dtype)\n",
        "        \n",
        "        train_loss = criterion(yhat_train, y_train)\n",
        "        optimizer.zero_grad()\n",
        "        train_loss.backward()\n",
        "        optimizer.step()\n",
        "\n",
        "        end_time = time.time()\n",
        "\n",
        "\n",
        "        #val accuracy\n",
        "        for X_val, y_val in val_loader:\n",
        "            X_val = X_val.float().to(device)\n",
        "            y_val = y_val.type(torch.LongTensor).to(device)\n",
        "            yhat_val  = model(X_val)\n",
        "            val_loss     = criterion(yhat_val, y_val)\n",
        "            _, predicted = torch.max(yhat_val.data, 1)  #returns max value, indices\n",
        "            val_total += y_val.size(0)  #keep track of total\n",
        "            val_correct += (predicted == y_val).sum().item()  #.item() give the raw number\n",
        "            val_acc = 100 * (val_correct / val_total)\n",
        "\n",
        "        #save the best model\n",
        "        if val_loss < best_valid_loss:\n",
        "            best_valid_loss = val_loss\n",
        "            #print(\"Model:{} saved.\".format(type(model).__name__))\n",
        "            torch.save(model.state_dict(), './models/CNN1D.pt')\n",
        "            best_model_index = i\n",
        "\n",
        "          #for plotting\n",
        "        train_losses.append(train_loss.item())\n",
        "        train_accs  .append(train_acc)\n",
        "        valid_losses.append(val_loss.item())\n",
        "        valid_accs  .append(val_acc)\n",
        "\n",
        "\n",
        "        epoch_mins, epoch_secs = epoch_time(start_time, end_time)\n",
        "\n",
        "    print(f\"Epoch: {i:2.0f} | Train acc: {train_acc: 2.2f} | \" +\n",
        "          f\"loss: {train_loss:2.5f} | Val acc: {val_acc: 2.2f} | \" +\n",
        "          f\"loss: {val_loss:2.5f} | Time: {epoch_mins}m {epoch_secs}s\")"
      ],
      "metadata": {
        "colab": {
          "base_uri": "https://localhost:8080/"
        },
        "id": "YhkyoUI3D1wo",
        "outputId": "eb7f14a7-1513-41e0-c8a2-3ae005f7f75f"
      },
      "execution_count": 129,
      "outputs": [
        {
          "output_type": "stream",
          "name": "stdout",
          "text": [
            "Epoch:  0 | Train acc:  63.64 | loss: 0.67505 | Val acc:  50.00 | loss: 4.10706 | Time: 0m 0s\n",
            "Epoch:  1 | Train acc:  63.64 | loss: 2.05324 | Val acc:  50.00 | loss: 1.40059 | Time: 0m 0s\n",
            "Epoch:  2 | Train acc:  100.00 | loss: 0.15380 | Val acc:  50.00 | loss: 9.04791 | Time: 0m 0s\n",
            "Epoch:  3 | Train acc:  36.36 | loss: 1.10531 | Val acc:  0.00 | loss: 0.88647 | Time: 0m 0s\n",
            "Epoch:  4 | Train acc:  100.00 | loss: 0.05392 | Val acc:  50.00 | loss: 2.24376 | Time: 0m 0s\n",
            "Epoch:  5 | Train acc:  90.91 | loss: 0.17922 | Val acc:  50.00 | loss: 3.29291 | Time: 0m 0s\n",
            "Epoch:  6 | Train acc:  90.91 | loss: 0.35457 | Val acc:  50.00 | loss: 3.53350 | Time: 0m 0s\n",
            "Epoch:  7 | Train acc:  90.91 | loss: 0.31063 | Val acc:  50.00 | loss: 2.89628 | Time: 0m 0s\n",
            "Epoch:  8 | Train acc:  90.91 | loss: 0.16084 | Val acc:  50.00 | loss: 2.10049 | Time: 0m 0s\n",
            "Epoch:  9 | Train acc:  100.00 | loss: 0.03824 | Val acc:  50.00 | loss: 1.22711 | Time: 0m 0s\n",
            "Epoch: 10 | Train acc:  100.00 | loss: 0.00650 | Val acc:  50.00 | loss: 0.53340 | Time: 0m 0s\n",
            "Epoch: 11 | Train acc:  100.00 | loss: 0.00373 | Val acc:  50.00 | loss: 0.55715 | Time: 0m 0s\n",
            "Epoch: 12 | Train acc:  100.00 | loss: 0.00752 | Val acc:  50.00 | loss: 2.06596 | Time: 0m 0s\n",
            "Epoch: 13 | Train acc:  100.00 | loss: 0.01631 | Val acc:  50.00 | loss: 3.47955 | Time: 0m 0s\n",
            "Epoch: 14 | Train acc:  100.00 | loss: 0.03285 | Val acc:  50.00 | loss: 3.81799 | Time: 0m 0s\n",
            "Epoch: 15 | Train acc:  100.00 | loss: 0.04000 | Val acc:  50.00 | loss: 4.04057 | Time: 0m 0s\n",
            "Epoch: 16 | Train acc:  100.00 | loss: 0.03973 | Val acc:  50.00 | loss: 3.89957 | Time: 0m 0s\n",
            "Epoch: 17 | Train acc:  100.00 | loss: 0.02593 | Val acc:  50.00 | loss: 2.51298 | Time: 0m 0s\n",
            "Epoch: 18 | Train acc:  100.00 | loss: 0.01229 | Val acc:  50.00 | loss: 1.28235 | Time: 0m 0s\n",
            "Epoch: 19 | Train acc:  100.00 | loss: 0.00637 | Val acc:  50.00 | loss: 1.48419 | Time: 0m 0s\n",
            "Epoch: 20 | Train acc:  100.00 | loss: 0.00351 | Val acc:  100.00 | loss: 0.26470 | Time: 0m 0s\n",
            "Epoch: 21 | Train acc:  100.00 | loss: 0.00188 | Val acc:  100.00 | loss: 0.15842 | Time: 0m 0s\n",
            "Epoch: 22 | Train acc:  100.00 | loss: 0.00098 | Val acc:  100.00 | loss: 0.23709 | Time: 0m 0s\n",
            "Epoch: 23 | Train acc:  100.00 | loss: 0.00054 | Val acc:  100.00 | loss: 0.27017 | Time: 0m 0s\n",
            "Epoch: 24 | Train acc:  100.00 | loss: 0.00043 | Val acc:  50.00 | loss: 0.43873 | Time: 0m 0s\n",
            "Epoch: 25 | Train acc:  100.00 | loss: 0.00024 | Val acc:  50.00 | loss: 0.43379 | Time: 0m 0s\n",
            "Epoch: 26 | Train acc:  100.00 | loss: 0.00015 | Val acc:  50.00 | loss: 0.69335 | Time: 0m 0s\n",
            "Epoch: 27 | Train acc:  100.00 | loss: 0.00010 | Val acc:  50.00 | loss: 0.82385 | Time: 0m 0s\n",
            "Epoch: 28 | Train acc:  100.00 | loss: 0.00008 | Val acc:  50.00 | loss: 0.84388 | Time: 0m 0s\n",
            "Epoch: 29 | Train acc:  100.00 | loss: 0.00006 | Val acc:  50.00 | loss: 0.98128 | Time: 0m 0s\n",
            "Epoch: 30 | Train acc:  100.00 | loss: 0.00005 | Val acc:  50.00 | loss: 0.93428 | Time: 0m 0s\n",
            "Epoch: 31 | Train acc:  100.00 | loss: 0.00005 | Val acc:  50.00 | loss: 0.99923 | Time: 0m 0s\n",
            "Epoch: 32 | Train acc:  100.00 | loss: 0.00005 | Val acc:  50.00 | loss: 1.16741 | Time: 0m 0s\n",
            "Epoch: 33 | Train acc:  100.00 | loss: 0.00005 | Val acc:  50.00 | loss: 1.47955 | Time: 0m 0s\n",
            "Epoch: 34 | Train acc:  100.00 | loss: 0.00004 | Val acc:  50.00 | loss: 1.15913 | Time: 0m 0s\n",
            "Epoch: 35 | Train acc:  100.00 | loss: 0.00004 | Val acc:  50.00 | loss: 1.41735 | Time: 0m 0s\n",
            "Epoch: 36 | Train acc:  100.00 | loss: 0.00004 | Val acc:  50.00 | loss: 1.49573 | Time: 0m 0s\n",
            "Epoch: 37 | Train acc:  100.00 | loss: 0.00004 | Val acc:  50.00 | loss: 1.35882 | Time: 0m 0s\n",
            "Epoch: 38 | Train acc:  100.00 | loss: 0.00004 | Val acc:  50.00 | loss: 1.63565 | Time: 0m 0s\n",
            "Epoch: 39 | Train acc:  100.00 | loss: 0.00005 | Val acc:  50.00 | loss: 1.68747 | Time: 0m 0s\n",
            "Epoch: 40 | Train acc:  100.00 | loss: 0.00005 | Val acc:  50.00 | loss: 1.66886 | Time: 0m 0s\n",
            "Epoch: 41 | Train acc:  100.00 | loss: 0.00005 | Val acc:  50.00 | loss: 1.63903 | Time: 0m 0s\n",
            "Epoch: 42 | Train acc:  100.00 | loss: 0.00004 | Val acc:  50.00 | loss: 1.81159 | Time: 0m 0s\n",
            "Epoch: 43 | Train acc:  100.00 | loss: 0.00004 | Val acc:  50.00 | loss: 1.77891 | Time: 0m 0s\n",
            "Epoch: 44 | Train acc:  100.00 | loss: 0.00005 | Val acc:  50.00 | loss: 1.74451 | Time: 0m 0s\n",
            "Epoch: 45 | Train acc:  100.00 | loss: 0.00005 | Val acc:  50.00 | loss: 1.79586 | Time: 0m 0s\n",
            "Epoch: 46 | Train acc:  100.00 | loss: 0.00005 | Val acc:  50.00 | loss: 1.81532 | Time: 0m 0s\n",
            "Epoch: 47 | Train acc:  100.00 | loss: 0.00006 | Val acc:  50.00 | loss: 1.82405 | Time: 0m 0s\n",
            "Epoch: 48 | Train acc:  100.00 | loss: 0.00005 | Val acc:  50.00 | loss: 1.95299 | Time: 0m 0s\n",
            "Epoch: 49 | Train acc:  100.00 | loss: 0.00005 | Val acc:  50.00 | loss: 1.80277 | Time: 0m 0s\n",
            "Epoch: 50 | Train acc:  100.00 | loss: 0.00005 | Val acc:  50.00 | loss: 1.85675 | Time: 0m 0s\n",
            "Epoch: 51 | Train acc:  100.00 | loss: 0.00004 | Val acc:  50.00 | loss: 1.84665 | Time: 0m 0s\n",
            "Epoch: 52 | Train acc:  100.00 | loss: 0.00005 | Val acc:  50.00 | loss: 1.96225 | Time: 0m 0s\n",
            "Epoch: 53 | Train acc:  100.00 | loss: 0.00005 | Val acc:  50.00 | loss: 2.05885 | Time: 0m 0s\n",
            "Epoch: 54 | Train acc:  100.00 | loss: 0.00005 | Val acc:  50.00 | loss: 1.86258 | Time: 0m 0s\n",
            "Epoch: 55 | Train acc:  100.00 | loss: 0.00005 | Val acc:  50.00 | loss: 2.02611 | Time: 0m 0s\n",
            "Epoch: 56 | Train acc:  100.00 | loss: 0.00005 | Val acc:  50.00 | loss: 1.86493 | Time: 0m 0s\n",
            "Epoch: 57 | Train acc:  100.00 | loss: 0.00005 | Val acc:  50.00 | loss: 1.91446 | Time: 0m 0s\n",
            "Epoch: 58 | Train acc:  100.00 | loss: 0.00005 | Val acc:  50.00 | loss: 1.88244 | Time: 0m 0s\n",
            "Epoch: 59 | Train acc:  100.00 | loss: 0.00006 | Val acc:  50.00 | loss: 1.93709 | Time: 0m 0s\n",
            "Epoch: 60 | Train acc:  100.00 | loss: 0.00004 | Val acc:  50.00 | loss: 2.00967 | Time: 0m 0s\n",
            "Epoch: 61 | Train acc:  100.00 | loss: 0.00005 | Val acc:  50.00 | loss: 1.90442 | Time: 0m 0s\n",
            "Epoch: 62 | Train acc:  100.00 | loss: 0.00005 | Val acc:  50.00 | loss: 2.01577 | Time: 0m 0s\n",
            "Epoch: 63 | Train acc:  100.00 | loss: 0.00004 | Val acc:  50.00 | loss: 1.88887 | Time: 0m 0s\n",
            "Epoch: 64 | Train acc:  100.00 | loss: 0.00005 | Val acc:  50.00 | loss: 1.92764 | Time: 0m 0s\n",
            "Epoch: 65 | Train acc:  100.00 | loss: 0.00005 | Val acc:  50.00 | loss: 1.99496 | Time: 0m 0s\n",
            "Epoch: 66 | Train acc:  100.00 | loss: 0.00005 | Val acc:  50.00 | loss: 1.90449 | Time: 0m 0s\n",
            "Epoch: 67 | Train acc:  100.00 | loss: 0.00005 | Val acc:  50.00 | loss: 2.02914 | Time: 0m 0s\n",
            "Epoch: 68 | Train acc:  100.00 | loss: 0.00004 | Val acc:  50.00 | loss: 1.86968 | Time: 0m 0s\n",
            "Epoch: 69 | Train acc:  100.00 | loss: 0.00006 | Val acc:  50.00 | loss: 2.12121 | Time: 0m 0s\n",
            "Epoch: 70 | Train acc:  100.00 | loss: 0.00005 | Val acc:  50.00 | loss: 2.06295 | Time: 0m 0s\n",
            "Epoch: 71 | Train acc:  100.00 | loss: 0.00005 | Val acc:  50.00 | loss: 1.87431 | Time: 0m 0s\n",
            "Epoch: 72 | Train acc:  100.00 | loss: 0.00005 | Val acc:  50.00 | loss: 1.92036 | Time: 0m 0s\n",
            "Epoch: 73 | Train acc:  100.00 | loss: 0.00004 | Val acc:  50.00 | loss: 2.01447 | Time: 0m 0s\n",
            "Epoch: 74 | Train acc:  100.00 | loss: 0.00006 | Val acc:  50.00 | loss: 1.87912 | Time: 0m 0s\n",
            "Epoch: 75 | Train acc:  100.00 | loss: 0.00005 | Val acc:  50.00 | loss: 1.93469 | Time: 0m 0s\n",
            "Epoch: 76 | Train acc:  100.00 | loss: 0.00005 | Val acc:  50.00 | loss: 1.98421 | Time: 0m 0s\n",
            "Epoch: 77 | Train acc:  100.00 | loss: 0.00004 | Val acc:  50.00 | loss: 2.03249 | Time: 0m 0s\n",
            "Epoch: 78 | Train acc:  100.00 | loss: 0.00005 | Val acc:  50.00 | loss: 1.84586 | Time: 0m 0s\n",
            "Epoch: 79 | Train acc:  100.00 | loss: 0.00005 | Val acc:  50.00 | loss: 1.91287 | Time: 0m 0s\n",
            "Epoch: 80 | Train acc:  100.00 | loss: 0.00004 | Val acc:  50.00 | loss: 1.90075 | Time: 0m 0s\n",
            "Epoch: 81 | Train acc:  100.00 | loss: 0.00005 | Val acc:  50.00 | loss: 2.03691 | Time: 0m 0s\n",
            "Epoch: 82 | Train acc:  100.00 | loss: 0.00005 | Val acc:  50.00 | loss: 1.97530 | Time: 0m 0s\n",
            "Epoch: 83 | Train acc:  100.00 | loss: 0.00005 | Val acc:  50.00 | loss: 2.06761 | Time: 0m 0s\n",
            "Epoch: 84 | Train acc:  100.00 | loss: 0.00005 | Val acc:  50.00 | loss: 2.00184 | Time: 0m 0s\n",
            "Epoch: 85 | Train acc:  100.00 | loss: 0.00005 | Val acc:  50.00 | loss: 1.95132 | Time: 0m 0s\n",
            "Epoch: 86 | Train acc:  100.00 | loss: 0.00005 | Val acc:  50.00 | loss: 1.87102 | Time: 0m 0s\n",
            "Epoch: 87 | Train acc:  100.00 | loss: 0.00004 | Val acc:  50.00 | loss: 1.97983 | Time: 0m 0s\n",
            "Epoch: 88 | Train acc:  100.00 | loss: 0.00004 | Val acc:  50.00 | loss: 1.92662 | Time: 0m 0s\n",
            "Epoch: 89 | Train acc:  100.00 | loss: 0.00004 | Val acc:  50.00 | loss: 1.92399 | Time: 0m 0s\n",
            "Epoch: 90 | Train acc:  100.00 | loss: 0.00004 | Val acc:  50.00 | loss: 1.93065 | Time: 0m 0s\n",
            "Epoch: 91 | Train acc:  100.00 | loss: 0.00005 | Val acc:  50.00 | loss: 1.90340 | Time: 0m 0s\n",
            "Epoch: 92 | Train acc:  100.00 | loss: 0.00004 | Val acc:  50.00 | loss: 1.91167 | Time: 0m 0s\n",
            "Epoch: 93 | Train acc:  100.00 | loss: 0.00004 | Val acc:  50.00 | loss: 1.95328 | Time: 0m 0s\n",
            "Epoch: 94 | Train acc:  100.00 | loss: 0.00004 | Val acc:  50.00 | loss: 1.87320 | Time: 0m 0s\n",
            "Epoch: 95 | Train acc:  100.00 | loss: 0.00004 | Val acc:  50.00 | loss: 1.89942 | Time: 0m 0s\n",
            "Epoch: 96 | Train acc:  100.00 | loss: 0.00004 | Val acc:  50.00 | loss: 1.94089 | Time: 0m 0s\n",
            "Epoch: 97 | Train acc:  100.00 | loss: 0.00004 | Val acc:  50.00 | loss: 1.93557 | Time: 0m 0s\n",
            "Epoch: 98 | Train acc:  100.00 | loss: 0.00004 | Val acc:  50.00 | loss: 1.78495 | Time: 0m 0s\n",
            "Epoch: 99 | Train acc:  100.00 | loss: 0.00005 | Val acc:  50.00 | loss: 1.86906 | Time: 0m 0s\n",
            "Epoch: 100 | Train acc:  100.00 | loss: 0.00004 | Val acc:  50.00 | loss: 1.75820 | Time: 0m 0s\n",
            "Epoch: 101 | Train acc:  100.00 | loss: 0.00004 | Val acc:  50.00 | loss: 1.76438 | Time: 0m 0s\n",
            "Epoch: 102 | Train acc:  100.00 | loss: 0.00004 | Val acc:  50.00 | loss: 1.88352 | Time: 0m 0s\n",
            "Epoch: 103 | Train acc:  100.00 | loss: 0.00004 | Val acc:  50.00 | loss: 2.07640 | Time: 0m 0s\n",
            "Epoch: 104 | Train acc:  100.00 | loss: 0.00004 | Val acc:  50.00 | loss: 1.93970 | Time: 0m 0s\n",
            "Epoch: 105 | Train acc:  100.00 | loss: 0.00004 | Val acc:  50.00 | loss: 1.85641 | Time: 0m 0s\n",
            "Epoch: 106 | Train acc:  100.00 | loss: 0.00003 | Val acc:  50.00 | loss: 1.90695 | Time: 0m 0s\n",
            "Epoch: 107 | Train acc:  100.00 | loss: 0.00003 | Val acc:  50.00 | loss: 1.70499 | Time: 0m 0s\n",
            "Epoch: 108 | Train acc:  100.00 | loss: 0.00005 | Val acc:  50.00 | loss: 1.78052 | Time: 0m 0s\n",
            "Epoch: 109 | Train acc:  100.00 | loss: 0.00004 | Val acc:  50.00 | loss: 1.88302 | Time: 0m 0s\n",
            "Epoch: 110 | Train acc:  100.00 | loss: 0.00004 | Val acc:  50.00 | loss: 1.87794 | Time: 0m 0s\n",
            "Epoch: 111 | Train acc:  100.00 | loss: 0.00004 | Val acc:  50.00 | loss: 1.91747 | Time: 0m 0s\n",
            "Epoch: 112 | Train acc:  100.00 | loss: 0.00003 | Val acc:  50.00 | loss: 1.84239 | Time: 0m 0s\n",
            "Epoch: 113 | Train acc:  100.00 | loss: 0.00004 | Val acc:  50.00 | loss: 1.72515 | Time: 0m 0s\n",
            "Epoch: 114 | Train acc:  100.00 | loss: 0.00004 | Val acc:  50.00 | loss: 1.88971 | Time: 0m 0s\n",
            "Epoch: 115 | Train acc:  100.00 | loss: 0.00004 | Val acc:  50.00 | loss: 1.78572 | Time: 0m 0s\n",
            "Epoch: 116 | Train acc:  100.00 | loss: 0.00003 | Val acc:  50.00 | loss: 1.74605 | Time: 0m 0s\n",
            "Epoch: 117 | Train acc:  100.00 | loss: 0.00003 | Val acc:  50.00 | loss: 1.92802 | Time: 0m 0s\n",
            "Epoch: 118 | Train acc:  100.00 | loss: 0.00003 | Val acc:  50.00 | loss: 1.94864 | Time: 0m 0s\n",
            "Epoch: 119 | Train acc:  100.00 | loss: 0.00003 | Val acc:  50.00 | loss: 1.89281 | Time: 0m 0s\n",
            "Epoch: 120 | Train acc:  100.00 | loss: 0.00003 | Val acc:  50.00 | loss: 1.80018 | Time: 0m 0s\n",
            "Epoch: 121 | Train acc:  100.00 | loss: 0.00004 | Val acc:  50.00 | loss: 1.85125 | Time: 0m 0s\n",
            "Epoch: 122 | Train acc:  100.00 | loss: 0.00004 | Val acc:  50.00 | loss: 1.88569 | Time: 0m 0s\n",
            "Epoch: 123 | Train acc:  100.00 | loss: 0.00004 | Val acc:  50.00 | loss: 1.85954 | Time: 0m 0s\n",
            "Epoch: 124 | Train acc:  100.00 | loss: 0.00003 | Val acc:  50.00 | loss: 1.83602 | Time: 0m 0s\n",
            "Epoch: 125 | Train acc:  100.00 | loss: 0.00003 | Val acc:  50.00 | loss: 1.85499 | Time: 0m 0s\n",
            "Epoch: 126 | Train acc:  100.00 | loss: 0.00003 | Val acc:  50.00 | loss: 1.77403 | Time: 0m 0s\n",
            "Epoch: 127 | Train acc:  100.00 | loss: 0.00003 | Val acc:  50.00 | loss: 1.83379 | Time: 0m 0s\n",
            "Epoch: 128 | Train acc:  100.00 | loss: 0.00003 | Val acc:  50.00 | loss: 1.95110 | Time: 0m 0s\n",
            "Epoch: 129 | Train acc:  100.00 | loss: 0.00003 | Val acc:  50.00 | loss: 1.74910 | Time: 0m 0s\n",
            "Epoch: 130 | Train acc:  100.00 | loss: 0.00004 | Val acc:  50.00 | loss: 1.66208 | Time: 0m 0s\n",
            "Epoch: 131 | Train acc:  100.00 | loss: 0.00003 | Val acc:  50.00 | loss: 1.82853 | Time: 0m 0s\n",
            "Epoch: 132 | Train acc:  100.00 | loss: 0.00003 | Val acc:  50.00 | loss: 1.71572 | Time: 0m 0s\n",
            "Epoch: 133 | Train acc:  100.00 | loss: 0.00004 | Val acc:  50.00 | loss: 1.82825 | Time: 0m 0s\n",
            "Epoch: 134 | Train acc:  100.00 | loss: 0.00003 | Val acc:  50.00 | loss: 1.95719 | Time: 0m 0s\n",
            "Epoch: 135 | Train acc:  100.00 | loss: 0.00003 | Val acc:  50.00 | loss: 1.92223 | Time: 0m 0s\n",
            "Epoch: 136 | Train acc:  100.00 | loss: 0.00003 | Val acc:  50.00 | loss: 1.72584 | Time: 0m 0s\n",
            "Epoch: 137 | Train acc:  100.00 | loss: 0.00003 | Val acc:  50.00 | loss: 1.77627 | Time: 0m 0s\n",
            "Epoch: 138 | Train acc:  100.00 | loss: 0.00003 | Val acc:  50.00 | loss: 1.81705 | Time: 0m 0s\n",
            "Epoch: 139 | Train acc:  100.00 | loss: 0.00003 | Val acc:  50.00 | loss: 1.78129 | Time: 0m 0s\n",
            "Epoch: 140 | Train acc:  100.00 | loss: 0.00003 | Val acc:  50.00 | loss: 1.81542 | Time: 0m 0s\n",
            "Epoch: 141 | Train acc:  100.00 | loss: 0.00003 | Val acc:  50.00 | loss: 1.65155 | Time: 0m 0s\n",
            "Epoch: 142 | Train acc:  100.00 | loss: 0.00003 | Val acc:  50.00 | loss: 1.64493 | Time: 0m 0s\n",
            "Epoch: 143 | Train acc:  100.00 | loss: 0.00003 | Val acc:  50.00 | loss: 1.71197 | Time: 0m 0s\n",
            "Epoch: 144 | Train acc:  100.00 | loss: 0.00003 | Val acc:  50.00 | loss: 1.75973 | Time: 0m 0s\n",
            "Epoch: 145 | Train acc:  100.00 | loss: 0.00003 | Val acc:  50.00 | loss: 1.62783 | Time: 0m 0s\n",
            "Epoch: 146 | Train acc:  100.00 | loss: 0.00003 | Val acc:  50.00 | loss: 1.83798 | Time: 0m 0s\n",
            "Epoch: 147 | Train acc:  100.00 | loss: 0.00003 | Val acc:  50.00 | loss: 1.62066 | Time: 0m 0s\n",
            "Epoch: 148 | Train acc:  100.00 | loss: 0.00003 | Val acc:  50.00 | loss: 1.87674 | Time: 0m 0s\n",
            "Epoch: 149 | Train acc:  100.00 | loss: 0.00003 | Val acc:  50.00 | loss: 1.82318 | Time: 0m 0s\n",
            "Epoch: 150 | Train acc:  100.00 | loss: 0.00003 | Val acc:  50.00 | loss: 1.61286 | Time: 0m 0s\n",
            "Epoch: 151 | Train acc:  100.00 | loss: 0.00003 | Val acc:  50.00 | loss: 1.67900 | Time: 0m 0s\n",
            "Epoch: 152 | Train acc:  100.00 | loss: 0.00003 | Val acc:  50.00 | loss: 1.69950 | Time: 0m 0s\n",
            "Epoch: 153 | Train acc:  100.00 | loss: 0.00003 | Val acc:  50.00 | loss: 1.73584 | Time: 0m 0s\n",
            "Epoch: 154 | Train acc:  100.00 | loss: 0.00004 | Val acc:  50.00 | loss: 1.67085 | Time: 0m 0s\n",
            "Epoch: 155 | Train acc:  100.00 | loss: 0.00003 | Val acc:  50.00 | loss: 1.65916 | Time: 0m 0s\n",
            "Epoch: 156 | Train acc:  100.00 | loss: 0.00003 | Val acc:  50.00 | loss: 1.70107 | Time: 0m 0s\n",
            "Epoch: 157 | Train acc:  100.00 | loss: 0.00003 | Val acc:  50.00 | loss: 1.55954 | Time: 0m 0s\n",
            "Epoch: 158 | Train acc:  100.00 | loss: 0.00003 | Val acc:  50.00 | loss: 1.69227 | Time: 0m 0s\n",
            "Epoch: 159 | Train acc:  100.00 | loss: 0.00003 | Val acc:  50.00 | loss: 1.58738 | Time: 0m 0s\n",
            "Epoch: 160 | Train acc:  100.00 | loss: 0.00003 | Val acc:  50.00 | loss: 1.65600 | Time: 0m 0s\n",
            "Epoch: 161 | Train acc:  100.00 | loss: 0.00003 | Val acc:  50.00 | loss: 1.80327 | Time: 0m 0s\n",
            "Epoch: 162 | Train acc:  100.00 | loss: 0.00003 | Val acc:  50.00 | loss: 1.55862 | Time: 0m 0s\n",
            "Epoch: 163 | Train acc:  100.00 | loss: 0.00003 | Val acc:  50.00 | loss: 1.70061 | Time: 0m 0s\n",
            "Epoch: 164 | Train acc:  100.00 | loss: 0.00003 | Val acc:  50.00 | loss: 1.61199 | Time: 0m 0s\n",
            "Epoch: 165 | Train acc:  100.00 | loss: 0.00003 | Val acc:  50.00 | loss: 1.70096 | Time: 0m 0s\n",
            "Epoch: 166 | Train acc:  100.00 | loss: 0.00003 | Val acc:  50.00 | loss: 1.74222 | Time: 0m 0s\n",
            "Epoch: 167 | Train acc:  100.00 | loss: 0.00003 | Val acc:  50.00 | loss: 1.83034 | Time: 0m 0s\n",
            "Epoch: 168 | Train acc:  100.00 | loss: 0.00003 | Val acc:  50.00 | loss: 1.64183 | Time: 0m 0s\n",
            "Epoch: 169 | Train acc:  100.00 | loss: 0.00003 | Val acc:  50.00 | loss: 1.57308 | Time: 0m 0s\n",
            "Epoch: 170 | Train acc:  100.00 | loss: 0.00003 | Val acc:  50.00 | loss: 1.71366 | Time: 0m 0s\n",
            "Epoch: 171 | Train acc:  100.00 | loss: 0.00002 | Val acc:  50.00 | loss: 1.68709 | Time: 0m 0s\n",
            "Epoch: 172 | Train acc:  100.00 | loss: 0.00003 | Val acc:  50.00 | loss: 1.70864 | Time: 0m 0s\n",
            "Epoch: 173 | Train acc:  100.00 | loss: 0.00002 | Val acc:  50.00 | loss: 1.75060 | Time: 0m 0s\n",
            "Epoch: 174 | Train acc:  100.00 | loss: 0.00003 | Val acc:  50.00 | loss: 1.72976 | Time: 0m 0s\n",
            "Epoch: 175 | Train acc:  100.00 | loss: 0.00003 | Val acc:  50.00 | loss: 1.66023 | Time: 0m 0s\n",
            "Epoch: 176 | Train acc:  100.00 | loss: 0.00003 | Val acc:  50.00 | loss: 1.73423 | Time: 0m 0s\n",
            "Epoch: 177 | Train acc:  100.00 | loss: 0.00002 | Val acc:  50.00 | loss: 1.54792 | Time: 0m 0s\n",
            "Epoch: 178 | Train acc:  100.00 | loss: 0.00003 | Val acc:  50.00 | loss: 1.54401 | Time: 0m 0s\n",
            "Epoch: 179 | Train acc:  100.00 | loss: 0.00003 | Val acc:  50.00 | loss: 1.71773 | Time: 0m 0s\n",
            "Epoch: 180 | Train acc:  100.00 | loss: 0.00003 | Val acc:  50.00 | loss: 1.79092 | Time: 0m 0s\n",
            "Epoch: 181 | Train acc:  100.00 | loss: 0.00003 | Val acc:  50.00 | loss: 1.71882 | Time: 0m 0s\n",
            "Epoch: 182 | Train acc:  100.00 | loss: 0.00003 | Val acc:  50.00 | loss: 1.55179 | Time: 0m 0s\n",
            "Epoch: 183 | Train acc:  100.00 | loss: 0.00002 | Val acc:  50.00 | loss: 1.55192 | Time: 0m 0s\n",
            "Epoch: 184 | Train acc:  100.00 | loss: 0.00003 | Val acc:  50.00 | loss: 1.77453 | Time: 0m 0s\n",
            "Epoch: 185 | Train acc:  100.00 | loss: 0.00003 | Val acc:  50.00 | loss: 1.65217 | Time: 0m 0s\n",
            "Epoch: 186 | Train acc:  100.00 | loss: 0.00003 | Val acc:  50.00 | loss: 1.58154 | Time: 0m 0s\n",
            "Epoch: 187 | Train acc:  100.00 | loss: 0.00003 | Val acc:  50.00 | loss: 1.77099 | Time: 0m 0s\n",
            "Epoch: 188 | Train acc:  100.00 | loss: 0.00003 | Val acc:  50.00 | loss: 1.69404 | Time: 0m 0s\n",
            "Epoch: 189 | Train acc:  100.00 | loss: 0.00003 | Val acc:  50.00 | loss: 1.74121 | Time: 0m 0s\n",
            "Epoch: 190 | Train acc:  100.00 | loss: 0.00003 | Val acc:  50.00 | loss: 1.53791 | Time: 0m 0s\n",
            "Epoch: 191 | Train acc:  100.00 | loss: 0.00002 | Val acc:  50.00 | loss: 1.63376 | Time: 0m 0s\n",
            "Epoch: 192 | Train acc:  100.00 | loss: 0.00002 | Val acc:  50.00 | loss: 1.70630 | Time: 0m 0s\n",
            "Epoch: 193 | Train acc:  100.00 | loss: 0.00002 | Val acc:  50.00 | loss: 1.66300 | Time: 0m 0s\n",
            "Epoch: 194 | Train acc:  100.00 | loss: 0.00002 | Val acc:  50.00 | loss: 1.54973 | Time: 0m 0s\n",
            "Epoch: 195 | Train acc:  100.00 | loss: 0.00002 | Val acc:  50.00 | loss: 1.64147 | Time: 0m 0s\n",
            "Epoch: 196 | Train acc:  100.00 | loss: 0.00002 | Val acc:  50.00 | loss: 1.61977 | Time: 0m 0s\n",
            "Epoch: 197 | Train acc:  100.00 | loss: 0.00003 | Val acc:  50.00 | loss: 1.67090 | Time: 0m 0s\n",
            "Epoch: 198 | Train acc:  100.00 | loss: 0.00002 | Val acc:  50.00 | loss: 1.58980 | Time: 0m 0s\n",
            "Epoch: 199 | Train acc:  100.00 | loss: 0.00002 | Val acc:  50.00 | loss: 1.54359 | Time: 0m 0s\n"
          ]
        }
      ]
    },
    {
      "cell_type": "code",
      "source": [
        "y_train.shape"
      ],
      "metadata": {
        "colab": {
          "base_uri": "https://localhost:8080/"
        },
        "id": "eaCbs-aiP-kb",
        "outputId": "858f219e-b12d-4c59-bc93-0a4a35c5e4be"
      },
      "execution_count": 130,
      "outputs": [
        {
          "output_type": "execute_result",
          "data": {
            "text/plain": [
              "torch.Size([11])"
            ]
          },
          "metadata": {},
          "execution_count": 130
        }
      ]
    },
    {
      "cell_type": "code",
      "source": [
        "yhat = model(X_test_tensor.float().to(device))\n",
        "#testloss = criterion(yhat, y_test_tensor.type(torch.LongTensor).to(device))\n",
        "_, predicted = torch.max(yhat.data, 1)\n",
        "\n",
        "predicted"
      ],
      "metadata": {
        "colab": {
          "base_uri": "https://localhost:8080/"
        },
        "id": "hEAbteS8D1zn",
        "outputId": "6ebaff4f-7ca0-4be6-aa27-a8e6558a8c05"
      },
      "execution_count": 131,
      "outputs": [
        {
          "output_type": "execute_result",
          "data": {
            "text/plain": [
              "tensor([0, 0, 0, 0], device='cuda:0')"
            ]
          },
          "metadata": {},
          "execution_count": 131
        }
      ]
    },
    {
      "cell_type": "code",
      "source": [
        "import matplotlib.pyplot as plt\n",
        "fig = plt.figure(figsize=(10, 6))\n",
        "ax  = fig.add_subplot(1, 1, 1)\n",
        "ax.plot(train_losses, label = 'train loss')\n",
        "ax.plot(valid_losses, label = 'valid loss')\n",
        "plt.legend()\n",
        "ax.set_xlabel('updates')\n",
        "ax.set_ylabel('loss')"
      ],
      "metadata": {
        "colab": {
          "base_uri": "https://localhost:8080/",
          "height": 405
        },
        "id": "y0NyPhdeK52s",
        "outputId": "99859f1c-ff9e-43a1-b60b-8733c85cc202"
      },
      "execution_count": 132,
      "outputs": [
        {
          "output_type": "execute_result",
          "data": {
            "text/plain": [
              "Text(0, 0.5, 'loss')"
            ]
          },
          "metadata": {},
          "execution_count": 132
        },
        {
          "output_type": "display_data",
          "data": {
            "text/plain": [
              "<Figure size 720x432 with 1 Axes>"
            ],
            "image/png": "[encoded data removed]"
          },
          "metadata": {
            "needs_background": "light"
          }
        }
      ]
    },
    {
      "cell_type": "code",
      "source": [
        "train_losses"
      ],
      "metadata": {
        "colab": {
          "base_uri": "https://localhost:8080/"
        },
        "id": "9G2zb7hjM5F6",
        "outputId": "02947952-2b33-4540-968c-83437e2d5f0f"
      },
      "execution_count": 133,
      "outputs": [
        {
          "output_type": "execute_result",
          "data": {
            "text/plain": [
              "[0.675048291683197,\n",
              " 2.053236246109009,\n",
              " 0.15380220115184784,\n",
              " 1.1053067445755005,\n",
              " 0.053921498358249664,\n",
              " 0.17921888828277588,\n",
              " 0.35456955432891846,\n",
              " 0.31062567234039307,\n",
              " 0.1608390361070633,\n",
              " 0.03824475780129433,\n",
              " 0.006502033676952124,\n",
              " 0.0037277527153491974,\n",
              " 0.007524594198912382,\n",
              " 0.016313744708895683,\n",
              " 0.03284941986203194,\n",
              " 0.03999921679496765,\n",
              " 0.03973234072327614,\n",
              " 0.02592817135155201,\n",
              " 0.012291228398680687,\n",
              " 0.006370546296238899,\n",
              " 0.003509231610223651,\n",
              " 0.0018831894267350435,\n",
              " 0.00098489283118397,\n",
              " 0.0005350197898223996,\n",
              " 0.00042879011016339064,\n",
              " 0.0002401618694420904,\n",
              " 0.00014604837633669376,\n",
              " 0.00010007721721194685,\n",
              " 8.405201515415683e-05,\n",
              " 6.111629045335576e-05,\n",
              " 5.361771764000878e-05,\n",
              " 4.960806472809054e-05,\n",
              " 4.7050216380739585e-05,\n",
              " 4.967100903741084e-05,\n",
              " 4.1252504161093384e-05,\n",
              " 4.435031587490812e-05,\n",
              " 3.90305976907257e-05,\n",
              " 3.6311008443590254e-05,\n",
              " 4.257245745975524e-05,\n",
              " 4.959143552696332e-05,\n",
              " 4.712166264653206e-05,\n",
              " 4.8269495891872793e-05,\n",
              " 4.397969678393565e-05,\n",
              " 4.390391040942632e-05,\n",
              " 5.19520508532878e-05,\n",
              " 4.575607817969285e-05,\n",
              " 4.7608104068785906e-05,\n",
              " 5.6533132010372356e-05,\n",
              " 4.975290721631609e-05,\n",
              " 5.2861250878777355e-05,\n",
              " 5.334867455530912e-05,\n",
              " 4.1845192754408345e-05,\n",
              " 4.6102319174678996e-05,\n",
              " 5.163741661817767e-05,\n",
              " 4.762945172842592e-05,\n",
              " 4.873444413533434e-05,\n",
              " 5.097659595776349e-05,\n",
              " 4.657890895032324e-05,\n",
              " 5.042402699473314e-05,\n",
              " 5.8135774452239275e-05,\n",
              " 4.1335813875775784e-05,\n",
              " 5.2081250032642856e-05,\n",
              " 5.159378270036541e-05,\n",
              " 4.122761674807407e-05,\n",
              " 5.1973122026538476e-05,\n",
              " 4.6286164433695376e-05,\n",
              " 5.3684281738242134e-05,\n",
              " 5.107394099468365e-05,\n",
              " 4.473721855902113e-05,\n",
              " 5.533069997909479e-05,\n",
              " 5.161538865650073e-05,\n",
              " 4.7109482693485916e-05,\n",
              " 5.010991662857123e-05,\n",
              " 4.447723404155113e-05,\n",
              " 5.510307164513506e-05,\n",
              " 4.6383775043068454e-05,\n",
              " 5.2233099268050864e-05,\n",
              " 4.4769611122319475e-05,\n",
              " 4.82358991575893e-05,\n",
              " 4.8257621529046446e-05,\n",
              " 4.4228170736460015e-05,\n",
              " 4.766186611959711e-05,\n",
              " 5.0976243073819205e-05,\n",
              " 4.780258677783422e-05,\n",
              " 4.629698014468886e-05,\n",
              " 4.580977474688552e-05,\n",
              " 4.619963146978989e-05,\n",
              " 4.413060742081143e-05,\n",
              " 3.675343032227829e-05,\n",
              " 4.277658445062116e-05,\n",
              " 4.357829675427638e-05,\n",
              " 4.8116933612618595e-05,\n",
              " 3.8248537748586386e-05,\n",
              " 3.608181941672228e-05,\n",
              " 4.38707611465361e-05,\n",
              " 4.366465509519912e-05,\n",
              " 4.214825457893312e-05,\n",
              " 3.749020106624812e-05,\n",
              " 4.085921682417393e-05,\n",
              " 4.644866567105055e-05,\n",
              " 3.798854959313758e-05,\n",
              " 3.686173295136541e-05,\n",
              " 4.0891791286412627e-05,\n",
              " 4.3914082198170945e-05,\n",
              " 4.0783379517961293e-05,\n",
              " 3.968939927290194e-05,\n",
              " 3.457618004176766e-05,\n",
              " 3.273434049333446e-05,\n",
              " 4.5138087443774566e-05,\n",
              " 3.992766869487241e-05,\n",
              " 3.766360168810934e-05,\n",
              " 3.931023820769042e-05,\n",
              " 3.148845280520618e-05,\n",
              " 3.692707105074078e-05,\n",
              " 3.825940075330436e-05,\n",
              " 4.4195647205924615e-05,\n",
              " 3.211680086678825e-05,\n",
              " 3.32001582137309e-05,\n",
              " 3.499860395095311e-05,\n",
              " 2.995011891471222e-05,\n",
              " 3.474934783298522e-05,\n",
              " 3.607110193115659e-05,\n",
              " 3.6222631024429575e-05,\n",
              " 3.996027589892037e-05,\n",
              " 3.2041043596109375e-05,\n",
              " 3.4305237932130694e-05,\n",
              " 3.372026912984438e-05,\n",
              " 3.1542709621135145e-05,\n",
              " 3.199766797479242e-05,\n",
              " 2.7815713110612705e-05,\n",
              " 3.812944851233624e-05,\n",
              " 3.1781008146936074e-05,\n",
              " 2.708992724365089e-05,\n",
              " 3.896358248312026e-05,\n",
              " 3.1932755518937483e-05,\n",
              " 3.160769847454503e-05,\n",
              " 3.339525210321881e-05,\n",
              " 2.9159140467527322e-05,\n",
              " 3.495523560559377e-05,\n",
              " 3.1921870686346665e-05,\n",
              " 3.3102758607128635e-05,\n",
              " 3.194351666024886e-05,\n",
              " 2.889920688176062e-05,\n",
              " 2.9917644496890716e-05,\n",
              " 3.079513771808706e-05,\n",
              " 2.841171772161033e-05,\n",
              " 3.0545998015441e-05,\n",
              " 3.0101813536020927e-05,\n",
              " 3.425110844545998e-05,\n",
              " 3.2030235161073506e-05,\n",
              " 3.170522177242674e-05,\n",
              " 3.251790985814296e-05,\n",
              " 3.055680645047687e-05,\n",
              " 3.496617136988789e-05,\n",
              " 3.517197183100507e-05,\n",
              " 2.5475619622739032e-05,\n",
              " 2.862838482542429e-05,\n",
              " 2.9289203666849062e-05,\n",
              " 2.5638066290412098e-05,\n",
              " 2.8552633011713624e-05,\n",
              " 3.3926087780855596e-05,\n",
              " 2.936504824901931e-05,\n",
              " 2.8964159355382435e-05,\n",
              " 2.5898074454744346e-05,\n",
              " 2.7230802515987307e-05,\n",
              " 2.5703122446429916e-05,\n",
              " 2.774001950456295e-05,\n",
              " 2.5735649614944123e-05,\n",
              " 2.5594779799575917e-05,\n",
              " 3.069771992159076e-05,\n",
              " 2.620153099996969e-05,\n",
              " 1.844367216108367e-05,\n",
              " 2.677575685083866e-05,\n",
              " 2.1163277779123746e-05,\n",
              " 2.7696607503457926e-05,\n",
              " 2.7447427783044986e-05,\n",
              " 2.6212352167931385e-05,\n",
              " 2.327612673980184e-05,\n",
              " 2.5291343263234012e-05,\n",
              " 2.7707528715836816e-05,\n",
              " 3.0069360946072266e-05,\n",
              " 2.669994682946708e-05,\n",
              " 2.685150866454933e-05,\n",
              " 2.382875572948251e-05,\n",
              " 2.5356350306537934e-05,\n",
              " 2.654823401826434e-05,\n",
              " 2.6992394850822166e-05,\n",
              " 2.6060624804813415e-05,\n",
              " 2.663490522536449e-05,\n",
              " 2.5659806851763278e-05,\n",
              " 2.5930734409485012e-05,\n",
              " 2.3384449377772398e-05,\n",
              " 2.425132151984144e-05,\n",
              " 2.4879727789084427e-05,\n",
              " 2.4164619389921427e-05,\n",
              " 2.2095124222687446e-05,\n",
              " 2.3882950699771754e-05,\n",
              " 2.6331688786740415e-05,\n",
              " 2.3579579647048377e-05,\n",
              " 2.3211148800328374e-05]"
            ]
          },
          "metadata": {},
          "execution_count": 133
        }
      ]
    },
    {
      "cell_type": "code",
      "source": [
        "y_test"
      ],
      "metadata": {
        "colab": {
          "base_uri": "https://localhost:8080/"
        },
        "id": "rOeze6bED12x",
        "outputId": "c92e6b3d-93a9-4c36-e90e-508e0ac5860a"
      },
      "execution_count": 134,
      "outputs": [
        {
          "output_type": "execute_result",
          "data": {
            "text/plain": [
              "array([0, 0, 1, 1])"
            ]
          },
          "metadata": {},
          "execution_count": 134
        }
      ]
    },
    {
      "cell_type": "code",
      "source": [
        "model = eegConv1d().to(device)\n",
        "model.load_state_dict(torch.load('./models/CNN1D.pt'))\n",
        "\n",
        "model.eval()\n",
        "\n",
        "with torch.no_grad():\n",
        "    total   = 0\n",
        "    correct = 0\n",
        "    for X_test, y_test in test_loader:\n",
        "        X_test = X_test.to(device)\n",
        "        y_test = y_test.to(device)\n",
        "        predictions   = model(X_test)\n",
        "        test_loss     = criterion(predictions, y_test.to(torch.long))\n",
        "        # .to(torch.int64)\n",
        "        _, predicted = torch.max(predictions, 1)  #returns max value, indices\n",
        "\n",
        "        total += y_test.size(0)\n",
        "        correct += (predicted == y_test).sum().item()  #.item() give the raw number\n",
        "        acc = 100 * (correct / total)\n",
        "    \n",
        "print(f\"Accuracy: {acc:2.3f}\")"
      ],
      "metadata": {
        "colab": {
          "base_uri": "https://localhost:8080/"
        },
        "id": "MCssbguuhxZk",
        "outputId": "f2510956-fac4-4fd7-ffe9-661fce2847c1"
      },
      "execution_count": 135,
      "outputs": [
        {
          "output_type": "stream",
          "name": "stdout",
          "text": [
            "Accuracy: 75.000\n"
          ]
        }
      ]
    },
    {
      "cell_type": "code",
      "source": [],
      "metadata": {
        "id": "VZgHtH5ln6G0"
      },
      "execution_count": 135,
      "outputs": []
    }
  ]
}