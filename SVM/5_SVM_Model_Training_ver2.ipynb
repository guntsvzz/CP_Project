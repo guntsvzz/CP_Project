{
 "cells": [
  {
   "cell_type": "code",
   "execution_count": 21,
   "id": "cf05a329",
   "metadata": {},
   "outputs": [],
   "source": [
    "# Imports\n",
    "import os\n",
    "import numpy as np\n",
    "import pandas as pd\n",
    "import matplotlib.pyplot as plt\n",
    "from sklearn.model_selection import train_test_split\n",
    "from sklearn.preprocessing import MinMaxScaler\n",
    "from sklearn.model_selection import GridSearchCV\n",
    "from sklearn.svm import SVC\n",
    "from sklearn.metrics import accuracy_score, classification_report\n",
    "from sklearn.model_selection import StratifiedShuffleSplit\n",
    "%matplotlib inline"
   ]
  },
  {
   "cell_type": "code",
   "execution_count": 22,
   "id": "7c3561b1",
   "metadata": {},
   "outputs": [
    {
     "data": {
      "text/html": [
       "<div>\n",
       "<style scoped>\n",
       "    .dataframe tbody tr th:only-of-type {\n",
       "        vertical-align: middle;\n",
       "    }\n",
       "\n",
       "    .dataframe tbody tr th {\n",
       "        vertical-align: top;\n",
       "    }\n",
       "\n",
       "    .dataframe thead th {\n",
       "        text-align: right;\n",
       "    }\n",
       "</style>\n",
       "<table border=\"1\" class=\"dataframe\">\n",
       "  <thead>\n",
       "    <tr style=\"text-align: right;\">\n",
       "      <th></th>\n",
       "      <th>mean_Delta</th>\n",
       "      <th>mean_Theta</th>\n",
       "      <th>mean_Alpha</th>\n",
       "      <th>mean_Beta</th>\n",
       "      <th>mean_Gamma</th>\n",
       "      <th>mean_Slow</th>\n",
       "      <th>mean_Low_beta</th>\n",
       "      <th>Fp1_Delta</th>\n",
       "      <th>Fp1_Theta</th>\n",
       "      <th>Fp1_Alpha</th>\n",
       "      <th>...</th>\n",
       "      <th>O2_Slow</th>\n",
       "      <th>O2_Low_beta</th>\n",
       "      <th>alpha_frontal</th>\n",
       "      <th>alpha_temporal</th>\n",
       "      <th>alpha_asymmetry</th>\n",
       "      <th>beta_frontal</th>\n",
       "      <th>beta_temporal</th>\n",
       "      <th>beat_asymmetry</th>\n",
       "      <th>participant_id</th>\n",
       "      <th>label</th>\n",
       "    </tr>\n",
       "  </thead>\n",
       "  <tbody>\n",
       "    <tr>\n",
       "      <th>0</th>\n",
       "      <td>-110.329965</td>\n",
       "      <td>-121.299482</td>\n",
       "      <td>-123.725032</td>\n",
       "      <td>-131.335399</td>\n",
       "      <td>-134.971232</td>\n",
       "      <td>-123.031043</td>\n",
       "      <td>-128.526178</td>\n",
       "      <td>-106.209371</td>\n",
       "      <td>-117.231013</td>\n",
       "      <td>-122.637565</td>\n",
       "      <td>...</td>\n",
       "      <td>-122.325200</td>\n",
       "      <td>-127.567021</td>\n",
       "      <td>-0.002908</td>\n",
       "      <td>-0.000649</td>\n",
       "      <td>-0.003557</td>\n",
       "      <td>-0.002668</td>\n",
       "      <td>0.010859</td>\n",
       "      <td>0.008191</td>\n",
       "      <td>1</td>\n",
       "      <td>1</td>\n",
       "    </tr>\n",
       "    <tr>\n",
       "      <th>1</th>\n",
       "      <td>-110.383640</td>\n",
       "      <td>-121.158052</td>\n",
       "      <td>-123.636121</td>\n",
       "      <td>-130.643007</td>\n",
       "      <td>-134.449370</td>\n",
       "      <td>-123.097757</td>\n",
       "      <td>-128.670923</td>\n",
       "      <td>-107.994728</td>\n",
       "      <td>-120.509328</td>\n",
       "      <td>-120.470155</td>\n",
       "      <td>...</td>\n",
       "      <td>-123.572993</td>\n",
       "      <td>-130.006559</td>\n",
       "      <td>-0.005629</td>\n",
       "      <td>-0.008944</td>\n",
       "      <td>-0.014573</td>\n",
       "      <td>-0.001315</td>\n",
       "      <td>0.003450</td>\n",
       "      <td>0.002135</td>\n",
       "      <td>1</td>\n",
       "      <td>1</td>\n",
       "    </tr>\n",
       "    <tr>\n",
       "      <th>2</th>\n",
       "      <td>-111.593383</td>\n",
       "      <td>-120.712248</td>\n",
       "      <td>-124.276396</td>\n",
       "      <td>-130.440765</td>\n",
       "      <td>-134.357490</td>\n",
       "      <td>-123.286220</td>\n",
       "      <td>-130.602665</td>\n",
       "      <td>-110.782820</td>\n",
       "      <td>-117.801016</td>\n",
       "      <td>-121.948612</td>\n",
       "      <td>...</td>\n",
       "      <td>-123.730226</td>\n",
       "      <td>-131.785838</td>\n",
       "      <td>-0.003908</td>\n",
       "      <td>-0.004460</td>\n",
       "      <td>-0.008369</td>\n",
       "      <td>0.000354</td>\n",
       "      <td>0.002001</td>\n",
       "      <td>0.002355</td>\n",
       "      <td>1</td>\n",
       "      <td>1</td>\n",
       "    </tr>\n",
       "    <tr>\n",
       "      <th>3</th>\n",
       "      <td>-111.292704</td>\n",
       "      <td>-122.189083</td>\n",
       "      <td>-123.512155</td>\n",
       "      <td>-128.614875</td>\n",
       "      <td>-135.116331</td>\n",
       "      <td>-123.276588</td>\n",
       "      <td>-127.691734</td>\n",
       "      <td>-108.605531</td>\n",
       "      <td>-119.022817</td>\n",
       "      <td>-119.382605</td>\n",
       "      <td>...</td>\n",
       "      <td>-125.327886</td>\n",
       "      <td>-129.835990</td>\n",
       "      <td>-0.005010</td>\n",
       "      <td>0.010191</td>\n",
       "      <td>0.005181</td>\n",
       "      <td>-0.005576</td>\n",
       "      <td>0.003535</td>\n",
       "      <td>-0.002042</td>\n",
       "      <td>1</td>\n",
       "      <td>1</td>\n",
       "    </tr>\n",
       "    <tr>\n",
       "      <th>4</th>\n",
       "      <td>-113.361314</td>\n",
       "      <td>-119.989890</td>\n",
       "      <td>-123.255042</td>\n",
       "      <td>-130.600926</td>\n",
       "      <td>-135.144714</td>\n",
       "      <td>-122.298936</td>\n",
       "      <td>-129.782153</td>\n",
       "      <td>-109.577307</td>\n",
       "      <td>-117.077183</td>\n",
       "      <td>-119.433042</td>\n",
       "      <td>...</td>\n",
       "      <td>-122.141809</td>\n",
       "      <td>-131.338841</td>\n",
       "      <td>0.001069</td>\n",
       "      <td>-0.002919</td>\n",
       "      <td>-0.001850</td>\n",
       "      <td>-0.007245</td>\n",
       "      <td>0.008795</td>\n",
       "      <td>0.001550</td>\n",
       "      <td>1</td>\n",
       "      <td>1</td>\n",
       "    </tr>\n",
       "  </tbody>\n",
       "</table>\n",
       "<p>5 rows × 127 columns</p>\n",
       "</div>"
      ],
      "text/plain": [
       "   mean_Delta  mean_Theta  mean_Alpha   mean_Beta  mean_Gamma   mean_Slow  \\\n",
       "0 -110.329965 -121.299482 -123.725032 -131.335399 -134.971232 -123.031043   \n",
       "1 -110.383640 -121.158052 -123.636121 -130.643007 -134.449370 -123.097757   \n",
       "2 -111.593383 -120.712248 -124.276396 -130.440765 -134.357490 -123.286220   \n",
       "3 -111.292704 -122.189083 -123.512155 -128.614875 -135.116331 -123.276588   \n",
       "4 -113.361314 -119.989890 -123.255042 -130.600926 -135.144714 -122.298936   \n",
       "\n",
       "   mean_Low_beta   Fp1_Delta   Fp1_Theta   Fp1_Alpha  ...     O2_Slow  \\\n",
       "0    -128.526178 -106.209371 -117.231013 -122.637565  ... -122.325200   \n",
       "1    -128.670923 -107.994728 -120.509328 -120.470155  ... -123.572993   \n",
       "2    -130.602665 -110.782820 -117.801016 -121.948612  ... -123.730226   \n",
       "3    -127.691734 -108.605531 -119.022817 -119.382605  ... -125.327886   \n",
       "4    -129.782153 -109.577307 -117.077183 -119.433042  ... -122.141809   \n",
       "\n",
       "   O2_Low_beta  alpha_frontal  alpha_temporal  alpha_asymmetry  beta_frontal  \\\n",
       "0  -127.567021      -0.002908       -0.000649        -0.003557     -0.002668   \n",
       "1  -130.006559      -0.005629       -0.008944        -0.014573     -0.001315   \n",
       "2  -131.785838      -0.003908       -0.004460        -0.008369      0.000354   \n",
       "3  -129.835990      -0.005010        0.010191         0.005181     -0.005576   \n",
       "4  -131.338841       0.001069       -0.002919        -0.001850     -0.007245   \n",
       "\n",
       "   beta_temporal  beat_asymmetry  participant_id  label  \n",
       "0       0.010859        0.008191               1      1  \n",
       "1       0.003450        0.002135               1      1  \n",
       "2       0.002001        0.002355               1      1  \n",
       "3       0.003535       -0.002042               1      1  \n",
       "4       0.008795        0.001550               1      1  \n",
       "\n",
       "[5 rows x 127 columns]"
      ]
     },
     "execution_count": 22,
     "metadata": {},
     "output_type": "execute_result"
    }
   ],
   "source": [
    "# Load CSV\n",
    "file_path = '../data/psd_features_csv/all.csv'\n",
    "df = pd.read_csv(file_path)\n",
    "df.head()"
   ]
  },
  {
   "cell_type": "code",
   "execution_count": 23,
   "id": "ceccc221",
   "metadata": {},
   "outputs": [
    {
     "data": {
      "text/plain": [
       "0    240\n",
       "1    168\n",
       "Name: label, dtype: int64"
      ]
     },
     "execution_count": 23,
     "metadata": {},
     "output_type": "execute_result"
    }
   ],
   "source": [
    "# Check for imbalance\n",
    "df['label'].value_counts()"
   ]
  },
  {
   "cell_type": "code",
   "execution_count": 24,
   "id": "6ec5e796",
   "metadata": {},
   "outputs": [
    {
     "data": {
      "text/plain": [
       "(168, 127)"
      ]
     },
     "execution_count": 24,
     "metadata": {},
     "output_type": "execute_result"
    }
   ],
   "source": [
    "# Select equal number of samples from each label\n",
    "label_1 = df.loc[df['label'] == 1]\n",
    "label_1.shape"
   ]
  },
  {
   "cell_type": "code",
   "execution_count": 25,
   "id": "34eb5baf",
   "metadata": {},
   "outputs": [
    {
     "data": {
      "text/plain": [
       "(168, 127)"
      ]
     },
     "execution_count": 25,
     "metadata": {},
     "output_type": "execute_result"
    }
   ],
   "source": [
    "label_0 = df.loc[df['label'] == 0].sample(n=label_1.shape[0], random_state=999)\n",
    "label_0.shape"
   ]
  },
  {
   "cell_type": "code",
   "execution_count": 26,
   "id": "124a9d01",
   "metadata": {},
   "outputs": [
    {
     "data": {
      "text/plain": [
       "1    168\n",
       "0    168\n",
       "Name: label, dtype: int64"
      ]
     },
     "execution_count": 26,
     "metadata": {},
     "output_type": "execute_result"
    }
   ],
   "source": [
    "new_df = pd.concat([label_1, label_0])\n",
    "new_df['label'].value_counts()"
   ]
  },
  {
   "cell_type": "code",
   "execution_count": 27,
   "id": "2ab86826",
   "metadata": {},
   "outputs": [],
   "source": [
    "# Feature selection/extraction\n",
    "X = new_df[['mean_Delta', 'mean_Theta', 'mean_Alpha', 'mean_Beta', 'mean_Gamma', 'mean_Slow', 'mean_Low_beta', 'Fp1_Delta', 'Fp1_Theta', 'Fp1_Alpha', 'Fp1_Beta', 'Fp1_Gamma', 'Fp1_Slow', 'Fp1_Low_beta', 'Fp2_Delta', 'Fp2_Theta', 'Fp2_Alpha', 'Fp2_Beta', 'Fp2_Gamma', 'Fp2_Slow', 'Fp2_Low_beta', 'F7_Delta', 'F7_Theta', 'F7_Alpha', 'F7_Beta', 'F7_Gamma', 'F7_Slow', 'F7_Low_beta', 'F3_Delta', 'F3_Theta', 'F3_Alpha', 'F3_Beta', 'F3_Gamma', 'F3_Slow', 'F3_Low_beta', 'F4_Delta', 'F4_Theta', 'F4_Alpha', 'F4_Beta', 'F4_Gamma', 'F4_Slow', 'F4_Low_beta', 'F8_Delta', 'F8_Theta', 'F8_Alpha', 'F8_Beta', 'F8_Gamma', 'F8_Slow', 'F8_Low_beta', 'T3_Delta', 'T3_Theta', 'T3_Alpha', 'T3_Beta', 'T3_Gamma', 'T3_Slow', 'T3_Low_beta', 'C3_Delta', 'C3_Theta', 'C3_Alpha', 'C3_Beta', 'C3_Gamma', 'C3_Slow', 'C3_Low_beta', 'C4_Delta', 'C4_Theta', 'C4_Alpha', 'C4_Beta', 'C4_Gamma', 'C4_Slow', 'C4_Low_beta', 'T4_Delta', 'T4_Theta', 'T4_Alpha', 'T4_Beta', 'T4_Gamma', 'T4_Slow', 'T4_Low_beta', 'T5_Delta', 'T5_Theta', 'T5_Alpha', 'T5_Beta', 'T5_Gamma', 'T5_Slow', 'T5_Low_beta', 'P3_Delta', 'P3_Theta', 'P3_Alpha', 'P3_Beta', 'P3_Gamma', 'P3_Slow', 'P3_Low_beta', 'P4_Delta', 'P4_Theta', 'P4_Alpha', 'P4_Beta', 'P4_Gamma', 'P4_Slow', 'P4_Low_beta', 'T6_Delta', 'T6_Theta', 'T6_Alpha', 'T6_Beta', 'T6_Gamma', 'T6_Slow', 'T6_Low_beta', 'O1_Delta', 'O1_Theta', 'O1_Alpha', 'O1_Beta', 'O1_Gamma', 'O1_Slow', 'O1_Low_beta', 'O2_Delta', 'O2_Theta', 'O2_Alpha', 'O2_Beta', 'O2_Gamma', 'O2_Slow', 'O2_Low_beta', 'alpha_frontal', 'alpha_temporal', 'alpha_asymmetry', 'beta_frontal', 'beta_temporal', 'beat_asymmetry', 'participant_id', 'label']]\n",
    "y = new_df[['label']]"
   ]
  },
  {
   "cell_type": "code",
   "execution_count": 28,
   "id": "78183ac3",
   "metadata": {},
   "outputs": [
    {
     "data": {
      "text/plain": [
       "((268, 127), (68, 127), (268, 1), (68, 1))"
      ]
     },
     "execution_count": 28,
     "metadata": {},
     "output_type": "execute_result"
    }
   ],
   "source": [
    "# Train-test split\n",
    "\n",
    "X_train, X_test, y_train, y_test = train_test_split(\n",
    "    X, y, test_size = 0.2, random_state = 999\n",
    ")\n",
    "X_train.shape, X_test.shape, y_train.shape, y_test.shape"
   ]
  },
  {
   "cell_type": "code",
   "execution_count": 29,
   "id": "8d8a82e5",
   "metadata": {},
   "outputs": [
    {
     "data": {
      "text/plain": [
       "((268, 127), (68, 127), (268,), (68,))"
      ]
     },
     "execution_count": 29,
     "metadata": {},
     "output_type": "execute_result"
    }
   ],
   "source": [
    "# Convert to numpy\n",
    "X_train = X_train.to_numpy()\n",
    "X_test = X_test.to_numpy()\n",
    "y_train = y_train.to_numpy()\n",
    "y_train = y_train.reshape(-1)\n",
    "y_test = y_test.to_numpy()\n",
    "y_test = y_test.reshape(-1)\n",
    "X_train.shape, X_test.shape, y_train.shape, y_test.shape"
   ]
  },
  {
   "cell_type": "code",
   "execution_count": 30,
   "id": "88aacd41",
   "metadata": {},
   "outputs": [
    {
     "data": {
      "text/plain": [
       "array([-1.08456727e+02, -1.16925839e+02, -1.18330785e+02, -1.21740811e+02,\n",
       "       -1.21704059e+02, -1.18191615e+02, -1.20959829e+02, -1.09291422e+02,\n",
       "       -1.18605966e+02, -1.19641204e+02, -1.20881220e+02, -1.20618274e+02,\n",
       "       -1.19608093e+02, -1.20551637e+02, -1.07175201e+02, -1.16938648e+02,\n",
       "       -1.18276083e+02, -1.20786353e+02, -1.20279818e+02, -1.17892874e+02,\n",
       "       -1.19716706e+02, -1.09968076e+02, -1.17526867e+02, -1.18791644e+02,\n",
       "       -1.20701896e+02, -1.20884696e+02, -1.18598250e+02, -1.19786912e+02,\n",
       "       -1.02779640e+02, -1.11462255e+02, -1.15860830e+02, -1.22232923e+02,\n",
       "       -1.28097175e+02, -1.14315836e+02, -1.19487165e+02, -1.12526359e+02,\n",
       "       -1.17796027e+02, -1.20527648e+02, -1.22065416e+02, -1.21028923e+02,\n",
       "       -1.19718689e+02, -1.22355376e+02, -1.11148192e+02, -1.17005624e+02,\n",
       "       -1.18723293e+02, -1.21195082e+02, -1.20745981e+02, -1.18212696e+02,\n",
       "       -1.20926104e+02, -1.12677024e+02, -1.17997653e+02, -1.18408874e+02,\n",
       "       -1.21014466e+02, -1.21079983e+02, -1.18799885e+02, -1.20920575e+02,\n",
       "       -1.14884174e+02, -1.20889284e+02, -1.20547394e+02, -1.22446619e+02,\n",
       "       -1.21372050e+02, -1.21322741e+02, -1.22666567e+02, -1.04958138e+02,\n",
       "       -1.16189723e+02, -1.20835538e+02, -1.22855022e+02, -1.21631448e+02,\n",
       "       -1.19488818e+02, -1.23773687e+02, -1.09325837e+02, -1.16491246e+02,\n",
       "       -1.20467570e+02, -1.21552155e+02, -1.21306854e+02, -1.19038229e+02,\n",
       "       -1.20174736e+02, -1.08987397e+02, -1.16802611e+02, -1.16107169e+02,\n",
       "       -1.22128927e+02, -1.21809014e+02, -1.17114536e+02, -1.20973258e+02,\n",
       "       -1.15783946e+02, -1.20504841e+02, -1.18724610e+02, -1.23042552e+02,\n",
       "       -1.21864074e+02, -1.20172000e+02, -1.23120097e+02, -1.05502168e+02,\n",
       "       -1.17918629e+02, -1.19991731e+02, -1.22590138e+02, -1.21993071e+02,\n",
       "       -1.19633046e+02, -1.21577767e+02, -1.09114284e+02, -1.17446344e+02,\n",
       "       -1.17898485e+02, -1.21325278e+02, -1.21541457e+02, -1.17963310e+02,\n",
       "       -1.19922670e+02, -9.38051508e+01, -1.09459124e+02, -1.13141865e+02,\n",
       "       -1.21575590e+02, -1.21667210e+02, -1.12539988e+02, -1.20100164e+02,\n",
       "       -1.07380615e+02, -1.17778581e+02, -1.15348617e+02, -1.21459334e+02,\n",
       "       -1.21344914e+02, -1.16646847e+02, -1.19303841e+02,  1.97421536e-02,\n",
       "        8.61824271e-03,  2.83603963e-02, -6.85663652e-04,  2.21666536e-03,\n",
       "        1.53100171e-03,  2.00000000e+00,  1.00000000e+00])"
      ]
     },
     "execution_count": 30,
     "metadata": {},
     "output_type": "execute_result"
    }
   ],
   "source": [
    "X_train[1,:]"
   ]
  },
  {
   "cell_type": "code",
   "execution_count": 31,
   "id": "7e1f7c62",
   "metadata": {},
   "outputs": [
    {
     "name": "stdout",
     "output_type": "stream",
     "text": [
      "(268, 127) (68, 127)\n"
     ]
    }
   ],
   "source": [
    "# Scaling X features\n",
    "# Note each feature is scaled independently\n",
    "\n",
    "X_train_scaled = np.zeros_like(X_train)\n",
    "X_test_scaled = np.zeros_like(X_test)\n",
    "print(X_train_scaled.shape, X_test_scaled.shape)\n",
    "\n",
    "scalers = {}\n",
    "for i in range(X_train.shape[1]):\n",
    "    scalers[i] = MinMaxScaler(feature_range=(-1, 1))\n",
    "    X_minmax = scalers[i].fit_transform(X_train[:,i].reshape(-1, 1))\n",
    "    X_train_scaled[:,i] = X_minmax[:,0]\n",
    "\n",
    "# for i in range(X_val.shape[1]):\n",
    "#     X_val[:, i, :]   = scalers[i].transform(X_val[:, i, :])     \n",
    "    \n",
    "for i in range(X_test.shape[1]):\n",
    "    X_test_minmax = scalers[i].transform(X_test[:,i].reshape(-1, 1))\n",
    "    X_test_scaled[:,i] = X_test_minmax[:,0]"
   ]
  },
  {
   "cell_type": "code",
   "execution_count": 32,
   "id": "4c391776",
   "metadata": {},
   "outputs": [
    {
     "data": {
      "text/plain": [
       "(array([-1.08456727e+02, -1.16925839e+02, -1.18330785e+02, -1.21740811e+02,\n",
       "        -1.21704059e+02, -1.18191615e+02, -1.20959829e+02, -1.09291422e+02,\n",
       "        -1.18605966e+02, -1.19641204e+02, -1.20881220e+02, -1.20618274e+02,\n",
       "        -1.19608093e+02, -1.20551637e+02, -1.07175201e+02, -1.16938648e+02,\n",
       "        -1.18276083e+02, -1.20786353e+02, -1.20279818e+02, -1.17892874e+02,\n",
       "        -1.19716706e+02, -1.09968076e+02, -1.17526867e+02, -1.18791644e+02,\n",
       "        -1.20701896e+02, -1.20884696e+02, -1.18598250e+02, -1.19786912e+02,\n",
       "        -1.02779640e+02, -1.11462255e+02, -1.15860830e+02, -1.22232923e+02,\n",
       "        -1.28097175e+02, -1.14315836e+02, -1.19487165e+02, -1.12526359e+02,\n",
       "        -1.17796027e+02, -1.20527648e+02, -1.22065416e+02, -1.21028923e+02,\n",
       "        -1.19718689e+02, -1.22355376e+02, -1.11148192e+02, -1.17005624e+02,\n",
       "        -1.18723293e+02, -1.21195082e+02, -1.20745981e+02, -1.18212696e+02,\n",
       "        -1.20926104e+02, -1.12677024e+02, -1.17997653e+02, -1.18408874e+02,\n",
       "        -1.21014466e+02, -1.21079983e+02, -1.18799885e+02, -1.20920575e+02,\n",
       "        -1.14884174e+02, -1.20889284e+02, -1.20547394e+02, -1.22446619e+02,\n",
       "        -1.21372050e+02, -1.21322741e+02, -1.22666567e+02, -1.04958138e+02,\n",
       "        -1.16189723e+02, -1.20835538e+02, -1.22855022e+02, -1.21631448e+02,\n",
       "        -1.19488818e+02, -1.23773687e+02, -1.09325837e+02, -1.16491246e+02,\n",
       "        -1.20467570e+02, -1.21552155e+02, -1.21306854e+02, -1.19038229e+02,\n",
       "        -1.20174736e+02, -1.08987397e+02, -1.16802611e+02, -1.16107169e+02,\n",
       "        -1.22128927e+02, -1.21809014e+02, -1.17114536e+02, -1.20973258e+02,\n",
       "        -1.15783946e+02, -1.20504841e+02, -1.18724610e+02, -1.23042552e+02,\n",
       "        -1.21864074e+02, -1.20172000e+02, -1.23120097e+02, -1.05502168e+02,\n",
       "        -1.17918629e+02, -1.19991731e+02, -1.22590138e+02, -1.21993071e+02,\n",
       "        -1.19633046e+02, -1.21577767e+02, -1.09114284e+02, -1.17446344e+02,\n",
       "        -1.17898485e+02, -1.21325278e+02, -1.21541457e+02, -1.17963310e+02,\n",
       "        -1.19922670e+02, -9.38051508e+01, -1.09459124e+02, -1.13141865e+02,\n",
       "        -1.21575590e+02, -1.21667210e+02, -1.12539988e+02, -1.20100164e+02,\n",
       "        -1.07380615e+02, -1.17778581e+02, -1.15348617e+02, -1.21459334e+02,\n",
       "        -1.21344914e+02, -1.16646847e+02, -1.19303841e+02,  1.97421536e-02,\n",
       "         8.61824271e-03,  2.83603963e-02, -6.85663652e-04,  2.21666536e-03,\n",
       "         1.53100171e-03,  2.00000000e+00,  1.00000000e+00]),\n",
       " array([-1.05584829e+02, -1.11148734e+02, -1.11882610e+02, -1.13157015e+02,\n",
       "        -1.15305458e+02, -1.11864757e+02, -1.11555818e+02, -1.06628508e+02,\n",
       "        -1.11396628e+02, -1.10962953e+02, -1.11879839e+02, -1.13708536e+02,\n",
       "        -1.11305784e+02, -1.10208218e+02, -1.04333397e+02, -1.10863762e+02,\n",
       "        -1.11085377e+02, -1.11851738e+02, -1.13575109e+02, -1.11126587e+02,\n",
       "        -1.10048653e+02, -1.05266014e+02, -1.11980815e+02, -1.11136461e+02,\n",
       "        -1.11792887e+02, -1.13665019e+02, -1.11640290e+02, -1.10043848e+02,\n",
       "        -1.08892807e+02, -1.12078038e+02, -1.11683497e+02, -1.11871617e+02,\n",
       "        -1.13741124e+02, -1.12083116e+02, -1.10298106e+02, -1.05958390e+02,\n",
       "        -1.10650196e+02, -1.11128774e+02, -1.11301299e+02, -1.12950325e+02,\n",
       "        -1.11169575e+02, -1.09796183e+02, -1.04439037e+02, -1.10834710e+02,\n",
       "        -1.11139396e+02, -1.11701501e+02, -1.13265161e+02, -1.11157068e+02,\n",
       "        -1.10271330e+02, -1.07707006e+02, -1.11948547e+02, -1.11092108e+02,\n",
       "        -1.11680825e+02, -1.13691012e+02, -1.11692287e+02, -1.09902979e+02,\n",
       "        -1.10125038e+02, -1.12666035e+02, -1.12301705e+02, -1.11844825e+02,\n",
       "        -1.13683122e+02, -1.12733736e+02, -1.10387225e+02, -1.10236313e+02,\n",
       "        -1.12683892e+02, -1.11938820e+02, -1.11912243e+02, -1.13379208e+02,\n",
       "        -1.12355927e+02, -1.10902501e+02, -1.07061619e+02, -1.10648772e+02,\n",
       "        -1.11143104e+02, -1.11823110e+02, -1.13357891e+02, -1.10984820e+02,\n",
       "        -1.10523568e+02, -1.07942022e+02, -1.10934534e+02, -1.11533663e+02,\n",
       "        -1.11936608e+02, -1.13583497e+02, -1.11673511e+02, -1.10394884e+02,\n",
       "        -1.08638757e+02, -1.11731892e+02, -1.12574450e+02, -1.11962965e+02,\n",
       "        -1.13482508e+02, -1.12511694e+02, -1.10564404e+02, -1.08153217e+02,\n",
       "        -1.11275528e+02, -1.12040991e+02, -1.12092522e+02, -1.13706685e+02,\n",
       "        -1.11931027e+02, -1.11190589e+02, -8.84193731e+01, -1.07151391e+02,\n",
       "        -1.10869636e+02, -1.18462884e+02, -1.21039787e+02, -1.10067540e+02,\n",
       "        -1.16680141e+02, -1.01510418e+02, -1.09910933e+02, -1.14514809e+02,\n",
       "        -1.18161237e+02, -1.23423598e+02, -1.13360317e+02, -1.15953358e+02,\n",
       "        -1.04045344e+02, -1.11624070e+02, -1.14976024e+02, -1.20236142e+02,\n",
       "        -1.24634748e+02, -1.14042836e+02, -1.17727107e+02, -2.48964453e-03,\n",
       "         2.29470837e-04, -2.26017369e-03, -2.55549932e-03,  6.36609111e-04,\n",
       "        -1.91889020e-03,  1.70000000e+01,  1.00000000e+00]))"
      ]
     },
     "execution_count": 32,
     "metadata": {},
     "output_type": "execute_result"
    }
   ],
   "source": [
    "X_train[1,:], X_test[1,:]"
   ]
  },
  {
   "cell_type": "code",
   "execution_count": 33,
   "id": "1ab5fe77",
   "metadata": {},
   "outputs": [
    {
     "data": {
      "text/plain": [
       "(array([-0.45958387, -0.51645435, -0.29969792, -0.33463017, -0.24182706,\n",
       "        -0.40259415, -0.26639387, -0.62435556, -0.86878914, -0.53234812,\n",
       "        -0.38288267, -0.23300319, -0.71365316, -0.28864609, -0.62944077,\n",
       "        -0.64502349, -0.48226256, -0.34758631, -0.23902313, -0.54067544,\n",
       "        -0.27722926, -0.84738204, -0.70904343, -0.433885  , -0.3521893 ,\n",
       "        -0.25380067, -0.57806273, -0.21622812, -0.29584593, -0.42744093,\n",
       "        -0.44603648, -0.36368668, -0.5888693 , -0.48114774, -0.33207947,\n",
       "        -0.83355893, -0.55485461, -0.41145262, -0.20149053, -0.08602762,\n",
       "        -0.51118402, -0.19978655, -0.8072678 , -0.5260252 , -0.32651807,\n",
       "        -0.33755243, -0.24322029, -0.3311118 , -0.32953682, -0.8845836 ,\n",
       "        -0.4806971 , -0.28053198, -0.30572468, -0.32394686, -0.36424721,\n",
       "        -0.22105077, -0.76581225, -0.63152989, -0.25219092, -0.28695827,\n",
       "        -0.18114314, -0.42217619, -0.26169697, -0.26548841, -0.36412467,\n",
       "        -0.35834975, -0.19793469, -0.11211526, -0.36500621, -0.28316653,\n",
       "        -0.77042663, -0.73565762, -0.77677619, -0.6614357 , -0.56502964,\n",
       "        -0.81101636, -0.6406414 , -0.72507975, -0.79896274, -0.70497097,\n",
       "        -0.73221168, -0.61548335, -0.76485054, -0.72580672, -0.76348457,\n",
       "        -0.52556466, -0.05230236, -0.25810966, -0.1279928 , -0.2398902 ,\n",
       "        -0.25952937, -0.12396735, -0.27766238, -0.31663774, -0.27723531,\n",
       "        -0.13455088, -0.35624554, -0.21906372, -0.74002046, -0.74948586,\n",
       "        -0.42533855, -0.19666727, -0.1424128 , -0.62189108, -0.26305402,\n",
       "        -0.10292745, -0.27627558, -0.15788738, -0.43296204, -0.16449367,\n",
       "        -0.26824521, -0.40409496, -0.55396923, -0.68512014, -0.23446991,\n",
       "        -0.3136793 , -0.20495992, -0.44142424, -0.24873211, -0.24740442,\n",
       "         0.80143595,  0.64091687, -0.47593974,  0.78066643,  0.68241361,\n",
       "        -0.875     ,  1.        ]),\n",
       " array([-1.43141430e-01,  2.39008475e-02,  2.90699229e-01,  2.57501614e-01,\n",
       "         1.14046603e-01,  2.42939035e-01,  4.49042901e-01, -4.50287557e-01,\n",
       "        -1.64415918e-01,  2.36393644e-01,  2.29647459e-01,  1.38083190e-01,\n",
       "         1.38859079e-01,  4.55456698e-01, -3.96835448e-01, -4.94371756e-02,\n",
       "         1.85410056e-01,  2.45558202e-01,  1.27199240e-01,  1.82329510e-01,\n",
       "         4.40180990e-01, -5.70982745e-01, -3.47222130e-01,  2.34054787e-01,\n",
       "         2.48634292e-01,  1.37742996e-01,  2.81760955e-02,  4.80491331e-01,\n",
       "        -6.37024563e-01, -4.54423877e-01, -2.38144493e-01,  3.06779808e-01,\n",
       "         1.77139015e-01, -3.72609603e-01,  1.49389040e-01, -4.31644379e-01,\n",
       "        -3.25537994e-02,  4.86577994e-01,  6.22313571e-01,  3.95073775e-01,\n",
       "         2.98849393e-01,  8.70499722e-01, -2.95775807e-01,  9.52364949e-02,\n",
       "         3.04246611e-01,  2.90009657e-01,  1.68389528e-01,  4.02858449e-01,\n",
       "         4.54014638e-01, -4.19874776e-01,  1.51872502e-01,  3.76352367e-01,\n",
       "         3.30093161e-01,  1.16033049e-01,  4.49933147e-01,  5.72620170e-01,\n",
       "        -2.34199885e-01, -4.99861314e-03,  3.29076764e-01,  3.37219155e-01,\n",
       "         2.01971805e-01,  2.55137310e-01,  5.10225757e-01, -5.53286397e-01,\n",
       "        -1.49578882e-01,  2.44014483e-01,  4.59622650e-01,  3.10136983e-01,\n",
       "         9.39001207e-02,  5.75697113e-01, -6.77850567e-01, -5.38039532e-01,\n",
       "        -4.77127541e-01, -3.74714802e-01, -3.43401088e-01, -5.40231467e-01,\n",
       "        -3.52739665e-01, -6.84771110e-01, -6.01198500e-01, -5.56959488e-01,\n",
       "        -4.31477258e-01, -3.87894606e-01, -5.85996564e-01, -4.08588056e-01,\n",
       "        -3.22197998e-01,  1.46213493e-01,  4.25390948e-01,  4.38528484e-01,\n",
       "         3.02768707e-01,  4.00864427e-01,  6.06291295e-01, -2.93699734e-01,\n",
       "         2.26212230e-01,  3.88886954e-01,  4.22331907e-01,  2.96127190e-01,\n",
       "         3.57150341e-01,  5.57324333e-01,  6.35253815e-02, -1.87773516e-01,\n",
       "        -2.68882129e-04,  5.81065744e-03, -1.14153915e-01, -1.44188491e-01,\n",
       "        -3.94731563e-02, -4.22789637e-01, -3.01196137e-01, -2.46863755e-01,\n",
       "        -2.17988725e-01, -2.76689635e-01, -3.19768706e-01, -1.46499624e-01,\n",
       "        -3.90161042e-01, -3.40076312e-01, -2.09288405e-01, -2.40657435e-01,\n",
       "        -3.71619394e-01, -2.67164016e-01, -1.53831480e-01, -5.42911360e-01,\n",
       "         7.50053630e-01,  4.80771883e-01, -5.17372824e-01,  7.71875360e-01,\n",
       "         6.64179804e-01,  1.00000000e+00,  1.00000000e+00]))"
      ]
     },
     "execution_count": 33,
     "metadata": {},
     "output_type": "execute_result"
    }
   ],
   "source": [
    "X_train_scaled[1,:], X_test_scaled[1,:]"
   ]
  },
  {
   "cell_type": "code",
   "execution_count": 34,
   "id": "e2ee627e",
   "metadata": {},
   "outputs": [
    {
     "data": {
      "text/plain": [
       "GridSearchCV(cv=StratifiedShuffleSplit(n_splits=5, random_state=999, test_size=0.2,\n",
       "            train_size=None),\n",
       "             estimator=SVC(max_iter=10000),\n",
       "             param_grid={'C': [0.1, 1, 10, 100, 1000],\n",
       "                         'gamma': ['scale', 'auto', 1, 0.1, 0.01, 0.001,\n",
       "                                   0.0001],\n",
       "                         'kernel': ['linear', 'poly', 'rbf', 'sigmoid']})"
      ]
     },
     "execution_count": 34,
     "metadata": {},
     "output_type": "execute_result"
    }
   ],
   "source": [
    "# Grid serach\n",
    "\n",
    "# Defining parameter range\n",
    "param_grid = {'C': [0.1, 1, 10, 100, 1000], \n",
    "              'gamma': ['scale', 'auto', 1, 0.1, 0.01, 0.001, 0.0001],\n",
    "              'kernel': ['linear','poly','rbf', 'sigmoid']} \n",
    "# param_grid = {'C': [0.1, 1, 10, 100, 1000], \n",
    "#               'gamma': ['scale', 'auto', 1, 0.1, 0.01, 0.001, 0.0001],\n",
    "#               'kernel': ['sigmoid']} \n",
    "\n",
    "estimator = SVC(max_iter=10000)\n",
    "cv = StratifiedShuffleSplit(n_splits=5, test_size=0.2, random_state=999)\n",
    "    \n",
    "grid = GridSearchCV(estimator, \n",
    "                    param_grid, \n",
    "                    cv=cv,\n",
    "                    refit = True, \n",
    "                    verbose = 0)\n",
    "  \n",
    "# Fitting the model for grid search\n",
    "grid.fit(X_train_scaled, y_train)"
   ]
  },
  {
   "cell_type": "code",
   "execution_count": 35,
   "id": "7fd6aa7f",
   "metadata": {},
   "outputs": [
    {
     "name": "stdout",
     "output_type": "stream",
     "text": [
      "{'C': 0.1, 'gamma': 'scale', 'kernel': 'linear'}\n"
     ]
    }
   ],
   "source": [
    "# print best parameter after tuning\n",
    "print(grid.best_params_)"
   ]
  },
  {
   "cell_type": "code",
   "execution_count": 36,
   "id": "6acf7585",
   "metadata": {},
   "outputs": [
    {
     "name": "stdout",
     "output_type": "stream",
     "text": [
      "SVC(C=0.1, kernel='linear', max_iter=10000)\n"
     ]
    }
   ],
   "source": [
    "print(grid.best_estimator_)"
   ]
  },
  {
   "cell_type": "code",
   "execution_count": 37,
   "id": "0edd0c4f",
   "metadata": {},
   "outputs": [
    {
     "data": {
      "text/plain": [
       "0.7794117647058824"
      ]
     },
     "execution_count": 37,
     "metadata": {},
     "output_type": "execute_result"
    }
   ],
   "source": [
    "yhat = grid.predict(X_test)\n",
    "accuracy_score(y_test, yhat)"
   ]
  },
  {
   "cell_type": "code",
   "execution_count": 38,
   "id": "b9c1fef6",
   "metadata": {},
   "outputs": [
    {
     "name": "stdout",
     "output_type": "stream",
     "text": [
      "              precision    recall  f1-score   support\n",
      "\n",
      "           0       1.00      0.56      0.72        34\n",
      "           1       0.69      1.00      0.82        34\n",
      "\n",
      "    accuracy                           0.78        68\n",
      "   macro avg       0.85      0.78      0.77        68\n",
      "weighted avg       0.85      0.78      0.77        68\n",
      "\n"
     ]
    }
   ],
   "source": [
    "print(classification_report(y_test, yhat))"
   ]
  },
  {
   "cell_type": "code",
   "execution_count": 44,
   "id": "ce6a8595",
   "metadata": {},
   "outputs": [
    {
     "data": {
      "text/plain": [
       "SVC(C=0.1, kernel='linear', max_iter=10000)"
      ]
     },
     "execution_count": 44,
     "metadata": {},
     "output_type": "execute_result"
    }
   ],
   "source": [
    "final_svm = SVC(C=0.1, gamma='scale', kernel='linear', max_iter=10000)\n",
    "final_svm.fit(X_train_scaled, y_train)"
   ]
  },
  {
   "cell_type": "code",
   "execution_count": 45,
   "id": "2a41f349",
   "metadata": {},
   "outputs": [
    {
     "data": {
      "text/plain": [
       "0.7794117647058824"
      ]
     },
     "execution_count": 45,
     "metadata": {},
     "output_type": "execute_result"
    }
   ],
   "source": [
    "yhat = final_svm.predict(X_test)\n",
    "accuracy_score(y_test, yhat)"
   ]
  },
  {
   "cell_type": "code",
   "execution_count": null,
   "id": "1d923c7d",
   "metadata": {},
   "outputs": [],
   "source": []
  },
  {
   "cell_type": "code",
   "execution_count": null,
   "id": "c4f0c99e",
   "metadata": {},
   "outputs": [],
   "source": []
  },
  {
   "cell_type": "code",
   "execution_count": null,
   "id": "0f467419",
   "metadata": {},
   "outputs": [],
   "source": []
  },
  {
   "cell_type": "code",
   "execution_count": null,
   "id": "5cbdb541",
   "metadata": {},
   "outputs": [],
   "source": []
  },
  {
   "cell_type": "code",
   "execution_count": null,
   "id": "db6aa67a",
   "metadata": {},
   "outputs": [],
   "source": []
  },
  {
   "cell_type": "code",
   "execution_count": null,
   "id": "3b2425a4",
   "metadata": {},
   "outputs": [],
   "source": []
  }
 ],
 "metadata": {
  "kernelspec": {
   "display_name": "Python 3 (ipykernel)",
   "language": "python",
   "name": "python3"
  },
  "language_info": {
   "codemirror_mode": {
    "name": "ipython",
    "version": 3
   },
   "file_extension": ".py",
   "mimetype": "text/x-python",
   "name": "python",
   "nbconvert_exporter": "python",
   "pygments_lexer": "ipython3",
   "version": "3.9.12"
  }
 },
 "nbformat": 4,
 "nbformat_minor": 5
}
