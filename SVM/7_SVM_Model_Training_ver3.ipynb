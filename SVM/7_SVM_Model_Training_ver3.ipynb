{
 "cells": [
  {
   "cell_type": "code",
   "execution_count": 27,
   "id": "cf05a329",
   "metadata": {},
   "outputs": [],
   "source": [
    "# Imports\n",
    "import os\n",
    "import numpy as np\n",
    "import pandas as pd\n",
    "import matplotlib.pyplot as plt\n",
    "from sklearn.model_selection import train_test_split\n",
    "from sklearn.preprocessing import MinMaxScaler\n",
    "from sklearn.model_selection import GridSearchCV\n",
    "from sklearn.svm import SVC\n",
    "from sklearn.metrics import accuracy_score, classification_report\n",
    "from sklearn.model_selection import StratifiedShuffleSplit\n",
    "from sklearn.metrics import confusion_matrix, ConfusionMatrixDisplay\n",
    "%matplotlib inline"
   ]
  },
  {
   "cell_type": "code",
   "execution_count": 28,
   "id": "7c3561b1",
   "metadata": {},
   "outputs": [],
   "source": [
    "# Load CSV\n",
    "train_file_path = '../data/filter_train_set.csv'\n",
    "test_file_path = '../data/filter_test_set.csv'"
   ]
  },
  {
   "cell_type": "code",
   "execution_count": 29,
   "id": "0104db80",
   "metadata": {},
   "outputs": [
    {
     "data": {
      "text/html": [
       "<div>\n",
       "<style scoped>\n",
       "    .dataframe tbody tr th:only-of-type {\n",
       "        vertical-align: middle;\n",
       "    }\n",
       "\n",
       "    .dataframe tbody tr th {\n",
       "        vertical-align: top;\n",
       "    }\n",
       "\n",
       "    .dataframe thead th {\n",
       "        text-align: right;\n",
       "    }\n",
       "</style>\n",
       "<table border=\"1\" class=\"dataframe\">\n",
       "  <thead>\n",
       "    <tr style=\"text-align: right;\">\n",
       "      <th></th>\n",
       "      <th>Unnamed: 0</th>\n",
       "      <th>mean_Delta</th>\n",
       "      <th>mean_Theta</th>\n",
       "      <th>mean_Alpha</th>\n",
       "      <th>mean_Beta</th>\n",
       "      <th>mean_Gamma</th>\n",
       "      <th>mean_Slow</th>\n",
       "      <th>mean_Low_beta</th>\n",
       "      <th>mean_Relative_gamma</th>\n",
       "      <th>Fp1_Delta</th>\n",
       "      <th>...</th>\n",
       "      <th>O2_Low_beta</th>\n",
       "      <th>O2_Relative_gamma</th>\n",
       "      <th>alpha_frontal</th>\n",
       "      <th>alpha_temporal</th>\n",
       "      <th>alpha_asymmetry</th>\n",
       "      <th>beta_frontal</th>\n",
       "      <th>beta_temporal</th>\n",
       "      <th>beat_asymmetry</th>\n",
       "      <th>participant_id</th>\n",
       "      <th>label</th>\n",
       "    </tr>\n",
       "  </thead>\n",
       "  <tbody>\n",
       "    <tr>\n",
       "      <th>0</th>\n",
       "      <td>0</td>\n",
       "      <td>-114.341825</td>\n",
       "      <td>-121.488572</td>\n",
       "      <td>-123.828235</td>\n",
       "      <td>-131.472169</td>\n",
       "      <td>-135.139612</td>\n",
       "      <td>-123.128543</td>\n",
       "      <td>-128.672829</td>\n",
       "      <td>0.911121</td>\n",
       "      <td>-108.585469</td>\n",
       "      <td>...</td>\n",
       "      <td>-127.824557</td>\n",
       "      <td>0.900983</td>\n",
       "      <td>-0.002424</td>\n",
       "      <td>-0.001148</td>\n",
       "      <td>-0.003572</td>\n",
       "      <td>-0.002992</td>\n",
       "      <td>0.010864</td>\n",
       "      <td>0.007871</td>\n",
       "      <td>1</td>\n",
       "      <td>1</td>\n",
       "    </tr>\n",
       "    <tr>\n",
       "      <th>1</th>\n",
       "      <td>1</td>\n",
       "      <td>-114.839073</td>\n",
       "      <td>-121.304136</td>\n",
       "      <td>-123.781423</td>\n",
       "      <td>-130.799737</td>\n",
       "      <td>-134.596977</td>\n",
       "      <td>-123.236447</td>\n",
       "      <td>-128.949312</td>\n",
       "      <td>0.915596</td>\n",
       "      <td>-110.156485</td>\n",
       "      <td>...</td>\n",
       "      <td>-130.412991</td>\n",
       "      <td>0.916433</td>\n",
       "      <td>-0.005414</td>\n",
       "      <td>-0.008728</td>\n",
       "      <td>-0.014143</td>\n",
       "      <td>-0.001580</td>\n",
       "      <td>0.003520</td>\n",
       "      <td>0.001940</td>\n",
       "      <td>1</td>\n",
       "      <td>1</td>\n",
       "    </tr>\n",
       "    <tr>\n",
       "      <th>2</th>\n",
       "      <td>2</td>\n",
       "      <td>-113.316245</td>\n",
       "      <td>-120.735108</td>\n",
       "      <td>-124.310022</td>\n",
       "      <td>-130.503170</td>\n",
       "      <td>-134.414663</td>\n",
       "      <td>-123.339975</td>\n",
       "      <td>-130.710334</td>\n",
       "      <td>0.917608</td>\n",
       "      <td>-111.637451</td>\n",
       "      <td>...</td>\n",
       "      <td>-131.930584</td>\n",
       "      <td>0.918449</td>\n",
       "      <td>-0.003896</td>\n",
       "      <td>-0.004369</td>\n",
       "      <td>-0.008265</td>\n",
       "      <td>0.000281</td>\n",
       "      <td>0.001873</td>\n",
       "      <td>0.002154</td>\n",
       "      <td>1</td>\n",
       "      <td>1</td>\n",
       "    </tr>\n",
       "    <tr>\n",
       "      <th>3</th>\n",
       "      <td>3</td>\n",
       "      <td>-113.712446</td>\n",
       "      <td>-122.213827</td>\n",
       "      <td>-123.576121</td>\n",
       "      <td>-128.656480</td>\n",
       "      <td>-135.155641</td>\n",
       "      <td>-123.311830</td>\n",
       "      <td>-127.730350</td>\n",
       "      <td>0.912369</td>\n",
       "      <td>-109.539221</td>\n",
       "      <td>...</td>\n",
       "      <td>-129.857027</td>\n",
       "      <td>0.925494</td>\n",
       "      <td>-0.005195</td>\n",
       "      <td>0.010574</td>\n",
       "      <td>0.005379</td>\n",
       "      <td>-0.005731</td>\n",
       "      <td>0.003617</td>\n",
       "      <td>-0.002114</td>\n",
       "      <td>1</td>\n",
       "      <td>1</td>\n",
       "    </tr>\n",
       "    <tr>\n",
       "      <th>4</th>\n",
       "      <td>4</td>\n",
       "      <td>-114.765877</td>\n",
       "      <td>-120.000556</td>\n",
       "      <td>-123.287467</td>\n",
       "      <td>-130.629803</td>\n",
       "      <td>-135.184171</td>\n",
       "      <td>-122.322574</td>\n",
       "      <td>-129.815779</td>\n",
       "      <td>0.904859</td>\n",
       "      <td>-109.297915</td>\n",
       "      <td>...</td>\n",
       "      <td>-131.320020</td>\n",
       "      <td>0.901602</td>\n",
       "      <td>0.001199</td>\n",
       "      <td>-0.002400</td>\n",
       "      <td>-0.001201</td>\n",
       "      <td>-0.007199</td>\n",
       "      <td>0.008931</td>\n",
       "      <td>0.001733</td>\n",
       "      <td>1</td>\n",
       "      <td>1</td>\n",
       "    </tr>\n",
       "  </tbody>\n",
       "</table>\n",
       "<p>5 rows × 145 columns</p>\n",
       "</div>"
      ],
      "text/plain": [
       "   Unnamed: 0  mean_Delta  mean_Theta  mean_Alpha   mean_Beta  mean_Gamma  \\\n",
       "0           0 -114.341825 -121.488572 -123.828235 -131.472169 -135.139612   \n",
       "1           1 -114.839073 -121.304136 -123.781423 -130.799737 -134.596977   \n",
       "2           2 -113.316245 -120.735108 -124.310022 -130.503170 -134.414663   \n",
       "3           3 -113.712446 -122.213827 -123.576121 -128.656480 -135.155641   \n",
       "4           4 -114.765877 -120.000556 -123.287467 -130.629803 -135.184171   \n",
       "\n",
       "    mean_Slow  mean_Low_beta  mean_Relative_gamma   Fp1_Delta  ...  \\\n",
       "0 -123.128543    -128.672829             0.911121 -108.585469  ...   \n",
       "1 -123.236447    -128.949312             0.915596 -110.156485  ...   \n",
       "2 -123.339975    -130.710334             0.917608 -111.637451  ...   \n",
       "3 -123.311830    -127.730350             0.912369 -109.539221  ...   \n",
       "4 -122.322574    -129.815779             0.904859 -109.297915  ...   \n",
       "\n",
       "   O2_Low_beta  O2_Relative_gamma  alpha_frontal  alpha_temporal  \\\n",
       "0  -127.824557           0.900983      -0.002424       -0.001148   \n",
       "1  -130.412991           0.916433      -0.005414       -0.008728   \n",
       "2  -131.930584           0.918449      -0.003896       -0.004369   \n",
       "3  -129.857027           0.925494      -0.005195        0.010574   \n",
       "4  -131.320020           0.901602       0.001199       -0.002400   \n",
       "\n",
       "   alpha_asymmetry  beta_frontal  beta_temporal  beat_asymmetry  \\\n",
       "0        -0.003572     -0.002992       0.010864        0.007871   \n",
       "1        -0.014143     -0.001580       0.003520        0.001940   \n",
       "2        -0.008265      0.000281       0.001873        0.002154   \n",
       "3         0.005379     -0.005731       0.003617       -0.002114   \n",
       "4        -0.001201     -0.007199       0.008931        0.001733   \n",
       "\n",
       "   participant_id  label  \n",
       "0               1      1  \n",
       "1               1      1  \n",
       "2               1      1  \n",
       "3               1      1  \n",
       "4               1      1  \n",
       "\n",
       "[5 rows x 145 columns]"
      ]
     },
     "execution_count": 29,
     "metadata": {},
     "output_type": "execute_result"
    }
   ],
   "source": [
    "train_df = pd.read_csv(train_file_path)\n",
    "train_df.head()"
   ]
  },
  {
   "cell_type": "code",
   "execution_count": 30,
   "id": "79391f52",
   "metadata": {},
   "outputs": [
    {
     "data": {
      "text/plain": [
       "(336, 145)"
      ]
     },
     "execution_count": 30,
     "metadata": {},
     "output_type": "execute_result"
    }
   ],
   "source": [
    "train_df.shape"
   ]
  },
  {
   "cell_type": "code",
   "execution_count": 31,
   "id": "85738972",
   "metadata": {},
   "outputs": [
    {
     "data": {
      "text/plain": [
       "0    192\n",
       "1    144\n",
       "Name: label, dtype: int64"
      ]
     },
     "execution_count": 31,
     "metadata": {},
     "output_type": "execute_result"
    }
   ],
   "source": [
    "# Check for imbalance\n",
    "train_df['label'].value_counts()"
   ]
  },
  {
   "cell_type": "code",
   "execution_count": 32,
   "id": "37f8d87f",
   "metadata": {},
   "outputs": [
    {
     "data": {
      "text/plain": [
       "(144, 145)"
      ]
     },
     "execution_count": 32,
     "metadata": {},
     "output_type": "execute_result"
    }
   ],
   "source": [
    "# Select equal number of samples from each label\n",
    "label_1 = train_df.loc[train_df['label'] == 1]\n",
    "label_1.shape"
   ]
  },
  {
   "cell_type": "code",
   "execution_count": 33,
   "id": "5cb8fd17",
   "metadata": {},
   "outputs": [
    {
     "data": {
      "text/plain": [
       "(144, 145)"
      ]
     },
     "execution_count": 33,
     "metadata": {},
     "output_type": "execute_result"
    }
   ],
   "source": [
    "label_0 = train_df.loc[train_df['label'] == 0].sample(n=label_1.shape[0], random_state=999)\n",
    "label_0.shape"
   ]
  },
  {
   "cell_type": "code",
   "execution_count": 34,
   "id": "295e24e1",
   "metadata": {},
   "outputs": [
    {
     "data": {
      "text/plain": [
       "1    144\n",
       "0    144\n",
       "Name: label, dtype: int64"
      ]
     },
     "execution_count": 34,
     "metadata": {},
     "output_type": "execute_result"
    }
   ],
   "source": [
    "new_df = pd.concat([label_1, label_0])\n",
    "new_df['label'].value_counts()"
   ]
  },
  {
   "cell_type": "code",
   "execution_count": 35,
   "id": "34eb5baf",
   "metadata": {},
   "outputs": [],
   "source": [
    "# Feature selection/extraction\n",
    "X_train = new_df[['mean_Delta', 'mean_Theta', 'mean_Alpha', 'mean_Beta', 'mean_Gamma', 'mean_Slow', 'mean_Low_beta', 'Fp1_Delta', 'Fp1_Theta', 'Fp1_Alpha', 'Fp1_Beta', 'Fp1_Gamma', 'Fp1_Slow', 'Fp1_Low_beta', 'Fp2_Delta', 'Fp2_Theta', 'Fp2_Alpha', 'Fp2_Beta', 'Fp2_Gamma', 'Fp2_Slow', 'Fp2_Low_beta', 'F7_Delta', 'F7_Theta', 'F7_Alpha', 'F7_Beta', 'F7_Gamma', 'F7_Slow', 'F7_Low_beta', 'F3_Delta', 'F3_Theta', 'F3_Alpha', 'F3_Beta', 'F3_Gamma', 'F3_Slow', 'F3_Low_beta', 'F4_Delta', 'F4_Theta', 'F4_Alpha', 'F4_Beta', 'F4_Gamma', 'F4_Slow', 'F4_Low_beta', 'F8_Delta', 'F8_Theta', 'F8_Alpha', 'F8_Beta', 'F8_Gamma', 'F8_Slow', 'F8_Low_beta', 'T3_Delta', 'T3_Theta', 'T3_Alpha', 'T3_Beta', 'T3_Gamma', 'T3_Slow', 'T3_Low_beta', 'C3_Delta', 'C3_Theta', 'C3_Alpha', 'C3_Beta', 'C3_Gamma', 'C3_Slow', 'C3_Low_beta', 'C4_Delta', 'C4_Theta', 'C4_Alpha', 'C4_Beta', 'C4_Gamma', 'C4_Slow', 'C4_Low_beta', 'T4_Delta', 'T4_Theta', 'T4_Alpha', 'T4_Beta', 'T4_Gamma', 'T4_Slow', 'T4_Low_beta', 'T5_Delta', 'T5_Theta', 'T5_Alpha', 'T5_Beta', 'T5_Gamma', 'T5_Slow', 'T5_Low_beta', 'P3_Delta', 'P3_Theta', 'P3_Alpha', 'P3_Beta', 'P3_Gamma', 'P3_Slow', 'P3_Low_beta', 'P4_Delta', 'P4_Theta', 'P4_Alpha', 'P4_Beta', 'P4_Gamma', 'P4_Slow', 'P4_Low_beta', 'T6_Delta', 'T6_Theta', 'T6_Alpha', 'T6_Beta', 'T6_Gamma', 'T6_Slow', 'T6_Low_beta', 'O1_Delta', 'O1_Theta', 'O1_Alpha', 'O1_Beta', 'O1_Gamma', 'O1_Slow', 'O1_Low_beta', 'O2_Delta', 'O2_Theta', 'O2_Alpha', 'O2_Beta', 'O2_Gamma', 'O2_Slow', 'O2_Low_beta', 'alpha_frontal', 'alpha_temporal', 'alpha_asymmetry', 'beta_frontal', 'beta_temporal', 'beat_asymmetry']]\n",
    "y_train = new_df[['label']]"
   ]
  },
  {
   "cell_type": "code",
   "execution_count": 36,
   "id": "124a9d01",
   "metadata": {},
   "outputs": [],
   "source": [
    "X_train = X_train.to_numpy()\n",
    "y_train = y_train.to_numpy()\n",
    "y_train = y_train.reshape(-1)"
   ]
  },
  {
   "cell_type": "code",
   "execution_count": 37,
   "id": "2ab86826",
   "metadata": {},
   "outputs": [
    {
     "name": "stdout",
     "output_type": "stream",
     "text": [
      "(288, 125)\n"
     ]
    }
   ],
   "source": [
    "X_train_scaled = np.zeros_like(X_train)\n",
    "print(X_train_scaled.shape)\n",
    "\n",
    "scalers = {}\n",
    "for i in range(X_train.shape[1]):\n",
    "    scalers[i] = MinMaxScaler(feature_range=(-1, 1))\n",
    "    X_minmax = scalers[i].fit_transform(X_train[:,i].reshape(-1, 1))\n",
    "    X_train_scaled[:,i] = X_minmax[:,0]"
   ]
  },
  {
   "cell_type": "code",
   "execution_count": 38,
   "id": "ba89b808",
   "metadata": {},
   "outputs": [
    {
     "data": {
      "text/plain": [
       "GridSearchCV(cv=StratifiedShuffleSplit(n_splits=5, random_state=999, test_size=0.2,\n",
       "            train_size=None),\n",
       "             estimator=SVC(max_iter=10000),\n",
       "             param_grid={'C': [0.1, 1, 10, 100, 1000],\n",
       "                         'gamma': ['scale', 'auto', 1, 0.1, 0.01, 0.001,\n",
       "                                   0.0001],\n",
       "                         'kernel': ['linear', 'poly', 'rbf', 'sigmoid']})"
      ]
     },
     "execution_count": 38,
     "metadata": {},
     "output_type": "execute_result"
    }
   ],
   "source": [
    "# Grid serach\n",
    "\n",
    "# Defining parameter range\n",
    "param_grid = {'C': [0.1, 1, 10, 100, 1000], \n",
    "              'gamma': ['scale', 'auto', 1, 0.1, 0.01, 0.001, 0.0001],\n",
    "              'kernel': ['linear','poly','rbf', 'sigmoid']} \n",
    "# param_grid = {'C': [0.1, 1, 10, 100, 1000], \n",
    "#               'gamma': ['scale', 'auto', 1, 0.1, 0.01, 0.001, 0.0001],\n",
    "#               'kernel': ['sigmoid']} \n",
    "\n",
    "estimator = SVC(max_iter=10000)\n",
    "cv = StratifiedShuffleSplit(n_splits=5, test_size=0.2, random_state=999)\n",
    "    \n",
    "grid = GridSearchCV(estimator, \n",
    "                    param_grid, \n",
    "                    cv=cv,\n",
    "                    refit = True, \n",
    "                    verbose = 0)\n",
    "  \n",
    "# Fitting the model for grid search\n",
    "grid.fit(X_train_scaled, y_train)"
   ]
  },
  {
   "cell_type": "code",
   "execution_count": 39,
   "id": "76c08a9f",
   "metadata": {},
   "outputs": [
    {
     "name": "stdout",
     "output_type": "stream",
     "text": [
      "{'C': 10, 'gamma': 0.1, 'kernel': 'rbf'}\n",
      "SVC(C=10, gamma=0.1, max_iter=10000)\n"
     ]
    }
   ],
   "source": [
    "print(grid.best_params_)\n",
    "\n",
    "print(grid.best_estimator_)"
   ]
  },
  {
   "cell_type": "code",
   "execution_count": 40,
   "id": "c1551f71",
   "metadata": {},
   "outputs": [
    {
     "data": {
      "text/html": [
       "<div>\n",
       "<style scoped>\n",
       "    .dataframe tbody tr th:only-of-type {\n",
       "        vertical-align: middle;\n",
       "    }\n",
       "\n",
       "    .dataframe tbody tr th {\n",
       "        vertical-align: top;\n",
       "    }\n",
       "\n",
       "    .dataframe thead th {\n",
       "        text-align: right;\n",
       "    }\n",
       "</style>\n",
       "<table border=\"1\" class=\"dataframe\">\n",
       "  <thead>\n",
       "    <tr style=\"text-align: right;\">\n",
       "      <th></th>\n",
       "      <th>Unnamed: 0</th>\n",
       "      <th>mean_Delta</th>\n",
       "      <th>mean_Theta</th>\n",
       "      <th>mean_Alpha</th>\n",
       "      <th>mean_Beta</th>\n",
       "      <th>mean_Gamma</th>\n",
       "      <th>mean_Slow</th>\n",
       "      <th>mean_Low_beta</th>\n",
       "      <th>mean_Relative_gamma</th>\n",
       "      <th>Fp1_Delta</th>\n",
       "      <th>...</th>\n",
       "      <th>O2_Low_beta</th>\n",
       "      <th>O2_Relative_gamma</th>\n",
       "      <th>alpha_frontal</th>\n",
       "      <th>alpha_temporal</th>\n",
       "      <th>alpha_asymmetry</th>\n",
       "      <th>beta_frontal</th>\n",
       "      <th>beta_temporal</th>\n",
       "      <th>beat_asymmetry</th>\n",
       "      <th>participant_id</th>\n",
       "      <th>label</th>\n",
       "    </tr>\n",
       "  </thead>\n",
       "  <tbody>\n",
       "    <tr>\n",
       "      <th>0</th>\n",
       "      <td>24</td>\n",
       "      <td>-106.563534</td>\n",
       "      <td>-117.518044</td>\n",
       "      <td>-119.163180</td>\n",
       "      <td>-121.210991</td>\n",
       "      <td>-122.003780</td>\n",
       "      <td>-118.918563</td>\n",
       "      <td>-121.640062</td>\n",
       "      <td>0.974712</td>\n",
       "      <td>-102.668293</td>\n",
       "      <td>...</td>\n",
       "      <td>-120.810998</td>\n",
       "      <td>0.967308</td>\n",
       "      <td>0.015834</td>\n",
       "      <td>-0.004067</td>\n",
       "      <td>0.011767</td>\n",
       "      <td>-0.005538</td>\n",
       "      <td>-0.002382</td>\n",
       "      <td>-0.007921</td>\n",
       "      <td>2</td>\n",
       "      <td>1</td>\n",
       "    </tr>\n",
       "    <tr>\n",
       "      <th>1</th>\n",
       "      <td>25</td>\n",
       "      <td>-109.895296</td>\n",
       "      <td>-115.974923</td>\n",
       "      <td>-119.952579</td>\n",
       "      <td>-121.636300</td>\n",
       "      <td>-121.548432</td>\n",
       "      <td>-118.809397</td>\n",
       "      <td>-120.357681</td>\n",
       "      <td>0.977465</td>\n",
       "      <td>-109.325556</td>\n",
       "      <td>...</td>\n",
       "      <td>-120.075441</td>\n",
       "      <td>0.965690</td>\n",
       "      <td>0.016114</td>\n",
       "      <td>-0.001673</td>\n",
       "      <td>0.014441</td>\n",
       "      <td>-0.004498</td>\n",
       "      <td>-0.003501</td>\n",
       "      <td>-0.007998</td>\n",
       "      <td>2</td>\n",
       "      <td>1</td>\n",
       "    </tr>\n",
       "    <tr>\n",
       "      <th>2</th>\n",
       "      <td>26</td>\n",
       "      <td>-108.781528</td>\n",
       "      <td>-116.931811</td>\n",
       "      <td>-118.381171</td>\n",
       "      <td>-121.764624</td>\n",
       "      <td>-121.808047</td>\n",
       "      <td>-118.210122</td>\n",
       "      <td>-120.974709</td>\n",
       "      <td>0.970462</td>\n",
       "      <td>-109.211540</td>\n",
       "      <td>...</td>\n",
       "      <td>-119.295777</td>\n",
       "      <td>0.961370</td>\n",
       "      <td>0.019489</td>\n",
       "      <td>0.008661</td>\n",
       "      <td>0.028150</td>\n",
       "      <td>-0.001538</td>\n",
       "      <td>0.002224</td>\n",
       "      <td>0.000686</td>\n",
       "      <td>2</td>\n",
       "      <td>1</td>\n",
       "    </tr>\n",
       "    <tr>\n",
       "      <th>3</th>\n",
       "      <td>27</td>\n",
       "      <td>-107.457264</td>\n",
       "      <td>-117.212969</td>\n",
       "      <td>-119.060554</td>\n",
       "      <td>-121.059615</td>\n",
       "      <td>-122.382355</td>\n",
       "      <td>-118.510982</td>\n",
       "      <td>-120.201859</td>\n",
       "      <td>0.968367</td>\n",
       "      <td>-105.211426</td>\n",
       "      <td>...</td>\n",
       "      <td>-118.858302</td>\n",
       "      <td>0.951453</td>\n",
       "      <td>0.021147</td>\n",
       "      <td>0.000841</td>\n",
       "      <td>0.021989</td>\n",
       "      <td>-0.009708</td>\n",
       "      <td>0.002536</td>\n",
       "      <td>-0.007173</td>\n",
       "      <td>2</td>\n",
       "      <td>1</td>\n",
       "    </tr>\n",
       "    <tr>\n",
       "      <th>4</th>\n",
       "      <td>28</td>\n",
       "      <td>-108.771967</td>\n",
       "      <td>-118.015884</td>\n",
       "      <td>-118.094082</td>\n",
       "      <td>-121.236994</td>\n",
       "      <td>-121.839481</td>\n",
       "      <td>-118.314830</td>\n",
       "      <td>-120.384838</td>\n",
       "      <td>0.971071</td>\n",
       "      <td>-106.132535</td>\n",
       "      <td>...</td>\n",
       "      <td>-119.836094</td>\n",
       "      <td>0.960450</td>\n",
       "      <td>0.012418</td>\n",
       "      <td>0.009689</td>\n",
       "      <td>0.022108</td>\n",
       "      <td>-0.008903</td>\n",
       "      <td>-0.002256</td>\n",
       "      <td>-0.011159</td>\n",
       "      <td>2</td>\n",
       "      <td>1</td>\n",
       "    </tr>\n",
       "  </tbody>\n",
       "</table>\n",
       "<p>5 rows × 145 columns</p>\n",
       "</div>"
      ],
      "text/plain": [
       "   Unnamed: 0  mean_Delta  mean_Theta  mean_Alpha   mean_Beta  mean_Gamma  \\\n",
       "0          24 -106.563534 -117.518044 -119.163180 -121.210991 -122.003780   \n",
       "1          25 -109.895296 -115.974923 -119.952579 -121.636300 -121.548432   \n",
       "2          26 -108.781528 -116.931811 -118.381171 -121.764624 -121.808047   \n",
       "3          27 -107.457264 -117.212969 -119.060554 -121.059615 -122.382355   \n",
       "4          28 -108.771967 -118.015884 -118.094082 -121.236994 -121.839481   \n",
       "\n",
       "    mean_Slow  mean_Low_beta  mean_Relative_gamma   Fp1_Delta  ...  \\\n",
       "0 -118.918563    -121.640062             0.974712 -102.668293  ...   \n",
       "1 -118.809397    -120.357681             0.977465 -109.325556  ...   \n",
       "2 -118.210122    -120.974709             0.970462 -109.211540  ...   \n",
       "3 -118.510982    -120.201859             0.968367 -105.211426  ...   \n",
       "4 -118.314830    -120.384838             0.971071 -106.132535  ...   \n",
       "\n",
       "   O2_Low_beta  O2_Relative_gamma  alpha_frontal  alpha_temporal  \\\n",
       "0  -120.810998           0.967308       0.015834       -0.004067   \n",
       "1  -120.075441           0.965690       0.016114       -0.001673   \n",
       "2  -119.295777           0.961370       0.019489        0.008661   \n",
       "3  -118.858302           0.951453       0.021147        0.000841   \n",
       "4  -119.836094           0.960450       0.012418        0.009689   \n",
       "\n",
       "   alpha_asymmetry  beta_frontal  beta_temporal  beat_asymmetry  \\\n",
       "0         0.011767     -0.005538      -0.002382       -0.007921   \n",
       "1         0.014441     -0.004498      -0.003501       -0.007998   \n",
       "2         0.028150     -0.001538       0.002224        0.000686   \n",
       "3         0.021989     -0.009708       0.002536       -0.007173   \n",
       "4         0.022108     -0.008903      -0.002256       -0.011159   \n",
       "\n",
       "   participant_id  label  \n",
       "0               2      1  \n",
       "1               2      1  \n",
       "2               2      1  \n",
       "3               2      1  \n",
       "4               2      1  \n",
       "\n",
       "[5 rows x 145 columns]"
      ]
     },
     "execution_count": 40,
     "metadata": {},
     "output_type": "execute_result"
    }
   ],
   "source": [
    "test_df = pd.read_csv(test_file_path)\n",
    "test_df.head()"
   ]
  },
  {
   "cell_type": "code",
   "execution_count": 41,
   "id": "f3c70465",
   "metadata": {},
   "outputs": [],
   "source": [
    "X_test = test_df[['mean_Delta', 'mean_Theta', 'mean_Alpha', 'mean_Beta', 'mean_Gamma', 'mean_Slow', 'mean_Low_beta', 'Fp1_Delta', 'Fp1_Theta', 'Fp1_Alpha', 'Fp1_Beta', 'Fp1_Gamma', 'Fp1_Slow', 'Fp1_Low_beta', 'Fp2_Delta', 'Fp2_Theta', 'Fp2_Alpha', 'Fp2_Beta', 'Fp2_Gamma', 'Fp2_Slow', 'Fp2_Low_beta', 'F7_Delta', 'F7_Theta', 'F7_Alpha', 'F7_Beta', 'F7_Gamma', 'F7_Slow', 'F7_Low_beta', 'F3_Delta', 'F3_Theta', 'F3_Alpha', 'F3_Beta', 'F3_Gamma', 'F3_Slow', 'F3_Low_beta', 'F4_Delta', 'F4_Theta', 'F4_Alpha', 'F4_Beta', 'F4_Gamma', 'F4_Slow', 'F4_Low_beta', 'F8_Delta', 'F8_Theta', 'F8_Alpha', 'F8_Beta', 'F8_Gamma', 'F8_Slow', 'F8_Low_beta', 'T3_Delta', 'T3_Theta', 'T3_Alpha', 'T3_Beta', 'T3_Gamma', 'T3_Slow', 'T3_Low_beta', 'C3_Delta', 'C3_Theta', 'C3_Alpha', 'C3_Beta', 'C3_Gamma', 'C3_Slow', 'C3_Low_beta', 'C4_Delta', 'C4_Theta', 'C4_Alpha', 'C4_Beta', 'C4_Gamma', 'C4_Slow', 'C4_Low_beta', 'T4_Delta', 'T4_Theta', 'T4_Alpha', 'T4_Beta', 'T4_Gamma', 'T4_Slow', 'T4_Low_beta', 'T5_Delta', 'T5_Theta', 'T5_Alpha', 'T5_Beta', 'T5_Gamma', 'T5_Slow', 'T5_Low_beta', 'P3_Delta', 'P3_Theta', 'P3_Alpha', 'P3_Beta', 'P3_Gamma', 'P3_Slow', 'P3_Low_beta', 'P4_Delta', 'P4_Theta', 'P4_Alpha', 'P4_Beta', 'P4_Gamma', 'P4_Slow', 'P4_Low_beta', 'T6_Delta', 'T6_Theta', 'T6_Alpha', 'T6_Beta', 'T6_Gamma', 'T6_Slow', 'T6_Low_beta', 'O1_Delta', 'O1_Theta', 'O1_Alpha', 'O1_Beta', 'O1_Gamma', 'O1_Slow', 'O1_Low_beta', 'O2_Delta', 'O2_Theta', 'O2_Alpha', 'O2_Beta', 'O2_Gamma', 'O2_Slow', 'O2_Low_beta', 'alpha_frontal', 'alpha_temporal', 'alpha_asymmetry', 'beta_frontal', 'beta_temporal', 'beat_asymmetry']]\n",
    "y_test = test_df[['label']]"
   ]
  },
  {
   "cell_type": "code",
   "execution_count": 42,
   "id": "cde5ae3d",
   "metadata": {},
   "outputs": [],
   "source": [
    "X_test = X_test.to_numpy()\n",
    "y_test = y_test.to_numpy()\n",
    "y_test = y_test.reshape(-1)"
   ]
  },
  {
   "cell_type": "code",
   "execution_count": 43,
   "id": "8822c226",
   "metadata": {},
   "outputs": [],
   "source": [
    "X_test_scaled = np.zeros_like(X_test)\n",
    "\n",
    "for i in range(X_test.shape[1]):\n",
    "    X_test_minmax = scalers[i].transform(X_test[:,i].reshape(-1, 1))\n",
    "    X_test_scaled[:,i] = X_test_minmax[:,0]"
   ]
  },
  {
   "cell_type": "code",
   "execution_count": 44,
   "id": "33ec4c72",
   "metadata": {},
   "outputs": [
    {
     "data": {
      "text/plain": [
       "0.6527777777777778"
      ]
     },
     "execution_count": 44,
     "metadata": {},
     "output_type": "execute_result"
    }
   ],
   "source": [
    "yhat = grid.predict(X_test_scaled)\n",
    "accuracy_score(y_test, yhat)"
   ]
  },
  {
   "cell_type": "code",
   "execution_count": 45,
   "id": "2ef2c685",
   "metadata": {},
   "outputs": [
    {
     "name": "stdout",
     "output_type": "stream",
     "text": [
      "              precision    recall  f1-score   support\n",
      "\n",
      "           0       0.66      0.98      0.79        48\n",
      "           1       0.00      0.00      0.00        24\n",
      "\n",
      "    accuracy                           0.65        72\n",
      "   macro avg       0.33      0.49      0.39        72\n",
      "weighted avg       0.44      0.65      0.53        72\n",
      "\n"
     ]
    }
   ],
   "source": [
    "print(classification_report(y_test, yhat))"
   ]
  },
  {
   "cell_type": "code",
   "execution_count": 46,
   "id": "6cdecdaa",
   "metadata": {},
   "outputs": [
    {
     "data": {
      "text/plain": [
       "SVC(C=10, gamma=0.1, max_iter=10000, random_state=999)"
      ]
     },
     "execution_count": 46,
     "metadata": {},
     "output_type": "execute_result"
    }
   ],
   "source": [
    "#{'C': 10, 'gamma': 0.1, 'kernel': 'rbf'}\n",
    "final_svm = SVC(random_state=999, C=10, gamma=0.1, kernel='rbf', max_iter=10000)\n",
    "final_svm.fit(X_train_scaled, y_train)"
   ]
  },
  {
   "cell_type": "code",
   "execution_count": 47,
   "id": "aecdba65",
   "metadata": {},
   "outputs": [
    {
     "data": {
      "text/plain": [
       "0.6527777777777778"
      ]
     },
     "execution_count": 47,
     "metadata": {},
     "output_type": "execute_result"
    }
   ],
   "source": [
    "yhat = final_svm.predict(X_test_scaled)\n",
    "accuracy_score(y_test, yhat)"
   ]
  },
  {
   "cell_type": "code",
   "execution_count": 48,
   "id": "0ca03bce",
   "metadata": {},
   "outputs": [
    {
     "data": {
      "image/png": "[encoded data removed]",
      "text/plain": [
       "<Figure size 432x288 with 2 Axes>"
      ]
     },
     "metadata": {
      "needs_background": "light"
     },
     "output_type": "display_data"
    }
   ],
   "source": [
    "cm = confusion_matrix(y_test, yhat, labels=final_svm.classes_)\n",
    "disp = ConfusionMatrixDisplay(confusion_matrix=cm,\n",
    "                              display_labels=final_svm.classes_)\n",
    "disp.plot()\n",
    "\n",
    "plt.show()"
   ]
  },
  {
   "cell_type": "code",
   "execution_count": null,
   "id": "74f1c3a5",
   "metadata": {},
   "outputs": [],
   "source": []
  },
  {
   "cell_type": "code",
   "execution_count": null,
   "id": "3b2425a4",
   "metadata": {},
   "outputs": [],
   "source": []
  }
 ],
 "metadata": {
  "kernelspec": {
   "display_name": "Python 3 (ipykernel)",
   "language": "python",
   "name": "python3"
  },
  "language_info": {
   "codemirror_mode": {
    "name": "ipython",
    "version": 3
   },
   "file_extension": ".py",
   "mimetype": "text/x-python",
   "name": "python",
   "nbconvert_exporter": "python",
   "pygments_lexer": "ipython3",
   "version": "3.9.12"
  }
 },
 "nbformat": 4,
 "nbformat_minor": 5
}
