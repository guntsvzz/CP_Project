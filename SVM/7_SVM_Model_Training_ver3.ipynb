{
 "cells": [
  {
   "cell_type": "code",
   "execution_count": 38,
   "id": "cf05a329",
   "metadata": {},
   "outputs": [],
   "source": [
    "# Imports\n",
    "import os\n",
    "import numpy as np\n",
    "import pandas as pd\n",
    "import matplotlib.pyplot as plt\n",
    "from sklearn.model_selection import train_test_split\n",
    "from sklearn.preprocessing import MinMaxScaler\n",
    "from sklearn.model_selection import GridSearchCV\n",
    "from sklearn.svm import SVC\n",
    "from sklearn.metrics import accuracy_score, classification_report\n",
    "from sklearn.model_selection import StratifiedShuffleSplit\n",
    "from sklearn.metrics import confusion_matrix, ConfusionMatrixDisplay\n",
    "%matplotlib inline"
   ]
  },
  {
   "cell_type": "code",
   "execution_count": 39,
   "id": "7c3561b1",
   "metadata": {},
   "outputs": [],
   "source": [
    "# Load CSV\n",
    "train_file_path = '../data/train_set.csv'\n",
    "test_file_path = '../data/test_set.csv'"
   ]
  },
  {
   "cell_type": "code",
   "execution_count": 40,
   "id": "0104db80",
   "metadata": {},
   "outputs": [
    {
     "data": {
      "text/html": [
       "<div>\n",
       "<style scoped>\n",
       "    .dataframe tbody tr th:only-of-type {\n",
       "        vertical-align: middle;\n",
       "    }\n",
       "\n",
       "    .dataframe tbody tr th {\n",
       "        vertical-align: top;\n",
       "    }\n",
       "\n",
       "    .dataframe thead th {\n",
       "        text-align: right;\n",
       "    }\n",
       "</style>\n",
       "<table border=\"1\" class=\"dataframe\">\n",
       "  <thead>\n",
       "    <tr style=\"text-align: right;\">\n",
       "      <th></th>\n",
       "      <th>Unnamed: 0</th>\n",
       "      <th>mean_Delta</th>\n",
       "      <th>mean_Theta</th>\n",
       "      <th>mean_Alpha</th>\n",
       "      <th>mean_Beta</th>\n",
       "      <th>mean_Gamma</th>\n",
       "      <th>mean_Slow</th>\n",
       "      <th>mean_Low_beta</th>\n",
       "      <th>mean_Relative_gamma</th>\n",
       "      <th>Fp1_Delta</th>\n",
       "      <th>...</th>\n",
       "      <th>O2_Low_beta</th>\n",
       "      <th>O2_Relative_gamma</th>\n",
       "      <th>alpha_frontal</th>\n",
       "      <th>alpha_temporal</th>\n",
       "      <th>alpha_asymmetry</th>\n",
       "      <th>beta_frontal</th>\n",
       "      <th>beta_temporal</th>\n",
       "      <th>beat_asymmetry</th>\n",
       "      <th>participant_id</th>\n",
       "      <th>label</th>\n",
       "    </tr>\n",
       "  </thead>\n",
       "  <tbody>\n",
       "    <tr>\n",
       "      <th>0</th>\n",
       "      <td>0</td>\n",
       "      <td>-110.329965</td>\n",
       "      <td>-121.299482</td>\n",
       "      <td>-123.725032</td>\n",
       "      <td>-131.335399</td>\n",
       "      <td>-134.971232</td>\n",
       "      <td>-123.031043</td>\n",
       "      <td>-128.526178</td>\n",
       "      <td>0.911535</td>\n",
       "      <td>-106.209371</td>\n",
       "      <td>...</td>\n",
       "      <td>-127.567021</td>\n",
       "      <td>0.902035</td>\n",
       "      <td>-0.002908</td>\n",
       "      <td>-0.000649</td>\n",
       "      <td>-0.003557</td>\n",
       "      <td>-0.002668</td>\n",
       "      <td>0.010859</td>\n",
       "      <td>0.008191</td>\n",
       "      <td>1</td>\n",
       "      <td>1</td>\n",
       "    </tr>\n",
       "    <tr>\n",
       "      <th>1</th>\n",
       "      <td>1</td>\n",
       "      <td>-110.383640</td>\n",
       "      <td>-121.158052</td>\n",
       "      <td>-123.636121</td>\n",
       "      <td>-130.643007</td>\n",
       "      <td>-134.449370</td>\n",
       "      <td>-123.097757</td>\n",
       "      <td>-128.670923</td>\n",
       "      <td>0.915570</td>\n",
       "      <td>-107.994728</td>\n",
       "      <td>...</td>\n",
       "      <td>-130.006559</td>\n",
       "      <td>0.915688</td>\n",
       "      <td>-0.005629</td>\n",
       "      <td>-0.008944</td>\n",
       "      <td>-0.014573</td>\n",
       "      <td>-0.001315</td>\n",
       "      <td>0.003450</td>\n",
       "      <td>0.002135</td>\n",
       "      <td>1</td>\n",
       "      <td>1</td>\n",
       "    </tr>\n",
       "    <tr>\n",
       "      <th>2</th>\n",
       "      <td>2</td>\n",
       "      <td>-111.593383</td>\n",
       "      <td>-120.712248</td>\n",
       "      <td>-124.276396</td>\n",
       "      <td>-130.440765</td>\n",
       "      <td>-134.357490</td>\n",
       "      <td>-123.286220</td>\n",
       "      <td>-130.602665</td>\n",
       "      <td>0.917598</td>\n",
       "      <td>-110.782820</td>\n",
       "      <td>...</td>\n",
       "      <td>-131.785838</td>\n",
       "      <td>0.918551</td>\n",
       "      <td>-0.003908</td>\n",
       "      <td>-0.004460</td>\n",
       "      <td>-0.008369</td>\n",
       "      <td>0.000354</td>\n",
       "      <td>0.002001</td>\n",
       "      <td>0.002355</td>\n",
       "      <td>1</td>\n",
       "      <td>1</td>\n",
       "    </tr>\n",
       "    <tr>\n",
       "      <th>3</th>\n",
       "      <td>3</td>\n",
       "      <td>-111.292704</td>\n",
       "      <td>-122.189083</td>\n",
       "      <td>-123.512155</td>\n",
       "      <td>-128.614875</td>\n",
       "      <td>-135.116331</td>\n",
       "      <td>-123.276588</td>\n",
       "      <td>-127.691734</td>\n",
       "      <td>0.912374</td>\n",
       "      <td>-108.605531</td>\n",
       "      <td>...</td>\n",
       "      <td>-129.835990</td>\n",
       "      <td>0.924993</td>\n",
       "      <td>-0.005010</td>\n",
       "      <td>0.010191</td>\n",
       "      <td>0.005181</td>\n",
       "      <td>-0.005576</td>\n",
       "      <td>0.003535</td>\n",
       "      <td>-0.002042</td>\n",
       "      <td>1</td>\n",
       "      <td>1</td>\n",
       "    </tr>\n",
       "    <tr>\n",
       "      <th>4</th>\n",
       "      <td>4</td>\n",
       "      <td>-113.361314</td>\n",
       "      <td>-119.989890</td>\n",
       "      <td>-123.255042</td>\n",
       "      <td>-130.600926</td>\n",
       "      <td>-135.144714</td>\n",
       "      <td>-122.298936</td>\n",
       "      <td>-129.782153</td>\n",
       "      <td>0.904948</td>\n",
       "      <td>-109.577307</td>\n",
       "      <td>...</td>\n",
       "      <td>-131.338841</td>\n",
       "      <td>0.901524</td>\n",
       "      <td>0.001069</td>\n",
       "      <td>-0.002919</td>\n",
       "      <td>-0.001850</td>\n",
       "      <td>-0.007245</td>\n",
       "      <td>0.008795</td>\n",
       "      <td>0.001550</td>\n",
       "      <td>1</td>\n",
       "      <td>1</td>\n",
       "    </tr>\n",
       "  </tbody>\n",
       "</table>\n",
       "<p>5 rows × 145 columns</p>\n",
       "</div>"
      ],
      "text/plain": [
       "   Unnamed: 0  mean_Delta  mean_Theta  mean_Alpha   mean_Beta  mean_Gamma  \\\n",
       "0           0 -110.329965 -121.299482 -123.725032 -131.335399 -134.971232   \n",
       "1           1 -110.383640 -121.158052 -123.636121 -130.643007 -134.449370   \n",
       "2           2 -111.593383 -120.712248 -124.276396 -130.440765 -134.357490   \n",
       "3           3 -111.292704 -122.189083 -123.512155 -128.614875 -135.116331   \n",
       "4           4 -113.361314 -119.989890 -123.255042 -130.600926 -135.144714   \n",
       "\n",
       "    mean_Slow  mean_Low_beta  mean_Relative_gamma   Fp1_Delta  ...  \\\n",
       "0 -123.031043    -128.526178             0.911535 -106.209371  ...   \n",
       "1 -123.097757    -128.670923             0.915570 -107.994728  ...   \n",
       "2 -123.286220    -130.602665             0.917598 -110.782820  ...   \n",
       "3 -123.276588    -127.691734             0.912374 -108.605531  ...   \n",
       "4 -122.298936    -129.782153             0.904948 -109.577307  ...   \n",
       "\n",
       "   O2_Low_beta  O2_Relative_gamma  alpha_frontal  alpha_temporal  \\\n",
       "0  -127.567021           0.902035      -0.002908       -0.000649   \n",
       "1  -130.006559           0.915688      -0.005629       -0.008944   \n",
       "2  -131.785838           0.918551      -0.003908       -0.004460   \n",
       "3  -129.835990           0.924993      -0.005010        0.010191   \n",
       "4  -131.338841           0.901524       0.001069       -0.002919   \n",
       "\n",
       "   alpha_asymmetry  beta_frontal  beta_temporal  beat_asymmetry  \\\n",
       "0        -0.003557     -0.002668       0.010859        0.008191   \n",
       "1        -0.014573     -0.001315       0.003450        0.002135   \n",
       "2        -0.008369      0.000354       0.002001        0.002355   \n",
       "3         0.005181     -0.005576       0.003535       -0.002042   \n",
       "4        -0.001850     -0.007245       0.008795        0.001550   \n",
       "\n",
       "   participant_id  label  \n",
       "0               1      1  \n",
       "1               1      1  \n",
       "2               1      1  \n",
       "3               1      1  \n",
       "4               1      1  \n",
       "\n",
       "[5 rows x 145 columns]"
      ]
     },
     "execution_count": 40,
     "metadata": {},
     "output_type": "execute_result"
    }
   ],
   "source": [
    "train_df = pd.read_csv(train_file_path)\n",
    "train_df.head()"
   ]
  },
  {
   "cell_type": "code",
   "execution_count": 41,
   "id": "79391f52",
   "metadata": {},
   "outputs": [
    {
     "data": {
      "text/plain": [
       "(336, 145)"
      ]
     },
     "execution_count": 41,
     "metadata": {},
     "output_type": "execute_result"
    }
   ],
   "source": [
    "train_df.shape"
   ]
  },
  {
   "cell_type": "code",
   "execution_count": 42,
   "id": "85738972",
   "metadata": {},
   "outputs": [
    {
     "data": {
      "text/plain": [
       "0    192\n",
       "1    144\n",
       "Name: label, dtype: int64"
      ]
     },
     "execution_count": 42,
     "metadata": {},
     "output_type": "execute_result"
    }
   ],
   "source": [
    "# Check for imbalance\n",
    "train_df['label'].value_counts()"
   ]
  },
  {
   "cell_type": "code",
   "execution_count": 43,
   "id": "37f8d87f",
   "metadata": {},
   "outputs": [
    {
     "data": {
      "text/plain": [
       "(144, 145)"
      ]
     },
     "execution_count": 43,
     "metadata": {},
     "output_type": "execute_result"
    }
   ],
   "source": [
    "# Select equal number of samples from each label\n",
    "label_1 = train_df.loc[train_df['label'] == 1]\n",
    "label_1.shape"
   ]
  },
  {
   "cell_type": "code",
   "execution_count": 44,
   "id": "5cb8fd17",
   "metadata": {},
   "outputs": [
    {
     "data": {
      "text/plain": [
       "(144, 145)"
      ]
     },
     "execution_count": 44,
     "metadata": {},
     "output_type": "execute_result"
    }
   ],
   "source": [
    "label_0 = train_df.loc[train_df['label'] == 0].sample(n=label_1.shape[0], random_state=999)\n",
    "label_0.shape"
   ]
  },
  {
   "cell_type": "code",
   "execution_count": 45,
   "id": "295e24e1",
   "metadata": {},
   "outputs": [
    {
     "data": {
      "text/plain": [
       "1    144\n",
       "0    144\n",
       "Name: label, dtype: int64"
      ]
     },
     "execution_count": 45,
     "metadata": {},
     "output_type": "execute_result"
    }
   ],
   "source": [
    "new_df = pd.concat([label_1, label_0])\n",
    "new_df['label'].value_counts()"
   ]
  },
  {
   "cell_type": "code",
   "execution_count": 46,
   "id": "34eb5baf",
   "metadata": {},
   "outputs": [],
   "source": [
    "# Feature selection/extraction\n",
    "X_train = new_df[['mean_Delta', 'mean_Theta', 'mean_Alpha', 'mean_Beta', 'mean_Gamma', 'mean_Slow', 'mean_Low_beta', 'Fp1_Delta', 'Fp1_Theta', 'Fp1_Alpha', 'Fp1_Beta', 'Fp1_Gamma', 'Fp1_Slow', 'Fp1_Low_beta', 'Fp2_Delta', 'Fp2_Theta', 'Fp2_Alpha', 'Fp2_Beta', 'Fp2_Gamma', 'Fp2_Slow', 'Fp2_Low_beta', 'F7_Delta', 'F7_Theta', 'F7_Alpha', 'F7_Beta', 'F7_Gamma', 'F7_Slow', 'F7_Low_beta', 'F3_Delta', 'F3_Theta', 'F3_Alpha', 'F3_Beta', 'F3_Gamma', 'F3_Slow', 'F3_Low_beta', 'F4_Delta', 'F4_Theta', 'F4_Alpha', 'F4_Beta', 'F4_Gamma', 'F4_Slow', 'F4_Low_beta', 'F8_Delta', 'F8_Theta', 'F8_Alpha', 'F8_Beta', 'F8_Gamma', 'F8_Slow', 'F8_Low_beta', 'T3_Delta', 'T3_Theta', 'T3_Alpha', 'T3_Beta', 'T3_Gamma', 'T3_Slow', 'T3_Low_beta', 'C3_Delta', 'C3_Theta', 'C3_Alpha', 'C3_Beta', 'C3_Gamma', 'C3_Slow', 'C3_Low_beta', 'C4_Delta', 'C4_Theta', 'C4_Alpha', 'C4_Beta', 'C4_Gamma', 'C4_Slow', 'C4_Low_beta', 'T4_Delta', 'T4_Theta', 'T4_Alpha', 'T4_Beta', 'T4_Gamma', 'T4_Slow', 'T4_Low_beta', 'T5_Delta', 'T5_Theta', 'T5_Alpha', 'T5_Beta', 'T5_Gamma', 'T5_Slow', 'T5_Low_beta', 'P3_Delta', 'P3_Theta', 'P3_Alpha', 'P3_Beta', 'P3_Gamma', 'P3_Slow', 'P3_Low_beta', 'P4_Delta', 'P4_Theta', 'P4_Alpha', 'P4_Beta', 'P4_Gamma', 'P4_Slow', 'P4_Low_beta', 'T6_Delta', 'T6_Theta', 'T6_Alpha', 'T6_Beta', 'T6_Gamma', 'T6_Slow', 'T6_Low_beta', 'O1_Delta', 'O1_Theta', 'O1_Alpha', 'O1_Beta', 'O1_Gamma', 'O1_Slow', 'O1_Low_beta', 'O2_Delta', 'O2_Theta', 'O2_Alpha', 'O2_Beta', 'O2_Gamma', 'O2_Slow', 'O2_Low_beta', 'alpha_frontal', 'alpha_temporal', 'alpha_asymmetry', 'beta_frontal', 'beta_temporal', 'beat_asymmetry']]\n",
    "y_train = new_df[['label']]"
   ]
  },
  {
   "cell_type": "code",
   "execution_count": 47,
   "id": "124a9d01",
   "metadata": {},
   "outputs": [],
   "source": [
    "X_train = X_train.to_numpy()\n",
    "y_train = y_train.to_numpy()\n",
    "y_train = y_train.reshape(-1)"
   ]
  },
  {
   "cell_type": "code",
   "execution_count": 48,
   "id": "2ab86826",
   "metadata": {},
   "outputs": [
    {
     "name": "stdout",
     "output_type": "stream",
     "text": [
      "(288, 125)\n"
     ]
    }
   ],
   "source": [
    "X_train_scaled = np.zeros_like(X_train)\n",
    "print(X_train_scaled.shape)\n",
    "\n",
    "scalers = {}\n",
    "for i in range(X_train.shape[1]):\n",
    "    scalers[i] = MinMaxScaler(feature_range=(-1, 1))\n",
    "    X_minmax = scalers[i].fit_transform(X_train[:,i].reshape(-1, 1))\n",
    "    X_train_scaled[:,i] = X_minmax[:,0]"
   ]
  },
  {
   "cell_type": "code",
   "execution_count": 49,
   "id": "ba89b808",
   "metadata": {},
   "outputs": [
    {
     "data": {
      "text/plain": [
       "GridSearchCV(cv=StratifiedShuffleSplit(n_splits=5, random_state=999, test_size=0.2,\n",
       "            train_size=None),\n",
       "             estimator=SVC(max_iter=10000),\n",
       "             param_grid={'C': [0.1, 1, 10, 100, 1000],\n",
       "                         'gamma': ['scale', 'auto', 1, 0.1, 0.01, 0.001,\n",
       "                                   0.0001],\n",
       "                         'kernel': ['linear', 'poly', 'rbf', 'sigmoid']})"
      ]
     },
     "execution_count": 49,
     "metadata": {},
     "output_type": "execute_result"
    }
   ],
   "source": [
    "# Grid serach\n",
    "\n",
    "# Defining parameter range\n",
    "param_grid = {'C': [0.1, 1, 10, 100, 1000], \n",
    "              'gamma': ['scale', 'auto', 1, 0.1, 0.01, 0.001, 0.0001],\n",
    "              'kernel': ['linear','poly','rbf', 'sigmoid']} \n",
    "# param_grid = {'C': [0.1, 1, 10, 100, 1000], \n",
    "#               'gamma': ['scale', 'auto', 1, 0.1, 0.01, 0.001, 0.0001],\n",
    "#               'kernel': ['sigmoid']} \n",
    "\n",
    "estimator = SVC(max_iter=10000)\n",
    "cv = StratifiedShuffleSplit(n_splits=5, test_size=0.2, random_state=999)\n",
    "    \n",
    "grid = GridSearchCV(estimator, \n",
    "                    param_grid, \n",
    "                    cv=cv,\n",
    "                    refit = True, \n",
    "                    verbose = 0)\n",
    "  \n",
    "# Fitting the model for grid search\n",
    "grid.fit(X_train_scaled, y_train)"
   ]
  },
  {
   "cell_type": "code",
   "execution_count": 50,
   "id": "76c08a9f",
   "metadata": {},
   "outputs": [
    {
     "name": "stdout",
     "output_type": "stream",
     "text": [
      "{'C': 10, 'gamma': 0.1, 'kernel': 'rbf'}\n",
      "SVC(C=10, gamma=0.1, max_iter=10000)\n"
     ]
    }
   ],
   "source": [
    "print(grid.best_params_)\n",
    "\n",
    "print(grid.best_estimator_)"
   ]
  },
  {
   "cell_type": "code",
   "execution_count": 51,
   "id": "c1551f71",
   "metadata": {},
   "outputs": [
    {
     "data": {
      "text/html": [
       "<div>\n",
       "<style scoped>\n",
       "    .dataframe tbody tr th:only-of-type {\n",
       "        vertical-align: middle;\n",
       "    }\n",
       "\n",
       "    .dataframe tbody tr th {\n",
       "        vertical-align: top;\n",
       "    }\n",
       "\n",
       "    .dataframe thead th {\n",
       "        text-align: right;\n",
       "    }\n",
       "</style>\n",
       "<table border=\"1\" class=\"dataframe\">\n",
       "  <thead>\n",
       "    <tr style=\"text-align: right;\">\n",
       "      <th></th>\n",
       "      <th>Unnamed: 0</th>\n",
       "      <th>mean_Delta</th>\n",
       "      <th>mean_Theta</th>\n",
       "      <th>mean_Alpha</th>\n",
       "      <th>mean_Beta</th>\n",
       "      <th>mean_Gamma</th>\n",
       "      <th>mean_Slow</th>\n",
       "      <th>mean_Low_beta</th>\n",
       "      <th>mean_Relative_gamma</th>\n",
       "      <th>Fp1_Delta</th>\n",
       "      <th>...</th>\n",
       "      <th>O2_Low_beta</th>\n",
       "      <th>O2_Relative_gamma</th>\n",
       "      <th>alpha_frontal</th>\n",
       "      <th>alpha_temporal</th>\n",
       "      <th>alpha_asymmetry</th>\n",
       "      <th>beta_frontal</th>\n",
       "      <th>beta_temporal</th>\n",
       "      <th>beat_asymmetry</th>\n",
       "      <th>participant_id</th>\n",
       "      <th>label</th>\n",
       "    </tr>\n",
       "  </thead>\n",
       "  <tbody>\n",
       "    <tr>\n",
       "      <th>0</th>\n",
       "      <td>24</td>\n",
       "      <td>-105.610057</td>\n",
       "      <td>-117.490805</td>\n",
       "      <td>-119.145752</td>\n",
       "      <td>-121.182240</td>\n",
       "      <td>-121.880042</td>\n",
       "      <td>-118.891691</td>\n",
       "      <td>-121.631955</td>\n",
       "      <td>0.975481</td>\n",
       "      <td>-100.980513</td>\n",
       "      <td>...</td>\n",
       "      <td>-120.804800</td>\n",
       "      <td>0.967041</td>\n",
       "      <td>0.015743</td>\n",
       "      <td>-0.003737</td>\n",
       "      <td>0.012006</td>\n",
       "      <td>-0.004346</td>\n",
       "      <td>-0.002382</td>\n",
       "      <td>-0.006728</td>\n",
       "      <td>2</td>\n",
       "      <td>1</td>\n",
       "    </tr>\n",
       "    <tr>\n",
       "      <th>1</th>\n",
       "      <td>25</td>\n",
       "      <td>-108.592535</td>\n",
       "      <td>-115.965217</td>\n",
       "      <td>-119.922452</td>\n",
       "      <td>-121.613911</td>\n",
       "      <td>-121.485027</td>\n",
       "      <td>-118.781369</td>\n",
       "      <td>-120.347664</td>\n",
       "      <td>0.977745</td>\n",
       "      <td>-108.459047</td>\n",
       "      <td>...</td>\n",
       "      <td>-120.068129</td>\n",
       "      <td>0.965655</td>\n",
       "      <td>0.016350</td>\n",
       "      <td>-0.001645</td>\n",
       "      <td>0.014705</td>\n",
       "      <td>-0.003999</td>\n",
       "      <td>-0.003525</td>\n",
       "      <td>-0.007525</td>\n",
       "      <td>2</td>\n",
       "      <td>1</td>\n",
       "    </tr>\n",
       "    <tr>\n",
       "      <th>2</th>\n",
       "      <td>26</td>\n",
       "      <td>-108.456727</td>\n",
       "      <td>-116.925839</td>\n",
       "      <td>-118.330785</td>\n",
       "      <td>-121.740811</td>\n",
       "      <td>-121.704059</td>\n",
       "      <td>-118.191615</td>\n",
       "      <td>-120.959829</td>\n",
       "      <td>0.971139</td>\n",
       "      <td>-109.291422</td>\n",
       "      <td>...</td>\n",
       "      <td>-119.303841</td>\n",
       "      <td>0.961283</td>\n",
       "      <td>0.019742</td>\n",
       "      <td>0.008618</td>\n",
       "      <td>0.028360</td>\n",
       "      <td>-0.000686</td>\n",
       "      <td>0.002217</td>\n",
       "      <td>0.001531</td>\n",
       "      <td>2</td>\n",
       "      <td>1</td>\n",
       "    </tr>\n",
       "    <tr>\n",
       "      <th>3</th>\n",
       "      <td>27</td>\n",
       "      <td>-106.590788</td>\n",
       "      <td>-117.160891</td>\n",
       "      <td>-119.011934</td>\n",
       "      <td>-121.036845</td>\n",
       "      <td>-122.315027</td>\n",
       "      <td>-118.479540</td>\n",
       "      <td>-120.191081</td>\n",
       "      <td>0.968643</td>\n",
       "      <td>-103.530862</td>\n",
       "      <td>...</td>\n",
       "      <td>-118.836998</td>\n",
       "      <td>0.951246</td>\n",
       "      <td>0.020870</td>\n",
       "      <td>0.000877</td>\n",
       "      <td>0.021746</td>\n",
       "      <td>-0.009253</td>\n",
       "      <td>0.002545</td>\n",
       "      <td>-0.006707</td>\n",
       "      <td>2</td>\n",
       "      <td>1</td>\n",
       "    </tr>\n",
       "    <tr>\n",
       "      <th>4</th>\n",
       "      <td>28</td>\n",
       "      <td>-107.477566</td>\n",
       "      <td>-117.967757</td>\n",
       "      <td>-118.086434</td>\n",
       "      <td>-121.209063</td>\n",
       "      <td>-121.741605</td>\n",
       "      <td>-118.284413</td>\n",
       "      <td>-120.344260</td>\n",
       "      <td>0.971602</td>\n",
       "      <td>-103.626728</td>\n",
       "      <td>...</td>\n",
       "      <td>-119.825284</td>\n",
       "      <td>0.960349</td>\n",
       "      <td>0.012745</td>\n",
       "      <td>0.010017</td>\n",
       "      <td>0.022762</td>\n",
       "      <td>-0.008301</td>\n",
       "      <td>-0.002240</td>\n",
       "      <td>-0.010540</td>\n",
       "      <td>2</td>\n",
       "      <td>1</td>\n",
       "    </tr>\n",
       "  </tbody>\n",
       "</table>\n",
       "<p>5 rows × 145 columns</p>\n",
       "</div>"
      ],
      "text/plain": [
       "   Unnamed: 0  mean_Delta  mean_Theta  mean_Alpha   mean_Beta  mean_Gamma  \\\n",
       "0          24 -105.610057 -117.490805 -119.145752 -121.182240 -121.880042   \n",
       "1          25 -108.592535 -115.965217 -119.922452 -121.613911 -121.485027   \n",
       "2          26 -108.456727 -116.925839 -118.330785 -121.740811 -121.704059   \n",
       "3          27 -106.590788 -117.160891 -119.011934 -121.036845 -122.315027   \n",
       "4          28 -107.477566 -117.967757 -118.086434 -121.209063 -121.741605   \n",
       "\n",
       "    mean_Slow  mean_Low_beta  mean_Relative_gamma   Fp1_Delta  ...  \\\n",
       "0 -118.891691    -121.631955             0.975481 -100.980513  ...   \n",
       "1 -118.781369    -120.347664             0.977745 -108.459047  ...   \n",
       "2 -118.191615    -120.959829             0.971139 -109.291422  ...   \n",
       "3 -118.479540    -120.191081             0.968643 -103.530862  ...   \n",
       "4 -118.284413    -120.344260             0.971602 -103.626728  ...   \n",
       "\n",
       "   O2_Low_beta  O2_Relative_gamma  alpha_frontal  alpha_temporal  \\\n",
       "0  -120.804800           0.967041       0.015743       -0.003737   \n",
       "1  -120.068129           0.965655       0.016350       -0.001645   \n",
       "2  -119.303841           0.961283       0.019742        0.008618   \n",
       "3  -118.836998           0.951246       0.020870        0.000877   \n",
       "4  -119.825284           0.960349       0.012745        0.010017   \n",
       "\n",
       "   alpha_asymmetry  beta_frontal  beta_temporal  beat_asymmetry  \\\n",
       "0         0.012006     -0.004346      -0.002382       -0.006728   \n",
       "1         0.014705     -0.003999      -0.003525       -0.007525   \n",
       "2         0.028360     -0.000686       0.002217        0.001531   \n",
       "3         0.021746     -0.009253       0.002545       -0.006707   \n",
       "4         0.022762     -0.008301      -0.002240       -0.010540   \n",
       "\n",
       "   participant_id  label  \n",
       "0               2      1  \n",
       "1               2      1  \n",
       "2               2      1  \n",
       "3               2      1  \n",
       "4               2      1  \n",
       "\n",
       "[5 rows x 145 columns]"
      ]
     },
     "execution_count": 51,
     "metadata": {},
     "output_type": "execute_result"
    }
   ],
   "source": [
    "test_df = pd.read_csv(test_file_path)\n",
    "test_df.head()"
   ]
  },
  {
   "cell_type": "code",
   "execution_count": 52,
   "id": "f3c70465",
   "metadata": {},
   "outputs": [],
   "source": [
    "X_test = test_df[['mean_Delta', 'mean_Theta', 'mean_Alpha', 'mean_Beta', 'mean_Gamma', 'mean_Slow', 'mean_Low_beta', 'Fp1_Delta', 'Fp1_Theta', 'Fp1_Alpha', 'Fp1_Beta', 'Fp1_Gamma', 'Fp1_Slow', 'Fp1_Low_beta', 'Fp2_Delta', 'Fp2_Theta', 'Fp2_Alpha', 'Fp2_Beta', 'Fp2_Gamma', 'Fp2_Slow', 'Fp2_Low_beta', 'F7_Delta', 'F7_Theta', 'F7_Alpha', 'F7_Beta', 'F7_Gamma', 'F7_Slow', 'F7_Low_beta', 'F3_Delta', 'F3_Theta', 'F3_Alpha', 'F3_Beta', 'F3_Gamma', 'F3_Slow', 'F3_Low_beta', 'F4_Delta', 'F4_Theta', 'F4_Alpha', 'F4_Beta', 'F4_Gamma', 'F4_Slow', 'F4_Low_beta', 'F8_Delta', 'F8_Theta', 'F8_Alpha', 'F8_Beta', 'F8_Gamma', 'F8_Slow', 'F8_Low_beta', 'T3_Delta', 'T3_Theta', 'T3_Alpha', 'T3_Beta', 'T3_Gamma', 'T3_Slow', 'T3_Low_beta', 'C3_Delta', 'C3_Theta', 'C3_Alpha', 'C3_Beta', 'C3_Gamma', 'C3_Slow', 'C3_Low_beta', 'C4_Delta', 'C4_Theta', 'C4_Alpha', 'C4_Beta', 'C4_Gamma', 'C4_Slow', 'C4_Low_beta', 'T4_Delta', 'T4_Theta', 'T4_Alpha', 'T4_Beta', 'T4_Gamma', 'T4_Slow', 'T4_Low_beta', 'T5_Delta', 'T5_Theta', 'T5_Alpha', 'T5_Beta', 'T5_Gamma', 'T5_Slow', 'T5_Low_beta', 'P3_Delta', 'P3_Theta', 'P3_Alpha', 'P3_Beta', 'P3_Gamma', 'P3_Slow', 'P3_Low_beta', 'P4_Delta', 'P4_Theta', 'P4_Alpha', 'P4_Beta', 'P4_Gamma', 'P4_Slow', 'P4_Low_beta', 'T6_Delta', 'T6_Theta', 'T6_Alpha', 'T6_Beta', 'T6_Gamma', 'T6_Slow', 'T6_Low_beta', 'O1_Delta', 'O1_Theta', 'O1_Alpha', 'O1_Beta', 'O1_Gamma', 'O1_Slow', 'O1_Low_beta', 'O2_Delta', 'O2_Theta', 'O2_Alpha', 'O2_Beta', 'O2_Gamma', 'O2_Slow', 'O2_Low_beta', 'alpha_frontal', 'alpha_temporal', 'alpha_asymmetry', 'beta_frontal', 'beta_temporal', 'beat_asymmetry']]\n",
    "y_test = test_df[['label']]"
   ]
  },
  {
   "cell_type": "code",
   "execution_count": 53,
   "id": "cde5ae3d",
   "metadata": {},
   "outputs": [],
   "source": [
    "X_test = X_test.to_numpy()\n",
    "y_test = y_test.to_numpy()\n",
    "y_test = y_test.reshape(-1)"
   ]
  },
  {
   "cell_type": "code",
   "execution_count": 54,
   "id": "8822c226",
   "metadata": {},
   "outputs": [],
   "source": [
    "X_test_scaled = np.zeros_like(X_test)\n",
    "\n",
    "for i in range(X_test.shape[1]):\n",
    "    X_test_minmax = scalers[i].transform(X_test[:,i].reshape(-1, 1))\n",
    "    X_test_scaled[:,i] = X_test_minmax[:,0]"
   ]
  },
  {
   "cell_type": "code",
   "execution_count": 55,
   "id": "33ec4c72",
   "metadata": {},
   "outputs": [
    {
     "data": {
      "text/plain": [
       "0.6527777777777778"
      ]
     },
     "execution_count": 55,
     "metadata": {},
     "output_type": "execute_result"
    }
   ],
   "source": [
    "yhat = grid.predict(X_test_scaled)\n",
    "accuracy_score(y_test, yhat)"
   ]
  },
  {
   "cell_type": "code",
   "execution_count": 56,
   "id": "2ef2c685",
   "metadata": {},
   "outputs": [
    {
     "name": "stdout",
     "output_type": "stream",
     "text": [
      "              precision    recall  f1-score   support\n",
      "\n",
      "           0       0.66      0.98      0.79        48\n",
      "           1       0.00      0.00      0.00        24\n",
      "\n",
      "    accuracy                           0.65        72\n",
      "   macro avg       0.33      0.49      0.39        72\n",
      "weighted avg       0.44      0.65      0.53        72\n",
      "\n"
     ]
    }
   ],
   "source": [
    "print(classification_report(y_test, yhat))"
   ]
  },
  {
   "cell_type": "code",
   "execution_count": 57,
   "id": "6cdecdaa",
   "metadata": {},
   "outputs": [
    {
     "data": {
      "text/plain": [
       "SVC(C=10, gamma=0.1, max_iter=10000, random_state=999)"
      ]
     },
     "execution_count": 57,
     "metadata": {},
     "output_type": "execute_result"
    }
   ],
   "source": [
    "#{'C': 10, 'gamma': 0.1, 'kernel': 'rbf'}\n",
    "final_svm = SVC(random_state=999, C=10, gamma=0.1, kernel='rbf', max_iter=10000)\n",
    "final_svm.fit(X_train_scaled, y_train)"
   ]
  },
  {
   "cell_type": "code",
   "execution_count": 58,
   "id": "aecdba65",
   "metadata": {},
   "outputs": [
    {
     "data": {
      "text/plain": [
       "0.6527777777777778"
      ]
     },
     "execution_count": 58,
     "metadata": {},
     "output_type": "execute_result"
    }
   ],
   "source": [
    "yhat = final_svm.predict(X_test_scaled)\n",
    "accuracy_score(y_test, yhat)"
   ]
  },
  {
   "cell_type": "code",
   "execution_count": 59,
   "id": "0ca03bce",
   "metadata": {},
   "outputs": [
    {
     "data": {
      "image/png": "[encoded data removed]",
      "text/plain": [
       "<Figure size 432x288 with 2 Axes>"
      ]
     },
     "metadata": {
      "needs_background": "light"
     },
     "output_type": "display_data"
    }
   ],
   "source": [
    "cm = confusion_matrix(y_test, yhat, labels=final_svm.classes_)\n",
    "disp = ConfusionMatrixDisplay(confusion_matrix=cm,\n",
    "                              display_labels=final_svm.classes_)\n",
    "disp.plot()\n",
    "\n",
    "plt.show()"
   ]
  },
  {
   "cell_type": "code",
   "execution_count": null,
   "id": "74f1c3a5",
   "metadata": {},
   "outputs": [],
   "source": []
  },
  {
   "cell_type": "code",
   "execution_count": null,
   "id": "3b2425a4",
   "metadata": {},
   "outputs": [],
   "source": []
  }
 ],
 "metadata": {
  "kernelspec": {
   "display_name": "Python 3 (ipykernel)",
   "language": "python",
   "name": "python3"
  },
  "language_info": {
   "codemirror_mode": {
    "name": "ipython",
    "version": 3
   },
   "file_extension": ".py",
   "mimetype": "text/x-python",
   "name": "python",
   "nbconvert_exporter": "python",
   "pygments_lexer": "ipython3",
   "version": "3.9.12"
  }
 },
 "nbformat": 4,
 "nbformat_minor": 5
}
