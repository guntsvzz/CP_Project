{
 "cells": [
  {
   "cell_type": "code",
   "execution_count": 31,
   "id": "1776db20",
   "metadata": {},
   "outputs": [],
   "source": [
    "# Imports\n",
    "import os\n",
    "import numpy as np\n",
    "import pandas as pd\n",
    "import mne\n",
    "import matplotlib.pyplot as plt\n",
    "import random\n",
    "import math\n",
    "%matplotlib inline"
   ]
  },
  {
   "cell_type": "code",
   "execution_count": 32,
   "id": "08708c28",
   "metadata": {},
   "outputs": [
    {
     "data": {
      "text/plain": [
       "(array([ 4,  5,  6,  7,  9, 10, 11, 13, 14, 15]),\n",
       " array([ 1,  2,  3,  8, 12, 16, 17]))"
      ]
     },
     "execution_count": 32,
     "metadata": {},
     "output_type": "execute_result"
    }
   ],
   "source": [
    "def read_labels(file_path):\n",
    "    label_df = pd.read_csv(file_path)\n",
    "    data = label_df[['id', 'label']]\n",
    "    data = data.to_numpy()\n",
    "    non_stressed = []\n",
    "    stressed = []\n",
    "\n",
    "    for i in range(len(data)):\n",
    "        if data[i][1] == 1:\n",
    "            stressed.append(data[i][0])\n",
    "        else:\n",
    "            non_stressed.append(data[i][0])\n",
    "    return non_stressed, stressed\n",
    "\n",
    "label_file_path = '../data/labels/PSS10-Sheet1.csv'\n",
    "non_stressed, stressed = read_labels(label_file_path)    \n",
    "non_stressed = np.array(non_stressed)\n",
    "stressed = np.array(stressed)\n",
    "non_stressed, stressed"
   ]
  },
  {
   "cell_type": "code",
   "execution_count": 33,
   "id": "5115cd0e",
   "metadata": {},
   "outputs": [],
   "source": [
    "random.seed(999)\n",
    "random.shuffle(non_stressed)\n",
    "random.shuffle(stressed)"
   ]
  },
  {
   "cell_type": "code",
   "execution_count": 34,
   "id": "13fbfd03",
   "metadata": {},
   "outputs": [
    {
     "data": {
      "text/plain": [
       "array([10, 11,  9,  4,  6, 15,  7, 13, 14,  5])"
      ]
     },
     "execution_count": 34,
     "metadata": {},
     "output_type": "execute_result"
    }
   ],
   "source": [
    "non_stressed"
   ]
  },
  {
   "cell_type": "code",
   "execution_count": 35,
   "id": "cdcee2fc",
   "metadata": {},
   "outputs": [
    {
     "data": {
      "text/plain": [
       "array([ 8, 17, 16,  1, 12,  3,  2])"
      ]
     },
     "execution_count": 35,
     "metadata": {},
     "output_type": "execute_result"
    }
   ],
   "source": [
    "stressed"
   ]
  },
  {
   "cell_type": "code",
   "execution_count": 36,
   "id": "914aecdd",
   "metadata": {},
   "outputs": [
    {
     "data": {
      "text/plain": [
       "(8, 6)"
      ]
     },
     "execution_count": 36,
     "metadata": {},
     "output_type": "execute_result"
    }
   ],
   "source": [
    "percent_train = .8\n",
    "\n",
    "m_ns_train = int(non_stressed.shape[0] * percent_train)\n",
    "m_s_train = int(math.ceil(stressed.shape[0] * percent_train))\n",
    "\n",
    "m_ns_train, m_s_train"
   ]
  },
  {
   "cell_type": "code",
   "execution_count": 37,
   "id": "52cf3e41",
   "metadata": {},
   "outputs": [
    {
     "data": {
      "text/plain": [
       "(array([10, 11,  9,  4,  6, 15,  7, 13]), array([14,  5]))"
      ]
     },
     "execution_count": 37,
     "metadata": {},
     "output_type": "execute_result"
    }
   ],
   "source": [
    "non_stressed_train = non_stressed[:m_ns_train]\n",
    "non_stressed_test = non_stressed[m_ns_train:]\n",
    "non_stressed_train, non_stressed_test"
   ]
  },
  {
   "cell_type": "code",
   "execution_count": 38,
   "id": "07d825a5",
   "metadata": {},
   "outputs": [
    {
     "data": {
      "text/plain": [
       "(array([ 8, 17, 16,  1, 12,  3]), array([2]))"
      ]
     },
     "execution_count": 38,
     "metadata": {},
     "output_type": "execute_result"
    }
   ],
   "source": [
    "stressed_train = stressed[:m_s_train]\n",
    "stressed_test = stressed[m_s_train:]\n",
    "stressed_train, stressed_test"
   ]
  },
  {
   "cell_type": "code",
   "execution_count": null,
   "id": "3c4b8e40",
   "metadata": {},
   "outputs": [],
   "source": []
  }
 ],
 "metadata": {
  "kernelspec": {
   "display_name": "Python 3 (ipykernel)",
   "language": "python",
   "name": "python3"
  },
  "language_info": {
   "codemirror_mode": {
    "name": "ipython",
    "version": 3
   },
   "file_extension": ".py",
   "mimetype": "text/x-python",
   "name": "python",
   "nbconvert_exporter": "python",
   "pygments_lexer": "ipython3",
   "version": "3.9.12"
  }
 },
 "nbformat": 4,
 "nbformat_minor": 5
}
