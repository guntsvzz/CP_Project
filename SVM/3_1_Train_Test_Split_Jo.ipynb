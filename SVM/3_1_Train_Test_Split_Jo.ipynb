{
 "cells": [
  {
   "cell_type": "code",
   "execution_count": 2,
   "id": "1776db20",
   "metadata": {},
   "outputs": [],
   "source": [
    "# Imports\n",
    "import os\n",
    "import numpy as np\n",
    "import pandas as pd\n",
    "import mne\n",
    "import matplotlib.pyplot as plt\n",
    "import random\n",
    "import math\n",
    "%matplotlib inline"
   ]
  },
  {
   "cell_type": "code",
   "execution_count": 3,
   "id": "8a5d34e7",
   "metadata": {},
   "outputs": [
    {
     "name": "stdout",
     "output_type": "stream",
     "text": [
      "{1: 0, 2: 1, 3: 1, 4: 1, 5: 1, 6: 1, 7: 1, 8: 1, 9: 0, 10: 1, 11: 0, 12: 0, 13: 1, 14: 0, 15: 0, 16: 1, 17: 0, 18: 0, 19: 0, 20: 0, 21: 1, 22: 0, 23: 1, 24: 1, 25: 0, 26: 1, 27: 0, 28: 0, 29: 1, 30: 0, 31: 0, 32: 1, 33: 0, 34: 1, 35: 0, 36: 1, 37: 1, 38: 1, 39: 0, 40: 1, 41: 0, 42: 0, 43: 1, 44: 1, 45: 1, 46: 0, 47: 0, 48: 0, 49: 1, 50: 0, 51: 1, 52: 1, 53: 0, 54: 1, 55: 0}\n"
     ]
    }
   ],
   "source": [
    "def read_labels(file_path):\n",
    "    label_df = pd.read_csv(file_path)\n",
    "    data = label_df[['No.', 'label']]\n",
    "    data = data.to_numpy()\n",
    "    dict_label = dict()\n",
    "\n",
    "    for i in range(len(data)):\n",
    "        dict_label[data[i][0]] = data[i][1]\n",
    "    return dict_label\n",
    "\n",
    "label_file_path = '../data/label_jo/PSS.csv'\n",
    "dict_label = read_labels(label_file_path)    \n",
    "print(dict_label)"
   ]
  },
  {
   "cell_type": "code",
   "execution_count": 4,
   "id": "08708c28",
   "metadata": {},
   "outputs": [
    {
     "data": {
      "text/plain": [
       "(array([ 1,  9, 11, 12, 14, 15, 17, 18, 19, 20, 22, 25, 27, 28, 30, 31, 33,\n",
       "        35, 39, 41, 42, 46, 47, 48, 50, 53, 55]),\n",
       " array([ 2,  3,  4,  5,  6,  7,  8, 10, 13, 16, 21, 23, 24, 26, 29, 32, 34,\n",
       "        36, 37, 38, 40, 43, 44, 45, 49, 51, 52, 54]))"
      ]
     },
     "execution_count": 4,
     "metadata": {},
     "output_type": "execute_result"
    }
   ],
   "source": [
    "def group_participants(dict_label):\n",
    "    non_stressed = []\n",
    "    stressed = []\n",
    "    \n",
    "    for key in dict_label:\n",
    "        if dict_label[key] == 1:\n",
    "            stressed.append(key)\n",
    "        else:\n",
    "            non_stressed.append(key)\n",
    "    return non_stressed, stressed\n",
    "\n",
    "non_stressed, stressed = group_participants(dict_label)    \n",
    "non_stressed = np.array(non_stressed)\n",
    "stressed = np.array(stressed)\n",
    "non_stressed, stressed"
   ]
  },
  {
   "cell_type": "code",
   "execution_count": 5,
   "id": "5115cd0e",
   "metadata": {},
   "outputs": [],
   "source": [
    "random.seed(999)\n",
    "random.shuffle(non_stressed)\n",
    "random.shuffle(stressed)"
   ]
  },
  {
   "cell_type": "code",
   "execution_count": 6,
   "id": "13fbfd03",
   "metadata": {},
   "outputs": [
    {
     "data": {
      "text/plain": [
       "array([19, 55, 15,  9, 18, 30, 25, 27, 33, 41, 28,  1, 20, 47, 50, 17, 12,\n",
       "       22, 14, 42, 31, 35, 48, 39, 11, 46, 53])"
      ]
     },
     "execution_count": 6,
     "metadata": {},
     "output_type": "execute_result"
    }
   ],
   "source": [
    "non_stressed"
   ]
  },
  {
   "cell_type": "code",
   "execution_count": 7,
   "id": "cdcee2fc",
   "metadata": {},
   "outputs": [
    {
     "data": {
      "text/plain": [
       "array([49, 34, 16, 26, 45, 10, 13, 37,  8, 24, 51,  3,  5, 44, 52,  2, 40,\n",
       "       32,  6, 23, 29, 38, 36,  4, 54, 21, 43,  7])"
      ]
     },
     "execution_count": 7,
     "metadata": {},
     "output_type": "execute_result"
    }
   ],
   "source": [
    "stressed"
   ]
  },
  {
   "cell_type": "code",
   "execution_count": 10,
   "id": "a0540ab8",
   "metadata": {},
   "outputs": [
    {
     "data": {
      "text/plain": [
       "((27,), (28,))"
      ]
     },
     "execution_count": 10,
     "metadata": {},
     "output_type": "execute_result"
    }
   ],
   "source": [
    "non_stressed.shape, stressed.shape"
   ]
  },
  {
   "cell_type": "code",
   "execution_count": 9,
   "id": "914aecdd",
   "metadata": {},
   "outputs": [
    {
     "data": {
      "text/plain": [
       "(22, 23)"
      ]
     },
     "execution_count": 9,
     "metadata": {},
     "output_type": "execute_result"
    }
   ],
   "source": [
    "percent_train = .8\n",
    "\n",
    "m_ns_train = int(math.ceil(non_stressed.shape[0] * percent_train))\n",
    "m_s_train = int(math.ceil(stressed.shape[0] * percent_train))\n",
    "\n",
    "m_ns_train, m_s_train"
   ]
  },
  {
   "cell_type": "code",
   "execution_count": 11,
   "id": "52cf3e41",
   "metadata": {},
   "outputs": [
    {
     "data": {
      "text/plain": [
       "(array([19, 55, 15,  9, 18, 30, 25, 27, 33, 41, 28,  1, 20, 47, 50, 17, 12,\n",
       "        22, 14, 42, 31, 35]),\n",
       " array([48, 39, 11, 46, 53]))"
      ]
     },
     "execution_count": 11,
     "metadata": {},
     "output_type": "execute_result"
    }
   ],
   "source": [
    "non_stressed_train = non_stressed[:m_ns_train]\n",
    "non_stressed_test = non_stressed[m_ns_train:]\n",
    "non_stressed_train, non_stressed_test"
   ]
  },
  {
   "cell_type": "code",
   "execution_count": 13,
   "id": "667a1cba",
   "metadata": {},
   "outputs": [
    {
     "data": {
      "text/plain": [
       "((22,), (5,))"
      ]
     },
     "execution_count": 13,
     "metadata": {},
     "output_type": "execute_result"
    }
   ],
   "source": [
    "non_stressed_train.shape, non_stressed_test.shape"
   ]
  },
  {
   "cell_type": "code",
   "execution_count": 14,
   "id": "07d825a5",
   "metadata": {},
   "outputs": [
    {
     "data": {
      "text/plain": [
       "(array([49, 34, 16, 26, 45, 10, 13, 37,  8, 24, 51,  3,  5, 44, 52,  2, 40,\n",
       "        32,  6, 23, 29, 38, 36]),\n",
       " array([ 4, 54, 21, 43,  7]))"
      ]
     },
     "execution_count": 14,
     "metadata": {},
     "output_type": "execute_result"
    }
   ],
   "source": [
    "stressed_train = stressed[:m_s_train]\n",
    "stressed_test = stressed[m_s_train:]\n",
    "stressed_train, stressed_test"
   ]
  },
  {
   "cell_type": "code",
   "execution_count": 15,
   "id": "3c4b8e40",
   "metadata": {},
   "outputs": [
    {
     "data": {
      "text/plain": [
       "((23,), (5,))"
      ]
     },
     "execution_count": 15,
     "metadata": {},
     "output_type": "execute_result"
    }
   ],
   "source": [
    "stressed_train.shape, stressed_test.shape"
   ]
  },
  {
   "cell_type": "code",
   "execution_count": 17,
   "id": "0c3619ff",
   "metadata": {},
   "outputs": [
    {
     "data": {
      "text/plain": [
       "array([19, 55, 15,  9, 18, 30, 25, 27, 33, 41, 28,  1, 20, 47, 50, 17, 12,\n",
       "       22, 14, 42, 31, 35, 49, 34, 16, 26, 45, 10, 13, 37,  8, 24, 51,  3,\n",
       "        5, 44, 52,  2, 40, 32,  6, 23, 29, 38, 36])"
      ]
     },
     "execution_count": 17,
     "metadata": {},
     "output_type": "execute_result"
    }
   ],
   "source": [
    "train_participants = np.concatenate((non_stressed_train, stressed_train))\n",
    "train_participants"
   ]
  },
  {
   "cell_type": "code",
   "execution_count": 18,
   "id": "0dee5cf2",
   "metadata": {},
   "outputs": [
    {
     "data": {
      "text/plain": [
       "(45,)"
      ]
     },
     "execution_count": 18,
     "metadata": {},
     "output_type": "execute_result"
    }
   ],
   "source": [
    "train_participants.shape"
   ]
  },
  {
   "cell_type": "code",
   "execution_count": 19,
   "id": "5b15bf42",
   "metadata": {},
   "outputs": [
    {
     "data": {
      "text/plain": [
       "array([48, 39, 11, 46, 53,  4, 54, 21, 43,  7])"
      ]
     },
     "execution_count": 19,
     "metadata": {},
     "output_type": "execute_result"
    }
   ],
   "source": [
    "test_participants = np.concatenate((non_stressed_test, stressed_test))\n",
    "test_participants"
   ]
  },
  {
   "cell_type": "code",
   "execution_count": 20,
   "id": "ee6c3ca9",
   "metadata": {},
   "outputs": [
    {
     "data": {
      "text/plain": [
       "(10,)"
      ]
     },
     "execution_count": 20,
     "metadata": {},
     "output_type": "execute_result"
    }
   ],
   "source": [
    "test_participants.shape"
   ]
  },
  {
   "cell_type": "code",
   "execution_count": null,
   "id": "d2fe7077",
   "metadata": {},
   "outputs": [],
   "source": []
  }
 ],
 "metadata": {
  "kernelspec": {
   "display_name": "Python 3 (ipykernel)",
   "language": "python",
   "name": "python3"
  },
  "language_info": {
   "codemirror_mode": {
    "name": "ipython",
    "version": 3
   },
   "file_extension": ".py",
   "mimetype": "text/x-python",
   "name": "python",
   "nbconvert_exporter": "python",
   "pygments_lexer": "ipython3",
   "version": "3.9.12"
  }
 },
 "nbformat": 4,
 "nbformat_minor": 5
}
