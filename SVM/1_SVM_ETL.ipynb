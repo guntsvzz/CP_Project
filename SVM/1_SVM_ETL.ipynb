{
 "cells": [
  {
   "cell_type": "markdown",
   "id": "229b984d",
   "metadata": {},
   "source": [
    "# Stress Classification Based on EEG Data using SVM"
   ]
  },
  {
   "cell_type": "code",
   "execution_count": 12,
   "id": "0e6c15ec",
   "metadata": {},
   "outputs": [],
   "source": [
    "# Imports\n",
    "\n",
    "import os\n",
    "import numpy as np\n",
    "import pandas as pd\n",
    "from mne_features.feature_extraction import FeatureExtractor"
   ]
  },
  {
   "cell_type": "markdown",
   "id": "9f6d716b",
   "metadata": {},
   "source": [
    "## 1. ETL"
   ]
  },
  {
   "cell_type": "code",
   "execution_count": 13,
   "id": "2222a12f",
   "metadata": {},
   "outputs": [
    {
     "data": {
      "text/html": [
       "<div>\n",
       "<style scoped>\n",
       "    .dataframe tbody tr th:only-of-type {\n",
       "        vertical-align: middle;\n",
       "    }\n",
       "\n",
       "    .dataframe tbody tr th {\n",
       "        vertical-align: top;\n",
       "    }\n",
       "\n",
       "    .dataframe thead th {\n",
       "        text-align: right;\n",
       "    }\n",
       "</style>\n",
       "<table border=\"1\" class=\"dataframe\">\n",
       "  <thead>\n",
       "    <tr style=\"text-align: right;\">\n",
       "      <th></th>\n",
       "      <th>Unnamed: 0</th>\n",
       "      <th>0</th>\n",
       "      <th>1</th>\n",
       "      <th>2</th>\n",
       "      <th>3</th>\n",
       "      <th>4</th>\n",
       "      <th>5</th>\n",
       "      <th>6</th>\n",
       "      <th>7</th>\n",
       "      <th>8</th>\n",
       "      <th>...</th>\n",
       "      <th>22</th>\n",
       "      <th>23</th>\n",
       "      <th>24</th>\n",
       "      <th>25</th>\n",
       "      <th>26</th>\n",
       "      <th>27</th>\n",
       "      <th>28</th>\n",
       "      <th>29</th>\n",
       "      <th>30</th>\n",
       "      <th>31</th>\n",
       "    </tr>\n",
       "  </thead>\n",
       "  <tbody>\n",
       "    <tr>\n",
       "      <th>0</th>\n",
       "      <td>0</td>\n",
       "      <td>144.0</td>\n",
       "      <td>-10544.144874</td>\n",
       "      <td>-9603.918744</td>\n",
       "      <td>-16893.269645</td>\n",
       "      <td>19412.154783</td>\n",
       "      <td>8298.487460</td>\n",
       "      <td>-44.323509</td>\n",
       "      <td>-8133.956269</td>\n",
       "      <td>5991.698026</td>\n",
       "      <td>...</td>\n",
       "      <td>88.0</td>\n",
       "      <td>0.0</td>\n",
       "      <td>112.0</td>\n",
       "      <td>15.5</td>\n",
       "      <td>8.0</td>\n",
       "      <td>0.0</td>\n",
       "      <td>0.0</td>\n",
       "      <td>0.0</td>\n",
       "      <td>1.667842e+09</td>\n",
       "      <td>0.0</td>\n",
       "    </tr>\n",
       "    <tr>\n",
       "      <th>1</th>\n",
       "      <td>1</td>\n",
       "      <td>146.0</td>\n",
       "      <td>-10536.858205</td>\n",
       "      <td>-9611.071302</td>\n",
       "      <td>-16871.566101</td>\n",
       "      <td>19500.958264</td>\n",
       "      <td>8247.927814</td>\n",
       "      <td>-39.719050</td>\n",
       "      <td>-8109.011723</td>\n",
       "      <td>6010.339381</td>\n",
       "      <td>...</td>\n",
       "      <td>0.0</td>\n",
       "      <td>0.0</td>\n",
       "      <td>0.0</td>\n",
       "      <td>0.0</td>\n",
       "      <td>0.0</td>\n",
       "      <td>0.0</td>\n",
       "      <td>0.0</td>\n",
       "      <td>0.0</td>\n",
       "      <td>1.667842e+09</td>\n",
       "      <td>0.0</td>\n",
       "    </tr>\n",
       "    <tr>\n",
       "      <th>2</th>\n",
       "      <td>2</td>\n",
       "      <td>148.0</td>\n",
       "      <td>-10516.294601</td>\n",
       "      <td>-9590.708863</td>\n",
       "      <td>-16854.936404</td>\n",
       "      <td>19063.422866</td>\n",
       "      <td>8267.530294</td>\n",
       "      <td>-24.050477</td>\n",
       "      <td>-8095.712435</td>\n",
       "      <td>6026.857320</td>\n",
       "      <td>...</td>\n",
       "      <td>0.0</td>\n",
       "      <td>0.0</td>\n",
       "      <td>0.0</td>\n",
       "      <td>0.0</td>\n",
       "      <td>0.0</td>\n",
       "      <td>0.0</td>\n",
       "      <td>0.0</td>\n",
       "      <td>0.0</td>\n",
       "      <td>1.667842e+09</td>\n",
       "      <td>0.0</td>\n",
       "    </tr>\n",
       "    <tr>\n",
       "      <th>3</th>\n",
       "      <td>3</td>\n",
       "      <td>150.0</td>\n",
       "      <td>-10554.627842</td>\n",
       "      <td>-9619.877889</td>\n",
       "      <td>-16905.138422</td>\n",
       "      <td>19647.362190</td>\n",
       "      <td>8284.070585</td>\n",
       "      <td>-51.051384</td>\n",
       "      <td>-8147.412020</td>\n",
       "      <td>5979.583380</td>\n",
       "      <td>...</td>\n",
       "      <td>0.0</td>\n",
       "      <td>0.0</td>\n",
       "      <td>0.0</td>\n",
       "      <td>0.0</td>\n",
       "      <td>0.0</td>\n",
       "      <td>0.0</td>\n",
       "      <td>0.0</td>\n",
       "      <td>0.0</td>\n",
       "      <td>1.667842e+09</td>\n",
       "      <td>0.0</td>\n",
       "    </tr>\n",
       "    <tr>\n",
       "      <th>4</th>\n",
       "      <td>4</td>\n",
       "      <td>152.0</td>\n",
       "      <td>-10505.454004</td>\n",
       "      <td>-9592.742871</td>\n",
       "      <td>-16839.670162</td>\n",
       "      <td>19133.853213</td>\n",
       "      <td>8233.667402</td>\n",
       "      <td>-22.307041</td>\n",
       "      <td>-8072.958359</td>\n",
       "      <td>6039.821331</td>\n",
       "      <td>...</td>\n",
       "      <td>0.0</td>\n",
       "      <td>0.0</td>\n",
       "      <td>0.0</td>\n",
       "      <td>0.0</td>\n",
       "      <td>0.0</td>\n",
       "      <td>0.0</td>\n",
       "      <td>0.0</td>\n",
       "      <td>0.0</td>\n",
       "      <td>1.667842e+09</td>\n",
       "      <td>0.0</td>\n",
       "    </tr>\n",
       "  </tbody>\n",
       "</table>\n",
       "<p>5 rows × 33 columns</p>\n",
       "</div>"
      ],
      "text/plain": [
       "   Unnamed: 0      0             1            2             3             4  \\\n",
       "0           0  144.0 -10544.144874 -9603.918744 -16893.269645  19412.154783   \n",
       "1           1  146.0 -10536.858205 -9611.071302 -16871.566101  19500.958264   \n",
       "2           2  148.0 -10516.294601 -9590.708863 -16854.936404  19063.422866   \n",
       "3           3  150.0 -10554.627842 -9619.877889 -16905.138422  19647.362190   \n",
       "4           4  152.0 -10505.454004 -9592.742871 -16839.670162  19133.853213   \n",
       "\n",
       "             5          6            7            8  ...    22   23     24  \\\n",
       "0  8298.487460 -44.323509 -8133.956269  5991.698026  ...  88.0  0.0  112.0   \n",
       "1  8247.927814 -39.719050 -8109.011723  6010.339381  ...   0.0  0.0    0.0   \n",
       "2  8267.530294 -24.050477 -8095.712435  6026.857320  ...   0.0  0.0    0.0   \n",
       "3  8284.070585 -51.051384 -8147.412020  5979.583380  ...   0.0  0.0    0.0   \n",
       "4  8233.667402 -22.307041 -8072.958359  6039.821331  ...   0.0  0.0    0.0   \n",
       "\n",
       "     25   26   27   28   29            30   31  \n",
       "0  15.5  8.0  0.0  0.0  0.0  1.667842e+09  0.0  \n",
       "1   0.0  0.0  0.0  0.0  0.0  1.667842e+09  0.0  \n",
       "2   0.0  0.0  0.0  0.0  0.0  1.667842e+09  0.0  \n",
       "3   0.0  0.0  0.0  0.0  0.0  1.667842e+09  0.0  \n",
       "4   0.0  0.0  0.0  0.0  0.0  1.667842e+09  0.0  \n",
       "\n",
       "[5 rows x 33 columns]"
      ]
     },
     "execution_count": 13,
     "metadata": {},
     "output_type": "execute_result"
    }
   ],
   "source": [
    "# Explore one recorded csv file\n",
    "df = pd.read_csv(\"../data/recorded_csv/exp02.csv\")\n",
    "df.head()"
   ]
  },
  {
   "cell_type": "code",
   "execution_count": 14,
   "id": "ab6e5ae5",
   "metadata": {},
   "outputs": [
    {
     "data": {
      "text/plain": [
       "Index(['Unnamed: 0', '0', '1', '2', '3', '4', '5', '6', '7', '8', '9', '10',\n",
       "       '11', '12', '13', '14', '15', '16', '17', '18', '19', '20', '21', '22',\n",
       "       '23', '24', '25', '26', '27', '28', '29', '30', '31'],\n",
       "      dtype='object')"
      ]
     },
     "execution_count": 14,
     "metadata": {},
     "output_type": "execute_result"
    }
   ],
   "source": [
    "df.columns"
   ]
  },
  {
   "cell_type": "code",
   "execution_count": 15,
   "id": "56f89683",
   "metadata": {},
   "outputs": [],
   "source": [
    "# Get the list of csv file names\n",
    "def recorded_csv_files(dir_path):\n",
    "    all_file = os.listdir(dir_path)\n",
    "    file_names = list()\n",
    "    for file in all_file:\n",
    "        if (file[0:3] == 'exp') & (file[-3:] == 'csv'):\n",
    "            file_names.append(file)\n",
    "    file_names = sorted(file_names)\n",
    "    return file_names"
   ]
  },
  {
   "cell_type": "code",
   "execution_count": 16,
   "id": "ad971d56",
   "metadata": {},
   "outputs": [
    {
     "data": {
      "text/plain": [
       "['exp01.csv',\n",
       " 'exp02.csv',\n",
       " 'exp03.csv',\n",
       " 'exp04.csv',\n",
       " 'exp05.csv',\n",
       " 'exp06.csv',\n",
       " 'exp07.csv',\n",
       " 'exp08.csv',\n",
       " 'exp09.csv',\n",
       " 'exp10.csv',\n",
       " 'exp11.csv',\n",
       " 'exp12.csv',\n",
       " 'exp13.csv',\n",
       " 'exp14.csv',\n",
       " 'exp15.csv',\n",
       " 'exp16.csv',\n",
       " 'exp17.csv']"
      ]
     },
     "execution_count": 16,
     "metadata": {},
     "output_type": "execute_result"
    }
   ],
   "source": [
    "#working_dir_path = os.getcwd()\n",
    "dir_path = \"../data/recorded_csv\"\n",
    "file_names = recorded_csv_files(dir_path)\n",
    "file_names"
   ]
  },
  {
   "cell_type": "code",
   "execution_count": 17,
   "id": "6eada44d",
   "metadata": {},
   "outputs": [],
   "source": [
    "# Utility functions\n",
    "\n",
    "# Make directory\n",
    "def create_dir(dir_path):\n",
    "    try:\n",
    "        os.mkdir(dir_path)\n",
    "    except OSError as error:\n",
    "        print(\"Path already exist - \" + out_dir_path)\n",
    "    "
   ]
  },
  {
   "cell_type": "code",
   "execution_count": 20,
   "id": "9db9e46b",
   "metadata": {},
   "outputs": [],
   "source": [
    "# Extract the 16 EEG channel data we use and save them to cvs files\n",
    "def channel_16_csv_files(in_dir_path, out_dir_path, file_names):\n",
    "    # Make the output dir. if not exist\n",
    "    create_dir(out_dir_path)\n",
    "    \n",
    "    for i in range(len(file_names)):\n",
    "        channel_16_csv_file_path = out_dir_path + '/' + file_names[i]\n",
    "        df = pd.read_csv(in_dir_path + '/' + file_names[i])\n",
    "        df = df.drop(columns=['Unnamed: 0', '0', '17', '18', '19', '20', '21', '22',\n",
    "            '23', '24', '25', '26', '27', '28', '29', '30', '31'])\n",
    "        df.columns = ['Fp1', 'Fp2', 'F7', 'F3', 'F4', 'F8', 'T3', 'C3', 'C4', 'T4', 'T5', 'P3', 'P4', 'T6', 'O1', 'O2']\n",
    "        df = df.set_index(df.columns[0])\n",
    "        df.to_csv(channel_16_csv_file_path)"
   ]
  },
  {
   "cell_type": "code",
   "execution_count": 21,
   "id": "761e3d55",
   "metadata": {},
   "outputs": [
    {
     "name": "stdout",
     "output_type": "stream",
     "text": [
      "in_dir_path ../data/recorded_csv\n",
      "out_dir_path ../data/ch_16_csv\n",
      "Path already exist - ../data/ch_16_csv\n"
     ]
    }
   ],
   "source": [
    "#working_dir_path = os.getcwd()\n",
    "in_dir_path = \"../data/recorded_csv\"\n",
    "out_dir_path = \"../data/ch_16_csv\"\n",
    "print(\"in_dir_path\", in_dir_path)\n",
    "print(\"out_dir_path\", out_dir_path)\n",
    "channel_16_csv_files(in_dir_path, out_dir_path, file_names)"
   ]
  },
  {
   "cell_type": "code",
   "execution_count": 22,
   "id": "9fb922a2",
   "metadata": {},
   "outputs": [
    {
     "name": "stdout",
     "output_type": "stream",
     "text": [
      "17\n",
      "exp10.csv\n"
     ]
    }
   ],
   "source": [
    "print(len(os.listdir(out_dir_path)))\n",
    "print(os.listdir(out_dir_path)[0])"
   ]
  },
  {
   "cell_type": "code",
   "execution_count": 23,
   "id": "a7305826",
   "metadata": {},
   "outputs": [
    {
     "data": {
      "text/html": [
       "<div>\n",
       "<style scoped>\n",
       "    .dataframe tbody tr th:only-of-type {\n",
       "        vertical-align: middle;\n",
       "    }\n",
       "\n",
       "    .dataframe tbody tr th {\n",
       "        vertical-align: top;\n",
       "    }\n",
       "\n",
       "    .dataframe thead th {\n",
       "        text-align: right;\n",
       "    }\n",
       "</style>\n",
       "<table border=\"1\" class=\"dataframe\">\n",
       "  <thead>\n",
       "    <tr style=\"text-align: right;\">\n",
       "      <th></th>\n",
       "      <th>Fp1</th>\n",
       "      <th>Fp2</th>\n",
       "      <th>F7</th>\n",
       "      <th>F3</th>\n",
       "      <th>F4</th>\n",
       "      <th>F8</th>\n",
       "      <th>T3</th>\n",
       "      <th>C3</th>\n",
       "      <th>C4</th>\n",
       "      <th>T4</th>\n",
       "      <th>T5</th>\n",
       "      <th>P3</th>\n",
       "      <th>P4</th>\n",
       "      <th>T6</th>\n",
       "      <th>O1</th>\n",
       "      <th>O2</th>\n",
       "    </tr>\n",
       "  </thead>\n",
       "  <tbody>\n",
       "    <tr>\n",
       "      <th>0</th>\n",
       "      <td>15404.241133</td>\n",
       "      <td>16658.531625</td>\n",
       "      <td>-2366.513296</td>\n",
       "      <td>32225.605217</td>\n",
       "      <td>11255.377383</td>\n",
       "      <td>6998.174727</td>\n",
       "      <td>15453.996116</td>\n",
       "      <td>3754.981310</td>\n",
       "      <td>-692.211174</td>\n",
       "      <td>8447.752410</td>\n",
       "      <td>21554.547138</td>\n",
       "      <td>8821.451225</td>\n",
       "      <td>3756.545932</td>\n",
       "      <td>16666.555901</td>\n",
       "      <td>7820.227184</td>\n",
       "      <td>11473.038670</td>\n",
       "    </tr>\n",
       "    <tr>\n",
       "      <th>1</th>\n",
       "      <td>15399.748433</td>\n",
       "      <td>16660.543282</td>\n",
       "      <td>-2363.942845</td>\n",
       "      <td>32232.355444</td>\n",
       "      <td>11236.758380</td>\n",
       "      <td>6995.693683</td>\n",
       "      <td>15453.906709</td>\n",
       "      <td>3741.302042</td>\n",
       "      <td>-693.999314</td>\n",
       "      <td>8450.009936</td>\n",
       "      <td>21558.771617</td>\n",
       "      <td>8800.328827</td>\n",
       "      <td>3762.111516</td>\n",
       "      <td>16668.858131</td>\n",
       "      <td>7834.822873</td>\n",
       "      <td>11487.656711</td>\n",
       "    </tr>\n",
       "    <tr>\n",
       "      <th>2</th>\n",
       "      <td>15401.827145</td>\n",
       "      <td>16654.351849</td>\n",
       "      <td>-2371.743604</td>\n",
       "      <td>32228.577999</td>\n",
       "      <td>11339.755218</td>\n",
       "      <td>6990.396320</td>\n",
       "      <td>15443.691962</td>\n",
       "      <td>3775.589618</td>\n",
       "      <td>-695.809805</td>\n",
       "      <td>8441.918605</td>\n",
       "      <td>21551.462597</td>\n",
       "      <td>8812.309362</td>\n",
       "      <td>3752.321452</td>\n",
       "      <td>16658.084590</td>\n",
       "      <td>7825.859824</td>\n",
       "      <td>11473.083374</td>\n",
       "    </tr>\n",
       "    <tr>\n",
       "      <th>3</th>\n",
       "      <td>15389.824258</td>\n",
       "      <td>16651.624936</td>\n",
       "      <td>-2374.179944</td>\n",
       "      <td>32220.397260</td>\n",
       "      <td>11191.317283</td>\n",
       "      <td>6987.468241</td>\n",
       "      <td>15443.490797</td>\n",
       "      <td>3729.522673</td>\n",
       "      <td>-699.140215</td>\n",
       "      <td>8437.582366</td>\n",
       "      <td>21548.199242</td>\n",
       "      <td>8807.839013</td>\n",
       "      <td>3750.175685</td>\n",
       "      <td>16655.804712</td>\n",
       "      <td>7821.009495</td>\n",
       "      <td>11471.608159</td>\n",
       "    </tr>\n",
       "    <tr>\n",
       "      <th>4</th>\n",
       "      <td>15391.120659</td>\n",
       "      <td>16651.356715</td>\n",
       "      <td>-2373.375281</td>\n",
       "      <td>32227.572170</td>\n",
       "      <td>11326.925317</td>\n",
       "      <td>6989.010512</td>\n",
       "      <td>15438.595764</td>\n",
       "      <td>3762.267978</td>\n",
       "      <td>-697.665000</td>\n",
       "      <td>8438.677602</td>\n",
       "      <td>21537.939791</td>\n",
       "      <td>8789.644693</td>\n",
       "      <td>3754.020185</td>\n",
       "      <td>16654.530663</td>\n",
       "      <td>7813.991048</td>\n",
       "      <td>11470.669385</td>\n",
       "    </tr>\n",
       "  </tbody>\n",
       "</table>\n",
       "</div>"
      ],
      "text/plain": [
       "            Fp1           Fp2           F7            F3            F4  \\\n",
       "0  15404.241133  16658.531625 -2366.513296  32225.605217  11255.377383   \n",
       "1  15399.748433  16660.543282 -2363.942845  32232.355444  11236.758380   \n",
       "2  15401.827145  16654.351849 -2371.743604  32228.577999  11339.755218   \n",
       "3  15389.824258  16651.624936 -2374.179944  32220.397260  11191.317283   \n",
       "4  15391.120659  16651.356715 -2373.375281  32227.572170  11326.925317   \n",
       "\n",
       "            F8            T3           C3          C4           T4  \\\n",
       "0  6998.174727  15453.996116  3754.981310 -692.211174  8447.752410   \n",
       "1  6995.693683  15453.906709  3741.302042 -693.999314  8450.009936   \n",
       "2  6990.396320  15443.691962  3775.589618 -695.809805  8441.918605   \n",
       "3  6987.468241  15443.490797  3729.522673 -699.140215  8437.582366   \n",
       "4  6989.010512  15438.595764  3762.267978 -697.665000  8438.677602   \n",
       "\n",
       "             T5           P3           P4            T6           O1  \\\n",
       "0  21554.547138  8821.451225  3756.545932  16666.555901  7820.227184   \n",
       "1  21558.771617  8800.328827  3762.111516  16668.858131  7834.822873   \n",
       "2  21551.462597  8812.309362  3752.321452  16658.084590  7825.859824   \n",
       "3  21548.199242  8807.839013  3750.175685  16655.804712  7821.009495   \n",
       "4  21537.939791  8789.644693  3754.020185  16654.530663  7813.991048   \n",
       "\n",
       "             O2  \n",
       "0  11473.038670  \n",
       "1  11487.656711  \n",
       "2  11473.083374  \n",
       "3  11471.608159  \n",
       "4  11470.669385  "
      ]
     },
     "execution_count": 23,
     "metadata": {},
     "output_type": "execute_result"
    }
   ],
   "source": [
    "# Check one 16 channel csv file\n",
    "test_16_channel_file_path = \"../data/ch_16_csv/exp07.csv\"\n",
    "df = pd.read_csv(test_16_channel_file_path)\n",
    "df.head()"
   ]
  },
  {
   "cell_type": "code",
   "execution_count": 24,
   "id": "8bfde6ea",
   "metadata": {},
   "outputs": [
    {
     "data": {
      "text/plain": [
       "Index(['Fp1', 'Fp2', 'F7', 'F3', 'F4', 'F8', 'T3', 'C3', 'C4', 'T4', 'T5',\n",
       "       'P3', 'P4', 'T6', 'O1', 'O2'],\n",
       "      dtype='object')"
      ]
     },
     "execution_count": 24,
     "metadata": {},
     "output_type": "execute_result"
    }
   ],
   "source": [
    "df.columns"
   ]
  },
  {
   "cell_type": "code",
   "execution_count": 25,
   "id": "c3d8d37a",
   "metadata": {},
   "outputs": [
    {
     "name": "stdout",
     "output_type": "stream",
     "text": [
      "<class 'pandas.core.frame.DataFrame'>\n",
      "RangeIndex: 45000 entries, 0 to 44999\n",
      "Data columns (total 16 columns):\n",
      " #   Column  Non-Null Count  Dtype  \n",
      "---  ------  --------------  -----  \n",
      " 0   Fp1     45000 non-null  float64\n",
      " 1   Fp2     45000 non-null  float64\n",
      " 2   F7      45000 non-null  float64\n",
      " 3   F3      45000 non-null  float64\n",
      " 4   F4      45000 non-null  float64\n",
      " 5   F8      45000 non-null  float64\n",
      " 6   T3      45000 non-null  float64\n",
      " 7   C3      45000 non-null  float64\n",
      " 8   C4      45000 non-null  float64\n",
      " 9   T4      45000 non-null  float64\n",
      " 10  T5      45000 non-null  float64\n",
      " 11  P3      45000 non-null  float64\n",
      " 12  P4      45000 non-null  float64\n",
      " 13  T6      45000 non-null  float64\n",
      " 14  O1      45000 non-null  float64\n",
      " 15  O2      45000 non-null  float64\n",
      "dtypes: float64(16)\n",
      "memory usage: 5.5 MB\n"
     ]
    }
   ],
   "source": [
    "df.info()"
   ]
  },
  {
   "cell_type": "code",
   "execution_count": 26,
   "id": "633225b4",
   "metadata": {},
   "outputs": [],
   "source": [
    "def channel_16_csv_files_with_target(in_dir_path, out_dir_path, target_input_file):\n",
    "    #Read the target_input_file\n",
    "    target_df = pd.read_csv(target_input_file)\n",
    "    \n",
    "    #Input file name list\n",
    "    ch_16_file_list = sorted(os.listdir(in_dir_path))\n",
    "    \n",
    "    # Make the output dir. if not exist\n",
    "    create_dir(out_dir_path)\n",
    "    \n",
    "    for i in range(len(ch_16_file_list)):\n",
    "        # File index num.\n",
    "        f_name = ch_16_file_list[i]\n",
    "        f_idx = f_name[8:]\n",
    "        f_idx = f_idx[:-4]\n",
    "        f_id = int(f_idx)\n",
    "        \n",
    "        ch_16_csv_f_path_with_target = out_dir_path + '/' + ch_16_file_list[i]\n",
    "        df = pd.read_csv(in_dir_path + '/' + ch_16_file_list[i])\n",
    "        \n",
    "        #Target row\n",
    "        row = target_df.loc[target_df['id'] == f_id]\n",
    "        target = row['label'].tolist()[0]\n",
    "        \n",
    "        if target == 0:\n",
    "            target_name = 'low'\n",
    "        else:\n",
    "            target_name = 'high'\n",
    "            \n",
    "        num_rows = df.shape[0]\n",
    "        \n",
    "        target_name_list = [target_name] * num_rows\n",
    "        target_list = [target] * num_rows\n",
    "        \n",
    "        df['label_names'] = target_name_list\n",
    "        df['lablel'] = target_list\n",
    "        \n",
    "        df.to_csv(ch_16_csv_f_path_with_target)"
   ]
  },
  {
   "cell_type": "code",
   "execution_count": null,
   "id": "d10266b2",
   "metadata": {},
   "outputs": [],
   "source": [
    "# in_dir_path = working_dir_path + \"/ch_16_csv\"\n",
    "# out_dir_path = working_dir_path + \"/ch_16_csv_with_target\"\n",
    "# target_input_file = \"./targets/PSS10-Sheet1.csv\"\n",
    "# channel_16_csv_files_with_target(in_dir_path, out_dir_path, target_input_file)"
   ]
  },
  {
   "cell_type": "code",
   "execution_count": null,
   "id": "f23cbde9",
   "metadata": {},
   "outputs": [],
   "source": [
    "# Convert one ch_16 CSV file into PSD\n",
    "# df = pd.read_csv(\"../ch_16_csv/conv_exp02.csv\")\n",
    "# df.head()\n"
   ]
  },
  {
   "cell_type": "code",
   "execution_count": null,
   "id": "99976f74",
   "metadata": {},
   "outputs": [],
   "source": [
    "# X = df[['Fp1', 'Fp2', 'F7', 'F3', 'F4', 'F8', 'T3', 'C3', 'C4', 'T4', 'T5',\n",
    "#        'P3', 'P4', 'T6', 'O1', 'O2']]\n",
    "# X.shape"
   ]
  },
  {
   "cell_type": "code",
   "execution_count": null,
   "id": "790288a8",
   "metadata": {},
   "outputs": [],
   "source": [
    "# X_transp = X.T\n",
    "# X_transp.shape"
   ]
  },
  {
   "cell_type": "code",
   "execution_count": null,
   "id": "601226f5",
   "metadata": {},
   "outputs": [],
   "source": [
    "# X_transp = X_transp.to_numpy()\n",
    "# X_transp.shape, type(X_transp)"
   ]
  },
  {
   "cell_type": "code",
   "execution_count": null,
   "id": "68cb769b",
   "metadata": {},
   "outputs": [],
   "source": [
    "# X_transp = X_transp.reshape(1,16,-1)\n",
    "# X_transp.shape"
   ]
  },
  {
   "cell_type": "code",
   "execution_count": null,
   "id": "235bfb85",
   "metadata": {},
   "outputs": [],
   "source": [
    "# X = X.to_numpy()\n",
    "# X = X.reshape(45000,16,-1)"
   ]
  },
  {
   "cell_type": "code",
   "execution_count": null,
   "id": "2da8a8ba",
   "metadata": {},
   "outputs": [],
   "source": [
    "#n_epochs, n_channels, n_times"
   ]
  },
  {
   "cell_type": "code",
   "execution_count": null,
   "id": "ed62e94b",
   "metadata": {},
   "outputs": [],
   "source": [
    "# bands = [(4,8), (8,12), (12,30), (30,45)]\n",
    "# params = dict({\n",
    "#     'pow_freq_bands__log':True,\n",
    "#     'pow_freq_bands__normalize':False,\n",
    "#     'pow_freq_bands__freq_bands':bands,\n",
    "# })\n",
    "# fe = FeatureExtractor(sfreq=250, selected_funcs=['pow_freq_bands'],params=params)\n",
    "# X = fe.fit_transform(X=X_transp[:,:16,:])"
   ]
  }
 ],
 "metadata": {
  "kernelspec": {
   "display_name": "Python 3 (ipykernel)",
   "language": "python",
   "name": "python3"
  },
  "language_info": {
   "codemirror_mode": {
    "name": "ipython",
    "version": 3
   },
   "file_extension": ".py",
   "mimetype": "text/x-python",
   "name": "python",
   "nbconvert_exporter": "python",
   "pygments_lexer": "ipython3",
   "version": "3.9.12"
  }
 },
 "nbformat": 4,
 "nbformat_minor": 5
}
