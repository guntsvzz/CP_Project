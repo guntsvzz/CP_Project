{
 "cells": [
  {
   "cell_type": "code",
   "execution_count": 86,
   "id": "cf05a329",
   "metadata": {},
   "outputs": [],
   "source": [
    "# Imports\n",
    "import os\n",
    "import numpy as np\n",
    "import pandas as pd\n",
    "import matplotlib.pyplot as plt\n",
    "from sklearn.model_selection import train_test_split\n",
    "from sklearn.preprocessing import MinMaxScaler\n",
    "from sklearn.model_selection import GridSearchCV\n",
    "from sklearn.svm import SVC\n",
    "from sklearn.metrics import accuracy_score, classification_report\n",
    "from sklearn.model_selection import StratifiedShuffleSplit\n",
    "from sklearn.metrics import confusion_matrix, ConfusionMatrixDisplay\n",
    "%matplotlib inline"
   ]
  },
  {
   "cell_type": "code",
   "execution_count": 87,
   "id": "7c3561b1",
   "metadata": {},
   "outputs": [
    {
     "data": {
      "text/html": [
       "<div>\n",
       "<style scoped>\n",
       "    .dataframe tbody tr th:only-of-type {\n",
       "        vertical-align: middle;\n",
       "    }\n",
       "\n",
       "    .dataframe tbody tr th {\n",
       "        vertical-align: top;\n",
       "    }\n",
       "\n",
       "    .dataframe thead th {\n",
       "        text-align: right;\n",
       "    }\n",
       "</style>\n",
       "<table border=\"1\" class=\"dataframe\">\n",
       "  <thead>\n",
       "    <tr style=\"text-align: right;\">\n",
       "      <th></th>\n",
       "      <th>mean_Delta</th>\n",
       "      <th>mean_Theta</th>\n",
       "      <th>mean_Alpha</th>\n",
       "      <th>mean_Beta</th>\n",
       "      <th>mean_Gamma</th>\n",
       "      <th>mean_Slow</th>\n",
       "      <th>mean_Low_beta</th>\n",
       "      <th>Fp1_Delta</th>\n",
       "      <th>Fp1_Theta</th>\n",
       "      <th>Fp1_Alpha</th>\n",
       "      <th>...</th>\n",
       "      <th>O2_Slow</th>\n",
       "      <th>O2_Low_beta</th>\n",
       "      <th>alpha_frontal</th>\n",
       "      <th>alpha_temporal</th>\n",
       "      <th>alpha_asymmetry</th>\n",
       "      <th>beta_frontal</th>\n",
       "      <th>beta_temporal</th>\n",
       "      <th>beat_asymmetry</th>\n",
       "      <th>participant_id</th>\n",
       "      <th>label</th>\n",
       "    </tr>\n",
       "  </thead>\n",
       "  <tbody>\n",
       "    <tr>\n",
       "      <th>0</th>\n",
       "      <td>-110.329965</td>\n",
       "      <td>-121.299482</td>\n",
       "      <td>-123.725032</td>\n",
       "      <td>-131.335399</td>\n",
       "      <td>-134.971232</td>\n",
       "      <td>-123.031043</td>\n",
       "      <td>-128.526178</td>\n",
       "      <td>-106.209371</td>\n",
       "      <td>-117.231013</td>\n",
       "      <td>-122.637565</td>\n",
       "      <td>...</td>\n",
       "      <td>-122.325200</td>\n",
       "      <td>-127.567021</td>\n",
       "      <td>-0.002908</td>\n",
       "      <td>-0.000649</td>\n",
       "      <td>-0.003557</td>\n",
       "      <td>-0.002668</td>\n",
       "      <td>0.010859</td>\n",
       "      <td>0.008191</td>\n",
       "      <td>1</td>\n",
       "      <td>1</td>\n",
       "    </tr>\n",
       "    <tr>\n",
       "      <th>1</th>\n",
       "      <td>-110.383640</td>\n",
       "      <td>-121.158052</td>\n",
       "      <td>-123.636121</td>\n",
       "      <td>-130.643007</td>\n",
       "      <td>-134.449370</td>\n",
       "      <td>-123.097757</td>\n",
       "      <td>-128.670923</td>\n",
       "      <td>-107.994728</td>\n",
       "      <td>-120.509328</td>\n",
       "      <td>-120.470155</td>\n",
       "      <td>...</td>\n",
       "      <td>-123.572993</td>\n",
       "      <td>-130.006559</td>\n",
       "      <td>-0.005629</td>\n",
       "      <td>-0.008944</td>\n",
       "      <td>-0.014573</td>\n",
       "      <td>-0.001315</td>\n",
       "      <td>0.003450</td>\n",
       "      <td>0.002135</td>\n",
       "      <td>1</td>\n",
       "      <td>1</td>\n",
       "    </tr>\n",
       "    <tr>\n",
       "      <th>2</th>\n",
       "      <td>-111.593383</td>\n",
       "      <td>-120.712248</td>\n",
       "      <td>-124.276396</td>\n",
       "      <td>-130.440765</td>\n",
       "      <td>-134.357490</td>\n",
       "      <td>-123.286220</td>\n",
       "      <td>-130.602665</td>\n",
       "      <td>-110.782820</td>\n",
       "      <td>-117.801016</td>\n",
       "      <td>-121.948612</td>\n",
       "      <td>...</td>\n",
       "      <td>-123.730226</td>\n",
       "      <td>-131.785838</td>\n",
       "      <td>-0.003908</td>\n",
       "      <td>-0.004460</td>\n",
       "      <td>-0.008369</td>\n",
       "      <td>0.000354</td>\n",
       "      <td>0.002001</td>\n",
       "      <td>0.002355</td>\n",
       "      <td>1</td>\n",
       "      <td>1</td>\n",
       "    </tr>\n",
       "    <tr>\n",
       "      <th>3</th>\n",
       "      <td>-111.292704</td>\n",
       "      <td>-122.189083</td>\n",
       "      <td>-123.512155</td>\n",
       "      <td>-128.614875</td>\n",
       "      <td>-135.116331</td>\n",
       "      <td>-123.276588</td>\n",
       "      <td>-127.691734</td>\n",
       "      <td>-108.605531</td>\n",
       "      <td>-119.022817</td>\n",
       "      <td>-119.382605</td>\n",
       "      <td>...</td>\n",
       "      <td>-125.327886</td>\n",
       "      <td>-129.835990</td>\n",
       "      <td>-0.005010</td>\n",
       "      <td>0.010191</td>\n",
       "      <td>0.005181</td>\n",
       "      <td>-0.005576</td>\n",
       "      <td>0.003535</td>\n",
       "      <td>-0.002042</td>\n",
       "      <td>1</td>\n",
       "      <td>1</td>\n",
       "    </tr>\n",
       "    <tr>\n",
       "      <th>4</th>\n",
       "      <td>-113.361314</td>\n",
       "      <td>-119.989890</td>\n",
       "      <td>-123.255042</td>\n",
       "      <td>-130.600926</td>\n",
       "      <td>-135.144714</td>\n",
       "      <td>-122.298936</td>\n",
       "      <td>-129.782153</td>\n",
       "      <td>-109.577307</td>\n",
       "      <td>-117.077183</td>\n",
       "      <td>-119.433042</td>\n",
       "      <td>...</td>\n",
       "      <td>-122.141809</td>\n",
       "      <td>-131.338841</td>\n",
       "      <td>0.001069</td>\n",
       "      <td>-0.002919</td>\n",
       "      <td>-0.001850</td>\n",
       "      <td>-0.007245</td>\n",
       "      <td>0.008795</td>\n",
       "      <td>0.001550</td>\n",
       "      <td>1</td>\n",
       "      <td>1</td>\n",
       "    </tr>\n",
       "  </tbody>\n",
       "</table>\n",
       "<p>5 rows × 127 columns</p>\n",
       "</div>"
      ],
      "text/plain": [
       "   mean_Delta  mean_Theta  mean_Alpha   mean_Beta  mean_Gamma   mean_Slow  \\\n",
       "0 -110.329965 -121.299482 -123.725032 -131.335399 -134.971232 -123.031043   \n",
       "1 -110.383640 -121.158052 -123.636121 -130.643007 -134.449370 -123.097757   \n",
       "2 -111.593383 -120.712248 -124.276396 -130.440765 -134.357490 -123.286220   \n",
       "3 -111.292704 -122.189083 -123.512155 -128.614875 -135.116331 -123.276588   \n",
       "4 -113.361314 -119.989890 -123.255042 -130.600926 -135.144714 -122.298936   \n",
       "\n",
       "   mean_Low_beta   Fp1_Delta   Fp1_Theta   Fp1_Alpha  ...     O2_Slow  \\\n",
       "0    -128.526178 -106.209371 -117.231013 -122.637565  ... -122.325200   \n",
       "1    -128.670923 -107.994728 -120.509328 -120.470155  ... -123.572993   \n",
       "2    -130.602665 -110.782820 -117.801016 -121.948612  ... -123.730226   \n",
       "3    -127.691734 -108.605531 -119.022817 -119.382605  ... -125.327886   \n",
       "4    -129.782153 -109.577307 -117.077183 -119.433042  ... -122.141809   \n",
       "\n",
       "   O2_Low_beta  alpha_frontal  alpha_temporal  alpha_asymmetry  beta_frontal  \\\n",
       "0  -127.567021      -0.002908       -0.000649        -0.003557     -0.002668   \n",
       "1  -130.006559      -0.005629       -0.008944        -0.014573     -0.001315   \n",
       "2  -131.785838      -0.003908       -0.004460        -0.008369      0.000354   \n",
       "3  -129.835990      -0.005010        0.010191         0.005181     -0.005576   \n",
       "4  -131.338841       0.001069       -0.002919        -0.001850     -0.007245   \n",
       "\n",
       "   beta_temporal  beat_asymmetry  participant_id  label  \n",
       "0       0.010859        0.008191               1      1  \n",
       "1       0.003450        0.002135               1      1  \n",
       "2       0.002001        0.002355               1      1  \n",
       "3       0.003535       -0.002042               1      1  \n",
       "4       0.008795        0.001550               1      1  \n",
       "\n",
       "[5 rows x 127 columns]"
      ]
     },
     "execution_count": 87,
     "metadata": {},
     "output_type": "execute_result"
    }
   ],
   "source": [
    "# Load CSV\n",
    "file_path = '../data/psd_features_csv/all.csv'\n",
    "df = pd.read_csv(file_path)\n",
    "df.head()"
   ]
  },
  {
   "cell_type": "code",
   "execution_count": 88,
   "id": "ceccc221",
   "metadata": {},
   "outputs": [
    {
     "data": {
      "text/plain": [
       "0    240\n",
       "1    168\n",
       "Name: label, dtype: int64"
      ]
     },
     "execution_count": 88,
     "metadata": {},
     "output_type": "execute_result"
    }
   ],
   "source": [
    "# Check for imbalance\n",
    "df['label'].value_counts()"
   ]
  },
  {
   "cell_type": "code",
   "execution_count": 89,
   "id": "6ec5e796",
   "metadata": {},
   "outputs": [
    {
     "data": {
      "text/plain": [
       "(168, 127)"
      ]
     },
     "execution_count": 89,
     "metadata": {},
     "output_type": "execute_result"
    }
   ],
   "source": [
    "# Select equal number of samples from each label\n",
    "label_1 = df.loc[df['label'] == 1]\n",
    "label_1.shape"
   ]
  },
  {
   "cell_type": "code",
   "execution_count": 90,
   "id": "34eb5baf",
   "metadata": {},
   "outputs": [
    {
     "data": {
      "text/plain": [
       "(168, 127)"
      ]
     },
     "execution_count": 90,
     "metadata": {},
     "output_type": "execute_result"
    }
   ],
   "source": [
    "label_0 = df.loc[df['label'] == 0].sample(n=label_1.shape[0], random_state=999)\n",
    "label_0.shape"
   ]
  },
  {
   "cell_type": "code",
   "execution_count": 91,
   "id": "124a9d01",
   "metadata": {},
   "outputs": [
    {
     "data": {
      "text/plain": [
       "1    168\n",
       "0    168\n",
       "Name: label, dtype: int64"
      ]
     },
     "execution_count": 91,
     "metadata": {},
     "output_type": "execute_result"
    }
   ],
   "source": [
    "new_df = pd.concat([label_1, label_0])\n",
    "new_df['label'].value_counts()"
   ]
  },
  {
   "cell_type": "code",
   "execution_count": 92,
   "id": "2ab86826",
   "metadata": {},
   "outputs": [],
   "source": [
    "# Feature selection/extraction\n",
    "X = new_df[['mean_Delta', 'mean_Theta', 'mean_Alpha', 'mean_Beta', 'mean_Gamma', 'alpha_frontal', 'alpha_temporal', 'beta_frontal', 'beta_temporal']]\n",
    "y = new_df[['label']]"
   ]
  },
  {
   "cell_type": "code",
   "execution_count": 93,
   "id": "78183ac3",
   "metadata": {},
   "outputs": [
    {
     "data": {
      "text/plain": [
       "((268, 9), (68, 9), (268, 1), (68, 1))"
      ]
     },
     "execution_count": 93,
     "metadata": {},
     "output_type": "execute_result"
    }
   ],
   "source": [
    "# Train-test split\n",
    "\n",
    "X_train, X_test, y_train, y_test = train_test_split(\n",
    "    X, y, test_size = 0.2, random_state = 999\n",
    ")\n",
    "X_train.shape, X_test.shape, y_train.shape, y_test.shape"
   ]
  },
  {
   "cell_type": "code",
   "execution_count": 94,
   "id": "8d8a82e5",
   "metadata": {},
   "outputs": [
    {
     "data": {
      "text/plain": [
       "((268, 9), (68, 9), (268,), (68,))"
      ]
     },
     "execution_count": 94,
     "metadata": {},
     "output_type": "execute_result"
    }
   ],
   "source": [
    "# Convert to numpy\n",
    "X_train = X_train.to_numpy()\n",
    "X_test = X_test.to_numpy()\n",
    "y_train = y_train.to_numpy()\n",
    "y_train = y_train.reshape(-1)\n",
    "y_test = y_test.to_numpy()\n",
    "y_test = y_test.reshape(-1)\n",
    "X_train.shape, X_test.shape, y_train.shape, y_test.shape"
   ]
  },
  {
   "cell_type": "code",
   "execution_count": 95,
   "id": "88aacd41",
   "metadata": {},
   "outputs": [
    {
     "data": {
      "text/plain": [
       "array([-1.08456727e+02, -1.16925839e+02, -1.18330785e+02, -1.21740811e+02,\n",
       "       -1.21704059e+02,  1.97421536e-02,  8.61824271e-03, -6.85663652e-04,\n",
       "        2.21666536e-03])"
      ]
     },
     "execution_count": 95,
     "metadata": {},
     "output_type": "execute_result"
    }
   ],
   "source": [
    "X_train[1,:]"
   ]
  },
  {
   "cell_type": "code",
   "execution_count": 96,
   "id": "7e1f7c62",
   "metadata": {},
   "outputs": [
    {
     "name": "stdout",
     "output_type": "stream",
     "text": [
      "(268, 9) (68, 9)\n"
     ]
    }
   ],
   "source": [
    "# Scaling X features\n",
    "# Note each feature is scaled independently\n",
    "\n",
    "X_train_scaled = np.zeros_like(X_train)\n",
    "X_test_scaled = np.zeros_like(X_test)\n",
    "print(X_train_scaled.shape, X_test_scaled.shape)\n",
    "\n",
    "scalers = {}\n",
    "for i in range(X_train.shape[1]):\n",
    "    scalers[i] = MinMaxScaler(feature_range=(-1, 1))\n",
    "    X_minmax = scalers[i].fit_transform(X_train[:,i].reshape(-1, 1))\n",
    "    X_train_scaled[:,i] = X_minmax[:,0]\n",
    "\n",
    "# for i in range(X_val.shape[1]):\n",
    "#     X_val[:, i, :]   = scalers[i].transform(X_val[:, i, :])     \n",
    "    \n",
    "for i in range(X_test.shape[1]):\n",
    "    X_test_minmax = scalers[i].transform(X_test[:,i].reshape(-1, 1))\n",
    "    X_test_scaled[:,i] = X_test_minmax[:,0]"
   ]
  },
  {
   "cell_type": "code",
   "execution_count": 97,
   "id": "4c391776",
   "metadata": {},
   "outputs": [
    {
     "data": {
      "text/plain": [
       "(array([-1.08456727e+02, -1.16925839e+02, -1.18330785e+02, -1.21740811e+02,\n",
       "        -1.21704059e+02,  1.97421536e-02,  8.61824271e-03, -6.85663652e-04,\n",
       "         2.21666536e-03]),\n",
       " array([-1.05584829e+02, -1.11148734e+02, -1.11882610e+02, -1.13157015e+02,\n",
       "        -1.15305458e+02, -2.48964453e-03,  2.29470837e-04, -2.55549932e-03,\n",
       "         6.36609111e-04]))"
      ]
     },
     "execution_count": 97,
     "metadata": {},
     "output_type": "execute_result"
    }
   ],
   "source": [
    "X_train[1,:], X_test[1,:]"
   ]
  },
  {
   "cell_type": "code",
   "execution_count": 98,
   "id": "1ab5fe77",
   "metadata": {},
   "outputs": [
    {
     "data": {
      "text/plain": [
       "(array([-0.45958387, -0.51645435, -0.29969792, -0.33463017, -0.24182706,\n",
       "        -0.24740442,  0.80143595, -0.47593974,  0.78066643]),\n",
       " array([-0.14314143,  0.02390085,  0.29069923,  0.25750161,  0.1140466 ,\n",
       "        -0.54291136,  0.75005363, -0.51737282,  0.77187536]))"
      ]
     },
     "execution_count": 98,
     "metadata": {},
     "output_type": "execute_result"
    }
   ],
   "source": [
    "X_train_scaled[1,:], X_test_scaled[1,:]"
   ]
  },
  {
   "cell_type": "code",
   "execution_count": 99,
   "id": "e2ee627e",
   "metadata": {},
   "outputs": [
    {
     "name": "stderr",
     "output_type": "stream",
     "text": [
      "/home/anjana/anaconda3/lib/python3.9/site-packages/sklearn/svm/_base.py:284: ConvergenceWarning: Solver terminated early (max_iter=10000).  Consider pre-processing your data with StandardScaler or MinMaxScaler.\n",
      "  warnings.warn(\n",
      "/home/anjana/anaconda3/lib/python3.9/site-packages/sklearn/svm/_base.py:284: ConvergenceWarning: Solver terminated early (max_iter=10000).  Consider pre-processing your data with StandardScaler or MinMaxScaler.\n",
      "  warnings.warn(\n",
      "/home/anjana/anaconda3/lib/python3.9/site-packages/sklearn/svm/_base.py:284: ConvergenceWarning: Solver terminated early (max_iter=10000).  Consider pre-processing your data with StandardScaler or MinMaxScaler.\n",
      "  warnings.warn(\n",
      "/home/anjana/anaconda3/lib/python3.9/site-packages/sklearn/svm/_base.py:284: ConvergenceWarning: Solver terminated early (max_iter=10000).  Consider pre-processing your data with StandardScaler or MinMaxScaler.\n",
      "  warnings.warn(\n",
      "/home/anjana/anaconda3/lib/python3.9/site-packages/sklearn/svm/_base.py:284: ConvergenceWarning: Solver terminated early (max_iter=10000).  Consider pre-processing your data with StandardScaler or MinMaxScaler.\n",
      "  warnings.warn(\n",
      "/home/anjana/anaconda3/lib/python3.9/site-packages/sklearn/svm/_base.py:284: ConvergenceWarning: Solver terminated early (max_iter=10000).  Consider pre-processing your data with StandardScaler or MinMaxScaler.\n",
      "  warnings.warn(\n",
      "/home/anjana/anaconda3/lib/python3.9/site-packages/sklearn/svm/_base.py:284: ConvergenceWarning: Solver terminated early (max_iter=10000).  Consider pre-processing your data with StandardScaler or MinMaxScaler.\n",
      "  warnings.warn(\n",
      "/home/anjana/anaconda3/lib/python3.9/site-packages/sklearn/svm/_base.py:284: ConvergenceWarning: Solver terminated early (max_iter=10000).  Consider pre-processing your data with StandardScaler or MinMaxScaler.\n",
      "  warnings.warn(\n",
      "/home/anjana/anaconda3/lib/python3.9/site-packages/sklearn/svm/_base.py:284: ConvergenceWarning: Solver terminated early (max_iter=10000).  Consider pre-processing your data with StandardScaler or MinMaxScaler.\n",
      "  warnings.warn(\n",
      "/home/anjana/anaconda3/lib/python3.9/site-packages/sklearn/svm/_base.py:284: ConvergenceWarning: Solver terminated early (max_iter=10000).  Consider pre-processing your data with StandardScaler or MinMaxScaler.\n",
      "  warnings.warn(\n",
      "/home/anjana/anaconda3/lib/python3.9/site-packages/sklearn/svm/_base.py:284: ConvergenceWarning: Solver terminated early (max_iter=10000).  Consider pre-processing your data with StandardScaler or MinMaxScaler.\n",
      "  warnings.warn(\n",
      "/home/anjana/anaconda3/lib/python3.9/site-packages/sklearn/svm/_base.py:284: ConvergenceWarning: Solver terminated early (max_iter=10000).  Consider pre-processing your data with StandardScaler or MinMaxScaler.\n",
      "  warnings.warn(\n",
      "/home/anjana/anaconda3/lib/python3.9/site-packages/sklearn/svm/_base.py:284: ConvergenceWarning: Solver terminated early (max_iter=10000).  Consider pre-processing your data with StandardScaler or MinMaxScaler.\n",
      "  warnings.warn(\n",
      "/home/anjana/anaconda3/lib/python3.9/site-packages/sklearn/svm/_base.py:284: ConvergenceWarning: Solver terminated early (max_iter=10000).  Consider pre-processing your data with StandardScaler or MinMaxScaler.\n",
      "  warnings.warn(\n",
      "/home/anjana/anaconda3/lib/python3.9/site-packages/sklearn/svm/_base.py:284: ConvergenceWarning: Solver terminated early (max_iter=10000).  Consider pre-processing your data with StandardScaler or MinMaxScaler.\n",
      "  warnings.warn(\n",
      "/home/anjana/anaconda3/lib/python3.9/site-packages/sklearn/svm/_base.py:284: ConvergenceWarning: Solver terminated early (max_iter=10000).  Consider pre-processing your data with StandardScaler or MinMaxScaler.\n",
      "  warnings.warn(\n",
      "/home/anjana/anaconda3/lib/python3.9/site-packages/sklearn/svm/_base.py:284: ConvergenceWarning: Solver terminated early (max_iter=10000).  Consider pre-processing your data with StandardScaler or MinMaxScaler.\n",
      "  warnings.warn(\n",
      "/home/anjana/anaconda3/lib/python3.9/site-packages/sklearn/svm/_base.py:284: ConvergenceWarning: Solver terminated early (max_iter=10000).  Consider pre-processing your data with StandardScaler or MinMaxScaler.\n",
      "  warnings.warn(\n",
      "/home/anjana/anaconda3/lib/python3.9/site-packages/sklearn/svm/_base.py:284: ConvergenceWarning: Solver terminated early (max_iter=10000).  Consider pre-processing your data with StandardScaler or MinMaxScaler.\n",
      "  warnings.warn(\n",
      "/home/anjana/anaconda3/lib/python3.9/site-packages/sklearn/svm/_base.py:284: ConvergenceWarning: Solver terminated early (max_iter=10000).  Consider pre-processing your data with StandardScaler or MinMaxScaler.\n",
      "  warnings.warn(\n",
      "/home/anjana/anaconda3/lib/python3.9/site-packages/sklearn/svm/_base.py:284: ConvergenceWarning: Solver terminated early (max_iter=10000).  Consider pre-processing your data with StandardScaler or MinMaxScaler.\n",
      "  warnings.warn(\n",
      "/home/anjana/anaconda3/lib/python3.9/site-packages/sklearn/svm/_base.py:284: ConvergenceWarning: Solver terminated early (max_iter=10000).  Consider pre-processing your data with StandardScaler or MinMaxScaler.\n",
      "  warnings.warn(\n",
      "/home/anjana/anaconda3/lib/python3.9/site-packages/sklearn/svm/_base.py:284: ConvergenceWarning: Solver terminated early (max_iter=10000).  Consider pre-processing your data with StandardScaler or MinMaxScaler.\n",
      "  warnings.warn(\n",
      "/home/anjana/anaconda3/lib/python3.9/site-packages/sklearn/svm/_base.py:284: ConvergenceWarning: Solver terminated early (max_iter=10000).  Consider pre-processing your data with StandardScaler or MinMaxScaler.\n",
      "  warnings.warn(\n",
      "/home/anjana/anaconda3/lib/python3.9/site-packages/sklearn/svm/_base.py:284: ConvergenceWarning: Solver terminated early (max_iter=10000).  Consider pre-processing your data with StandardScaler or MinMaxScaler.\n",
      "  warnings.warn(\n",
      "/home/anjana/anaconda3/lib/python3.9/site-packages/sklearn/svm/_base.py:284: ConvergenceWarning: Solver terminated early (max_iter=10000).  Consider pre-processing your data with StandardScaler or MinMaxScaler.\n",
      "  warnings.warn(\n",
      "/home/anjana/anaconda3/lib/python3.9/site-packages/sklearn/svm/_base.py:284: ConvergenceWarning: Solver terminated early (max_iter=10000).  Consider pre-processing your data with StandardScaler or MinMaxScaler.\n",
      "  warnings.warn(\n",
      "/home/anjana/anaconda3/lib/python3.9/site-packages/sklearn/svm/_base.py:284: ConvergenceWarning: Solver terminated early (max_iter=10000).  Consider pre-processing your data with StandardScaler or MinMaxScaler.\n",
      "  warnings.warn(\n",
      "/home/anjana/anaconda3/lib/python3.9/site-packages/sklearn/svm/_base.py:284: ConvergenceWarning: Solver terminated early (max_iter=10000).  Consider pre-processing your data with StandardScaler or MinMaxScaler.\n",
      "  warnings.warn(\n",
      "/home/anjana/anaconda3/lib/python3.9/site-packages/sklearn/svm/_base.py:284: ConvergenceWarning: Solver terminated early (max_iter=10000).  Consider pre-processing your data with StandardScaler or MinMaxScaler.\n",
      "  warnings.warn(\n",
      "/home/anjana/anaconda3/lib/python3.9/site-packages/sklearn/svm/_base.py:284: ConvergenceWarning: Solver terminated early (max_iter=10000).  Consider pre-processing your data with StandardScaler or MinMaxScaler.\n",
      "  warnings.warn(\n",
      "/home/anjana/anaconda3/lib/python3.9/site-packages/sklearn/svm/_base.py:284: ConvergenceWarning: Solver terminated early (max_iter=10000).  Consider pre-processing your data with StandardScaler or MinMaxScaler.\n",
      "  warnings.warn(\n",
      "/home/anjana/anaconda3/lib/python3.9/site-packages/sklearn/svm/_base.py:284: ConvergenceWarning: Solver terminated early (max_iter=10000).  Consider pre-processing your data with StandardScaler or MinMaxScaler.\n",
      "  warnings.warn(\n",
      "/home/anjana/anaconda3/lib/python3.9/site-packages/sklearn/svm/_base.py:284: ConvergenceWarning: Solver terminated early (max_iter=10000).  Consider pre-processing your data with StandardScaler or MinMaxScaler.\n",
      "  warnings.warn(\n",
      "/home/anjana/anaconda3/lib/python3.9/site-packages/sklearn/svm/_base.py:284: ConvergenceWarning: Solver terminated early (max_iter=10000).  Consider pre-processing your data with StandardScaler or MinMaxScaler.\n",
      "  warnings.warn(\n",
      "/home/anjana/anaconda3/lib/python3.9/site-packages/sklearn/svm/_base.py:284: ConvergenceWarning: Solver terminated early (max_iter=10000).  Consider pre-processing your data with StandardScaler or MinMaxScaler.\n",
      "  warnings.warn(\n"
     ]
    },
    {
     "name": "stderr",
     "output_type": "stream",
     "text": [
      "/home/anjana/anaconda3/lib/python3.9/site-packages/sklearn/svm/_base.py:284: ConvergenceWarning: Solver terminated early (max_iter=10000).  Consider pre-processing your data with StandardScaler or MinMaxScaler.\n",
      "  warnings.warn(\n",
      "/home/anjana/anaconda3/lib/python3.9/site-packages/sklearn/svm/_base.py:284: ConvergenceWarning: Solver terminated early (max_iter=10000).  Consider pre-processing your data with StandardScaler or MinMaxScaler.\n",
      "  warnings.warn(\n",
      "/home/anjana/anaconda3/lib/python3.9/site-packages/sklearn/svm/_base.py:284: ConvergenceWarning: Solver terminated early (max_iter=10000).  Consider pre-processing your data with StandardScaler or MinMaxScaler.\n",
      "  warnings.warn(\n",
      "/home/anjana/anaconda3/lib/python3.9/site-packages/sklearn/svm/_base.py:284: ConvergenceWarning: Solver terminated early (max_iter=10000).  Consider pre-processing your data with StandardScaler or MinMaxScaler.\n",
      "  warnings.warn(\n",
      "/home/anjana/anaconda3/lib/python3.9/site-packages/sklearn/svm/_base.py:284: ConvergenceWarning: Solver terminated early (max_iter=10000).  Consider pre-processing your data with StandardScaler or MinMaxScaler.\n",
      "  warnings.warn(\n",
      "/home/anjana/anaconda3/lib/python3.9/site-packages/sklearn/svm/_base.py:284: ConvergenceWarning: Solver terminated early (max_iter=10000).  Consider pre-processing your data with StandardScaler or MinMaxScaler.\n",
      "  warnings.warn(\n",
      "/home/anjana/anaconda3/lib/python3.9/site-packages/sklearn/svm/_base.py:284: ConvergenceWarning: Solver terminated early (max_iter=10000).  Consider pre-processing your data with StandardScaler or MinMaxScaler.\n",
      "  warnings.warn(\n",
      "/home/anjana/anaconda3/lib/python3.9/site-packages/sklearn/svm/_base.py:284: ConvergenceWarning: Solver terminated early (max_iter=10000).  Consider pre-processing your data with StandardScaler or MinMaxScaler.\n",
      "  warnings.warn(\n",
      "/home/anjana/anaconda3/lib/python3.9/site-packages/sklearn/svm/_base.py:284: ConvergenceWarning: Solver terminated early (max_iter=10000).  Consider pre-processing your data with StandardScaler or MinMaxScaler.\n",
      "  warnings.warn(\n",
      "/home/anjana/anaconda3/lib/python3.9/site-packages/sklearn/svm/_base.py:284: ConvergenceWarning: Solver terminated early (max_iter=10000).  Consider pre-processing your data with StandardScaler or MinMaxScaler.\n",
      "  warnings.warn(\n",
      "/home/anjana/anaconda3/lib/python3.9/site-packages/sklearn/svm/_base.py:284: ConvergenceWarning: Solver terminated early (max_iter=10000).  Consider pre-processing your data with StandardScaler or MinMaxScaler.\n",
      "  warnings.warn(\n",
      "/home/anjana/anaconda3/lib/python3.9/site-packages/sklearn/svm/_base.py:284: ConvergenceWarning: Solver terminated early (max_iter=10000).  Consider pre-processing your data with StandardScaler or MinMaxScaler.\n",
      "  warnings.warn(\n",
      "/home/anjana/anaconda3/lib/python3.9/site-packages/sklearn/svm/_base.py:284: ConvergenceWarning: Solver terminated early (max_iter=10000).  Consider pre-processing your data with StandardScaler or MinMaxScaler.\n",
      "  warnings.warn(\n",
      "/home/anjana/anaconda3/lib/python3.9/site-packages/sklearn/svm/_base.py:284: ConvergenceWarning: Solver terminated early (max_iter=10000).  Consider pre-processing your data with StandardScaler or MinMaxScaler.\n",
      "  warnings.warn(\n",
      "/home/anjana/anaconda3/lib/python3.9/site-packages/sklearn/svm/_base.py:284: ConvergenceWarning: Solver terminated early (max_iter=10000).  Consider pre-processing your data with StandardScaler or MinMaxScaler.\n",
      "  warnings.warn(\n",
      "/home/anjana/anaconda3/lib/python3.9/site-packages/sklearn/svm/_base.py:284: ConvergenceWarning: Solver terminated early (max_iter=10000).  Consider pre-processing your data with StandardScaler or MinMaxScaler.\n",
      "  warnings.warn(\n",
      "/home/anjana/anaconda3/lib/python3.9/site-packages/sklearn/svm/_base.py:284: ConvergenceWarning: Solver terminated early (max_iter=10000).  Consider pre-processing your data with StandardScaler or MinMaxScaler.\n",
      "  warnings.warn(\n",
      "/home/anjana/anaconda3/lib/python3.9/site-packages/sklearn/svm/_base.py:284: ConvergenceWarning: Solver terminated early (max_iter=10000).  Consider pre-processing your data with StandardScaler or MinMaxScaler.\n",
      "  warnings.warn(\n",
      "/home/anjana/anaconda3/lib/python3.9/site-packages/sklearn/svm/_base.py:284: ConvergenceWarning: Solver terminated early (max_iter=10000).  Consider pre-processing your data with StandardScaler or MinMaxScaler.\n",
      "  warnings.warn(\n",
      "/home/anjana/anaconda3/lib/python3.9/site-packages/sklearn/svm/_base.py:284: ConvergenceWarning: Solver terminated early (max_iter=10000).  Consider pre-processing your data with StandardScaler or MinMaxScaler.\n",
      "  warnings.warn(\n",
      "/home/anjana/anaconda3/lib/python3.9/site-packages/sklearn/svm/_base.py:284: ConvergenceWarning: Solver terminated early (max_iter=10000).  Consider pre-processing your data with StandardScaler or MinMaxScaler.\n",
      "  warnings.warn(\n",
      "/home/anjana/anaconda3/lib/python3.9/site-packages/sklearn/svm/_base.py:284: ConvergenceWarning: Solver terminated early (max_iter=10000).  Consider pre-processing your data with StandardScaler or MinMaxScaler.\n",
      "  warnings.warn(\n"
     ]
    },
    {
     "data": {
      "text/plain": [
       "GridSearchCV(cv=StratifiedShuffleSplit(n_splits=5, random_state=999, test_size=0.2,\n",
       "            train_size=None),\n",
       "             estimator=SVC(max_iter=10000),\n",
       "             param_grid={'C': [0.1, 1, 10, 100, 1000],\n",
       "                         'gamma': [1, 0.1, 0.01, 0.001, 0.0001],\n",
       "                         'kernel': ['linear', 'poly', 'rbf', 'sigmoid']})"
      ]
     },
     "execution_count": 99,
     "metadata": {},
     "output_type": "execute_result"
    }
   ],
   "source": [
    "# Grid serach\n",
    "\n",
    "# Defining parameter range\n",
    "param_grid = {'C': [0.1, 1, 10, 100, 1000], \n",
    "              'gamma': [1, 0.1, 0.01, 0.001, 0.0001],\n",
    "              'kernel': ['linear','poly','rbf', 'sigmoid']} \n",
    "# param_grid = {'C': [0.1, 1, 10, 100, 1000], \n",
    "#               'gamma': ['scale', 'auto', 1, 0.1, 0.01, 0.001, 0.0001],\n",
    "#               'kernel': ['sigmoid']} \n",
    "\n",
    "estimator = SVC(max_iter=10000)\n",
    "cv = StratifiedShuffleSplit(n_splits=5, test_size=0.2, random_state=999)\n",
    "    \n",
    "grid = GridSearchCV(estimator, \n",
    "                    param_grid, \n",
    "                    cv=cv,\n",
    "                    refit = True, \n",
    "                    verbose = 0)\n",
    "  \n",
    "# Fitting the model for grid search\n",
    "grid.fit(X_train_scaled, y_train)"
   ]
  },
  {
   "cell_type": "code",
   "execution_count": 100,
   "id": "7fd6aa7f",
   "metadata": {},
   "outputs": [
    {
     "name": "stdout",
     "output_type": "stream",
     "text": [
      "{'C': 1, 'gamma': 1, 'kernel': 'rbf'}\n"
     ]
    }
   ],
   "source": [
    "# print best parameter after tuning\n",
    "print(grid.best_params_)"
   ]
  },
  {
   "cell_type": "code",
   "execution_count": 101,
   "id": "6acf7585",
   "metadata": {},
   "outputs": [
    {
     "name": "stdout",
     "output_type": "stream",
     "text": [
      "SVC(C=1, gamma=1, max_iter=10000)\n"
     ]
    }
   ],
   "source": [
    "print(grid.best_estimator_)"
   ]
  },
  {
   "cell_type": "code",
   "execution_count": 102,
   "id": "0edd0c4f",
   "metadata": {},
   "outputs": [
    {
     "data": {
      "text/plain": [
       "0.9264705882352942"
      ]
     },
     "execution_count": 102,
     "metadata": {},
     "output_type": "execute_result"
    }
   ],
   "source": [
    "yhat = grid.predict(X_test_scaled)\n",
    "accuracy_score(y_test, yhat)"
   ]
  },
  {
   "cell_type": "code",
   "execution_count": 103,
   "id": "b9c1fef6",
   "metadata": {},
   "outputs": [
    {
     "name": "stdout",
     "output_type": "stream",
     "text": [
      "              precision    recall  f1-score   support\n",
      "\n",
      "           0       0.89      0.97      0.93        34\n",
      "           1       0.97      0.88      0.92        34\n",
      "\n",
      "    accuracy                           0.93        68\n",
      "   macro avg       0.93      0.93      0.93        68\n",
      "weighted avg       0.93      0.93      0.93        68\n",
      "\n"
     ]
    }
   ],
   "source": [
    "print(classification_report(y_test, yhat))"
   ]
  },
  {
   "cell_type": "code",
   "execution_count": 104,
   "id": "ce6a8595",
   "metadata": {},
   "outputs": [
    {
     "data": {
      "text/plain": [
       "SVC(C=1, gamma=1, max_iter=10000, random_state=999)"
      ]
     },
     "execution_count": 104,
     "metadata": {},
     "output_type": "execute_result"
    }
   ],
   "source": [
    "#{'C': 1, 'gamma': 1, 'kernel': 'rbf'}\n",
    "final_svm = SVC(random_state=999, C=1, gamma=1, kernel='rbf', max_iter=10000)\n",
    "final_svm.fit(X_train_scaled, y_train)"
   ]
  },
  {
   "cell_type": "code",
   "execution_count": 105,
   "id": "2a41f349",
   "metadata": {},
   "outputs": [
    {
     "data": {
      "text/plain": [
       "0.9264705882352942"
      ]
     },
     "execution_count": 105,
     "metadata": {},
     "output_type": "execute_result"
    }
   ],
   "source": [
    "yhat = final_svm.predict(X_test_scaled)\n",
    "accuracy_score(y_test, yhat)"
   ]
  },
  {
   "cell_type": "code",
   "execution_count": 106,
   "id": "1d923c7d",
   "metadata": {},
   "outputs": [
    {
     "data": {
      "image/png": "[encoded data removed]",
      "text/plain": [
       "<Figure size 432x288 with 2 Axes>"
      ]
     },
     "metadata": {
      "needs_background": "light"
     },
     "output_type": "display_data"
    }
   ],
   "source": [
    "cm = confusion_matrix(y_test, yhat, labels=final_svm.classes_)\n",
    "disp = ConfusionMatrixDisplay(confusion_matrix=cm,\n",
    "                              display_labels=final_svm.classes_)\n",
    "disp.plot()\n",
    "\n",
    "plt.show()"
   ]
  },
  {
   "cell_type": "code",
   "execution_count": null,
   "id": "c4f0c99e",
   "metadata": {},
   "outputs": [],
   "source": []
  },
  {
   "cell_type": "code",
   "execution_count": null,
   "id": "0f467419",
   "metadata": {},
   "outputs": [],
   "source": []
  },
  {
   "cell_type": "code",
   "execution_count": null,
   "id": "5cbdb541",
   "metadata": {},
   "outputs": [],
   "source": []
  },
  {
   "cell_type": "code",
   "execution_count": null,
   "id": "db6aa67a",
   "metadata": {},
   "outputs": [],
   "source": []
  },
  {
   "cell_type": "code",
   "execution_count": null,
   "id": "3b2425a4",
   "metadata": {},
   "outputs": [],
   "source": []
  }
 ],
 "metadata": {
  "kernelspec": {
   "display_name": "Python 3 (ipykernel)",
   "language": "python",
   "name": "python3"
  },
  "language_info": {
   "codemirror_mode": {
    "name": "ipython",
    "version": 3
   },
   "file_extension": ".py",
   "mimetype": "text/x-python",
   "name": "python",
   "nbconvert_exporter": "python",
   "pygments_lexer": "ipython3",
   "version": "3.9.12"
  }
 },
 "nbformat": 4,
 "nbformat_minor": 5
}
