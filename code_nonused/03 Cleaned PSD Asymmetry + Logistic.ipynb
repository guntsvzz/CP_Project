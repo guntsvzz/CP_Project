{
 "cells": [
  {
   "cell_type": "code",
   "execution_count": 39,
   "metadata": {},
   "outputs": [
    {
     "data": {
      "text/plain": [
       "'4.0'"
      ]
     },
     "execution_count": 39,
     "metadata": {},
     "output_type": "execute_result"
    }
   ],
   "source": [
    "# Import necessary libralies\n",
    "import pickle\n",
    "import numpy as np\n",
    "import os\n",
    "from glob import glob\n",
    "import mne\n",
    "import pandas as pd\n",
    "import seaborn as sns\n",
    "pickle.format_version"
   ]
  },
  {
   "cell_type": "markdown",
   "metadata": {},
   "source": [
    "## 1.ETL"
   ]
  },
  {
   "cell_type": "code",
   "execution_count": 40,
   "metadata": {},
   "outputs": [],
   "source": [
    "import os\n",
    "# main_path = os.getcwd()\n",
    "# file_name = os.listdir(main_path + '/Clean_signal/')"
   ]
  },
  {
   "cell_type": "code",
   "execution_count": 41,
   "metadata": {},
   "outputs": [],
   "source": [
    "# Rename all the files to exp with number \n",
    "import os\n",
    "main_path = os.getcwd()\n",
    "main_path\n",
    "all_file = os.listdir(path='./Clean_signal/')\n",
    "all_file\n",
    "file_name = list()\n",
    "index_counter = 0\n",
    "for file in all_file:\n",
    "    if file[0:5] == 'Clean':\n",
    "        file_name.append(file)"
   ]
  },
  {
   "cell_type": "code",
   "execution_count": 42,
   "metadata": {},
   "outputs": [
    {
     "name": "stdout",
     "output_type": "stream",
     "text": [
      "['Clean_exp01.csv', 'Clean_exp02.csv', 'Clean_exp03.csv', 'Clean_exp04.csv', 'Clean_exp06.csv', 'Clean_exp07.csv', 'Clean_exp08.csv', 'Clean_exp09.csv', 'Clean_exp10.csv', 'Clean_exp11.csv', 'Clean_exp12.csv', 'Clean_exp13.csv', 'Clean_exp14.csv', 'Clean_exp15.csv', 'Clean_exp16.csv']\n"
     ]
    }
   ],
   "source": [
    "# Check filename\n",
    "print(file_name)"
   ]
  },
  {
   "cell_type": "code",
   "execution_count": 43,
   "metadata": {},
   "outputs": [],
   "source": [
    "file_name = ['clean_exp01.csv',\n",
    " 'clean_exp02.csv',\n",
    " 'clean_exp03.csv',\n",
    " 'clean_exp04.csv',\n",
    " 'clean_exp06.csv',\n",
    " 'clean_exp07.csv',\n",
    " 'clean_exp08.csv',\n",
    " 'clean_exp09.csv',\n",
    " 'clean_exp10.csv',\n",
    " 'clean_exp11.csv',\n",
    " 'clean_exp12.csv',\n",
    " 'clean_exp13.csv',\n",
    " 'clean_exp14.csv',\n",
    " 'clean_exp15.csv',\n",
    " 'clean_exp16.csv']"
   ]
  },
  {
   "cell_type": "code",
   "execution_count": 44,
   "metadata": {},
   "outputs": [],
   "source": [
    "all_file_path = main_path + '/Clean_signal/'\n",
    "X_list = list()\n",
    "for file in file_name:\n",
    "    file_path = all_file_path + file\n",
    "    df = pd.read_csv(file_path, index_col=None)\n",
    "    df = df.loc[:, ~df.columns.str.contains('^Unnamed')]\n",
    "    X_list.append(df)    "
   ]
  },
  {
   "cell_type": "code",
   "execution_count": 45,
   "metadata": {},
   "outputs": [
    {
     "data": {
      "text/html": [
       "<div>\n",
       "<style scoped>\n",
       "    .dataframe tbody tr th:only-of-type {\n",
       "        vertical-align: middle;\n",
       "    }\n",
       "\n",
       "    .dataframe tbody tr th {\n",
       "        vertical-align: top;\n",
       "    }\n",
       "\n",
       "    .dataframe thead th {\n",
       "        text-align: right;\n",
       "    }\n",
       "</style>\n",
       "<table border=\"1\" class=\"dataframe\">\n",
       "  <thead>\n",
       "    <tr style=\"text-align: right;\">\n",
       "      <th></th>\n",
       "      <th>Fp1</th>\n",
       "      <th>Fp2</th>\n",
       "      <th>F7</th>\n",
       "      <th>F3</th>\n",
       "      <th>F4</th>\n",
       "      <th>F8</th>\n",
       "      <th>T3</th>\n",
       "      <th>C3</th>\n",
       "      <th>C4</th>\n",
       "      <th>T4</th>\n",
       "      <th>T5</th>\n",
       "      <th>P3</th>\n",
       "      <th>P4</th>\n",
       "      <th>T6</th>\n",
       "      <th>O1</th>\n",
       "      <th>O2</th>\n",
       "    </tr>\n",
       "  </thead>\n",
       "  <tbody>\n",
       "    <tr>\n",
       "      <th>0</th>\n",
       "      <td>-1.632472e-12</td>\n",
       "      <td>-1.502798e-12</td>\n",
       "      <td>3.304024e-13</td>\n",
       "      <td>-7.602807e-13</td>\n",
       "      <td>2.380318e-12</td>\n",
       "      <td>-2.753353e-14</td>\n",
       "      <td>1.847411e-13</td>\n",
       "      <td>-3.113065e-12</td>\n",
       "      <td>-3.011813e-12</td>\n",
       "      <td>6.645795e-12</td>\n",
       "      <td>5.559997e-13</td>\n",
       "      <td>-5.284662e-14</td>\n",
       "      <td>3.479772e-12</td>\n",
       "      <td>-4.458656e-12</td>\n",
       "      <td>-3.668177e-13</td>\n",
       "      <td>2.806644e-13</td>\n",
       "    </tr>\n",
       "    <tr>\n",
       "      <th>1</th>\n",
       "      <td>4.240123e+00</td>\n",
       "      <td>-1.098127e+03</td>\n",
       "      <td>9.504785e+00</td>\n",
       "      <td>-7.301414e+02</td>\n",
       "      <td>-9.864431e+02</td>\n",
       "      <td>5.528234e+00</td>\n",
       "      <td>4.397685e+00</td>\n",
       "      <td>-3.200624e+01</td>\n",
       "      <td>-1.489707e+01</td>\n",
       "      <td>-9.424304e+00</td>\n",
       "      <td>-1.179442e+00</td>\n",
       "      <td>-3.882617e+00</td>\n",
       "      <td>-1.544578e+02</td>\n",
       "      <td>3.472641e+02</td>\n",
       "      <td>-8.418374e+00</td>\n",
       "      <td>-7.045003e+01</td>\n",
       "    </tr>\n",
       "    <tr>\n",
       "      <th>2</th>\n",
       "      <td>4.531352e+00</td>\n",
       "      <td>-2.151353e+02</td>\n",
       "      <td>5.921683e+00</td>\n",
       "      <td>-1.464024e+02</td>\n",
       "      <td>-1.963873e+02</td>\n",
       "      <td>7.661865e+00</td>\n",
       "      <td>7.361615e+00</td>\n",
       "      <td>-4.243603e+00</td>\n",
       "      <td>-4.617989e+00</td>\n",
       "      <td>2.459634e+00</td>\n",
       "      <td>2.879465e+00</td>\n",
       "      <td>2.427743e+00</td>\n",
       "      <td>-2.532974e+01</td>\n",
       "      <td>7.922094e+01</td>\n",
       "      <td>-6.490459e+00</td>\n",
       "      <td>-1.263134e+01</td>\n",
       "    </tr>\n",
       "    <tr>\n",
       "      <th>3</th>\n",
       "      <td>3.763741e+00</td>\n",
       "      <td>-5.832528e+02</td>\n",
       "      <td>4.345541e+00</td>\n",
       "      <td>-3.864017e+02</td>\n",
       "      <td>-5.199725e+02</td>\n",
       "      <td>4.296499e+00</td>\n",
       "      <td>6.737737e+00</td>\n",
       "      <td>-1.258225e+01</td>\n",
       "      <td>-1.224808e+01</td>\n",
       "      <td>-4.653922e+00</td>\n",
       "      <td>4.127254e+00</td>\n",
       "      <td>1.146176e+00</td>\n",
       "      <td>-7.805786e+01</td>\n",
       "      <td>2.117792e+02</td>\n",
       "      <td>-7.120499e+00</td>\n",
       "      <td>-3.545076e+01</td>\n",
       "    </tr>\n",
       "    <tr>\n",
       "      <th>4</th>\n",
       "      <td>-2.243297e+00</td>\n",
       "      <td>-6.780617e+02</td>\n",
       "      <td>1.494894e+00</td>\n",
       "      <td>-4.541781e+02</td>\n",
       "      <td>-6.006397e+02</td>\n",
       "      <td>-1.012771e+00</td>\n",
       "      <td>3.279630e+00</td>\n",
       "      <td>-1.230263e+01</td>\n",
       "      <td>-1.609016e+01</td>\n",
       "      <td>-6.882220e+00</td>\n",
       "      <td>2.642719e+00</td>\n",
       "      <td>-5.242474e-01</td>\n",
       "      <td>-9.300509e+01</td>\n",
       "      <td>2.342439e+02</td>\n",
       "      <td>-7.541476e+00</td>\n",
       "      <td>-4.271908e+01</td>\n",
       "    </tr>\n",
       "  </tbody>\n",
       "</table>\n",
       "</div>"
      ],
      "text/plain": [
       "            Fp1           Fp2            F7            F3            F4  \\\n",
       "0 -1.632472e-12 -1.502798e-12  3.304024e-13 -7.602807e-13  2.380318e-12   \n",
       "1  4.240123e+00 -1.098127e+03  9.504785e+00 -7.301414e+02 -9.864431e+02   \n",
       "2  4.531352e+00 -2.151353e+02  5.921683e+00 -1.464024e+02 -1.963873e+02   \n",
       "3  3.763741e+00 -5.832528e+02  4.345541e+00 -3.864017e+02 -5.199725e+02   \n",
       "4 -2.243297e+00 -6.780617e+02  1.494894e+00 -4.541781e+02 -6.006397e+02   \n",
       "\n",
       "             F8            T3            C3            C4            T4  \\\n",
       "0 -2.753353e-14  1.847411e-13 -3.113065e-12 -3.011813e-12  6.645795e-12   \n",
       "1  5.528234e+00  4.397685e+00 -3.200624e+01 -1.489707e+01 -9.424304e+00   \n",
       "2  7.661865e+00  7.361615e+00 -4.243603e+00 -4.617989e+00  2.459634e+00   \n",
       "3  4.296499e+00  6.737737e+00 -1.258225e+01 -1.224808e+01 -4.653922e+00   \n",
       "4 -1.012771e+00  3.279630e+00 -1.230263e+01 -1.609016e+01 -6.882220e+00   \n",
       "\n",
       "             T5            P3            P4            T6            O1  \\\n",
       "0  5.559997e-13 -5.284662e-14  3.479772e-12 -4.458656e-12 -3.668177e-13   \n",
       "1 -1.179442e+00 -3.882617e+00 -1.544578e+02  3.472641e+02 -8.418374e+00   \n",
       "2  2.879465e+00  2.427743e+00 -2.532974e+01  7.922094e+01 -6.490459e+00   \n",
       "3  4.127254e+00  1.146176e+00 -7.805786e+01  2.117792e+02 -7.120499e+00   \n",
       "4  2.642719e+00 -5.242474e-01 -9.300509e+01  2.342439e+02 -7.541476e+00   \n",
       "\n",
       "             O2  \n",
       "0  2.806644e-13  \n",
       "1 -7.045003e+01  \n",
       "2 -1.263134e+01  \n",
       "3 -3.545076e+01  \n",
       "4 -4.271908e+01  "
      ]
     },
     "execution_count": 45,
     "metadata": {},
     "output_type": "execute_result"
    }
   ],
   "source": [
    "df.head()"
   ]
  },
  {
   "cell_type": "code",
   "execution_count": 46,
   "metadata": {},
   "outputs": [
    {
     "data": {
      "text/plain": [
       "(15, 45000, 16)"
      ]
     },
     "execution_count": 46,
     "metadata": {},
     "output_type": "execute_result"
    }
   ],
   "source": [
    "X = np.array(X_list)\n",
    "X.shape"
   ]
  },
  {
   "cell_type": "code",
   "execution_count": 47,
   "metadata": {},
   "outputs": [
    {
     "data": {
      "text/plain": [
       "(15, 16, 45000)"
      ]
     },
     "execution_count": 47,
     "metadata": {},
     "output_type": "execute_result"
    }
   ],
   "source": [
    "# Reshape\n",
    "X = np.transpose(X, (0, 2, 1))\n",
    "X.shape"
   ]
  },
  {
   "cell_type": "code",
   "execution_count": 48,
   "metadata": {},
   "outputs": [
    {
     "data": {
      "text/plain": [
       "(15,)"
      ]
     },
     "execution_count": 48,
     "metadata": {},
     "output_type": "execute_result"
    }
   ],
   "source": [
    "y_path = './Clean_signal/label_nooutlier.csv'\n",
    "df = pd.read_csv(y_path)\n",
    "y = np.array(df['label'])\n",
    "y[:-1].shape"
   ]
  },
  {
   "cell_type": "code",
   "execution_count": 49,
   "metadata": {},
   "outputs": [],
   "source": [
    "import torch   #general pytorch\n",
    "import torch.nn as nn  #neural network module\n",
    "import torch.nn.functional as F  #useful functions like softmax, or relu\n",
    "\n",
    "#pip install torchvision; conda install torchvision\n",
    "from torchvision import datasets, transforms  #transforms for image processing\n",
    "from torch.utils.data import DataLoader, Dataset       #dataloader for preparing batch\n",
    "\n",
    "import numpy as np\n",
    "import pandas as pd\n",
    "from sklearn.metrics import confusion_matrix, ConfusionMatrixDisplay\n",
    "import matplotlib.pyplot as plt\n",
    "\n",
    "from sklearn.model_selection import train_test_split\n",
    "from torch.utils.data import TensorDataset\n",
    "from torch.autograd import Variable"
   ]
  },
  {
   "cell_type": "code",
   "execution_count": 50,
   "metadata": {},
   "outputs": [],
   "source": [
    "# Create dataset\n",
    "tensor_X = torch.tensor(X)\n",
    "tensor_y = torch.tensor(y[:-1])\n",
    "dataset = TensorDataset(tensor_X, tensor_y)"
   ]
  },
  {
   "cell_type": "code",
   "execution_count": 51,
   "metadata": {},
   "outputs": [
    {
     "name": "stdout",
     "output_type": "stream",
     "text": [
      "torch.Size([16, 45000]) torch.Size([])\n"
     ]
    }
   ],
   "source": [
    "for x, y in dataset:\n",
    "    print(x.shape, y.shape)\n",
    "    break"
   ]
  },
  {
   "cell_type": "markdown",
   "metadata": {},
   "source": [
    "## 2. EDA - Spectral Analysis"
   ]
  },
  {
   "cell_type": "code",
   "execution_count": 52,
   "metadata": {},
   "outputs": [
    {
     "name": "stdout",
     "output_type": "stream",
     "text": [
      "Not setting metadata\n",
      "15 matching events found\n",
      "No baseline correction applied\n",
      "0 projection items activated\n",
      "------------------\n",
      "epochs._data.shape=(15, 16, 45000)\n",
      "------------------\n"
     ]
    },
    {
     "data": {
      "text/html": [
       "<table class=\"table table-hover table-striped table-sm table-responsive small\">\n",
       "    <tr>\n",
       "        <th>Number of events</th>\n",
       "        <td>15</td>\n",
       "    </tr>\n",
       "    <tr>\n",
       "        <th>Events</th>\n",
       "        \n",
       "        <td>1: 15</td>\n",
       "        \n",
       "    </tr>\n",
       "    <tr>\n",
       "        <th>Time range</th>\n",
       "        <td>0.000 – 359.992 sec</td>\n",
       "    </tr>\n",
       "    <tr>\n",
       "        <th>Baseline</th>\n",
       "        <td>off</td>\n",
       "    </tr>\n",
       "</table>"
      ],
      "text/plain": [
       "<EpochsArray |  15 events (all good), 0 - 359.992 sec, baseline off, ~82.4 MB, data loaded,\n",
       " '1': 15>"
      ]
     },
     "execution_count": 52,
     "metadata": {},
     "output_type": "execute_result"
    }
   ],
   "source": [
    "# Meta data\n",
    "ch_names = ['Fp1', 'Fp2', 'F7', 'F3', 'F4', 'F8', 'T3', 'C3', 'C4', 'T4', 'T5', 'P3', 'P4', 'T6', 'O1', 'O2']\n",
    "ch_types = ['eeg'] * len(ch_names)\n",
    "sfreq = 125\n",
    "info = mne.create_info(ch_names=ch_names, ch_types=ch_types, sfreq=sfreq)\n",
    "\n",
    "# Create epochs\n",
    "epochs = mne.EpochsArray(tensor_X, info)\n",
    "\n",
    "# Set headset mapping\n",
    "epochs.set_montage('standard_1020')\n",
    "print('------------------')\n",
    "print(f'{epochs._data.shape=}')\n",
    "print('------------------')\n",
    "epochs"
   ]
  },
  {
   "cell_type": "code",
   "execution_count": 53,
   "metadata": {},
   "outputs": [
    {
     "name": "stdout",
     "output_type": "stream",
     "text": [
      "Effective window size : 1.000 (s)\n",
      "(1, 16, 63) (63,)\n"
     ]
    }
   ],
   "source": [
    "# Compute power spectrum density\n",
    "\n",
    "epoch = epochs.__getitem__(0)\n",
    "spectrum = epoch.compute_psd(method=\"welch\", n_fft=125) #get Spectrum object from epochs\n",
    "psds, freqs = spectrum.get_data(return_freqs=True)\n",
    "print(psds.shape, freqs.shape)"
   ]
  },
  {
   "cell_type": "code",
   "execution_count": 54,
   "metadata": {},
   "outputs": [
    {
     "name": "stdout",
     "output_type": "stream",
     "text": [
      "Effective window size : 1.000 (s)\n",
      "(15, 16, 63) (63,)\n"
     ]
    }
   ],
   "source": [
    "# Add log for vissiblity\n",
    "spectrum = epochs.compute_psd(method='welch', n_fft=125)\n",
    "psds, freqs = spectrum.get_data(return_freqs=True)\n",
    "psds = 10 * np.log10(psds)\n",
    "print(psds.shape, freqs.shape)"
   ]
  },
  {
   "cell_type": "code",
   "execution_count": 55,
   "metadata": {},
   "outputs": [
    {
     "data": {
      "text/plain": [
       "(15, 63)"
      ]
     },
     "execution_count": 55,
     "metadata": {},
     "output_type": "execute_result"
    }
   ],
   "source": [
    "# 1. First step, find the mean of all channels\n",
    "psds = psds.mean(axis=1)\n",
    "psds.shape"
   ]
  },
  {
   "cell_type": "code",
   "execution_count": 56,
   "metadata": {},
   "outputs": [],
   "source": [
    "#2. Seperate to the range of bands\n",
    "# delta 0-3 Hz \n",
    "delta = psds[:, :4]\n",
    "# theta 4-7 Hz\n",
    "theta = psds[:, 4:8]\n",
    "# alpha 8-12 Hz\n",
    "alpha = psds[:, 8:13]\n",
    "# beta 13-30 Hz\n",
    "beta = psds[:, 13:31]\n",
    "# gamma 25-43 Hz\n",
    "gamma = psds[:, 25:44]\n",
    "# slow 4-13 Hz\n",
    "slow = psds[:, 4:14]\n",
    "# low beta 13-17 Hz\n",
    "low_beta = psds[:, 13:18]"
   ]
  },
  {
   "cell_type": "code",
   "execution_count": 57,
   "metadata": {},
   "outputs": [
    {
     "name": "stdout",
     "output_type": "stream",
     "text": [
      "delta shape is (15, 4)\n",
      "theta shape is (15, 4)\n",
      "alpha shape is (15, 5)\n",
      "beta shape is (15, 18)\n",
      "gamma shape is (15, 19)\n",
      "slow shape is (15, 10)\n",
      "low_beta shape is (15, 5)\n"
     ]
    }
   ],
   "source": [
    "print(f'delta shape is {delta.shape}')\n",
    "print(f'theta shape is {theta.shape}')\n",
    "print(f'alpha shape is {alpha.shape}')\n",
    "print(f'beta shape is {beta.shape}')\n",
    "print(f'gamma shape is {gamma.shape}')\n",
    "print(f'slow shape is {slow.shape}')\n",
    "print(f'low_beta shape is {low_beta.shape}')"
   ]
  },
  {
   "cell_type": "code",
   "execution_count": 58,
   "metadata": {},
   "outputs": [],
   "source": [
    "delta = delta.mean(axis=1).reshape(-1, 1)\n",
    "theta = theta.mean(axis=1).reshape(-1, 1)\n",
    "alpha = alpha.mean(axis=1).reshape(-1, 1)\n",
    "beta = beta.mean(axis=1).reshape(-1, 1)\n",
    "gamma = gamma.mean(axis=1).reshape(-1, 1)\n",
    "slow = slow.mean(axis=1).reshape(-1, 1)\n",
    "low_beta = low_beta.mean(axis=1).reshape(-1, 1)"
   ]
  },
  {
   "cell_type": "code",
   "execution_count": 59,
   "metadata": {},
   "outputs": [
    {
     "name": "stdout",
     "output_type": "stream",
     "text": [
      "delta shape is (15, 1)\n",
      "theta shape is (15, 1)\n",
      "alpha shape is (15, 1)\n",
      "beta shape is (15, 1)\n",
      "gamma shape is (15, 1)\n",
      "slow shape is (15, 1)\n",
      "low_beta shape is (15, 1)\n"
     ]
    }
   ],
   "source": [
    "print(f'delta shape is {delta.shape}')\n",
    "print(f'theta shape is {theta.shape}')\n",
    "print(f'alpha shape is {alpha.shape}')\n",
    "print(f'beta shape is {beta.shape}')\n",
    "print(f'gamma shape is {gamma.shape}')\n",
    "print(f'slow shape is {slow.shape}')\n",
    "print(f'low_beta shape is {low_beta.shape}')"
   ]
  },
  {
   "cell_type": "code",
   "execution_count": 60,
   "metadata": {},
   "outputs": [
    {
     "data": {
      "text/plain": [
       "(15, 7)"
      ]
     },
     "execution_count": 60,
     "metadata": {},
     "output_type": "execute_result"
    }
   ],
   "source": [
    "# Stack them together for ploting\n",
    "_temp = [delta, theta, alpha, beta, gamma, slow, low_beta]\n",
    "all_bands = np.hstack(_temp)\n",
    "all_bands.shape"
   ]
  },
  {
   "cell_type": "code",
   "execution_count": 61,
   "metadata": {},
   "outputs": [
    {
     "data": {
      "text/html": [
       "<div>\n",
       "<style scoped>\n",
       "    .dataframe tbody tr th:only-of-type {\n",
       "        vertical-align: middle;\n",
       "    }\n",
       "\n",
       "    .dataframe tbody tr th {\n",
       "        vertical-align: top;\n",
       "    }\n",
       "\n",
       "    .dataframe thead th {\n",
       "        text-align: right;\n",
       "    }\n",
       "</style>\n",
       "<table border=\"1\" class=\"dataframe\">\n",
       "  <thead>\n",
       "    <tr style=\"text-align: right;\">\n",
       "      <th></th>\n",
       "      <th>delta</th>\n",
       "      <th>theta</th>\n",
       "      <th>alpha</th>\n",
       "      <th>beta</th>\n",
       "      <th>gamma</th>\n",
       "      <th>slow</th>\n",
       "      <th>low_beta</th>\n",
       "    </tr>\n",
       "  </thead>\n",
       "  <tbody>\n",
       "    <tr>\n",
       "      <th>0</th>\n",
       "      <td>16.144033</td>\n",
       "      <td>6.525868</td>\n",
       "      <td>5.019503</td>\n",
       "      <td>-1.669741</td>\n",
       "      <td>-5.276808</td>\n",
       "      <td>5.690650</td>\n",
       "      <td>1.119717</td>\n",
       "    </tr>\n",
       "    <tr>\n",
       "      <th>1</th>\n",
       "      <td>14.471542</td>\n",
       "      <td>7.013320</td>\n",
       "      <td>3.654634</td>\n",
       "      <td>-2.709322</td>\n",
       "      <td>-6.880809</td>\n",
       "      <td>4.609488</td>\n",
       "      <td>-1.342694</td>\n",
       "    </tr>\n",
       "    <tr>\n",
       "      <th>2</th>\n",
       "      <td>10.980275</td>\n",
       "      <td>9.008628</td>\n",
       "      <td>11.372198</td>\n",
       "      <td>14.562974</td>\n",
       "      <td>17.332477</td>\n",
       "      <td>10.419327</td>\n",
       "      <td>12.524514</td>\n",
       "    </tr>\n",
       "    <tr>\n",
       "      <th>3</th>\n",
       "      <td>11.132669</td>\n",
       "      <td>6.017506</td>\n",
       "      <td>3.362952</td>\n",
       "      <td>-4.604565</td>\n",
       "      <td>-10.265602</td>\n",
       "      <td>4.023288</td>\n",
       "      <td>-1.469666</td>\n",
       "    </tr>\n",
       "    <tr>\n",
       "      <th>4</th>\n",
       "      <td>12.391231</td>\n",
       "      <td>6.588964</td>\n",
       "      <td>8.489521</td>\n",
       "      <td>-1.750902</td>\n",
       "      <td>-5.067395</td>\n",
       "      <td>7.063294</td>\n",
       "      <td>0.224641</td>\n",
       "    </tr>\n",
       "  </tbody>\n",
       "</table>\n",
       "</div>"
      ],
      "text/plain": [
       "       delta     theta      alpha       beta      gamma       slow   low_beta\n",
       "0  16.144033  6.525868   5.019503  -1.669741  -5.276808   5.690650   1.119717\n",
       "1  14.471542  7.013320   3.654634  -2.709322  -6.880809   4.609488  -1.342694\n",
       "2  10.980275  9.008628  11.372198  14.562974  17.332477  10.419327  12.524514\n",
       "3  11.132669  6.017506   3.362952  -4.604565 -10.265602   4.023288  -1.469666\n",
       "4  12.391231  6.588964   8.489521  -1.750902  -5.067395   7.063294   0.224641"
      ]
     },
     "execution_count": 61,
     "metadata": {},
     "output_type": "execute_result"
    }
   ],
   "source": [
    "# Turn all band into dataframe\n",
    "df_psd = pd.DataFrame(all_bands, columns= ['delta', 'theta', 'alpha', 'beta', 'gamma', 'slow', 'low_beta'])\n",
    "df_psd.head()"
   ]
  },
  {
   "cell_type": "markdown",
   "metadata": {},
   "source": [
    "#### Asymmetry"
   ]
  },
  {
   "cell_type": "code",
   "execution_count": 62,
   "metadata": {},
   "outputs": [],
   "source": [
    "# Chaky code\n",
    "def df_to_raw(df, convert=False):\n",
    "    ch_names = ['Fp1', 'Fp2', 'F7', 'F3', 'F4', 'F8', 'T3', 'C3', 'C4', 'T4', 'T5', 'P3', 'P4', 'T6', 'O1', 'O2']\n",
    "    ch_types = ['eeg'] * len(ch_names)\n",
    "    df = df.T\n",
    "\n",
    "    #df[:] *= 1e-6 # mne assume volt data # We already converted in the ETA process\n",
    "\n",
    "    sampling_rate = 125 #Hz\n",
    "    info = mne.create_info(ch_names=ch_names, ch_types=ch_types, sfreq=sampling_rate)\n",
    "    raw = mne.io.RawArray(df, info)\n",
    "    raw.set_montage('standard_1020')\n",
    "    # plotting, is not work\n",
    "    # raw.compute_psd().plot()\n",
    "    return raw"
   ]
  },
  {
   "cell_type": "code",
   "execution_count": 63,
   "metadata": {},
   "outputs": [
    {
     "name": "stdout",
     "output_type": "stream",
     "text": [
      "Creating RawArray with float64 data, n_channels=16, n_times=45000\n",
      "    Range : 0 ... 44999 =      0.000 ...   359.992 secs\n",
      "Ready.\n",
      "clean_exp01.csv | time: 360.0\n",
      "Creating RawArray with float64 data, n_channels=16, n_times=45000\n",
      "    Range : 0 ... 44999 =      0.000 ...   359.992 secs\n",
      "Ready.\n",
      "clean_exp02.csv | time: 360.0\n",
      "Creating RawArray with float64 data, n_channels=16, n_times=45000\n",
      "    Range : 0 ... 44999 =      0.000 ...   359.992 secs\n",
      "Ready.\n",
      "clean_exp03.csv | time: 360.0\n",
      "Creating RawArray with float64 data, n_channels=16, n_times=45000\n",
      "    Range : 0 ... 44999 =      0.000 ...   359.992 secs\n",
      "Ready.\n",
      "clean_exp04.csv | time: 360.0\n",
      "Creating RawArray with float64 data, n_channels=16, n_times=45000\n",
      "    Range : 0 ... 44999 =      0.000 ...   359.992 secs\n",
      "Ready.\n",
      "clean_exp06.csv | time: 360.0\n",
      "Creating RawArray with float64 data, n_channels=16, n_times=45000\n",
      "    Range : 0 ... 44999 =      0.000 ...   359.992 secs\n",
      "Ready.\n",
      "clean_exp07.csv | time: 360.0\n",
      "Creating RawArray with float64 data, n_channels=16, n_times=45000\n",
      "    Range : 0 ... 44999 =      0.000 ...   359.992 secs\n",
      "Ready.\n",
      "clean_exp08.csv | time: 360.0\n",
      "Creating RawArray with float64 data, n_channels=16, n_times=45000\n",
      "    Range : 0 ... 44999 =      0.000 ...   359.992 secs\n",
      "Ready.\n",
      "clean_exp09.csv | time: 360.0\n",
      "Creating RawArray with float64 data, n_channels=16, n_times=45000\n",
      "    Range : 0 ... 44999 =      0.000 ...   359.992 secs\n",
      "Ready.\n",
      "clean_exp10.csv | time: 360.0\n",
      "Creating RawArray with float64 data, n_channels=16, n_times=45000\n",
      "    Range : 0 ... 44999 =      0.000 ...   359.992 secs\n",
      "Ready.\n",
      "clean_exp11.csv | time: 360.0\n",
      "Creating RawArray with float64 data, n_channels=16, n_times=45000\n",
      "    Range : 0 ... 44999 =      0.000 ...   359.992 secs\n",
      "Ready.\n",
      "clean_exp12.csv | time: 360.0\n",
      "Creating RawArray with float64 data, n_channels=16, n_times=45000\n",
      "    Range : 0 ... 44999 =      0.000 ...   359.992 secs\n",
      "Ready.\n",
      "clean_exp13.csv | time: 360.0\n",
      "Creating RawArray with float64 data, n_channels=16, n_times=45000\n",
      "    Range : 0 ... 44999 =      0.000 ...   359.992 secs\n",
      "Ready.\n",
      "clean_exp14.csv | time: 360.0\n",
      "Creating RawArray with float64 data, n_channels=16, n_times=45000\n",
      "    Range : 0 ... 44999 =      0.000 ...   359.992 secs\n",
      "Ready.\n",
      "clean_exp15.csv | time: 360.0\n",
      "Creating RawArray with float64 data, n_channels=16, n_times=45000\n",
      "    Range : 0 ... 44999 =      0.000 ...   359.992 secs\n",
      "Ready.\n",
      "clean_exp16.csv | time: 360.0\n"
     ]
    }
   ],
   "source": [
    "# Put data into mne\n",
    "main_path = os.getcwd()\n",
    "eeg = dict()\n",
    "\n",
    "for index, file in enumerate(file_name):\n",
    "    clean_signal_path = main_path + '/Clean_signal/' + file\n",
    "    df = pd.read_csv(clean_signal_path)\n",
    "    df = df.loc[:, ~df.columns.str.contains('^Unnamed')]\n",
    "    raw = df_to_raw(df)\n",
    "    eeg['exp' + str(index)] = raw\n",
    "    print(f'{file} | time: {len(df)/125}')\n"
   ]
  },
  {
   "cell_type": "code",
   "execution_count": 64,
   "metadata": {},
   "outputs": [
    {
     "name": "stdout",
     "output_type": "stream",
     "text": [
      "Effective window size : 1.000 (s)\n",
      "[ 0.  1.  2.  3.  4.  5.  6.  7.  8.  9. 10. 11. 12. 13. 14. 15. 16. 17.\n",
      " 18. 19. 20. 21. 22. 23. 24. 25. 26. 27. 28. 29. 30. 31. 32. 33. 34. 35.\n",
      " 36. 37. 38. 39. 40. 41. 42. 43. 44. 45. 46. 47. 48. 49. 50. 51. 52. 53.\n",
      " 54. 55. 56. 57. 58. 59. 60. 61. 62.]\n"
     ]
    },
    {
     "name": "stderr",
     "output_type": "stream",
     "text": [
      "<decorator-gen-201>:4: FutureWarning: NOTE: psd_welch() is a deprecated function. Function ``psd_welch()`` is deprecated; for Raw/Epochs/Evoked instances use ``spectrum = instance.compute_psd(method=\"welch\")`` instead, followed by ``spectrum.get_data(return_freqs=True)``.\n",
      "[Parallel(n_jobs=1)]: Using backend SequentialBackend with 1 concurrent workers.\n",
      "[Parallel(n_jobs=1)]: Done   1 out of   1 | elapsed:    0.0s remaining:    0.0s\n",
      "[Parallel(n_jobs=1)]: Done   1 out of   1 | elapsed:    0.0s finished\n"
     ]
    }
   ],
   "source": [
    "# Get freqeuency\n",
    "def get_freq(info):\n",
    "    raw = info\n",
    "    power, freq = mne.time_frequency.psd_welch(raw,n_fft=125, verbose=True)\n",
    "    return freq\n",
    "    \n",
    "for name, info in eeg.items():\n",
    "    freq = get_freq(info)\n",
    "    print(freq)\n",
    "    break"
   ]
  },
  {
   "cell_type": "code",
   "execution_count": 65,
   "metadata": {},
   "outputs": [
    {
     "name": "stdout",
     "output_type": "stream",
     "text": [
      "[array([1, 2, 3], dtype=int64) array([4, 5, 6, 7], dtype=int64)\n",
      " array([ 8,  9, 10, 11, 12], dtype=int64)\n",
      " array([13, 14, 15, 16, 17, 18, 19, 20, 21, 22, 23, 24, 25, 26, 27, 28, 29,\n",
      "        30], dtype=int64)\n",
      " array([30, 31, 32, 33, 34, 35, 36, 37, 38, 39, 40, 41, 42, 43],\n",
      "       dtype=int64)\n",
      " array([ 4,  5,  6,  7,  8,  9, 10, 11, 12, 13], dtype=int64)\n",
      " array([13, 14, 15, 16, 17], dtype=int64)]\n"
     ]
    },
    {
     "name": "stderr",
     "output_type": "stream",
     "text": [
      "C:\\Users\\Guntsv\\AppData\\Local\\Temp\\ipykernel_21996\\3271316881.py:9: VisibleDeprecationWarning: Creating an ndarray from ragged nested sequences (which is a list-or-tuple of lists-or-tuples-or ndarrays with different lengths or shapes) is deprecated. If you meant to do this, you must specify 'dtype=object' when creating the ndarray.\n",
      "  bands = np.array(bands)\n"
     ]
    }
   ],
   "source": [
    "band_names = np.array(['Delta', 'Theta', 'Alpha', 'Beta', 'Gamma', 'Slow', 'Low_beta'])\n",
    "filter_list = [[1,3],[4,7],[8,12],[13,30],[30,43], [4,13], [13,17]]\n",
    "# band_names = np.array(['Delta', 'Theta', 'Alpha', 'Slow', 'Low_beta'])\n",
    "# filter_list = [[1,3],[4,7],[8,12], [4,13], [13,17]]\n",
    "bands = []\n",
    "for filt in filter_list:\n",
    "    pt = np.argwhere((freq >= filt[0]) & (freq <= filt[1])).reshape(-1)\n",
    "    bands.append(pt)\n",
    "bands = np.array(bands)\n",
    "print(bands)"
   ]
  },
  {
   "cell_type": "code",
   "execution_count": 66,
   "metadata": {},
   "outputs": [
    {
     "name": "stdout",
     "output_type": "stream",
     "text": [
      "name: exp0\n",
      "type feature == None band name = Delta value = [[17.34164488]]\n",
      "band name = Theta value = [[6.52586807]]\n",
      "band name = Alpha value = [[5.01950287]]\n",
      "band name = Beta value = [[-1.66974125]]\n",
      "band name = Gamma value = [[-5.72644562]]\n",
      "band name = Slow value = [[5.69064957]]\n",
      "band name = Low_beta value = [[1.11971715]]\n",
      "relative gamma [[-0.99374899]]\n",
      "alpha_frontal [[-0.01009142]]\n",
      "alpha_temportal [[0.12291137]]\n",
      "alpha_asymmetry [[0.11281995]]\n",
      "beta_frontal [[-0.0476943]]\n",
      "beta_temporal [[0.04079912]]\n",
      "name: exp1\n",
      "type feature == None band name = Delta value = [[15.53193247]]\n",
      "band name = Theta value = [[7.01332001]]\n",
      "band name = Alpha value = [[3.65463436]]\n",
      "band name = Beta value = [[-2.70932241]]\n",
      "band name = Gamma value = [[-7.87706048]]\n",
      "band name = Slow value = [[4.60948816]]\n",
      "band name = Low_beta value = [[-1.34269374]]\n",
      "relative gamma [[-0.58517872]]\n",
      "alpha_frontal [[0.05269341]]\n",
      "alpha_temportal [[0.02954776]]\n",
      "alpha_asymmetry [[0.08224117]]\n",
      "beta_frontal [[0.02405058]]\n",
      "beta_temporal [[0.02615243]]\n",
      "name: exp2\n",
      "type feature == None band name = Delta value = [[12.40102125]]\n",
      "band name = Theta value = [[9.00862808]]\n",
      "band name = Alpha value = [[11.37219775]]\n",
      "band name = Beta value = [[14.56297379]]\n",
      "band name = Gamma value = [[17.79421571]]\n",
      "band name = Slow value = [[10.41932739]]\n",
      "band name = Low_beta value = [[12.52451407]]\n",
      "relative gamma [[0.58554575]]\n",
      "alpha_frontal [[-0.14517466]]\n",
      "alpha_temportal [[0.0152131]]\n",
      "alpha_asymmetry [[-0.12996156]]\n",
      "beta_frontal [[-0.19550882]]\n",
      "beta_temporal [[0.00592912]]\n",
      "name: exp3\n",
      "type feature == None band name = Delta value = [[12.40885065]]\n",
      "band name = Theta value = [[6.01750611]]\n",
      "band name = Alpha value = [[3.36295161]]\n",
      "band name = Beta value = [[-4.60456471]]\n",
      "band name = Gamma value = [[-11.33531819]]\n",
      "band name = Slow value = [[4.02328803]]\n",
      "band name = Low_beta value = [[-1.46966561]]\n",
      "relative gamma [[-0.35493384]]\n",
      "alpha_frontal [[0.00662372]]\n",
      "alpha_temportal [[-0.05642564]]\n",
      "alpha_asymmetry [[-0.04980193]]\n",
      "beta_frontal [[0.09752536]]\n",
      "beta_temporal [[0.57071893]]\n",
      "name: exp4\n",
      "type feature == None band name = Delta value = [[13.61274123]]\n",
      "band name = Theta value = [[6.58896407]]\n",
      "band name = Alpha value = [[8.48952126]]\n",
      "band name = Beta value = [[-1.75090194]]\n",
      "band name = Gamma value = [[-5.55278437]]\n",
      "band name = Slow value = [[7.06329414]]\n",
      "band name = Low_beta value = [[0.22464113]]\n",
      "relative gamma [[-1.27202745]]\n",
      "alpha_frontal [[-0.02727239]]\n",
      "alpha_temportal [[-0.02453408]]\n",
      "alpha_asymmetry [[-0.05180647]]\n",
      "beta_frontal [[0.18183359]]\n",
      "beta_temporal [[0.45185553]]\n",
      "name: exp5\n",
      "type feature == None band name = Delta value = [[13.51617725]]\n",
      "band name = Theta value = [[8.70468614]]\n",
      "band name = Alpha value = [[9.6288613]]\n",
      "band name = Beta value = [[6.03861373]]\n",
      "band name = Gamma value = [[4.00664532]]\n",
      "band name = Slow value = [[9.0703366]]\n",
      "band name = Low_beta value = [[6.72364298]]\n",
      "relative gamma [[2.26382319]]\n",
      "alpha_frontal [[0.00851758]]\n",
      "alpha_temportal [[0.0209457]]\n",
      "alpha_asymmetry [[0.02946328]]\n",
      "beta_frontal [[0.02872253]]\n",
      "beta_temporal [[-0.00038132]]\n",
      "name: exp6\n",
      "type feature == None band name = Delta value = [[6.95546883]]\n",
      "band name = Theta value = [[-0.21133261]]\n",
      "band name = Alpha value = [[-4.06205445]]\n",
      "band name = Beta value = [[-8.69747625]]\n",
      "band name = Gamma value = [[-13.14332126]]\n",
      "band name = Slow value = [[-2.73904411]]\n",
      "band name = Low_beta value = [[-7.48765161]]\n",
      "relative gamma [[0.20839817]]\n",
      "alpha_frontal [[-0.02105562]]\n",
      "alpha_temportal [[0.01229723]]\n",
      "alpha_asymmetry [[-0.00875839]]\n",
      "beta_frontal [[-0.03354595]]\n",
      "beta_temporal [[0.10063094]]\n",
      "name: exp7\n",
      "type feature == None band name = Delta value = [[13.44494836]]\n",
      "band name = Theta value = [[6.57395901]]\n",
      "band name = Alpha value = [[2.8672477]]\n",
      "band name = Beta value = [[-1.01074317]]\n",
      "band name = Gamma value = [[-2.17283104]]\n",
      "band name = Slow value = [[4.17337843]]\n",
      "band name = Low_beta value = [[0.01622016]]\n",
      "relative gamma [[-1.92071006]]\n",
      "alpha_frontal [[-0.90385039]]\n",
      "alpha_temportal [[0.3600322]]\n",
      "alpha_asymmetry [[-0.54381819]]\n",
      "beta_frontal [[-2.95194804]]\n",
      "beta_temporal [[-0.09931333]]\n",
      "name: exp8\n",
      "type feature == None band name = Delta value = [[9.02933255]]\n",
      "band name = Theta value = [[1.54825439]]\n",
      "band name = Alpha value = [[6.90007268]]\n",
      "band name = Beta value = [[-4.63230278]]\n",
      "band name = Gamma value = [[-10.33287775]]\n",
      "band name = Slow value = [[4.24317591]]\n",
      "band name = Low_beta value = [[-2.38973254]]\n",
      "relative gamma [[-0.41064803]]\n",
      "alpha_frontal [[-0.03136241]]\n",
      "alpha_temportal [[0.04879629]]\n",
      "alpha_asymmetry [[0.01743388]]\n",
      "beta_frontal [[-0.02667462]]\n",
      "beta_temporal [[-0.81584828]]\n",
      "name: exp9\n",
      "type feature == None band name = Delta value = [[11.35020945]]\n",
      "band name = Theta value = [[7.39244734]]\n",
      "band name = Alpha value = [[6.18595543]]\n",
      "band name = Beta value = [[0.34707585]]\n",
      "band name = Gamma value = [[-1.15048065]]\n",
      "band name = Slow value = [[6.24143313]]\n",
      "band name = Low_beta value = [[1.08851358]]\n",
      "relative gamma [[-5.42506572]]\n",
      "alpha_frontal [[0.17103346]]\n",
      "alpha_temportal [[-0.12235554]]\n",
      "alpha_asymmetry [[0.04867792]]\n",
      "beta_frontal [[0.69562583]]\n",
      "beta_temporal [[-0.23988233]]\n",
      "name: exp10\n",
      "type feature == None band name = Delta value = [[21.82478936]]\n",
      "band name = Theta value = [[14.99878718]]\n",
      "band name = Alpha value = [[8.75010998]]\n",
      "band name = Beta value = [[3.30560445]]\n",
      "band name = Gamma value = [[-1.56483406]]\n",
      "band name = Slow value = [[11.07721771]]\n",
      "band name = Low_beta value = [[5.99741885]]\n",
      "relative gamma [[-7.07884496]]\n",
      "alpha_frontal [[-0.57492252]]\n",
      "alpha_temportal [[-0.13356826]]\n",
      "alpha_asymmetry [[-0.70849078]]\n",
      "beta_frontal [[-0.8759184]]\n",
      "beta_temporal [[0.47219113]]\n",
      "name: exp11\n",
      "type feature == None band name = Delta value = [[9.87093096]]\n",
      "band name = Theta value = [[1.99140793]]\n",
      "band name = Alpha value = [[1.96544113]]\n",
      "band name = Beta value = [[-3.85651145]]\n",
      "band name = Gamma value = [[-9.21754901]]\n",
      "band name = Slow value = [[1.71880034]]\n",
      "band name = Low_beta value = [[-2.49243298]]\n",
      "relative gamma [[-0.18647043]]\n",
      "alpha_frontal [[0.38289933]]\n",
      "alpha_temportal [[-0.10029998]]\n",
      "alpha_asymmetry [[0.28259934]]\n",
      "beta_frontal [[-0.14679514]]\n",
      "beta_temporal [[-0.44971494]]\n",
      "name: exp12\n",
      "type feature == None band name = Delta value = [[9.16075441]]\n",
      "band name = Theta value = [[3.37048586]]\n",
      "band name = Alpha value = [[3.47323567]]\n",
      "band name = Beta value = [[-4.16805908]]\n",
      "band name = Gamma value = [[-7.61553665]]\n",
      "band name = Slow value = [[3.20878493]]\n",
      "band name = Low_beta value = [[-1.90576738]]\n",
      "relative gamma [[-0.42134718]]\n",
      "alpha_frontal [[0.00381521]]\n",
      "alpha_temportal [[-0.07161214]]\n",
      "alpha_asymmetry [[-0.06779693]]\n",
      "beta_frontal [[0.0161831]]\n",
      "beta_temporal [[-0.01401912]]\n",
      "name: exp13\n",
      "type feature == None band name = Delta value = [[14.66994081]]\n",
      "band name = Theta value = [[7.69746465]]\n",
      "band name = Alpha value = [[9.16084856]]\n",
      "band name = Beta value = [[0.60536178]]\n",
      "band name = Gamma value = [[-3.86393489]]\n",
      "band name = Slow value = [[8.05555052]]\n",
      "band name = Low_beta value = [[2.71088227]]\n",
      "relative gamma [[-2.08480493]]\n",
      "alpha_frontal [[-0.01817236]]\n",
      "alpha_temportal [[-0.04539102]]\n",
      "alpha_asymmetry [[-0.06356338]]\n",
      "beta_frontal [[-0.12959424]]\n",
      "beta_temporal [[0.11926519]]\n",
      "name: exp14\n",
      "type feature == None band name = Delta value = [[15.53193247]]\n",
      "band name = Theta value = [[7.01332001]]\n",
      "band name = Alpha value = [[3.65463436]]\n",
      "band name = Beta value = [[-2.70932241]]\n",
      "band name = Gamma value = [[-7.87706048]]\n",
      "band name = Slow value = [[4.60948816]]\n",
      "band name = Low_beta value = [[-1.34269374]]\n",
      "relative gamma [[-0.58517872]]\n",
      "alpha_frontal [[0.05269341]]\n",
      "alpha_temportal [[0.02954776]]\n",
      "alpha_asymmetry [[0.08224117]]\n",
      "beta_frontal [[0.02405058]]\n",
      "beta_temporal [[0.02615243]]\n",
      "(15, 13)\n",
      "====================================================================================================\n"
     ]
    }
   ],
   "source": [
    "#Asymmetry \n",
    "features = None\n",
    "for name, info in eeg.items():\n",
    "    raw = info\n",
    "    feature = None\n",
    "    slow, gamma = None, None\n",
    "    a_f3, a_f4 = None, None\n",
    "    a_t7, a_t8 = None, None\n",
    "    b_f3, b_f4 = None, None\n",
    "    b_t7, b_t8 = None, None\n",
    "    #epochs = mne.Epochs(raw, np.array([[125*60*1, 0, 1]]), tmin=0, tmax=30, baseline=(0,30), verbose=False)\n",
    "    epochs = raw\n",
    "\n",
    "    print(f'name: {name}')\n",
    "\n",
    "\n",
    "    for index, band in enumerate(bands):\n",
    "        \n",
    "        power,freq = mne.time_frequency.psd_welch(epochs,n_fft=125, verbose=False)\n",
    "        power = power.squeeze()\n",
    "        power = 10 * np.log10(power)\n",
    "        data = power[::,band].mean(axis=1).reshape(1,-1)\n",
    "        # for asym\n",
    "        if(band_names[index] == 'Alpha'):\n",
    "            a_f3 = data[:,raw.ch_names.index('F3')]\n",
    "            a_f4 = data[:,raw.ch_names.index('F4')]\n",
    "            # We use t3 as t7 and t4 as t8\n",
    "            a_t7 = data[:,raw.ch_names.index('T3')]\n",
    "            a_t8 = data[:,raw.ch_names.index('T4')]\n",
    "        if(band_names[index] == 'Beta'):\n",
    "            b_f3 = data[:,raw.ch_names.index('F3')]\n",
    "            b_f4 = data[:,raw.ch_names.index('F4')]\n",
    "            # We use t3 as t7 and t4 as t8\n",
    "            b_t7 = data[:,raw.ch_names.index('T3')]\n",
    "            b_t8 = data[:,raw.ch_names.index('T4')]\n",
    "\n",
    "        ####### Mean for visualization #######\n",
    "        data = data.mean().reshape(1,-1)\n",
    "        # for relative gamma\n",
    "        if(band_names[index] == 'Slow'): \n",
    "            slow = data\n",
    "        if(band_names[index] == 'Gamma'): \n",
    "            gamma = data\n",
    "\n",
    "        if(type(feature) == type(None)): \n",
    "            print(f'type feature == None band name = {band_names[index]} value = {data}')\n",
    "            feature = data\n",
    "        else:\n",
    "            print(f'band name = {band_names[index]} value = {data}')\n",
    "            feature = np.concatenate([feature, data], axis=1)\n",
    "    # print(feature.shape)\n",
    "    # the eighth feature: relative gamma is slow/gamma\n",
    "    relative_gamma = slow/gamma\n",
    "    feature = np.concatenate([feature, relative_gamma], axis=1)\n",
    "\n",
    "    print(f'relative gamma {relative_gamma}')\n",
    "\n",
    "    # The asymetry\n",
    "    alpha_frontal = ((a_f4 - a_f3) / (a_f4 + a_f3)).reshape(1,-1)\n",
    "    feature = np.concatenate([feature, alpha_frontal], axis=1)\n",
    "\n",
    "    print(f'alpha_frontal {alpha_frontal}')\n",
    "\n",
    "    # alpha_temporal\n",
    "    alpha_temporal = ((a_t8 - a_t7) / (a_t8 + a_t7)).reshape(1,-1)\n",
    "    feature = np.concatenate([feature, alpha_temporal], axis=1)\n",
    "\n",
    "    print(f'alpha_temportal {alpha_temporal}')\n",
    "\n",
    "    # alpha_asymmetry\n",
    "    alpha_asymmetry = alpha_frontal + alpha_temporal\n",
    "    feature = np.concatenate([feature, alpha_asymmetry], axis=1)\n",
    "\n",
    "    print(f'alpha_asymmetry {alpha_asymmetry}')\n",
    "\n",
    "    # beta_frontal\n",
    "    beta_frontal = ((b_f4 - b_f3) / (b_f4 + b_f3)).reshape(1,-1)\n",
    "    feature = np.concatenate([feature, beta_frontal], axis=1)\n",
    "\n",
    "    print(f'beta_frontal {beta_frontal}')\n",
    "\n",
    "\n",
    "    # beta_temporal\n",
    "    beta_temporal = ((b_t8 - b_t7) / (b_t8 + b_t7)).reshape(1,-1)\n",
    "    feature = np.concatenate([feature, beta_temporal], axis=1)\n",
    "\n",
    "    print(f'beta_temporal {beta_temporal}')\n",
    "\n",
    "    # print(slow/gamma)\n",
    "    # print(feature.shape)\n",
    "    # print(feature)\n",
    "    # info['all'] = feature\n",
    "    #print(feature.shape)\n",
    "    if(type(features) == type(None)): features = feature\n",
    "    else: features = np.concatenate([features, feature], axis=0)\n",
    "\n",
    "print(features.shape)\n",
    "print('=' * 100)"
   ]
  },
  {
   "cell_type": "code",
   "execution_count": 67,
   "metadata": {},
   "outputs": [],
   "source": [
    "feature_column = ['Delta', 'Theta', 'Alpha', 'Beta', 'Gamma', 'Slow', 'Low_beta', 'Relative_gamma', 'Alpha_frontal', 'Alpha_temporal',\n",
    "'Alpha_asymmetry', 'Beta_Frontal', 'Beta_temporal'] #'label'"
   ]
  },
  {
   "cell_type": "code",
   "execution_count": 68,
   "metadata": {},
   "outputs": [
    {
     "data": {
      "text/plain": [
       "(15,)"
      ]
     },
     "execution_count": 68,
     "metadata": {},
     "output_type": "execute_result"
    }
   ],
   "source": [
    "y_path = './Clean_signal/label_nooutlier.csv'\n",
    "df = pd.read_csv(y_path)\n",
    "y = np.array(df['label'])\n",
    "y[:-1].shape"
   ]
  },
  {
   "cell_type": "code",
   "execution_count": 69,
   "metadata": {},
   "outputs": [
    {
     "data": {
      "text/plain": [
       "((15, 13), (15,))"
      ]
     },
     "execution_count": 69,
     "metadata": {},
     "output_type": "execute_result"
    }
   ],
   "source": [
    "features.shape, y[:-1].shape"
   ]
  },
  {
   "cell_type": "code",
   "execution_count": 70,
   "metadata": {},
   "outputs": [
    {
     "data": {
      "text/html": [
       "<div>\n",
       "<style scoped>\n",
       "    .dataframe tbody tr th:only-of-type {\n",
       "        vertical-align: middle;\n",
       "    }\n",
       "\n",
       "    .dataframe tbody tr th {\n",
       "        vertical-align: top;\n",
       "    }\n",
       "\n",
       "    .dataframe thead th {\n",
       "        text-align: right;\n",
       "    }\n",
       "</style>\n",
       "<table border=\"1\" class=\"dataframe\">\n",
       "  <thead>\n",
       "    <tr style=\"text-align: right;\">\n",
       "      <th></th>\n",
       "      <th>Delta</th>\n",
       "      <th>Theta</th>\n",
       "      <th>Alpha</th>\n",
       "      <th>Beta</th>\n",
       "      <th>Gamma</th>\n",
       "      <th>Slow</th>\n",
       "      <th>Low_beta</th>\n",
       "      <th>Relative_gamma</th>\n",
       "      <th>Alpha_frontal</th>\n",
       "      <th>Alpha_temporal</th>\n",
       "      <th>Alpha_asymmetry</th>\n",
       "      <th>Beta_Frontal</th>\n",
       "      <th>Beta_temporal</th>\n",
       "    </tr>\n",
       "  </thead>\n",
       "  <tbody>\n",
       "    <tr>\n",
       "      <th>0</th>\n",
       "      <td>17.341645</td>\n",
       "      <td>6.525868</td>\n",
       "      <td>5.019503</td>\n",
       "      <td>-1.669741</td>\n",
       "      <td>-5.726446</td>\n",
       "      <td>5.690650</td>\n",
       "      <td>1.119717</td>\n",
       "      <td>-0.993749</td>\n",
       "      <td>-0.010091</td>\n",
       "      <td>0.122911</td>\n",
       "      <td>0.112820</td>\n",
       "      <td>-0.047694</td>\n",
       "      <td>0.040799</td>\n",
       "    </tr>\n",
       "    <tr>\n",
       "      <th>1</th>\n",
       "      <td>15.531932</td>\n",
       "      <td>7.013320</td>\n",
       "      <td>3.654634</td>\n",
       "      <td>-2.709322</td>\n",
       "      <td>-7.877060</td>\n",
       "      <td>4.609488</td>\n",
       "      <td>-1.342694</td>\n",
       "      <td>-0.585179</td>\n",
       "      <td>0.052693</td>\n",
       "      <td>0.029548</td>\n",
       "      <td>0.082241</td>\n",
       "      <td>0.024051</td>\n",
       "      <td>0.026152</td>\n",
       "    </tr>\n",
       "    <tr>\n",
       "      <th>2</th>\n",
       "      <td>12.401021</td>\n",
       "      <td>9.008628</td>\n",
       "      <td>11.372198</td>\n",
       "      <td>14.562974</td>\n",
       "      <td>17.794216</td>\n",
       "      <td>10.419327</td>\n",
       "      <td>12.524514</td>\n",
       "      <td>0.585546</td>\n",
       "      <td>-0.145175</td>\n",
       "      <td>0.015213</td>\n",
       "      <td>-0.129962</td>\n",
       "      <td>-0.195509</td>\n",
       "      <td>0.005929</td>\n",
       "    </tr>\n",
       "    <tr>\n",
       "      <th>3</th>\n",
       "      <td>12.408851</td>\n",
       "      <td>6.017506</td>\n",
       "      <td>3.362952</td>\n",
       "      <td>-4.604565</td>\n",
       "      <td>-11.335318</td>\n",
       "      <td>4.023288</td>\n",
       "      <td>-1.469666</td>\n",
       "      <td>-0.354934</td>\n",
       "      <td>0.006624</td>\n",
       "      <td>-0.056426</td>\n",
       "      <td>-0.049802</td>\n",
       "      <td>0.097525</td>\n",
       "      <td>0.570719</td>\n",
       "    </tr>\n",
       "    <tr>\n",
       "      <th>4</th>\n",
       "      <td>13.612741</td>\n",
       "      <td>6.588964</td>\n",
       "      <td>8.489521</td>\n",
       "      <td>-1.750902</td>\n",
       "      <td>-5.552784</td>\n",
       "      <td>7.063294</td>\n",
       "      <td>0.224641</td>\n",
       "      <td>-1.272027</td>\n",
       "      <td>-0.027272</td>\n",
       "      <td>-0.024534</td>\n",
       "      <td>-0.051806</td>\n",
       "      <td>0.181834</td>\n",
       "      <td>0.451856</td>\n",
       "    </tr>\n",
       "  </tbody>\n",
       "</table>\n",
       "</div>"
      ],
      "text/plain": [
       "       Delta     Theta      Alpha       Beta      Gamma       Slow   Low_beta  \\\n",
       "0  17.341645  6.525868   5.019503  -1.669741  -5.726446   5.690650   1.119717   \n",
       "1  15.531932  7.013320   3.654634  -2.709322  -7.877060   4.609488  -1.342694   \n",
       "2  12.401021  9.008628  11.372198  14.562974  17.794216  10.419327  12.524514   \n",
       "3  12.408851  6.017506   3.362952  -4.604565 -11.335318   4.023288  -1.469666   \n",
       "4  13.612741  6.588964   8.489521  -1.750902  -5.552784   7.063294   0.224641   \n",
       "\n",
       "   Relative_gamma  Alpha_frontal  Alpha_temporal  Alpha_asymmetry  \\\n",
       "0       -0.993749      -0.010091        0.122911         0.112820   \n",
       "1       -0.585179       0.052693        0.029548         0.082241   \n",
       "2        0.585546      -0.145175        0.015213        -0.129962   \n",
       "3       -0.354934       0.006624       -0.056426        -0.049802   \n",
       "4       -1.272027      -0.027272       -0.024534        -0.051806   \n",
       "\n",
       "   Beta_Frontal  Beta_temporal  \n",
       "0     -0.047694       0.040799  \n",
       "1      0.024051       0.026152  \n",
       "2     -0.195509       0.005929  \n",
       "3      0.097525       0.570719  \n",
       "4      0.181834       0.451856  "
      ]
     },
     "execution_count": 70,
     "metadata": {},
     "output_type": "execute_result"
    }
   ],
   "source": [
    "df_asy = pd.DataFrame(features, columns=feature_column)\n",
    "df_asy.head()"
   ]
  },
  {
   "cell_type": "code",
   "execution_count": 71,
   "metadata": {},
   "outputs": [
    {
     "data": {
      "text/plain": [
       "((10, 7), (5, 7), (10,), (5,))"
      ]
     },
     "execution_count": 71,
     "metadata": {},
     "output_type": "execute_result"
    }
   ],
   "source": [
    "# split X and y into training and testing sets\n",
    "from sklearn.model_selection import train_test_split\n",
    "#X_train, X_test, y_train, y_test = train_test_split(df_asy, y[:-1], test_size=0.3, random_state=999)\n",
    "X_train, X_test, y_train, y_test = train_test_split(df_psd, y[:-1], test_size=0.3, random_state=999)\n",
    "X_train.shape, X_test.shape, y_train.shape, y_test.shape"
   ]
  },
  {
   "cell_type": "code",
   "execution_count": 72,
   "metadata": {},
   "outputs": [],
   "source": [
    "from sklearn.preprocessing import MinMaxScaler\n",
    "\n",
    "scaler = MinMaxScaler()\n",
    "X_train = scaler.fit_transform(X_train)\n",
    "X_test = scaler.transform(X_test)"
   ]
  },
  {
   "cell_type": "code",
   "execution_count": 76,
   "metadata": {},
   "outputs": [],
   "source": [
    "from sklearn.linear_model import LogisticRegression\n",
    "from sklearn.pipeline import Pipeline\n",
    "from sklearn.preprocessing import StandardScaler\n",
    "from sklearn.metrics import classification_report,accuracy_score\n",
    "from sklearn.model_selection import GroupKFold,GridSearchCV,cross_val_score \n",
    "from sklearn.model_selection import StratifiedShuffleSplit\n",
    "import torch\n",
    "import pandas as pd"
   ]
  },
  {
   "cell_type": "markdown",
   "metadata": {},
   "source": [
    "### Training"
   ]
  },
  {
   "cell_type": "code",
   "execution_count": 78,
   "metadata": {},
   "outputs": [
    {
     "name": "stdout",
     "output_type": "stream",
     "text": [
      "Accuracy GridSearchCV 0.5\n"
     ]
    }
   ],
   "source": [
    "param_grid = {\n",
    "    'solver' : ['newton-cg', 'lbfgs', 'liblinear'],\n",
    "}\n",
    "cv = StratifiedShuffleSplit(n_splits=5, test_size=0.2, random_state=42)\n",
    "estimator = LogisticRegression(max_iter=1000)\n",
    "grid = GridSearchCV(estimator  = estimator,\n",
    "                    param_grid = param_grid,\n",
    "                    cv = cv,  \n",
    "                    n_jobs  = -1,\n",
    "                    refit   = True, \n",
    "                    scoring = 'accuracy',\n",
    "                    return_train_score=True)\n",
    "                    \n",
    "grid.fit(X_train, y_train)\n",
    "print('Accuracy GridSearchCV',grid.best_score_)"
   ]
  },
  {
   "cell_type": "markdown",
   "metadata": {},
   "source": [
    "### Testing"
   ]
  },
  {
   "cell_type": "code",
   "execution_count": 79,
   "metadata": {},
   "outputs": [
    {
     "name": "stdout",
     "output_type": "stream",
     "text": [
      "Accuracy : 0.6\n",
      "classification_report : \n",
      "               precision    recall  f1-score   support\n",
      "\n",
      "           0       0.60      1.00      0.75         3\n",
      "           1       0.00      0.00      0.00         2\n",
      "\n",
      "    accuracy                           0.60         5\n",
      "   macro avg       0.30      0.50      0.37         5\n",
      "weighted avg       0.36      0.60      0.45         5\n",
      "\n",
      "AxesSubplot(0.125,0.125;0.62x0.755)\n"
     ]
    },
    {
     "name": "stderr",
     "output_type": "stream",
     "text": [
      "c:\\Python3.10.4\\lib\\site-packages\\sklearn\\metrics\\_classification.py:1318: UndefinedMetricWarning: Precision and F-score are ill-defined and being set to 0.0 in labels with no predicted samples. Use `zero_division` parameter to control this behavior.\n",
      "  _warn_prf(average, modifier, msg_start, len(result))\n",
      "c:\\Python3.10.4\\lib\\site-packages\\sklearn\\metrics\\_classification.py:1318: UndefinedMetricWarning: Precision and F-score are ill-defined and being set to 0.0 in labels with no predicted samples. Use `zero_division` parameter to control this behavior.\n",
      "  _warn_prf(average, modifier, msg_start, len(result))\n",
      "c:\\Python3.10.4\\lib\\site-packages\\sklearn\\metrics\\_classification.py:1318: UndefinedMetricWarning: Precision and F-score are ill-defined and being set to 0.0 in labels with no predicted samples. Use `zero_division` parameter to control this behavior.\n",
      "  _warn_prf(average, modifier, msg_start, len(result))\n"
     ]
    },
    {
     "data": {
      "image/png": "[encoded data removed]",
      "text/plain": [
       "<Figure size 432x288 with 2 Axes>"
      ]
     },
     "metadata": {
      "needs_background": "light"
     },
     "output_type": "display_data"
    }
   ],
   "source": [
    "from sklearn.metrics import accuracy_score  \n",
    "from sklearn.metrics import classification_report\n",
    "from sklearn.metrics import confusion_matrix\n",
    "import matplotlib.pyplot as plt\n",
    "import seaborn as sns\n",
    "y_pred = grid.predict(X_test)\n",
    "target_names = ['without Stress', 'with Stress']\n",
    "acc = accuracy_score(y_test,y_pred)\n",
    "crp = classification_report(y_test,y_pred)\n",
    "print(\"Accuracy :\",acc)\n",
    "print(\"classification_report : \\n\",crp)\n",
    "print(sns.heatmap(confusion_matrix(y_test,y_pred),annot=True))\n",
    "plt.show()"
   ]
  },
  {
   "cell_type": "code",
   "execution_count": null,
   "metadata": {},
   "outputs": [],
   "source": []
  }
 ],
 "metadata": {
  "kernelspec": {
   "display_name": "Python 3.10.4 64-bit",
   "language": "python",
   "name": "python3"
  },
  "language_info": {
   "codemirror_mode": {
    "name": "ipython",
    "version": 3
   },
   "file_extension": ".py",
   "mimetype": "text/x-python",
   "name": "python",
   "nbconvert_exporter": "python",
   "pygments_lexer": "ipython3",
   "version": "3.10.4"
  },
  "orig_nbformat": 4,
  "vscode": {
   "interpreter": {
    "hash": "c81d839d3c4227cd770621df97fe8191838af02e7eef185a922d8250cb33d344"
   }
  }
 },
 "nbformat": 4,
 "nbformat_minor": 2
}
