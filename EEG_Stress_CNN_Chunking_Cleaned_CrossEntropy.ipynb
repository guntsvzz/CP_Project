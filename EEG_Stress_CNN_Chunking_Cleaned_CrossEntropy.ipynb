{
  "nbformat": 4,
  "nbformat_minor": 0,
  "metadata": {
    "colab": {
      "provenance": [],
      "authorship_tag": "ABX9TyOc9dOEsQRU7p39/VPgPjxG",
      "include_colab_link": true
    },
    "kernelspec": {
      "name": "python3",
      "display_name": "Python 3"
    },
    "language_info": {
      "name": "python"
    },
    "accelerator": "GPU",
    "gpuClass": "standard"
  },
  "cells": [
    {
      "cell_type": "markdown",
      "metadata": {
        "id": "view-in-github",
        "colab_type": "text"
      },
      "source": [
        "<a href=\"https://colab.research.google.com/github/guntsvzz/CP_Project/blob/main/EEG_Stress_CNN_Chunking_Cleaned_CrossEntropy.ipynb\" target=\"_parent\"><img src=\"https://colab.research.google.com/assets/colab-badge.svg\" alt=\"Open In Colab\"/></a>"
      ]
    },
    {
      "cell_type": "code",
      "source": [
        "!pip install --upgrade --no-cache-dir gdown"
      ],
      "metadata": {
        "colab": {
          "base_uri": "https://localhost:8080/"
        },
        "id": "fwrERBtOU9hH",
        "outputId": "08754da5-e571-4e2f-e25d-b06c152c6bff"
      },
      "execution_count": 1,
      "outputs": [
        {
          "output_type": "stream",
          "name": "stdout",
          "text": [
            "Looking in indexes: https://pypi.org/simple, https://us-python.pkg.dev/colab-wheels/public/simple/\n",
            "Requirement already satisfied: gdown in /usr/local/lib/python3.7/dist-packages (4.5.4)\n",
            "Requirement already satisfied: requests[socks] in /usr/local/lib/python3.7/dist-packages (from gdown) (2.23.0)\n",
            "Requirement already satisfied: six in /usr/local/lib/python3.7/dist-packages (from gdown) (1.15.0)\n",
            "Requirement already satisfied: beautifulsoup4 in /usr/local/lib/python3.7/dist-packages (from gdown) (4.6.3)\n",
            "Requirement already satisfied: filelock in /usr/local/lib/python3.7/dist-packages (from gdown) (3.8.0)\n",
            "Requirement already satisfied: tqdm in /usr/local/lib/python3.7/dist-packages (from gdown) (4.64.1)\n",
            "Requirement already satisfied: chardet<4,>=3.0.2 in /usr/local/lib/python3.7/dist-packages (from requests[socks]->gdown) (3.0.4)\n",
            "Requirement already satisfied: idna<3,>=2.5 in /usr/local/lib/python3.7/dist-packages (from requests[socks]->gdown) (2.10)\n",
            "Requirement already satisfied: urllib3!=1.25.0,!=1.25.1,<1.26,>=1.21.1 in /usr/local/lib/python3.7/dist-packages (from requests[socks]->gdown) (1.24.3)\n",
            "Requirement already satisfied: certifi>=2017.4.17 in /usr/local/lib/python3.7/dist-packages (from requests[socks]->gdown) (2022.9.24)\n",
            "Requirement already satisfied: PySocks!=1.5.7,>=1.5.6 in /usr/local/lib/python3.7/dist-packages (from requests[socks]->gdown) (1.7.1)\n"
          ]
        }
      ]
    },
    {
      "cell_type": "code",
      "source": [
        "!gdown --id 1KZjrJfUrB_k1g8VUsohNpek_hvWNqGcr"
      ],
      "metadata": {
        "colab": {
          "base_uri": "https://localhost:8080/"
        },
        "id": "vup-n60iVEOK",
        "outputId": "3d2a553a-6cdd-442c-dddc-1ff0c2669e8d"
      },
      "execution_count": 2,
      "outputs": [
        {
          "output_type": "stream",
          "name": "stdout",
          "text": [
            "/usr/local/lib/python3.7/dist-packages/gdown/cli.py:125: FutureWarning: Option `--id` was deprecated in version 4.3.1 and will be removed in 5.0. You don't need to pass it anymore to use a file ID.\n",
            "  category=FutureWarning,\n",
            "Downloading...\n",
            "From: https://drive.google.com/uc?id=1KZjrJfUrB_k1g8VUsohNpek_hvWNqGcr\n",
            "To: /content/Clean_signal.zip\n",
            "100% 113M/113M [00:00<00:00, 259MB/s]\n"
          ]
        }
      ]
    },
    {
      "cell_type": "code",
      "source": [
        "!unzip '/content/Clean_signal.zip'\n",
        "#!mv '/content/clean_exp16' 'Cleaned_signal'"
      ],
      "metadata": {
        "id": "6pIlRs5wVA7D"
      },
      "execution_count": null,
      "outputs": []
    },
    {
      "cell_type": "code",
      "source": [
        "pip install mne"
      ],
      "metadata": {
        "colab": {
          "base_uri": "https://localhost:8080/"
        },
        "id": "pwzKGAORVEVK",
        "outputId": "fff96db0-4194-4e37-cc7c-376411db74ff"
      },
      "execution_count": 4,
      "outputs": [
        {
          "output_type": "stream",
          "name": "stdout",
          "text": [
            "Looking in indexes: https://pypi.org/simple, https://us-python.pkg.dev/colab-wheels/public/simple/\n",
            "Requirement already satisfied: mne in /usr/local/lib/python3.7/dist-packages (1.2.2)\n",
            "Requirement already satisfied: jinja2 in /usr/local/lib/python3.7/dist-packages (from mne) (2.11.3)\n",
            "Requirement already satisfied: numpy>=1.15.4 in /usr/local/lib/python3.7/dist-packages (from mne) (1.21.6)\n",
            "Requirement already satisfied: decorator in /usr/local/lib/python3.7/dist-packages (from mne) (4.4.2)\n",
            "Requirement already satisfied: tqdm in /usr/local/lib/python3.7/dist-packages (from mne) (4.64.1)\n",
            "Requirement already satisfied: matplotlib in /usr/local/lib/python3.7/dist-packages (from mne) (3.2.2)\n",
            "Requirement already satisfied: packaging in /usr/local/lib/python3.7/dist-packages (from mne) (21.3)\n",
            "Requirement already satisfied: pooch>=1.5 in /usr/local/lib/python3.7/dist-packages (from mne) (1.6.0)\n",
            "Requirement already satisfied: scipy>=1.1.0 in /usr/local/lib/python3.7/dist-packages (from mne) (1.7.3)\n",
            "Requirement already satisfied: appdirs>=1.3.0 in /usr/local/lib/python3.7/dist-packages (from pooch>=1.5->mne) (1.4.4)\n",
            "Requirement already satisfied: requests>=2.19.0 in /usr/local/lib/python3.7/dist-packages (from pooch>=1.5->mne) (2.23.0)\n",
            "Requirement already satisfied: pyparsing!=3.0.5,>=2.0.2 in /usr/local/lib/python3.7/dist-packages (from packaging->mne) (3.0.9)\n",
            "Requirement already satisfied: idna<3,>=2.5 in /usr/local/lib/python3.7/dist-packages (from requests>=2.19.0->pooch>=1.5->mne) (2.10)\n",
            "Requirement already satisfied: urllib3!=1.25.0,!=1.25.1,<1.26,>=1.21.1 in /usr/local/lib/python3.7/dist-packages (from requests>=2.19.0->pooch>=1.5->mne) (1.24.3)\n",
            "Requirement already satisfied: certifi>=2017.4.17 in /usr/local/lib/python3.7/dist-packages (from requests>=2.19.0->pooch>=1.5->mne) (2022.9.24)\n",
            "Requirement already satisfied: chardet<4,>=3.0.2 in /usr/local/lib/python3.7/dist-packages (from requests>=2.19.0->pooch>=1.5->mne) (3.0.4)\n",
            "Requirement already satisfied: MarkupSafe>=0.23 in /usr/local/lib/python3.7/dist-packages (from jinja2->mne) (2.0.1)\n",
            "Requirement already satisfied: cycler>=0.10 in /usr/local/lib/python3.7/dist-packages (from matplotlib->mne) (0.11.0)\n",
            "Requirement already satisfied: kiwisolver>=1.0.1 in /usr/local/lib/python3.7/dist-packages (from matplotlib->mne) (1.4.4)\n",
            "Requirement already satisfied: python-dateutil>=2.1 in /usr/local/lib/python3.7/dist-packages (from matplotlib->mne) (2.8.2)\n",
            "Requirement already satisfied: typing-extensions in /usr/local/lib/python3.7/dist-packages (from kiwisolver>=1.0.1->matplotlib->mne) (4.1.1)\n",
            "Requirement already satisfied: six>=1.5 in /usr/local/lib/python3.7/dist-packages (from python-dateutil>=2.1->matplotlib->mne) (1.15.0)\n"
          ]
        }
      ]
    },
    {
      "cell_type": "code",
      "source": [
        "pip install components"
      ],
      "metadata": {
        "colab": {
          "base_uri": "https://localhost:8080/"
        },
        "id": "w10ogyD1VEYJ",
        "outputId": "cf9e3829-eb19-4cd3-d680-43f2d57e3bdc"
      },
      "execution_count": 37,
      "outputs": [
        {
          "output_type": "stream",
          "name": "stdout",
          "text": [
            "Looking in indexes: https://pypi.org/simple, https://us-python.pkg.dev/colab-wheels/public/simple/\n",
            "Requirement already satisfied: components in /usr/local/lib/python3.7/dist-packages (1.2.8)\n"
          ]
        }
      ]
    },
    {
      "cell_type": "code",
      "source": [
        "import pickle\n",
        "import numpy as np\n",
        "import os\n",
        "import mne\n",
        "import pandas as pd\n",
        "pickle.format_version\n",
        "\n",
        "import torch\n",
        "import torch.nn as nn\n",
        "import torch.nn.functional as F\n",
        "from torchvision import datasets, transforms  \n",
        "from torch.utils.data import DataLoader, Dataset  \n",
        "from torch.utils.data import TensorDataset\n",
        "from torch.autograd import Variable\n",
        "\n",
        "import pandas as pd\n",
        "from sklearn.metrics import confusion_matrix, ConfusionMatrixDisplay\n",
        "import matplotlib.pyplot as plt\n",
        "\n",
        "from sklearn.model_selection import train_test_split\n",
        "\n",
        "# setting seed so that splitting process and training process can be reproduce\n",
        "torch.manual_seed(42)"
      ],
      "metadata": {
        "colab": {
          "base_uri": "https://localhost:8080/"
        },
        "id": "oV3Wo3-mVEa9",
        "outputId": "ce5d2755-7629-448c-a2a9-14f1fa96fd56"
      },
      "execution_count": 38,
      "outputs": [
        {
          "output_type": "execute_result",
          "data": {
            "text/plain": [
              "<torch._C.Generator at 0x7fa6ca7c9af0>"
            ]
          },
          "metadata": {},
          "execution_count": 38
        }
      ]
    },
    {
      "cell_type": "markdown",
      "source": [
        "# ETL"
      ],
      "metadata": {
        "id": "6v7rkdizVS5M"
      }
    },
    {
      "cell_type": "code",
      "source": [
        "import os\n",
        "main_path = os.getcwd()\n",
        "filename = os.listdir(main_path + '/Clean_signal/')"
      ],
      "metadata": {
        "id": "RhLkEKQ1VEdx"
      },
      "execution_count": 39,
      "outputs": []
    },
    {
      "cell_type": "code",
      "source": [
        "filename = ['clean_exp01.csv',\n",
        " 'clean_exp02.csv',\n",
        " 'clean_exp03.csv',\n",
        " 'clean_exp04.csv',\n",
        " 'clean_exp05.csv',\n",
        " 'clean_exp06.csv',\n",
        " 'clean_exp07.csv',\n",
        " 'clean_exp08.csv',\n",
        " 'clean_exp09.csv',\n",
        " 'clean_exp10.csv',\n",
        " 'clean_exp11.csv',\n",
        " 'clean_exp12.csv',\n",
        " 'clean_exp13.csv',\n",
        " 'clean_exp14.csv',\n",
        " 'clean_exp15.csv',\n",
        " 'clean_exp16.csv',\n",
        " 'clean_exp17.csv']"
      ],
      "metadata": {
        "id": "cLR-bCqaVEgo"
      },
      "execution_count": 40,
      "outputs": []
    },
    {
      "cell_type": "code",
      "source": [
        "all_file_path = main_path + '/Clean_signal/'\n",
        "X_list = list()\n",
        "for file in filename:\n",
        "    file_path = all_file_path + file\n",
        "    df = pd.read_csv(file_path, index_col=None)\n",
        "    df = df.loc[:, ~df.columns.str.contains('^Unnamed')]\n",
        "    X_list.append(df)  "
      ],
      "metadata": {
        "id": "IT1a4C7WUiup"
      },
      "execution_count": 41,
      "outputs": []
    },
    {
      "cell_type": "code",
      "source": [
        "df.head()"
      ],
      "metadata": {
        "colab": {
          "base_uri": "https://localhost:8080/",
          "height": 270
        },
        "id": "COY-Jz-ZUiyo",
        "outputId": "dfad6567-c70c-411e-ac13-50401576dd51"
      },
      "execution_count": 42,
      "outputs": [
        {
          "output_type": "execute_result",
          "data": {
            "text/plain": [
              "            Fp1           Fp2            F7            F3            F4  \\\n",
              "0  1.558541e-13  1.202787e-12 -1.822815e-12 -6.666149e-13 -1.524659e-14   \n",
              "1 -2.495299e+02 -2.591266e+02 -2.392414e+02 -2.472481e+02 -1.342918e+02   \n",
              "2 -1.022146e+02 -1.071695e+02 -8.913196e+01 -9.320015e+01 -7.188064e+01   \n",
              "3 -1.894707e+02 -1.985657e+02 -1.666088e+02 -1.773347e+02 -1.206077e+02   \n",
              "4 -1.976600e+02 -2.088452e+02 -1.691085e+02 -1.829386e+02 -1.219805e+02   \n",
              "\n",
              "             F8            T3            C3            C4            T4  \\\n",
              "0 -9.656176e-14  1.778769e-13 -7.318365e-13 -3.218725e-14  6.776264e-15   \n",
              "1 -2.469675e+02 -2.368676e+02 -2.375381e+02  8.964020e+01  9.114929e+01   \n",
              "2 -9.669399e+01 -7.360927e+01 -7.934479e+01 -8.483305e+00 -3.966042e+00   \n",
              "3 -1.861381e+02 -1.566157e+02 -1.616160e+02  1.053098e+01  1.359837e+01   \n",
              "4 -1.981792e+02 -1.664133e+02 -1.711082e+02  5.430791e+00  5.540176e+00   \n",
              "\n",
              "             T5            P3            P4            T6            O1  \\\n",
              "0  2.463172e-12 -5.293956e-13  1.679243e-13  2.774456e-12 -3.303428e-13   \n",
              "1  9.105020e+01  7.684951e+01  1.383037e+02 -4.155527e+02 -3.083336e+02   \n",
              "2  6.921319e-02 -5.860820e+00  6.340924e+00 -1.006591e+02 -7.385641e+01   \n",
              "3  2.570865e+01  1.375228e+01  4.319836e+01 -2.383818e+02 -1.751361e+02   \n",
              "4  2.039321e+01  9.522058e+00  4.153111e+01 -2.713544e+02 -1.985949e+02   \n",
              "\n",
              "             O2  \n",
              "0  2.217109e-13  \n",
              "1 -1.145710e+02  \n",
              "2 -3.186257e+01  \n",
              "3 -7.472951e+01  \n",
              "4 -9.082392e+01  "
            ],
            "text/html": [
              "\n",
              "  <div id=\"df-4a6473f1-85fa-4d54-a1a7-57104d4fd666\">\n",
              "    <div class=\"colab-df-container\">\n",
              "      <div>\n",
              "<style scoped>\n",
              "    .dataframe tbody tr th:only-of-type {\n",
              "        vertical-align: middle;\n",
              "    }\n",
              "\n",
              "    .dataframe tbody tr th {\n",
              "        vertical-align: top;\n",
              "    }\n",
              "\n",
              "    .dataframe thead th {\n",
              "        text-align: right;\n",
              "    }\n",
              "</style>\n",
              "<table border=\"1\" class=\"dataframe\">\n",
              "  <thead>\n",
              "    <tr style=\"text-align: right;\">\n",
              "      <th></th>\n",
              "      <th>Fp1</th>\n",
              "      <th>Fp2</th>\n",
              "      <th>F7</th>\n",
              "      <th>F3</th>\n",
              "      <th>F4</th>\n",
              "      <th>F8</th>\n",
              "      <th>T3</th>\n",
              "      <th>C3</th>\n",
              "      <th>C4</th>\n",
              "      <th>T4</th>\n",
              "      <th>T5</th>\n",
              "      <th>P3</th>\n",
              "      <th>P4</th>\n",
              "      <th>T6</th>\n",
              "      <th>O1</th>\n",
              "      <th>O2</th>\n",
              "    </tr>\n",
              "  </thead>\n",
              "  <tbody>\n",
              "    <tr>\n",
              "      <th>0</th>\n",
              "      <td>1.558541e-13</td>\n",
              "      <td>1.202787e-12</td>\n",
              "      <td>-1.822815e-12</td>\n",
              "      <td>-6.666149e-13</td>\n",
              "      <td>-1.524659e-14</td>\n",
              "      <td>-9.656176e-14</td>\n",
              "      <td>1.778769e-13</td>\n",
              "      <td>-7.318365e-13</td>\n",
              "      <td>-3.218725e-14</td>\n",
              "      <td>6.776264e-15</td>\n",
              "      <td>2.463172e-12</td>\n",
              "      <td>-5.293956e-13</td>\n",
              "      <td>1.679243e-13</td>\n",
              "      <td>2.774456e-12</td>\n",
              "      <td>-3.303428e-13</td>\n",
              "      <td>2.217109e-13</td>\n",
              "    </tr>\n",
              "    <tr>\n",
              "      <th>1</th>\n",
              "      <td>-2.495299e+02</td>\n",
              "      <td>-2.591266e+02</td>\n",
              "      <td>-2.392414e+02</td>\n",
              "      <td>-2.472481e+02</td>\n",
              "      <td>-1.342918e+02</td>\n",
              "      <td>-2.469675e+02</td>\n",
              "      <td>-2.368676e+02</td>\n",
              "      <td>-2.375381e+02</td>\n",
              "      <td>8.964020e+01</td>\n",
              "      <td>9.114929e+01</td>\n",
              "      <td>9.105020e+01</td>\n",
              "      <td>7.684951e+01</td>\n",
              "      <td>1.383037e+02</td>\n",
              "      <td>-4.155527e+02</td>\n",
              "      <td>-3.083336e+02</td>\n",
              "      <td>-1.145710e+02</td>\n",
              "    </tr>\n",
              "    <tr>\n",
              "      <th>2</th>\n",
              "      <td>-1.022146e+02</td>\n",
              "      <td>-1.071695e+02</td>\n",
              "      <td>-8.913196e+01</td>\n",
              "      <td>-9.320015e+01</td>\n",
              "      <td>-7.188064e+01</td>\n",
              "      <td>-9.669399e+01</td>\n",
              "      <td>-7.360927e+01</td>\n",
              "      <td>-7.934479e+01</td>\n",
              "      <td>-8.483305e+00</td>\n",
              "      <td>-3.966042e+00</td>\n",
              "      <td>6.921319e-02</td>\n",
              "      <td>-5.860820e+00</td>\n",
              "      <td>6.340924e+00</td>\n",
              "      <td>-1.006591e+02</td>\n",
              "      <td>-7.385641e+01</td>\n",
              "      <td>-3.186257e+01</td>\n",
              "    </tr>\n",
              "    <tr>\n",
              "      <th>3</th>\n",
              "      <td>-1.894707e+02</td>\n",
              "      <td>-1.985657e+02</td>\n",
              "      <td>-1.666088e+02</td>\n",
              "      <td>-1.773347e+02</td>\n",
              "      <td>-1.206077e+02</td>\n",
              "      <td>-1.861381e+02</td>\n",
              "      <td>-1.566157e+02</td>\n",
              "      <td>-1.616160e+02</td>\n",
              "      <td>1.053098e+01</td>\n",
              "      <td>1.359837e+01</td>\n",
              "      <td>2.570865e+01</td>\n",
              "      <td>1.375228e+01</td>\n",
              "      <td>4.319836e+01</td>\n",
              "      <td>-2.383818e+02</td>\n",
              "      <td>-1.751361e+02</td>\n",
              "      <td>-7.472951e+01</td>\n",
              "    </tr>\n",
              "    <tr>\n",
              "      <th>4</th>\n",
              "      <td>-1.976600e+02</td>\n",
              "      <td>-2.088452e+02</td>\n",
              "      <td>-1.691085e+02</td>\n",
              "      <td>-1.829386e+02</td>\n",
              "      <td>-1.219805e+02</td>\n",
              "      <td>-1.981792e+02</td>\n",
              "      <td>-1.664133e+02</td>\n",
              "      <td>-1.711082e+02</td>\n",
              "      <td>5.430791e+00</td>\n",
              "      <td>5.540176e+00</td>\n",
              "      <td>2.039321e+01</td>\n",
              "      <td>9.522058e+00</td>\n",
              "      <td>4.153111e+01</td>\n",
              "      <td>-2.713544e+02</td>\n",
              "      <td>-1.985949e+02</td>\n",
              "      <td>-9.082392e+01</td>\n",
              "    </tr>\n",
              "  </tbody>\n",
              "</table>\n",
              "</div>\n",
              "      <button class=\"colab-df-convert\" onclick=\"convertToInteractive('df-4a6473f1-85fa-4d54-a1a7-57104d4fd666')\"\n",
              "              title=\"Convert this dataframe to an interactive table.\"\n",
              "              style=\"display:none;\">\n",
              "        \n",
              "  <svg xmlns=\"http://www.w3.org/2000/svg\" height=\"24px\"viewBox=\"0 0 24 24\"\n",
              "       width=\"24px\">\n",
              "    <path d=\"M0 0h24v24H0V0z\" fill=\"none\"/>\n",
              "    <path d=\"M18.56 5.44l.94 2.06.94-2.06 2.06-.94-2.06-.94-.94-2.06-.94 2.06-2.06.94zm-11 1L8.5 8.5l.94-2.06 2.06-.94-2.06-.94L8.5 2.5l-.94 2.06-2.06.94zm10 10l.94 2.06.94-2.06 2.06-.94-2.06-.94-.94-2.06-.94 2.06-2.06.94z\"/><path d=\"M17.41 7.96l-1.37-1.37c-.4-.4-.92-.59-1.43-.59-.52 0-1.04.2-1.43.59L10.3 9.45l-7.72 7.72c-.78.78-.78 2.05 0 2.83L4 21.41c.39.39.9.59 1.41.59.51 0 1.02-.2 1.41-.59l7.78-7.78 2.81-2.81c.8-.78.8-2.07 0-2.86zM5.41 20L4 18.59l7.72-7.72 1.47 1.35L5.41 20z\"/>\n",
              "  </svg>\n",
              "      </button>\n",
              "      \n",
              "  <style>\n",
              "    .colab-df-container {\n",
              "      display:flex;\n",
              "      flex-wrap:wrap;\n",
              "      gap: 12px;\n",
              "    }\n",
              "\n",
              "    .colab-df-convert {\n",
              "      background-color: #E8F0FE;\n",
              "      border: none;\n",
              "      border-radius: 50%;\n",
              "      cursor: pointer;\n",
              "      display: none;\n",
              "      fill: #1967D2;\n",
              "      height: 32px;\n",
              "      padding: 0 0 0 0;\n",
              "      width: 32px;\n",
              "    }\n",
              "\n",
              "    .colab-df-convert:hover {\n",
              "      background-color: #E2EBFA;\n",
              "      box-shadow: 0px 1px 2px rgba(60, 64, 67, 0.3), 0px 1px 3px 1px rgba(60, 64, 67, 0.15);\n",
              "      fill: #174EA6;\n",
              "    }\n",
              "\n",
              "    [theme=dark] .colab-df-convert {\n",
              "      background-color: #3B4455;\n",
              "      fill: #D2E3FC;\n",
              "    }\n",
              "\n",
              "    [theme=dark] .colab-df-convert:hover {\n",
              "      background-color: #434B5C;\n",
              "      box-shadow: 0px 1px 3px 1px rgba(0, 0, 0, 0.15);\n",
              "      filter: drop-shadow(0px 1px 2px rgba(0, 0, 0, 0.3));\n",
              "      fill: #FFFFFF;\n",
              "    }\n",
              "  </style>\n",
              "\n",
              "      <script>\n",
              "        const buttonEl =\n",
              "          document.querySelector('#df-4a6473f1-85fa-4d54-a1a7-57104d4fd666 button.colab-df-convert');\n",
              "        buttonEl.style.display =\n",
              "          google.colab.kernel.accessAllowed ? 'block' : 'none';\n",
              "\n",
              "        async function convertToInteractive(key) {\n",
              "          const element = document.querySelector('#df-4a6473f1-85fa-4d54-a1a7-57104d4fd666');\n",
              "          const dataTable =\n",
              "            await google.colab.kernel.invokeFunction('convertToInteractive',\n",
              "                                                     [key], {});\n",
              "          if (!dataTable) return;\n",
              "\n",
              "          const docLinkHtml = 'Like what you see? Visit the ' +\n",
              "            '<a target=\"_blank\" href=https://colab.research.google.com/notebooks/data_table.ipynb>data table notebook</a>'\n",
              "            + ' to learn more about interactive tables.';\n",
              "          element.innerHTML = '';\n",
              "          dataTable['output_type'] = 'display_data';\n",
              "          await google.colab.output.renderOutput(dataTable, element);\n",
              "          const docLink = document.createElement('div');\n",
              "          docLink.innerHTML = docLinkHtml;\n",
              "          element.appendChild(docLink);\n",
              "        }\n",
              "      </script>\n",
              "    </div>\n",
              "  </div>\n",
              "  "
            ]
          },
          "metadata": {},
          "execution_count": 42
        }
      ]
    },
    {
      "cell_type": "code",
      "source": [
        "X = np.array(X_list)\n",
        "X.shape \n",
        "#17 people \n",
        "#250 hz * 60 secs * 3 min\n",
        "#16 channels"
      ],
      "metadata": {
        "colab": {
          "base_uri": "https://localhost:8080/"
        },
        "id": "PEw38IzfV9Ze",
        "outputId": "0196e7a5-61ca-48ad-b112-09e8807ff088"
      },
      "execution_count": 43,
      "outputs": [
        {
          "output_type": "execute_result",
          "data": {
            "text/plain": [
              "(17, 45000, 16)"
            ]
          },
          "metadata": {},
          "execution_count": 43
        }
      ]
    },
    {
      "cell_type": "code",
      "source": [
        "# Reshape\n",
        "X = np.transpose(X, (0, 2, 1))\n",
        "X.shape"
      ],
      "metadata": {
        "colab": {
          "base_uri": "https://localhost:8080/"
        },
        "id": "2sJ3TIjQV9cz",
        "outputId": "ddcefbb2-b46c-4f43-9fda-bfb557727801"
      },
      "execution_count": 44,
      "outputs": [
        {
          "output_type": "execute_result",
          "data": {
            "text/plain": [
              "(17, 16, 45000)"
            ]
          },
          "metadata": {},
          "execution_count": 44
        }
      ]
    },
    {
      "cell_type": "code",
      "source": [
        "def vectorized_windowing(arr, window_len, overlap_len=None):\n",
        "    '''\n",
        "    Sliding window without using loop\n",
        "    '''\n",
        "    seq_len = arr.shape[-1]\n",
        "    \n",
        "    if not overlap_len:\n",
        "        overlap_len = window_len\n",
        "\n",
        "    n_sliding_windows = ((seq_len - window_len) // overlap_len) + 1\n",
        "\n",
        "    sub_windows = np.array([np.arange(window_len)]) + np.array([np.arange(n_sliding_windows) * overlap_len]).T\n",
        "\n",
        "    slided_arr = arr[..., sub_windows]\n",
        "\n",
        "    return slided_arr\n"
      ],
      "metadata": {
        "id": "x9lOPEaJ1Upc"
      },
      "execution_count": 45,
      "outputs": []
    },
    {
      "cell_type": "code",
      "source": [
        "X_chunked = vectorized_windowing(X, window_len=4500)\n",
        "X_chunked = np.swapaxes(X_chunked,1,2).reshape(-1, 16, 4500)\n",
        "\n",
        "print(X_chunked.shape)\n",
        "\n",
        "X = X_chunked.copy()\n",
        "\n",
        "# 17 people split in 10 chunks\n",
        "# 16 channels\n",
        "# 4500 signals "
      ],
      "metadata": {
        "colab": {
          "base_uri": "https://localhost:8080/"
        },
        "id": "-rG8-cd11Xm7",
        "outputId": "88a85010-ed23-4937-d7a4-ff0b1e5fc68f"
      },
      "execution_count": 46,
      "outputs": [
        {
          "output_type": "stream",
          "name": "stdout",
          "text": [
            "(170, 16, 4500)\n"
          ]
        }
      ]
    },
    {
      "cell_type": "code",
      "source": [
        "y_path = '/content/Clean_signal/PSS10 - Sheet1.csv'\n",
        "df = pd.read_csv(y_path)\n",
        "y = np.array(df['label'])\n",
        "y"
      ],
      "metadata": {
        "colab": {
          "base_uri": "https://localhost:8080/"
        },
        "id": "ACZEM4DBV9fl",
        "outputId": "6571b210-412a-4681-e8ef-c3be55284d84"
      },
      "execution_count": 47,
      "outputs": [
        {
          "output_type": "execute_result",
          "data": {
            "text/plain": [
              "array([1, 1, 1, 0, 0, 0, 0, 1, 0, 0, 0, 1, 0, 0, 0, 1, 1])"
            ]
          },
          "metadata": {},
          "execution_count": 47
        }
      ]
    },
    {
      "cell_type": "code",
      "source": [
        "y_chunked = np.repeat(y, 10)\n",
        "\n",
        "y = y_chunked.copy()"
      ],
      "metadata": {
        "id": "TEGVmz846DkW"
      },
      "execution_count": 48,
      "outputs": []
    },
    {
      "cell_type": "code",
      "source": [
        "y_chunked.shape"
      ],
      "metadata": {
        "colab": {
          "base_uri": "https://localhost:8080/"
        },
        "id": "gLXcEEK3s4BU",
        "outputId": "39d3ab3e-da47-4458-b0d2-cc56d939eaa5"
      },
      "execution_count": 49,
      "outputs": [
        {
          "output_type": "execute_result",
          "data": {
            "text/plain": [
              "(170,)"
            ]
          },
          "metadata": {},
          "execution_count": 49
        }
      ]
    },
    {
      "cell_type": "markdown",
      "source": [
        "# Split Data"
      ],
      "metadata": {
        "id": "nGw8680y-3N5"
      }
    },
    {
      "cell_type": "code",
      "source": [
        "X_train, X_test, y_train, y_test = train_test_split(X, y, test_size=0.2, shuffle = False, stratify = None)\n",
        "\n",
        "print(X_train.shape, X_test.shape, y_train.shape, y_test.shape)"
      ],
      "metadata": {
        "colab": {
          "base_uri": "https://localhost:8080/"
        },
        "id": "awnviaHZcdH7",
        "outputId": "c98e52b7-bde6-40a7-c7d3-31b7dbcde693"
      },
      "execution_count": 50,
      "outputs": [
        {
          "output_type": "stream",
          "name": "stdout",
          "text": [
            "(136, 16, 4500) (34, 16, 4500) (136,) (34,)\n"
          ]
        }
      ]
    },
    {
      "cell_type": "code",
      "source": [
        "print(X_test)"
      ],
      "metadata": {
        "colab": {
          "base_uri": "https://localhost:8080/"
        },
        "id": "4lNlvnIMXXMI",
        "outputId": "6bd0f03c-22f7-4dc1-8692-11a2a6e8bd58"
      },
      "execution_count": 51,
      "outputs": [
        {
          "output_type": "stream",
          "name": "stdout",
          "text": [
            "[[[ 7.84200330e+00  1.47207470e+01  1.42052595e+01 ... -5.89349247e+00\n",
            "   -1.51828042e+01 -2.08104358e+01]\n",
            "  [ 3.16583543e+00  8.26135009e+00  9.23106733e+00 ... -2.71454574e+01\n",
            "   -3.25662288e+01 -3.54135998e+01]\n",
            "  [ 2.32398500e+00  5.09731303e+00  3.61993697e-01 ... -1.74988647e+01\n",
            "   -2.87856476e+01 -3.47425425e+01]\n",
            "  ...\n",
            "  [-8.76076464e+00 -1.74142656e+00  5.77302593e-01 ...  2.39540520e+00\n",
            "    2.14318766e+00 -1.96665306e+00]\n",
            "  [ 3.02666012e+00  6.51500100e+00  4.10581095e+00 ...  3.91447209e+01\n",
            "    3.74479023e+01  2.25009333e+01]\n",
            "  [-1.46662092e+01 -3.50361569e+00  1.18964341e+00 ...  1.17311595e+01\n",
            "    1.10058886e+01 -3.73502614e+00]]\n",
            "\n",
            " [[-1.82454441e+01 -1.57154517e+01 -9.08109711e+00 ... -5.01454830e+00\n",
            "   -8.80962712e+00 -4.94259629e+00]\n",
            "  [-3.47973429e+01 -3.61339346e+01 -2.94382432e+01 ... -2.55171581e+00\n",
            "   -7.39142312e+00 -5.25420300e+00]\n",
            "  [-3.00576255e+01 -3.15323330e+01 -2.53430851e+01 ...  2.28278037e+00\n",
            "   -2.40692220e+00 -6.11756015e-02]\n",
            "  ...\n",
            "  [-2.07971800e+00 -2.52503017e-01  5.09790304e+00 ... -3.14076622e+00\n",
            "   -4.28058327e+00 -7.12660240e+00]\n",
            "  [ 4.35591237e+00 -4.57899853e+00 -6.25330591e+00 ... -3.28461268e+01\n",
            "   -3.00851284e+01 -1.55351592e+01]\n",
            "  [-1.19161368e+01 -9.40704227e+00 -4.14098964e+00 ... -8.17306879e+00\n",
            "   -7.56269858e+00 -5.87773352e+00]]\n",
            "\n",
            " [[-2.55895094e+00 -5.78241185e+00 -1.94101434e+00 ...  1.02858771e+01\n",
            "    1.46039031e+01  8.81544340e+00]\n",
            "  [-3.93388416e+00 -5.59066990e+00 -4.68423117e+00 ...  4.26031693e-01\n",
            "    6.03638910e+00 -1.45738098e+00]\n",
            "  [ 8.42393571e+00  6.82235937e+00  4.25529333e+00 ...  1.95785361e+01\n",
            "    2.36030598e+01  1.66985685e+01]\n",
            "  ...\n",
            "  [-9.25299856e+00 -7.95336033e+00 -5.84309971e+00 ...  5.98576127e+00\n",
            "    1.47156705e+01  1.70193845e+01]\n",
            "  [-2.10494402e+00 -2.15289886e+00 -9.29289139e+00 ...  2.19074083e+01\n",
            "    2.74035879e+01  1.95985165e+01]\n",
            "  [-3.89282985e+00 -3.54409343e+00 -5.11216727e+00 ...  1.54793166e+01\n",
            "    1.73550575e+01  1.39748558e+01]]\n",
            "\n",
            " ...\n",
            "\n",
            " [[ 3.17531096e+01  3.28001297e+01  3.30714791e+01 ... -5.18032270e+00\n",
            "    6.71832316e-01 -1.65334382e+00]\n",
            "  [ 2.46521394e+01  2.64001551e+01  2.55888297e+01 ... -2.44915088e+00\n",
            "    6.21596000e+00  3.89736128e+00]\n",
            "  [ 3.85433008e+01  3.62744450e+01  3.28495352e+01 ... -7.78193969e+00\n",
            "   -4.88275784e+00 -1.17770283e+01]\n",
            "  ...\n",
            "  [ 6.27970587e+01  6.75369204e+01  7.25241459e+01 ...  1.47631630e+01\n",
            "    1.11632825e+01  9.97103668e-01]\n",
            "  [-2.76864694e+00 -3.87042386e+00 -8.53924951e-01 ...  7.86840864e+00\n",
            "    4.28568100e+00 -5.32936869e+00]\n",
            "  [-2.27726663e+01 -9.83800172e+00  2.91855996e+00 ... -5.06363240e-02\n",
            "   -5.37021047e+00 -1.10162400e+01]]\n",
            "\n",
            " [[-1.03845318e+00  1.46715954e+01  2.16027717e+01 ...  5.97502281e-01\n",
            "    9.50369863e+00  2.27134810e+01]\n",
            "  [ 2.67038823e+00  2.21784941e+01  3.30299691e+01 ...  1.79567409e+00\n",
            "    1.40727621e+01  3.22251139e+01]\n",
            "  [-1.30335234e+01  1.36390143e+00  9.31477142e+00 ... -8.27321998e+00\n",
            "    2.59472689e+00  1.54252150e+01]\n",
            "  ...\n",
            "  [-4.10438533e+00 -6.39680547e+00 -9.85097543e+00 ... -1.79668183e+01\n",
            "   -1.63830837e+01 -8.95476878e+00]\n",
            "  [-9.40488240e+00 -8.89058515e+00 -8.43275640e+00 ...  4.13391765e+00\n",
            "    9.77695490e-01  1.58381483e+00]\n",
            "  [-1.21702694e+01 -1.36673843e+01 -1.26007425e+01 ... -6.81864220e+00\n",
            "   -1.32554064e+01 -1.38373846e+01]]\n",
            "\n",
            " [[-4.88985611e+00  3.11771092e+00  6.51197896e+00 ... -2.20719563e+01\n",
            "   -1.13576914e+02  3.32036915e-13]\n",
            "  [ 4.55329838e-01  4.16656692e+00  1.19269709e+01 ... -2.59238206e+01\n",
            "   -1.20994091e+02 -2.14299336e-12]\n",
            "  [-1.41921417e+01 -4.10346916e+00  4.01353981e+00 ... -2.63955657e+01\n",
            "   -1.15157851e+02 -1.71058304e-12]\n",
            "  ...\n",
            "  [-1.43085275e+01 -1.75655533e+01 -1.73438179e+01 ... -1.25148914e+02\n",
            "   -5.55865478e+02 -2.68340038e-12]\n",
            "  [-4.68377952e+00 -7.31895181e+00 -8.14388028e+00 ... -1.09210646e+02\n",
            "   -4.88264616e+02 -1.35525272e-12]\n",
            "  [-1.22149249e+01 -1.64239501e+01 -1.50505326e+01 ... -5.95475034e+01\n",
            "   -3.09504495e+02  8.30092288e-14]]]\n"
          ]
        }
      ]
    },
    {
      "cell_type": "code",
      "source": [
        "print(X_test)"
      ],
      "metadata": {
        "colab": {
          "base_uri": "https://localhost:8080/"
        },
        "id": "N9Ih6_WEXtuo",
        "outputId": "2d878c4c-25b9-440f-be95-6a233ef12398"
      },
      "execution_count": 52,
      "outputs": [
        {
          "output_type": "stream",
          "name": "stdout",
          "text": [
            "[[[ 7.84200330e+00  1.47207470e+01  1.42052595e+01 ... -5.89349247e+00\n",
            "   -1.51828042e+01 -2.08104358e+01]\n",
            "  [ 3.16583543e+00  8.26135009e+00  9.23106733e+00 ... -2.71454574e+01\n",
            "   -3.25662288e+01 -3.54135998e+01]\n",
            "  [ 2.32398500e+00  5.09731303e+00  3.61993697e-01 ... -1.74988647e+01\n",
            "   -2.87856476e+01 -3.47425425e+01]\n",
            "  ...\n",
            "  [-8.76076464e+00 -1.74142656e+00  5.77302593e-01 ...  2.39540520e+00\n",
            "    2.14318766e+00 -1.96665306e+00]\n",
            "  [ 3.02666012e+00  6.51500100e+00  4.10581095e+00 ...  3.91447209e+01\n",
            "    3.74479023e+01  2.25009333e+01]\n",
            "  [-1.46662092e+01 -3.50361569e+00  1.18964341e+00 ...  1.17311595e+01\n",
            "    1.10058886e+01 -3.73502614e+00]]\n",
            "\n",
            " [[-1.82454441e+01 -1.57154517e+01 -9.08109711e+00 ... -5.01454830e+00\n",
            "   -8.80962712e+00 -4.94259629e+00]\n",
            "  [-3.47973429e+01 -3.61339346e+01 -2.94382432e+01 ... -2.55171581e+00\n",
            "   -7.39142312e+00 -5.25420300e+00]\n",
            "  [-3.00576255e+01 -3.15323330e+01 -2.53430851e+01 ...  2.28278037e+00\n",
            "   -2.40692220e+00 -6.11756015e-02]\n",
            "  ...\n",
            "  [-2.07971800e+00 -2.52503017e-01  5.09790304e+00 ... -3.14076622e+00\n",
            "   -4.28058327e+00 -7.12660240e+00]\n",
            "  [ 4.35591237e+00 -4.57899853e+00 -6.25330591e+00 ... -3.28461268e+01\n",
            "   -3.00851284e+01 -1.55351592e+01]\n",
            "  [-1.19161368e+01 -9.40704227e+00 -4.14098964e+00 ... -8.17306879e+00\n",
            "   -7.56269858e+00 -5.87773352e+00]]\n",
            "\n",
            " [[-2.55895094e+00 -5.78241185e+00 -1.94101434e+00 ...  1.02858771e+01\n",
            "    1.46039031e+01  8.81544340e+00]\n",
            "  [-3.93388416e+00 -5.59066990e+00 -4.68423117e+00 ...  4.26031693e-01\n",
            "    6.03638910e+00 -1.45738098e+00]\n",
            "  [ 8.42393571e+00  6.82235937e+00  4.25529333e+00 ...  1.95785361e+01\n",
            "    2.36030598e+01  1.66985685e+01]\n",
            "  ...\n",
            "  [-9.25299856e+00 -7.95336033e+00 -5.84309971e+00 ...  5.98576127e+00\n",
            "    1.47156705e+01  1.70193845e+01]\n",
            "  [-2.10494402e+00 -2.15289886e+00 -9.29289139e+00 ...  2.19074083e+01\n",
            "    2.74035879e+01  1.95985165e+01]\n",
            "  [-3.89282985e+00 -3.54409343e+00 -5.11216727e+00 ...  1.54793166e+01\n",
            "    1.73550575e+01  1.39748558e+01]]\n",
            "\n",
            " ...\n",
            "\n",
            " [[ 3.17531096e+01  3.28001297e+01  3.30714791e+01 ... -5.18032270e+00\n",
            "    6.71832316e-01 -1.65334382e+00]\n",
            "  [ 2.46521394e+01  2.64001551e+01  2.55888297e+01 ... -2.44915088e+00\n",
            "    6.21596000e+00  3.89736128e+00]\n",
            "  [ 3.85433008e+01  3.62744450e+01  3.28495352e+01 ... -7.78193969e+00\n",
            "   -4.88275784e+00 -1.17770283e+01]\n",
            "  ...\n",
            "  [ 6.27970587e+01  6.75369204e+01  7.25241459e+01 ...  1.47631630e+01\n",
            "    1.11632825e+01  9.97103668e-01]\n",
            "  [-2.76864694e+00 -3.87042386e+00 -8.53924951e-01 ...  7.86840864e+00\n",
            "    4.28568100e+00 -5.32936869e+00]\n",
            "  [-2.27726663e+01 -9.83800172e+00  2.91855996e+00 ... -5.06363240e-02\n",
            "   -5.37021047e+00 -1.10162400e+01]]\n",
            "\n",
            " [[-1.03845318e+00  1.46715954e+01  2.16027717e+01 ...  5.97502281e-01\n",
            "    9.50369863e+00  2.27134810e+01]\n",
            "  [ 2.67038823e+00  2.21784941e+01  3.30299691e+01 ...  1.79567409e+00\n",
            "    1.40727621e+01  3.22251139e+01]\n",
            "  [-1.30335234e+01  1.36390143e+00  9.31477142e+00 ... -8.27321998e+00\n",
            "    2.59472689e+00  1.54252150e+01]\n",
            "  ...\n",
            "  [-4.10438533e+00 -6.39680547e+00 -9.85097543e+00 ... -1.79668183e+01\n",
            "   -1.63830837e+01 -8.95476878e+00]\n",
            "  [-9.40488240e+00 -8.89058515e+00 -8.43275640e+00 ...  4.13391765e+00\n",
            "    9.77695490e-01  1.58381483e+00]\n",
            "  [-1.21702694e+01 -1.36673843e+01 -1.26007425e+01 ... -6.81864220e+00\n",
            "   -1.32554064e+01 -1.38373846e+01]]\n",
            "\n",
            " [[-4.88985611e+00  3.11771092e+00  6.51197896e+00 ... -2.20719563e+01\n",
            "   -1.13576914e+02  3.32036915e-13]\n",
            "  [ 4.55329838e-01  4.16656692e+00  1.19269709e+01 ... -2.59238206e+01\n",
            "   -1.20994091e+02 -2.14299336e-12]\n",
            "  [-1.41921417e+01 -4.10346916e+00  4.01353981e+00 ... -2.63955657e+01\n",
            "   -1.15157851e+02 -1.71058304e-12]\n",
            "  ...\n",
            "  [-1.43085275e+01 -1.75655533e+01 -1.73438179e+01 ... -1.25148914e+02\n",
            "   -5.55865478e+02 -2.68340038e-12]\n",
            "  [-4.68377952e+00 -7.31895181e+00 -8.14388028e+00 ... -1.09210646e+02\n",
            "   -4.88264616e+02 -1.35525272e-12]\n",
            "  [-1.22149249e+01 -1.64239501e+01 -1.50505326e+01 ... -5.95475034e+01\n",
            "   -3.09504495e+02  8.30092288e-14]]]\n"
          ]
        }
      ]
    },
    {
      "cell_type": "code",
      "source": [
        "X_train, X_val, y_train, y_val = train_test_split(X_train, y_train, test_size=0.1, random_state=999)\n",
        "print(X_train.shape, X_val.shape, y_train.shape, y_val.shape)"
      ],
      "metadata": {
        "colab": {
          "base_uri": "https://localhost:8080/"
        },
        "id": "TF6zuq4phP9E",
        "outputId": "bbbb32cb-99dd-44ec-c03f-7dd845fbfd97"
      },
      "execution_count": 53,
      "outputs": [
        {
          "output_type": "stream",
          "name": "stdout",
          "text": [
            "(122, 16, 4500) (14, 16, 4500) (122,) (14,)\n"
          ]
        }
      ]
    },
    {
      "cell_type": "code",
      "source": [
        "from sklearn.preprocessing import MinMaxScaler\n",
        "\n",
        "#scale transform each channel independently\n",
        "scalers = {}\n",
        "for i in range(X_train.shape[2]):\n",
        "    scalers[i] = MinMaxScaler(feature_range=(-1, 1))\n",
        "    X_train[:, :, i] = scalers[i].fit_transform(X_train[:, :, i]) \n",
        "\n",
        "for i in range(X_val.shape[2]):\n",
        "    X_val[:, :, i]   = scalers[i].transform(X_val[:, :, i])     \n",
        "    \n",
        "for i in range(X_test.shape[2]):\n",
        "    X_test[:, :, i]  = scalers[i].transform(X_test[:, :, i]) "
      ],
      "metadata": {
        "id": "BOOZBX7BhRpR"
      },
      "execution_count": 54,
      "outputs": []
    },
    {
      "cell_type": "code",
      "source": [
        "print(X_train.mean(), X_val.mean(), X_test.mean())\n",
        "print(X_train.min(), X_val.min(), X_test.min())\n",
        "print(X_train.max(), X_val.max(), X_test.max())"
      ],
      "metadata": {
        "colab": {
          "base_uri": "https://localhost:8080/"
        },
        "id": "TbYlRdOGhUKy",
        "outputId": "962fc0e4-e307-432f-902b-74e9cab3b0a5"
      },
      "execution_count": 55,
      "outputs": [
        {
          "output_type": "stream",
          "name": "stdout",
          "text": [
            "0.004228958769664231 0.004157039756496878 0.004641125739653987\n",
            "-1.0 -29.253222821649473 -257.7915643965592\n",
            "1.0000000000000004 15.788878605040534 870.0946728954643\n"
          ]
        }
      ]
    },
    {
      "cell_type": "markdown",
      "source": [
        "# Define Batch size and train,test, val loader"
      ],
      "metadata": {
        "id": "hOl5sDXo_C_C"
      }
    },
    {
      "cell_type": "code",
      "source": [
        "labels_unique, counts = np.unique(y, return_counts=True)\n",
        "labels_unique, counts"
      ],
      "metadata": {
        "colab": {
          "base_uri": "https://localhost:8080/"
        },
        "id": "PtLcK3oX4490",
        "outputId": "3d8b77c7-9f24-41c6-c6b6-fba8200d857b"
      },
      "execution_count": 68,
      "outputs": [
        {
          "output_type": "execute_result",
          "data": {
            "text/plain": [
              "(array([0, 1]), array([100,  70]))"
            ]
          },
          "metadata": {},
          "execution_count": 68
        }
      ]
    },
    {
      "cell_type": "code",
      "source": [
        "class_weights = [sum(counts) / c for c in counts]\n",
        "class_weights"
      ],
      "metadata": {
        "colab": {
          "base_uri": "https://localhost:8080/"
        },
        "id": "7FPSmd0l45BG",
        "outputId": "46c39880-ee79-438a-bc10-c0ab23e96ed8"
      },
      "execution_count": 69,
      "outputs": [
        {
          "output_type": "execute_result",
          "data": {
            "text/plain": [
              "[1.7, 2.4285714285714284]"
            ]
          },
          "metadata": {},
          "execution_count": 69
        }
      ]
    },
    {
      "cell_type": "code",
      "source": [
        "sample_weights_train = [class_weights[i] for i in y_train]\n",
        "sample_weights_val   = [class_weights[i] for i in y_val  ]\n",
        "sample_weights_test  = [class_weights[i] for i in y_test ]"
      ],
      "metadata": {
        "id": "Q7YdqqBb45Eb"
      },
      "execution_count": 70,
      "outputs": []
    },
    {
      "cell_type": "code",
      "source": [
        "from torch.utils.data import WeightedRandomSampler\n",
        "\n",
        "train_sampler = WeightedRandomSampler(sample_weights_train, len(y_train), replacement=True)\n",
        "val_sampler   = WeightedRandomSampler(sample_weights_val,   len(y_val),   replacement=True)\n",
        "test_sampler  = WeightedRandomSampler(sample_weights_test,  len(y_test),  replacement=True)"
      ],
      "metadata": {
        "id": "-PtwYNda45Hb"
      },
      "execution_count": 71,
      "outputs": []
    },
    {
      "cell_type": "code",
      "source": [
        "X_train_tensor = torch.tensor(X_train).to(torch.float32)\n",
        "y_train_tensor = torch.tensor(y_train).to(torch.float32)\n",
        "X_val_tensor = torch.tensor(X_val).to(torch.float32)\n",
        "y_val_tensor = torch.tensor(y_val).to(torch.float32)\n",
        "X_test_tensor = torch.tensor(X_test).to(torch.float32)\n",
        "y_test_tensor = torch.tensor(y_test).to(torch.float32)\n",
        "\n",
        "# Cast data to dataloader for more convenience\n",
        "training_set = TensorDataset(X_train_tensor, y_train_tensor)\n",
        "testing_set = TensorDataset(X_test_tensor, y_test_tensor)\n",
        "validation_set = TensorDataset(X_val_tensor, y_val_tensor)\n",
        "\n",
        "train_batch_size = 32\n",
        "val_batch_size = len(validation_set)\n",
        "test_batch_size = len(testing_set)\n",
        "\n",
        "train_loader = DataLoader(training_set, train_batch_size, shuffle=True)\n",
        "val_loader = DataLoader(validation_set, val_batch_size, shuffle=True)\n",
        "test_loader = DataLoader(testing_set, test_batch_size, shuffle=True)"
      ],
      "metadata": {
        "id": "Y1enUccbhXGK",
        "colab": {
          "base_uri": "https://localhost:8080/"
        },
        "outputId": "c6f11144-9ef5-4ba0-bbad-ab98970a13d8"
      },
      "execution_count": 72,
      "outputs": [
        {
          "output_type": "stream",
          "name": "stderr",
          "text": [
            "/usr/local/lib/python3.7/dist-packages/ipykernel_launcher.py:1: UserWarning: To copy construct from a tensor, it is recommended to use sourceTensor.clone().detach() or sourceTensor.clone().detach().requires_grad_(True), rather than torch.tensor(sourceTensor).\n",
            "  \"\"\"Entry point for launching an IPython kernel.\n",
            "/usr/local/lib/python3.7/dist-packages/ipykernel_launcher.py:2: UserWarning: To copy construct from a tensor, it is recommended to use sourceTensor.clone().detach() or sourceTensor.clone().detach().requires_grad_(True), rather than torch.tensor(sourceTensor).\n",
            "  \n",
            "/usr/local/lib/python3.7/dist-packages/ipykernel_launcher.py:3: UserWarning: To copy construct from a tensor, it is recommended to use sourceTensor.clone().detach() or sourceTensor.clone().detach().requires_grad_(True), rather than torch.tensor(sourceTensor).\n",
            "  This is separate from the ipykernel package so we can avoid doing imports until\n",
            "/usr/local/lib/python3.7/dist-packages/ipykernel_launcher.py:4: UserWarning: To copy construct from a tensor, it is recommended to use sourceTensor.clone().detach() or sourceTensor.clone().detach().requires_grad_(True), rather than torch.tensor(sourceTensor).\n",
            "  after removing the cwd from sys.path.\n"
          ]
        }
      ]
    },
    {
      "cell_type": "code",
      "source": [
        "for data, label in train_loader:\n",
        "  print(data)\n",
        "  break"
      ],
      "metadata": {
        "colab": {
          "base_uri": "https://localhost:8080/"
        },
        "id": "LEJ3VJt3huYw",
        "outputId": "79187cb7-eecb-436b-c4e2-dfd9d2e28bd9"
      },
      "execution_count": 73,
      "outputs": [
        {
          "output_type": "stream",
          "name": "stdout",
          "text": [
            "tensor([[[ 0.3031, -0.4840, -0.1088,  ...,  0.2323, -0.1638,  0.1631],\n",
            "         [ 0.2662,  0.8026,  0.4340,  ...,  0.7527,  0.8509,  0.4361],\n",
            "         [ 0.2177, -0.4508, -0.0103,  ..., -0.2989, -0.3481, -0.0748],\n",
            "         ...,\n",
            "         [ 0.5345, -0.6646, -0.1652,  ...,  0.7449,  0.1826,  0.6766],\n",
            "         [ 0.7735,  0.7443,  0.7472,  ...,  0.6961,  0.7309,  0.7674],\n",
            "         [ 0.7758,  0.6472, -0.0727,  ...,  0.9320,  0.8433,  0.7777]],\n",
            "\n",
            "        [[ 0.2281, -0.6209, -0.3902,  ...,  0.1062, -0.0179,  0.2365],\n",
            "         [ 0.1768,  0.7847,  0.2767,  ...,  0.5831,  0.8648,  0.3534],\n",
            "         [ 0.1330, -0.5682, -0.2445,  ..., -0.5274, -0.3122, -0.0651],\n",
            "         ...,\n",
            "         [ 0.5676, -0.6299, -0.0749,  ...,  0.7452,  0.1817,  0.6845],\n",
            "         [ 0.7676,  0.7389,  0.7483,  ...,  0.7048,  0.7344,  0.7627],\n",
            "         [ 0.7889,  0.7369,  0.1239,  ...,  0.9298,  0.8428,  0.7759]],\n",
            "\n",
            "        [[ 0.2174, -0.5526, -0.1723,  ...,  0.2441, -0.0668,  0.2701],\n",
            "         [ 0.3439,  0.8138,  0.4939,  ...,  0.6078,  0.8457,  0.6243],\n",
            "         [ 0.2174, -0.4772, -0.0663,  ..., -0.5755, -0.5091, -0.2306],\n",
            "         ...,\n",
            "         [ 0.7521, -0.5333,  0.1529,  ...,  0.8305,  0.2021,  0.6605],\n",
            "         [ 0.7737,  0.7479,  0.7549,  ...,  0.7104,  0.7420,  0.7736],\n",
            "         [ 0.7456,  0.6407, -0.0115,  ...,  0.9485,  0.8579,  0.7804]],\n",
            "\n",
            "        ...,\n",
            "\n",
            "        [[ 0.3851, -0.4415, -0.1234,  ...,  0.3391,  0.0373,  0.3439],\n",
            "         [ 0.4270,  0.7906,  0.3526,  ...,  0.8327,  0.9002,  0.3949],\n",
            "         [ 0.1926, -0.5533, -0.1820,  ..., -0.2589, -0.2087,  0.0038],\n",
            "         ...,\n",
            "         [ 0.5706, -0.6686, -0.2056,  ...,  0.8758,  0.2881,  0.8931],\n",
            "         [ 0.7730,  0.7440,  0.7477,  ...,  0.7084,  0.7386,  0.7686],\n",
            "         [ 0.7370,  0.6162, -0.0609,  ...,  0.9581,  0.8657,  0.7836]],\n",
            "\n",
            "        [[ 0.2976,  0.8540,  0.2041,  ..., -0.5557, -0.8031, -0.5739],\n",
            "         [ 0.2480,  1.0000,  0.6389,  ...,  0.2311,  0.7510, -0.3026],\n",
            "         [ 0.1970,  0.9790,  0.2522,  ..., -0.8667, -0.7728, -0.4051],\n",
            "         ...,\n",
            "         [ 0.4852, -0.4224,  0.0460,  ...,  0.7761,  0.1918,  0.6627],\n",
            "         [ 0.7734,  0.7912,  0.7654,  ...,  0.7007,  0.7297,  0.7585],\n",
            "         [ 0.7507,  0.8839,  0.1020,  ...,  0.9429,  0.8476,  0.7636]],\n",
            "\n",
            "        [[ 0.2856, -0.5410, -0.2222,  ...,  0.3841,  0.0301,  0.2407],\n",
            "         [ 0.1551,  0.7869,  0.3571,  ...,  0.7908,  0.8822,  0.5032],\n",
            "         [ 0.0259, -0.7286, -0.2459,  ..., -0.0733, -0.1246,  0.0117],\n",
            "         ...,\n",
            "         [ 0.5331, -0.6279, -0.0650,  ...,  0.8002,  0.2228,  0.7406],\n",
            "         [ 0.7587,  0.7351,  0.7403,  ...,  0.7093,  0.7447,  0.7805],\n",
            "         [ 0.8261,  0.7891,  0.2489,  ...,  0.9598,  0.8732,  0.7922]]],\n",
            "       device='cuda:0')\n"
          ]
        }
      ]
    },
    {
      "cell_type": "code",
      "source": [
        "data.shape"
      ],
      "metadata": {
        "colab": {
          "base_uri": "https://localhost:8080/"
        },
        "id": "PVMFMBwAjImF",
        "outputId": "75f701ac-5d47-4b80-a2d8-987bdb66eba5"
      },
      "execution_count": 74,
      "outputs": [
        {
          "output_type": "execute_result",
          "data": {
            "text/plain": [
              "torch.Size([26, 16, 4500])"
            ]
          },
          "metadata": {},
          "execution_count": 74
        }
      ]
    },
    {
      "cell_type": "code",
      "source": [
        "device = 'cuda' if torch.cuda.is_available() else 'cpu'\n",
        "device"
      ],
      "metadata": {
        "id": "HaiKzvgCjc3_",
        "colab": {
          "base_uri": "https://localhost:8080/",
          "height": 35
        },
        "outputId": "3b0c0bc8-a16d-442f-dbf2-494decc9554d"
      },
      "execution_count": 76,
      "outputs": [
        {
          "output_type": "execute_result",
          "data": {
            "text/plain": [
              "'cuda'"
            ],
            "application/vnd.google.colaboratory.intrinsic+json": {
              "type": "string"
            }
          },
          "metadata": {},
          "execution_count": 76
        }
      ]
    },
    {
      "cell_type": "markdown",
      "source": [
        "# CNN1D model"
      ],
      "metadata": {
        "id": "tMV89z27_HmH"
      }
    },
    {
      "cell_type": "code",
      "source": [
        "class eegConv1d(nn.Module):\n",
        "    def __init__(self, input_size = 16, out_size=2):\n",
        "        super().__init__()\n",
        "        self.c1 = nn.Conv1d(input_size, 50, kernel_size = 3)\n",
        "        self.c2 = nn.Conv1d(50, 30, kernel_size = 3)\n",
        "        self.relu = nn.ReLU()\n",
        "        self.dropout = nn.Dropout(p=0.5)\n",
        "        self.maxpool1d = nn.MaxPool1d(2,2)\n",
        "        self.linear = nn.Linear(30 * 2247, out_size) #taking the last hidden state\n",
        "        \n",
        "    def forward(self, seq):\n",
        "        #convo layer 8 -> 50 -> 30\n",
        "        #seq shape: (11, 50, 4500)\n",
        "        out = self.c1(seq)\n",
        "        out = self.relu(out)\n",
        "        out = self.dropout(out)\n",
        "        # out shape: (11, 50, 4500)\n",
        "        out = self.maxpool1d(out)\n",
        "        # out shape: (11, 50, 2247)\n",
        "        out = self.c2(out)\n",
        "        out = self.relu(out)\n",
        "        # out shape: (11, 30, 2247)\n",
        "        out = out.reshape(seq.size(0), -1)\n",
        "        #out shape: (30, 30*2247)\n",
        "        out = self.linear(out)\n",
        "        #out shape: (30*2247, 2)\n",
        "        return out"
      ],
      "metadata": {
        "id": "U0bk5XjGjoMk"
      },
      "execution_count": 95,
      "outputs": []
    },
    {
      "cell_type": "code",
      "source": [
        "import time\n",
        "\n",
        "def epoch_time(start_time, end_time):\n",
        "    elapsed_time = end_time - start_time\n",
        "    elapsed_mins = int(elapsed_time / 60)\n",
        "    elapsed_secs = int(elapsed_time - (elapsed_mins * 60))\n",
        "    return elapsed_mins, elapsed_secs"
      ],
      "metadata": {
        "id": "TIOLWwwXpMpw"
      },
      "execution_count": 78,
      "outputs": []
    },
    {
      "cell_type": "code",
      "source": [
        "# torch.manual_seed(999999)\n",
        "\n",
        "model = eegConv1d(input_size=16).to(device)\n",
        "criterion = nn.CrossEntropyLoss()\n",
        "optimizer = torch.optim.Adam(model.parameters(), lr = 0.0001)"
      ],
      "metadata": {
        "id": "Vy6ADHh2Ca9z"
      },
      "execution_count": 79,
      "outputs": []
    },
    {
      "cell_type": "code",
      "source": [
        "for testx, testy in train_loader:\n",
        "    print(testx.shape, testy.shape)\n",
        "    break"
      ],
      "metadata": {
        "colab": {
          "base_uri": "https://localhost:8080/"
        },
        "id": "sCuROkwArfmp",
        "outputId": "aeb69670-ae43-4df7-cd9b-f5a74f62150c"
      },
      "execution_count": 80,
      "outputs": [
        {
          "output_type": "stream",
          "name": "stdout",
          "text": [
            "torch.Size([26, 16, 4500]) torch.Size([26])\n"
          ]
        }
      ]
    },
    {
      "cell_type": "code",
      "source": [
        "torch.manual_seed(42)\n",
        "torch.manual_seed(17)\n",
        "torch.manual_seed(999)\n",
        "torch.manual_seed(200)\n",
        "torch.manual_seed(99)\n",
        "model_save_path = '/models/CNN1D_Chunking_Cleaned_CrossEntropy.pt'"
      ],
      "metadata": {
        "id": "hSkZxLWKsyqR"
      },
      "execution_count": 81,
      "outputs": []
    },
    {
      "cell_type": "code",
      "source": [
        "list_seed = [42, 17, 999, 200, 99]"
      ],
      "metadata": {
        "id": "DmLKb6M_tB7P"
      },
      "execution_count": 82,
      "outputs": []
    },
    {
      "cell_type": "code",
      "source": [
        "import os\n",
        "os.getcwd()"
      ],
      "metadata": {
        "colab": {
          "base_uri": "https://localhost:8080/",
          "height": 35
        },
        "id": "8jiT5xbK7sGT",
        "outputId": "977dc760-b321-4da2-93d3-962907aa9443"
      },
      "execution_count": 88,
      "outputs": [
        {
          "output_type": "execute_result",
          "data": {
            "text/plain": [
              "'/content'"
            ],
            "application/vnd.google.colaboratory.intrinsic+json": {
              "type": "string"
            }
          },
          "metadata": {},
          "execution_count": 88
        }
      ]
    },
    {
      "cell_type": "code",
      "source": [
        "from sklearn.metrics import confusion_matrix, ConfusionMatrixDisplay, accuracy_score\n",
        "\n",
        "for seed in list_seed:\n",
        "    torch.manual_seed(seed)\n",
        "    model_name = str(seed) + '_CNN1D_Chunking_Cleaned_CrossEntropy.pt'\n",
        "    model_save_path = '/content/models/' + model_name\n",
        "\n",
        "    for layer in model.children():\n",
        "        if hasattr(layer, 'reset_parameters'):\n",
        "            layer.reset_parameters()\n",
        "\n",
        "\n",
        "    epochs = 200\n",
        "\n",
        "    best_valid_loss = float('inf')\n",
        "    model.train()\n",
        "\n",
        "    train_losses = []\n",
        "    train_accs   = []\n",
        "    valid_losses = []\n",
        "    valid_accs   = []\n",
        "\n",
        "\n",
        "    #print(f\"Training {type(model).__name__}\")\n",
        "\n",
        "    for i in range(epochs):\n",
        "        train_total = 0\n",
        "        train_correct = 0\n",
        "        val_total   = 0  \n",
        "        val_correct = 0\n",
        "        train_acc   = 0\n",
        "        val_acc     = 0\n",
        "        \n",
        "        for X_train, y_train in train_loader:\n",
        "        \n",
        "            start_time = time.time()\n",
        "            \n",
        "            X_train = X_train.float().to(device)\n",
        "            y_train = y_train.type(torch.LongTensor).to(device)\n",
        "\n",
        "            #print(X_train.shape, X_train.dtype)\n",
        "\n",
        "            yhat_train = model(X_train)\n",
        "            \n",
        "            #train acc\n",
        "            _, predicted = torch.max(yhat_train.data, 1)  #returns max value, indices\n",
        "            train_total += y_train.size(0)  #keep track of total\n",
        "            train_correct += (predicted == y_train).sum().item()  #.item() give the raw number\n",
        "            train_acc = 100 * (train_correct / train_total)\n",
        "            \n",
        "            #print(y_train.shape, y_train.dtype)\n",
        "            \n",
        "            train_loss = criterion(yhat_train, y_train)\n",
        "            optimizer.zero_grad()\n",
        "            train_loss.backward()\n",
        "            optimizer.step()\n",
        "\n",
        "            end_time = time.time()\n",
        "        \n",
        "\n",
        "            #val accuracy\n",
        "            model.eval()\n",
        "            with torch.no_grad():\n",
        "                for X_val, y_val in val_loader:\n",
        "                    X_val = X_val.float().to(device)\n",
        "                    y_val = y_val.type(torch.LongTensor).to(device)\n",
        "                    yhat_val  = model(X_val)\n",
        "                    val_loss     = criterion(yhat_val, y_val)\n",
        "                    _, predicted = torch.max(yhat_val.data, 1)  #returns max value, indices\n",
        "                    val_total += y_val.size(0)  #keep track of total\n",
        "                    val_correct += (predicted == y_val).sum().item()  #.item() give the raw number\n",
        "                    val_acc = 100 * (val_correct / val_total)\n",
        "\n",
        "            #save the best model\n",
        "            if  val_loss < best_valid_loss:\n",
        "                best_valid_loss = val_loss\n",
        "                #print(\"Model:{} saved.\".format(type(model).__name__))\n",
        "\n",
        "                S_train_acc = train_acc\n",
        "                S_train_loss = train_loss\n",
        "\n",
        "                S_val_acc = val_acc\n",
        "                S_val_loss = val_loss\n",
        "\n",
        "                torch.save(model.state_dict(), model_save_path)\n",
        "                best_model_index = i\n",
        "                \n",
        "            model.train()\n",
        "            epoch_mins, epoch_secs = epoch_time(start_time, end_time)\n",
        "\n",
        "\n",
        "                        #for plotting\n",
        "            train_losses.append(train_loss.item())\n",
        "            train_accs  .append(train_acc)\n",
        "            valid_losses.append(val_loss.item())\n",
        "            valid_accs  .append(val_acc)\n",
        "\n",
        "    print(f\"Seed {seed}: |\"+\n",
        "          f\"Epoch: {i:2.0f} | Train acc: {S_train_acc: 2.2f} | \" +\n",
        "          f\"loss: {S_train_loss:2.5f} | Val acc: {S_val_acc: 2.2f} | \" +\n",
        "          f\"loss: {S_val_loss:2.5f} | Time: {epoch_mins}m {epoch_secs}s\")\n",
        "        \n",
        "\n",
        "        # print(f'Seed {seed}: Training Accruacy = {train_acc}, Validation Accruacy {val_acc}, Train Loss = {train_losses}, Validation Loss = {val_loss}')"
      ],
      "metadata": {
        "colab": {
          "base_uri": "https://localhost:8080/"
        },
        "id": "cSm1yd75tCAU",
        "outputId": "2d1749ef-b2c3-4ed0-d9b4-f45f0f7290de"
      },
      "execution_count": 91,
      "outputs": [
        {
          "output_type": "stream",
          "name": "stdout",
          "text": [
            "Seed 42: |Epoch: 199 | Train acc:  65.38 | loss: 0.60007 | Val acc:  57.14 | loss: 0.70454 | Time: 0m 0s\n",
            "Seed 17: |Epoch: 199 | Train acc:  69.23 | loss: 0.59993 | Val acc:  57.14 | loss: 0.70209 | Time: 0m 0s\n",
            "Seed 999: |Epoch: 199 | Train acc:  76.92 | loss: 0.63632 | Val acc:  50.00 | loss: 0.70313 | Time: 0m 0s\n",
            "Seed 200: |Epoch: 199 | Train acc:  65.38 | loss: 0.61470 | Val acc:  57.14 | loss: 0.69052 | Time: 0m 0s\n",
            "Seed 99: |Epoch: 199 | Train acc:  73.08 | loss: 0.50477 | Val acc:  57.14 | loss: 0.69748 | Time: 0m 0s\n"
          ]
        }
      ]
    },
    {
      "cell_type": "code",
      "source": [
        "# Testing using Seed 200 as it seem to be the best\n",
        "s42_path = '/content/models/42_CNN1D_Chunking_Cleaned_CrossEntropy.pt'\n",
        "\n",
        "model = model = eegConv1d(input_size=16).to(device).to(device)\n",
        "model.load_state_dict(torch.load(s42_path))\n",
        "model.eval()\n",
        "result = model(X_test_tensor.to(device))\n",
        "\n",
        "_, predicted = torch.max(result.data, 1)\n",
        "\n",
        "yhat = predicted.detach().cpu().numpy()\n",
        "\n",
        "accuracy_score(y_test, yhat) * 100"
      ],
      "metadata": {
        "colab": {
          "base_uri": "https://localhost:8080/"
        },
        "id": "E4oTU6OrtJsX",
        "outputId": "4c2c4dcf-1960-485c-fd6f-a337c0a9b88a"
      },
      "execution_count": 103,
      "outputs": [
        {
          "output_type": "execute_result",
          "data": {
            "text/plain": [
              "41.17647058823529"
            ]
          },
          "metadata": {},
          "execution_count": 103
        }
      ]
    },
    {
      "cell_type": "code",
      "source": [
        "predicted"
      ],
      "metadata": {
        "colab": {
          "base_uri": "https://localhost:8080/"
        },
        "id": "puhCBOUmtJwA",
        "outputId": "bd44f7f9-e513-4b8e-98d5-be372175df8d"
      },
      "execution_count": 102,
      "outputs": [
        {
          "output_type": "execute_result",
          "data": {
            "text/plain": [
              "tensor([0, 0, 0, 0, 0, 0, 0, 0, 0, 0, 0, 0, 0, 0, 0, 0, 0, 0, 0, 0, 0, 0, 0, 0,\n",
              "        0, 0, 0, 0, 0, 0, 0, 0, 0, 0], device='cuda:0')"
            ]
          },
          "metadata": {},
          "execution_count": 102
        }
      ]
    },
    {
      "cell_type": "code",
      "source": [
        "import matplotlib.pyplot as plt\n",
        "fig = plt.figure(figsize=(10, 6))\n",
        "ax  = fig.add_subplot(1, 1, 1)\n",
        "ax.plot(train_losses, label = 'train loss')\n",
        "ax.plot(valid_losses, label = 'valid loss')\n",
        "plt.legend()\n",
        "ax.set_xlabel('updates')\n",
        "ax.set_ylabel('loss')"
      ],
      "metadata": {
        "colab": {
          "base_uri": "https://localhost:8080/",
          "height": 405
        },
        "id": "qq1ADeHJtCEj",
        "outputId": "4cca73d2-e14c-4811-bf64-caa9aa1df2b9"
      },
      "execution_count": 104,
      "outputs": [
        {
          "output_type": "execute_result",
          "data": {
            "text/plain": [
              "Text(0, 0.5, 'loss')"
            ]
          },
          "metadata": {},
          "execution_count": 104
        },
        {
          "output_type": "display_data",
          "data": {
            "text/plain": [
              "<Figure size 720x432 with 1 Axes>"
            ],
            "image/png": "[encoded data removed]"
          },
          "metadata": {
            "needs_background": "light"
          }
        }
      ]
    },
    {
      "cell_type": "code",
      "source": [
        "#train_losses"
      ],
      "metadata": {
        "id": "CSo4x3NBCoW7"
      },
      "execution_count": null,
      "outputs": []
    },
    {
      "cell_type": "code",
      "source": [
        "fig = plt.figure(figsize=(10, 6))\n",
        "ax  = fig.add_subplot(1, 1, 1)\n",
        "ax.plot(train_accs, label = 'train acc')\n",
        "ax.plot(valid_accs, label = 'valid acc')\n",
        "plt.legend()\n",
        "ax.set_xlabel('updates')\n",
        "ax.set_ylabel('acc')"
      ],
      "metadata": {
        "colab": {
          "base_uri": "https://localhost:8080/",
          "height": 405
        },
        "id": "O2oSUb9_G7uk",
        "outputId": "002c812e-20a5-4c75-e571-bc5a0a41f4e0"
      },
      "execution_count": 94,
      "outputs": [
        {
          "output_type": "execute_result",
          "data": {
            "text/plain": [
              "Text(0, 0.5, 'acc')"
            ]
          },
          "metadata": {},
          "execution_count": 94
        },
        {
          "output_type": "display_data",
          "data": {
            "text/plain": [
              "<Figure size 720x432 with 1 Axes>"
            ],
            "image/png": "[encoded data removed]"
          },
          "metadata": {
            "needs_background": "light"
          }
        }
      ]
    }
  ]
}