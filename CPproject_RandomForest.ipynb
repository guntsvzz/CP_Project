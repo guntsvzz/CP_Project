{
  "nbformat": 4,
  "nbformat_minor": 0,
  "metadata": {
    "colab": {
      "provenance": []
    },
    "kernelspec": {
      "name": "python3",
      "display_name": "Python 3"
    },
    "language_info": {
      "name": "python"
    },
    "gpuClass": "standard"
  },
  "cells": [
    {
      "cell_type": "code",
      "source": [
        "!pip install mne"
      ],
      "metadata": {
        "colab": {
          "base_uri": "https://localhost:8080/"
        },
        "id": "yPMR4CXdRor-",
        "outputId": "6478ea69-8126-4406-bf5f-65a3ec468eeb"
      },
      "execution_count": 1,
      "outputs": [
        {
          "output_type": "stream",
          "name": "stdout",
          "text": [
            "Looking in indexes: https://pypi.org/simple, https://us-python.pkg.dev/colab-wheels/public/simple/\n",
            "Collecting mne\n",
            "  Downloading mne-1.2.2-py3-none-any.whl (7.6 MB)\n",
            "\u001b[K     |████████████████████████████████| 7.6 MB 5.0 MB/s \n",
            "\u001b[?25hRequirement already satisfied: pooch>=1.5 in /usr/local/lib/python3.7/dist-packages (from mne) (1.6.0)\n",
            "Requirement already satisfied: matplotlib in /usr/local/lib/python3.7/dist-packages (from mne) (3.2.2)\n",
            "Requirement already satisfied: jinja2 in /usr/local/lib/python3.7/dist-packages (from mne) (2.11.3)\n",
            "Requirement already satisfied: decorator in /usr/local/lib/python3.7/dist-packages (from mne) (4.4.2)\n",
            "Requirement already satisfied: scipy>=1.1.0 in /usr/local/lib/python3.7/dist-packages (from mne) (1.7.3)\n",
            "Requirement already satisfied: tqdm in /usr/local/lib/python3.7/dist-packages (from mne) (4.64.1)\n",
            "Requirement already satisfied: packaging in /usr/local/lib/python3.7/dist-packages (from mne) (21.3)\n",
            "Requirement already satisfied: numpy>=1.15.4 in /usr/local/lib/python3.7/dist-packages (from mne) (1.21.6)\n",
            "Requirement already satisfied: appdirs>=1.3.0 in /usr/local/lib/python3.7/dist-packages (from pooch>=1.5->mne) (1.4.4)\n",
            "Requirement already satisfied: requests>=2.19.0 in /usr/local/lib/python3.7/dist-packages (from pooch>=1.5->mne) (2.23.0)\n",
            "Requirement already satisfied: pyparsing!=3.0.5,>=2.0.2 in /usr/local/lib/python3.7/dist-packages (from packaging->mne) (3.0.9)\n",
            "Requirement already satisfied: urllib3!=1.25.0,!=1.25.1,<1.26,>=1.21.1 in /usr/local/lib/python3.7/dist-packages (from requests>=2.19.0->pooch>=1.5->mne) (1.24.3)\n",
            "Requirement already satisfied: chardet<4,>=3.0.2 in /usr/local/lib/python3.7/dist-packages (from requests>=2.19.0->pooch>=1.5->mne) (3.0.4)\n",
            "Requirement already satisfied: idna<3,>=2.5 in /usr/local/lib/python3.7/dist-packages (from requests>=2.19.0->pooch>=1.5->mne) (2.10)\n",
            "Requirement already satisfied: certifi>=2017.4.17 in /usr/local/lib/python3.7/dist-packages (from requests>=2.19.0->pooch>=1.5->mne) (2022.9.24)\n",
            "Requirement already satisfied: MarkupSafe>=0.23 in /usr/local/lib/python3.7/dist-packages (from jinja2->mne) (2.0.1)\n",
            "Requirement already satisfied: cycler>=0.10 in /usr/local/lib/python3.7/dist-packages (from matplotlib->mne) (0.11.0)\n",
            "Requirement already satisfied: python-dateutil>=2.1 in /usr/local/lib/python3.7/dist-packages (from matplotlib->mne) (2.8.2)\n",
            "Requirement already satisfied: kiwisolver>=1.0.1 in /usr/local/lib/python3.7/dist-packages (from matplotlib->mne) (1.4.4)\n",
            "Requirement already satisfied: typing-extensions in /usr/local/lib/python3.7/dist-packages (from kiwisolver>=1.0.1->matplotlib->mne) (4.1.1)\n",
            "Requirement already satisfied: six>=1.5 in /usr/local/lib/python3.7/dist-packages (from python-dateutil>=2.1->matplotlib->mne) (1.15.0)\n",
            "Installing collected packages: mne\n",
            "Successfully installed mne-1.2.2\n"
          ]
        }
      ]
    },
    {
      "cell_type": "code",
      "source": [
        "import pickle\n",
        "import numpy as np\n",
        "import os\n",
        "import mne\n",
        "import pandas as pd\n",
        "pickle.format_version"
      ],
      "metadata": {
        "colab": {
          "base_uri": "https://localhost:8080/",
          "height": 36
        },
        "id": "gwPg2PozQcqB",
        "outputId": "b25ca866-b606-4aa5-92e1-3527c69b164d"
      },
      "execution_count": 2,
      "outputs": [
        {
          "output_type": "execute_result",
          "data": {
            "text/plain": [
              "'4.0'"
            ],
            "application/vnd.google.colaboratory.intrinsic+json": {
              "type": "string"
            }
          },
          "metadata": {},
          "execution_count": 2
        }
      ]
    },
    {
      "cell_type": "code",
      "source": [
        "from google.colab import drive\n",
        "drive.mount('/content/drive')"
      ],
      "metadata": {
        "colab": {
          "base_uri": "https://localhost:8080/"
        },
        "id": "QqOG0DBYRIUg",
        "outputId": "6d76cd10-7b6a-42ba-a7f9-fdeff458fe5c"
      },
      "execution_count": 3,
      "outputs": [
        {
          "output_type": "stream",
          "name": "stdout",
          "text": [
            "Mounted at /content/drive\n"
          ]
        }
      ]
    },
    {
      "cell_type": "code",
      "source": [
        "main_path = '/content/drive/MyDrive/Test_eeg'\n",
        "all_file = os.listdir(main_path)\n",
        "\n",
        "file_name = list()\n",
        "for file in all_file:\n",
        "    if file[0:3] == 'exp':\n",
        "      file_name.append(file)\n",
        "file_name = sorted(file_name)\n",
        "file = file_name[8:] + file_name[0:8]\n",
        "print(file)"
      ],
      "metadata": {
        "colab": {
          "base_uri": "https://localhost:8080/"
        },
        "id": "wcOEQa_ARHQG",
        "outputId": "b965a075-a9d8-451c-c331-9eba31104503"
      },
      "execution_count": 4,
      "outputs": [
        {
          "output_type": "stream",
          "name": "stdout",
          "text": [
            "['exp1_Ati.csv', 'exp2_Tonson.csv', 'exp3_Pyae.csv', 'exp4_Duc.csv', 'exp5_And.csv', 'exp6_Sayaka.csv', 'exp7_Suyoga.csv', 'exp8_Arti.csv', 'exp9_Amanda.csv', 'exp10_Sapna.csv', 'exp11_Data.csv', 'exp12_Jirasak.csv', 'exp13_Max.csv', 'exp14_Ayush.csv', 'exp15_Dipesh.csv', 'exp16_Shashank.csv', 'exp17_Mi.csv']\n"
          ]
        }
      ]
    },
    {
      "cell_type": "code",
      "source": [
        "df = pd.read_csv(main_path + '/' + file[0])\n",
        "df = df.drop(columns=['Unnamed: 0', '0', '17', '18', '19', '20', '21', '22',\n",
        "       '23', '24', '25', '26', '27', '28', '29', '30', '31'])\n",
        "df.columns = ['Fp1', 'Fp2', 'F7', 'F3', 'F4', 'F8', 'T3', 'C3', 'C4', 'T4', 'T5', 'P3', 'P4', 'T6', 'O1', 'O2']\n",
        "df"
      ],
      "metadata": {
        "colab": {
          "base_uri": "https://localhost:8080/",
          "height": 488
        },
        "id": "GTLfzQ-VSKxW",
        "outputId": "c55669ea-3c27-4316-9377-fe3f6d2159c8"
      },
      "execution_count": 5,
      "outputs": [
        {
          "output_type": "execute_result",
          "data": {
            "text/plain": [
              "               Fp1          Fp2            F7           F3           F4  \\\n",
              "0     -3203.250850 -7278.934989 -22030.236963 -9343.319755 -3711.417760   \n",
              "1     -3201.261544 -7280.209038 -22023.464384 -9339.251738 -3717.095103   \n",
              "2     -3196.210050 -7273.592922 -22024.492565 -9336.636583 -3709.696676   \n",
              "3     -3200.680399 -7275.045785 -22027.152422 -9340.548139 -3711.887146   \n",
              "4     -3200.434530 -7280.454907 -22023.263219 -9337.888281 -3719.866719   \n",
              "...            ...          ...           ...          ...          ...   \n",
              "44995 -1023.687544 -4436.709516 -24608.175410 -7672.683319  -870.712205   \n",
              "44996 -1016.534986 -4433.557920 -24602.051032 -7667.207142  -870.868667   \n",
              "44997 -1015.238585 -4427.813521 -24602.676881 -7664.524932  -859.826906   \n",
              "44998 -1018.189015 -4432.820312 -24600.844038 -7668.280026  -871.963903   \n",
              "44999 -1012.243451 -4424.617222 -24602.632177 -7664.100249  -860.475106   \n",
              "\n",
              "                F8            T3           C3            C4           T4  \\\n",
              "0      2255.693347 -12633.653001  3538.079982 -22537.129824 -5153.306443   \n",
              "1      2254.843981 -12623.482957  3549.121743 -22528.434995 -5154.111106   \n",
              "2      2258.263798 -12628.355638  3541.052764 -22536.682789 -5150.914806   \n",
              "3      2257.839114 -12625.986353  3540.337508 -22531.653646 -5155.362803   \n",
              "4      2250.083059 -12625.360504  3544.740801 -22535.162870 -5155.876894   \n",
              "...            ...           ...          ...           ...          ...   \n",
              "44995  3996.514260 -11068.561503  2068.966874 -19891.152667 -2561.196990   \n",
              "44996  3997.363627 -11064.828761  2070.620903 -19898.282873 -2560.526438   \n",
              "44997  4002.616287 -11067.220398  2069.458612 -19891.867923 -2558.313615   \n",
              "44998  4003.420949 -11061.364241  2073.280760 -19889.163362 -2559.073574   \n",
              "44999  4003.309191 -11065.476962  2068.184563 -19896.986472 -2556.748993   \n",
              "\n",
              "                 T5            P3            P4            T6            O1  \\\n",
              "0     -16958.246166 -12598.918390 -25105.434669 -17961.593623 -23601.229322   \n",
              "1     -16954.200501 -12597.577285 -25057.289011 -17954.262251 -23595.775496   \n",
              "2     -16955.631012 -12597.934913 -25113.861276 -17958.620841 -23597.206008   \n",
              "3     -16966.918643 -12605.355693 -25079.171369 -17968.075629 -23611.891104   \n",
              "4     -16955.586309 -12599.141908 -25085.094581 -17956.765647 -23594.814371   \n",
              "...             ...           ...           ...           ...           ...   \n",
              "44995 -15042.232280 -10727.473882 -23593.182694 -15365.058525 -21944.339209   \n",
              "44996 -15037.672524 -10726.758626 -23615.623846 -15353.480322 -21941.701703   \n",
              "44997 -15045.048600 -10730.424312 -23618.797793 -15361.482246 -21954.531605   \n",
              "44998 -15034.945611 -10725.953964 -23582.744429 -15350.127560 -21938.706570   \n",
              "44999 -15037.873690 -10727.071551 -23631.024197 -15354.642612 -21942.439311   \n",
              "\n",
              "                 O2  \n",
              "0     -12943.850511  \n",
              "1     -12940.073066  \n",
              "2     -12945.079857  \n",
              "3     -12950.332516  \n",
              "4     -12943.895214  \n",
              "...             ...  \n",
              "44995 -10726.311591  \n",
              "44996 -10729.016153  \n",
              "44997 -10730.089036  \n",
              "44998 -10721.908298  \n",
              "44999 -10726.669219  \n",
              "\n",
              "[45000 rows x 16 columns]"
            ],
            "text/html": [
              "\n",
              "  <div id=\"df-1d7381d1-8ea4-4771-87ee-755321ce3278\">\n",
              "    <div class=\"colab-df-container\">\n",
              "      <div>\n",
              "<style scoped>\n",
              "    .dataframe tbody tr th:only-of-type {\n",
              "        vertical-align: middle;\n",
              "    }\n",
              "\n",
              "    .dataframe tbody tr th {\n",
              "        vertical-align: top;\n",
              "    }\n",
              "\n",
              "    .dataframe thead th {\n",
              "        text-align: right;\n",
              "    }\n",
              "</style>\n",
              "<table border=\"1\" class=\"dataframe\">\n",
              "  <thead>\n",
              "    <tr style=\"text-align: right;\">\n",
              "      <th></th>\n",
              "      <th>Fp1</th>\n",
              "      <th>Fp2</th>\n",
              "      <th>F7</th>\n",
              "      <th>F3</th>\n",
              "      <th>F4</th>\n",
              "      <th>F8</th>\n",
              "      <th>T3</th>\n",
              "      <th>C3</th>\n",
              "      <th>C4</th>\n",
              "      <th>T4</th>\n",
              "      <th>T5</th>\n",
              "      <th>P3</th>\n",
              "      <th>P4</th>\n",
              "      <th>T6</th>\n",
              "      <th>O1</th>\n",
              "      <th>O2</th>\n",
              "    </tr>\n",
              "  </thead>\n",
              "  <tbody>\n",
              "    <tr>\n",
              "      <th>0</th>\n",
              "      <td>-3203.250850</td>\n",
              "      <td>-7278.934989</td>\n",
              "      <td>-22030.236963</td>\n",
              "      <td>-9343.319755</td>\n",
              "      <td>-3711.417760</td>\n",
              "      <td>2255.693347</td>\n",
              "      <td>-12633.653001</td>\n",
              "      <td>3538.079982</td>\n",
              "      <td>-22537.129824</td>\n",
              "      <td>-5153.306443</td>\n",
              "      <td>-16958.246166</td>\n",
              "      <td>-12598.918390</td>\n",
              "      <td>-25105.434669</td>\n",
              "      <td>-17961.593623</td>\n",
              "      <td>-23601.229322</td>\n",
              "      <td>-12943.850511</td>\n",
              "    </tr>\n",
              "    <tr>\n",
              "      <th>1</th>\n",
              "      <td>-3201.261544</td>\n",
              "      <td>-7280.209038</td>\n",
              "      <td>-22023.464384</td>\n",
              "      <td>-9339.251738</td>\n",
              "      <td>-3717.095103</td>\n",
              "      <td>2254.843981</td>\n",
              "      <td>-12623.482957</td>\n",
              "      <td>3549.121743</td>\n",
              "      <td>-22528.434995</td>\n",
              "      <td>-5154.111106</td>\n",
              "      <td>-16954.200501</td>\n",
              "      <td>-12597.577285</td>\n",
              "      <td>-25057.289011</td>\n",
              "      <td>-17954.262251</td>\n",
              "      <td>-23595.775496</td>\n",
              "      <td>-12940.073066</td>\n",
              "    </tr>\n",
              "    <tr>\n",
              "      <th>2</th>\n",
              "      <td>-3196.210050</td>\n",
              "      <td>-7273.592922</td>\n",
              "      <td>-22024.492565</td>\n",
              "      <td>-9336.636583</td>\n",
              "      <td>-3709.696676</td>\n",
              "      <td>2258.263798</td>\n",
              "      <td>-12628.355638</td>\n",
              "      <td>3541.052764</td>\n",
              "      <td>-22536.682789</td>\n",
              "      <td>-5150.914806</td>\n",
              "      <td>-16955.631012</td>\n",
              "      <td>-12597.934913</td>\n",
              "      <td>-25113.861276</td>\n",
              "      <td>-17958.620841</td>\n",
              "      <td>-23597.206008</td>\n",
              "      <td>-12945.079857</td>\n",
              "    </tr>\n",
              "    <tr>\n",
              "      <th>3</th>\n",
              "      <td>-3200.680399</td>\n",
              "      <td>-7275.045785</td>\n",
              "      <td>-22027.152422</td>\n",
              "      <td>-9340.548139</td>\n",
              "      <td>-3711.887146</td>\n",
              "      <td>2257.839114</td>\n",
              "      <td>-12625.986353</td>\n",
              "      <td>3540.337508</td>\n",
              "      <td>-22531.653646</td>\n",
              "      <td>-5155.362803</td>\n",
              "      <td>-16966.918643</td>\n",
              "      <td>-12605.355693</td>\n",
              "      <td>-25079.171369</td>\n",
              "      <td>-17968.075629</td>\n",
              "      <td>-23611.891104</td>\n",
              "      <td>-12950.332516</td>\n",
              "    </tr>\n",
              "    <tr>\n",
              "      <th>4</th>\n",
              "      <td>-3200.434530</td>\n",
              "      <td>-7280.454907</td>\n",
              "      <td>-22023.263219</td>\n",
              "      <td>-9337.888281</td>\n",
              "      <td>-3719.866719</td>\n",
              "      <td>2250.083059</td>\n",
              "      <td>-12625.360504</td>\n",
              "      <td>3544.740801</td>\n",
              "      <td>-22535.162870</td>\n",
              "      <td>-5155.876894</td>\n",
              "      <td>-16955.586309</td>\n",
              "      <td>-12599.141908</td>\n",
              "      <td>-25085.094581</td>\n",
              "      <td>-17956.765647</td>\n",
              "      <td>-23594.814371</td>\n",
              "      <td>-12943.895214</td>\n",
              "    </tr>\n",
              "    <tr>\n",
              "      <th>...</th>\n",
              "      <td>...</td>\n",
              "      <td>...</td>\n",
              "      <td>...</td>\n",
              "      <td>...</td>\n",
              "      <td>...</td>\n",
              "      <td>...</td>\n",
              "      <td>...</td>\n",
              "      <td>...</td>\n",
              "      <td>...</td>\n",
              "      <td>...</td>\n",
              "      <td>...</td>\n",
              "      <td>...</td>\n",
              "      <td>...</td>\n",
              "      <td>...</td>\n",
              "      <td>...</td>\n",
              "      <td>...</td>\n",
              "    </tr>\n",
              "    <tr>\n",
              "      <th>44995</th>\n",
              "      <td>-1023.687544</td>\n",
              "      <td>-4436.709516</td>\n",
              "      <td>-24608.175410</td>\n",
              "      <td>-7672.683319</td>\n",
              "      <td>-870.712205</td>\n",
              "      <td>3996.514260</td>\n",
              "      <td>-11068.561503</td>\n",
              "      <td>2068.966874</td>\n",
              "      <td>-19891.152667</td>\n",
              "      <td>-2561.196990</td>\n",
              "      <td>-15042.232280</td>\n",
              "      <td>-10727.473882</td>\n",
              "      <td>-23593.182694</td>\n",
              "      <td>-15365.058525</td>\n",
              "      <td>-21944.339209</td>\n",
              "      <td>-10726.311591</td>\n",
              "    </tr>\n",
              "    <tr>\n",
              "      <th>44996</th>\n",
              "      <td>-1016.534986</td>\n",
              "      <td>-4433.557920</td>\n",
              "      <td>-24602.051032</td>\n",
              "      <td>-7667.207142</td>\n",
              "      <td>-870.868667</td>\n",
              "      <td>3997.363627</td>\n",
              "      <td>-11064.828761</td>\n",
              "      <td>2070.620903</td>\n",
              "      <td>-19898.282873</td>\n",
              "      <td>-2560.526438</td>\n",
              "      <td>-15037.672524</td>\n",
              "      <td>-10726.758626</td>\n",
              "      <td>-23615.623846</td>\n",
              "      <td>-15353.480322</td>\n",
              "      <td>-21941.701703</td>\n",
              "      <td>-10729.016153</td>\n",
              "    </tr>\n",
              "    <tr>\n",
              "      <th>44997</th>\n",
              "      <td>-1015.238585</td>\n",
              "      <td>-4427.813521</td>\n",
              "      <td>-24602.676881</td>\n",
              "      <td>-7664.524932</td>\n",
              "      <td>-859.826906</td>\n",
              "      <td>4002.616287</td>\n",
              "      <td>-11067.220398</td>\n",
              "      <td>2069.458612</td>\n",
              "      <td>-19891.867923</td>\n",
              "      <td>-2558.313615</td>\n",
              "      <td>-15045.048600</td>\n",
              "      <td>-10730.424312</td>\n",
              "      <td>-23618.797793</td>\n",
              "      <td>-15361.482246</td>\n",
              "      <td>-21954.531605</td>\n",
              "      <td>-10730.089036</td>\n",
              "    </tr>\n",
              "    <tr>\n",
              "      <th>44998</th>\n",
              "      <td>-1018.189015</td>\n",
              "      <td>-4432.820312</td>\n",
              "      <td>-24600.844038</td>\n",
              "      <td>-7668.280026</td>\n",
              "      <td>-871.963903</td>\n",
              "      <td>4003.420949</td>\n",
              "      <td>-11061.364241</td>\n",
              "      <td>2073.280760</td>\n",
              "      <td>-19889.163362</td>\n",
              "      <td>-2559.073574</td>\n",
              "      <td>-15034.945611</td>\n",
              "      <td>-10725.953964</td>\n",
              "      <td>-23582.744429</td>\n",
              "      <td>-15350.127560</td>\n",
              "      <td>-21938.706570</td>\n",
              "      <td>-10721.908298</td>\n",
              "    </tr>\n",
              "    <tr>\n",
              "      <th>44999</th>\n",
              "      <td>-1012.243451</td>\n",
              "      <td>-4424.617222</td>\n",
              "      <td>-24602.632177</td>\n",
              "      <td>-7664.100249</td>\n",
              "      <td>-860.475106</td>\n",
              "      <td>4003.309191</td>\n",
              "      <td>-11065.476962</td>\n",
              "      <td>2068.184563</td>\n",
              "      <td>-19896.986472</td>\n",
              "      <td>-2556.748993</td>\n",
              "      <td>-15037.873690</td>\n",
              "      <td>-10727.071551</td>\n",
              "      <td>-23631.024197</td>\n",
              "      <td>-15354.642612</td>\n",
              "      <td>-21942.439311</td>\n",
              "      <td>-10726.669219</td>\n",
              "    </tr>\n",
              "  </tbody>\n",
              "</table>\n",
              "<p>45000 rows × 16 columns</p>\n",
              "</div>\n",
              "      <button class=\"colab-df-convert\" onclick=\"convertToInteractive('df-1d7381d1-8ea4-4771-87ee-755321ce3278')\"\n",
              "              title=\"Convert this dataframe to an interactive table.\"\n",
              "              style=\"display:none;\">\n",
              "        \n",
              "  <svg xmlns=\"http://www.w3.org/2000/svg\" height=\"24px\"viewBox=\"0 0 24 24\"\n",
              "       width=\"24px\">\n",
              "    <path d=\"M0 0h24v24H0V0z\" fill=\"none\"/>\n",
              "    <path d=\"M18.56 5.44l.94 2.06.94-2.06 2.06-.94-2.06-.94-.94-2.06-.94 2.06-2.06.94zm-11 1L8.5 8.5l.94-2.06 2.06-.94-2.06-.94L8.5 2.5l-.94 2.06-2.06.94zm10 10l.94 2.06.94-2.06 2.06-.94-2.06-.94-.94-2.06-.94 2.06-2.06.94z\"/><path d=\"M17.41 7.96l-1.37-1.37c-.4-.4-.92-.59-1.43-.59-.52 0-1.04.2-1.43.59L10.3 9.45l-7.72 7.72c-.78.78-.78 2.05 0 2.83L4 21.41c.39.39.9.59 1.41.59.51 0 1.02-.2 1.41-.59l7.78-7.78 2.81-2.81c.8-.78.8-2.07 0-2.86zM5.41 20L4 18.59l7.72-7.72 1.47 1.35L5.41 20z\"/>\n",
              "  </svg>\n",
              "      </button>\n",
              "      \n",
              "  <style>\n",
              "    .colab-df-container {\n",
              "      display:flex;\n",
              "      flex-wrap:wrap;\n",
              "      gap: 12px;\n",
              "    }\n",
              "\n",
              "    .colab-df-convert {\n",
              "      background-color: #E8F0FE;\n",
              "      border: none;\n",
              "      border-radius: 50%;\n",
              "      cursor: pointer;\n",
              "      display: none;\n",
              "      fill: #1967D2;\n",
              "      height: 32px;\n",
              "      padding: 0 0 0 0;\n",
              "      width: 32px;\n",
              "    }\n",
              "\n",
              "    .colab-df-convert:hover {\n",
              "      background-color: #E2EBFA;\n",
              "      box-shadow: 0px 1px 2px rgba(60, 64, 67, 0.3), 0px 1px 3px 1px rgba(60, 64, 67, 0.15);\n",
              "      fill: #174EA6;\n",
              "    }\n",
              "\n",
              "    [theme=dark] .colab-df-convert {\n",
              "      background-color: #3B4455;\n",
              "      fill: #D2E3FC;\n",
              "    }\n",
              "\n",
              "    [theme=dark] .colab-df-convert:hover {\n",
              "      background-color: #434B5C;\n",
              "      box-shadow: 0px 1px 3px 1px rgba(0, 0, 0, 0.15);\n",
              "      filter: drop-shadow(0px 1px 2px rgba(0, 0, 0, 0.3));\n",
              "      fill: #FFFFFF;\n",
              "    }\n",
              "  </style>\n",
              "\n",
              "      <script>\n",
              "        const buttonEl =\n",
              "          document.querySelector('#df-1d7381d1-8ea4-4771-87ee-755321ce3278 button.colab-df-convert');\n",
              "        buttonEl.style.display =\n",
              "          google.colab.kernel.accessAllowed ? 'block' : 'none';\n",
              "\n",
              "        async function convertToInteractive(key) {\n",
              "          const element = document.querySelector('#df-1d7381d1-8ea4-4771-87ee-755321ce3278');\n",
              "          const dataTable =\n",
              "            await google.colab.kernel.invokeFunction('convertToInteractive',\n",
              "                                                     [key], {});\n",
              "          if (!dataTable) return;\n",
              "\n",
              "          const docLinkHtml = 'Like what you see? Visit the ' +\n",
              "            '<a target=\"_blank\" href=https://colab.research.google.com/notebooks/data_table.ipynb>data table notebook</a>'\n",
              "            + ' to learn more about interactive tables.';\n",
              "          element.innerHTML = '';\n",
              "          dataTable['output_type'] = 'display_data';\n",
              "          await google.colab.output.renderOutput(dataTable, element);\n",
              "          const docLink = document.createElement('div');\n",
              "          docLink.innerHTML = docLinkHtml;\n",
              "          element.appendChild(docLink);\n",
              "        }\n",
              "      </script>\n",
              "    </div>\n",
              "  </div>\n",
              "  "
            ]
          },
          "metadata": {},
          "execution_count": 5
        }
      ]
    },
    {
      "cell_type": "code",
      "source": [
        "# Drop some columns and save it into the new file.\n",
        "\n",
        "for i in range(len(file)):\n",
        "    converted_signal_path = main_path + '/Converted_signal/' + 'Conv_' + file[i]\n",
        "    df = pd.read_csv(main_path + '/' + file[i])\n",
        "    df = df.drop(columns=['Unnamed: 0', '0', '17', '18', '19', '20', '21', '22',\n",
        "        '23', '24', '25', '26', '27', '28', '29', '30', '31'])\n",
        "    df.columns = ['Fp1', 'Fp2', 'F7', 'F3', 'F4', 'F8', 'T3', 'C3', 'C4', 'T4', 'T5', 'P3', 'P4', 'T6', 'O1', 'O2']\n",
        "    df = df.set_index(df.columns[0])\n",
        "    df.to_csv(converted_signal_path)"
      ],
      "metadata": {
        "id": "WuWJFFNOXYPL"
      },
      "execution_count": 6,
      "outputs": []
    },
    {
      "cell_type": "code",
      "source": [
        "def df_to_raw(df, convert=False):\n",
        "    ch_names = ['Fp1', 'Fp2', 'F7', 'F3', 'F4', 'F8', 'T3', 'C3', 'C4', 'T4', 'T5', 'P3', 'P4', 'T6', 'O1', 'O2']\n",
        "    ch_types = ['eeg'] * len(ch_names)\n",
        "    df = df.T\n",
        "\n",
        "    df[:] *= 1e-6 # mne assume volt data\n",
        "\n",
        "    sampling_rate = 125 #Hz\n",
        "    info = mne.create_info(ch_names=ch_names, ch_types=ch_types, sfreq=sampling_rate)\n",
        "    raw = mne.io.RawArray(df, info)\n",
        "    raw.set_montage('standard_1020')\n",
        "    # plotting, is not work\n",
        "    # raw.compute_psd().plot()\n",
        "    return raw"
      ],
      "metadata": {
        "id": "veaoQJqpYQCG"
      },
      "execution_count": 28,
      "outputs": []
    },
    {
      "cell_type": "code",
      "source": [
        "from mne import Epochs, find_events\n",
        "\n",
        "def getEpochs(raw, event_id, tmin, tmax, picks):\n",
        "\n",
        "    #epoching\n",
        "    events = find_events(raw)\n",
        "    epochs = Epochs(raw, events=events, event_id=event_id, \n",
        "                    tmin=tmin, tmax=tmax, baseline=None, preload=True,verbose=False, picks=picks)  #8 channels\n",
        "    print('sample drop %: ', (1 - len(epochs.events)/len(events)) * 100)\n",
        "\n",
        "    return epochs"
      ],
      "metadata": {
        "id": "vJqwKZAKYVvX"
      },
      "execution_count": 8,
      "outputs": []
    },
    {
      "cell_type": "code",
      "source": [
        "# Get the name of converted data\n",
        "\n",
        "main_path = '/content/drive/MyDrive/Test_eeg'\n",
        "all_file = os.listdir(main_path + '/Converted_signal')\n",
        "conv_list = all_file[8:] + all_file[0:8]\n",
        "conv_list"
      ],
      "metadata": {
        "colab": {
          "base_uri": "https://localhost:8080/"
        },
        "id": "KnWqNXL1YV2B",
        "outputId": "2060edea-4a51-4b73-fc33-695e513a8ea1"
      },
      "execution_count": 9,
      "outputs": [
        {
          "output_type": "execute_result",
          "data": {
            "text/plain": [
              "['Conv_exp9_Amanda.csv',\n",
              " 'Conv_exp10_Sapna.csv',\n",
              " 'Conv_exp11_Data.csv',\n",
              " 'Conv_exp12_Jirasak.csv',\n",
              " 'Conv_exp13_Max.csv',\n",
              " 'Conv_exp15_Dipesh.csv',\n",
              " 'Conv_exp14_Ayush.csv',\n",
              " 'Conv_exp16_Shashank.csv',\n",
              " 'Conv_exp17_Mi.csv',\n",
              " 'Conv_exp1_Ati.csv',\n",
              " 'Conv_exp2_Tonson.csv',\n",
              " 'Conv_exp3_Pyae.csv',\n",
              " 'Conv_exp4_Duc.csv',\n",
              " 'Conv_exp5_And.csv',\n",
              " 'Conv_exp6_Sayaka.csv',\n",
              " 'Conv_exp7_Suyoga.csv',\n",
              " 'Conv_exp8_Arti.csv']"
            ]
          },
          "metadata": {},
          "execution_count": 9
        }
      ]
    },
    {
      "cell_type": "code",
      "source": [
        "file_path = main_path + '/Converted_signal/'\n",
        "all_data = []\n",
        "for file in conv_list:\n",
        "    path = file_path + file\n",
        "    df = pd.read_csv(path)\n",
        "    all_data.append(df)"
      ],
      "metadata": {
        "id": "TThibVLBYV7G"
      },
      "execution_count": 10,
      "outputs": []
    },
    {
      "cell_type": "code",
      "source": [
        "X = np.array(all_data)\n",
        "X = np.transpose(X, (0, 2, 1))"
      ],
      "metadata": {
        "id": "sVDDXO7EYWEL"
      },
      "execution_count": 11,
      "outputs": []
    },
    {
      "cell_type": "code",
      "source": [
        "X.shape"
      ],
      "metadata": {
        "colab": {
          "base_uri": "https://localhost:8080/"
        },
        "id": "mPDXKhjN3nf1",
        "outputId": "406839e3-fc90-4bda-d481-0b93460099b5"
      },
      "execution_count": 12,
      "outputs": [
        {
          "output_type": "execute_result",
          "data": {
            "text/plain": [
              "(17, 16, 45000)"
            ]
          },
          "metadata": {},
          "execution_count": 12
        }
      ]
    },
    {
      "cell_type": "code",
      "source": [
        "label = pd.read_csv(main_path + '/label.csv')\n",
        "y = np.array(label['label'])"
      ],
      "metadata": {
        "id": "GbkTEb2d60_o"
      },
      "execution_count": 36,
      "outputs": []
    },
    {
      "cell_type": "code",
      "source": [
        "y"
      ],
      "metadata": {
        "colab": {
          "base_uri": "https://localhost:8080/"
        },
        "id": "pxf6bbx85OU0",
        "outputId": "8c8d09ae-d649-442e-ed91-5575b126d0a7"
      },
      "execution_count": 37,
      "outputs": [
        {
          "output_type": "execute_result",
          "data": {
            "text/plain": [
              "array([1, 1, 1, 0, 0, 0, 0, 1, 0, 0, 0, 1, 0, 0, 0, 1, 1])"
            ]
          },
          "metadata": {},
          "execution_count": 37
        }
      ]
    },
    {
      "cell_type": "code",
      "source": [
        "y.shape"
      ],
      "metadata": {
        "colab": {
          "base_uri": "https://localhost:8080/"
        },
        "id": "PeKoT96Q9ozx",
        "outputId": "fe92fdfe-ba63-467f-dc80-4d9a9157e6ae"
      },
      "execution_count": 38,
      "outputs": [
        {
          "output_type": "execute_result",
          "data": {
            "text/plain": [
              "(17,)"
            ]
          },
          "metadata": {},
          "execution_count": 38
        }
      ]
    },
    {
      "cell_type": "code",
      "source": [
        "# Our data is imbalance\n",
        "np.unique(y, return_counts=True)"
      ],
      "metadata": {
        "colab": {
          "base_uri": "https://localhost:8080/"
        },
        "id": "iGAld9m65PiK",
        "outputId": "db473a03-f218-40e3-de62-2fa00334a500"
      },
      "execution_count": 15,
      "outputs": [
        {
          "output_type": "execute_result",
          "data": {
            "text/plain": [
              "(array([0, 1]), array([10,  7]))"
            ]
          },
          "metadata": {},
          "execution_count": 15
        }
      ]
    },
    {
      "cell_type": "code",
      "source": [
        "import torch   #general pytorch\n",
        "import torch.nn as nn  #neural network module\n",
        "import torch.nn.functional as F  #useful functions like softmax, or relu\n",
        "\n",
        "#pip install torchvision; conda install torchvision\n",
        "from torchvision import datasets, transforms  #transforms for image processing\n",
        "from torch.utils.data import DataLoader, Dataset       #dataloader for preparing batch\n",
        "\n",
        "\n",
        "import numpy as np\n",
        "import pandas as pd\n",
        "from sklearn.metrics import confusion_matrix, ConfusionMatrixDisplay\n",
        "import matplotlib.pyplot as plt\n",
        "\n",
        "from sklearn.model_selection import train_test_split\n",
        "from torch.utils.data import TensorDataset\n",
        "from torch.autograd import Variable"
      ],
      "metadata": {
        "id": "4bgcyS5F5Pnb"
      },
      "execution_count": 16,
      "outputs": []
    },
    {
      "cell_type": "code",
      "source": [
        "# Create dataset\n",
        "tensor_X = torch.tensor(X)\n",
        "tensor_y = torch.tensor(y)\n",
        "dataset = TensorDataset(tensor_X, tensor_y)"
      ],
      "metadata": {
        "id": "nm11Ppuo5Pt9"
      },
      "execution_count": 39,
      "outputs": []
    },
    {
      "cell_type": "code",
      "source": [
        "tensor_X.shape"
      ],
      "metadata": {
        "colab": {
          "base_uri": "https://localhost:8080/"
        },
        "id": "mMxNAYJT5P0z",
        "outputId": "fad06009-f687-49ae-8247-ccddf9455fe1"
      },
      "execution_count": 18,
      "outputs": [
        {
          "output_type": "execute_result",
          "data": {
            "text/plain": [
              "torch.Size([17, 16, 45000])"
            ]
          },
          "metadata": {},
          "execution_count": 18
        }
      ]
    },
    {
      "cell_type": "code",
      "source": [
        "for x, y in dataset:\n",
        "    print(x.shape, y)\n",
        "    break"
      ],
      "metadata": {
        "colab": {
          "base_uri": "https://localhost:8080/"
        },
        "id": "TmN9ykg75eyP",
        "outputId": "b3477549-bc94-411f-939e-e75d076a5acc"
      },
      "execution_count": 19,
      "outputs": [
        {
          "output_type": "stream",
          "name": "stdout",
          "text": [
            "torch.Size([16, 45000]) tensor(1)\n"
          ]
        }
      ]
    },
    {
      "cell_type": "code",
      "source": [
        "# Meta data\n",
        "ch_names = ['Fp1', 'Fp2', 'F7', 'F3', 'F4', 'F8', 'T3', 'C3', 'C4', 'T4', 'T5', 'P3', 'P4', 'T6', 'O1', 'O2']\n",
        "ch_types = ['eeg'] * len(ch_names)\n",
        "sfreq = 125\n",
        "info = mne.create_info(ch_names=ch_names, ch_types=ch_types, sfreq=sfreq)\n",
        "\n",
        "# Create epochs\n",
        "epochs = mne.EpochsArray(tensor_X, info)\n",
        "\n",
        "# Set headset mapping\n",
        "epochs.set_montage('standard_1020')\n",
        "print('------------------')\n",
        "# print(f'{epochs._data.shape = }')\n",
        "print('------------------')\n",
        "epochs"
      ],
      "metadata": {
        "colab": {
          "base_uri": "https://localhost:8080/",
          "height": 211
        },
        "id": "cnGh1c-m5e4t",
        "outputId": "b95b8526-c782-42a8-e958-2085d4da6242"
      },
      "execution_count": 22,
      "outputs": [
        {
          "output_type": "stream",
          "name": "stdout",
          "text": [
            "Not setting metadata\n",
            "17 matching events found\n",
            "No baseline correction applied\n",
            "0 projection items activated\n",
            "------------------\n",
            "------------------\n"
          ]
        },
        {
          "output_type": "execute_result",
          "data": {
            "text/plain": [
              "<EpochsArray |  17 events (all good), 0 - 359.992 sec, baseline off, ~93.4 MB, data loaded,\n",
              " '1': 17>"
            ],
            "text/html": [
              "<table class=\"table table-hover table-striped table-sm table-responsive small\">\n",
              "    <tr>\n",
              "        <th>Number of events</th>\n",
              "        <td>17</td>\n",
              "    </tr>\n",
              "    <tr>\n",
              "        <th>Events</th>\n",
              "        \n",
              "        <td>1: 17</td>\n",
              "        \n",
              "    </tr>\n",
              "    <tr>\n",
              "        <th>Time range</th>\n",
              "        <td>0.000 – 359.992 sec</td>\n",
              "    </tr>\n",
              "    <tr>\n",
              "        <th>Baseline</th>\n",
              "        <td>off</td>\n",
              "    </tr>\n",
              "</table>"
            ]
          },
          "metadata": {},
          "execution_count": 22
        }
      ]
    },
    {
      "cell_type": "code",
      "source": [
        "# Compute power spectrum density\n",
        "\n",
        "epoch = epochs.__getitem__(0)\n",
        "spectrum = epoch.compute_psd(method=\"welch\", n_fft=125) #get Spectrum object from epochs\n",
        "psds, freqs = spectrum.get_data(return_freqs=True)\n",
        "print(psds.shape, freqs.shape)"
      ],
      "metadata": {
        "colab": {
          "base_uri": "https://localhost:8080/"
        },
        "id": "n45qGkB05e_f",
        "outputId": "2c92bf6b-9b56-4ed9-f71a-795b33c34906"
      },
      "execution_count": 23,
      "outputs": [
        {
          "output_type": "stream",
          "name": "stdout",
          "text": [
            "Effective window size : 1.000 (s)\n",
            "(1, 16, 63) (63,)\n"
          ]
        }
      ]
    },
    {
      "cell_type": "code",
      "source": [
        "epochs.get_data().shape"
      ],
      "metadata": {
        "colab": {
          "base_uri": "https://localhost:8080/"
        },
        "id": "K-Jmulqm73UC",
        "outputId": "3e5069f9-2c0f-4992-c53f-ea08d857a82d"
      },
      "execution_count": 24,
      "outputs": [
        {
          "output_type": "execute_result",
          "data": {
            "text/plain": [
              "(17, 16, 45000)"
            ]
          },
          "metadata": {},
          "execution_count": 24
        }
      ]
    },
    {
      "cell_type": "code",
      "source": [
        "epochs.compute_psd().plot(picks=['F3','F4','T3','T4'])"
      ],
      "metadata": {
        "colab": {
          "base_uri": "https://localhost:8080/",
          "height": 294
        },
        "id": "79crGJl973Zv",
        "outputId": "5b60841f-8ff5-4cbb-dcd2-95b5cf322e72"
      },
      "execution_count": 25,
      "outputs": [
        {
          "output_type": "stream",
          "name": "stdout",
          "text": [
            "    Using multitaper spectrum estimation with 7 DPSS windows\n",
            "Averaging across epochs...\n"
          ]
        },
        {
          "output_type": "execute_result",
          "data": {
            "text/plain": [
              "<MNELineFigure size 720x252 with 2 Axes>"
            ],
            "image/png": "[encoded data removed]"
          },
          "metadata": {},
          "execution_count": 25
        }
      ]
    },
    {
      "cell_type": "code",
      "source": [
        "raw_eeg = dict()\n",
        "\n",
        "for index, file in enumerate(file_name):\n",
        "    converted_signal_path = main_path + '/Converted_signal/' + 'Conv_' + file\n",
        "    df = pd.read_csv(converted_signal_path)\n",
        "    raw = df_to_raw(df, convert=False)\n",
        "    raw_eeg['exp' + str(index)] = raw\n",
        "    print(f'{file} | time: {len(df)/125}')"
      ],
      "metadata": {
        "colab": {
          "base_uri": "https://localhost:8080/"
        },
        "id": "kpHj9A908Vtw",
        "outputId": "d73a96e4-70ea-4e80-d13e-e226db5fd230"
      },
      "execution_count": 29,
      "outputs": [
        {
          "output_type": "stream",
          "name": "stdout",
          "text": [
            "Creating RawArray with float64 data, n_channels=16, n_times=45000\n",
            "    Range : 0 ... 44999 =      0.000 ...   359.992 secs\n",
            "Ready.\n",
            "exp10_Sapna.csv | time: 360.0\n",
            "Creating RawArray with float64 data, n_channels=16, n_times=45000\n",
            "    Range : 0 ... 44999 =      0.000 ...   359.992 secs\n",
            "Ready.\n",
            "exp11_Data.csv | time: 360.0\n",
            "Creating RawArray with float64 data, n_channels=16, n_times=45000\n",
            "    Range : 0 ... 44999 =      0.000 ...   359.992 secs\n",
            "Ready.\n",
            "exp12_Jirasak.csv | time: 360.0\n",
            "Creating RawArray with float64 data, n_channels=16, n_times=45000\n",
            "    Range : 0 ... 44999 =      0.000 ...   359.992 secs\n",
            "Ready.\n",
            "exp13_Max.csv | time: 360.0\n",
            "Creating RawArray with float64 data, n_channels=16, n_times=45000\n",
            "    Range : 0 ... 44999 =      0.000 ...   359.992 secs\n",
            "Ready.\n",
            "exp14_Ayush.csv | time: 360.0\n",
            "Creating RawArray with float64 data, n_channels=16, n_times=45000\n",
            "    Range : 0 ... 44999 =      0.000 ...   359.992 secs\n",
            "Ready.\n",
            "exp15_Dipesh.csv | time: 360.0\n",
            "Creating RawArray with float64 data, n_channels=16, n_times=45000\n",
            "    Range : 0 ... 44999 =      0.000 ...   359.992 secs\n",
            "Ready.\n",
            "exp16_Shashank.csv | time: 360.0\n",
            "Creating RawArray with float64 data, n_channels=16, n_times=45000\n",
            "    Range : 0 ... 44999 =      0.000 ...   359.992 secs\n",
            "Ready.\n",
            "exp17_Mi.csv | time: 360.0\n",
            "Creating RawArray with float64 data, n_channels=16, n_times=45000\n",
            "    Range : 0 ... 44999 =      0.000 ...   359.992 secs\n",
            "Ready.\n",
            "exp1_Ati.csv | time: 360.0\n",
            "Creating RawArray with float64 data, n_channels=16, n_times=45000\n",
            "    Range : 0 ... 44999 =      0.000 ...   359.992 secs\n",
            "Ready.\n",
            "exp2_Tonson.csv | time: 360.0\n",
            "Creating RawArray with float64 data, n_channels=16, n_times=45000\n",
            "    Range : 0 ... 44999 =      0.000 ...   359.992 secs\n",
            "Ready.\n",
            "exp3_Pyae.csv | time: 360.0\n",
            "Creating RawArray with float64 data, n_channels=16, n_times=45000\n",
            "    Range : 0 ... 44999 =      0.000 ...   359.992 secs\n",
            "Ready.\n",
            "exp4_Duc.csv | time: 360.0\n",
            "Creating RawArray with float64 data, n_channels=16, n_times=45000\n",
            "    Range : 0 ... 44999 =      0.000 ...   359.992 secs\n",
            "Ready.\n",
            "exp5_And.csv | time: 360.0\n",
            "Creating RawArray with float64 data, n_channels=16, n_times=45000\n",
            "    Range : 0 ... 44999 =      0.000 ...   359.992 secs\n",
            "Ready.\n",
            "exp6_Sayaka.csv | time: 360.0\n",
            "Creating RawArray with float64 data, n_channels=16, n_times=45000\n",
            "    Range : 0 ... 44999 =      0.000 ...   359.992 secs\n",
            "Ready.\n",
            "exp7_Suyoga.csv | time: 360.0\n",
            "Creating RawArray with float64 data, n_channels=16, n_times=45000\n",
            "    Range : 0 ... 44999 =      0.000 ...   359.992 secs\n",
            "Ready.\n",
            "exp8_Arti.csv | time: 360.0\n",
            "Creating RawArray with float64 data, n_channels=16, n_times=45000\n",
            "    Range : 0 ... 44999 =      0.000 ...   359.992 secs\n",
            "Ready.\n",
            "exp9_Amanda.csv | time: 360.0\n"
          ]
        }
      ]
    },
    {
      "cell_type": "code",
      "source": [
        "# Get freqeuency\n",
        "def get_freq(info):\n",
        "    raw = info\n",
        "    power, freq = mne.time_frequency.psd_welch(raw,n_fft=125, verbose=True)\n",
        "    return freq\n",
        "    \n",
        "for name, info in raw_eeg.items():\n",
        "    freq = get_freq(info)\n",
        "    print(freq)\n",
        "    break"
      ],
      "metadata": {
        "colab": {
          "base_uri": "https://localhost:8080/"
        },
        "id": "vF5BQQuy7_aw",
        "outputId": "43de4ea5-6360-4277-ad03-0184fae42f32"
      },
      "execution_count": 30,
      "outputs": [
        {
          "output_type": "stream",
          "name": "stderr",
          "text": [
            "<string>:4: FutureWarning: NOTE: psd_welch() is a deprecated function. Function ``psd_welch()`` is deprecated; for Raw/Epochs/Evoked instances use ``spectrum = instance.compute_psd(method=\"welch\")`` instead, followed by ``spectrum.get_data(return_freqs=True)``.\n"
          ]
        },
        {
          "output_type": "stream",
          "name": "stdout",
          "text": [
            "Effective window size : 1.000 (s)\n",
            "[ 0.  1.  2.  3.  4.  5.  6.  7.  8.  9. 10. 11. 12. 13. 14. 15. 16. 17.\n",
            " 18. 19. 20. 21. 22. 23. 24. 25. 26. 27. 28. 29. 30. 31. 32. 33. 34. 35.\n",
            " 36. 37. 38. 39. 40. 41. 42. 43. 44. 45. 46. 47. 48. 49. 50. 51. 52. 53.\n",
            " 54. 55. 56. 57. 58. 59. 60. 61. 62.]\n"
          ]
        },
        {
          "output_type": "stream",
          "name": "stderr",
          "text": [
            "[Parallel(n_jobs=1)]: Using backend SequentialBackend with 1 concurrent workers.\n",
            "[Parallel(n_jobs=1)]: Done   1 out of   1 | elapsed:    0.0s remaining:    0.0s\n",
            "[Parallel(n_jobs=1)]: Done   1 out of   1 | elapsed:    0.0s finished\n"
          ]
        }
      ]
    },
    {
      "cell_type": "code",
      "source": [
        "band_names = np.array(['Delta', 'Theta', 'Alpha', 'Beta', 'Gamma', 'Slow', 'Low_beta'])\n",
        "filter_list = [[1,3],[4,7],[8,12],[13,30],[30,43], [4,13], [13,17]]\n",
        "# band_names = np.array(['Delta', 'Theta', 'Alpha', 'Slow', 'Low_beta'])\n",
        "# filter_list = [[1,3],[4,7],[8,12], [4,13], [13,17]]\n",
        "bands = []\n",
        "for filt in filter_list:\n",
        "    pt = np.argwhere((freq >= filt[0]) & (freq <= filt[1])).reshape(-1)\n",
        "    bands.append(pt)\n",
        "bands = np.array(bands)\n",
        "print(bands)"
      ],
      "metadata": {
        "colab": {
          "base_uri": "https://localhost:8080/"
        },
        "id": "yEexaUt57_lk",
        "outputId": "841414b9-57cb-4f9a-d97c-5fcacaddb6d4"
      },
      "execution_count": 31,
      "outputs": [
        {
          "output_type": "stream",
          "name": "stdout",
          "text": [
            "[array([1, 2, 3]) array([4, 5, 6, 7]) array([ 8,  9, 10, 11, 12])\n",
            " array([13, 14, 15, 16, 17, 18, 19, 20, 21, 22, 23, 24, 25, 26, 27, 28, 29,\n",
            "        30])\n",
            " array([30, 31, 32, 33, 34, 35, 36, 37, 38, 39, 40, 41, 42, 43])\n",
            " array([ 4,  5,  6,  7,  8,  9, 10, 11, 12, 13])\n",
            " array([13, 14, 15, 16, 17])]\n"
          ]
        },
        {
          "output_type": "stream",
          "name": "stderr",
          "text": [
            "/usr/local/lib/python3.7/dist-packages/ipykernel_launcher.py:9: VisibleDeprecationWarning: Creating an ndarray from ragged nested sequences (which is a list-or-tuple of lists-or-tuples-or ndarrays with different lengths or shapes) is deprecated. If you meant to do this, you must specify 'dtype=object' when creating the ndarray.\n",
            "  if __name__ == '__main__':\n"
          ]
        }
      ]
    },
    {
      "cell_type": "code",
      "source": [
        "features = None\n",
        "for name, info in raw_eeg.items():\n",
        "    raw = info\n",
        "    feature = None\n",
        "    slow, gamma = None, None\n",
        "    a_f3, a_f4 = None, None\n",
        "    a_t7, a_t8 = None, None\n",
        "    b_f3, b_f4 = None, None\n",
        "    b_t7, b_t8 = None, None\n",
        "    epochs = mne.Epochs(raw, np.array([[125*60*1, 0, 1]]), tmin=0, tmax=30, baseline=(0,30), verbose=False)\n",
        "    for index, band in enumerate(bands):\n",
        "        power,freq = mne.time_frequency.psd_welch(epochs,n_fft=125, verbose=False)\n",
        "        power = power.squeeze()\n",
        "        power = 10 * np.log10(power)\n",
        "        data = power[::,band].mean(axis=1).reshape(1,-1)\n",
        "        # for asym\n",
        "        if(band_names[index] == 'Alpha'):\n",
        "            a_f3 = data[:,raw.ch_names.index('F3')]\n",
        "            a_f4 = data[:,raw.ch_names.index('F4')]\n",
        "            # We use t3 as t7 and t4 as t8\n",
        "            a_t7 = data[:,raw.ch_names.index('T3')]\n",
        "            a_t8 = data[:,raw.ch_names.index('T4')]\n",
        "        if(band_names[index] == 'Beta'):\n",
        "            b_f3 = data[:,raw.ch_names.index('F3')]\n",
        "            b_f4 = data[:,raw.ch_names.index('F4')]\n",
        "            # We use t3 as t7 and t4 as t8\n",
        "            b_t7 = data[:,raw.ch_names.index('T3')]\n",
        "            b_t8 = data[:,raw.ch_names.index('T4')]\n",
        "\n",
        "        ####### Mean for visualization #######\n",
        "        data = data.mean().reshape(1,-1)\n",
        "        # for relative gamma\n",
        "        if(band_names[index] == 'Slow'): \n",
        "            slow = data\n",
        "        if(band_names[index] == 'Gamma'): \n",
        "            gamma = data\n",
        "\n",
        "        if(type(feature) == type(None)): \n",
        "            feature = data\n",
        "        else: \n",
        "            feature = np.concatenate([feature, data], axis=1)\n",
        "\n",
        "    # print(feature.shape)\n",
        "    # the eighth feature: relative gamma is slow/gamma\n",
        "    relative_gamma = slow/gamma\n",
        "    feature = np.concatenate([feature, relative_gamma], axis=1)\n",
        "    # The asymetry\n",
        "    alpha_frontal = ((a_f4 - a_f3) / (a_f4 + a_f3)).reshape(1,-1)\n",
        "    feature = np.concatenate([feature, alpha_frontal], axis=1)\n",
        "    # alpha_temporal\n",
        "    alpha_temporal = ((a_t8 - a_t7) / (a_t8 + a_t7)).reshape(1,-1)\n",
        "    feature = np.concatenate([feature, alpha_temporal], axis=1)\n",
        "    # alpha_asymmetry\n",
        "    alpha_asymmetry = alpha_frontal + alpha_temporal\n",
        "    feature = np.concatenate([feature, alpha_asymmetry], axis=1)\n",
        "    # beta_frontal\n",
        "    beta_frontal = ((b_f4 - b_f3) / (b_f4 + b_f3)).reshape(1,-1)\n",
        "    feature = np.concatenate([feature, beta_frontal], axis=1)\n",
        "    # beta_temporal\n",
        "    beta_temporal = ((b_t8 - b_t7) / (b_t8 + b_t7)).reshape(1,-1)\n",
        "    feature = np.concatenate([feature, beta_temporal], axis=1)\n",
        "\n",
        "    # print(slow/gamma)\n",
        "    # print(feature.shape)\n",
        "    # print(feature)\n",
        "    # info['all'] = feature\n",
        "    #print(feature.shape)\n",
        "    if(type(features) == type(None)): features = feature\n",
        "    else: features = np.concatenate([features, feature], axis=0)\n",
        "    \n",
        "print(features.shape)"
      ],
      "metadata": {
        "colab": {
          "base_uri": "https://localhost:8080/"
        },
        "id": "WwsCX_Ys7_0s",
        "outputId": "a938d7e9-a11c-424b-fd01-0ab3da755062"
      },
      "execution_count": 32,
      "outputs": [
        {
          "output_type": "stream",
          "name": "stderr",
          "text": [
            "<string>:4: FutureWarning: NOTE: psd_welch() is a deprecated function. Function ``psd_welch()`` is deprecated; for Raw/Epochs/Evoked instances use ``spectrum = instance.compute_psd(method=\"welch\")`` instead, followed by ``spectrum.get_data(return_freqs=True)``.\n",
            "<string>:4: FutureWarning: NOTE: psd_welch() is a deprecated function. Function ``psd_welch()`` is deprecated; for Raw/Epochs/Evoked instances use ``spectrum = instance.compute_psd(method=\"welch\")`` instead, followed by ``spectrum.get_data(return_freqs=True)``.\n",
            "<string>:4: FutureWarning: NOTE: psd_welch() is a deprecated function. Function ``psd_welch()`` is deprecated; for Raw/Epochs/Evoked instances use ``spectrum = instance.compute_psd(method=\"welch\")`` instead, followed by ``spectrum.get_data(return_freqs=True)``.\n",
            "<string>:4: FutureWarning: NOTE: psd_welch() is a deprecated function. Function ``psd_welch()`` is deprecated; for Raw/Epochs/Evoked instances use ``spectrum = instance.compute_psd(method=\"welch\")`` instead, followed by ``spectrum.get_data(return_freqs=True)``.\n",
            "<string>:4: FutureWarning: NOTE: psd_welch() is a deprecated function. Function ``psd_welch()`` is deprecated; for Raw/Epochs/Evoked instances use ``spectrum = instance.compute_psd(method=\"welch\")`` instead, followed by ``spectrum.get_data(return_freqs=True)``.\n",
            "<string>:4: FutureWarning: NOTE: psd_welch() is a deprecated function. Function ``psd_welch()`` is deprecated; for Raw/Epochs/Evoked instances use ``spectrum = instance.compute_psd(method=\"welch\")`` instead, followed by ``spectrum.get_data(return_freqs=True)``.\n",
            "<string>:4: FutureWarning: NOTE: psd_welch() is a deprecated function. Function ``psd_welch()`` is deprecated; for Raw/Epochs/Evoked instances use ``spectrum = instance.compute_psd(method=\"welch\")`` instead, followed by ``spectrum.get_data(return_freqs=True)``.\n",
            "<string>:4: FutureWarning: NOTE: psd_welch() is a deprecated function. Function ``psd_welch()`` is deprecated; for Raw/Epochs/Evoked instances use ``spectrum = instance.compute_psd(method=\"welch\")`` instead, followed by ``spectrum.get_data(return_freqs=True)``.\n",
            "<string>:4: FutureWarning: NOTE: psd_welch() is a deprecated function. Function ``psd_welch()`` is deprecated; for Raw/Epochs/Evoked instances use ``spectrum = instance.compute_psd(method=\"welch\")`` instead, followed by ``spectrum.get_data(return_freqs=True)``.\n",
            "<string>:4: FutureWarning: NOTE: psd_welch() is a deprecated function. Function ``psd_welch()`` is deprecated; for Raw/Epochs/Evoked instances use ``spectrum = instance.compute_psd(method=\"welch\")`` instead, followed by ``spectrum.get_data(return_freqs=True)``.\n",
            "<string>:4: FutureWarning: NOTE: psd_welch() is a deprecated function. Function ``psd_welch()`` is deprecated; for Raw/Epochs/Evoked instances use ``spectrum = instance.compute_psd(method=\"welch\")`` instead, followed by ``spectrum.get_data(return_freqs=True)``.\n",
            "<string>:4: FutureWarning: NOTE: psd_welch() is a deprecated function. Function ``psd_welch()`` is deprecated; for Raw/Epochs/Evoked instances use ``spectrum = instance.compute_psd(method=\"welch\")`` instead, followed by ``spectrum.get_data(return_freqs=True)``.\n",
            "<string>:4: FutureWarning: NOTE: psd_welch() is a deprecated function. Function ``psd_welch()`` is deprecated; for Raw/Epochs/Evoked instances use ``spectrum = instance.compute_psd(method=\"welch\")`` instead, followed by ``spectrum.get_data(return_freqs=True)``.\n",
            "<string>:4: FutureWarning: NOTE: psd_welch() is a deprecated function. Function ``psd_welch()`` is deprecated; for Raw/Epochs/Evoked instances use ``spectrum = instance.compute_psd(method=\"welch\")`` instead, followed by ``spectrum.get_data(return_freqs=True)``.\n",
            "<string>:4: FutureWarning: NOTE: psd_welch() is a deprecated function. Function ``psd_welch()`` is deprecated; for Raw/Epochs/Evoked instances use ``spectrum = instance.compute_psd(method=\"welch\")`` instead, followed by ``spectrum.get_data(return_freqs=True)``.\n",
            "<string>:4: FutureWarning: NOTE: psd_welch() is a deprecated function. Function ``psd_welch()`` is deprecated; for Raw/Epochs/Evoked instances use ``spectrum = instance.compute_psd(method=\"welch\")`` instead, followed by ``spectrum.get_data(return_freqs=True)``.\n"
          ]
        },
        {
          "output_type": "stream",
          "name": "stdout",
          "text": [
            "(17, 13)\n"
          ]
        },
        {
          "output_type": "stream",
          "name": "stderr",
          "text": [
            "<string>:4: FutureWarning: NOTE: psd_welch() is a deprecated function. Function ``psd_welch()`` is deprecated; for Raw/Epochs/Evoked instances use ``spectrum = instance.compute_psd(method=\"welch\")`` instead, followed by ``spectrum.get_data(return_freqs=True)``.\n"
          ]
        }
      ]
    },
    {
      "cell_type": "code",
      "source": [
        "from sklearn.ensemble import RandomForestClassifier\n",
        "from sklearn.pipeline import Pipeline\n",
        "from sklearn.preprocessing import StandardScaler\n",
        "from sklearn.metrics import classification_report,accuracy_score\n",
        "from sklearn.model_selection import GroupKFold,GridSearchCV,cross_val_score,cross_validate \n",
        "import torch\n",
        "import pandas as pd"
      ],
      "metadata": {
        "id": "bAWHsird5P7Z"
      },
      "execution_count": 42,
      "outputs": []
    },
    {
      "cell_type": "code",
      "source": [
        "df = pd.DataFrame(features)\n",
        "df"
      ],
      "metadata": {
        "colab": {
          "base_uri": "https://localhost:8080/",
          "height": 646
        },
        "id": "BuD7urs29L-5",
        "outputId": "15e81af5-2b82-4393-a05c-c397ed6ad2b5"
      },
      "execution_count": 34,
      "outputs": [
        {
          "output_type": "execute_result",
          "data": {
            "text/plain": [
              "            0           1           2           3           4           5   \\\n",
              "0   -94.996576 -110.903207 -114.773895 -121.122393 -124.979970 -113.248582   \n",
              "1  -106.788552 -113.942070 -109.585851 -120.832516 -123.079296 -112.249467   \n",
              "2  -108.026517 -110.699927 -107.719570 -103.952412 -100.748248 -108.932981   \n",
              "3  -106.156311 -114.295895 -115.433873 -124.426951 -130.816510 -115.385202   \n",
              "4  -106.417041 -114.516242 -115.118548 -120.241424 -129.090598 -114.949269   \n",
              "5  -109.504827 -119.055543 -115.031059 -124.084616 -130.702928 -116.698444   \n",
              "6  -106.178285 -113.702218 -109.964916 -124.019152 -131.635218 -112.446304   \n",
              "7  -104.494165 -110.791449 -111.006553 -113.542544 -115.590628 -110.974574   \n",
              "8  -112.343023 -120.335399 -123.538806 -129.674002 -133.446199 -122.613497   \n",
              "9  -108.215845 -117.189340 -118.060173 -121.186449 -121.748715 -117.919905   \n",
              "10 -109.926990 -118.790134 -113.176404 -124.460613 -130.455177 -115.867035   \n",
              "11 -108.725937 -113.626836 -113.728315 -119.672468 -121.095486 -114.121198   \n",
              "12 -101.259562 -110.528169 -114.681750 -118.965119 -122.444073 -113.258242   \n",
              "13 -111.416091 -118.599326 -118.053713 -124.282554 -130.510583 -118.580077   \n",
              "14 -109.980984 -116.510844 -115.909800 -124.256621 -128.967028 -116.189926   \n",
              "15  -97.258474 -109.454889 -109.462448 -116.616970 -120.828408 -109.893166   \n",
              "16 -105.710656 -113.552548 -118.879096 -123.044643 -128.015954 -116.897390   \n",
              "\n",
              "            6         7         8         9         10        11        12  \n",
              "0  -117.899964  0.906134 -0.001514 -0.011088 -0.012602 -0.001776 -0.001404  \n",
              "1  -119.891229  0.912009 -0.002586  0.003181  0.000595 -0.005903 -0.000275  \n",
              "2  -106.326615  1.081239  0.016989 -0.001622  0.015367  0.025435 -0.003944  \n",
              "3  -121.523719  0.882039  0.004222  0.016922  0.021145  0.003022  0.025987  \n",
              "4  -116.521627  0.890454  0.003168  0.000900  0.004067  0.005338  0.002117  \n",
              "5  -121.199190  0.892853  0.007887  0.007038  0.014925  0.002388 -0.006147  \n",
              "6  -121.331171  0.854227  0.002641  0.000562  0.003203  0.004647  0.002997  \n",
              "7  -112.813626  0.960066 -0.004481 -0.003223 -0.007704 -0.001873 -0.000938  \n",
              "8  -128.077431  0.918823 -0.000057 -0.001260 -0.001317 -0.001753  0.000231  \n",
              "9  -120.830154  0.968552  0.007224 -0.000919  0.006305 -0.005205  0.000474  \n",
              "10 -122.220407  0.888175  0.002102  0.000666  0.002769 -0.001223 -0.008233  \n",
              "11 -118.678851  0.942407  0.000902  0.004291  0.005193  0.017355  0.001365  \n",
              "12 -117.383443  0.924979  0.011600 -0.006769  0.004831  0.015934 -0.025977  \n",
              "13 -123.111898  0.908586 -0.005582  0.005272 -0.000309 -0.002375 -0.002145  \n",
              "14 -121.376026  0.900927 -0.000911  0.001344  0.000433  0.001376  0.000453  \n",
              "15 -114.521641  0.909498 -0.000528  0.002784  0.002256  0.000215  0.009334  \n",
              "16 -121.692280  0.913147  0.000956  0.004823  0.005779 -0.000385  0.000786  "
            ],
            "text/html": [
              "\n",
              "  <div id=\"df-952cdb2a-8283-4d3c-8161-f849838cb89b\">\n",
              "    <div class=\"colab-df-container\">\n",
              "      <div>\n",
              "<style scoped>\n",
              "    .dataframe tbody tr th:only-of-type {\n",
              "        vertical-align: middle;\n",
              "    }\n",
              "\n",
              "    .dataframe tbody tr th {\n",
              "        vertical-align: top;\n",
              "    }\n",
              "\n",
              "    .dataframe thead th {\n",
              "        text-align: right;\n",
              "    }\n",
              "</style>\n",
              "<table border=\"1\" class=\"dataframe\">\n",
              "  <thead>\n",
              "    <tr style=\"text-align: right;\">\n",
              "      <th></th>\n",
              "      <th>0</th>\n",
              "      <th>1</th>\n",
              "      <th>2</th>\n",
              "      <th>3</th>\n",
              "      <th>4</th>\n",
              "      <th>5</th>\n",
              "      <th>6</th>\n",
              "      <th>7</th>\n",
              "      <th>8</th>\n",
              "      <th>9</th>\n",
              "      <th>10</th>\n",
              "      <th>11</th>\n",
              "      <th>12</th>\n",
              "    </tr>\n",
              "  </thead>\n",
              "  <tbody>\n",
              "    <tr>\n",
              "      <th>0</th>\n",
              "      <td>-94.996576</td>\n",
              "      <td>-110.903207</td>\n",
              "      <td>-114.773895</td>\n",
              "      <td>-121.122393</td>\n",
              "      <td>-124.979970</td>\n",
              "      <td>-113.248582</td>\n",
              "      <td>-117.899964</td>\n",
              "      <td>0.906134</td>\n",
              "      <td>-0.001514</td>\n",
              "      <td>-0.011088</td>\n",
              "      <td>-0.012602</td>\n",
              "      <td>-0.001776</td>\n",
              "      <td>-0.001404</td>\n",
              "    </tr>\n",
              "    <tr>\n",
              "      <th>1</th>\n",
              "      <td>-106.788552</td>\n",
              "      <td>-113.942070</td>\n",
              "      <td>-109.585851</td>\n",
              "      <td>-120.832516</td>\n",
              "      <td>-123.079296</td>\n",
              "      <td>-112.249467</td>\n",
              "      <td>-119.891229</td>\n",
              "      <td>0.912009</td>\n",
              "      <td>-0.002586</td>\n",
              "      <td>0.003181</td>\n",
              "      <td>0.000595</td>\n",
              "      <td>-0.005903</td>\n",
              "      <td>-0.000275</td>\n",
              "    </tr>\n",
              "    <tr>\n",
              "      <th>2</th>\n",
              "      <td>-108.026517</td>\n",
              "      <td>-110.699927</td>\n",
              "      <td>-107.719570</td>\n",
              "      <td>-103.952412</td>\n",
              "      <td>-100.748248</td>\n",
              "      <td>-108.932981</td>\n",
              "      <td>-106.326615</td>\n",
              "      <td>1.081239</td>\n",
              "      <td>0.016989</td>\n",
              "      <td>-0.001622</td>\n",
              "      <td>0.015367</td>\n",
              "      <td>0.025435</td>\n",
              "      <td>-0.003944</td>\n",
              "    </tr>\n",
              "    <tr>\n",
              "      <th>3</th>\n",
              "      <td>-106.156311</td>\n",
              "      <td>-114.295895</td>\n",
              "      <td>-115.433873</td>\n",
              "      <td>-124.426951</td>\n",
              "      <td>-130.816510</td>\n",
              "      <td>-115.385202</td>\n",
              "      <td>-121.523719</td>\n",
              "      <td>0.882039</td>\n",
              "      <td>0.004222</td>\n",
              "      <td>0.016922</td>\n",
              "      <td>0.021145</td>\n",
              "      <td>0.003022</td>\n",
              "      <td>0.025987</td>\n",
              "    </tr>\n",
              "    <tr>\n",
              "      <th>4</th>\n",
              "      <td>-106.417041</td>\n",
              "      <td>-114.516242</td>\n",
              "      <td>-115.118548</td>\n",
              "      <td>-120.241424</td>\n",
              "      <td>-129.090598</td>\n",
              "      <td>-114.949269</td>\n",
              "      <td>-116.521627</td>\n",
              "      <td>0.890454</td>\n",
              "      <td>0.003168</td>\n",
              "      <td>0.000900</td>\n",
              "      <td>0.004067</td>\n",
              "      <td>0.005338</td>\n",
              "      <td>0.002117</td>\n",
              "    </tr>\n",
              "    <tr>\n",
              "      <th>5</th>\n",
              "      <td>-109.504827</td>\n",
              "      <td>-119.055543</td>\n",
              "      <td>-115.031059</td>\n",
              "      <td>-124.084616</td>\n",
              "      <td>-130.702928</td>\n",
              "      <td>-116.698444</td>\n",
              "      <td>-121.199190</td>\n",
              "      <td>0.892853</td>\n",
              "      <td>0.007887</td>\n",
              "      <td>0.007038</td>\n",
              "      <td>0.014925</td>\n",
              "      <td>0.002388</td>\n",
              "      <td>-0.006147</td>\n",
              "    </tr>\n",
              "    <tr>\n",
              "      <th>6</th>\n",
              "      <td>-106.178285</td>\n",
              "      <td>-113.702218</td>\n",
              "      <td>-109.964916</td>\n",
              "      <td>-124.019152</td>\n",
              "      <td>-131.635218</td>\n",
              "      <td>-112.446304</td>\n",
              "      <td>-121.331171</td>\n",
              "      <td>0.854227</td>\n",
              "      <td>0.002641</td>\n",
              "      <td>0.000562</td>\n",
              "      <td>0.003203</td>\n",
              "      <td>0.004647</td>\n",
              "      <td>0.002997</td>\n",
              "    </tr>\n",
              "    <tr>\n",
              "      <th>7</th>\n",
              "      <td>-104.494165</td>\n",
              "      <td>-110.791449</td>\n",
              "      <td>-111.006553</td>\n",
              "      <td>-113.542544</td>\n",
              "      <td>-115.590628</td>\n",
              "      <td>-110.974574</td>\n",
              "      <td>-112.813626</td>\n",
              "      <td>0.960066</td>\n",
              "      <td>-0.004481</td>\n",
              "      <td>-0.003223</td>\n",
              "      <td>-0.007704</td>\n",
              "      <td>-0.001873</td>\n",
              "      <td>-0.000938</td>\n",
              "    </tr>\n",
              "    <tr>\n",
              "      <th>8</th>\n",
              "      <td>-112.343023</td>\n",
              "      <td>-120.335399</td>\n",
              "      <td>-123.538806</td>\n",
              "      <td>-129.674002</td>\n",
              "      <td>-133.446199</td>\n",
              "      <td>-122.613497</td>\n",
              "      <td>-128.077431</td>\n",
              "      <td>0.918823</td>\n",
              "      <td>-0.000057</td>\n",
              "      <td>-0.001260</td>\n",
              "      <td>-0.001317</td>\n",
              "      <td>-0.001753</td>\n",
              "      <td>0.000231</td>\n",
              "    </tr>\n",
              "    <tr>\n",
              "      <th>9</th>\n",
              "      <td>-108.215845</td>\n",
              "      <td>-117.189340</td>\n",
              "      <td>-118.060173</td>\n",
              "      <td>-121.186449</td>\n",
              "      <td>-121.748715</td>\n",
              "      <td>-117.919905</td>\n",
              "      <td>-120.830154</td>\n",
              "      <td>0.968552</td>\n",
              "      <td>0.007224</td>\n",
              "      <td>-0.000919</td>\n",
              "      <td>0.006305</td>\n",
              "      <td>-0.005205</td>\n",
              "      <td>0.000474</td>\n",
              "    </tr>\n",
              "    <tr>\n",
              "      <th>10</th>\n",
              "      <td>-109.926990</td>\n",
              "      <td>-118.790134</td>\n",
              "      <td>-113.176404</td>\n",
              "      <td>-124.460613</td>\n",
              "      <td>-130.455177</td>\n",
              "      <td>-115.867035</td>\n",
              "      <td>-122.220407</td>\n",
              "      <td>0.888175</td>\n",
              "      <td>0.002102</td>\n",
              "      <td>0.000666</td>\n",
              "      <td>0.002769</td>\n",
              "      <td>-0.001223</td>\n",
              "      <td>-0.008233</td>\n",
              "    </tr>\n",
              "    <tr>\n",
              "      <th>11</th>\n",
              "      <td>-108.725937</td>\n",
              "      <td>-113.626836</td>\n",
              "      <td>-113.728315</td>\n",
              "      <td>-119.672468</td>\n",
              "      <td>-121.095486</td>\n",
              "      <td>-114.121198</td>\n",
              "      <td>-118.678851</td>\n",
              "      <td>0.942407</td>\n",
              "      <td>0.000902</td>\n",
              "      <td>0.004291</td>\n",
              "      <td>0.005193</td>\n",
              "      <td>0.017355</td>\n",
              "      <td>0.001365</td>\n",
              "    </tr>\n",
              "    <tr>\n",
              "      <th>12</th>\n",
              "      <td>-101.259562</td>\n",
              "      <td>-110.528169</td>\n",
              "      <td>-114.681750</td>\n",
              "      <td>-118.965119</td>\n",
              "      <td>-122.444073</td>\n",
              "      <td>-113.258242</td>\n",
              "      <td>-117.383443</td>\n",
              "      <td>0.924979</td>\n",
              "      <td>0.011600</td>\n",
              "      <td>-0.006769</td>\n",
              "      <td>0.004831</td>\n",
              "      <td>0.015934</td>\n",
              "      <td>-0.025977</td>\n",
              "    </tr>\n",
              "    <tr>\n",
              "      <th>13</th>\n",
              "      <td>-111.416091</td>\n",
              "      <td>-118.599326</td>\n",
              "      <td>-118.053713</td>\n",
              "      <td>-124.282554</td>\n",
              "      <td>-130.510583</td>\n",
              "      <td>-118.580077</td>\n",
              "      <td>-123.111898</td>\n",
              "      <td>0.908586</td>\n",
              "      <td>-0.005582</td>\n",
              "      <td>0.005272</td>\n",
              "      <td>-0.000309</td>\n",
              "      <td>-0.002375</td>\n",
              "      <td>-0.002145</td>\n",
              "    </tr>\n",
              "    <tr>\n",
              "      <th>14</th>\n",
              "      <td>-109.980984</td>\n",
              "      <td>-116.510844</td>\n",
              "      <td>-115.909800</td>\n",
              "      <td>-124.256621</td>\n",
              "      <td>-128.967028</td>\n",
              "      <td>-116.189926</td>\n",
              "      <td>-121.376026</td>\n",
              "      <td>0.900927</td>\n",
              "      <td>-0.000911</td>\n",
              "      <td>0.001344</td>\n",
              "      <td>0.000433</td>\n",
              "      <td>0.001376</td>\n",
              "      <td>0.000453</td>\n",
              "    </tr>\n",
              "    <tr>\n",
              "      <th>15</th>\n",
              "      <td>-97.258474</td>\n",
              "      <td>-109.454889</td>\n",
              "      <td>-109.462448</td>\n",
              "      <td>-116.616970</td>\n",
              "      <td>-120.828408</td>\n",
              "      <td>-109.893166</td>\n",
              "      <td>-114.521641</td>\n",
              "      <td>0.909498</td>\n",
              "      <td>-0.000528</td>\n",
              "      <td>0.002784</td>\n",
              "      <td>0.002256</td>\n",
              "      <td>0.000215</td>\n",
              "      <td>0.009334</td>\n",
              "    </tr>\n",
              "    <tr>\n",
              "      <th>16</th>\n",
              "      <td>-105.710656</td>\n",
              "      <td>-113.552548</td>\n",
              "      <td>-118.879096</td>\n",
              "      <td>-123.044643</td>\n",
              "      <td>-128.015954</td>\n",
              "      <td>-116.897390</td>\n",
              "      <td>-121.692280</td>\n",
              "      <td>0.913147</td>\n",
              "      <td>0.000956</td>\n",
              "      <td>0.004823</td>\n",
              "      <td>0.005779</td>\n",
              "      <td>-0.000385</td>\n",
              "      <td>0.000786</td>\n",
              "    </tr>\n",
              "  </tbody>\n",
              "</table>\n",
              "</div>\n",
              "      <button class=\"colab-df-convert\" onclick=\"convertToInteractive('df-952cdb2a-8283-4d3c-8161-f849838cb89b')\"\n",
              "              title=\"Convert this dataframe to an interactive table.\"\n",
              "              style=\"display:none;\">\n",
              "        \n",
              "  <svg xmlns=\"http://www.w3.org/2000/svg\" height=\"24px\"viewBox=\"0 0 24 24\"\n",
              "       width=\"24px\">\n",
              "    <path d=\"M0 0h24v24H0V0z\" fill=\"none\"/>\n",
              "    <path d=\"M18.56 5.44l.94 2.06.94-2.06 2.06-.94-2.06-.94-.94-2.06-.94 2.06-2.06.94zm-11 1L8.5 8.5l.94-2.06 2.06-.94-2.06-.94L8.5 2.5l-.94 2.06-2.06.94zm10 10l.94 2.06.94-2.06 2.06-.94-2.06-.94-.94-2.06-.94 2.06-2.06.94z\"/><path d=\"M17.41 7.96l-1.37-1.37c-.4-.4-.92-.59-1.43-.59-.52 0-1.04.2-1.43.59L10.3 9.45l-7.72 7.72c-.78.78-.78 2.05 0 2.83L4 21.41c.39.39.9.59 1.41.59.51 0 1.02-.2 1.41-.59l7.78-7.78 2.81-2.81c.8-.78.8-2.07 0-2.86zM5.41 20L4 18.59l7.72-7.72 1.47 1.35L5.41 20z\"/>\n",
              "  </svg>\n",
              "      </button>\n",
              "      \n",
              "  <style>\n",
              "    .colab-df-container {\n",
              "      display:flex;\n",
              "      flex-wrap:wrap;\n",
              "      gap: 12px;\n",
              "    }\n",
              "\n",
              "    .colab-df-convert {\n",
              "      background-color: #E8F0FE;\n",
              "      border: none;\n",
              "      border-radius: 50%;\n",
              "      cursor: pointer;\n",
              "      display: none;\n",
              "      fill: #1967D2;\n",
              "      height: 32px;\n",
              "      padding: 0 0 0 0;\n",
              "      width: 32px;\n",
              "    }\n",
              "\n",
              "    .colab-df-convert:hover {\n",
              "      background-color: #E2EBFA;\n",
              "      box-shadow: 0px 1px 2px rgba(60, 64, 67, 0.3), 0px 1px 3px 1px rgba(60, 64, 67, 0.15);\n",
              "      fill: #174EA6;\n",
              "    }\n",
              "\n",
              "    [theme=dark] .colab-df-convert {\n",
              "      background-color: #3B4455;\n",
              "      fill: #D2E3FC;\n",
              "    }\n",
              "\n",
              "    [theme=dark] .colab-df-convert:hover {\n",
              "      background-color: #434B5C;\n",
              "      box-shadow: 0px 1px 3px 1px rgba(0, 0, 0, 0.15);\n",
              "      filter: drop-shadow(0px 1px 2px rgba(0, 0, 0, 0.3));\n",
              "      fill: #FFFFFF;\n",
              "    }\n",
              "  </style>\n",
              "\n",
              "      <script>\n",
              "        const buttonEl =\n",
              "          document.querySelector('#df-952cdb2a-8283-4d3c-8161-f849838cb89b button.colab-df-convert');\n",
              "        buttonEl.style.display =\n",
              "          google.colab.kernel.accessAllowed ? 'block' : 'none';\n",
              "\n",
              "        async function convertToInteractive(key) {\n",
              "          const element = document.querySelector('#df-952cdb2a-8283-4d3c-8161-f849838cb89b');\n",
              "          const dataTable =\n",
              "            await google.colab.kernel.invokeFunction('convertToInteractive',\n",
              "                                                     [key], {});\n",
              "          if (!dataTable) return;\n",
              "\n",
              "          const docLinkHtml = 'Like what you see? Visit the ' +\n",
              "            '<a target=\"_blank\" href=https://colab.research.google.com/notebooks/data_table.ipynb>data table notebook</a>'\n",
              "            + ' to learn more about interactive tables.';\n",
              "          element.innerHTML = '';\n",
              "          dataTable['output_type'] = 'display_data';\n",
              "          await google.colab.output.renderOutput(dataTable, element);\n",
              "          const docLink = document.createElement('div');\n",
              "          docLink.innerHTML = docLinkHtml;\n",
              "          element.appendChild(docLink);\n",
              "        }\n",
              "      </script>\n",
              "    </div>\n",
              "  </div>\n",
              "  "
            ]
          },
          "metadata": {},
          "execution_count": 34
        }
      ]
    },
    {
      "cell_type": "code",
      "source": [
        "features.shape,y.shape"
      ],
      "metadata": {
        "colab": {
          "base_uri": "https://localhost:8080/"
        },
        "id": "1KU0j2-b9MI2",
        "outputId": "f6c636ae-1dc3-47b2-bafd-4908c9180b05"
      },
      "execution_count": 40,
      "outputs": [
        {
          "output_type": "execute_result",
          "data": {
            "text/plain": [
              "((17, 13), (17,))"
            ]
          },
          "metadata": {},
          "execution_count": 40
        }
      ]
    },
    {
      "cell_type": "code",
      "source": [
        "# split X and y into training and testing sets\n",
        "from sklearn.model_selection import train_test_split\n",
        "\n",
        "X_train, X_test, y_train, y_test = train_test_split(features, y, test_size=0.25, random_state=16)"
      ],
      "metadata": {
        "id": "p8zIIMfn9MP3"
      },
      "execution_count": 41,
      "outputs": []
    },
    {
      "cell_type": "code",
      "source": [
        "model = RandomForestClassifier(n_estimators=2, max_features=13, n_jobs=4, max_depth=2, random_state=0)\n",
        "model.fit(X_train,y_train)\n",
        "y_pred = model.predict(X_test)\n",
        "y_pred.min(), y_pred.max()\n",
        "cross = cross_val_score(model, X_train, y_train, cv=5)\n",
        "print('Model Accuracy : ', accuracy_score(y_test,y_pred))\n",
        "print('Cross Validation Accuracy :',cross.mean())"
      ],
      "metadata": {
        "colab": {
          "base_uri": "https://localhost:8080/"
        },
        "id": "W8b76nSe9cCR",
        "outputId": "6251f50e-18da-4415-d1e2-087901c1a3d6"
      },
      "execution_count": 44,
      "outputs": [
        {
          "output_type": "stream",
          "name": "stdout",
          "text": [
            "Model Accuracy :  0.6\n",
            "Cross Validation Accuracy : 0.7\n"
          ]
        }
      ]
    },
    {
      "cell_type": "code",
      "source": [
        "from sklearn.metrics import classification_report,confusion_matrix\n",
        "import seaborn as sns\n",
        "import matplotlib.pyplot as plt\n",
        "target_names = ['without Stress', 'with Stress']\n",
        "print(classification_report(y_test, y_pred, target_names=target_names))\n",
        "print(sns.heatmap(confusion_matrix(y_test,y_pred),annot=True))\n",
        "plt.show()"
      ],
      "metadata": {
        "colab": {
          "base_uri": "https://localhost:8080/",
          "height": 440
        },
        "id": "ndPPM4zq9cIP",
        "outputId": "c3920651-1f13-41d2-a672-d8519ca37229"
      },
      "execution_count": 45,
      "outputs": [
        {
          "output_type": "stream",
          "name": "stdout",
          "text": [
            "                precision    recall  f1-score   support\n",
            "\n",
            "without Stress       0.67      0.67      0.67         3\n",
            "   with Stress       0.50      0.50      0.50         2\n",
            "\n",
            "      accuracy                           0.60         5\n",
            "     macro avg       0.58      0.58      0.58         5\n",
            "  weighted avg       0.60      0.60      0.60         5\n",
            "\n",
            "AxesHostAxes(0.898056,0.665873;0.075x0.214286)\n"
          ]
        },
        {
          "output_type": "display_data",
          "data": {
            "text/plain": [
              "<MNELineFigure size 720x252 with 3 Axes>"
            ],
            "image/png": "[encoded data removed]"
          },
          "metadata": {
            "needs_background": "light"
          }
        }
      ]
    },
    {
      "cell_type": "code",
      "source": [],
      "metadata": {
        "id": "LJ1Oi5be9cN9"
      },
      "execution_count": null,
      "outputs": []
    }
  ]
}