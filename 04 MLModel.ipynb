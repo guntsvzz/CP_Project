{
 "cells": [
  {
   "cell_type": "code",
   "execution_count": 188,
   "metadata": {},
   "outputs": [],
   "source": [
    "def model_SVM(X,y):\n",
    "    from sklearn.svm import SVC\n",
    "    from sklearn.utils import shuffle\n",
    "    from sklearn.model_selection import cross_val_score\n",
    "\n",
    "    X_shuff,y_shuff = shuffle(X,y)\n",
    "    model = SVC(kernel='rbf')\n",
    "    cross = cross_val_score(model, X_shuff, y_shuff, cv=5, n_jobs=-1)\n",
    "\n",
    "    model = SVC(kernel='rbf')\n",
    "    model.fit(X_shuff, y_shuff)\n",
    "    ans = model.predict(X_shuff)\n",
    "    acc = sum(ans == y_shuff) / len(y_shuff)\n",
    "    return model, acc, cross\n",
    "\n",
    "def model_LR(X,y):\n",
    "    from sklearn.linear_model import LogisticRegression\n",
    "    from sklearn.utils import shuffle\n",
    "    from sklearn.model_selection import cross_val_score\n",
    "    \n",
    "    X_shuff,y_shuff = shuffle(X,y)\n",
    "    model = LogisticRegression()\n",
    "    cross = cross_val_score(model, X_shuff, y_shuff, cv=5, n_jobs=-1)\n",
    "\n",
    "    model = LogisticRegression()\n",
    "    model.fit(X_shuff, y_shuff)\n",
    "    ans = model.predict(X_shuff)\n",
    "    acc = sum(ans == y_shuff) / len(y_shuff)\n",
    "    return model, acc, cross\n",
    "\n",
    "def model_NB(X,y):\n",
    "    from sklearn.naive_bayes import GaussianNB\n",
    "    from sklearn.utils import shuffle\n",
    "    from sklearn.model_selection import cross_val_score\n",
    "\n",
    "    X_shuff,y_shuff = shuffle(X,y)\n",
    "    model = GaussianNB()\n",
    "    cross = cross_val_score(model, X_shuff, y_shuff, cv=5, n_jobs=-1)\n",
    "\n",
    "    model = GaussianNB()\n",
    "    model.fit(X_shuff, y_shuff)\n",
    "    ans = model.predict(X_shuff)\n",
    "    acc = sum(ans == y_shuff) / len(y_shuff)\n",
    "    return model, acc, cross\n",
    "\n",
    "def model_KNN(X,y):\n",
    "    from sklearn.neighbors import KNeighborsClassifier\n",
    "    from sklearn.utils import shuffle\n",
    "    from sklearn.model_selection import cross_val_score\n",
    "\n",
    "    X_shuff,y_shuff = shuffle(X,y)\n",
    "    model = KNeighborsClassifier()\n",
    "    cross = cross_val_score(model, X_shuff, y_shuff, cv=5, n_jobs=-1)\n",
    "\n",
    "    model = KNeighborsClassifier(n_neighbors = 2)\n",
    "    model.fit(X_shuff, y_shuff)\n",
    "    ans = model.predict(X_shuff)\n",
    "    acc = sum(ans == y_shuff) / len(y_shuff)\n",
    "    return model, acc, cross\n",
    "\n",
    "def model_RF(X,y):\n",
    "    from sklearn.ensemble import RandomForestClassifier\n",
    "    from sklearn.utils import shuffle\n",
    "    from sklearn.model_selection import cross_val_score\n",
    "\n",
    "    X_shuff,y_shuff = shuffle(X,y)\n",
    "    model = RandomForestClassifier()\n",
    "    cross = cross_val_score(model, X_shuff, y_shuff, cv=5, n_jobs=-1)\n",
    "\n",
    "    model = RandomForestClassifier()\n",
    "    model.fit(X_shuff, y_shuff)\n",
    "    ans = model.predict(X_shuff)\n",
    "    acc = sum(ans == y_shuff) / len(y_shuff)\n",
    "    return model, acc, cross"
   ]
  },
  {
   "cell_type": "code",
   "execution_count": 181,
   "metadata": {},
   "outputs": [],
   "source": [
    "def test_pipe(X_test,y_test,model):\n",
    "    from sklearn.metrics import accuracy_score  \n",
    "    from sklearn.metrics import classification_report\n",
    "    from sklearn.metrics import confusion_matrix\n",
    "    import seaborn as sns\n",
    "    import matplotlib.pyplot as plt\n",
    "    model = model\n",
    "    y_pred = model.predict(X_test)\n",
    "    target_names = ['without Stress', 'with Stress']\n",
    "    acc = accuracy_score(y_test,y_pred)\n",
    "    # crp = classification_report(y_test,y_pred, target_names=target_names)\n",
    "    print(\"Test Acc :\",acc)\n",
    "    # print(\"classification_report : \\n\",crp)\n",
    "    # print(sns.heatmap(confusion_matrix(y_test,y_pred),annot=True))\n",
    "    # plt.show()\n",
    "    "
   ]
  },
  {
   "cell_type": "code",
   "execution_count": 207,
   "metadata": {},
   "outputs": [],
   "source": [
    "def train_pipe(X_train, X_test, y_train, y_test):\n",
    "    X,y = X_train.copy(),y_train.copy()\n",
    "    model, acc, cross = model_SVM(X,y)\n",
    "    print(f'{model}\\n Train Acc : {acc:.4f} Score :{cross.mean():.4f}',end=' ')\n",
    "    test_pipe(X_test, y_test ,model)\n",
    "    X,y = X_train.copy(),y_train.copy()\n",
    "    model, acc, cross = model_LR(X,y) \n",
    "    print(f'{model}\\n Train Acc : {acc:.4f} Score :{cross.mean():.4f}',end=' ')\n",
    "    test_pipe(X_test, y_test ,model)\n",
    "    X,y = X_train.copy(),y_train.copy()\n",
    "    model, acc, cross = model_NB(X,y)\n",
    "    print(f'{model}\\n Train Acc : {acc:.4f} Score :{cross.mean():.4f}',end=' ')\n",
    "    test_pipe(X_test, y_test ,model)\n",
    "    X,y = X_train.copy(),y_train.copy()\n",
    "    model, acc, cross = model_KNN(X,y)\n",
    "    print(f'{model}\\n Train Acc : {acc:.4f} Score :{cross.mean():.4f}',end=' ')\n",
    "    test_pipe(X_test, y_test ,model)\n",
    "    X,y = X_train.copy(),y_train.copy()\n",
    "    model, acc, cross = model_RF(X,y)\n",
    "    print(f'{model}\\n Train Acc : {acc:.4f} Score :{cross.mean():.4f}',end=' ')\n",
    "    test_pipe(X_test, y_test ,model)"
   ]
  },
  {
   "cell_type": "code",
   "execution_count": 208,
   "metadata": {},
   "outputs": [],
   "source": [
    "import pandas as pd\n",
    "import numpy as np"
   ]
  },
  {
   "cell_type": "code",
   "execution_count": 209,
   "metadata": {},
   "outputs": [
    {
     "data": {
      "text/plain": [
       "((17, 13), (17,))"
      ]
     },
     "execution_count": 209,
     "metadata": {},
     "output_type": "execute_result"
    }
   ],
   "source": [
    "df_asy = pd.read_csv('PSDAsymmetryData.csv')\n",
    "df_asy.drop(['Unnamed: 0'],axis=1,inplace=True)\n",
    "y = pd.read_csv('label_exp.csv')\n",
    "y = np.array(y['label'])\n",
    "df_asy.shape,y.shape"
   ]
  },
  {
   "cell_type": "markdown",
   "metadata": {},
   "source": [
    "### Non-Feature Extraction"
   ]
  },
  {
   "cell_type": "code",
   "execution_count": 210,
   "metadata": {},
   "outputs": [
    {
     "data": {
      "text/plain": [
       "((13, 13), (4, 13), (13,), (4,))"
      ]
     },
     "execution_count": 210,
     "metadata": {},
     "output_type": "execute_result"
    }
   ],
   "source": [
    "from sklearn.model_selection import train_test_split\n",
    "X_train, X_test, y_train, y_test = train_test_split(df_asy, y, test_size=0.2, random_state=999)\n",
    "X_train.shape, X_test.shape, y_train.shape, y_test.shape"
   ]
  },
  {
   "cell_type": "code",
   "execution_count": 211,
   "metadata": {},
   "outputs": [],
   "source": [
    "from sklearn.preprocessing import MinMaxScaler\n",
    "from sklearn.preprocessing import StandardScaler\n",
    "scaler = MinMaxScaler()\n",
    "X_train = scaler.fit_transform(X_train)\n",
    "X_test = scaler.transform(X_test)"
   ]
  },
  {
   "cell_type": "code",
   "execution_count": 212,
   "metadata": {},
   "outputs": [
    {
     "name": "stdout",
     "output_type": "stream",
     "text": [
      "SVC()\n",
      " Train Acc : 0.9231 Score :0.7667 Test Acc : 0.75\n",
      "LogisticRegression()\n",
      " Train Acc : 0.6923 Score :0.6000 Test Acc : 0.75\n",
      "GaussianNB()\n",
      " Train Acc : 1.0000 Score :0.7667 Test Acc : 0.5\n",
      "KNeighborsClassifier(n_neighbors=2)\n",
      " Train Acc : 1.0000 Score :0.7000 Test Acc : 0.75\n",
      "RandomForestClassifier()\n",
      " Train Acc : 1.0000 Score :0.8667 Test Acc : 1.0\n"
     ]
    }
   ],
   "source": [
    "train_pipe(X_train, X_test, y_train, y_test)"
   ]
  },
  {
   "cell_type": "markdown",
   "metadata": {},
   "source": [
    "### Feature Extraction"
   ]
  },
  {
   "cell_type": "code",
   "execution_count": 213,
   "metadata": {},
   "outputs": [],
   "source": [
    "alpha = ['Alpha_frontal','Alpha_temporal','Alpha_asymmetry']\n",
    "gamma = ['Relative_gamma']\n",
    "beta = ['Beta_Frontal','Beta_temporal']\n",
    "\n",
    "alpha_beta = ['Alpha_frontal','Alpha_temporal','Alpha_asymmetry','Beta_Frontal','Beta_temporal']\n",
    "alpha_gamma = ['Alpha_frontal','Alpha_temporal','Alpha_asymmetry','Relative_gamma']\n",
    "beta_gamma = ['Beta_Frontal','Beta_temporal','Relative_gamma']\n",
    "\n",
    "alpha_beta_gamma = ['Alpha_frontal','Alpha_temporal','Alpha_asymmetry','Beta_Frontal','Beta_temporal','Relative_gamma']\n",
    "\n",
    "type_list = [alpha,gamma,alpha_beta,alpha_gamma,beta_gamma,alpha_beta_gamma]\n",
    "name_list = ['alpha','gamma','alpha_beta','alpha_gamma','beta_gamma','alpha_beta_gamma']"
   ]
  },
  {
   "cell_type": "code",
   "execution_count": 214,
   "metadata": {},
   "outputs": [
    {
     "name": "stdout",
     "output_type": "stream",
     "text": [
      "alpha\n",
      "SVC()\n",
      " Train Acc : 0.6154 Score :0.5333 Test Acc : 0.5\n",
      "LogisticRegression()\n",
      " Train Acc : 0.6154 Score :0.6000 Test Acc : 0.5\n",
      "GaussianNB()\n",
      " Train Acc : 0.6923 Score :0.6667 Test Acc : 0.25\n",
      "KNeighborsClassifier(n_neighbors=2)\n",
      " Train Acc : 0.7692 Score :0.7000 Test Acc : 0.5\n",
      "RandomForestClassifier()\n",
      " Train Acc : 1.0000 Score :0.5333 Test Acc : 0.5\n",
      "-------------------------------\n",
      "gamma\n",
      "SVC()\n",
      " Train Acc : 0.6923 Score :0.6000 Test Acc : 0.5\n",
      "LogisticRegression()\n",
      " Train Acc : 0.6154 Score :0.6000 Test Acc : 0.5\n",
      "GaussianNB()\n",
      " Train Acc : 0.6154 Score :0.3333 Test Acc : 0.5\n",
      "KNeighborsClassifier(n_neighbors=2)\n",
      " Train Acc : 0.6154 Score :0.4333 Test Acc : 0.5\n",
      "RandomForestClassifier()\n",
      " Train Acc : 1.0000 Score :0.3667 Test Acc : 0.25\n",
      "-------------------------------\n",
      "alpha_beta\n",
      "SVC()\n",
      " Train Acc : 0.6154 Score :0.6667 Test Acc : 0.5\n",
      "LogisticRegression()\n",
      " Train Acc : 0.6154 Score :0.6000 Test Acc : 0.5\n",
      "GaussianNB()\n",
      " Train Acc : 0.8462 Score :0.7333 Test Acc : 0.5\n",
      "KNeighborsClassifier(n_neighbors=2)\n",
      " Train Acc : 0.9231 Score :0.6333 Test Acc : 0.5\n",
      "RandomForestClassifier()\n",
      " Train Acc : 1.0000 Score :0.5667 Test Acc : 0.75\n",
      "-------------------------------\n",
      "alpha_gamma\n",
      "SVC()\n",
      " Train Acc : 0.6154 Score :0.6000 Test Acc : 0.5\n",
      "LogisticRegression()\n",
      " Train Acc : 0.6154 Score :0.6000 Test Acc : 0.5\n",
      "GaussianNB()\n",
      " Train Acc : 0.6923 Score :0.5333 Test Acc : 0.25\n",
      "KNeighborsClassifier(n_neighbors=2)\n",
      " Train Acc : 0.9231 Score :0.4667 Test Acc : 0.75\n",
      "RandomForestClassifier()\n",
      " Train Acc : 1.0000 Score :0.5000 Test Acc : 0.5\n",
      "-------------------------------\n",
      "beta_gamma\n",
      "SVC()\n",
      " Train Acc : 0.6154 Score :0.5333 Test Acc : 0.5\n",
      "LogisticRegression()\n",
      " Train Acc : 0.6154 Score :0.6000 Test Acc : 0.5\n",
      "GaussianNB()\n",
      " Train Acc : 0.8462 Score :0.6000 Test Acc : 0.75\n",
      "KNeighborsClassifier(n_neighbors=2)\n",
      " Train Acc : 0.8462 Score :0.5000 Test Acc : 0.75\n",
      "RandomForestClassifier()\n",
      " Train Acc : 1.0000 Score :0.3667 Test Acc : 0.5\n",
      "-------------------------------\n",
      "alpha_beta_gamma\n",
      "SVC()\n",
      " Train Acc : 0.6154 Score :0.6000 Test Acc : 0.5\n",
      "LogisticRegression()\n",
      " Train Acc : 0.6154 Score :0.5333 Test Acc : 0.5\n",
      "GaussianNB()\n",
      " Train Acc : 0.8462 Score :0.6667 Test Acc : 0.5\n",
      "KNeighborsClassifier(n_neighbors=2)\n",
      " Train Acc : 0.8462 Score :0.5333 Test Acc : 0.75\n",
      "RandomForestClassifier()\n",
      " Train Acc : 1.0000 Score :0.3667 Test Acc : 0.5\n",
      "-------------------------------\n"
     ]
    }
   ],
   "source": [
    "from sklearn.model_selection import train_test_split\n",
    "i = 0\n",
    "for type in type_list:\n",
    "    X_train, X_test, y_train, y_test = train_test_split(df_asy[type], y, test_size=0.2, random_state=999)\n",
    "    X_train.shape, X_test.shape, y_train.shape, y_test.shape\n",
    "\n",
    "    from sklearn.preprocessing import MinMaxScaler\n",
    "    from sklearn.preprocessing import StandardScaler\n",
    "    scaler = MinMaxScaler()\n",
    "    X_train = scaler.fit_transform(X_train)\n",
    "    X_test = scaler.transform(X_test)\n",
    "\n",
    "    print(name_list[i])\n",
    "    train_pipe(X_train, X_test, y_train, y_test)\n",
    "    i = i + 1\n",
    "    print('-------------------------------')"
   ]
  },
  {
   "cell_type": "code",
   "execution_count": 215,
   "metadata": {},
   "outputs": [],
   "source": [
    "#need chunking process"
   ]
  }
 ],
 "metadata": {
  "kernelspec": {
   "display_name": "Python 3.10.4 64-bit",
   "language": "python",
   "name": "python3"
  },
  "language_info": {
   "codemirror_mode": {
    "name": "ipython",
    "version": 3
   },
   "file_extension": ".py",
   "mimetype": "text/x-python",
   "name": "python",
   "nbconvert_exporter": "python",
   "pygments_lexer": "ipython3",
   "version": "3.10.4"
  },
  "orig_nbformat": 4,
  "vscode": {
   "interpreter": {
    "hash": "c81d839d3c4227cd770621df97fe8191838af02e7eef185a922d8250cb33d344"
   }
  }
 },
 "nbformat": 4,
 "nbformat_minor": 2
}
