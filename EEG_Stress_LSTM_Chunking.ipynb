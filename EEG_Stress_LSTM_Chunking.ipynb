{
  "nbformat": 4,
  "nbformat_minor": 0,
  "metadata": {
    "colab": {
      "provenance": [],
      "authorship_tag": "ABX9TyMa3SHJZCwk8u7Lu7QFmGpi",
      "include_colab_link": true
    },
    "kernelspec": {
      "name": "python3",
      "display_name": "Python 3"
    },
    "language_info": {
      "name": "python"
    },
    "accelerator": "GPU",
    "gpuClass": "standard"
  },
  "cells": [
    {
      "cell_type": "markdown",
      "metadata": {
        "id": "view-in-github",
        "colab_type": "text"
      },
      "source": [
        "<a href=\"https://colab.research.google.com/github/guntsvzz/CP_Project/blob/main/EEG_Stress_LSTM_Chunking.ipynb\" target=\"_parent\"><img src=\"https://colab.research.google.com/assets/colab-badge.svg\" alt=\"Open In Colab\"/></a>"
      ]
    },
    {
      "cell_type": "code",
      "source": [
        "!pip install --upgrade --no-cache-dir gdown"
      ],
      "metadata": {
        "colab": {
          "base_uri": "https://localhost:8080/"
        },
        "id": "fwrERBtOU9hH",
        "outputId": "f731b136-a722-46d3-8aae-73e05e9e3bfa"
      },
      "execution_count": 1,
      "outputs": [
        {
          "output_type": "stream",
          "name": "stdout",
          "text": [
            "Looking in indexes: https://pypi.org/simple, https://us-python.pkg.dev/colab-wheels/public/simple/\n",
            "Requirement already satisfied: gdown in /usr/local/lib/python3.7/dist-packages (4.4.0)\n",
            "Collecting gdown\n",
            "  Downloading gdown-4.5.4-py3-none-any.whl (14 kB)\n",
            "Requirement already satisfied: beautifulsoup4 in /usr/local/lib/python3.7/dist-packages (from gdown) (4.6.3)\n",
            "Requirement already satisfied: requests[socks] in /usr/local/lib/python3.7/dist-packages (from gdown) (2.23.0)\n",
            "Requirement already satisfied: filelock in /usr/local/lib/python3.7/dist-packages (from gdown) (3.8.0)\n",
            "Requirement already satisfied: tqdm in /usr/local/lib/python3.7/dist-packages (from gdown) (4.64.1)\n",
            "Requirement already satisfied: six in /usr/local/lib/python3.7/dist-packages (from gdown) (1.15.0)\n",
            "Requirement already satisfied: chardet<4,>=3.0.2 in /usr/local/lib/python3.7/dist-packages (from requests[socks]->gdown) (3.0.4)\n",
            "Requirement already satisfied: certifi>=2017.4.17 in /usr/local/lib/python3.7/dist-packages (from requests[socks]->gdown) (2022.9.24)\n",
            "Requirement already satisfied: idna<3,>=2.5 in /usr/local/lib/python3.7/dist-packages (from requests[socks]->gdown) (2.10)\n",
            "Requirement already satisfied: urllib3!=1.25.0,!=1.25.1,<1.26,>=1.21.1 in /usr/local/lib/python3.7/dist-packages (from requests[socks]->gdown) (1.24.3)\n",
            "Requirement already satisfied: PySocks!=1.5.7,>=1.5.6 in /usr/local/lib/python3.7/dist-packages (from requests[socks]->gdown) (1.7.1)\n",
            "Installing collected packages: gdown\n",
            "  Attempting uninstall: gdown\n",
            "    Found existing installation: gdown 4.4.0\n",
            "    Uninstalling gdown-4.4.0:\n",
            "      Successfully uninstalled gdown-4.4.0\n",
            "Successfully installed gdown-4.5.4\n"
          ]
        }
      ]
    },
    {
      "cell_type": "code",
      "source": [
        "!gdown --id 1KZjrJfUrB_k1g8VUsohNpek_hvWNqGcr"
      ],
      "metadata": {
        "colab": {
          "base_uri": "https://localhost:8080/"
        },
        "id": "vup-n60iVEOK",
        "outputId": "e50b04e7-a7c1-4933-8a49-430b2671d8e5"
      },
      "execution_count": 2,
      "outputs": [
        {
          "output_type": "stream",
          "name": "stdout",
          "text": [
            "/usr/local/lib/python3.7/dist-packages/gdown/cli.py:125: FutureWarning: Option `--id` was deprecated in version 4.3.1 and will be removed in 5.0. You don't need to pass it anymore to use a file ID.\n",
            "  category=FutureWarning,\n",
            "Downloading...\n",
            "From: https://drive.google.com/uc?id=1KZjrJfUrB_k1g8VUsohNpek_hvWNqGcr\n",
            "To: /content/Clean_signal.zip\n",
            "100% 113M/113M [00:00<00:00, 226MB/s] \n"
          ]
        }
      ]
    },
    {
      "cell_type": "code",
      "source": [
        "!unzip '/content/Clean_signal.zip'\n",
        "#!mv '/content/clean_exp16' 'Cleaned_signal'"
      ],
      "metadata": {
        "colab": {
          "base_uri": "https://localhost:8080/"
        },
        "id": "6pIlRs5wVA7D",
        "outputId": "c3637fed-9f0a-45b1-acf9-ff5fd5831b2e"
      },
      "execution_count": 3,
      "outputs": [
        {
          "output_type": "stream",
          "name": "stdout",
          "text": [
            "Archive:  /content/Clean_signal.zip\n",
            "   creating: Clean_signal/\n",
            "  inflating: __MACOSX/._Clean_signal  \n",
            "  inflating: Clean_signal/PSS10 - Sheet1.csv  \n",
            "  inflating: __MACOSX/Clean_signal/._PSS10 - Sheet1.csv  \n",
            "  inflating: Clean_signal/clean_exp08.csv  \n",
            "  inflating: __MACOSX/Clean_signal/._clean_exp08.csv  \n",
            "  inflating: Clean_signal/clean_exp09.csv  \n",
            "  inflating: __MACOSX/Clean_signal/._clean_exp09.csv  \n",
            "  inflating: Clean_signal/clean_exp01.csv  \n",
            "  inflating: __MACOSX/Clean_signal/._clean_exp01.csv  \n",
            "  inflating: Clean_signal/clean_exp15.csv  \n",
            "  inflating: __MACOSX/Clean_signal/._clean_exp15.csv  \n",
            "  inflating: Clean_signal/clean_exp14.csv  \n",
            "  inflating: __MACOSX/Clean_signal/._clean_exp14.csv  \n",
            "  inflating: Clean_signal/clean_exp16.csv  \n",
            "  inflating: __MACOSX/Clean_signal/._clean_exp16.csv  \n",
            "  inflating: Clean_signal/clean_exp02.csv  \n",
            "  inflating: __MACOSX/Clean_signal/._clean_exp02.csv  \n",
            "  inflating: Clean_signal/clean_exp03.csv  \n",
            "  inflating: __MACOSX/Clean_signal/._clean_exp03.csv  \n",
            "  inflating: Clean_signal/clean_exp17.csv  \n",
            "  inflating: __MACOSX/Clean_signal/._clean_exp17.csv  \n",
            "  inflating: Clean_signal/clean_exp13.csv  \n",
            "  inflating: __MACOSX/Clean_signal/._clean_exp13.csv  \n",
            "  inflating: Clean_signal/clean_exp07.csv  \n",
            "  inflating: __MACOSX/Clean_signal/._clean_exp07.csv  \n",
            "  inflating: Clean_signal/clean_exp06.csv  \n",
            "  inflating: __MACOSX/Clean_signal/._clean_exp06.csv  \n",
            "  inflating: Clean_signal/clean_exp12.csv  \n",
            "  inflating: __MACOSX/Clean_signal/._clean_exp12.csv  \n",
            "  inflating: Clean_signal/clean_exp04.csv  \n",
            "  inflating: __MACOSX/Clean_signal/._clean_exp04.csv  \n",
            "  inflating: Clean_signal/clean_exp10.csv  \n",
            "  inflating: __MACOSX/Clean_signal/._clean_exp10.csv  \n",
            "  inflating: Clean_signal/clean_exp11.csv  \n",
            "  inflating: __MACOSX/Clean_signal/._clean_exp11.csv  \n",
            "  inflating: Clean_signal/clean_exp05.csv  \n",
            "  inflating: __MACOSX/Clean_signal/._clean_exp05.csv  \n"
          ]
        }
      ]
    },
    {
      "cell_type": "code",
      "source": [
        "pip install mne"
      ],
      "metadata": {
        "colab": {
          "base_uri": "https://localhost:8080/"
        },
        "id": "pwzKGAORVEVK",
        "outputId": "b6b668a7-08e7-484a-b3ca-d8dc7ed88808"
      },
      "execution_count": 4,
      "outputs": [
        {
          "output_type": "stream",
          "name": "stdout",
          "text": [
            "Looking in indexes: https://pypi.org/simple, https://us-python.pkg.dev/colab-wheels/public/simple/\n",
            "Collecting mne\n",
            "  Downloading mne-1.2.2-py3-none-any.whl (7.6 MB)\n",
            "\u001b[K     |████████████████████████████████| 7.6 MB 15.6 MB/s \n",
            "\u001b[?25hRequirement already satisfied: decorator in /usr/local/lib/python3.7/dist-packages (from mne) (4.4.2)\n",
            "Requirement already satisfied: pooch>=1.5 in /usr/local/lib/python3.7/dist-packages (from mne) (1.6.0)\n",
            "Requirement already satisfied: numpy>=1.15.4 in /usr/local/lib/python3.7/dist-packages (from mne) (1.21.6)\n",
            "Requirement already satisfied: jinja2 in /usr/local/lib/python3.7/dist-packages (from mne) (2.11.3)\n",
            "Requirement already satisfied: matplotlib in /usr/local/lib/python3.7/dist-packages (from mne) (3.2.2)\n",
            "Requirement already satisfied: tqdm in /usr/local/lib/python3.7/dist-packages (from mne) (4.64.1)\n",
            "Requirement already satisfied: scipy>=1.1.0 in /usr/local/lib/python3.7/dist-packages (from mne) (1.7.3)\n",
            "Requirement already satisfied: packaging in /usr/local/lib/python3.7/dist-packages (from mne) (21.3)\n",
            "Requirement already satisfied: requests>=2.19.0 in /usr/local/lib/python3.7/dist-packages (from pooch>=1.5->mne) (2.23.0)\n",
            "Requirement already satisfied: appdirs>=1.3.0 in /usr/local/lib/python3.7/dist-packages (from pooch>=1.5->mne) (1.4.4)\n",
            "Requirement already satisfied: pyparsing!=3.0.5,>=2.0.2 in /usr/local/lib/python3.7/dist-packages (from packaging->mne) (3.0.9)\n",
            "Requirement already satisfied: urllib3!=1.25.0,!=1.25.1,<1.26,>=1.21.1 in /usr/local/lib/python3.7/dist-packages (from requests>=2.19.0->pooch>=1.5->mne) (1.24.3)\n",
            "Requirement already satisfied: chardet<4,>=3.0.2 in /usr/local/lib/python3.7/dist-packages (from requests>=2.19.0->pooch>=1.5->mne) (3.0.4)\n",
            "Requirement already satisfied: idna<3,>=2.5 in /usr/local/lib/python3.7/dist-packages (from requests>=2.19.0->pooch>=1.5->mne) (2.10)\n",
            "Requirement already satisfied: certifi>=2017.4.17 in /usr/local/lib/python3.7/dist-packages (from requests>=2.19.0->pooch>=1.5->mne) (2022.9.24)\n",
            "Requirement already satisfied: MarkupSafe>=0.23 in /usr/local/lib/python3.7/dist-packages (from jinja2->mne) (2.0.1)\n",
            "Requirement already satisfied: python-dateutil>=2.1 in /usr/local/lib/python3.7/dist-packages (from matplotlib->mne) (2.8.2)\n",
            "Requirement already satisfied: kiwisolver>=1.0.1 in /usr/local/lib/python3.7/dist-packages (from matplotlib->mne) (1.4.4)\n",
            "Requirement already satisfied: cycler>=0.10 in /usr/local/lib/python3.7/dist-packages (from matplotlib->mne) (0.11.0)\n",
            "Requirement already satisfied: typing-extensions in /usr/local/lib/python3.7/dist-packages (from kiwisolver>=1.0.1->matplotlib->mne) (4.1.1)\n",
            "Requirement already satisfied: six>=1.5 in /usr/local/lib/python3.7/dist-packages (from python-dateutil>=2.1->matplotlib->mne) (1.15.0)\n",
            "Installing collected packages: mne\n",
            "Successfully installed mne-1.2.2\n"
          ]
        }
      ]
    },
    {
      "cell_type": "code",
      "source": [
        "pip install components"
      ],
      "metadata": {
        "colab": {
          "base_uri": "https://localhost:8080/"
        },
        "id": "w10ogyD1VEYJ",
        "outputId": "b5349891-e948-4ff1-e61a-66b5a74dd58b"
      },
      "execution_count": 5,
      "outputs": [
        {
          "output_type": "stream",
          "name": "stdout",
          "text": [
            "Looking in indexes: https://pypi.org/simple, https://us-python.pkg.dev/colab-wheels/public/simple/\n",
            "Collecting components\n",
            "  Downloading components-1.2.8-py3-none-any.whl (11 kB)\n",
            "Installing collected packages: components\n",
            "Successfully installed components-1.2.8\n"
          ]
        }
      ]
    },
    {
      "cell_type": "code",
      "source": [
        "import pickle\n",
        "import numpy as np\n",
        "import os\n",
        "import mne\n",
        "import pandas as pd\n",
        "pickle.format_version\n",
        "\n",
        "import torch\n",
        "import torch.nn as nn\n",
        "import torch.nn.functional as F\n",
        "from torchvision import datasets, transforms  \n",
        "from torch.utils.data import DataLoader, Dataset  \n",
        "from torch.utils.data import TensorDataset\n",
        "from torch.autograd import Variable\n",
        "\n",
        "import pandas as pd\n",
        "from sklearn.metrics import confusion_matrix, ConfusionMatrixDisplay\n",
        "import matplotlib.pyplot as plt\n",
        "\n",
        "from sklearn.model_selection import train_test_split\n",
        "\n",
        "# setting seed so that splitting process and training process can be reproduce\n",
        "torch.manual_seed(1)"
      ],
      "metadata": {
        "colab": {
          "base_uri": "https://localhost:8080/"
        },
        "id": "oV3Wo3-mVEa9",
        "outputId": "c5b1d2b3-4b1f-4705-826c-f07bcf761a37"
      },
      "execution_count": 53,
      "outputs": [
        {
          "output_type": "execute_result",
          "data": {
            "text/plain": [
              "<torch._C.Generator at 0x7f73ff72cd90>"
            ]
          },
          "metadata": {},
          "execution_count": 53
        }
      ]
    },
    {
      "cell_type": "markdown",
      "source": [
        "# ETL"
      ],
      "metadata": {
        "id": "6v7rkdizVS5M"
      }
    },
    {
      "cell_type": "code",
      "source": [
        "import os\n",
        "main_path = os.getcwd()\n",
        "filename = os.listdir(main_path + '/Clean_signal/')"
      ],
      "metadata": {
        "id": "RhLkEKQ1VEdx"
      },
      "execution_count": 54,
      "outputs": []
    },
    {
      "cell_type": "code",
      "source": [
        "filename = ['clean_exp01.csv',\n",
        " 'clean_exp02.csv',\n",
        " 'clean_exp03.csv',\n",
        " 'clean_exp04.csv',\n",
        " 'clean_exp05.csv',\n",
        " 'clean_exp06.csv',\n",
        " 'clean_exp07.csv',\n",
        " 'clean_exp08.csv',\n",
        " 'clean_exp09.csv',\n",
        " 'clean_exp10.csv',\n",
        " 'clean_exp11.csv',\n",
        " 'clean_exp12.csv',\n",
        " 'clean_exp13.csv',\n",
        " 'clean_exp14.csv',\n",
        " 'clean_exp15.csv',\n",
        " 'clean_exp16.csv',\n",
        " 'clean_exp17.csv']"
      ],
      "metadata": {
        "id": "cLR-bCqaVEgo"
      },
      "execution_count": 55,
      "outputs": []
    },
    {
      "cell_type": "code",
      "source": [
        "all_file_path = main_path + '/Clean_signal/'\n",
        "X_list = list()\n",
        "for file in filename:\n",
        "    file_path = all_file_path + file\n",
        "    df = pd.read_csv(file_path, index_col=None)\n",
        "    df = df.loc[:, ~df.columns.str.contains('^Unnamed')]\n",
        "    X_list.append(df)  "
      ],
      "metadata": {
        "id": "IT1a4C7WUiup"
      },
      "execution_count": 56,
      "outputs": []
    },
    {
      "cell_type": "code",
      "source": [
        "df.head()"
      ],
      "metadata": {
        "colab": {
          "base_uri": "https://localhost:8080/",
          "height": 270
        },
        "id": "COY-Jz-ZUiyo",
        "outputId": "e44a53e0-c4c5-4cc0-bf44-ea64ab4b6cee"
      },
      "execution_count": 57,
      "outputs": [
        {
          "output_type": "execute_result",
          "data": {
            "text/plain": [
              "            Fp1           Fp2            F7            F3            F4  \\\n",
              "0  1.558541e-13  1.202787e-12 -1.822815e-12 -6.666149e-13 -1.524659e-14   \n",
              "1 -2.495299e+02 -2.591266e+02 -2.392414e+02 -2.472481e+02 -1.342918e+02   \n",
              "2 -1.022146e+02 -1.071695e+02 -8.913196e+01 -9.320015e+01 -7.188064e+01   \n",
              "3 -1.894707e+02 -1.985657e+02 -1.666088e+02 -1.773347e+02 -1.206077e+02   \n",
              "4 -1.976600e+02 -2.088452e+02 -1.691085e+02 -1.829386e+02 -1.219805e+02   \n",
              "\n",
              "             F8            T3            C3            C4            T4  \\\n",
              "0 -9.656176e-14  1.778769e-13 -7.318365e-13 -3.218725e-14  6.776264e-15   \n",
              "1 -2.469675e+02 -2.368676e+02 -2.375381e+02  8.964020e+01  9.114929e+01   \n",
              "2 -9.669399e+01 -7.360927e+01 -7.934479e+01 -8.483305e+00 -3.966042e+00   \n",
              "3 -1.861381e+02 -1.566157e+02 -1.616160e+02  1.053098e+01  1.359837e+01   \n",
              "4 -1.981792e+02 -1.664133e+02 -1.711082e+02  5.430791e+00  5.540176e+00   \n",
              "\n",
              "             T5            P3            P4            T6            O1  \\\n",
              "0  2.463172e-12 -5.293956e-13  1.679243e-13  2.774456e-12 -3.303428e-13   \n",
              "1  9.105020e+01  7.684951e+01  1.383037e+02 -4.155527e+02 -3.083336e+02   \n",
              "2  6.921319e-02 -5.860820e+00  6.340924e+00 -1.006591e+02 -7.385641e+01   \n",
              "3  2.570865e+01  1.375228e+01  4.319836e+01 -2.383818e+02 -1.751361e+02   \n",
              "4  2.039321e+01  9.522058e+00  4.153111e+01 -2.713544e+02 -1.985949e+02   \n",
              "\n",
              "             O2  \n",
              "0  2.217109e-13  \n",
              "1 -1.145710e+02  \n",
              "2 -3.186257e+01  \n",
              "3 -7.472951e+01  \n",
              "4 -9.082392e+01  "
            ],
            "text/html": [
              "\n",
              "  <div id=\"df-9f550a85-768c-4879-96e5-232385527267\">\n",
              "    <div class=\"colab-df-container\">\n",
              "      <div>\n",
              "<style scoped>\n",
              "    .dataframe tbody tr th:only-of-type {\n",
              "        vertical-align: middle;\n",
              "    }\n",
              "\n",
              "    .dataframe tbody tr th {\n",
              "        vertical-align: top;\n",
              "    }\n",
              "\n",
              "    .dataframe thead th {\n",
              "        text-align: right;\n",
              "    }\n",
              "</style>\n",
              "<table border=\"1\" class=\"dataframe\">\n",
              "  <thead>\n",
              "    <tr style=\"text-align: right;\">\n",
              "      <th></th>\n",
              "      <th>Fp1</th>\n",
              "      <th>Fp2</th>\n",
              "      <th>F7</th>\n",
              "      <th>F3</th>\n",
              "      <th>F4</th>\n",
              "      <th>F8</th>\n",
              "      <th>T3</th>\n",
              "      <th>C3</th>\n",
              "      <th>C4</th>\n",
              "      <th>T4</th>\n",
              "      <th>T5</th>\n",
              "      <th>P3</th>\n",
              "      <th>P4</th>\n",
              "      <th>T6</th>\n",
              "      <th>O1</th>\n",
              "      <th>O2</th>\n",
              "    </tr>\n",
              "  </thead>\n",
              "  <tbody>\n",
              "    <tr>\n",
              "      <th>0</th>\n",
              "      <td>1.558541e-13</td>\n",
              "      <td>1.202787e-12</td>\n",
              "      <td>-1.822815e-12</td>\n",
              "      <td>-6.666149e-13</td>\n",
              "      <td>-1.524659e-14</td>\n",
              "      <td>-9.656176e-14</td>\n",
              "      <td>1.778769e-13</td>\n",
              "      <td>-7.318365e-13</td>\n",
              "      <td>-3.218725e-14</td>\n",
              "      <td>6.776264e-15</td>\n",
              "      <td>2.463172e-12</td>\n",
              "      <td>-5.293956e-13</td>\n",
              "      <td>1.679243e-13</td>\n",
              "      <td>2.774456e-12</td>\n",
              "      <td>-3.303428e-13</td>\n",
              "      <td>2.217109e-13</td>\n",
              "    </tr>\n",
              "    <tr>\n",
              "      <th>1</th>\n",
              "      <td>-2.495299e+02</td>\n",
              "      <td>-2.591266e+02</td>\n",
              "      <td>-2.392414e+02</td>\n",
              "      <td>-2.472481e+02</td>\n",
              "      <td>-1.342918e+02</td>\n",
              "      <td>-2.469675e+02</td>\n",
              "      <td>-2.368676e+02</td>\n",
              "      <td>-2.375381e+02</td>\n",
              "      <td>8.964020e+01</td>\n",
              "      <td>9.114929e+01</td>\n",
              "      <td>9.105020e+01</td>\n",
              "      <td>7.684951e+01</td>\n",
              "      <td>1.383037e+02</td>\n",
              "      <td>-4.155527e+02</td>\n",
              "      <td>-3.083336e+02</td>\n",
              "      <td>-1.145710e+02</td>\n",
              "    </tr>\n",
              "    <tr>\n",
              "      <th>2</th>\n",
              "      <td>-1.022146e+02</td>\n",
              "      <td>-1.071695e+02</td>\n",
              "      <td>-8.913196e+01</td>\n",
              "      <td>-9.320015e+01</td>\n",
              "      <td>-7.188064e+01</td>\n",
              "      <td>-9.669399e+01</td>\n",
              "      <td>-7.360927e+01</td>\n",
              "      <td>-7.934479e+01</td>\n",
              "      <td>-8.483305e+00</td>\n",
              "      <td>-3.966042e+00</td>\n",
              "      <td>6.921319e-02</td>\n",
              "      <td>-5.860820e+00</td>\n",
              "      <td>6.340924e+00</td>\n",
              "      <td>-1.006591e+02</td>\n",
              "      <td>-7.385641e+01</td>\n",
              "      <td>-3.186257e+01</td>\n",
              "    </tr>\n",
              "    <tr>\n",
              "      <th>3</th>\n",
              "      <td>-1.894707e+02</td>\n",
              "      <td>-1.985657e+02</td>\n",
              "      <td>-1.666088e+02</td>\n",
              "      <td>-1.773347e+02</td>\n",
              "      <td>-1.206077e+02</td>\n",
              "      <td>-1.861381e+02</td>\n",
              "      <td>-1.566157e+02</td>\n",
              "      <td>-1.616160e+02</td>\n",
              "      <td>1.053098e+01</td>\n",
              "      <td>1.359837e+01</td>\n",
              "      <td>2.570865e+01</td>\n",
              "      <td>1.375228e+01</td>\n",
              "      <td>4.319836e+01</td>\n",
              "      <td>-2.383818e+02</td>\n",
              "      <td>-1.751361e+02</td>\n",
              "      <td>-7.472951e+01</td>\n",
              "    </tr>\n",
              "    <tr>\n",
              "      <th>4</th>\n",
              "      <td>-1.976600e+02</td>\n",
              "      <td>-2.088452e+02</td>\n",
              "      <td>-1.691085e+02</td>\n",
              "      <td>-1.829386e+02</td>\n",
              "      <td>-1.219805e+02</td>\n",
              "      <td>-1.981792e+02</td>\n",
              "      <td>-1.664133e+02</td>\n",
              "      <td>-1.711082e+02</td>\n",
              "      <td>5.430791e+00</td>\n",
              "      <td>5.540176e+00</td>\n",
              "      <td>2.039321e+01</td>\n",
              "      <td>9.522058e+00</td>\n",
              "      <td>4.153111e+01</td>\n",
              "      <td>-2.713544e+02</td>\n",
              "      <td>-1.985949e+02</td>\n",
              "      <td>-9.082392e+01</td>\n",
              "    </tr>\n",
              "  </tbody>\n",
              "</table>\n",
              "</div>\n",
              "      <button class=\"colab-df-convert\" onclick=\"convertToInteractive('df-9f550a85-768c-4879-96e5-232385527267')\"\n",
              "              title=\"Convert this dataframe to an interactive table.\"\n",
              "              style=\"display:none;\">\n",
              "        \n",
              "  <svg xmlns=\"http://www.w3.org/2000/svg\" height=\"24px\"viewBox=\"0 0 24 24\"\n",
              "       width=\"24px\">\n",
              "    <path d=\"M0 0h24v24H0V0z\" fill=\"none\"/>\n",
              "    <path d=\"M18.56 5.44l.94 2.06.94-2.06 2.06-.94-2.06-.94-.94-2.06-.94 2.06-2.06.94zm-11 1L8.5 8.5l.94-2.06 2.06-.94-2.06-.94L8.5 2.5l-.94 2.06-2.06.94zm10 10l.94 2.06.94-2.06 2.06-.94-2.06-.94-.94-2.06-.94 2.06-2.06.94z\"/><path d=\"M17.41 7.96l-1.37-1.37c-.4-.4-.92-.59-1.43-.59-.52 0-1.04.2-1.43.59L10.3 9.45l-7.72 7.72c-.78.78-.78 2.05 0 2.83L4 21.41c.39.39.9.59 1.41.59.51 0 1.02-.2 1.41-.59l7.78-7.78 2.81-2.81c.8-.78.8-2.07 0-2.86zM5.41 20L4 18.59l7.72-7.72 1.47 1.35L5.41 20z\"/>\n",
              "  </svg>\n",
              "      </button>\n",
              "      \n",
              "  <style>\n",
              "    .colab-df-container {\n",
              "      display:flex;\n",
              "      flex-wrap:wrap;\n",
              "      gap: 12px;\n",
              "    }\n",
              "\n",
              "    .colab-df-convert {\n",
              "      background-color: #E8F0FE;\n",
              "      border: none;\n",
              "      border-radius: 50%;\n",
              "      cursor: pointer;\n",
              "      display: none;\n",
              "      fill: #1967D2;\n",
              "      height: 32px;\n",
              "      padding: 0 0 0 0;\n",
              "      width: 32px;\n",
              "    }\n",
              "\n",
              "    .colab-df-convert:hover {\n",
              "      background-color: #E2EBFA;\n",
              "      box-shadow: 0px 1px 2px rgba(60, 64, 67, 0.3), 0px 1px 3px 1px rgba(60, 64, 67, 0.15);\n",
              "      fill: #174EA6;\n",
              "    }\n",
              "\n",
              "    [theme=dark] .colab-df-convert {\n",
              "      background-color: #3B4455;\n",
              "      fill: #D2E3FC;\n",
              "    }\n",
              "\n",
              "    [theme=dark] .colab-df-convert:hover {\n",
              "      background-color: #434B5C;\n",
              "      box-shadow: 0px 1px 3px 1px rgba(0, 0, 0, 0.15);\n",
              "      filter: drop-shadow(0px 1px 2px rgba(0, 0, 0, 0.3));\n",
              "      fill: #FFFFFF;\n",
              "    }\n",
              "  </style>\n",
              "\n",
              "      <script>\n",
              "        const buttonEl =\n",
              "          document.querySelector('#df-9f550a85-768c-4879-96e5-232385527267 button.colab-df-convert');\n",
              "        buttonEl.style.display =\n",
              "          google.colab.kernel.accessAllowed ? 'block' : 'none';\n",
              "\n",
              "        async function convertToInteractive(key) {\n",
              "          const element = document.querySelector('#df-9f550a85-768c-4879-96e5-232385527267');\n",
              "          const dataTable =\n",
              "            await google.colab.kernel.invokeFunction('convertToInteractive',\n",
              "                                                     [key], {});\n",
              "          if (!dataTable) return;\n",
              "\n",
              "          const docLinkHtml = 'Like what you see? Visit the ' +\n",
              "            '<a target=\"_blank\" href=https://colab.research.google.com/notebooks/data_table.ipynb>data table notebook</a>'\n",
              "            + ' to learn more about interactive tables.';\n",
              "          element.innerHTML = '';\n",
              "          dataTable['output_type'] = 'display_data';\n",
              "          await google.colab.output.renderOutput(dataTable, element);\n",
              "          const docLink = document.createElement('div');\n",
              "          docLink.innerHTML = docLinkHtml;\n",
              "          element.appendChild(docLink);\n",
              "        }\n",
              "      </script>\n",
              "    </div>\n",
              "  </div>\n",
              "  "
            ]
          },
          "metadata": {},
          "execution_count": 57
        }
      ]
    },
    {
      "cell_type": "code",
      "source": [
        "X = np.array(X_list)\n",
        "X.shape \n",
        "#17 people \n",
        "#250 hz * 60 secs * 3 min\n",
        "#16 channels"
      ],
      "metadata": {
        "colab": {
          "base_uri": "https://localhost:8080/"
        },
        "id": "PEw38IzfV9Ze",
        "outputId": "61416ea1-a824-41d7-d583-6737a3a34863"
      },
      "execution_count": 58,
      "outputs": [
        {
          "output_type": "execute_result",
          "data": {
            "text/plain": [
              "(17, 45000, 16)"
            ]
          },
          "metadata": {},
          "execution_count": 58
        }
      ]
    },
    {
      "cell_type": "code",
      "source": [
        "# Reshape\n",
        "X = np.transpose(X, (0, 2, 1))\n",
        "X.shape"
      ],
      "metadata": {
        "colab": {
          "base_uri": "https://localhost:8080/"
        },
        "id": "2sJ3TIjQV9cz",
        "outputId": "7abcbfed-b5ed-4f2b-aee7-cb291e77619b"
      },
      "execution_count": 59,
      "outputs": [
        {
          "output_type": "execute_result",
          "data": {
            "text/plain": [
              "(17, 16, 45000)"
            ]
          },
          "metadata": {},
          "execution_count": 59
        }
      ]
    },
    {
      "cell_type": "code",
      "source": [
        "def vectorized_windowing(arr, window_len, overlap_len=None):\n",
        "    '''\n",
        "    Sliding window without using loop\n",
        "    '''\n",
        "    seq_len = arr.shape[-1]\n",
        "    \n",
        "    if not overlap_len:\n",
        "        overlap_len = window_len\n",
        "\n",
        "    n_sliding_windows = ((seq_len - window_len) // overlap_len) + 1\n",
        "\n",
        "    sub_windows = np.array([np.arange(window_len)]) + np.array([np.arange(n_sliding_windows) * overlap_len]).T\n",
        "\n",
        "    slided_arr = arr[..., sub_windows]\n",
        "\n",
        "    return slided_arr\n"
      ],
      "metadata": {
        "id": "x9lOPEaJ1Upc"
      },
      "execution_count": 60,
      "outputs": []
    },
    {
      "cell_type": "code",
      "source": [
        "X_chunked = vectorized_windowing(X, window_len=4500)\n",
        "X_chunked = np.swapaxes(X_chunked,1,2).reshape(-1, 16, 4500)\n",
        "\n",
        "print(X_chunked.shape)\n",
        "\n",
        "X = X_chunked.copy()\n",
        "\n",
        "# 17 people split in 10 chunks\n",
        "# 16 channels\n",
        "# 4500 signals "
      ],
      "metadata": {
        "colab": {
          "base_uri": "https://localhost:8080/"
        },
        "id": "-rG8-cd11Xm7",
        "outputId": "44ca613d-75e0-48b9-9193-c8a0067d9741"
      },
      "execution_count": 61,
      "outputs": [
        {
          "output_type": "stream",
          "name": "stdout",
          "text": [
            "(170, 16, 4500)\n"
          ]
        }
      ]
    },
    {
      "cell_type": "code",
      "source": [
        "y_path = '/content/Clean_signal/PSS10 - Sheet1.csv'\n",
        "df = pd.read_csv(y_path)\n",
        "y = np.array(df['label'])\n",
        "y"
      ],
      "metadata": {
        "colab": {
          "base_uri": "https://localhost:8080/"
        },
        "id": "ACZEM4DBV9fl",
        "outputId": "473212b2-6ec3-4f21-c2c6-05d1e5bb477b"
      },
      "execution_count": 62,
      "outputs": [
        {
          "output_type": "execute_result",
          "data": {
            "text/plain": [
              "array([1, 1, 1, 0, 0, 0, 0, 1, 0, 0, 0, 1, 0, 0, 0, 1, 1])"
            ]
          },
          "metadata": {},
          "execution_count": 62
        }
      ]
    },
    {
      "cell_type": "code",
      "source": [
        "y_chunked = np.repeat(y, 10)\n",
        "\n",
        "y = y_chunked.copy()"
      ],
      "metadata": {
        "id": "TEGVmz846DkW"
      },
      "execution_count": 63,
      "outputs": []
    },
    {
      "cell_type": "code",
      "source": [
        "y_chunked.shape"
      ],
      "metadata": {
        "colab": {
          "base_uri": "https://localhost:8080/"
        },
        "id": "gLXcEEK3s4BU",
        "outputId": "eece7f65-cb90-4a76-ddc2-97a7f831a071"
      },
      "execution_count": 64,
      "outputs": [
        {
          "output_type": "execute_result",
          "data": {
            "text/plain": [
              "(170,)"
            ]
          },
          "metadata": {},
          "execution_count": 64
        }
      ]
    },
    {
      "cell_type": "markdown",
      "source": [
        "# Split Data"
      ],
      "metadata": {
        "id": "nGw8680y-3N5"
      }
    },
    {
      "cell_type": "code",
      "source": [],
      "metadata": {
        "id": "TYLtlbcAWOMA"
      },
      "execution_count": 64,
      "outputs": []
    },
    {
      "cell_type": "code",
      "source": [
        "X_train, X_test, y_train, y_test = train_test_split(X, y, test_size=0.2, shuffle = False, stratify = None)\n",
        "\n",
        "print(X_train.shape, X_test.shape, y_train.shape, y_test.shape)"
      ],
      "metadata": {
        "colab": {
          "base_uri": "https://localhost:8080/"
        },
        "id": "awnviaHZcdH7",
        "outputId": "dd5dbe92-af51-4543-aab3-de6addd33288"
      },
      "execution_count": 65,
      "outputs": [
        {
          "output_type": "stream",
          "name": "stdout",
          "text": [
            "(136, 16, 4500) (34, 16, 4500) (136,) (34,)\n"
          ]
        }
      ]
    },
    {
      "cell_type": "code",
      "source": [
        "print(X_test)"
      ],
      "metadata": {
        "colab": {
          "base_uri": "https://localhost:8080/"
        },
        "id": "4lNlvnIMXXMI",
        "outputId": "7c8621b6-9ab3-41ed-80a0-94287922b275"
      },
      "execution_count": 66,
      "outputs": [
        {
          "output_type": "stream",
          "name": "stdout",
          "text": [
            "[[[ 7.84200330e+00  1.47207470e+01  1.42052595e+01 ... -5.89349247e+00\n",
            "   -1.51828042e+01 -2.08104358e+01]\n",
            "  [ 3.16583543e+00  8.26135009e+00  9.23106733e+00 ... -2.71454574e+01\n",
            "   -3.25662288e+01 -3.54135998e+01]\n",
            "  [ 2.32398500e+00  5.09731303e+00  3.61993697e-01 ... -1.74988647e+01\n",
            "   -2.87856476e+01 -3.47425425e+01]\n",
            "  ...\n",
            "  [-8.76076464e+00 -1.74142656e+00  5.77302593e-01 ...  2.39540520e+00\n",
            "    2.14318766e+00 -1.96665306e+00]\n",
            "  [ 3.02666012e+00  6.51500100e+00  4.10581095e+00 ...  3.91447209e+01\n",
            "    3.74479023e+01  2.25009333e+01]\n",
            "  [-1.46662092e+01 -3.50361569e+00  1.18964341e+00 ...  1.17311595e+01\n",
            "    1.10058886e+01 -3.73502614e+00]]\n",
            "\n",
            " [[-1.82454441e+01 -1.57154517e+01 -9.08109711e+00 ... -5.01454830e+00\n",
            "   -8.80962712e+00 -4.94259629e+00]\n",
            "  [-3.47973429e+01 -3.61339346e+01 -2.94382432e+01 ... -2.55171581e+00\n",
            "   -7.39142312e+00 -5.25420300e+00]\n",
            "  [-3.00576255e+01 -3.15323330e+01 -2.53430851e+01 ...  2.28278037e+00\n",
            "   -2.40692220e+00 -6.11756015e-02]\n",
            "  ...\n",
            "  [-2.07971800e+00 -2.52503017e-01  5.09790304e+00 ... -3.14076622e+00\n",
            "   -4.28058327e+00 -7.12660240e+00]\n",
            "  [ 4.35591237e+00 -4.57899853e+00 -6.25330591e+00 ... -3.28461268e+01\n",
            "   -3.00851284e+01 -1.55351592e+01]\n",
            "  [-1.19161368e+01 -9.40704227e+00 -4.14098964e+00 ... -8.17306879e+00\n",
            "   -7.56269858e+00 -5.87773352e+00]]\n",
            "\n",
            " [[-2.55895094e+00 -5.78241185e+00 -1.94101434e+00 ...  1.02858771e+01\n",
            "    1.46039031e+01  8.81544340e+00]\n",
            "  [-3.93388416e+00 -5.59066990e+00 -4.68423117e+00 ...  4.26031693e-01\n",
            "    6.03638910e+00 -1.45738098e+00]\n",
            "  [ 8.42393571e+00  6.82235937e+00  4.25529333e+00 ...  1.95785361e+01\n",
            "    2.36030598e+01  1.66985685e+01]\n",
            "  ...\n",
            "  [-9.25299856e+00 -7.95336033e+00 -5.84309971e+00 ...  5.98576127e+00\n",
            "    1.47156705e+01  1.70193845e+01]\n",
            "  [-2.10494402e+00 -2.15289886e+00 -9.29289139e+00 ...  2.19074083e+01\n",
            "    2.74035879e+01  1.95985165e+01]\n",
            "  [-3.89282985e+00 -3.54409343e+00 -5.11216727e+00 ...  1.54793166e+01\n",
            "    1.73550575e+01  1.39748558e+01]]\n",
            "\n",
            " ...\n",
            "\n",
            " [[ 3.17531096e+01  3.28001297e+01  3.30714791e+01 ... -5.18032270e+00\n",
            "    6.71832316e-01 -1.65334382e+00]\n",
            "  [ 2.46521394e+01  2.64001551e+01  2.55888297e+01 ... -2.44915088e+00\n",
            "    6.21596000e+00  3.89736128e+00]\n",
            "  [ 3.85433008e+01  3.62744450e+01  3.28495352e+01 ... -7.78193969e+00\n",
            "   -4.88275784e+00 -1.17770283e+01]\n",
            "  ...\n",
            "  [ 6.27970587e+01  6.75369204e+01  7.25241459e+01 ...  1.47631630e+01\n",
            "    1.11632825e+01  9.97103668e-01]\n",
            "  [-2.76864694e+00 -3.87042386e+00 -8.53924951e-01 ...  7.86840864e+00\n",
            "    4.28568100e+00 -5.32936869e+00]\n",
            "  [-2.27726663e+01 -9.83800172e+00  2.91855996e+00 ... -5.06363240e-02\n",
            "   -5.37021047e+00 -1.10162400e+01]]\n",
            "\n",
            " [[-1.03845318e+00  1.46715954e+01  2.16027717e+01 ...  5.97502281e-01\n",
            "    9.50369863e+00  2.27134810e+01]\n",
            "  [ 2.67038823e+00  2.21784941e+01  3.30299691e+01 ...  1.79567409e+00\n",
            "    1.40727621e+01  3.22251139e+01]\n",
            "  [-1.30335234e+01  1.36390143e+00  9.31477142e+00 ... -8.27321998e+00\n",
            "    2.59472689e+00  1.54252150e+01]\n",
            "  ...\n",
            "  [-4.10438533e+00 -6.39680547e+00 -9.85097543e+00 ... -1.79668183e+01\n",
            "   -1.63830837e+01 -8.95476878e+00]\n",
            "  [-9.40488240e+00 -8.89058515e+00 -8.43275640e+00 ...  4.13391765e+00\n",
            "    9.77695490e-01  1.58381483e+00]\n",
            "  [-1.21702694e+01 -1.36673843e+01 -1.26007425e+01 ... -6.81864220e+00\n",
            "   -1.32554064e+01 -1.38373846e+01]]\n",
            "\n",
            " [[-4.88985611e+00  3.11771092e+00  6.51197896e+00 ... -2.20719563e+01\n",
            "   -1.13576914e+02  3.32036915e-13]\n",
            "  [ 4.55329838e-01  4.16656692e+00  1.19269709e+01 ... -2.59238206e+01\n",
            "   -1.20994091e+02 -2.14299336e-12]\n",
            "  [-1.41921417e+01 -4.10346916e+00  4.01353981e+00 ... -2.63955657e+01\n",
            "   -1.15157851e+02 -1.71058304e-12]\n",
            "  ...\n",
            "  [-1.43085275e+01 -1.75655533e+01 -1.73438179e+01 ... -1.25148914e+02\n",
            "   -5.55865478e+02 -2.68340038e-12]\n",
            "  [-4.68377952e+00 -7.31895181e+00 -8.14388028e+00 ... -1.09210646e+02\n",
            "   -4.88264616e+02 -1.35525272e-12]\n",
            "  [-1.22149249e+01 -1.64239501e+01 -1.50505326e+01 ... -5.95475034e+01\n",
            "   -3.09504495e+02  8.30092288e-14]]]\n"
          ]
        }
      ]
    },
    {
      "cell_type": "code",
      "source": [
        "print(X_test)"
      ],
      "metadata": {
        "colab": {
          "base_uri": "https://localhost:8080/"
        },
        "id": "N9Ih6_WEXtuo",
        "outputId": "6233f031-ff10-47fe-885b-8543e9380234"
      },
      "execution_count": 67,
      "outputs": [
        {
          "output_type": "stream",
          "name": "stdout",
          "text": [
            "[[[ 7.84200330e+00  1.47207470e+01  1.42052595e+01 ... -5.89349247e+00\n",
            "   -1.51828042e+01 -2.08104358e+01]\n",
            "  [ 3.16583543e+00  8.26135009e+00  9.23106733e+00 ... -2.71454574e+01\n",
            "   -3.25662288e+01 -3.54135998e+01]\n",
            "  [ 2.32398500e+00  5.09731303e+00  3.61993697e-01 ... -1.74988647e+01\n",
            "   -2.87856476e+01 -3.47425425e+01]\n",
            "  ...\n",
            "  [-8.76076464e+00 -1.74142656e+00  5.77302593e-01 ...  2.39540520e+00\n",
            "    2.14318766e+00 -1.96665306e+00]\n",
            "  [ 3.02666012e+00  6.51500100e+00  4.10581095e+00 ...  3.91447209e+01\n",
            "    3.74479023e+01  2.25009333e+01]\n",
            "  [-1.46662092e+01 -3.50361569e+00  1.18964341e+00 ...  1.17311595e+01\n",
            "    1.10058886e+01 -3.73502614e+00]]\n",
            "\n",
            " [[-1.82454441e+01 -1.57154517e+01 -9.08109711e+00 ... -5.01454830e+00\n",
            "   -8.80962712e+00 -4.94259629e+00]\n",
            "  [-3.47973429e+01 -3.61339346e+01 -2.94382432e+01 ... -2.55171581e+00\n",
            "   -7.39142312e+00 -5.25420300e+00]\n",
            "  [-3.00576255e+01 -3.15323330e+01 -2.53430851e+01 ...  2.28278037e+00\n",
            "   -2.40692220e+00 -6.11756015e-02]\n",
            "  ...\n",
            "  [-2.07971800e+00 -2.52503017e-01  5.09790304e+00 ... -3.14076622e+00\n",
            "   -4.28058327e+00 -7.12660240e+00]\n",
            "  [ 4.35591237e+00 -4.57899853e+00 -6.25330591e+00 ... -3.28461268e+01\n",
            "   -3.00851284e+01 -1.55351592e+01]\n",
            "  [-1.19161368e+01 -9.40704227e+00 -4.14098964e+00 ... -8.17306879e+00\n",
            "   -7.56269858e+00 -5.87773352e+00]]\n",
            "\n",
            " [[-2.55895094e+00 -5.78241185e+00 -1.94101434e+00 ...  1.02858771e+01\n",
            "    1.46039031e+01  8.81544340e+00]\n",
            "  [-3.93388416e+00 -5.59066990e+00 -4.68423117e+00 ...  4.26031693e-01\n",
            "    6.03638910e+00 -1.45738098e+00]\n",
            "  [ 8.42393571e+00  6.82235937e+00  4.25529333e+00 ...  1.95785361e+01\n",
            "    2.36030598e+01  1.66985685e+01]\n",
            "  ...\n",
            "  [-9.25299856e+00 -7.95336033e+00 -5.84309971e+00 ...  5.98576127e+00\n",
            "    1.47156705e+01  1.70193845e+01]\n",
            "  [-2.10494402e+00 -2.15289886e+00 -9.29289139e+00 ...  2.19074083e+01\n",
            "    2.74035879e+01  1.95985165e+01]\n",
            "  [-3.89282985e+00 -3.54409343e+00 -5.11216727e+00 ...  1.54793166e+01\n",
            "    1.73550575e+01  1.39748558e+01]]\n",
            "\n",
            " ...\n",
            "\n",
            " [[ 3.17531096e+01  3.28001297e+01  3.30714791e+01 ... -5.18032270e+00\n",
            "    6.71832316e-01 -1.65334382e+00]\n",
            "  [ 2.46521394e+01  2.64001551e+01  2.55888297e+01 ... -2.44915088e+00\n",
            "    6.21596000e+00  3.89736128e+00]\n",
            "  [ 3.85433008e+01  3.62744450e+01  3.28495352e+01 ... -7.78193969e+00\n",
            "   -4.88275784e+00 -1.17770283e+01]\n",
            "  ...\n",
            "  [ 6.27970587e+01  6.75369204e+01  7.25241459e+01 ...  1.47631630e+01\n",
            "    1.11632825e+01  9.97103668e-01]\n",
            "  [-2.76864694e+00 -3.87042386e+00 -8.53924951e-01 ...  7.86840864e+00\n",
            "    4.28568100e+00 -5.32936869e+00]\n",
            "  [-2.27726663e+01 -9.83800172e+00  2.91855996e+00 ... -5.06363240e-02\n",
            "   -5.37021047e+00 -1.10162400e+01]]\n",
            "\n",
            " [[-1.03845318e+00  1.46715954e+01  2.16027717e+01 ...  5.97502281e-01\n",
            "    9.50369863e+00  2.27134810e+01]\n",
            "  [ 2.67038823e+00  2.21784941e+01  3.30299691e+01 ...  1.79567409e+00\n",
            "    1.40727621e+01  3.22251139e+01]\n",
            "  [-1.30335234e+01  1.36390143e+00  9.31477142e+00 ... -8.27321998e+00\n",
            "    2.59472689e+00  1.54252150e+01]\n",
            "  ...\n",
            "  [-4.10438533e+00 -6.39680547e+00 -9.85097543e+00 ... -1.79668183e+01\n",
            "   -1.63830837e+01 -8.95476878e+00]\n",
            "  [-9.40488240e+00 -8.89058515e+00 -8.43275640e+00 ...  4.13391765e+00\n",
            "    9.77695490e-01  1.58381483e+00]\n",
            "  [-1.21702694e+01 -1.36673843e+01 -1.26007425e+01 ... -6.81864220e+00\n",
            "   -1.32554064e+01 -1.38373846e+01]]\n",
            "\n",
            " [[-4.88985611e+00  3.11771092e+00  6.51197896e+00 ... -2.20719563e+01\n",
            "   -1.13576914e+02  3.32036915e-13]\n",
            "  [ 4.55329838e-01  4.16656692e+00  1.19269709e+01 ... -2.59238206e+01\n",
            "   -1.20994091e+02 -2.14299336e-12]\n",
            "  [-1.41921417e+01 -4.10346916e+00  4.01353981e+00 ... -2.63955657e+01\n",
            "   -1.15157851e+02 -1.71058304e-12]\n",
            "  ...\n",
            "  [-1.43085275e+01 -1.75655533e+01 -1.73438179e+01 ... -1.25148914e+02\n",
            "   -5.55865478e+02 -2.68340038e-12]\n",
            "  [-4.68377952e+00 -7.31895181e+00 -8.14388028e+00 ... -1.09210646e+02\n",
            "   -4.88264616e+02 -1.35525272e-12]\n",
            "  [-1.22149249e+01 -1.64239501e+01 -1.50505326e+01 ... -5.95475034e+01\n",
            "   -3.09504495e+02  8.30092288e-14]]]\n"
          ]
        }
      ]
    },
    {
      "cell_type": "code",
      "source": [
        "X_train, X_val, y_train, y_val = train_test_split(X_train, y_train, test_size=0.1, random_state=999)\n",
        "print(X_train.shape, X_val.shape, y_train.shape, y_val.shape)"
      ],
      "metadata": {
        "colab": {
          "base_uri": "https://localhost:8080/"
        },
        "id": "TF6zuq4phP9E",
        "outputId": "04c4e4e1-19b0-4ada-9c9f-e98dbb1ee601"
      },
      "execution_count": 68,
      "outputs": [
        {
          "output_type": "stream",
          "name": "stdout",
          "text": [
            "(122, 16, 4500) (14, 16, 4500) (122,) (14,)\n"
          ]
        }
      ]
    },
    {
      "cell_type": "code",
      "source": [
        "from sklearn.preprocessing import MinMaxScaler\n",
        "\n",
        "#scale transform each channel independently\n",
        "scalers = {}\n",
        "for i in range(X_train.shape[2]):\n",
        "    scalers[i] = MinMaxScaler(feature_range=(-1, 1))\n",
        "    X_train[:, :, i] = scalers[i].fit_transform(X_train[:, :, i]) \n",
        "\n",
        "for i in range(X_val.shape[2]):\n",
        "    X_val[:, :, i]   = scalers[i].transform(X_val[:, :, i])     \n",
        "    \n",
        "for i in range(X_test.shape[2]):\n",
        "    X_test[:, :, i]  = scalers[i].transform(X_test[:, :, i]) "
      ],
      "metadata": {
        "id": "BOOZBX7BhRpR"
      },
      "execution_count": 69,
      "outputs": []
    },
    {
      "cell_type": "code",
      "source": [
        "print(X_train.mean(), X_val.mean(), X_test.mean())\n",
        "print(X_train.min(), X_val.min(), X_test.min())\n",
        "print(X_train.max(), X_val.max(), X_test.max())"
      ],
      "metadata": {
        "colab": {
          "base_uri": "https://localhost:8080/"
        },
        "id": "TbYlRdOGhUKy",
        "outputId": "30226c73-e424-4920-a898-e988f6eb9de9"
      },
      "execution_count": 70,
      "outputs": [
        {
          "output_type": "stream",
          "name": "stdout",
          "text": [
            "0.004228958769664231 0.004157039756496878 0.004641125739653987\n",
            "-1.0 -29.253222821649473 -257.7915643965592\n",
            "1.0000000000000004 15.788878605040534 870.0946728954643\n"
          ]
        }
      ]
    },
    {
      "cell_type": "markdown",
      "source": [
        "### Fix imblanced"
      ],
      "metadata": {
        "id": "Rxfarr-yNBzl"
      }
    },
    {
      "cell_type": "code",
      "source": [
        "labels_unique, counts = np.unique(y, return_counts=True)\n",
        "labels_unique, counts"
      ],
      "metadata": {
        "colab": {
          "base_uri": "https://localhost:8080/"
        },
        "id": "Zhgz5-XsNFR6",
        "outputId": "75b0c3f4-29be-4829-b169-3b9007cd8449"
      },
      "execution_count": 71,
      "outputs": [
        {
          "output_type": "execute_result",
          "data": {
            "text/plain": [
              "(array([0, 1]), array([100,  70]))"
            ]
          },
          "metadata": {},
          "execution_count": 71
        }
      ]
    },
    {
      "cell_type": "code",
      "source": [
        "class_weights = [sum(counts) / c for c in counts]\n",
        "class_weights"
      ],
      "metadata": {
        "colab": {
          "base_uri": "https://localhost:8080/"
        },
        "id": "SH56Uk80NFbY",
        "outputId": "61b9c89a-2b79-4255-f621-bbef5215a4c7"
      },
      "execution_count": 72,
      "outputs": [
        {
          "output_type": "execute_result",
          "data": {
            "text/plain": [
              "[1.7, 2.4285714285714284]"
            ]
          },
          "metadata": {},
          "execution_count": 72
        }
      ]
    },
    {
      "cell_type": "code",
      "source": [
        "sample_weights_train = [class_weights[i] for i in y_train]\n",
        "sample_weights_val   = [class_weights[i] for i in y_val  ]\n",
        "sample_weights_test  = [class_weights[i] for i in y_test ]"
      ],
      "metadata": {
        "id": "WiaX7Jp1NNGY"
      },
      "execution_count": 73,
      "outputs": []
    },
    {
      "cell_type": "code",
      "source": [
        "from torch.utils.data import WeightedRandomSampler\n",
        "\n",
        "\n",
        "train_sampler = WeightedRandomSampler(sample_weights_train, len(y_train), replacement=True)\n",
        "val_sampler   = WeightedRandomSampler(sample_weights_val,   len(y_val),   replacement=True)\n",
        "test_sampler  = WeightedRandomSampler(sample_weights_test,  len(y_test),  replacement=True)"
      ],
      "metadata": {
        "id": "HNZ4OkcrNO_f"
      },
      "execution_count": 74,
      "outputs": []
    },
    {
      "cell_type": "markdown",
      "source": [
        "# Define Batch size and train,test, val loader"
      ],
      "metadata": {
        "id": "hOl5sDXo_C_C"
      }
    },
    {
      "cell_type": "code",
      "source": [
        "X_train_tensor = torch.tensor(X_train).to(torch.float32)\n",
        "y_train_tensor = torch.tensor(y_train).to(torch.float32)\n",
        "X_val_tensor = torch.tensor(X_val).to(torch.float32)\n",
        "y_val_tensor = torch.tensor(y_val).to(torch.float32)\n",
        "X_test_tensor = torch.tensor(X_test).to(torch.float32)\n",
        "y_test_tensor = torch.tensor(y_test).to(torch.float32)\n",
        "\n",
        "# Cast data to dataloader for more convenience\n",
        "training_set = TensorDataset(X_train_tensor, y_train_tensor)\n",
        "testing_set = TensorDataset(X_test_tensor, y_test_tensor)\n",
        "validation_set = TensorDataset(X_val_tensor, y_val_tensor)\n",
        "\n",
        "train_batch_size = 32\n",
        "val_batch_size = len(validation_set)\n",
        "test_batch_size = len(testing_set)\n",
        "\n",
        "train_loader = DataLoader(training_set, train_batch_size, sampler=train_sampler)\n",
        "val_loader = DataLoader(validation_set, val_batch_size, sampler=val_sampler)\n",
        "test_loader = DataLoader(testing_set, test_batch_size, shuffle=test_sampler)"
      ],
      "metadata": {
        "id": "Y1enUccbhXGK"
      },
      "execution_count": 75,
      "outputs": []
    },
    {
      "cell_type": "code",
      "source": [
        "for data, label in train_loader:\n",
        "  print(data)\n",
        "  break"
      ],
      "metadata": {
        "colab": {
          "base_uri": "https://localhost:8080/"
        },
        "id": "LEJ3VJt3huYw",
        "outputId": "b000bed1-a9e5-46bc-f69d-32f99a443f71"
      },
      "execution_count": 76,
      "outputs": [
        {
          "output_type": "stream",
          "name": "stdout",
          "text": [
            "tensor([[[ 0.1409, -0.4435, -0.1265,  ...,  0.4204,  0.1690,  0.3592],\n",
            "         [ 0.1778,  0.8264,  0.4899,  ...,  0.8109,  0.8987,  0.5645],\n",
            "         [ 0.1739, -0.2776,  0.0607,  ..., -0.1719, -0.0526,  0.1300],\n",
            "         ...,\n",
            "         [ 0.4724, -0.6238,  0.0778,  ...,  0.7720,  0.1902,  0.6705],\n",
            "         [ 0.7702,  0.7492,  0.7593,  ...,  0.7007,  0.7295,  0.7588],\n",
            "         [ 0.7474,  0.6732,  0.0612,  ...,  0.9397,  0.8497,  0.7683]],\n",
            "\n",
            "        [[ 0.3832, -0.3869, -0.1121,  ..., -0.0028, -0.1952,  0.1631],\n",
            "         [ 0.2516,  0.7962,  0.3502,  ...,  0.6884,  0.8623,  0.4361],\n",
            "         [ 0.2530, -0.4469, -0.0766,  ..., -0.4627, -0.3772, -0.0748],\n",
            "         ...,\n",
            "         [ 0.4773, -0.6589, -0.1112,  ...,  0.7757,  0.1949,  0.6766],\n",
            "         [ 0.7759,  0.7479,  0.7524,  ...,  0.7061,  0.7362,  0.7674],\n",
            "         [ 0.7562,  0.6473, -0.0124,  ...,  0.9480,  0.8582,  0.7777]],\n",
            "\n",
            "        [[ 0.4009, -0.4025, -0.1494,  ..., -0.0950, -0.7196,  0.1631],\n",
            "         [ 0.3356,  0.8194,  0.4492,  ...,  0.6008,  0.8193,  0.4361],\n",
            "         [ 0.2170, -0.4353, -0.1286,  ..., -0.6672, -1.0000, -0.0748],\n",
            "         ...,\n",
            "         [ 0.4583, -0.6802, -0.1381,  ...,  0.7840,  0.2209,  0.6766],\n",
            "         [ 0.7633,  0.7314,  0.7361,  ...,  0.7080,  0.7432,  0.7674],\n",
            "         [ 0.7411,  0.6117, -0.0446,  ...,  0.9558,  0.8781,  0.7777]],\n",
            "\n",
            "        ...,\n",
            "\n",
            "        [[ 0.3030, -0.4288, -0.1108,  ..., -0.1985, -0.4254, -0.1813],\n",
            "         [ 0.2413,  0.8103,  0.4532,  ...,  0.5233,  0.8352,  0.2124],\n",
            "         [ 0.1924, -0.4071, -0.0546,  ..., -0.7409, -0.5868, -0.2888],\n",
            "         ...,\n",
            "         [ 0.4487, -0.6657, -0.0962,  ...,  0.7575,  0.1818,  0.6820],\n",
            "         [ 0.7672,  0.7402,  0.7454,  ...,  0.7034,  0.7319,  0.7609],\n",
            "         [ 0.7309,  0.6144, -0.0534,  ...,  0.9399,  0.8435,  0.7579]],\n",
            "\n",
            "        [[ 0.4476, -0.3459, -0.1011,  ...,  0.3870,  0.0165,  0.1561],\n",
            "         [ 0.2605,  0.8028,  0.3657,  ...,  0.7935,  0.8796,  0.3348],\n",
            "         [ 0.2518, -0.4380, -0.1112,  ..., -0.2572, -0.2610, -0.1073],\n",
            "         ...,\n",
            "         [ 0.5036, -0.6451, -0.0701,  ...,  0.7692,  0.1826,  0.6270],\n",
            "         [ 0.7704,  0.7422,  0.7460,  ...,  0.7140,  0.7388,  0.7679],\n",
            "         [ 0.7615,  0.6778,  0.0217,  ...,  0.9775,  0.8638,  0.7472]],\n",
            "\n",
            "        [[-0.1927, -0.9565, -0.6410,  ...,  0.3571,  0.1381,  0.3789],\n",
            "         [ 0.1290,  0.7857,  0.3298,  ...,  0.7442,  0.8979,  0.5509],\n",
            "         [ 0.4047, -0.1336,  0.2040,  ..., -0.3639, -0.2162, -0.0473],\n",
            "         ...,\n",
            "         [ 0.4789, -0.6312,  0.0328,  ...,  0.7554,  0.1717,  0.6190],\n",
            "         [ 0.7696,  0.7463,  0.7586,  ...,  0.7024,  0.7260,  0.7503],\n",
            "         [ 0.7528,  0.6779,  0.0955,  ...,  0.9409,  0.8384,  0.7411]]])\n"
          ]
        }
      ]
    },
    {
      "cell_type": "code",
      "source": [
        "data.shape"
      ],
      "metadata": {
        "colab": {
          "base_uri": "https://localhost:8080/"
        },
        "id": "PVMFMBwAjImF",
        "outputId": "ef06ed42-712a-4bb0-f74e-02b56d60d570"
      },
      "execution_count": 77,
      "outputs": [
        {
          "output_type": "execute_result",
          "data": {
            "text/plain": [
              "torch.Size([32, 16, 4500])"
            ]
          },
          "metadata": {},
          "execution_count": 77
        }
      ]
    },
    {
      "cell_type": "code",
      "source": [
        "device = 'cuda' if torch.cuda.is_available() else 'cpu'"
      ],
      "metadata": {
        "id": "HaiKzvgCjc3_"
      },
      "execution_count": 78,
      "outputs": []
    },
    {
      "cell_type": "markdown",
      "source": [
        "# LSTM model"
      ],
      "metadata": {
        "id": "tMV89z27_HmH"
      }
    },
    {
      "cell_type": "code",
      "source": [
        "class LSTM(nn.Module):\n",
        "    '''\n",
        "    Expected Input Shape: (batch, channels, seq_len, )\n",
        "    '''\n",
        "    def __init__(self, input_dim, hidden_dim, num_layers, output_dim, bidirectional, dropout):\n",
        "        super().__init__()\n",
        "        self.lstm = nn.LSTM(input_dim, \n",
        "                           hidden_dim, \n",
        "                           num_layers=num_layers, \n",
        "                           bidirectional=bidirectional, \n",
        "                           dropout=dropout,\n",
        "                           batch_first=True)\n",
        "        self.fc = nn.Linear(hidden_dim * num_layers, output_dim)\n",
        "        \n",
        "    def forward(self, x):\n",
        "        \n",
        "        #x = [batch size, channels, seq len, ]\n",
        "        out, (hn, cn) = self.lstm(x)\n",
        "        \n",
        "        #out = [batch size, seq len, hidden dim * num directions]        \n",
        "        #hn = [num layers * num directions, batch size, hidden dim]\n",
        "        #cn = [num layers * num directions, batch size, hidden dim]\n",
        "        \n",
        "        #concat the final forward (hidden[-2,:,:]) and backward (hidden[-1,:,:]) hidden layers\n",
        "        hn = torch.cat((hn[-2,:,:], hn[-1,:,:]), dim = 1)\n",
        "        #hn = [batch size, hidden dim * num directions]\n",
        "        \n",
        "        return self.fc(hn)"
      ],
      "metadata": {
        "id": "U0bk5XjGjoMk"
      },
      "execution_count": 79,
      "outputs": []
    },
    {
      "cell_type": "code",
      "source": [
        "#explicitly initialize weights for better learning\n",
        "def initialize_weights(m):\n",
        "    if isinstance(m, nn.Linear):   #if layer is of Linear\n",
        "        nn.init.xavier_normal_(m.weight)\n",
        "        nn.init.zeros_(m.bias)\n",
        "    elif isinstance(m, nn.LSTM):   #if layer is of LSTM\n",
        "        for name, param in m.named_parameters():\n",
        "            if 'bias' in name:\n",
        "                nn.init.zeros_(param)\n",
        "            elif 'weight' in name:\n",
        "                nn.init.orthogonal_(param)  #orthogonal is a common way to initialize weights for RNN/LSTM/GRU"
      ],
      "metadata": {
        "id": "TIOLWwwXpMpw"
      },
      "execution_count": 80,
      "outputs": []
    },
    {
      "cell_type": "code",
      "source": [
        "input_size     = 16 #channel \n",
        "hidden_size    = 100\n",
        "num_layers    = 2\n",
        "output_size    = 1  #we got 2 classes so we can output only 1 number, 0 for first class and 1 for another class\n",
        "bidirectional = True  #uses bidirectional LSTM\n",
        "dropout       = 0.5\n",
        "\n",
        "#define the model\n",
        "model = LSTM(input_size, hidden_size, num_layers, output_size, bidirectional, dropout)\n",
        "\n",
        "#send to cuda so we can use the GPU\n",
        "model = model.to(device)  \n",
        "\n",
        "#apply weights\n",
        "model.apply(initialize_weights)"
      ],
      "metadata": {
        "colab": {
          "base_uri": "https://localhost:8080/"
        },
        "id": "khjrPaLwxtfq",
        "outputId": "7d15bd1e-ae2a-477b-9de4-c40f2d0e4e44"
      },
      "execution_count": 81,
      "outputs": [
        {
          "output_type": "execute_result",
          "data": {
            "text/plain": [
              "LSTM(\n",
              "  (lstm): LSTM(16, 100, num_layers=2, batch_first=True, dropout=0.5, bidirectional=True)\n",
              "  (fc): Linear(in_features=200, out_features=1, bias=True)\n",
              ")"
            ]
          },
          "metadata": {},
          "execution_count": 81
        }
      ]
    },
    {
      "cell_type": "code",
      "source": [
        "def count_parameters(model):\n",
        "    return sum(p.numel() for p in model.parameters() if p.requires_grad)\n",
        "\n",
        "print(f'The model {type(model).__name__} has {count_parameters(model):,} trainable parameters')# Train the model\n"
      ],
      "metadata": {
        "colab": {
          "base_uri": "https://localhost:8080/"
        },
        "id": "UaDuk4jtyDkT",
        "outputId": "9d986f6d-992b-4294-9415-98a68efdfbfc"
      },
      "execution_count": 82,
      "outputs": [
        {
          "output_type": "stream",
          "name": "stdout",
          "text": [
            "The model LSTM has 336,201 trainable parameters\n"
          ]
        }
      ]
    },
    {
      "cell_type": "code",
      "source": [
        "for testx, testy in train_loader:\n",
        "    print(testx.shape, testy.shape)\n",
        "    break"
      ],
      "metadata": {
        "colab": {
          "base_uri": "https://localhost:8080/"
        },
        "id": "iHVuJc7XC0lL",
        "outputId": "b48eda4c-96f8-45a7-c1c9-8c8642664667"
      },
      "execution_count": 83,
      "outputs": [
        {
          "output_type": "stream",
          "name": "stdout",
          "text": [
            "torch.Size([32, 16, 4500]) torch.Size([32])\n"
          ]
        }
      ]
    },
    {
      "cell_type": "code",
      "source": [
        "torch.manual_seed(42)\n",
        "torch.manual_seed(17)\n",
        "torch.manual_seed(999)\n",
        "torch.manual_seed(200)\n",
        "torch.manual_seed(99)\n",
        "model_save_path = '/models/LSTM_Chunking_Cleaned.pt'"
      ],
      "metadata": {
        "id": "y27S8TBaC0oS"
      },
      "execution_count": 95,
      "outputs": []
    },
    {
      "cell_type": "code",
      "source": [
        "list_seed = [42, 17, 999, 200, 99]"
      ],
      "metadata": {
        "id": "pW2TMFtMC0rq"
      },
      "execution_count": 96,
      "outputs": []
    },
    {
      "cell_type": "code",
      "source": [
        "import torch.optim as optim\n",
        "\n",
        "num_epochs = 100\n",
        "\n",
        "lr = 0.001\n",
        "\n",
        "optimizer = optim.Adam(model.parameters(), lr=lr) \n",
        "criterion = nn.BCEWithLogitsLoss() "
      ],
      "metadata": {
        "id": "vdx6Dms0yGL7"
      },
      "execution_count": 86,
      "outputs": []
    },
    {
      "cell_type": "code",
      "source": [
        "#for measuring accuracy\n",
        "def binary_accuracy(preds, y):\n",
        "    \"\"\"\n",
        "    Returns accuracy per batch, i.e. if you get 8/10 right, this returns 0.8, NOT 8\n",
        "    \"\"\"\n",
        "    #round predictions to the closest integer\n",
        "    rounded_preds = torch.round(torch.sigmoid(preds))\n",
        "    correct = (rounded_preds == y).float() #convert into float for division \n",
        "    acc = correct.sum() / len(correct)\n",
        "    return acc\n"
      ],
      "metadata": {
        "id": "BV4d52uyyYlE"
      },
      "execution_count": 87,
      "outputs": []
    },
    {
      "cell_type": "code",
      "source": [
        "torch.sigmoid(torch.tensor([[-1.1193],\n",
        "        [-1.7878]]) )"
      ],
      "metadata": {
        "colab": {
          "base_uri": "https://localhost:8080/"
        },
        "id": "HMJk3mnr2xOH",
        "outputId": "bf7f0dda-c5b6-4f96-ebcd-913bda0e42cc"
      },
      "execution_count": 88,
      "outputs": [
        {
          "output_type": "execute_result",
          "data": {
            "text/plain": [
              "tensor([[0.2461],\n",
              "        [0.1433]])"
            ]
          },
          "metadata": {},
          "execution_count": 88
        }
      ]
    },
    {
      "cell_type": "code",
      "source": [
        "#for timing the epochs\n",
        "def epoch_time(start_time, end_time):\n",
        "    elapsed_time = end_time - start_time\n",
        "    elapsed_mins = int(elapsed_time / 60)\n",
        "    elapsed_secs = int(elapsed_time - (elapsed_mins * 60))\n",
        "    return elapsed_mins, elapsed_secs"
      ],
      "metadata": {
        "id": "lqDIAbvRylTR"
      },
      "execution_count": 89,
      "outputs": []
    },
    {
      "cell_type": "code",
      "source": [
        "def train(model, train_loader,  optimizer, criterion):\n",
        "\n",
        "    model.train()\n",
        "    epoch_train_loss = 0\n",
        "    epoch_train_acc  = 0\n",
        "\n",
        "    for i, batch in enumerate(train_loader):\n",
        "        # print(batch[0].shape)\n",
        "        # data shape: (batch, channel, seq len)\n",
        "        data  = batch[0].to(device).permute(0, 2, 1)    \n",
        "        # data shape: (batch, seq len, channel)\n",
        "\n",
        "        # label shape: (batch, 1)\n",
        "        label = batch[1].to(device).reshape(-1, 1)\n",
        "        \n",
        "        #predict\n",
        "        output = model(data).reshape(-1, 1)  #output shape: (batch, 1)\n",
        "        loss   = criterion(output, label)\n",
        "        \n",
        "        #backprop\n",
        "        optimizer.zero_grad()\n",
        "        loss.backward()\n",
        "        optimizer.step()\n",
        "        \n",
        "        #for visualizing\n",
        "        epoch_train_loss += loss.item()\n",
        "        acc = binary_accuracy(output, label)\n",
        "        epoch_train_acc += acc.item()\n",
        "        \n",
        "    epoch_train_loss = epoch_train_loss / len(train_loader)\n",
        "    epoch_train_acc  = epoch_train_acc  / len(train_loader)\n",
        "    \n",
        "    return epoch_train_loss, epoch_train_acc\n"
      ],
      "metadata": {
        "id": "USKSyPIIyhdj"
      },
      "execution_count": 90,
      "outputs": []
    },
    {
      "cell_type": "code",
      "source": [
        "def evaluate(model, val_loader, criterion):\n",
        "\n",
        "    model.eval()\n",
        "    epoch_val_loss = 0\n",
        "    epoch_val_acc  = 0\n",
        "\n",
        "    with torch.no_grad():\n",
        "        for i, batch in enumerate(val_loader):\n",
        "            \n",
        "            # data shape: (batch, channel, seq len)\n",
        "            data  = batch[0].to(device).permute(0, 2, 1)   \n",
        "            label = batch[1].to(device).reshape(-1, 1)\n",
        "            \n",
        "            #predict\n",
        "            output = model(data).reshape(-1, 1)\n",
        "            loss   = criterion(output, label)\n",
        "            \n",
        "            #for visualizing\n",
        "            epoch_val_loss += loss.item()\n",
        "            acc = binary_accuracy(output, label)\n",
        "            epoch_val_acc += acc.item()\n",
        "    \n",
        "    epoch_val_loss =  epoch_val_loss / len(val_loader)\n",
        "    epoch_val_acc  =  epoch_val_acc  / len(val_loader)\n",
        "    \n",
        "    return epoch_val_loss, epoch_val_acc\n"
      ],
      "metadata": {
        "id": "DxaF5O8YymHK"
      },
      "execution_count": 91,
      "outputs": []
    },
    {
      "cell_type": "code",
      "source": [
        "import time"
      ],
      "metadata": {
        "id": "EDCgEWqTyrci"
      },
      "execution_count": 92,
      "outputs": []
    },
    {
      "cell_type": "code",
      "source": [
        "list_seed = [42, 17, 999, 200, 99]"
      ],
      "metadata": {
        "id": "b56xYwB4KHmN"
      },
      "execution_count": 93,
      "outputs": []
    },
    {
      "cell_type": "code",
      "source": [
        "for seed in list_seed:\n",
        "    torch.manual_seed(seed)\n",
        "    model_name = str(seed) + '_LSTM_Chunking_Cleaned.pt'\n",
        "    model_save_path = '/content/models/' + model_name\n",
        "\n",
        "    for layer in model.children():\n",
        "      if hasattr(layer, 'reset_parameters'):\n",
        "          layer.reset_parameters()\n",
        "\n",
        "    train_losses = []\n",
        "    train_accs   = []\n",
        "    valid_losses = []\n",
        "    valid_accs   = []\n",
        "\n",
        "    for epoch in range(num_epochs):\n",
        "        \n",
        "        start_time = time.time()\n",
        "\n",
        "        train_loss, train_acc = train(model, train_loader, optimizer, criterion)\n",
        "        #print('EVAL')\n",
        "        valid_loss, valid_acc = evaluate(model, val_loader, criterion)\n",
        "        \n",
        "        #for plotting\n",
        "        train_losses.append(train_loss)\n",
        "        train_accs  .append(train_acc)\n",
        "        valid_losses.append(valid_loss)\n",
        "        valid_accs  .append(valid_acc)\n",
        "        \n",
        "        if valid_loss < best_valid_loss:\n",
        "            best_valid_loss = valid_loss\n",
        "            best_acc = train_acc\n",
        "            best_loss = train_loss\n",
        "            best_val_acc = valid_acc\n",
        "            best_val_loss = valid_loss\n",
        "            torch.save(model.state_dict(), model_save_path)\n",
        "            \n",
        "        end_time = time.time()\n",
        "        epoch_mins, epoch_secs = epoch_time(start_time, end_time)\n",
        "    \n",
        "    print(f'Seed: {seed}')\n",
        "    print(f'Epoch: {epoch+1:02} | Epoch Time: {epoch_mins}m {epoch_secs}s')\n",
        "    print(f'\\t Train Loss: {best_loss:.3f} | Train Acc: {best_acc*100:.2f}%')\n",
        "    print(f'\\t Val. Loss: {best_val_loss:.3f}  |  Val. Acc: {best_val_acc*100:.2f}%')"
      ],
      "metadata": {
        "colab": {
          "base_uri": "https://localhost:8080/"
        },
        "id": "xYsvGnhDJRUQ",
        "outputId": "e6637277-9281-4233-c68c-c546d57e5d62"
      },
      "execution_count": 94,
      "outputs": [
        {
          "output_type": "stream",
          "name": "stdout",
          "text": [
            "Seed: 42\n",
            "Epoch: 100 | Epoch Time: 0m 1s\n",
            "\t Train Loss: 0.398 | Train Acc: 81.31%\n",
            "\t Val. Loss: 0.506  |  Val. Acc: 64.29%\n",
            "Seed: 17\n",
            "Epoch: 100 | Epoch Time: 0m 1s\n",
            "\t Train Loss: 0.522 | Train Acc: 68.27%\n",
            "\t Val. Loss: 0.414  |  Val. Acc: 71.43%\n",
            "Seed: 999\n",
            "Epoch: 100 | Epoch Time: 0m 1s\n",
            "\t Train Loss: 0.522 | Train Acc: 68.27%\n",
            "\t Val. Loss: 0.414  |  Val. Acc: 71.43%\n",
            "Seed: 200\n",
            "Epoch: 100 | Epoch Time: 0m 1s\n",
            "\t Train Loss: 0.522 | Train Acc: 68.27%\n",
            "\t Val. Loss: 0.414  |  Val. Acc: 71.43%\n",
            "Seed: 99\n",
            "Epoch: 100 | Epoch Time: 0m 1s\n",
            "\t Train Loss: 0.522 | Train Acc: 68.27%\n",
            "\t Val. Loss: 0.414  |  Val. Acc: 71.43%\n"
          ]
        }
      ]
    },
    {
      "cell_type": "code",
      "source": [
        "def test(model, val_loader, criterion):\n",
        "\n",
        "    model.eval()\n",
        "    epoch_val_loss = 0\n",
        "    epoch_val_acc  = 0\n",
        "\n",
        "    with torch.no_grad():\n",
        "        for i, batch in enumerate(val_loader):\n",
        "            \n",
        "            # data shape: (batch, channel, seq len)\n",
        "            data  = batch[0].to(device).permute(0, 2, 1)   \n",
        "            label = batch[1].to(device).reshape(-1, 1)\n",
        "            \n",
        "            #predict\n",
        "            output = model(data).reshape(-1, 1)\n",
        "            loss   = criterion(output, label)\n",
        "            \n",
        "            #for visualizing\n",
        "            epoch_val_loss += loss.item()\n",
        "            acc = binary_accuracy(output, label)\n",
        "            epoch_val_acc += acc.item()\n",
        "    \n",
        "    epoch_val_loss =  epoch_val_loss / len(val_loader)\n",
        "    epoch_val_acc  =  epoch_val_acc  / len(val_loader)\n",
        "    \n",
        "    return epoch_val_loss, epoch_val_acc"
      ],
      "metadata": {
        "id": "yF0P3wnhUP4y"
      },
      "execution_count": null,
      "outputs": []
    },
    {
      "cell_type": "code",
      "source": [
        "input_size     = 16 #channel \n",
        "hidden_size    = 100\n",
        "num_layers    = 2\n",
        "output_size    = 1  #we got 2 classes so we can output only 1 number, 0 for first class and 1 for another class\n",
        "bidirectional = True  #uses bidirectional LSTM\n",
        "dropout       = 0.5\n",
        "\n",
        "optimizer = optim.Adam(model.parameters(), lr=lr) \n",
        "criterion = nn.BCEWithLogitsLoss() "
      ],
      "metadata": {
        "id": "-RVDBn1cUH_k"
      },
      "execution_count": null,
      "outputs": []
    },
    {
      "cell_type": "code",
      "source": [
        "for i, batch in enumerate(test_loader):\n",
        "    # print(batch[0].shape)\n",
        "    # data shape: (batch, channel, seq len)\n",
        "    data  = batch[0].to(device).permute(0, 2, 1)\n",
        "    print(data)\n",
        "    break\n",
        "    "
      ],
      "metadata": {
        "colab": {
          "base_uri": "https://localhost:8080/"
        },
        "id": "2_XfvNs0Tm5a",
        "outputId": "ee8306d4-93ed-4d99-c8d2-44fba5f960ce"
      },
      "execution_count": 103,
      "outputs": [
        {
          "output_type": "stream",
          "name": "stdout",
          "text": [
            "tensor([[[ 0.3097,  0.2671,  0.2175,  ...,  0.4516,  0.7701,  0.8577],\n",
            "         [-0.4833,  0.8045, -0.4045,  ..., -0.6577,  0.7430,  0.8170],\n",
            "         [-0.1152,  0.4495, -0.0287,  ..., -0.0700,  0.7483,  0.2747],\n",
            "         ...,\n",
            "         [ 0.3264,  0.7735, -0.1568,  ...,  0.7732,  0.7093,  0.9524],\n",
            "         [ 0.1617,  0.9096,  0.0510,  ...,  0.2135,  0.7454,  0.8630],\n",
            "         [ 0.3886,  0.6813,  0.3734,  ...,  0.7632,  0.7790,  0.7864]],\n",
            "\n",
            "        [[ 0.3956,  0.3560,  0.0863,  ...,  0.4851,  0.7724,  0.7408],\n",
            "         [-0.5162,  0.7958, -0.7149,  ..., -0.6732,  0.7442,  0.6155],\n",
            "         [-0.2486,  0.3320, -0.3096,  ..., -0.2125,  0.7408, -0.1020],\n",
            "         ...,\n",
            "         [ 0.5186,  0.8792, -0.6828,  ...,  0.8279,  0.7155,  1.0537],\n",
            "         [ 1.3872,  1.0246, -2.0094,  ...,  0.2995,  0.7611,  1.3346],\n",
            "         [ 0.1631,  0.4361, -0.0748,  ...,  0.6766,  0.7674,  0.7777]],\n",
            "\n",
            "        [[ 0.2976,  0.2480,  0.1970,  ...,  0.4852,  0.7734,  0.7507],\n",
            "         [ 0.7806,  0.9944,  0.9111,  ..., -0.7653,  0.7210,  0.5287],\n",
            "         [ 0.0561,  0.5512,  0.1532,  ..., -0.0491,  0.7657,  0.0662],\n",
            "         ...,\n",
            "         [-0.0442,  0.5114, -0.5967,  ...,  0.7966,  0.7098,  0.9558],\n",
            "         [-0.2251,  0.8412, -0.4737,  ...,  0.2223,  0.7420,  0.8747],\n",
            "         [ 0.0121,  0.2639, -0.2028,  ...,  0.7353,  0.7749,  0.8020]],\n",
            "\n",
            "        ...,\n",
            "\n",
            "        [[ 0.2429,  0.2332,  0.1579,  ...,  0.4592,  0.7725,  0.7464],\n",
            "         [-0.6230,  0.7845, -0.5910,  ..., -0.6787,  0.7457,  0.6270],\n",
            "         [-0.2228,  0.3733, -0.1430,  ..., -0.1508,  0.7503, -0.0534],\n",
            "         ...,\n",
            "         [ 0.2364,  0.7557, -0.4741,  ...,  0.7836,  0.7092,  0.9511],\n",
            "         [-0.0516,  0.8804, -0.4263,  ...,  0.1883,  0.7363,  0.8500],\n",
            "         [ 0.1966,  0.5279, -0.2012,  ...,  0.6523,  0.7636,  0.7610]],\n",
            "\n",
            "        [[ 0.1619,  0.1229,  0.1095,  ...,  0.4276,  0.7615,  0.7094],\n",
            "         [-0.4819,  0.8035, -0.4716,  ..., -0.6964,  0.7320,  0.5837],\n",
            "         [-0.2580,  0.3431, -0.2178,  ..., -0.2576,  0.7348, -0.1082],\n",
            "         ...,\n",
            "         [ 0.0671,  0.5763, -0.5922,  ...,  0.8372,  0.7018,  0.9068],\n",
            "         [-0.1427,  0.8441, -0.3895,  ...,  0.2612,  0.7333,  0.8189],\n",
            "         [ 0.1813,  0.3264, -0.0038,  ...,  0.8512,  0.7651,  0.7417]],\n",
            "\n",
            "        [[ 0.3443,  0.1962,  0.2934,  ...,  0.5599,  0.7779,  0.7701],\n",
            "         [-0.4748,  0.7978, -0.3804,  ..., -0.6336,  0.7485,  0.6626],\n",
            "         [-0.1521,  0.4006, -0.0495,  ..., -0.0870,  0.7469, -0.0354],\n",
            "         ...,\n",
            "         [ 0.5484,  0.9153, -0.0554,  ...,  0.7883,  0.7168,  0.9500],\n",
            "         [ 1.6841,  1.1382,  1.1991,  ...,  0.2729,  0.7640,  0.9045],\n",
            "         [ 0.1631,  0.4361, -0.0748,  ...,  0.6766,  0.7674,  0.7777]]],\n",
            "       device='cuda:0')\n"
          ]
        }
      ]
    },
    {
      "cell_type": "code",
      "source": [
        "# Testing using Seed 200 as it seem to be the best\n",
        "s17_path = '/content/models/17_LSTM_Chunking_Cleaned.pt'\n",
        "\n",
        "model = model = LSTM(input_size, hidden_size, num_layers, output_size, bidirectional, dropout).to(device)\n",
        "model.load_state_dict(torch.load(s17_path))\n",
        "model.eval()\n",
        "\n",
        "test_loss, test_acc = evaluate(model, test_loader, criterion)\n",
        "test_acc = test_acc * 100\n",
        "#_, predicted = torch.max(result.data, 1)\n",
        "\n",
        "#yhat = predicted.detach().cpu().numpy()\n",
        "\n",
        "#accuracy_score(y_test, yhat) * 100\n",
        "print(f'Test Accuracy: {test_acc}, Test Loss: {test_loss}')"
      ],
      "metadata": {
        "colab": {
          "base_uri": "https://localhost:8080/"
        },
        "id": "AEOiUe4QRKhg",
        "outputId": "29a41465-630a-4318-8251-6c3015e762dd"
      },
      "execution_count": 106,
      "outputs": [
        {
          "output_type": "stream",
          "name": "stdout",
          "text": [
            "Test Accuracy: 52.941179275512695, Test Loss: 0.8423960208892822\n"
          ]
        }
      ]
    },
    {
      "cell_type": "code",
      "source": [
        "import matplotlib.pyplot as plt\n",
        "fig = plt.figure(figsize=(10, 6))\n",
        "ax  = fig.add_subplot(1, 1, 1)\n",
        "ax.plot(train_losses, label = 'train loss')\n",
        "ax.plot(valid_losses, label = 'valid loss')\n",
        "plt.legend()\n",
        "ax.set_xlabel('updates')\n",
        "ax.set_ylabel('loss')"
      ],
      "metadata": {
        "colab": {
          "base_uri": "https://localhost:8080/",
          "height": 405
        },
        "id": "2X2P4izVRKnm",
        "outputId": "02196cfe-f376-4e99-cc51-347cfdd52965"
      },
      "execution_count": 108,
      "outputs": [
        {
          "output_type": "execute_result",
          "data": {
            "text/plain": [
              "Text(0, 0.5, 'loss')"
            ]
          },
          "metadata": {},
          "execution_count": 108
        },
        {
          "output_type": "display_data",
          "data": {
            "text/plain": [
              "<Figure size 720x432 with 1 Axes>"
            ],
            "image/png": "[encoded data removed]"
          },
          "metadata": {
            "needs_background": "light"
          }
        }
      ]
    },
    {
      "cell_type": "code",
      "source": [
        "fig = plt.figure(figsize=(10, 6))\n",
        "ax  = fig.add_subplot(1, 1, 1)\n",
        "ax.plot(train_accs, label = 'train acc')\n",
        "ax.plot(valid_accs, label = 'valid acc')\n",
        "plt.legend()\n",
        "ax.set_xlabel('updates')\n",
        "ax.set_ylabel('acc')"
      ],
      "metadata": {
        "colab": {
          "base_uri": "https://localhost:8080/",
          "height": 405
        },
        "id": "71bWyFq-RSHD",
        "outputId": "659a7539-8d1f-4359-e13e-2a7fdaa3bfc1"
      },
      "execution_count": 109,
      "outputs": [
        {
          "output_type": "execute_result",
          "data": {
            "text/plain": [
              "Text(0, 0.5, 'acc')"
            ]
          },
          "metadata": {},
          "execution_count": 109
        },
        {
          "output_type": "display_data",
          "data": {
            "text/plain": [
              "<Figure size 720x432 with 1 Axes>"
            ],
            "image/png": "[encoded data removed]"
          },
          "metadata": {
            "needs_background": "light"
          }
        }
      ]
    }
  ]
}