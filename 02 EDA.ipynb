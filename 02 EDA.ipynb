{
 "cells": [
  {
   "cell_type": "markdown",
   "metadata": {},
   "source": [
    "# EDA"
   ]
  },
  {
   "cell_type": "code",
   "execution_count": 27,
   "metadata": {},
   "outputs": [
    {
     "data": {
      "text/plain": [
       "'4.0'"
      ]
     },
     "execution_count": 27,
     "metadata": {},
     "output_type": "execute_result"
    }
   ],
   "source": [
    "# Import necessary libralies\n",
    "import pickle\n",
    "import numpy as np\n",
    "import os\n",
    "import mne\n",
    "import pandas as pd\n",
    "pickle.format_version"
   ]
  },
  {
   "cell_type": "code",
   "execution_count": 24,
   "metadata": {},
   "outputs": [],
   "source": [
    "import os\n",
    "main_path = os.getcwd()\n",
    "filename = os.listdir(main_path + '/Cleaned_signal/')"
   ]
  },
  {
   "cell_type": "code",
   "execution_count": 26,
   "metadata": {},
   "outputs": [],
   "source": [
    "filename = ['clean_exp1.csv',\n",
    " 'clean_exp2.csv',\n",
    " 'clean_exp3.csv',\n",
    " 'clean_exp4.csv',\n",
    " 'clean_exp5.csv',\n",
    " 'clean_exp6.csv',\n",
    " 'clean_exp7.csv',\n",
    " 'clean_exp8.csv',\n",
    " 'clean_exp9.csv',\n",
    " 'clean_exp10.csv',\n",
    " 'clean_exp11.csv',\n",
    " 'clean_exp12.csv',\n",
    " 'clean_exp13.csv',\n",
    " 'clean_exp14.csv',\n",
    " 'clean_exp15.csv',\n",
    " 'clean_exp16.csv',\n",
    " 'clean_exp17.csv']"
   ]
  },
  {
   "cell_type": "code",
   "execution_count": 35,
   "metadata": {},
   "outputs": [],
   "source": [
    "all_file_path = main_path + '/Cleaned_signal/'\n",
    "X_list = list()\n",
    "for file in filename:\n",
    "    file_path = all_file_path + file\n",
    "    df = pd.read_csv(file_path, index_col=None)\n",
    "    df = df.loc[:, ~df.columns.str.contains('^Unnamed')]\n",
    "    X_list.append(df)    "
   ]
  },
  {
   "cell_type": "code",
   "execution_count": 36,
   "metadata": {},
   "outputs": [
    {
     "data": {
      "text/html": [
       "<div>\n",
       "<style scoped>\n",
       "    .dataframe tbody tr th:only-of-type {\n",
       "        vertical-align: middle;\n",
       "    }\n",
       "\n",
       "    .dataframe tbody tr th {\n",
       "        vertical-align: top;\n",
       "    }\n",
       "\n",
       "    .dataframe thead th {\n",
       "        text-align: right;\n",
       "    }\n",
       "</style>\n",
       "<table border=\"1\" class=\"dataframe\">\n",
       "  <thead>\n",
       "    <tr style=\"text-align: right;\">\n",
       "      <th></th>\n",
       "      <th>Fp1</th>\n",
       "      <th>Fp2</th>\n",
       "      <th>F7</th>\n",
       "      <th>F3</th>\n",
       "      <th>F4</th>\n",
       "      <th>F8</th>\n",
       "      <th>T3</th>\n",
       "      <th>C3</th>\n",
       "      <th>C4</th>\n",
       "      <th>T4</th>\n",
       "      <th>T5</th>\n",
       "      <th>P3</th>\n",
       "      <th>P4</th>\n",
       "      <th>T6</th>\n",
       "      <th>O1</th>\n",
       "      <th>O2</th>\n",
       "    </tr>\n",
       "  </thead>\n",
       "  <tbody>\n",
       "    <tr>\n",
       "      <th>0</th>\n",
       "      <td>3.388132e-21</td>\n",
       "      <td>1.312901e-19</td>\n",
       "      <td>-9.080193e-19</td>\n",
       "      <td>8.453389e-19</td>\n",
       "      <td>-1.035074e-18</td>\n",
       "      <td>5.302426e-18</td>\n",
       "      <td>-2.879912e-20</td>\n",
       "      <td>1.973587e-18</td>\n",
       "      <td>-1.770299e-18</td>\n",
       "      <td>2.638719e-18</td>\n",
       "      <td>-7.462360e-19</td>\n",
       "      <td>2.486042e-19</td>\n",
       "      <td>-2.623685e-19</td>\n",
       "      <td>-1.321371e-18</td>\n",
       "      <td>-2.126053e-19</td>\n",
       "      <td>-7.919758e-19</td>\n",
       "    </tr>\n",
       "    <tr>\n",
       "      <th>1</th>\n",
       "      <td>4.240123e-06</td>\n",
       "      <td>-1.098127e-03</td>\n",
       "      <td>9.504785e-06</td>\n",
       "      <td>-7.301414e-04</td>\n",
       "      <td>-9.864431e-04</td>\n",
       "      <td>5.528234e-06</td>\n",
       "      <td>4.397685e-06</td>\n",
       "      <td>-3.200624e-05</td>\n",
       "      <td>-1.489707e-05</td>\n",
       "      <td>-9.424304e-06</td>\n",
       "      <td>-1.179442e-06</td>\n",
       "      <td>-3.882617e-06</td>\n",
       "      <td>-1.544578e-04</td>\n",
       "      <td>3.472641e-04</td>\n",
       "      <td>-8.418374e-06</td>\n",
       "      <td>-7.045003e-05</td>\n",
       "    </tr>\n",
       "    <tr>\n",
       "      <th>2</th>\n",
       "      <td>4.531352e-06</td>\n",
       "      <td>-2.151353e-04</td>\n",
       "      <td>5.921683e-06</td>\n",
       "      <td>-1.464024e-04</td>\n",
       "      <td>-1.963873e-04</td>\n",
       "      <td>7.661865e-06</td>\n",
       "      <td>7.361615e-06</td>\n",
       "      <td>-4.243603e-06</td>\n",
       "      <td>-4.617989e-06</td>\n",
       "      <td>2.459634e-06</td>\n",
       "      <td>2.879465e-06</td>\n",
       "      <td>2.427743e-06</td>\n",
       "      <td>-2.532974e-05</td>\n",
       "      <td>7.922094e-05</td>\n",
       "      <td>-6.490459e-06</td>\n",
       "      <td>-1.263134e-05</td>\n",
       "    </tr>\n",
       "    <tr>\n",
       "      <th>3</th>\n",
       "      <td>3.763741e-06</td>\n",
       "      <td>-5.832528e-04</td>\n",
       "      <td>4.345541e-06</td>\n",
       "      <td>-3.864017e-04</td>\n",
       "      <td>-5.199725e-04</td>\n",
       "      <td>4.296499e-06</td>\n",
       "      <td>6.737737e-06</td>\n",
       "      <td>-1.258225e-05</td>\n",
       "      <td>-1.224808e-05</td>\n",
       "      <td>-4.653922e-06</td>\n",
       "      <td>4.127254e-06</td>\n",
       "      <td>1.146176e-06</td>\n",
       "      <td>-7.805786e-05</td>\n",
       "      <td>2.117792e-04</td>\n",
       "      <td>-7.120499e-06</td>\n",
       "      <td>-3.545076e-05</td>\n",
       "    </tr>\n",
       "    <tr>\n",
       "      <th>4</th>\n",
       "      <td>-2.243297e-06</td>\n",
       "      <td>-6.780617e-04</td>\n",
       "      <td>1.494894e-06</td>\n",
       "      <td>-4.541781e-04</td>\n",
       "      <td>-6.006397e-04</td>\n",
       "      <td>-1.012771e-06</td>\n",
       "      <td>3.279630e-06</td>\n",
       "      <td>-1.230263e-05</td>\n",
       "      <td>-1.609016e-05</td>\n",
       "      <td>-6.882220e-06</td>\n",
       "      <td>2.642719e-06</td>\n",
       "      <td>-5.242474e-07</td>\n",
       "      <td>-9.300509e-05</td>\n",
       "      <td>2.342439e-04</td>\n",
       "      <td>-7.541476e-06</td>\n",
       "      <td>-4.271908e-05</td>\n",
       "    </tr>\n",
       "  </tbody>\n",
       "</table>\n",
       "</div>"
      ],
      "text/plain": [
       "            Fp1           Fp2            F7            F3            F4  \\\n",
       "0  3.388132e-21  1.312901e-19 -9.080193e-19  8.453389e-19 -1.035074e-18   \n",
       "1  4.240123e-06 -1.098127e-03  9.504785e-06 -7.301414e-04 -9.864431e-04   \n",
       "2  4.531352e-06 -2.151353e-04  5.921683e-06 -1.464024e-04 -1.963873e-04   \n",
       "3  3.763741e-06 -5.832528e-04  4.345541e-06 -3.864017e-04 -5.199725e-04   \n",
       "4 -2.243297e-06 -6.780617e-04  1.494894e-06 -4.541781e-04 -6.006397e-04   \n",
       "\n",
       "             F8            T3            C3            C4            T4  \\\n",
       "0  5.302426e-18 -2.879912e-20  1.973587e-18 -1.770299e-18  2.638719e-18   \n",
       "1  5.528234e-06  4.397685e-06 -3.200624e-05 -1.489707e-05 -9.424304e-06   \n",
       "2  7.661865e-06  7.361615e-06 -4.243603e-06 -4.617989e-06  2.459634e-06   \n",
       "3  4.296499e-06  6.737737e-06 -1.258225e-05 -1.224808e-05 -4.653922e-06   \n",
       "4 -1.012771e-06  3.279630e-06 -1.230263e-05 -1.609016e-05 -6.882220e-06   \n",
       "\n",
       "             T5            P3            P4            T6            O1  \\\n",
       "0 -7.462360e-19  2.486042e-19 -2.623685e-19 -1.321371e-18 -2.126053e-19   \n",
       "1 -1.179442e-06 -3.882617e-06 -1.544578e-04  3.472641e-04 -8.418374e-06   \n",
       "2  2.879465e-06  2.427743e-06 -2.532974e-05  7.922094e-05 -6.490459e-06   \n",
       "3  4.127254e-06  1.146176e-06 -7.805786e-05  2.117792e-04 -7.120499e-06   \n",
       "4  2.642719e-06 -5.242474e-07 -9.300509e-05  2.342439e-04 -7.541476e-06   \n",
       "\n",
       "             O2  \n",
       "0 -7.919758e-19  \n",
       "1 -7.045003e-05  \n",
       "2 -1.263134e-05  \n",
       "3 -3.545076e-05  \n",
       "4 -4.271908e-05  "
      ]
     },
     "execution_count": 36,
     "metadata": {},
     "output_type": "execute_result"
    }
   ],
   "source": [
    "df.head()"
   ]
  },
  {
   "cell_type": "code",
   "execution_count": 37,
   "metadata": {},
   "outputs": [
    {
     "data": {
      "text/plain": [
       "(17, 45000, 16)"
      ]
     },
     "execution_count": 37,
     "metadata": {},
     "output_type": "execute_result"
    }
   ],
   "source": [
    "X = np.array(X_list)\n",
    "X.shape"
   ]
  },
  {
   "cell_type": "code",
   "execution_count": 39,
   "metadata": {},
   "outputs": [
    {
     "data": {
      "text/plain": [
       "(17, 16, 45000)"
      ]
     },
     "execution_count": 39,
     "metadata": {},
     "output_type": "execute_result"
    }
   ],
   "source": [
    "# Reshape\n",
    "X = np.transpose(X, (0, 2, 1))\n",
    "X.shape\n"
   ]
  },
  {
   "cell_type": "code",
   "execution_count": 41,
   "metadata": {},
   "outputs": [
    {
     "data": {
      "text/plain": [
       "array([1, 1, 1, 0, 0, 0, 0, 1, 0, 0, 0, 1, 0, 0, 0, 1, 1])"
      ]
     },
     "execution_count": 41,
     "metadata": {},
     "output_type": "execute_result"
    }
   ],
   "source": [
    "y_path = '/root/projects/CP/Projects/Signal/label_exp.csv'\n",
    "df = pd.read_csv(y_path)\n",
    "y = np.array(df['label'])\n",
    "y"
   ]
  },
  {
   "cell_type": "markdown",
   "metadata": {},
   "source": [
    "### Spectral Analysis"
   ]
  },
  {
   "cell_type": "code",
   "execution_count": null,
   "metadata": {},
   "outputs": [],
   "source": []
  }
 ],
 "metadata": {
  "kernelspec": {
   "display_name": "Python 3.10.4 64-bit",
   "language": "python",
   "name": "python3"
  },
  "language_info": {
   "codemirror_mode": {
    "name": "ipython",
    "version": 3
   },
   "file_extension": ".py",
   "mimetype": "text/x-python",
   "name": "python",
   "nbconvert_exporter": "python",
   "pygments_lexer": "ipython3",
   "version": "3.10.4"
  },
  "orig_nbformat": 4,
  "vscode": {
   "interpreter": {
    "hash": "c81d839d3c4227cd770621df97fe8191838af02e7eef185a922d8250cb33d344"
   }
  }
 },
 "nbformat": 4,
 "nbformat_minor": 2
}
