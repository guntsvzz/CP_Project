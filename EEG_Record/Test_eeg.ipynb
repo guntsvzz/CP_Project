{
 "cells": [
  {
   "cell_type": "code",
   "execution_count": 13,
   "metadata": {},
   "outputs": [],
   "source": [
    "import time\n",
    "from numpy import ndarray\n",
    "import numpy as np\n",
    "import pandas as pd\n",
    "from brainflow.board_shim import BoardShim, BrainFlowInputParams, LogLevels, BoardIds\n",
    "from brainflow.data_filter import DataFilter\n",
    "import requests\n",
    "from data_utils import save_raw,getdata,getepoch,save_raw_to_dataframe\n",
    "from config import *\n",
    "\n",
    "def main():\n",
    "    global df\n",
    "    BoardShim.enable_dev_board_logger()\n",
    "    # use synthetic board for demo\n",
    "    params = BrainFlowInputParams()\n",
    "    params.serial_port = \"COM3\"\n",
    "    board = BoardShim(2, params) # setting for dummy data it will come out as 32 channel\n",
    "    board.prepare_session()\n",
    "    board.start_stream(45000)\n",
    "    BoardShim.log_message(LogLevels.LEVEL_INFO.value, 'start sleeping in the main thread')\n",
    "    #time.sleep(5) # I think this is recording time, but wasn't sure if we can do it this way\n",
    "    \n",
    "    #for i in range(600):\n",
    "    for i in range(600):\n",
    "        time.sleep(1)\n",
    "        board.insert_marker(1.0)\n",
    "    \n",
    "    # Need to confirm with someone who known\n",
    "    data = board.get_board_data()\n",
    "\n",
    "    # temp:ndarray = data.copy()\n",
    "    # data = {\n",
    "    #     \"name\":\"Jung\",\n",
    "    #     \"data\": temp.tolist()\n",
    "    # }\n",
    "    # requests.post(\"http://localhost:8000/items\",json=data)\n",
    "    # '''if keyboard.is_pressed('q'):\n",
    "    #     print(\"End of experiment\")\n",
    "    #     break'''\n",
    "\n",
    "    board.stop_stream()\n",
    "    board.release_session()\n",
    "\n",
    "    # raw = getdata(data,2,n_samples = 250)\n",
    "    # # print(type(raw))\n",
    "    # train_epochs,epochs_raw_data,labels = getepoch(raw,4,10)\n",
    "    # # train_epochs,epochs_raw_data,labels = getepoch(raws=raw)\n",
    "    # # getEpoch(eeg_data,eeg_channels,args.board_id)\n",
    "    # # save_raw(raw,NAME)\n",
    "    # save_raw_to_dataframe(epochs_raw_data,NAME)\n",
    "\n",
    "    # demo how to convert it to pandas DF and plot data\n",
    "    eeg_channels = BoardShim.get_eeg_channels(BoardIds.SYNTHETIC_BOARD.value)\n",
    "    df = pd.DataFrame(np.transpose(data))\n",
    "    # print('Data From the Board')\n",
    "    # print(df.head(5))\n",
    "    # print(df.shape)\n",
    "    df.to_csv('exp17.csv')\n",
    "\n",
    "    # # # demo for data serialization using brainflow API, we recommend to use it instead pandas.to_csv()\n",
    "    # DataFilter.write_file(data, 'test.csv', 'w')  # use 'a' for append mode\n",
    "    # restored_data = DataFilter.read_file('test.csv')\n",
    "    # restored_df = pd.DataFrame(np.transpose(restored_data))\n",
    "    # print('Data From the File')\n",
    "    # print(restored_df.head(10))\n",
    "\n",
    "if __name__ == \"__main__\":\n",
    "    main()"
   ]
  },
  {
   "cell_type": "code",
   "execution_count": 10,
   "metadata": {},
   "outputs": [
    {
     "ename": "BrainFlowError",
     "evalue": "BOARD_NOT_CREATED_ERROR:15 unable to stop streaming session",
     "output_type": "error",
     "traceback": [
      "\u001b[1;31m---------------------------------------------------------------------------\u001b[0m",
      "\u001b[1;31mBrainFlowError\u001b[0m                            Traceback (most recent call last)",
      "\u001b[1;32mc:\\Users\\Guntsv\\Downloads\\Test_eeg\\Test_eeg.ipynb Cell 2\u001b[0m in \u001b[0;36m<cell line: 10>\u001b[1;34m()\u001b[0m\n\u001b[0;32m      <a href='vscode-notebook-cell:/c%3A/Users/Guntsv/Downloads/Test_eeg/Test_eeg.ipynb#W2sZmlsZQ%3D%3D?line=6'>7</a>\u001b[0m \u001b[39m#board.prepare_session()\u001b[39;00m\n\u001b[0;32m      <a href='vscode-notebook-cell:/c%3A/Users/Guntsv/Downloads/Test_eeg/Test_eeg.ipynb#W2sZmlsZQ%3D%3D?line=7'>8</a>\u001b[0m \u001b[39m#board.start_stream(45000)\u001b[39;00m\n\u001b[0;32m      <a href='vscode-notebook-cell:/c%3A/Users/Guntsv/Downloads/Test_eeg/Test_eeg.ipynb#W2sZmlsZQ%3D%3D?line=8'>9</a>\u001b[0m BoardShim\u001b[39m.\u001b[39mlog_message(LogLevels\u001b[39m.\u001b[39mLEVEL_INFO\u001b[39m.\u001b[39mvalue, \u001b[39m'\u001b[39m\u001b[39mstart sleeping in the main thread\u001b[39m\u001b[39m'\u001b[39m)\n\u001b[1;32m---> <a href='vscode-notebook-cell:/c%3A/Users/Guntsv/Downloads/Test_eeg/Test_eeg.ipynb#W2sZmlsZQ%3D%3D?line=9'>10</a>\u001b[0m board\u001b[39m.\u001b[39;49mstop_stream()\n\u001b[0;32m     <a href='vscode-notebook-cell:/c%3A/Users/Guntsv/Downloads/Test_eeg/Test_eeg.ipynb#W2sZmlsZQ%3D%3D?line=10'>11</a>\u001b[0m board\u001b[39m.\u001b[39mrelease_session()\n",
      "File \u001b[1;32mc:\\Python3.10.4\\lib\\site-packages\\brainflow\\board_shim.py:1129\u001b[0m, in \u001b[0;36mBoardShim.stop_stream\u001b[1;34m(self)\u001b[0m\n\u001b[0;32m   1127\u001b[0m res \u001b[39m=\u001b[39m BoardControllerDLL\u001b[39m.\u001b[39mget_instance()\u001b[39m.\u001b[39mstop_stream(\u001b[39mself\u001b[39m\u001b[39m.\u001b[39mboard_id, \u001b[39mself\u001b[39m\u001b[39m.\u001b[39minput_json)\n\u001b[0;32m   1128\u001b[0m \u001b[39mif\u001b[39;00m res \u001b[39m!=\u001b[39m BrainFlowExitCodes\u001b[39m.\u001b[39mSTATUS_OK\u001b[39m.\u001b[39mvalue:\n\u001b[1;32m-> 1129\u001b[0m     \u001b[39mraise\u001b[39;00m BrainFlowError(\u001b[39m'\u001b[39m\u001b[39munable to stop streaming session\u001b[39m\u001b[39m'\u001b[39m, res)\n",
      "\u001b[1;31mBrainFlowError\u001b[0m: BOARD_NOT_CREATED_ERROR:15 unable to stop streaming session"
     ]
    }
   ],
   "source": [
    "##Stop the board\n",
    "BoardShim.enable_dev_board_logger()\n",
    "# use synthetic board for demo\n",
    "params = BrainFlowInputParams()\n",
    "params.serial_port = \"COM9\"\n",
    "board = BoardShim(2, params) # setting for dummy data it will come out as 32 channel\n",
    "#board.prepare_session()\n",
    "#board.start_stream(45000)\n",
    "BoardShim.log_message(LogLevels.LEVEL_INFO.value, 'start sleeping in the main thread')\n",
    "board.stop_stream()\n",
    "board.release_session()"
   ]
  },
  {
   "cell_type": "code",
   "execution_count": null,
   "metadata": {},
   "outputs": [],
   "source": []
  }
 ],
 "metadata": {
  "kernelspec": {
   "display_name": "Python 3.10.4 64-bit",
   "language": "python",
   "name": "python3"
  },
  "language_info": {
   "codemirror_mode": {
    "name": "ipython",
    "version": 3
   },
   "file_extension": ".py",
   "mimetype": "text/x-python",
   "name": "python",
   "nbconvert_exporter": "python",
   "pygments_lexer": "ipython3",
   "version": "3.10.4"
  },
  "orig_nbformat": 4,
  "vscode": {
   "interpreter": {
    "hash": "c81d839d3c4227cd770621df97fe8191838af02e7eef185a922d8250cb33d344"
   }
  }
 },
 "nbformat": 4,
 "nbformat_minor": 2
}
