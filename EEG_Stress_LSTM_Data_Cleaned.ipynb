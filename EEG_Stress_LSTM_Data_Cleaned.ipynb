{
  "nbformat": 4,
  "nbformat_minor": 0,
  "metadata": {
    "colab": {
      "provenance": [],
      "collapsed_sections": [
        "hOl5sDXo_C_C"
      ],
      "include_colab_link": true
    },
    "kernelspec": {
      "name": "python3",
      "display_name": "Python 3"
    },
    "language_info": {
      "name": "python"
    },
    "accelerator": "GPU",
    "gpuClass": "standard"
  },
  "cells": [
    {
      "cell_type": "markdown",
      "metadata": {
        "id": "view-in-github",
        "colab_type": "text"
      },
      "source": [
        "<a href=\"https://colab.research.google.com/github/guntsvzz/CP_Project/blob/main/EEG_Stress_LSTM_Data_Cleaned.ipynb\" target=\"_parent\"><img src=\"https://colab.research.google.com/assets/colab-badge.svg\" alt=\"Open In Colab\"/></a>"
      ]
    },
    {
      "cell_type": "code",
      "source": [
        "!pip install --upgrade --no-cache-dir gdown"
      ],
      "metadata": {
        "colab": {
          "base_uri": "https://localhost:8080/"
        },
        "id": "PgJsh19q-HdC",
        "outputId": "8a94a87f-9e4a-44df-8781-1848818c3e12"
      },
      "execution_count": null,
      "outputs": [
        {
          "output_type": "stream",
          "name": "stdout",
          "text": [
            "Looking in indexes: https://pypi.org/simple, https://us-python.pkg.dev/colab-wheels/public/simple/\n",
            "Requirement already satisfied: gdown in /usr/local/lib/python3.7/dist-packages (4.4.0)\n",
            "Collecting gdown\n",
            "  Downloading gdown-4.5.4-py3-none-any.whl (14 kB)\n",
            "Requirement already satisfied: filelock in /usr/local/lib/python3.7/dist-packages (from gdown) (3.8.0)\n",
            "Requirement already satisfied: beautifulsoup4 in /usr/local/lib/python3.7/dist-packages (from gdown) (4.6.3)\n",
            "Requirement already satisfied: six in /usr/local/lib/python3.7/dist-packages (from gdown) (1.15.0)\n",
            "Requirement already satisfied: requests[socks] in /usr/local/lib/python3.7/dist-packages (from gdown) (2.23.0)\n",
            "Requirement already satisfied: tqdm in /usr/local/lib/python3.7/dist-packages (from gdown) (4.64.1)\n",
            "Requirement already satisfied: certifi>=2017.4.17 in /usr/local/lib/python3.7/dist-packages (from requests[socks]->gdown) (2022.9.24)\n",
            "Requirement already satisfied: urllib3!=1.25.0,!=1.25.1,<1.26,>=1.21.1 in /usr/local/lib/python3.7/dist-packages (from requests[socks]->gdown) (1.24.3)\n",
            "Requirement already satisfied: chardet<4,>=3.0.2 in /usr/local/lib/python3.7/dist-packages (from requests[socks]->gdown) (3.0.4)\n",
            "Requirement already satisfied: idna<3,>=2.5 in /usr/local/lib/python3.7/dist-packages (from requests[socks]->gdown) (2.10)\n",
            "Requirement already satisfied: PySocks!=1.5.7,>=1.5.6 in /usr/local/lib/python3.7/dist-packages (from requests[socks]->gdown) (1.7.1)\n",
            "Installing collected packages: gdown\n",
            "  Attempting uninstall: gdown\n",
            "    Found existing installation: gdown 4.4.0\n",
            "    Uninstalling gdown-4.4.0:\n",
            "      Successfully uninstalled gdown-4.4.0\n",
            "Successfully installed gdown-4.5.4\n"
          ]
        }
      ]
    },
    {
      "cell_type": "code",
      "source": [
        "!unzip '/content/clean_exp16 2.zip'\n",
        "!mv '/content/clean_exp16' 'Cleaned_signal'"
      ],
      "metadata": {
        "colab": {
          "base_uri": "https://localhost:8080/"
        },
        "id": "QUEyQOkN-Pi-",
        "outputId": "c85f76db-3874-4a9f-c786-5d646c55beda"
      },
      "execution_count": null,
      "outputs": [
        {
          "output_type": "stream",
          "name": "stdout",
          "text": [
            "Archive:  /content/clean_exp16 2.zip\n",
            "   creating: clean_exp16/\n",
            "  inflating: __MACOSX/._clean_exp16  \n",
            "  inflating: clean_exp16/PSS10 - Sheet1.csv  \n",
            "  inflating: __MACOSX/clean_exp16/._PSS10 - Sheet1.csv  \n",
            "  inflating: clean_exp16/clean_exp8.csv  \n",
            "  inflating: __MACOSX/clean_exp16/._clean_exp8.csv  \n",
            "  inflating: clean_exp16/clean_exp9.csv  \n",
            "  inflating: __MACOSX/clean_exp16/._clean_exp9.csv  \n",
            "  inflating: clean_exp16/clean_exp7.csv  \n",
            "  inflating: __MACOSX/clean_exp16/._clean_exp7.csv  \n",
            "  inflating: clean_exp16/clean_exp15.csv  \n",
            "  inflating: __MACOSX/clean_exp16/._clean_exp15.csv  \n",
            "  inflating: clean_exp16/clean_exp14.csv  \n",
            "  inflating: __MACOSX/clean_exp16/._clean_exp14.csv  \n",
            "  inflating: clean_exp16/clean_exp6.csv  \n",
            "  inflating: __MACOSX/clean_exp16/._clean_exp6.csv  \n",
            "  inflating: clean_exp16/clean_exp4.csv  \n",
            "  inflating: __MACOSX/clean_exp16/._clean_exp4.csv  \n",
            "  inflating: clean_exp16/clean_exp16.csv  \n",
            "  inflating: __MACOSX/clean_exp16/._clean_exp16.csv  \n",
            "  inflating: clean_exp16/clean_exp17.csv  \n",
            "  inflating: __MACOSX/clean_exp16/._clean_exp17.csv  \n",
            "  inflating: clean_exp16/clean_exp5.csv  \n",
            "  inflating: __MACOSX/clean_exp16/._clean_exp5.csv  \n",
            "  inflating: clean_exp16/clean_exp1.csv  \n",
            "  inflating: __MACOSX/clean_exp16/._clean_exp1.csv  \n",
            "  inflating: clean_exp16/clean_exp13.csv  \n",
            "  inflating: __MACOSX/clean_exp16/._clean_exp13.csv  \n",
            "  inflating: clean_exp16/clean_exp12.csv  \n",
            "  inflating: __MACOSX/clean_exp16/._clean_exp12.csv  \n",
            "  inflating: clean_exp16/clean_exp2.csv  \n",
            "  inflating: __MACOSX/clean_exp16/._clean_exp2.csv  \n",
            "  inflating: clean_exp16/clean_exp10.csv  \n",
            "  inflating: __MACOSX/clean_exp16/._clean_exp10.csv  \n",
            "  inflating: clean_exp16/clean_exp11.csv  \n",
            "  inflating: __MACOSX/clean_exp16/._clean_exp11.csv  \n",
            "  inflating: clean_exp16/clean_exp3.csv  \n",
            "  inflating: __MACOSX/clean_exp16/._clean_exp3.csv  \n"
          ]
        }
      ]
    },
    {
      "cell_type": "code",
      "source": [
        "!gdown --id 1BE2-swwhyXr2VfJ-QyKNSBbyGfqJvHGs"
      ],
      "metadata": {
        "colab": {
          "base_uri": "https://localhost:8080/"
        },
        "id": "6O4jgvPV9jDR",
        "outputId": "e8965d7e-906f-4db6-def2-825761eb1881"
      },
      "execution_count": null,
      "outputs": [
        {
          "output_type": "stream",
          "name": "stdout",
          "text": [
            "/usr/local/lib/python3.7/dist-packages/gdown/cli.py:125: FutureWarning: Option `--id` was deprecated in version 4.3.1 and will be removed in 5.0. You don't need to pass it anymore to use a file ID.\n",
            "  category=FutureWarning,\n",
            "Downloading...\n",
            "From: https://drive.google.com/uc?id=1BE2-swwhyXr2VfJ-QyKNSBbyGfqJvHGs\n",
            "To: /content/clean_exp16 2.zip\n",
            "100% 121M/121M [00:00<00:00, 260MB/s]\n"
          ]
        }
      ]
    },
    {
      "cell_type": "code",
      "source": [
        "pip install mne"
      ],
      "metadata": {
        "colab": {
          "base_uri": "https://localhost:8080/"
        },
        "id": "Aa7uKqb0QGc9",
        "outputId": "abe68664-7cc3-4038-f28f-0456d973709d"
      },
      "execution_count": null,
      "outputs": [
        {
          "output_type": "stream",
          "name": "stdout",
          "text": [
            "Looking in indexes: https://pypi.org/simple, https://us-python.pkg.dev/colab-wheels/public/simple/\n",
            "Collecting mne\n",
            "  Downloading mne-1.2.2-py3-none-any.whl (7.6 MB)\n",
            "\u001b[K     |████████████████████████████████| 7.6 MB 9.6 MB/s \n",
            "\u001b[?25hRequirement already satisfied: pooch>=1.5 in /usr/local/lib/python3.7/dist-packages (from mne) (1.6.0)\n",
            "Requirement already satisfied: decorator in /usr/local/lib/python3.7/dist-packages (from mne) (4.4.2)\n",
            "Requirement already satisfied: jinja2 in /usr/local/lib/python3.7/dist-packages (from mne) (2.11.3)\n",
            "Requirement already satisfied: packaging in /usr/local/lib/python3.7/dist-packages (from mne) (21.3)\n",
            "Requirement already satisfied: numpy>=1.15.4 in /usr/local/lib/python3.7/dist-packages (from mne) (1.21.6)\n",
            "Requirement already satisfied: tqdm in /usr/local/lib/python3.7/dist-packages (from mne) (4.64.1)\n",
            "Requirement already satisfied: scipy>=1.1.0 in /usr/local/lib/python3.7/dist-packages (from mne) (1.7.3)\n",
            "Requirement already satisfied: matplotlib in /usr/local/lib/python3.7/dist-packages (from mne) (3.2.2)\n",
            "Requirement already satisfied: requests>=2.19.0 in /usr/local/lib/python3.7/dist-packages (from pooch>=1.5->mne) (2.23.0)\n",
            "Requirement already satisfied: appdirs>=1.3.0 in /usr/local/lib/python3.7/dist-packages (from pooch>=1.5->mne) (1.4.4)\n",
            "Requirement already satisfied: pyparsing!=3.0.5,>=2.0.2 in /usr/local/lib/python3.7/dist-packages (from packaging->mne) (3.0.9)\n",
            "Requirement already satisfied: certifi>=2017.4.17 in /usr/local/lib/python3.7/dist-packages (from requests>=2.19.0->pooch>=1.5->mne) (2022.9.24)\n",
            "Requirement already satisfied: urllib3!=1.25.0,!=1.25.1,<1.26,>=1.21.1 in /usr/local/lib/python3.7/dist-packages (from requests>=2.19.0->pooch>=1.5->mne) (1.24.3)\n",
            "Requirement already satisfied: chardet<4,>=3.0.2 in /usr/local/lib/python3.7/dist-packages (from requests>=2.19.0->pooch>=1.5->mne) (3.0.4)\n",
            "Requirement already satisfied: idna<3,>=2.5 in /usr/local/lib/python3.7/dist-packages (from requests>=2.19.0->pooch>=1.5->mne) (2.10)\n",
            "Requirement already satisfied: MarkupSafe>=0.23 in /usr/local/lib/python3.7/dist-packages (from jinja2->mne) (2.0.1)\n",
            "Requirement already satisfied: python-dateutil>=2.1 in /usr/local/lib/python3.7/dist-packages (from matplotlib->mne) (2.8.2)\n",
            "Requirement already satisfied: cycler>=0.10 in /usr/local/lib/python3.7/dist-packages (from matplotlib->mne) (0.11.0)\n",
            "Requirement already satisfied: kiwisolver>=1.0.1 in /usr/local/lib/python3.7/dist-packages (from matplotlib->mne) (1.4.4)\n",
            "Requirement already satisfied: typing-extensions in /usr/local/lib/python3.7/dist-packages (from kiwisolver>=1.0.1->matplotlib->mne) (4.1.1)\n",
            "Requirement already satisfied: six>=1.5 in /usr/local/lib/python3.7/dist-packages (from python-dateutil>=2.1->matplotlib->mne) (1.15.0)\n",
            "Installing collected packages: mne\n",
            "Successfully installed mne-1.2.2\n"
          ]
        }
      ]
    },
    {
      "cell_type": "code",
      "source": [
        "pip install components"
      ],
      "metadata": {
        "colab": {
          "base_uri": "https://localhost:8080/"
        },
        "id": "wst52ie6eNKc",
        "outputId": "f7eb7fc4-6afc-4029-c666-89fb5225e90f"
      },
      "execution_count": null,
      "outputs": [
        {
          "output_type": "stream",
          "name": "stdout",
          "text": [
            "Looking in indexes: https://pypi.org/simple, https://us-python.pkg.dev/colab-wheels/public/simple/\n",
            "Collecting components\n",
            "  Downloading components-1.2.8-py3-none-any.whl (11 kB)\n",
            "Installing collected packages: components\n",
            "Successfully installed components-1.2.8\n"
          ]
        }
      ]
    },
    {
      "cell_type": "code",
      "execution_count": null,
      "metadata": {
        "colab": {
          "base_uri": "https://localhost:8080/"
        },
        "id": "d1c3t0r-NoDI",
        "outputId": "0f6ae606-70c7-4434-ed76-3c8d05527489"
      },
      "outputs": [
        {
          "output_type": "execute_result",
          "data": {
            "text/plain": [
              "<torch._C.Generator at 0x7f33887ae230>"
            ]
          },
          "metadata": {},
          "execution_count": 8
        }
      ],
      "source": [
        "import pickle\n",
        "import numpy as np\n",
        "import os\n",
        "import mne\n",
        "import pandas as pd\n",
        "pickle.format_version\n",
        "\n",
        "import torch\n",
        "import torch.nn as nn\n",
        "import torch.nn.functional as F\n",
        "from torchvision import datasets, transforms  \n",
        "from torch.utils.data import DataLoader, Dataset  \n",
        "from torch.utils.data import TensorDataset\n",
        "from torch.autograd import Variable\n",
        "\n",
        "import pandas as pd\n",
        "from sklearn.metrics import confusion_matrix, ConfusionMatrixDisplay\n",
        "import matplotlib.pyplot as plt\n",
        "\n",
        "from sklearn.model_selection import train_test_split\n",
        "\n",
        "# setting seed so that splitting process and training process can be reproduce\n",
        "torch.manual_seed(1)"
      ]
    },
    {
      "cell_type": "markdown",
      "source": [
        "# ETL"
      ],
      "metadata": {
        "id": "N7jGaewr-JW2"
      }
    },
    {
      "cell_type": "code",
      "source": [
        "import os\n",
        "main_path = os.getcwd()\n",
        "filename = os.listdir(main_path + '/Cleaned_signal/')"
      ],
      "metadata": {
        "id": "wjsNJ-RoUiLR"
      },
      "execution_count": null,
      "outputs": []
    },
    {
      "cell_type": "code",
      "source": [
        "filename = ['clean_exp1.csv',\n",
        " 'clean_exp2.csv',\n",
        " 'clean_exp3.csv',\n",
        " 'clean_exp4.csv',\n",
        " 'clean_exp5.csv',\n",
        " 'clean_exp6.csv',\n",
        " 'clean_exp7.csv',\n",
        " 'clean_exp8.csv',\n",
        " 'clean_exp9.csv',\n",
        " 'clean_exp10.csv',\n",
        " 'clean_exp11.csv',\n",
        " 'clean_exp12.csv',\n",
        " 'clean_exp13.csv',\n",
        " 'clean_exp14.csv',\n",
        " 'clean_exp15.csv',\n",
        " 'clean_exp16.csv',\n",
        " 'clean_exp17.csv']"
      ],
      "metadata": {
        "id": "Uxhb1pcqUiq8"
      },
      "execution_count": null,
      "outputs": []
    },
    {
      "cell_type": "code",
      "source": [
        "os.getcwd()"
      ],
      "metadata": {
        "colab": {
          "base_uri": "https://localhost:8080/",
          "height": 36
        },
        "id": "UNqMffqtUxf4",
        "outputId": "a135ed1f-77d6-491e-b920-24b9bb0e01f6"
      },
      "execution_count": null,
      "outputs": [
        {
          "output_type": "execute_result",
          "data": {
            "text/plain": [
              "'/content'"
            ],
            "application/vnd.google.colaboratory.intrinsic+json": {
              "type": "string"
            }
          },
          "metadata": {},
          "execution_count": 14
        }
      ]
    },
    {
      "cell_type": "code",
      "source": [
        "all_file_path = main_path + '/Cleaned_signal/'\n",
        "X_list = list()\n",
        "for file in filename:\n",
        "    file_path = all_file_path + file\n",
        "    df = pd.read_csv(file_path, index_col=None)\n",
        "    df = df.loc[:, ~df.columns.str.contains('^Unnamed')]\n",
        "    X_list.append(df)  "
      ],
      "metadata": {
        "id": "IT1a4C7WUiup"
      },
      "execution_count": null,
      "outputs": []
    },
    {
      "cell_type": "code",
      "source": [
        "df.head()"
      ],
      "metadata": {
        "colab": {
          "base_uri": "https://localhost:8080/",
          "height": 357
        },
        "id": "COY-Jz-ZUiyo",
        "outputId": "d00ca284-7111-4fa0-9db6-4b21b530c75d"
      },
      "execution_count": null,
      "outputs": [
        {
          "output_type": "execute_result",
          "data": {
            "text/plain": [
              "            Fp1           Fp2            F7            F3            F4  \\\n",
              "0  3.388132e-21  1.312901e-19 -9.080193e-19  8.453389e-19 -1.035074e-18   \n",
              "1  4.240123e-06 -1.098127e-03  9.504785e-06 -7.301414e-04 -9.864431e-04   \n",
              "2  4.531352e-06 -2.151353e-04  5.921683e-06 -1.464024e-04 -1.963873e-04   \n",
              "3  3.763741e-06 -5.832528e-04  4.345541e-06 -3.864017e-04 -5.199725e-04   \n",
              "4 -2.243297e-06 -6.780617e-04  1.494894e-06 -4.541781e-04 -6.006397e-04   \n",
              "\n",
              "             F8            T3            C3            C4            T4  \\\n",
              "0  5.302426e-18 -2.879912e-20  1.973587e-18 -1.770299e-18  2.638719e-18   \n",
              "1  5.528234e-06  4.397685e-06 -3.200624e-05 -1.489707e-05 -9.424304e-06   \n",
              "2  7.661865e-06  7.361615e-06 -4.243603e-06 -4.617989e-06  2.459634e-06   \n",
              "3  4.296499e-06  6.737737e-06 -1.258225e-05 -1.224808e-05 -4.653922e-06   \n",
              "4 -1.012771e-06  3.279630e-06 -1.230263e-05 -1.609016e-05 -6.882220e-06   \n",
              "\n",
              "             T5            P3            P4            T6            O1  \\\n",
              "0 -7.462360e-19  2.486042e-19 -2.623685e-19 -1.321371e-18 -2.126053e-19   \n",
              "1 -1.179442e-06 -3.882617e-06 -1.544578e-04  3.472641e-04 -8.418374e-06   \n",
              "2  2.879465e-06  2.427743e-06 -2.532974e-05  7.922094e-05 -6.490459e-06   \n",
              "3  4.127254e-06  1.146176e-06 -7.805786e-05  2.117792e-04 -7.120499e-06   \n",
              "4  2.642719e-06 -5.242474e-07 -9.300509e-05  2.342439e-04 -7.541476e-06   \n",
              "\n",
              "             O2  \n",
              "0 -7.919758e-19  \n",
              "1 -7.045003e-05  \n",
              "2 -1.263134e-05  \n",
              "3 -3.545076e-05  \n",
              "4 -4.271908e-05  "
            ],
            "text/html": [
              "\n",
              "  <div id=\"df-7a5a32be-c1bc-4aaa-aa43-a163507421c4\">\n",
              "    <div class=\"colab-df-container\">\n",
              "      <div>\n",
              "<style scoped>\n",
              "    .dataframe tbody tr th:only-of-type {\n",
              "        vertical-align: middle;\n",
              "    }\n",
              "\n",
              "    .dataframe tbody tr th {\n",
              "        vertical-align: top;\n",
              "    }\n",
              "\n",
              "    .dataframe thead th {\n",
              "        text-align: right;\n",
              "    }\n",
              "</style>\n",
              "<table border=\"1\" class=\"dataframe\">\n",
              "  <thead>\n",
              "    <tr style=\"text-align: right;\">\n",
              "      <th></th>\n",
              "      <th>Fp1</th>\n",
              "      <th>Fp2</th>\n",
              "      <th>F7</th>\n",
              "      <th>F3</th>\n",
              "      <th>F4</th>\n",
              "      <th>F8</th>\n",
              "      <th>T3</th>\n",
              "      <th>C3</th>\n",
              "      <th>C4</th>\n",
              "      <th>T4</th>\n",
              "      <th>T5</th>\n",
              "      <th>P3</th>\n",
              "      <th>P4</th>\n",
              "      <th>T6</th>\n",
              "      <th>O1</th>\n",
              "      <th>O2</th>\n",
              "    </tr>\n",
              "  </thead>\n",
              "  <tbody>\n",
              "    <tr>\n",
              "      <th>0</th>\n",
              "      <td>3.388132e-21</td>\n",
              "      <td>1.312901e-19</td>\n",
              "      <td>-9.080193e-19</td>\n",
              "      <td>8.453389e-19</td>\n",
              "      <td>-1.035074e-18</td>\n",
              "      <td>5.302426e-18</td>\n",
              "      <td>-2.879912e-20</td>\n",
              "      <td>1.973587e-18</td>\n",
              "      <td>-1.770299e-18</td>\n",
              "      <td>2.638719e-18</td>\n",
              "      <td>-7.462360e-19</td>\n",
              "      <td>2.486042e-19</td>\n",
              "      <td>-2.623685e-19</td>\n",
              "      <td>-1.321371e-18</td>\n",
              "      <td>-2.126053e-19</td>\n",
              "      <td>-7.919758e-19</td>\n",
              "    </tr>\n",
              "    <tr>\n",
              "      <th>1</th>\n",
              "      <td>4.240123e-06</td>\n",
              "      <td>-1.098127e-03</td>\n",
              "      <td>9.504785e-06</td>\n",
              "      <td>-7.301414e-04</td>\n",
              "      <td>-9.864431e-04</td>\n",
              "      <td>5.528234e-06</td>\n",
              "      <td>4.397685e-06</td>\n",
              "      <td>-3.200624e-05</td>\n",
              "      <td>-1.489707e-05</td>\n",
              "      <td>-9.424304e-06</td>\n",
              "      <td>-1.179442e-06</td>\n",
              "      <td>-3.882617e-06</td>\n",
              "      <td>-1.544578e-04</td>\n",
              "      <td>3.472641e-04</td>\n",
              "      <td>-8.418374e-06</td>\n",
              "      <td>-7.045003e-05</td>\n",
              "    </tr>\n",
              "    <tr>\n",
              "      <th>2</th>\n",
              "      <td>4.531352e-06</td>\n",
              "      <td>-2.151353e-04</td>\n",
              "      <td>5.921683e-06</td>\n",
              "      <td>-1.464024e-04</td>\n",
              "      <td>-1.963873e-04</td>\n",
              "      <td>7.661865e-06</td>\n",
              "      <td>7.361615e-06</td>\n",
              "      <td>-4.243603e-06</td>\n",
              "      <td>-4.617989e-06</td>\n",
              "      <td>2.459634e-06</td>\n",
              "      <td>2.879465e-06</td>\n",
              "      <td>2.427743e-06</td>\n",
              "      <td>-2.532974e-05</td>\n",
              "      <td>7.922094e-05</td>\n",
              "      <td>-6.490459e-06</td>\n",
              "      <td>-1.263134e-05</td>\n",
              "    </tr>\n",
              "    <tr>\n",
              "      <th>3</th>\n",
              "      <td>3.763741e-06</td>\n",
              "      <td>-5.832528e-04</td>\n",
              "      <td>4.345541e-06</td>\n",
              "      <td>-3.864017e-04</td>\n",
              "      <td>-5.199725e-04</td>\n",
              "      <td>4.296499e-06</td>\n",
              "      <td>6.737737e-06</td>\n",
              "      <td>-1.258225e-05</td>\n",
              "      <td>-1.224808e-05</td>\n",
              "      <td>-4.653922e-06</td>\n",
              "      <td>4.127254e-06</td>\n",
              "      <td>1.146176e-06</td>\n",
              "      <td>-7.805786e-05</td>\n",
              "      <td>2.117792e-04</td>\n",
              "      <td>-7.120499e-06</td>\n",
              "      <td>-3.545076e-05</td>\n",
              "    </tr>\n",
              "    <tr>\n",
              "      <th>4</th>\n",
              "      <td>-2.243297e-06</td>\n",
              "      <td>-6.780617e-04</td>\n",
              "      <td>1.494894e-06</td>\n",
              "      <td>-4.541781e-04</td>\n",
              "      <td>-6.006397e-04</td>\n",
              "      <td>-1.012771e-06</td>\n",
              "      <td>3.279630e-06</td>\n",
              "      <td>-1.230263e-05</td>\n",
              "      <td>-1.609016e-05</td>\n",
              "      <td>-6.882220e-06</td>\n",
              "      <td>2.642719e-06</td>\n",
              "      <td>-5.242474e-07</td>\n",
              "      <td>-9.300509e-05</td>\n",
              "      <td>2.342439e-04</td>\n",
              "      <td>-7.541476e-06</td>\n",
              "      <td>-4.271908e-05</td>\n",
              "    </tr>\n",
              "  </tbody>\n",
              "</table>\n",
              "</div>\n",
              "      <button class=\"colab-df-convert\" onclick=\"convertToInteractive('df-7a5a32be-c1bc-4aaa-aa43-a163507421c4')\"\n",
              "              title=\"Convert this dataframe to an interactive table.\"\n",
              "              style=\"display:none;\">\n",
              "        \n",
              "  <svg xmlns=\"http://www.w3.org/2000/svg\" height=\"24px\"viewBox=\"0 0 24 24\"\n",
              "       width=\"24px\">\n",
              "    <path d=\"M0 0h24v24H0V0z\" fill=\"none\"/>\n",
              "    <path d=\"M18.56 5.44l.94 2.06.94-2.06 2.06-.94-2.06-.94-.94-2.06-.94 2.06-2.06.94zm-11 1L8.5 8.5l.94-2.06 2.06-.94-2.06-.94L8.5 2.5l-.94 2.06-2.06.94zm10 10l.94 2.06.94-2.06 2.06-.94-2.06-.94-.94-2.06-.94 2.06-2.06.94z\"/><path d=\"M17.41 7.96l-1.37-1.37c-.4-.4-.92-.59-1.43-.59-.52 0-1.04.2-1.43.59L10.3 9.45l-7.72 7.72c-.78.78-.78 2.05 0 2.83L4 21.41c.39.39.9.59 1.41.59.51 0 1.02-.2 1.41-.59l7.78-7.78 2.81-2.81c.8-.78.8-2.07 0-2.86zM5.41 20L4 18.59l7.72-7.72 1.47 1.35L5.41 20z\"/>\n",
              "  </svg>\n",
              "      </button>\n",
              "      \n",
              "  <style>\n",
              "    .colab-df-container {\n",
              "      display:flex;\n",
              "      flex-wrap:wrap;\n",
              "      gap: 12px;\n",
              "    }\n",
              "\n",
              "    .colab-df-convert {\n",
              "      background-color: #E8F0FE;\n",
              "      border: none;\n",
              "      border-radius: 50%;\n",
              "      cursor: pointer;\n",
              "      display: none;\n",
              "      fill: #1967D2;\n",
              "      height: 32px;\n",
              "      padding: 0 0 0 0;\n",
              "      width: 32px;\n",
              "    }\n",
              "\n",
              "    .colab-df-convert:hover {\n",
              "      background-color: #E2EBFA;\n",
              "      box-shadow: 0px 1px 2px rgba(60, 64, 67, 0.3), 0px 1px 3px 1px rgba(60, 64, 67, 0.15);\n",
              "      fill: #174EA6;\n",
              "    }\n",
              "\n",
              "    [theme=dark] .colab-df-convert {\n",
              "      background-color: #3B4455;\n",
              "      fill: #D2E3FC;\n",
              "    }\n",
              "\n",
              "    [theme=dark] .colab-df-convert:hover {\n",
              "      background-color: #434B5C;\n",
              "      box-shadow: 0px 1px 3px 1px rgba(0, 0, 0, 0.15);\n",
              "      filter: drop-shadow(0px 1px 2px rgba(0, 0, 0, 0.3));\n",
              "      fill: #FFFFFF;\n",
              "    }\n",
              "  </style>\n",
              "\n",
              "      <script>\n",
              "        const buttonEl =\n",
              "          document.querySelector('#df-7a5a32be-c1bc-4aaa-aa43-a163507421c4 button.colab-df-convert');\n",
              "        buttonEl.style.display =\n",
              "          google.colab.kernel.accessAllowed ? 'block' : 'none';\n",
              "\n",
              "        async function convertToInteractive(key) {\n",
              "          const element = document.querySelector('#df-7a5a32be-c1bc-4aaa-aa43-a163507421c4');\n",
              "          const dataTable =\n",
              "            await google.colab.kernel.invokeFunction('convertToInteractive',\n",
              "                                                     [key], {});\n",
              "          if (!dataTable) return;\n",
              "\n",
              "          const docLinkHtml = 'Like what you see? Visit the ' +\n",
              "            '<a target=\"_blank\" href=https://colab.research.google.com/notebooks/data_table.ipynb>data table notebook</a>'\n",
              "            + ' to learn more about interactive tables.';\n",
              "          element.innerHTML = '';\n",
              "          dataTable['output_type'] = 'display_data';\n",
              "          await google.colab.output.renderOutput(dataTable, element);\n",
              "          const docLink = document.createElement('div');\n",
              "          docLink.innerHTML = docLinkHtml;\n",
              "          element.appendChild(docLink);\n",
              "        }\n",
              "      </script>\n",
              "    </div>\n",
              "  </div>\n",
              "  "
            ]
          },
          "metadata": {},
          "execution_count": 16
        }
      ]
    },
    {
      "cell_type": "code",
      "source": [
        "X = np.array(X_list)\n",
        "X.shape"
      ],
      "metadata": {
        "colab": {
          "base_uri": "https://localhost:8080/"
        },
        "id": "PEw38IzfV9Ze",
        "outputId": "fd886956-a950-4c07-e360-5294c68b9110"
      },
      "execution_count": null,
      "outputs": [
        {
          "output_type": "execute_result",
          "data": {
            "text/plain": [
              "(17, 45000, 16)"
            ]
          },
          "metadata": {},
          "execution_count": 17
        }
      ]
    },
    {
      "cell_type": "code",
      "source": [
        "# Reshape\n",
        "X = np.transpose(X, (0, 2, 1))\n",
        "X.shape"
      ],
      "metadata": {
        "colab": {
          "base_uri": "https://localhost:8080/"
        },
        "id": "2sJ3TIjQV9cz",
        "outputId": "01566a0e-bd02-4523-dfdd-1e9e2bfe22b8"
      },
      "execution_count": null,
      "outputs": [
        {
          "output_type": "execute_result",
          "data": {
            "text/plain": [
              "(17, 16, 45000)"
            ]
          },
          "metadata": {},
          "execution_count": 18
        }
      ]
    },
    {
      "cell_type": "code",
      "source": [
        "y_path = '/content/Cleaned_signal/PSS10 - Sheet1.csv'\n",
        "df = pd.read_csv(y_path)\n",
        "y = np.array(df['label'])\n",
        "y"
      ],
      "metadata": {
        "colab": {
          "base_uri": "https://localhost:8080/"
        },
        "id": "ACZEM4DBV9fl",
        "outputId": "829b3cfe-5439-4ee7-f164-97bec497fe7a"
      },
      "execution_count": null,
      "outputs": [
        {
          "output_type": "execute_result",
          "data": {
            "text/plain": [
              "array([1, 1, 1, 0, 0, 0, 0, 1, 0, 0, 0, 1, 0, 0, 0, 1, 1])"
            ]
          },
          "metadata": {},
          "execution_count": 21
        }
      ]
    },
    {
      "cell_type": "markdown",
      "source": [
        "# Split Data"
      ],
      "metadata": {
        "id": "nGw8680y-3N5"
      }
    },
    {
      "cell_type": "code",
      "source": [
        "X_train, X_test, y_train, y_test = train_test_split(X, y, test_size=0.2, stratify=y, random_state=999)\n",
        "\n",
        "print(X_train.shape, X_test.shape, y_train.shape, y_test.shape)"
      ],
      "metadata": {
        "colab": {
          "base_uri": "https://localhost:8080/"
        },
        "id": "awnviaHZcdH7",
        "outputId": "46f10b9b-727a-45cc-9c65-e2074f7367f8"
      },
      "execution_count": null,
      "outputs": [
        {
          "output_type": "stream",
          "name": "stdout",
          "text": [
            "(13, 16, 45000) (4, 16, 45000) (13,) (4,)\n"
          ]
        }
      ]
    },
    {
      "cell_type": "code",
      "source": [
        "X_train, X_val, y_train, y_val = train_test_split(X_train, y_train, test_size=0.1, stratify=y_train, random_state=999)\n",
        "print(X_train.shape, X_val.shape, y_train.shape, y_val.shape)"
      ],
      "metadata": {
        "colab": {
          "base_uri": "https://localhost:8080/"
        },
        "id": "TF6zuq4phP9E",
        "outputId": "1727480b-621b-4b31-9273-b05b03e3cbb6"
      },
      "execution_count": null,
      "outputs": [
        {
          "output_type": "stream",
          "name": "stdout",
          "text": [
            "(11, 16, 45000) (2, 16, 45000) (11,) (2,)\n"
          ]
        }
      ]
    },
    {
      "cell_type": "code",
      "source": [
        "from sklearn.preprocessing import MinMaxScaler\n",
        "\n",
        "#scale transform each channel independently\n",
        "scalers = {}\n",
        "for i in range(X_train.shape[2]):\n",
        "    scalers[i] = MinMaxScaler(feature_range=(-1, 1))\n",
        "    X_train[:, :, i] = scalers[i].fit_transform(X_train[:, :, i]) \n",
        "\n",
        "for i in range(X_val.shape[2]):\n",
        "    X_val[:, :, i]   = scalers[i].transform(X_val[:, :, i])     \n",
        "    \n",
        "for i in range(X_test.shape[2]):\n",
        "    X_test[:, :, i]  = scalers[i].transform(X_test[:, :, i]) "
      ],
      "metadata": {
        "id": "BOOZBX7BhRpR"
      },
      "execution_count": null,
      "outputs": []
    },
    {
      "cell_type": "code",
      "source": [
        "print(X_train.mean(), X_val.mean(), X_test.mean())\n",
        "print(X_train.min(), X_val.min(), X_test.min())\n",
        "print(X_train.max(), X_val.max(), X_test.max())"
      ],
      "metadata": {
        "colab": {
          "base_uri": "https://localhost:8080/"
        },
        "id": "TbYlRdOGhUKy",
        "outputId": "856eefd4-943d-4ba7-a875-0b9ae932bf58"
      },
      "execution_count": null,
      "outputs": [
        {
          "output_type": "stream",
          "name": "stdout",
          "text": [
            "0.004399392956334892 0.0035408048977216095 0.0023469181998402038\n",
            "-1.0 -62.05057873054599 -514.3939541581051\n",
            "1.0000000000000004 59.31236061071043 474.60317083503674\n"
          ]
        }
      ]
    },
    {
      "cell_type": "markdown",
      "source": [
        "# Define Batch size and train,test, val loader"
      ],
      "metadata": {
        "id": "hOl5sDXo_C_C"
      }
    },
    {
      "cell_type": "code",
      "source": [
        "X_train_tensor = torch.tensor(X_train).to(torch.float32)\n",
        "y_train_tensor = torch.tensor(y_train).to(torch.float32)\n",
        "X_val_tensor = torch.tensor(X_val).to(torch.float32)\n",
        "y_val_tensor = torch.tensor(y_val).to(torch.float32)\n",
        "X_test_tensor = torch.tensor(X_test).to(torch.float32)\n",
        "y_test_tensor = torch.tensor(y_test).to(torch.float32)\n",
        "\n",
        "# Cast data to dataloader for more convenience\n",
        "training_set = TensorDataset(X_train_tensor, y_train_tensor)\n",
        "testing_set = TensorDataset(X_test_tensor, y_test_tensor)\n",
        "validation_set = TensorDataset(X_val_tensor, y_val_tensor)\n",
        "\n",
        "train_batch_size = 3\n",
        "val_batch_size = len(validation_set)\n",
        "test_batch_size = len(testing_set)\n",
        "\n",
        "train_loader = DataLoader(training_set, train_batch_size, shuffle=True)\n",
        "val_loader = DataLoader(validation_set, val_batch_size, shuffle=True)\n",
        "test_loader = DataLoader(testing_set, test_batch_size, shuffle=True)"
      ],
      "metadata": {
        "id": "Y1enUccbhXGK"
      },
      "execution_count": null,
      "outputs": []
    },
    {
      "cell_type": "code",
      "source": [
        "for data, label in train_loader:\n",
        "  print(data)\n",
        "  break"
      ],
      "metadata": {
        "colab": {
          "base_uri": "https://localhost:8080/"
        },
        "id": "LEJ3VJt3huYw",
        "outputId": "f085edd7-168c-41ae-9b9a-46673efc61be"
      },
      "execution_count": null,
      "outputs": [
        {
          "output_type": "stream",
          "name": "stdout",
          "text": [
            "tensor([[[-1.0000,  1.0000,  1.0000,  ...,  0.7615,  1.0000, -1.0000],\n",
            "         [-1.0000,  1.0000,  1.0000,  ...,  0.9153,  1.0000, -1.0000],\n",
            "         [-1.0000, -0.2932,  0.4205,  ...,  1.0000,  1.0000, -1.0000],\n",
            "         ...,\n",
            "         [-1.0000, -0.6115, -0.5163,  ..., -0.0642, -0.0428, -1.0000],\n",
            "         [-1.0000, -0.4252, -0.2751,  ...,  1.0000,  0.8503, -1.0000],\n",
            "         [-1.0000, -0.1891, -0.0763,  ..., -0.3143, -0.4634, -1.0000]],\n",
            "\n",
            "        [[-1.0000, -1.0000, -0.4158,  ...,  0.6662,  0.6962, -1.0000],\n",
            "         [-1.0000,  0.5879,  0.3636,  ...,  0.8792,  0.8937, -1.0000],\n",
            "         [-1.0000,  1.0000,  1.0000,  ..., -1.0000, -1.0000, -1.0000],\n",
            "         ...,\n",
            "         [-1.0000,  0.1996,  0.1447,  ...,  0.1353, -0.0047, -1.0000],\n",
            "         [-1.0000, -1.0000, -1.0000,  ...,  0.9788,  0.8157, -1.0000],\n",
            "         [-1.0000,  1.0000,  1.0000,  ...,  1.0000,  1.0000, -1.0000]],\n",
            "\n",
            "        [[-1.0000,  0.9483,  0.7543,  ..., -0.4491, -0.1912, -1.0000],\n",
            "         [-1.0000,  0.9944,  0.8930,  ...,  0.7113,  0.8366, -1.0000],\n",
            "         [-1.0000, -0.3198,  0.3081,  ...,  0.0296,  0.3456, -1.0000],\n",
            "         ...,\n",
            "         [-1.0000, -1.0000, -0.7058,  ..., -0.2113, -0.3314, -1.0000],\n",
            "         [-1.0000, -0.9563, -0.2672,  ...,  0.9964,  0.2440, -1.0000],\n",
            "         [-1.0000, -0.7196, -0.2215,  ..., -0.4535, -0.8886, -1.0000]]])\n"
          ]
        }
      ]
    },
    {
      "cell_type": "code",
      "source": [
        "data.shape"
      ],
      "metadata": {
        "colab": {
          "base_uri": "https://localhost:8080/"
        },
        "id": "PVMFMBwAjImF",
        "outputId": "28cd832a-d7b8-471e-b9bd-38ef7e360481"
      },
      "execution_count": null,
      "outputs": [
        {
          "output_type": "execute_result",
          "data": {
            "text/plain": [
              "torch.Size([3, 16, 45000])"
            ]
          },
          "metadata": {},
          "execution_count": 57
        }
      ]
    },
    {
      "cell_type": "code",
      "source": [
        "device = 'cuda' if torch.cuda.is_available() else 'cpu'"
      ],
      "metadata": {
        "id": "HaiKzvgCjc3_"
      },
      "execution_count": null,
      "outputs": []
    },
    {
      "cell_type": "code",
      "source": [
        "#lstm_model = nn.LSTM(input_size=45000, hidden_size=500)"
      ],
      "metadata": {
        "id": "jHB8Zgs_kpm6"
      },
      "execution_count": null,
      "outputs": []
    },
    {
      "cell_type": "markdown",
      "source": [
        "# LSTM model"
      ],
      "metadata": {
        "id": "tMV89z27_HmH"
      }
    },
    {
      "cell_type": "code",
      "source": [
        "class LSTM(nn.Module):\n",
        "    '''\n",
        "    Expected Input Shape: (batch, channels, seq_len, )\n",
        "    '''\n",
        "    def __init__(self, input_dim, hidden_dim, num_layers, output_dim, bidirectional, dropout):\n",
        "        super().__init__()\n",
        "        self.lstm = nn.LSTM(input_dim, \n",
        "                           hidden_dim, \n",
        "                           num_layers=num_layers, \n",
        "                           bidirectional=bidirectional, \n",
        "                           dropout=dropout,\n",
        "                           batch_first=True)\n",
        "        self.fc = nn.Linear(hidden_dim * num_layers, output_dim)\n",
        "        \n",
        "    def forward(self, x):\n",
        "        \n",
        "        #x = [batch size, channels, seq len, ]\n",
        "        out, (hn, cn) = self.lstm(x)\n",
        "        \n",
        "        #out = [batch size, seq len, hidden dim * num directions]        \n",
        "        #hn = [num layers * num directions, batch size, hidden dim]\n",
        "        #cn = [num layers * num directions, batch size, hidden dim]\n",
        "        \n",
        "        #concat the final forward (hidden[-2,:,:]) and backward (hidden[-1,:,:]) hidden layers\n",
        "        hn = torch.cat((hn[-2,:,:], hn[-1,:,:]), dim = 1)\n",
        "        #hn = [batch size, hidden dim * num directions]\n",
        "        \n",
        "        return self.fc(hn)"
      ],
      "metadata": {
        "id": "U0bk5XjGjoMk"
      },
      "execution_count": null,
      "outputs": []
    },
    {
      "cell_type": "code",
      "source": [
        "#explicitly initialize weights for better learning\n",
        "def initialize_weights(m):\n",
        "    if isinstance(m, nn.Linear):   #if layer is of Linear\n",
        "        nn.init.xavier_normal_(m.weight)\n",
        "        nn.init.zeros_(m.bias)\n",
        "    elif isinstance(m, nn.LSTM):   #if layer is of LSTM\n",
        "        for name, param in m.named_parameters():\n",
        "            if 'bias' in name:\n",
        "                nn.init.zeros_(param)\n",
        "            elif 'weight' in name:\n",
        "                nn.init.orthogonal_(param)  #orthogonal is a common way to initialize weights for RNN/LSTM/GRU"
      ],
      "metadata": {
        "id": "TIOLWwwXpMpw"
      },
      "execution_count": null,
      "outputs": []
    },
    {
      "cell_type": "code",
      "source": [
        "input_size     = 16 #channel \n",
        "hidden_size    = 256 \n",
        "num_layers    = 2  \n",
        "output_size    = 1  #we got 2 classes so we can output only 1 number, 0 for first class and 1 for another class\n",
        "bidirectional = True  #uses bidirectional LSTM\n",
        "dropout       = 0.5 \n",
        "\n",
        "#define the model\n",
        "model = LSTM(input_size, hidden_size, num_layers, output_size, bidirectional, dropout)\n",
        "\n",
        "#send to cuda so we can use the GPU\n",
        "model = model.to(device)  \n",
        "\n",
        "#apply weights\n",
        "model.apply(initialize_weights)\n"
      ],
      "metadata": {
        "colab": {
          "base_uri": "https://localhost:8080/"
        },
        "id": "khjrPaLwxtfq",
        "outputId": "a1479332-80cd-4d94-e97e-42ac2cee755c"
      },
      "execution_count": null,
      "outputs": [
        {
          "output_type": "execute_result",
          "data": {
            "text/plain": [
              "LSTM(\n",
              "  (lstm): LSTM(16, 256, num_layers=2, batch_first=True, dropout=0.5, bidirectional=True)\n",
              "  (fc): Linear(in_features=512, out_features=1, bias=True)\n",
              ")"
            ]
          },
          "metadata": {},
          "execution_count": 62
        }
      ]
    },
    {
      "cell_type": "code",
      "source": [
        "def count_parameters(model):\n",
        "    return sum(p.numel() for p in model.parameters() if p.requires_grad)\n",
        "\n",
        "print(f'The model {type(model).__name__} has {count_parameters(model):,} trainable parameters')# Train the model\n"
      ],
      "metadata": {
        "colab": {
          "base_uri": "https://localhost:8080/"
        },
        "id": "UaDuk4jtyDkT",
        "outputId": "f5d524fd-2811-4178-8f46-193941743df9"
      },
      "execution_count": null,
      "outputs": [
        {
          "output_type": "stream",
          "name": "stdout",
          "text": [
            "The model LSTM has 2,138,625 trainable parameters\n"
          ]
        }
      ]
    },
    {
      "cell_type": "code",
      "source": [
        "import torch.optim as optim\n",
        "\n",
        "num_epochs = 20\n",
        "\n",
        "lr = 0.0001\n",
        "\n",
        "#can also try SGD which should not make too much of a difference\n",
        "optimizer = optim.Adam(model.parameters(), lr=lr) \n",
        "\n",
        "#combine sigmoid with binary entropy; binary entropy is used for binary classification\n",
        "criterion = nn.BCEWithLogitsLoss() \n"
      ],
      "metadata": {
        "id": "vdx6Dms0yGL7"
      },
      "execution_count": null,
      "outputs": []
    },
    {
      "cell_type": "code",
      "source": [
        "#for measuring accuracy\n",
        "def binary_accuracy(preds, y):\n",
        "    \"\"\"\n",
        "    Returns accuracy per batch, i.e. if you get 8/10 right, this returns 0.8, NOT 8\n",
        "    \"\"\"\n",
        "    #round predictions to the closest integer\n",
        "    rounded_preds = torch.round(torch.sigmoid(preds))\n",
        "    print(rounded_preds, y)\n",
        "    correct = (rounded_preds == y).float() #convert into float for division \n",
        "    acc = correct.sum() / len(correct)\n",
        "    return acc\n"
      ],
      "metadata": {
        "id": "BV4d52uyyYlE"
      },
      "execution_count": null,
      "outputs": []
    },
    {
      "cell_type": "code",
      "source": [
        "torch.sigmoid(torch.tensor([[-1.1193],\n",
        "        [-1.7878]]) )"
      ],
      "metadata": {
        "colab": {
          "base_uri": "https://localhost:8080/"
        },
        "id": "HMJk3mnr2xOH",
        "outputId": "24d1f6a0-47e1-41b5-bbaa-875d346ca09b"
      },
      "execution_count": null,
      "outputs": [
        {
          "output_type": "execute_result",
          "data": {
            "text/plain": [
              "tensor([[0.2461],\n",
              "        [0.1433]])"
            ]
          },
          "metadata": {},
          "execution_count": 66
        }
      ]
    },
    {
      "cell_type": "code",
      "source": [
        "#for timing the epochs\n",
        "def epoch_time(start_time, end_time):\n",
        "    elapsed_time = end_time - start_time\n",
        "    elapsed_mins = int(elapsed_time / 60)\n",
        "    elapsed_secs = int(elapsed_time - (elapsed_mins * 60))\n",
        "    return elapsed_mins, elapsed_secs"
      ],
      "metadata": {
        "id": "lqDIAbvRylTR"
      },
      "execution_count": null,
      "outputs": []
    },
    {
      "cell_type": "code",
      "source": [
        "def train(model, train_loader,  optimizer, criterion):\n",
        "\n",
        "    model.train()\n",
        "    epoch_train_loss = 0\n",
        "    epoch_train_acc  = 0\n",
        "\n",
        "    for i, batch in enumerate(train_loader):\n",
        "    \n",
        "        # data shape: (batch, channel, seq len)\n",
        "        data  = batch[0].to(device).permute(0, 2, 1)    \n",
        "        # data shape: (batch, seq len, channel)\n",
        "\n",
        "        # label shape: (batch, 1)\n",
        "        label = batch[1].to(device).reshape(-1, 1)\n",
        "        \n",
        "        #predict\n",
        "        output = model(data).reshape(-1, 1)  #output shape: (batch, 1)\n",
        "        loss   = criterion(output, label)\n",
        "        \n",
        "        #backprop\n",
        "        optimizer.zero_grad()\n",
        "        loss.backward()\n",
        "        optimizer.step()\n",
        "        \n",
        "        #for visualizing\n",
        "        epoch_train_loss += loss.item()\n",
        "        acc = binary_accuracy(output, label)\n",
        "        epoch_train_acc += acc.item()\n",
        "        \n",
        "    epoch_train_loss = epoch_train_loss / len(train_loader)\n",
        "    epoch_train_acc  = epoch_train_acc  / len(train_loader)\n",
        "    \n",
        "    return epoch_train_loss, epoch_train_acc\n"
      ],
      "metadata": {
        "id": "USKSyPIIyhdj"
      },
      "execution_count": null,
      "outputs": []
    },
    {
      "cell_type": "code",
      "source": [
        "def evaluate(model, val_loader, criterion):\n",
        "\n",
        "    model.eval()\n",
        "    epoch_val_loss = 0\n",
        "    epoch_val_acc  = 0\n",
        "\n",
        "    with torch.no_grad():\n",
        "        for i, batch in enumerate(val_loader):\n",
        "            \n",
        "            # data shape: (batch, channel, seq len)\n",
        "            data  = batch[0].to(device).permute(0, 2, 1)   \n",
        "            label = batch[1].to(device).reshape(-1, 1)\n",
        "            \n",
        "            #predict\n",
        "            output = model(data).reshape(-1, 1)\n",
        "            loss   = criterion(output, label)\n",
        "            \n",
        "            #for visualizing\n",
        "            epoch_val_loss += loss.item()\n",
        "            acc = binary_accuracy(output, label)\n",
        "            epoch_val_acc += acc.item()\n",
        "    \n",
        "    epoch_val_loss =  epoch_val_loss / len(val_loader)\n",
        "    epoch_val_acc  =  epoch_val_acc  / len(val_loader)\n",
        "    \n",
        "    return epoch_val_loss, epoch_val_acc\n"
      ],
      "metadata": {
        "id": "DxaF5O8YymHK"
      },
      "execution_count": null,
      "outputs": []
    },
    {
      "cell_type": "code",
      "source": [
        "import time"
      ],
      "metadata": {
        "id": "EDCgEWqTyrci"
      },
      "execution_count": null,
      "outputs": []
    },
    {
      "cell_type": "code",
      "source": [
        "best_valid_loss = float('inf')\n",
        "\n",
        "train_losses = []\n",
        "train_accs   = []\n",
        "valid_losses = []\n",
        "valid_accs   = []\n",
        "\n",
        "for epoch in range(num_epochs):\n",
        "    \n",
        "    start_time = time.time()\n",
        "\n",
        "    train_loss, train_acc = train(model, train_loader, optimizer, criterion)\n",
        "    print('EVAL')\n",
        "    valid_loss, valid_acc = evaluate(model, val_loader, criterion)\n",
        "    \n",
        "    #for plotting\n",
        "    train_losses.append(train_loss)\n",
        "    train_accs  .append(train_acc)\n",
        "    valid_losses.append(valid_loss)\n",
        "    valid_accs  .append(valid_acc)\n",
        "    \n",
        "    if valid_loss < best_valid_loss:\n",
        "        best_valid_loss = valid_loss\n",
        "        torch.save(model.state_dict(), './models/StressLSTMv2.pt')\n",
        "        \n",
        "    end_time = time.time()\n",
        "    epoch_mins, epoch_secs = epoch_time(start_time, end_time)\n",
        "    \n",
        "    print(f'Epoch: {epoch+1:02} | Epoch Time: {epoch_mins}m {epoch_secs}s')\n",
        "    print(f'\\t Train Loss: {train_loss:.3f} | Train Acc: {train_acc*100:.2f}%')\n",
        "    print(f'\\t Val. Loss: {valid_loss:.3f}  |  Val. Acc: {valid_acc*100:.2f}%')\n"
      ],
      "metadata": {
        "colab": {
          "base_uri": "https://localhost:8080/"
        },
        "id": "lfX4uH96yoCI",
        "outputId": "bf56297d-76cd-4f7b-d4f7-25ae76446468"
      },
      "execution_count": null,
      "outputs": [
        {
          "output_type": "stream",
          "name": "stdout",
          "text": [
            "tensor([[1.],\n",
            "        [1.],\n",
            "        [1.]], device='cuda:0', grad_fn=<RoundBackward0>) tensor([[1.],\n",
            "        [1.],\n",
            "        [0.]], device='cuda:0')\n",
            "tensor([[1.],\n",
            "        [1.],\n",
            "        [1.]], device='cuda:0', grad_fn=<RoundBackward0>) tensor([[0.],\n",
            "        [0.],\n",
            "        [1.]], device='cuda:0')\n",
            "tensor([[1.],\n",
            "        [1.],\n",
            "        [1.]], device='cuda:0', grad_fn=<RoundBackward0>) tensor([[0.],\n",
            "        [1.],\n",
            "        [0.]], device='cuda:0')\n",
            "tensor([[0.],\n",
            "        [1.]], device='cuda:0', grad_fn=<RoundBackward0>) tensor([[0.],\n",
            "        [0.]], device='cuda:0')\n",
            "EVAL\n",
            "tensor([[1.],\n",
            "        [1.]], device='cuda:0') tensor([[1.],\n",
            "        [0.]], device='cuda:0')\n",
            "Epoch: 01 | Epoch Time: 0m 19s\n",
            "\t Train Loss: 0.694 | Train Acc: 45.83%\n",
            "\t Val. Loss: 0.679  |  Val. Acc: 50.00%\n",
            "tensor([[1.],\n",
            "        [0.],\n",
            "        [1.]], device='cuda:0', grad_fn=<RoundBackward0>) tensor([[0.],\n",
            "        [0.],\n",
            "        [1.]], device='cuda:0')\n",
            "tensor([[1.],\n",
            "        [1.],\n",
            "        [1.]], device='cuda:0', grad_fn=<RoundBackward0>) tensor([[0.],\n",
            "        [1.],\n",
            "        [0.]], device='cuda:0')\n",
            "tensor([[0.],\n",
            "        [0.],\n",
            "        [1.]], device='cuda:0', grad_fn=<RoundBackward0>) tensor([[1.],\n",
            "        [0.],\n",
            "        [1.]], device='cuda:0')\n",
            "tensor([[0.],\n",
            "        [0.]], device='cuda:0', grad_fn=<RoundBackward0>) tensor([[0.],\n",
            "        [0.]], device='cuda:0')\n",
            "EVAL\n",
            "tensor([[1.],\n",
            "        [0.]], device='cuda:0') tensor([[1.],\n",
            "        [0.]], device='cuda:0')\n",
            "Epoch: 02 | Epoch Time: 0m 18s\n",
            "\t Train Loss: 0.686 | Train Acc: 66.67%\n",
            "\t Val. Loss: 0.676  |  Val. Acc: 100.00%\n",
            "tensor([[0.],\n",
            "        [0.],\n",
            "        [1.]], device='cuda:0', grad_fn=<RoundBackward0>) tensor([[0.],\n",
            "        [0.],\n",
            "        [1.]], device='cuda:0')\n",
            "tensor([[0.],\n",
            "        [0.],\n",
            "        [1.]], device='cuda:0', grad_fn=<RoundBackward0>) tensor([[0.],\n",
            "        [1.],\n",
            "        [1.]], device='cuda:0')\n",
            "tensor([[0.],\n",
            "        [0.],\n",
            "        [0.]], device='cuda:0', grad_fn=<RoundBackward0>) tensor([[0.],\n",
            "        [0.],\n",
            "        [0.]], device='cuda:0')\n",
            "tensor([[0.],\n",
            "        [0.]], device='cuda:0', grad_fn=<RoundBackward0>) tensor([[0.],\n",
            "        [1.]], device='cuda:0')\n",
            "EVAL\n",
            "tensor([[0.],\n",
            "        [1.]], device='cuda:0') tensor([[0.],\n",
            "        [1.]], device='cuda:0')\n",
            "Epoch: 03 | Epoch Time: 0m 18s\n",
            "\t Train Loss: 0.682 | Train Acc: 79.17%\n",
            "\t Val. Loss: 0.670  |  Val. Acc: 100.00%\n",
            "tensor([[0.],\n",
            "        [0.],\n",
            "        [0.]], device='cuda:0', grad_fn=<RoundBackward0>) tensor([[1.],\n",
            "        [0.],\n",
            "        [1.]], device='cuda:0')\n",
            "tensor([[0.],\n",
            "        [0.],\n",
            "        [0.]], device='cuda:0', grad_fn=<RoundBackward0>) tensor([[0.],\n",
            "        [0.],\n",
            "        [0.]], device='cuda:0')\n",
            "tensor([[1.],\n",
            "        [0.],\n",
            "        [0.]], device='cuda:0', grad_fn=<RoundBackward0>) tensor([[1.],\n",
            "        [0.],\n",
            "        [1.]], device='cuda:0')\n",
            "tensor([[0.],\n",
            "        [0.]], device='cuda:0', grad_fn=<RoundBackward0>) tensor([[0.],\n",
            "        [0.]], device='cuda:0')\n",
            "EVAL\n",
            "tensor([[0.],\n",
            "        [0.]], device='cuda:0') tensor([[0.],\n",
            "        [1.]], device='cuda:0')\n",
            "Epoch: 04 | Epoch Time: 0m 18s\n",
            "\t Train Loss: 0.669 | Train Acc: 75.00%\n",
            "\t Val. Loss: 0.666  |  Val. Acc: 50.00%\n",
            "tensor([[0.],\n",
            "        [0.],\n",
            "        [0.]], device='cuda:0', grad_fn=<RoundBackward0>) tensor([[0.],\n",
            "        [0.],\n",
            "        [0.]], device='cuda:0')\n",
            "tensor([[0.],\n",
            "        [0.],\n",
            "        [0.]], device='cuda:0', grad_fn=<RoundBackward0>) tensor([[1.],\n",
            "        [1.],\n",
            "        [1.]], device='cuda:0')\n",
            "tensor([[0.],\n",
            "        [0.],\n",
            "        [0.]], device='cuda:0', grad_fn=<RoundBackward0>) tensor([[0.],\n",
            "        [0.],\n",
            "        [0.]], device='cuda:0')\n",
            "tensor([[0.],\n",
            "        [0.]], device='cuda:0', grad_fn=<RoundBackward0>) tensor([[1.],\n",
            "        [0.]], device='cuda:0')\n",
            "EVAL\n",
            "tensor([[0.],\n",
            "        [0.]], device='cuda:0') tensor([[0.],\n",
            "        [1.]], device='cuda:0')\n",
            "Epoch: 05 | Epoch Time: 0m 18s\n",
            "\t Train Loss: 0.669 | Train Acc: 62.50%\n",
            "\t Val. Loss: 0.661  |  Val. Acc: 50.00%\n",
            "tensor([[0.],\n",
            "        [0.],\n",
            "        [0.]], device='cuda:0', grad_fn=<RoundBackward0>) tensor([[0.],\n",
            "        [0.],\n",
            "        [1.]], device='cuda:0')\n",
            "tensor([[1.],\n",
            "        [0.],\n",
            "        [0.]], device='cuda:0', grad_fn=<RoundBackward0>) tensor([[1.],\n",
            "        [0.],\n",
            "        [0.]], device='cuda:0')\n",
            "tensor([[0.],\n",
            "        [0.],\n",
            "        [0.]], device='cuda:0', grad_fn=<RoundBackward0>) tensor([[1.],\n",
            "        [1.],\n",
            "        [0.]], device='cuda:0')\n",
            "tensor([[0.],\n",
            "        [0.]], device='cuda:0', grad_fn=<RoundBackward0>) tensor([[0.],\n",
            "        [0.]], device='cuda:0')\n",
            "EVAL\n",
            "tensor([[0.],\n",
            "        [0.]], device='cuda:0') tensor([[1.],\n",
            "        [0.]], device='cuda:0')\n",
            "Epoch: 06 | Epoch Time: 0m 18s\n",
            "\t Train Loss: 0.651 | Train Acc: 75.00%\n",
            "\t Val. Loss: 0.656  |  Val. Acc: 50.00%\n",
            "tensor([[0.],\n",
            "        [0.],\n",
            "        [0.]], device='cuda:0', grad_fn=<RoundBackward0>) tensor([[1.],\n",
            "        [0.],\n",
            "        [0.]], device='cuda:0')\n",
            "tensor([[0.],\n",
            "        [0.],\n",
            "        [1.]], device='cuda:0', grad_fn=<RoundBackward0>) tensor([[0.],\n",
            "        [1.],\n",
            "        [1.]], device='cuda:0')\n",
            "tensor([[0.],\n",
            "        [0.],\n",
            "        [0.]], device='cuda:0', grad_fn=<RoundBackward0>) tensor([[0.],\n",
            "        [0.],\n",
            "        [0.]], device='cuda:0')\n",
            "tensor([[0.],\n",
            "        [0.]], device='cuda:0', grad_fn=<RoundBackward0>) tensor([[0.],\n",
            "        [1.]], device='cuda:0')\n",
            "EVAL\n",
            "tensor([[0.],\n",
            "        [0.]], device='cuda:0') tensor([[1.],\n",
            "        [0.]], device='cuda:0')\n",
            "Epoch: 07 | Epoch Time: 0m 18s\n",
            "\t Train Loss: 0.646 | Train Acc: 70.83%\n",
            "\t Val. Loss: 0.649  |  Val. Acc: 50.00%\n",
            "tensor([[0.],\n",
            "        [0.],\n",
            "        [0.]], device='cuda:0', grad_fn=<RoundBackward0>) tensor([[0.],\n",
            "        [0.],\n",
            "        [0.]], device='cuda:0')\n",
            "tensor([[0.],\n",
            "        [0.],\n",
            "        [1.]], device='cuda:0', grad_fn=<RoundBackward0>) tensor([[0.],\n",
            "        [1.],\n",
            "        [1.]], device='cuda:0')\n",
            "tensor([[0.],\n",
            "        [0.],\n",
            "        [0.]], device='cuda:0', grad_fn=<RoundBackward0>) tensor([[0.],\n",
            "        [1.],\n",
            "        [1.]], device='cuda:0')\n",
            "tensor([[0.],\n",
            "        [0.]], device='cuda:0', grad_fn=<RoundBackward0>) tensor([[0.],\n",
            "        [0.]], device='cuda:0')\n",
            "EVAL\n",
            "tensor([[0.],\n",
            "        [0.]], device='cuda:0') tensor([[0.],\n",
            "        [1.]], device='cuda:0')\n",
            "Epoch: 08 | Epoch Time: 0m 18s\n",
            "\t Train Loss: 0.630 | Train Acc: 75.00%\n",
            "\t Val. Loss: 0.642  |  Val. Acc: 50.00%\n",
            "tensor([[0.],\n",
            "        [0.],\n",
            "        [0.]], device='cuda:0', grad_fn=<RoundBackward0>) tensor([[0.],\n",
            "        [0.],\n",
            "        [0.]], device='cuda:0')\n",
            "tensor([[0.],\n",
            "        [0.],\n",
            "        [0.]], device='cuda:0', grad_fn=<RoundBackward0>) tensor([[0.],\n",
            "        [1.],\n",
            "        [1.]], device='cuda:0')\n",
            "tensor([[0.],\n",
            "        [0.],\n",
            "        [1.]], device='cuda:0', grad_fn=<RoundBackward0>) tensor([[0.],\n",
            "        [1.],\n",
            "        [1.]], device='cuda:0')\n",
            "tensor([[0.],\n",
            "        [0.]], device='cuda:0', grad_fn=<RoundBackward0>) tensor([[0.],\n",
            "        [0.]], device='cuda:0')\n",
            "EVAL\n",
            "tensor([[0.],\n",
            "        [0.]], device='cuda:0') tensor([[0.],\n",
            "        [1.]], device='cuda:0')\n",
            "Epoch: 09 | Epoch Time: 0m 18s\n",
            "\t Train Loss: 0.619 | Train Acc: 75.00%\n",
            "\t Val. Loss: 0.631  |  Val. Acc: 50.00%\n",
            "tensor([[1.],\n",
            "        [0.],\n",
            "        [0.]], device='cuda:0', grad_fn=<RoundBackward0>) tensor([[1.],\n",
            "        [1.],\n",
            "        [0.]], device='cuda:0')\n",
            "tensor([[0.],\n",
            "        [0.],\n",
            "        [0.]], device='cuda:0', grad_fn=<RoundBackward0>) tensor([[0.],\n",
            "        [0.],\n",
            "        [1.]], device='cuda:0')\n",
            "tensor([[0.],\n",
            "        [0.],\n",
            "        [0.]], device='cuda:0', grad_fn=<RoundBackward0>) tensor([[0.],\n",
            "        [0.],\n",
            "        [0.]], device='cuda:0')\n",
            "tensor([[0.],\n",
            "        [0.]], device='cuda:0', grad_fn=<RoundBackward0>) tensor([[1.],\n",
            "        [0.]], device='cuda:0')\n",
            "EVAL\n",
            "tensor([[0.],\n",
            "        [0.]], device='cuda:0') tensor([[1.],\n",
            "        [0.]], device='cuda:0')\n",
            "Epoch: 10 | Epoch Time: 0m 18s\n",
            "\t Train Loss: 0.615 | Train Acc: 70.83%\n",
            "\t Val. Loss: 0.619  |  Val. Acc: 50.00%\n",
            "tensor([[0.],\n",
            "        [0.],\n",
            "        [0.]], device='cuda:0', grad_fn=<RoundBackward0>) tensor([[0.],\n",
            "        [0.],\n",
            "        [0.]], device='cuda:0')\n",
            "tensor([[0.],\n",
            "        [0.],\n",
            "        [0.]], device='cuda:0', grad_fn=<RoundBackward0>) tensor([[0.],\n",
            "        [0.],\n",
            "        [1.]], device='cuda:0')\n",
            "tensor([[1.],\n",
            "        [0.],\n",
            "        [0.]], device='cuda:0', grad_fn=<RoundBackward0>) tensor([[1.],\n",
            "        [1.],\n",
            "        [1.]], device='cuda:0')\n",
            "tensor([[0.],\n",
            "        [0.]], device='cuda:0', grad_fn=<RoundBackward0>) tensor([[0.],\n",
            "        [0.]], device='cuda:0')\n",
            "EVAL\n",
            "tensor([[0.],\n",
            "        [0.]], device='cuda:0') tensor([[1.],\n",
            "        [0.]], device='cuda:0')\n",
            "Epoch: 11 | Epoch Time: 0m 18s\n",
            "\t Train Loss: 0.589 | Train Acc: 75.00%\n",
            "\t Val. Loss: 0.603  |  Val. Acc: 50.00%\n",
            "tensor([[0.],\n",
            "        [0.],\n",
            "        [0.]], device='cuda:0', grad_fn=<RoundBackward0>) tensor([[0.],\n",
            "        [0.],\n",
            "        [0.]], device='cuda:0')\n",
            "tensor([[0.],\n",
            "        [0.],\n",
            "        [1.]], device='cuda:0', grad_fn=<RoundBackward0>) tensor([[1.],\n",
            "        [0.],\n",
            "        [1.]], device='cuda:0')\n",
            "tensor([[0.],\n",
            "        [0.],\n",
            "        [0.]], device='cuda:0', grad_fn=<RoundBackward0>) tensor([[0.],\n",
            "        [0.],\n",
            "        [1.]], device='cuda:0')\n",
            "tensor([[0.],\n",
            "        [0.]], device='cuda:0', grad_fn=<RoundBackward0>) tensor([[1.],\n",
            "        [0.]], device='cuda:0')\n",
            "EVAL\n",
            "tensor([[0.],\n",
            "        [0.]], device='cuda:0') tensor([[0.],\n",
            "        [1.]], device='cuda:0')\n",
            "Epoch: 12 | Epoch Time: 0m 18s\n",
            "\t Train Loss: 0.580 | Train Acc: 70.83%\n",
            "\t Val. Loss: 0.581  |  Val. Acc: 50.00%\n",
            "tensor([[1.],\n",
            "        [0.],\n",
            "        [0.]], device='cuda:0', grad_fn=<RoundBackward0>) tensor([[1.],\n",
            "        [0.],\n",
            "        [0.]], device='cuda:0')\n",
            "tensor([[0.],\n",
            "        [0.],\n",
            "        [0.]], device='cuda:0', grad_fn=<RoundBackward0>) tensor([[0.],\n",
            "        [1.],\n",
            "        [0.]], device='cuda:0')\n",
            "tensor([[0.],\n",
            "        [0.],\n",
            "        [0.]], device='cuda:0', grad_fn=<RoundBackward0>) tensor([[0.],\n",
            "        [0.],\n",
            "        [1.]], device='cuda:0')\n",
            "tensor([[0.],\n",
            "        [0.]], device='cuda:0', grad_fn=<RoundBackward0>) tensor([[0.],\n",
            "        [1.]], device='cuda:0')\n",
            "EVAL\n",
            "tensor([[0.],\n",
            "        [0.]], device='cuda:0') tensor([[1.],\n",
            "        [0.]], device='cuda:0')\n",
            "Epoch: 13 | Epoch Time: 0m 18s\n",
            "\t Train Loss: 0.564 | Train Acc: 70.83%\n",
            "\t Val. Loss: 0.551  |  Val. Acc: 50.00%\n",
            "tensor([[0.],\n",
            "        [0.],\n",
            "        [0.]], device='cuda:0', grad_fn=<RoundBackward0>) tensor([[0.],\n",
            "        [0.],\n",
            "        [0.]], device='cuda:0')\n",
            "tensor([[0.],\n",
            "        [1.],\n",
            "        [0.]], device='cuda:0', grad_fn=<RoundBackward0>) tensor([[1.],\n",
            "        [1.],\n",
            "        [0.]], device='cuda:0')\n",
            "tensor([[0.],\n",
            "        [0.],\n",
            "        [0.]], device='cuda:0', grad_fn=<RoundBackward0>) tensor([[0.],\n",
            "        [0.],\n",
            "        [0.]], device='cuda:0')\n",
            "tensor([[0.],\n",
            "        [0.]], device='cuda:0', grad_fn=<RoundBackward0>) tensor([[1.],\n",
            "        [1.]], device='cuda:0')\n",
            "EVAL\n",
            "tensor([[0.],\n",
            "        [0.]], device='cuda:0') tensor([[1.],\n",
            "        [0.]], device='cuda:0')\n",
            "Epoch: 14 | Epoch Time: 0m 18s\n",
            "\t Train Loss: 0.559 | Train Acc: 66.67%\n",
            "\t Val. Loss: 0.510  |  Val. Acc: 50.00%\n",
            "tensor([[0.],\n",
            "        [0.],\n",
            "        [1.]], device='cuda:0', grad_fn=<RoundBackward0>) tensor([[0.],\n",
            "        [0.],\n",
            "        [1.]], device='cuda:0')\n",
            "tensor([[0.],\n",
            "        [0.],\n",
            "        [0.]], device='cuda:0', grad_fn=<RoundBackward0>) tensor([[1.],\n",
            "        [0.],\n",
            "        [1.]], device='cuda:0')\n",
            "tensor([[0.],\n",
            "        [0.],\n",
            "        [0.]], device='cuda:0', grad_fn=<RoundBackward0>) tensor([[0.],\n",
            "        [0.],\n",
            "        [1.]], device='cuda:0')\n",
            "tensor([[0.],\n",
            "        [0.]], device='cuda:0', grad_fn=<RoundBackward0>) tensor([[0.],\n",
            "        [0.]], device='cuda:0')\n",
            "EVAL\n",
            "tensor([[1.],\n",
            "        [0.]], device='cuda:0') tensor([[1.],\n",
            "        [0.]], device='cuda:0')\n",
            "Epoch: 15 | Epoch Time: 0m 18s\n",
            "\t Train Loss: 0.488 | Train Acc: 75.00%\n",
            "\t Val. Loss: 0.447  |  Val. Acc: 100.00%\n",
            "tensor([[0.],\n",
            "        [0.],\n",
            "        [0.]], device='cuda:0', grad_fn=<RoundBackward0>) tensor([[0.],\n",
            "        [1.],\n",
            "        [0.]], device='cuda:0')\n",
            "tensor([[0.],\n",
            "        [0.],\n",
            "        [0.]], device='cuda:0', grad_fn=<RoundBackward0>) tensor([[1.],\n",
            "        [0.],\n",
            "        [0.]], device='cuda:0')\n",
            "tensor([[0.],\n",
            "        [1.],\n",
            "        [1.]], device='cuda:0', grad_fn=<RoundBackward0>) tensor([[0.],\n",
            "        [1.],\n",
            "        [1.]], device='cuda:0')\n",
            "tensor([[0.],\n",
            "        [0.]], device='cuda:0', grad_fn=<RoundBackward0>) tensor([[0.],\n",
            "        [0.]], device='cuda:0')\n",
            "EVAL\n",
            "tensor([[1.],\n",
            "        [0.]], device='cuda:0') tensor([[1.],\n",
            "        [0.]], device='cuda:0')\n",
            "Epoch: 16 | Epoch Time: 0m 18s\n",
            "\t Train Loss: 0.438 | Train Acc: 83.33%\n",
            "\t Val. Loss: 0.378  |  Val. Acc: 100.00%\n",
            "tensor([[0.],\n",
            "        [1.],\n",
            "        [0.]], device='cuda:0', grad_fn=<RoundBackward0>) tensor([[1.],\n",
            "        [1.],\n",
            "        [0.]], device='cuda:0')\n",
            "tensor([[0.],\n",
            "        [0.],\n",
            "        [0.]], device='cuda:0', grad_fn=<RoundBackward0>) tensor([[0.],\n",
            "        [0.],\n",
            "        [0.]], device='cuda:0')\n",
            "tensor([[1.],\n",
            "        [0.],\n",
            "        [0.]], device='cuda:0', grad_fn=<RoundBackward0>) tensor([[1.],\n",
            "        [1.],\n",
            "        [0.]], device='cuda:0')\n",
            "tensor([[0.],\n",
            "        [0.]], device='cuda:0', grad_fn=<RoundBackward0>) tensor([[0.],\n",
            "        [0.]], device='cuda:0')\n",
            "EVAL\n",
            "tensor([[1.],\n",
            "        [0.]], device='cuda:0') tensor([[1.],\n",
            "        [0.]], device='cuda:0')\n",
            "Epoch: 17 | Epoch Time: 0m 18s\n",
            "\t Train Loss: 0.379 | Train Acc: 83.33%\n",
            "\t Val. Loss: 0.288  |  Val. Acc: 100.00%\n",
            "tensor([[0.],\n",
            "        [1.],\n",
            "        [1.]], device='cuda:0', grad_fn=<RoundBackward0>) tensor([[0.],\n",
            "        [1.],\n",
            "        [1.]], device='cuda:0')\n",
            "tensor([[0.],\n",
            "        [0.],\n",
            "        [0.]], device='cuda:0', grad_fn=<RoundBackward0>) tensor([[0.],\n",
            "        [0.],\n",
            "        [1.]], device='cuda:0')\n",
            "tensor([[0.],\n",
            "        [0.],\n",
            "        [0.]], device='cuda:0', grad_fn=<RoundBackward0>) tensor([[1.],\n",
            "        [0.],\n",
            "        [0.]], device='cuda:0')\n",
            "tensor([[0.],\n",
            "        [0.]], device='cuda:0', grad_fn=<RoundBackward0>) tensor([[0.],\n",
            "        [0.]], device='cuda:0')\n",
            "EVAL\n",
            "tensor([[1.],\n",
            "        [0.]], device='cuda:0') tensor([[1.],\n",
            "        [0.]], device='cuda:0')\n",
            "Epoch: 18 | Epoch Time: 0m 18s\n",
            "\t Train Loss: 0.342 | Train Acc: 83.33%\n",
            "\t Val. Loss: 0.199  |  Val. Acc: 100.00%\n",
            "tensor([[1.],\n",
            "        [1.],\n",
            "        [0.]], device='cuda:0', grad_fn=<RoundBackward0>) tensor([[1.],\n",
            "        [1.],\n",
            "        [0.]], device='cuda:0')\n",
            "tensor([[0.],\n",
            "        [0.],\n",
            "        [0.]], device='cuda:0', grad_fn=<RoundBackward0>) tensor([[0.],\n",
            "        [0.],\n",
            "        [0.]], device='cuda:0')\n",
            "tensor([[0.],\n",
            "        [0.],\n",
            "        [0.]], device='cuda:0', grad_fn=<RoundBackward0>) tensor([[0.],\n",
            "        [1.],\n",
            "        [1.]], device='cuda:0')\n",
            "tensor([[0.],\n",
            "        [0.]], device='cuda:0', grad_fn=<RoundBackward0>) tensor([[0.],\n",
            "        [0.]], device='cuda:0')\n",
            "EVAL\n",
            "tensor([[1.],\n",
            "        [0.]], device='cuda:0') tensor([[1.],\n",
            "        [0.]], device='cuda:0')\n",
            "Epoch: 19 | Epoch Time: 0m 18s\n",
            "\t Train Loss: 0.320 | Train Acc: 83.33%\n",
            "\t Val. Loss: 0.154  |  Val. Acc: 100.00%\n",
            "tensor([[1.],\n",
            "        [0.],\n",
            "        [0.]], device='cuda:0', grad_fn=<RoundBackward0>) tensor([[1.],\n",
            "        [1.],\n",
            "        [0.]], device='cuda:0')\n",
            "tensor([[0.],\n",
            "        [0.],\n",
            "        [0.]], device='cuda:0', grad_fn=<RoundBackward0>) tensor([[1.],\n",
            "        [0.],\n",
            "        [0.]], device='cuda:0')\n",
            "tensor([[0.],\n",
            "        [0.],\n",
            "        [1.]], device='cuda:0', grad_fn=<RoundBackward0>) tensor([[0.],\n",
            "        [0.],\n",
            "        [1.]], device='cuda:0')\n",
            "tensor([[0.],\n",
            "        [0.]], device='cuda:0', grad_fn=<RoundBackward0>) tensor([[0.],\n",
            "        [0.]], device='cuda:0')\n",
            "EVAL\n",
            "tensor([[0.],\n",
            "        [1.]], device='cuda:0') tensor([[0.],\n",
            "        [1.]], device='cuda:0')\n",
            "Epoch: 20 | Epoch Time: 0m 18s\n",
            "\t Train Loss: 0.269 | Train Acc: 83.33%\n",
            "\t Val. Loss: 0.132  |  Val. Acc: 100.00%\n"
          ]
        }
      ]
    },
    {
      "cell_type": "code",
      "source": [
        "train_accs"
      ],
      "metadata": {
        "colab": {
          "base_uri": "https://localhost:8080/"
        },
        "id": "gOaNhT9B1zxT",
        "outputId": "c8a835ae-4369-495b-c6ff-e711c6a157b1"
      },
      "execution_count": null,
      "outputs": [
        {
          "output_type": "execute_result",
          "data": {
            "text/plain": [
              "[0.7083333358168602,\n",
              " 0.6666666716337204,\n",
              " 0.6666666716337204,\n",
              " 0.7500000074505806,\n",
              " 0.6666666716337204,\n",
              " 0.7500000074505806,\n",
              " 0.7500000074505806,\n",
              " 0.7500000074505806,\n",
              " 0.7500000074505806,\n",
              " 0.7916666716337204,\n",
              " 0.8333333358168602,\n",
              " 0.8333333432674408,\n",
              " 0.9166666716337204,\n",
              " 0.9166666716337204,\n",
              " 0.9166666716337204,\n",
              " 0.9166666716337204,\n",
              " 0.9166666716337204,\n",
              " 0.875,\n",
              " 0.9166666716337204,\n",
              " 0.9166666716337204]"
            ]
          },
          "metadata": {},
          "execution_count": 58
        }
      ]
    },
    {
      "cell_type": "code",
      "source": [
        "import matplotlib.pyplot as plt\n",
        "fig = plt.figure(figsize=(10, 6))\n",
        "ax  = fig.add_subplot(1, 1, 1)\n",
        "ax.plot(train_losses, label = 'train loss')\n",
        "ax.plot(valid_losses, label = 'valid loss')\n",
        "plt.legend()\n",
        "ax.set_xlabel('updates')\n",
        "ax.set_ylabel('loss')"
      ],
      "metadata": {
        "colab": {
          "base_uri": "https://localhost:8080/",
          "height": 405
        },
        "id": "WfoWbyWnyp_K",
        "outputId": "3042ce87-cd52-4ded-a3be-15af206123f9"
      },
      "execution_count": null,
      "outputs": [
        {
          "output_type": "execute_result",
          "data": {
            "text/plain": [
              "Text(0, 0.5, 'loss')"
            ]
          },
          "metadata": {},
          "execution_count": 72
        },
        {
          "output_type": "display_data",
          "data": {
            "text/plain": [
              "<Figure size 720x432 with 1 Axes>"
            ],
            "image/png": "[encoded data removed]"
          },
          "metadata": {
            "needs_background": "light"
          }
        }
      ]
    },
    {
      "cell_type": "code",
      "source": [
        "fig = plt.figure(figsize=(10, 6))\n",
        "ax  = fig.add_subplot(1, 1, 1)\n",
        "ax.plot(train_accs, label = 'train acc')\n",
        "ax.plot(valid_accs, label = 'valid acc')\n",
        "plt.legend()\n",
        "ax.set_xlabel('updates')\n",
        "ax.set_ylabel('acc')"
      ],
      "metadata": {
        "id": "mAgd8-Pt35gu",
        "colab": {
          "base_uri": "https://localhost:8080/",
          "height": 405
        },
        "outputId": "36d2135c-2371-4808-ac74-bf4ae204c697"
      },
      "execution_count": null,
      "outputs": [
        {
          "output_type": "execute_result",
          "data": {
            "text/plain": [
              "Text(0, 0.5, 'acc')"
            ]
          },
          "metadata": {},
          "execution_count": 73
        },
        {
          "output_type": "display_data",
          "data": {
            "text/plain": [
              "<Figure size 720x432 with 1 Axes>"
            ],
            "image/png": "[encoded data removed]"
          },
          "metadata": {
            "needs_background": "light"
          }
        }
      ]
    },
    {
      "cell_type": "code",
      "source": [
        "model.load_state_dict(torch.load('../models/DEAP_BiLSTM.pt'))\n",
        "test_loss, test_acc = evaluate(model, test_loader, criterion)\n",
        "\n",
        "print(f'Test Loss: {test_loss:.3f} | Test Acc: {test_acc*100:.2f}%')"
      ],
      "metadata": {
        "id": "_HV3hl2W70jz"
      },
      "execution_count": null,
      "outputs": []
    }
  ]
}