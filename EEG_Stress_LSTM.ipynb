{
  "nbformat": 4,
  "nbformat_minor": 0,
  "metadata": {
    "colab": {
      "provenance": [],
      "authorship_tag": "ABX9TyNoC/gAbN0kLHzIGWzrdWOb",
      "include_colab_link": true
    },
    "kernelspec": {
      "name": "python3",
      "display_name": "Python 3"
    },
    "language_info": {
      "name": "python"
    },
    "accelerator": "GPU",
    "gpuClass": "standard"
  },
  "cells": [
    {
      "cell_type": "markdown",
      "metadata": {
        "id": "view-in-github",
        "colab_type": "text"
      },
      "source": [
        "<a href=\"https://colab.research.google.com/github/guntsvzz/CP_Project/blob/main/EEG_Stress_LSTM.ipynb\" target=\"_parent\"><img src=\"https://colab.research.google.com/assets/colab-badge.svg\" alt=\"Open In Colab\"/></a>"
      ]
    },
    {
      "cell_type": "code",
      "source": [
        "!pip install --upgrade --no-cache-dir gdown"
      ],
      "metadata": {
        "colab": {
          "base_uri": "https://localhost:8080/"
        },
        "id": "fwrERBtOU9hH",
        "outputId": "2961373f-415c-41f2-9039-ff21485c3e70"
      },
      "execution_count": null,
      "outputs": [
        {
          "output_type": "stream",
          "name": "stdout",
          "text": [
            "Looking in indexes: https://pypi.org/simple, https://us-python.pkg.dev/colab-wheels/public/simple/\n",
            "Requirement already satisfied: gdown in /usr/local/lib/python3.7/dist-packages (4.4.0)\n",
            "Collecting gdown\n",
            "  Downloading gdown-4.5.4-py3-none-any.whl (14 kB)\n",
            "Requirement already satisfied: tqdm in /usr/local/lib/python3.7/dist-packages (from gdown) (4.64.1)\n",
            "Requirement already satisfied: filelock in /usr/local/lib/python3.7/dist-packages (from gdown) (3.8.0)\n",
            "Requirement already satisfied: beautifulsoup4 in /usr/local/lib/python3.7/dist-packages (from gdown) (4.6.3)\n",
            "Requirement already satisfied: six in /usr/local/lib/python3.7/dist-packages (from gdown) (1.15.0)\n",
            "Requirement already satisfied: requests[socks] in /usr/local/lib/python3.7/dist-packages (from gdown) (2.23.0)\n",
            "Requirement already satisfied: idna<3,>=2.5 in /usr/local/lib/python3.7/dist-packages (from requests[socks]->gdown) (2.10)\n",
            "Requirement already satisfied: certifi>=2017.4.17 in /usr/local/lib/python3.7/dist-packages (from requests[socks]->gdown) (2022.9.24)\n",
            "Requirement already satisfied: urllib3!=1.25.0,!=1.25.1,<1.26,>=1.21.1 in /usr/local/lib/python3.7/dist-packages (from requests[socks]->gdown) (1.24.3)\n",
            "Requirement already satisfied: chardet<4,>=3.0.2 in /usr/local/lib/python3.7/dist-packages (from requests[socks]->gdown) (3.0.4)\n",
            "Requirement already satisfied: PySocks!=1.5.7,>=1.5.6 in /usr/local/lib/python3.7/dist-packages (from requests[socks]->gdown) (1.7.1)\n",
            "Installing collected packages: gdown\n",
            "  Attempting uninstall: gdown\n",
            "    Found existing installation: gdown 4.4.0\n",
            "    Uninstalling gdown-4.4.0:\n",
            "      Successfully uninstalled gdown-4.4.0\n",
            "Successfully installed gdown-4.5.4\n"
          ]
        }
      ]
    },
    {
      "cell_type": "code",
      "source": [
        "!gdown --id 1KZjrJfUrB_k1g8VUsohNpek_hvWNqGcr"
      ],
      "metadata": {
        "colab": {
          "base_uri": "https://localhost:8080/"
        },
        "id": "vup-n60iVEOK",
        "outputId": "f41b3b04-a7cb-48ac-871f-2c0f1f672fa6"
      },
      "execution_count": null,
      "outputs": [
        {
          "output_type": "stream",
          "name": "stdout",
          "text": [
            "/usr/local/lib/python3.7/dist-packages/gdown/cli.py:125: FutureWarning: Option `--id` was deprecated in version 4.3.1 and will be removed in 5.0. You don't need to pass it anymore to use a file ID.\n",
            "  category=FutureWarning,\n",
            "Downloading...\n",
            "From: https://drive.google.com/uc?id=1KZjrJfUrB_k1g8VUsohNpek_hvWNqGcr\n",
            "To: /content/Clean_signal.zip\n",
            "100% 113M/113M [00:02<00:00, 43.7MB/s]\n"
          ]
        }
      ]
    },
    {
      "cell_type": "code",
      "source": [
        "!unzip '/content/Clean_signal.zip'\n",
        "#!mv '/content/clean_exp16' 'Cleaned_signal'"
      ],
      "metadata": {
        "colab": {
          "base_uri": "https://localhost:8080/"
        },
        "id": "6pIlRs5wVA7D",
        "outputId": "c36cf692-1ceb-4fbb-da65-5389ea55a9bd"
      },
      "execution_count": null,
      "outputs": [
        {
          "output_type": "stream",
          "name": "stdout",
          "text": [
            "Archive:  /content/Clean_signal.zip\n",
            "   creating: Clean_signal/\n",
            "  inflating: __MACOSX/._Clean_signal  \n",
            "  inflating: Clean_signal/PSS10 - Sheet1.csv  \n",
            "  inflating: __MACOSX/Clean_signal/._PSS10 - Sheet1.csv  \n",
            "  inflating: Clean_signal/clean_exp08.csv  \n",
            "  inflating: __MACOSX/Clean_signal/._clean_exp08.csv  \n",
            "  inflating: Clean_signal/clean_exp09.csv  \n",
            "  inflating: __MACOSX/Clean_signal/._clean_exp09.csv  \n",
            "  inflating: Clean_signal/clean_exp01.csv  \n",
            "  inflating: __MACOSX/Clean_signal/._clean_exp01.csv  \n",
            "  inflating: Clean_signal/clean_exp15.csv  \n",
            "  inflating: __MACOSX/Clean_signal/._clean_exp15.csv  \n",
            "  inflating: Clean_signal/clean_exp14.csv  \n",
            "  inflating: __MACOSX/Clean_signal/._clean_exp14.csv  \n",
            "  inflating: Clean_signal/clean_exp16.csv  \n",
            "  inflating: __MACOSX/Clean_signal/._clean_exp16.csv  \n",
            "  inflating: Clean_signal/clean_exp02.csv  \n",
            "  inflating: __MACOSX/Clean_signal/._clean_exp02.csv  \n",
            "  inflating: Clean_signal/clean_exp03.csv  \n",
            "  inflating: __MACOSX/Clean_signal/._clean_exp03.csv  \n",
            "  inflating: Clean_signal/clean_exp17.csv  \n",
            "  inflating: __MACOSX/Clean_signal/._clean_exp17.csv  \n",
            "  inflating: Clean_signal/clean_exp13.csv  \n",
            "  inflating: __MACOSX/Clean_signal/._clean_exp13.csv  \n",
            "  inflating: Clean_signal/clean_exp07.csv  \n",
            "  inflating: __MACOSX/Clean_signal/._clean_exp07.csv  \n",
            "  inflating: Clean_signal/clean_exp06.csv  \n",
            "  inflating: __MACOSX/Clean_signal/._clean_exp06.csv  \n",
            "  inflating: Clean_signal/clean_exp12.csv  \n",
            "  inflating: __MACOSX/Clean_signal/._clean_exp12.csv  \n",
            "  inflating: Clean_signal/clean_exp04.csv  \n",
            "  inflating: __MACOSX/Clean_signal/._clean_exp04.csv  \n",
            "  inflating: Clean_signal/clean_exp10.csv  \n",
            "  inflating: __MACOSX/Clean_signal/._clean_exp10.csv  \n",
            "  inflating: Clean_signal/clean_exp11.csv  \n",
            "  inflating: __MACOSX/Clean_signal/._clean_exp11.csv  \n",
            "  inflating: Clean_signal/clean_exp05.csv  \n",
            "  inflating: __MACOSX/Clean_signal/._clean_exp05.csv  \n"
          ]
        }
      ]
    },
    {
      "cell_type": "code",
      "source": [
        "pip install mne"
      ],
      "metadata": {
        "colab": {
          "base_uri": "https://localhost:8080/"
        },
        "id": "pwzKGAORVEVK",
        "outputId": "6bf3898b-e8e0-40a5-a82c-1af1709f37f6"
      },
      "execution_count": null,
      "outputs": [
        {
          "output_type": "stream",
          "name": "stdout",
          "text": [
            "Looking in indexes: https://pypi.org/simple, https://us-python.pkg.dev/colab-wheels/public/simple/\n",
            "Collecting mne\n",
            "  Downloading mne-1.2.2-py3-none-any.whl (7.6 MB)\n",
            "\u001b[K     |████████████████████████████████| 7.6 MB 8.9 MB/s \n",
            "\u001b[?25hRequirement already satisfied: decorator in /usr/local/lib/python3.7/dist-packages (from mne) (4.4.2)\n",
            "Requirement already satisfied: tqdm in /usr/local/lib/python3.7/dist-packages (from mne) (4.64.1)\n",
            "Requirement already satisfied: packaging in /usr/local/lib/python3.7/dist-packages (from mne) (21.3)\n",
            "Requirement already satisfied: scipy>=1.1.0 in /usr/local/lib/python3.7/dist-packages (from mne) (1.7.3)\n",
            "Requirement already satisfied: numpy>=1.15.4 in /usr/local/lib/python3.7/dist-packages (from mne) (1.21.6)\n",
            "Requirement already satisfied: jinja2 in /usr/local/lib/python3.7/dist-packages (from mne) (2.11.3)\n",
            "Requirement already satisfied: matplotlib in /usr/local/lib/python3.7/dist-packages (from mne) (3.2.2)\n",
            "Requirement already satisfied: pooch>=1.5 in /usr/local/lib/python3.7/dist-packages (from mne) (1.6.0)\n",
            "Requirement already satisfied: requests>=2.19.0 in /usr/local/lib/python3.7/dist-packages (from pooch>=1.5->mne) (2.23.0)\n",
            "Requirement already satisfied: appdirs>=1.3.0 in /usr/local/lib/python3.7/dist-packages (from pooch>=1.5->mne) (1.4.4)\n",
            "Requirement already satisfied: pyparsing!=3.0.5,>=2.0.2 in /usr/local/lib/python3.7/dist-packages (from packaging->mne) (3.0.9)\n",
            "Requirement already satisfied: idna<3,>=2.5 in /usr/local/lib/python3.7/dist-packages (from requests>=2.19.0->pooch>=1.5->mne) (2.10)\n",
            "Requirement already satisfied: certifi>=2017.4.17 in /usr/local/lib/python3.7/dist-packages (from requests>=2.19.0->pooch>=1.5->mne) (2022.9.24)\n",
            "Requirement already satisfied: chardet<4,>=3.0.2 in /usr/local/lib/python3.7/dist-packages (from requests>=2.19.0->pooch>=1.5->mne) (3.0.4)\n",
            "Requirement already satisfied: urllib3!=1.25.0,!=1.25.1,<1.26,>=1.21.1 in /usr/local/lib/python3.7/dist-packages (from requests>=2.19.0->pooch>=1.5->mne) (1.24.3)\n",
            "Requirement already satisfied: MarkupSafe>=0.23 in /usr/local/lib/python3.7/dist-packages (from jinja2->mne) (2.0.1)\n",
            "Requirement already satisfied: kiwisolver>=1.0.1 in /usr/local/lib/python3.7/dist-packages (from matplotlib->mne) (1.4.4)\n",
            "Requirement already satisfied: cycler>=0.10 in /usr/local/lib/python3.7/dist-packages (from matplotlib->mne) (0.11.0)\n",
            "Requirement already satisfied: python-dateutil>=2.1 in /usr/local/lib/python3.7/dist-packages (from matplotlib->mne) (2.8.2)\n",
            "Requirement already satisfied: typing-extensions in /usr/local/lib/python3.7/dist-packages (from kiwisolver>=1.0.1->matplotlib->mne) (4.1.1)\n",
            "Requirement already satisfied: six>=1.5 in /usr/local/lib/python3.7/dist-packages (from python-dateutil>=2.1->matplotlib->mne) (1.15.0)\n",
            "Installing collected packages: mne\n",
            "Successfully installed mne-1.2.2\n"
          ]
        }
      ]
    },
    {
      "cell_type": "code",
      "source": [
        "pip install components"
      ],
      "metadata": {
        "colab": {
          "base_uri": "https://localhost:8080/"
        },
        "id": "w10ogyD1VEYJ",
        "outputId": "0aac575e-a757-48e9-b704-ac15f15013ea"
      },
      "execution_count": null,
      "outputs": [
        {
          "output_type": "stream",
          "name": "stdout",
          "text": [
            "Looking in indexes: https://pypi.org/simple, https://us-python.pkg.dev/colab-wheels/public/simple/\n",
            "Collecting components\n",
            "  Downloading components-1.2.8-py3-none-any.whl (11 kB)\n",
            "Installing collected packages: components\n",
            "Successfully installed components-1.2.8\n"
          ]
        }
      ]
    },
    {
      "cell_type": "code",
      "source": [
        "import pickle\n",
        "import numpy as np\n",
        "import os\n",
        "import mne\n",
        "import pandas as pd\n",
        "pickle.format_version\n",
        "\n",
        "import torch\n",
        "import torch.nn as nn\n",
        "import torch.nn.functional as F\n",
        "from torchvision import datasets, transforms  \n",
        "from torch.utils.data import DataLoader, Dataset  \n",
        "from torch.utils.data import TensorDataset\n",
        "from torch.autograd import Variable\n",
        "\n",
        "import pandas as pd\n",
        "from sklearn.metrics import confusion_matrix, ConfusionMatrixDisplay\n",
        "import matplotlib.pyplot as plt\n",
        "\n",
        "from sklearn.model_selection import train_test_split\n",
        "\n",
        "# setting seed so that splitting process and training process can be reproduce\n",
        "torch.manual_seed(1)"
      ],
      "metadata": {
        "colab": {
          "base_uri": "https://localhost:8080/"
        },
        "id": "oV3Wo3-mVEa9",
        "outputId": "4470cab9-942c-4bad-a3f6-b84159c4d504"
      },
      "execution_count": null,
      "outputs": [
        {
          "output_type": "execute_result",
          "data": {
            "text/plain": [
              "<torch._C.Generator at 0x7fc0f7b4f470>"
            ]
          },
          "metadata": {},
          "execution_count": 7
        }
      ]
    },
    {
      "cell_type": "markdown",
      "source": [
        "# ETL"
      ],
      "metadata": {
        "id": "6v7rkdizVS5M"
      }
    },
    {
      "cell_type": "code",
      "source": [
        "import os\n",
        "main_path = os.getcwd()\n",
        "filename = os.listdir(main_path + '/Clean_signal/')"
      ],
      "metadata": {
        "id": "RhLkEKQ1VEdx"
      },
      "execution_count": null,
      "outputs": []
    },
    {
      "cell_type": "code",
      "source": [
        "filename = ['clean_exp01.csv',\n",
        " 'clean_exp02.csv',\n",
        " 'clean_exp03.csv',\n",
        " 'clean_exp04.csv',\n",
        " 'clean_exp05.csv',\n",
        " 'clean_exp06.csv',\n",
        " 'clean_exp07.csv',\n",
        " 'clean_exp08.csv',\n",
        " 'clean_exp09.csv',\n",
        " 'clean_exp10.csv',\n",
        " 'clean_exp11.csv',\n",
        " 'clean_exp12.csv',\n",
        " 'clean_exp13.csv',\n",
        " 'clean_exp14.csv',\n",
        " 'clean_exp15.csv',\n",
        " 'clean_exp16.csv',\n",
        " 'clean_exp17.csv']"
      ],
      "metadata": {
        "id": "cLR-bCqaVEgo"
      },
      "execution_count": null,
      "outputs": []
    },
    {
      "cell_type": "code",
      "source": [
        "all_file_path = main_path + '/Clean_signal/'\n",
        "X_list = list()\n",
        "for file in filename:\n",
        "    file_path = all_file_path + file\n",
        "    df = pd.read_csv(file_path, index_col=None)\n",
        "    df = df.loc[:, ~df.columns.str.contains('^Unnamed')]\n",
        "    X_list.append(df)  "
      ],
      "metadata": {
        "id": "IT1a4C7WUiup"
      },
      "execution_count": null,
      "outputs": []
    },
    {
      "cell_type": "code",
      "source": [
        "df.head()"
      ],
      "metadata": {
        "colab": {
          "base_uri": "https://localhost:8080/",
          "height": 270
        },
        "id": "COY-Jz-ZUiyo",
        "outputId": "a5ffd30b-51a5-4587-9108-4b06ca52d6d9"
      },
      "execution_count": null,
      "outputs": [
        {
          "output_type": "execute_result",
          "data": {
            "text/plain": [
              "            Fp1           Fp2            F7            F3            F4  \\\n",
              "0  1.558541e-13  1.202787e-12 -1.822815e-12 -6.666149e-13 -1.524659e-14   \n",
              "1 -2.495299e+02 -2.591266e+02 -2.392414e+02 -2.472481e+02 -1.342918e+02   \n",
              "2 -1.022146e+02 -1.071695e+02 -8.913196e+01 -9.320015e+01 -7.188064e+01   \n",
              "3 -1.894707e+02 -1.985657e+02 -1.666088e+02 -1.773347e+02 -1.206077e+02   \n",
              "4 -1.976600e+02 -2.088452e+02 -1.691085e+02 -1.829386e+02 -1.219805e+02   \n",
              "\n",
              "             F8            T3            C3            C4            T4  \\\n",
              "0 -9.656176e-14  1.778769e-13 -7.318365e-13 -3.218725e-14  6.776264e-15   \n",
              "1 -2.469675e+02 -2.368676e+02 -2.375381e+02  8.964020e+01  9.114929e+01   \n",
              "2 -9.669399e+01 -7.360927e+01 -7.934479e+01 -8.483305e+00 -3.966042e+00   \n",
              "3 -1.861381e+02 -1.566157e+02 -1.616160e+02  1.053098e+01  1.359837e+01   \n",
              "4 -1.981792e+02 -1.664133e+02 -1.711082e+02  5.430791e+00  5.540176e+00   \n",
              "\n",
              "             T5            P3            P4            T6            O1  \\\n",
              "0  2.463172e-12 -5.293956e-13  1.679243e-13  2.774456e-12 -3.303428e-13   \n",
              "1  9.105020e+01  7.684951e+01  1.383037e+02 -4.155527e+02 -3.083336e+02   \n",
              "2  6.921319e-02 -5.860820e+00  6.340924e+00 -1.006591e+02 -7.385641e+01   \n",
              "3  2.570865e+01  1.375228e+01  4.319836e+01 -2.383818e+02 -1.751361e+02   \n",
              "4  2.039321e+01  9.522058e+00  4.153111e+01 -2.713544e+02 -1.985949e+02   \n",
              "\n",
              "             O2  \n",
              "0  2.217109e-13  \n",
              "1 -1.145710e+02  \n",
              "2 -3.186257e+01  \n",
              "3 -7.472951e+01  \n",
              "4 -9.082392e+01  "
            ],
            "text/html": [
              "\n",
              "  <div id=\"df-cdadcd63-8a3e-4a6a-9d1d-bfff98141628\">\n",
              "    <div class=\"colab-df-container\">\n",
              "      <div>\n",
              "<style scoped>\n",
              "    .dataframe tbody tr th:only-of-type {\n",
              "        vertical-align: middle;\n",
              "    }\n",
              "\n",
              "    .dataframe tbody tr th {\n",
              "        vertical-align: top;\n",
              "    }\n",
              "\n",
              "    .dataframe thead th {\n",
              "        text-align: right;\n",
              "    }\n",
              "</style>\n",
              "<table border=\"1\" class=\"dataframe\">\n",
              "  <thead>\n",
              "    <tr style=\"text-align: right;\">\n",
              "      <th></th>\n",
              "      <th>Fp1</th>\n",
              "      <th>Fp2</th>\n",
              "      <th>F7</th>\n",
              "      <th>F3</th>\n",
              "      <th>F4</th>\n",
              "      <th>F8</th>\n",
              "      <th>T3</th>\n",
              "      <th>C3</th>\n",
              "      <th>C4</th>\n",
              "      <th>T4</th>\n",
              "      <th>T5</th>\n",
              "      <th>P3</th>\n",
              "      <th>P4</th>\n",
              "      <th>T6</th>\n",
              "      <th>O1</th>\n",
              "      <th>O2</th>\n",
              "    </tr>\n",
              "  </thead>\n",
              "  <tbody>\n",
              "    <tr>\n",
              "      <th>0</th>\n",
              "      <td>1.558541e-13</td>\n",
              "      <td>1.202787e-12</td>\n",
              "      <td>-1.822815e-12</td>\n",
              "      <td>-6.666149e-13</td>\n",
              "      <td>-1.524659e-14</td>\n",
              "      <td>-9.656176e-14</td>\n",
              "      <td>1.778769e-13</td>\n",
              "      <td>-7.318365e-13</td>\n",
              "      <td>-3.218725e-14</td>\n",
              "      <td>6.776264e-15</td>\n",
              "      <td>2.463172e-12</td>\n",
              "      <td>-5.293956e-13</td>\n",
              "      <td>1.679243e-13</td>\n",
              "      <td>2.774456e-12</td>\n",
              "      <td>-3.303428e-13</td>\n",
              "      <td>2.217109e-13</td>\n",
              "    </tr>\n",
              "    <tr>\n",
              "      <th>1</th>\n",
              "      <td>-2.495299e+02</td>\n",
              "      <td>-2.591266e+02</td>\n",
              "      <td>-2.392414e+02</td>\n",
              "      <td>-2.472481e+02</td>\n",
              "      <td>-1.342918e+02</td>\n",
              "      <td>-2.469675e+02</td>\n",
              "      <td>-2.368676e+02</td>\n",
              "      <td>-2.375381e+02</td>\n",
              "      <td>8.964020e+01</td>\n",
              "      <td>9.114929e+01</td>\n",
              "      <td>9.105020e+01</td>\n",
              "      <td>7.684951e+01</td>\n",
              "      <td>1.383037e+02</td>\n",
              "      <td>-4.155527e+02</td>\n",
              "      <td>-3.083336e+02</td>\n",
              "      <td>-1.145710e+02</td>\n",
              "    </tr>\n",
              "    <tr>\n",
              "      <th>2</th>\n",
              "      <td>-1.022146e+02</td>\n",
              "      <td>-1.071695e+02</td>\n",
              "      <td>-8.913196e+01</td>\n",
              "      <td>-9.320015e+01</td>\n",
              "      <td>-7.188064e+01</td>\n",
              "      <td>-9.669399e+01</td>\n",
              "      <td>-7.360927e+01</td>\n",
              "      <td>-7.934479e+01</td>\n",
              "      <td>-8.483305e+00</td>\n",
              "      <td>-3.966042e+00</td>\n",
              "      <td>6.921319e-02</td>\n",
              "      <td>-5.860820e+00</td>\n",
              "      <td>6.340924e+00</td>\n",
              "      <td>-1.006591e+02</td>\n",
              "      <td>-7.385641e+01</td>\n",
              "      <td>-3.186257e+01</td>\n",
              "    </tr>\n",
              "    <tr>\n",
              "      <th>3</th>\n",
              "      <td>-1.894707e+02</td>\n",
              "      <td>-1.985657e+02</td>\n",
              "      <td>-1.666088e+02</td>\n",
              "      <td>-1.773347e+02</td>\n",
              "      <td>-1.206077e+02</td>\n",
              "      <td>-1.861381e+02</td>\n",
              "      <td>-1.566157e+02</td>\n",
              "      <td>-1.616160e+02</td>\n",
              "      <td>1.053098e+01</td>\n",
              "      <td>1.359837e+01</td>\n",
              "      <td>2.570865e+01</td>\n",
              "      <td>1.375228e+01</td>\n",
              "      <td>4.319836e+01</td>\n",
              "      <td>-2.383818e+02</td>\n",
              "      <td>-1.751361e+02</td>\n",
              "      <td>-7.472951e+01</td>\n",
              "    </tr>\n",
              "    <tr>\n",
              "      <th>4</th>\n",
              "      <td>-1.976600e+02</td>\n",
              "      <td>-2.088452e+02</td>\n",
              "      <td>-1.691085e+02</td>\n",
              "      <td>-1.829386e+02</td>\n",
              "      <td>-1.219805e+02</td>\n",
              "      <td>-1.981792e+02</td>\n",
              "      <td>-1.664133e+02</td>\n",
              "      <td>-1.711082e+02</td>\n",
              "      <td>5.430791e+00</td>\n",
              "      <td>5.540176e+00</td>\n",
              "      <td>2.039321e+01</td>\n",
              "      <td>9.522058e+00</td>\n",
              "      <td>4.153111e+01</td>\n",
              "      <td>-2.713544e+02</td>\n",
              "      <td>-1.985949e+02</td>\n",
              "      <td>-9.082392e+01</td>\n",
              "    </tr>\n",
              "  </tbody>\n",
              "</table>\n",
              "</div>\n",
              "      <button class=\"colab-df-convert\" onclick=\"convertToInteractive('df-cdadcd63-8a3e-4a6a-9d1d-bfff98141628')\"\n",
              "              title=\"Convert this dataframe to an interactive table.\"\n",
              "              style=\"display:none;\">\n",
              "        \n",
              "  <svg xmlns=\"http://www.w3.org/2000/svg\" height=\"24px\"viewBox=\"0 0 24 24\"\n",
              "       width=\"24px\">\n",
              "    <path d=\"M0 0h24v24H0V0z\" fill=\"none\"/>\n",
              "    <path d=\"M18.56 5.44l.94 2.06.94-2.06 2.06-.94-2.06-.94-.94-2.06-.94 2.06-2.06.94zm-11 1L8.5 8.5l.94-2.06 2.06-.94-2.06-.94L8.5 2.5l-.94 2.06-2.06.94zm10 10l.94 2.06.94-2.06 2.06-.94-2.06-.94-.94-2.06-.94 2.06-2.06.94z\"/><path d=\"M17.41 7.96l-1.37-1.37c-.4-.4-.92-.59-1.43-.59-.52 0-1.04.2-1.43.59L10.3 9.45l-7.72 7.72c-.78.78-.78 2.05 0 2.83L4 21.41c.39.39.9.59 1.41.59.51 0 1.02-.2 1.41-.59l7.78-7.78 2.81-2.81c.8-.78.8-2.07 0-2.86zM5.41 20L4 18.59l7.72-7.72 1.47 1.35L5.41 20z\"/>\n",
              "  </svg>\n",
              "      </button>\n",
              "      \n",
              "  <style>\n",
              "    .colab-df-container {\n",
              "      display:flex;\n",
              "      flex-wrap:wrap;\n",
              "      gap: 12px;\n",
              "    }\n",
              "\n",
              "    .colab-df-convert {\n",
              "      background-color: #E8F0FE;\n",
              "      border: none;\n",
              "      border-radius: 50%;\n",
              "      cursor: pointer;\n",
              "      display: none;\n",
              "      fill: #1967D2;\n",
              "      height: 32px;\n",
              "      padding: 0 0 0 0;\n",
              "      width: 32px;\n",
              "    }\n",
              "\n",
              "    .colab-df-convert:hover {\n",
              "      background-color: #E2EBFA;\n",
              "      box-shadow: 0px 1px 2px rgba(60, 64, 67, 0.3), 0px 1px 3px 1px rgba(60, 64, 67, 0.15);\n",
              "      fill: #174EA6;\n",
              "    }\n",
              "\n",
              "    [theme=dark] .colab-df-convert {\n",
              "      background-color: #3B4455;\n",
              "      fill: #D2E3FC;\n",
              "    }\n",
              "\n",
              "    [theme=dark] .colab-df-convert:hover {\n",
              "      background-color: #434B5C;\n",
              "      box-shadow: 0px 1px 3px 1px rgba(0, 0, 0, 0.15);\n",
              "      filter: drop-shadow(0px 1px 2px rgba(0, 0, 0, 0.3));\n",
              "      fill: #FFFFFF;\n",
              "    }\n",
              "  </style>\n",
              "\n",
              "      <script>\n",
              "        const buttonEl =\n",
              "          document.querySelector('#df-cdadcd63-8a3e-4a6a-9d1d-bfff98141628 button.colab-df-convert');\n",
              "        buttonEl.style.display =\n",
              "          google.colab.kernel.accessAllowed ? 'block' : 'none';\n",
              "\n",
              "        async function convertToInteractive(key) {\n",
              "          const element = document.querySelector('#df-cdadcd63-8a3e-4a6a-9d1d-bfff98141628');\n",
              "          const dataTable =\n",
              "            await google.colab.kernel.invokeFunction('convertToInteractive',\n",
              "                                                     [key], {});\n",
              "          if (!dataTable) return;\n",
              "\n",
              "          const docLinkHtml = 'Like what you see? Visit the ' +\n",
              "            '<a target=\"_blank\" href=https://colab.research.google.com/notebooks/data_table.ipynb>data table notebook</a>'\n",
              "            + ' to learn more about interactive tables.';\n",
              "          element.innerHTML = '';\n",
              "          dataTable['output_type'] = 'display_data';\n",
              "          await google.colab.output.renderOutput(dataTable, element);\n",
              "          const docLink = document.createElement('div');\n",
              "          docLink.innerHTML = docLinkHtml;\n",
              "          element.appendChild(docLink);\n",
              "        }\n",
              "      </script>\n",
              "    </div>\n",
              "  </div>\n",
              "  "
            ]
          },
          "metadata": {},
          "execution_count": 15
        }
      ]
    },
    {
      "cell_type": "code",
      "source": [
        "X = np.array(X_list)\n",
        "X.shape"
      ],
      "metadata": {
        "colab": {
          "base_uri": "https://localhost:8080/"
        },
        "id": "PEw38IzfV9Ze",
        "outputId": "96b8eb90-340e-4ef2-de59-6861f0642c56"
      },
      "execution_count": 202,
      "outputs": [
        {
          "output_type": "execute_result",
          "data": {
            "text/plain": [
              "(17, 45000, 16)"
            ]
          },
          "metadata": {},
          "execution_count": 202
        }
      ]
    },
    {
      "cell_type": "code",
      "source": [
        "# Reshape\n",
        "X = np.transpose(X, (0, 2, 1))\n",
        "X.shape"
      ],
      "metadata": {
        "colab": {
          "base_uri": "https://localhost:8080/"
        },
        "id": "2sJ3TIjQV9cz",
        "outputId": "be7b54fa-2dae-433f-ddb1-4dafbde0d643"
      },
      "execution_count": 203,
      "outputs": [
        {
          "output_type": "execute_result",
          "data": {
            "text/plain": [
              "(17, 16, 45000)"
            ]
          },
          "metadata": {},
          "execution_count": 203
        }
      ]
    },
    {
      "cell_type": "code",
      "source": [
        "def vectorized_windowing(arr, window_len, overlap_len=None):\n",
        "    '''\n",
        "    Sliding window without using loop\n",
        "    '''\n",
        "    seq_len = arr.shape[-1]\n",
        "    \n",
        "    if not overlap_len:\n",
        "        overlap_len = window_len\n",
        "\n",
        "    n_sliding_windows = ((seq_len - window_len) // overlap_len) + 1\n",
        "\n",
        "    sub_windows = np.array([np.arange(window_len)]) + np.array([np.arange(n_sliding_windows) * overlap_len]).T\n",
        "\n",
        "    slided_arr = arr[..., sub_windows]\n",
        "\n",
        "    return slided_arr\n"
      ],
      "metadata": {
        "id": "x9lOPEaJ1Upc"
      },
      "execution_count": 204,
      "outputs": []
    },
    {
      "cell_type": "code",
      "source": [
        "X_chunked = vectorized_windowing(X, window_len=4500)\n",
        "X_chunked = np.swapaxes(X_chunked,1,2).reshape(-1, 16, 4500)\n",
        "\n",
        "print(X_chunked.shape)\n",
        "\n",
        "X = X_chunked.copy()"
      ],
      "metadata": {
        "colab": {
          "base_uri": "https://localhost:8080/"
        },
        "id": "-rG8-cd11Xm7",
        "outputId": "93241713-de08-4187-b544-a6c0ad8acbde"
      },
      "execution_count": 205,
      "outputs": [
        {
          "output_type": "stream",
          "name": "stdout",
          "text": [
            "(170, 16, 4500)\n"
          ]
        }
      ]
    },
    {
      "cell_type": "code",
      "source": [
        "y_path = '/content/Clean_signal/PSS10 - Sheet1.csv'\n",
        "df = pd.read_csv(y_path)\n",
        "y = np.array(df['label'])\n",
        "y"
      ],
      "metadata": {
        "colab": {
          "base_uri": "https://localhost:8080/"
        },
        "id": "ACZEM4DBV9fl",
        "outputId": "640be7ea-8aa3-4136-db49-8d7743cfa79c"
      },
      "execution_count": 206,
      "outputs": [
        {
          "output_type": "execute_result",
          "data": {
            "text/plain": [
              "array([1, 1, 1, 0, 0, 0, 0, 1, 0, 0, 0, 1, 0, 0, 0, 1, 1])"
            ]
          },
          "metadata": {},
          "execution_count": 206
        }
      ]
    },
    {
      "cell_type": "code",
      "source": [
        "y_chunked = np.repeat(y, 10)\n",
        "\n",
        "y = y_chunked.copy()"
      ],
      "metadata": {
        "id": "TEGVmz846DkW"
      },
      "execution_count": 207,
      "outputs": []
    },
    {
      "cell_type": "markdown",
      "source": [
        "# Split Data"
      ],
      "metadata": {
        "id": "nGw8680y-3N5"
      }
    },
    {
      "cell_type": "code",
      "source": [],
      "metadata": {
        "id": "TYLtlbcAWOMA"
      },
      "execution_count": 207,
      "outputs": []
    },
    {
      "cell_type": "code",
      "source": [
        "X_train, X_test, y_train, y_test = train_test_split(X, y, test_size=0.2, shuffle = False, stratify = None)\n",
        "\n",
        "print(X_train.shape, X_test.shape, y_train.shape, y_test.shape)"
      ],
      "metadata": {
        "colab": {
          "base_uri": "https://localhost:8080/"
        },
        "id": "awnviaHZcdH7",
        "outputId": "87300c80-d494-446e-8c6a-8954f7f66bd5"
      },
      "execution_count": 232,
      "outputs": [
        {
          "output_type": "stream",
          "name": "stdout",
          "text": [
            "(136, 16, 4500) (34, 16, 4500) (136,) (34,)\n"
          ]
        }
      ]
    },
    {
      "cell_type": "code",
      "source": [
        "print(X_test)"
      ],
      "metadata": {
        "colab": {
          "base_uri": "https://localhost:8080/"
        },
        "id": "4lNlvnIMXXMI",
        "outputId": "3669df9b-145f-4685-c66b-1a02b3ceecde"
      },
      "execution_count": 233,
      "outputs": [
        {
          "output_type": "stream",
          "name": "stdout",
          "text": [
            "[[[ 7.84200330e+00  1.47207470e+01  1.42052595e+01 ... -5.89349247e+00\n",
            "   -1.51828042e+01 -2.08104358e+01]\n",
            "  [ 3.16583543e+00  8.26135009e+00  9.23106733e+00 ... -2.71454574e+01\n",
            "   -3.25662288e+01 -3.54135998e+01]\n",
            "  [ 2.32398500e+00  5.09731303e+00  3.61993697e-01 ... -1.74988647e+01\n",
            "   -2.87856476e+01 -3.47425425e+01]\n",
            "  ...\n",
            "  [-8.76076464e+00 -1.74142656e+00  5.77302593e-01 ...  2.39540520e+00\n",
            "    2.14318766e+00 -1.96665306e+00]\n",
            "  [ 3.02666012e+00  6.51500100e+00  4.10581095e+00 ...  3.91447209e+01\n",
            "    3.74479023e+01  2.25009333e+01]\n",
            "  [-1.46662092e+01 -3.50361569e+00  1.18964341e+00 ...  1.17311595e+01\n",
            "    1.10058886e+01 -3.73502614e+00]]\n",
            "\n",
            " [[-1.82454441e+01 -1.57154517e+01 -9.08109711e+00 ... -5.01454830e+00\n",
            "   -8.80962712e+00 -4.94259629e+00]\n",
            "  [-3.47973429e+01 -3.61339346e+01 -2.94382432e+01 ... -2.55171581e+00\n",
            "   -7.39142312e+00 -5.25420300e+00]\n",
            "  [-3.00576255e+01 -3.15323330e+01 -2.53430851e+01 ...  2.28278037e+00\n",
            "   -2.40692220e+00 -6.11756015e-02]\n",
            "  ...\n",
            "  [-2.07971800e+00 -2.52503017e-01  5.09790304e+00 ... -3.14076622e+00\n",
            "   -4.28058327e+00 -7.12660240e+00]\n",
            "  [ 4.35591237e+00 -4.57899853e+00 -6.25330591e+00 ... -3.28461268e+01\n",
            "   -3.00851284e+01 -1.55351592e+01]\n",
            "  [-1.19161368e+01 -9.40704227e+00 -4.14098964e+00 ... -8.17306879e+00\n",
            "   -7.56269858e+00 -5.87773352e+00]]\n",
            "\n",
            " [[-2.55895094e+00 -5.78241185e+00 -1.94101434e+00 ...  1.02858771e+01\n",
            "    1.46039031e+01  8.81544340e+00]\n",
            "  [-3.93388416e+00 -5.59066990e+00 -4.68423117e+00 ...  4.26031693e-01\n",
            "    6.03638910e+00 -1.45738098e+00]\n",
            "  [ 8.42393571e+00  6.82235937e+00  4.25529333e+00 ...  1.95785361e+01\n",
            "    2.36030598e+01  1.66985685e+01]\n",
            "  ...\n",
            "  [-9.25299856e+00 -7.95336033e+00 -5.84309971e+00 ...  5.98576127e+00\n",
            "    1.47156705e+01  1.70193845e+01]\n",
            "  [-2.10494402e+00 -2.15289886e+00 -9.29289139e+00 ...  2.19074083e+01\n",
            "    2.74035879e+01  1.95985165e+01]\n",
            "  [-3.89282985e+00 -3.54409343e+00 -5.11216727e+00 ...  1.54793166e+01\n",
            "    1.73550575e+01  1.39748558e+01]]\n",
            "\n",
            " ...\n",
            "\n",
            " [[ 3.17531096e+01  3.28001297e+01  3.30714791e+01 ... -5.18032270e+00\n",
            "    6.71832316e-01 -1.65334382e+00]\n",
            "  [ 2.46521394e+01  2.64001551e+01  2.55888297e+01 ... -2.44915088e+00\n",
            "    6.21596000e+00  3.89736128e+00]\n",
            "  [ 3.85433008e+01  3.62744450e+01  3.28495352e+01 ... -7.78193969e+00\n",
            "   -4.88275784e+00 -1.17770283e+01]\n",
            "  ...\n",
            "  [ 6.27970587e+01  6.75369204e+01  7.25241459e+01 ...  1.47631630e+01\n",
            "    1.11632825e+01  9.97103668e-01]\n",
            "  [-2.76864694e+00 -3.87042386e+00 -8.53924951e-01 ...  7.86840864e+00\n",
            "    4.28568100e+00 -5.32936869e+00]\n",
            "  [-2.27726663e+01 -9.83800172e+00  2.91855996e+00 ... -5.06363240e-02\n",
            "   -5.37021047e+00 -1.10162400e+01]]\n",
            "\n",
            " [[-1.03845318e+00  1.46715954e+01  2.16027717e+01 ...  5.97502281e-01\n",
            "    9.50369863e+00  2.27134810e+01]\n",
            "  [ 2.67038823e+00  2.21784941e+01  3.30299691e+01 ...  1.79567409e+00\n",
            "    1.40727621e+01  3.22251139e+01]\n",
            "  [-1.30335234e+01  1.36390143e+00  9.31477142e+00 ... -8.27321998e+00\n",
            "    2.59472689e+00  1.54252150e+01]\n",
            "  ...\n",
            "  [-4.10438533e+00 -6.39680547e+00 -9.85097543e+00 ... -1.79668183e+01\n",
            "   -1.63830837e+01 -8.95476878e+00]\n",
            "  [-9.40488240e+00 -8.89058515e+00 -8.43275640e+00 ...  4.13391765e+00\n",
            "    9.77695490e-01  1.58381483e+00]\n",
            "  [-1.21702694e+01 -1.36673843e+01 -1.26007425e+01 ... -6.81864220e+00\n",
            "   -1.32554064e+01 -1.38373846e+01]]\n",
            "\n",
            " [[-4.88985611e+00  3.11771092e+00  6.51197896e+00 ... -2.20719563e+01\n",
            "   -1.13576914e+02  3.32036915e-13]\n",
            "  [ 4.55329838e-01  4.16656692e+00  1.19269709e+01 ... -2.59238206e+01\n",
            "   -1.20994091e+02 -2.14299336e-12]\n",
            "  [-1.41921417e+01 -4.10346916e+00  4.01353981e+00 ... -2.63955657e+01\n",
            "   -1.15157851e+02 -1.71058304e-12]\n",
            "  ...\n",
            "  [-1.43085275e+01 -1.75655533e+01 -1.73438179e+01 ... -1.25148914e+02\n",
            "   -5.55865478e+02 -2.68340038e-12]\n",
            "  [-4.68377952e+00 -7.31895181e+00 -8.14388028e+00 ... -1.09210646e+02\n",
            "   -4.88264616e+02 -1.35525272e-12]\n",
            "  [-1.22149249e+01 -1.64239501e+01 -1.50505326e+01 ... -5.95475034e+01\n",
            "   -3.09504495e+02  8.30092288e-14]]]\n"
          ]
        }
      ]
    },
    {
      "cell_type": "code",
      "source": [
        "print(X_test)"
      ],
      "metadata": {
        "colab": {
          "base_uri": "https://localhost:8080/"
        },
        "id": "N9Ih6_WEXtuo",
        "outputId": "93919b54-1e0c-4765-a38b-a5aa7e9f634f"
      },
      "execution_count": 234,
      "outputs": [
        {
          "output_type": "stream",
          "name": "stdout",
          "text": [
            "[[[ 7.84200330e+00  1.47207470e+01  1.42052595e+01 ... -5.89349247e+00\n",
            "   -1.51828042e+01 -2.08104358e+01]\n",
            "  [ 3.16583543e+00  8.26135009e+00  9.23106733e+00 ... -2.71454574e+01\n",
            "   -3.25662288e+01 -3.54135998e+01]\n",
            "  [ 2.32398500e+00  5.09731303e+00  3.61993697e-01 ... -1.74988647e+01\n",
            "   -2.87856476e+01 -3.47425425e+01]\n",
            "  ...\n",
            "  [-8.76076464e+00 -1.74142656e+00  5.77302593e-01 ...  2.39540520e+00\n",
            "    2.14318766e+00 -1.96665306e+00]\n",
            "  [ 3.02666012e+00  6.51500100e+00  4.10581095e+00 ...  3.91447209e+01\n",
            "    3.74479023e+01  2.25009333e+01]\n",
            "  [-1.46662092e+01 -3.50361569e+00  1.18964341e+00 ...  1.17311595e+01\n",
            "    1.10058886e+01 -3.73502614e+00]]\n",
            "\n",
            " [[-1.82454441e+01 -1.57154517e+01 -9.08109711e+00 ... -5.01454830e+00\n",
            "   -8.80962712e+00 -4.94259629e+00]\n",
            "  [-3.47973429e+01 -3.61339346e+01 -2.94382432e+01 ... -2.55171581e+00\n",
            "   -7.39142312e+00 -5.25420300e+00]\n",
            "  [-3.00576255e+01 -3.15323330e+01 -2.53430851e+01 ...  2.28278037e+00\n",
            "   -2.40692220e+00 -6.11756015e-02]\n",
            "  ...\n",
            "  [-2.07971800e+00 -2.52503017e-01  5.09790304e+00 ... -3.14076622e+00\n",
            "   -4.28058327e+00 -7.12660240e+00]\n",
            "  [ 4.35591237e+00 -4.57899853e+00 -6.25330591e+00 ... -3.28461268e+01\n",
            "   -3.00851284e+01 -1.55351592e+01]\n",
            "  [-1.19161368e+01 -9.40704227e+00 -4.14098964e+00 ... -8.17306879e+00\n",
            "   -7.56269858e+00 -5.87773352e+00]]\n",
            "\n",
            " [[-2.55895094e+00 -5.78241185e+00 -1.94101434e+00 ...  1.02858771e+01\n",
            "    1.46039031e+01  8.81544340e+00]\n",
            "  [-3.93388416e+00 -5.59066990e+00 -4.68423117e+00 ...  4.26031693e-01\n",
            "    6.03638910e+00 -1.45738098e+00]\n",
            "  [ 8.42393571e+00  6.82235937e+00  4.25529333e+00 ...  1.95785361e+01\n",
            "    2.36030598e+01  1.66985685e+01]\n",
            "  ...\n",
            "  [-9.25299856e+00 -7.95336033e+00 -5.84309971e+00 ...  5.98576127e+00\n",
            "    1.47156705e+01  1.70193845e+01]\n",
            "  [-2.10494402e+00 -2.15289886e+00 -9.29289139e+00 ...  2.19074083e+01\n",
            "    2.74035879e+01  1.95985165e+01]\n",
            "  [-3.89282985e+00 -3.54409343e+00 -5.11216727e+00 ...  1.54793166e+01\n",
            "    1.73550575e+01  1.39748558e+01]]\n",
            "\n",
            " ...\n",
            "\n",
            " [[ 3.17531096e+01  3.28001297e+01  3.30714791e+01 ... -5.18032270e+00\n",
            "    6.71832316e-01 -1.65334382e+00]\n",
            "  [ 2.46521394e+01  2.64001551e+01  2.55888297e+01 ... -2.44915088e+00\n",
            "    6.21596000e+00  3.89736128e+00]\n",
            "  [ 3.85433008e+01  3.62744450e+01  3.28495352e+01 ... -7.78193969e+00\n",
            "   -4.88275784e+00 -1.17770283e+01]\n",
            "  ...\n",
            "  [ 6.27970587e+01  6.75369204e+01  7.25241459e+01 ...  1.47631630e+01\n",
            "    1.11632825e+01  9.97103668e-01]\n",
            "  [-2.76864694e+00 -3.87042386e+00 -8.53924951e-01 ...  7.86840864e+00\n",
            "    4.28568100e+00 -5.32936869e+00]\n",
            "  [-2.27726663e+01 -9.83800172e+00  2.91855996e+00 ... -5.06363240e-02\n",
            "   -5.37021047e+00 -1.10162400e+01]]\n",
            "\n",
            " [[-1.03845318e+00  1.46715954e+01  2.16027717e+01 ...  5.97502281e-01\n",
            "    9.50369863e+00  2.27134810e+01]\n",
            "  [ 2.67038823e+00  2.21784941e+01  3.30299691e+01 ...  1.79567409e+00\n",
            "    1.40727621e+01  3.22251139e+01]\n",
            "  [-1.30335234e+01  1.36390143e+00  9.31477142e+00 ... -8.27321998e+00\n",
            "    2.59472689e+00  1.54252150e+01]\n",
            "  ...\n",
            "  [-4.10438533e+00 -6.39680547e+00 -9.85097543e+00 ... -1.79668183e+01\n",
            "   -1.63830837e+01 -8.95476878e+00]\n",
            "  [-9.40488240e+00 -8.89058515e+00 -8.43275640e+00 ...  4.13391765e+00\n",
            "    9.77695490e-01  1.58381483e+00]\n",
            "  [-1.21702694e+01 -1.36673843e+01 -1.26007425e+01 ... -6.81864220e+00\n",
            "   -1.32554064e+01 -1.38373846e+01]]\n",
            "\n",
            " [[-4.88985611e+00  3.11771092e+00  6.51197896e+00 ... -2.20719563e+01\n",
            "   -1.13576914e+02  3.32036915e-13]\n",
            "  [ 4.55329838e-01  4.16656692e+00  1.19269709e+01 ... -2.59238206e+01\n",
            "   -1.20994091e+02 -2.14299336e-12]\n",
            "  [-1.41921417e+01 -4.10346916e+00  4.01353981e+00 ... -2.63955657e+01\n",
            "   -1.15157851e+02 -1.71058304e-12]\n",
            "  ...\n",
            "  [-1.43085275e+01 -1.75655533e+01 -1.73438179e+01 ... -1.25148914e+02\n",
            "   -5.55865478e+02 -2.68340038e-12]\n",
            "  [-4.68377952e+00 -7.31895181e+00 -8.14388028e+00 ... -1.09210646e+02\n",
            "   -4.88264616e+02 -1.35525272e-12]\n",
            "  [-1.22149249e+01 -1.64239501e+01 -1.50505326e+01 ... -5.95475034e+01\n",
            "   -3.09504495e+02  8.30092288e-14]]]\n"
          ]
        }
      ]
    },
    {
      "cell_type": "code",
      "source": [
        "X_train, X_val, y_train, y_val = train_test_split(X_train, y_train, test_size=0.1, random_state=999)\n",
        "print(X_train.shape, X_val.shape, y_train.shape, y_val.shape)"
      ],
      "metadata": {
        "colab": {
          "base_uri": "https://localhost:8080/"
        },
        "id": "TF6zuq4phP9E",
        "outputId": "d584d17c-44ef-4e04-a24e-7f17dd6e4001"
      },
      "execution_count": 235,
      "outputs": [
        {
          "output_type": "stream",
          "name": "stdout",
          "text": [
            "(122, 16, 4500) (14, 16, 4500) (122,) (14,)\n"
          ]
        }
      ]
    },
    {
      "cell_type": "code",
      "source": [
        "from sklearn.preprocessing import MinMaxScaler\n",
        "\n",
        "#scale transform each channel independently\n",
        "scalers = {}\n",
        "for i in range(X_train.shape[2]):\n",
        "    scalers[i] = MinMaxScaler(feature_range=(-1, 1))\n",
        "    X_train[:, :, i] = scalers[i].fit_transform(X_train[:, :, i]) \n",
        "\n",
        "for i in range(X_val.shape[2]):\n",
        "    X_val[:, :, i]   = scalers[i].transform(X_val[:, :, i])     \n",
        "    \n",
        "for i in range(X_test.shape[2]):\n",
        "    X_test[:, :, i]  = scalers[i].transform(X_test[:, :, i]) "
      ],
      "metadata": {
        "id": "BOOZBX7BhRpR"
      },
      "execution_count": 236,
      "outputs": []
    },
    {
      "cell_type": "code",
      "source": [
        "print(X_train.mean(), X_val.mean(), X_test.mean())\n",
        "print(X_train.min(), X_val.min(), X_test.min())\n",
        "print(X_train.max(), X_val.max(), X_test.max())"
      ],
      "metadata": {
        "colab": {
          "base_uri": "https://localhost:8080/"
        },
        "id": "TbYlRdOGhUKy",
        "outputId": "7fb4c3ac-0d4c-4aee-f0fb-7a76cb732c7c"
      },
      "execution_count": 237,
      "outputs": [
        {
          "output_type": "stream",
          "name": "stdout",
          "text": [
            "0.004228958769664231 0.004157039756496878 0.004641125739653987\n",
            "-1.0 -29.253222821649473 -257.7915643965592\n",
            "1.0000000000000004 15.788878605040534 870.0946728954643\n"
          ]
        }
      ]
    },
    {
      "cell_type": "markdown",
      "source": [
        "# Define Batch size and train,test, val loader"
      ],
      "metadata": {
        "id": "hOl5sDXo_C_C"
      }
    },
    {
      "cell_type": "code",
      "source": [
        "X_train_tensor = torch.tensor(X_train).to(torch.float32)\n",
        "y_train_tensor = torch.tensor(y_train).to(torch.float32)\n",
        "X_val_tensor = torch.tensor(X_val).to(torch.float32)\n",
        "y_val_tensor = torch.tensor(y_val).to(torch.float32)\n",
        "X_test_tensor = torch.tensor(X_test).to(torch.float32)\n",
        "y_test_tensor = torch.tensor(y_test).to(torch.float32)\n",
        "\n",
        "# Cast data to dataloader for more convenience\n",
        "training_set = TensorDataset(X_train_tensor, y_train_tensor)\n",
        "testing_set = TensorDataset(X_test_tensor, y_test_tensor)\n",
        "validation_set = TensorDataset(X_val_tensor, y_val_tensor)\n",
        "\n",
        "train_batch_size = 32\n",
        "val_batch_size = len(validation_set)\n",
        "test_batch_size = len(testing_set)\n",
        "\n",
        "train_loader = DataLoader(training_set, train_batch_size, shuffle=True)\n",
        "val_loader = DataLoader(validation_set, val_batch_size, shuffle=True)\n",
        "test_loader = DataLoader(testing_set, test_batch_size, shuffle=True)"
      ],
      "metadata": {
        "id": "Y1enUccbhXGK"
      },
      "execution_count": 295,
      "outputs": []
    },
    {
      "cell_type": "code",
      "source": [
        "for data, label in train_loader:\n",
        "  print(data)\n",
        "  break"
      ],
      "metadata": {
        "colab": {
          "base_uri": "https://localhost:8080/"
        },
        "id": "LEJ3VJt3huYw",
        "outputId": "7d7cc416-6611-4eae-8d0d-fabd37522881"
      },
      "execution_count": 296,
      "outputs": [
        {
          "output_type": "stream",
          "name": "stdout",
          "text": [
            "tensor([[[-1.8371e-01, -9.8991e-01, -6.4379e-01,  ..., -2.7207e-01,\n",
            "          -5.7702e-01, -4.8424e-02],\n",
            "         [ 4.3500e-01,  8.4550e-01,  6.0096e-01,  ...,  6.5234e-01,\n",
            "           8.3475e-01,  5.3034e-01],\n",
            "         [ 5.1818e-01, -9.0712e-02,  2.4612e-01,  ..., -5.1396e-01,\n",
            "          -5.8687e-01, -1.6997e-01],\n",
            "         ...,\n",
            "         [ 6.6114e-01, -6.2839e-01, -1.0846e-01,  ...,  7.9337e-01,\n",
            "           1.8838e-01,  6.6807e-01],\n",
            "         [ 7.8444e-01,  7.5591e-01,  7.5568e-01,  ...,  7.1241e-01,\n",
            "           7.4664e-01,  7.8056e-01],\n",
            "         [ 8.0712e-01,  6.4566e-01, -8.9064e-02,  ...,  9.6124e-01,\n",
            "           8.4895e-01,  7.6673e-01]],\n",
            "\n",
            "        [[ 5.3878e-01, -2.5734e-01,  1.3643e-01,  ...,  4.0132e-01,\n",
            "           9.5486e-02,  3.0118e-01],\n",
            "         [ 2.6724e-01,  8.0051e-01,  4.7002e-01,  ...,  7.3857e-01,\n",
            "           8.7442e-01,  3.9438e-01],\n",
            "         [ 3.8434e-01, -2.6068e-01,  7.0956e-02,  ..., -1.8468e-01,\n",
            "          -2.7042e-01, -3.9351e-02],\n",
            "         ...,\n",
            "         [ 3.7538e-01, -7.0727e-01, -2.1278e-01,  ...,  7.0252e-01,\n",
            "           1.1601e-01,  4.5425e-01],\n",
            "         [ 7.5686e-01,  7.3857e-01,  7.4450e-01,  ...,  1.0000e+00,\n",
            "           1.0000e+00,  1.0000e+00],\n",
            "         [ 7.4238e-01,  6.2862e-01, -8.3230e-03,  ...,  1.0000e+00,\n",
            "           1.0000e+00,  1.0000e+00]],\n",
            "\n",
            "        [[ 1.9937e-01, -5.5302e-01, -2.6830e-01,  ...,  3.2224e-02,\n",
            "          -1.2541e-01,  2.5314e-01],\n",
            "         [ 3.1115e-01,  7.9907e-01,  4.0096e-01,  ...,  6.2125e-01,\n",
            "           8.7158e-01,  4.4884e-01],\n",
            "         [ 1.3986e-01, -6.4077e-01, -3.0184e-01,  ..., -3.8960e-01,\n",
            "          -3.5129e-01,  7.4139e-03],\n",
            "         ...,\n",
            "         [ 4.9111e-01, -6.7067e-01, -1.6131e-01,  ...,  7.7511e-01,\n",
            "           1.8926e-01,  6.8909e-01],\n",
            "         [ 7.7053e-01,  7.4163e-01,  7.4231e-01,  ...,  7.0799e-01,\n",
            "           7.3796e-01,  7.7033e-01],\n",
            "         [ 7.5018e-01,  6.3456e-01, -6.1368e-02,  ...,  9.4915e-01,\n",
            "           8.5668e-01,  7.8527e-01]],\n",
            "\n",
            "        ...,\n",
            "\n",
            "        [[ 2.5843e-01, -5.9286e-01, -1.9256e-01,  ..., -9.5292e-02,\n",
            "          -4.1906e-01, -2.5057e-01],\n",
            "         [ 2.0976e-01,  7.8357e-01,  3.7614e-01,  ...,  5.7105e-01,\n",
            "           8.2631e-01,  1.0142e-01],\n",
            "         [ 2.7745e-01, -4.4936e-01, -1.7016e-02,  ..., -5.5197e-01,\n",
            "          -5.4271e-01, -3.1417e-01],\n",
            "         ...,\n",
            "         [ 5.3249e-01, -6.3994e-01, -8.3978e-02,  ...,  7.6790e-01,\n",
            "           1.8507e-01,  6.4990e-01],\n",
            "         [ 7.7446e-01,  7.4566e-01,  7.5232e-01,  ...,  7.0242e-01,\n",
            "           7.3553e-01,  7.6499e-01],\n",
            "         [ 7.5793e-01,  6.5965e-01, -2.2002e-02,  ...,  9.4247e-01,\n",
            "           8.5632e-01,  7.7094e-01]],\n",
            "\n",
            "        [[ 2.9757e-01, -2.8566e-01, -1.2040e-01,  ...,  1.9910e-01,\n",
            "           9.8963e-04,  2.3932e-01],\n",
            "         [ 2.4802e-01,  8.0112e-01,  4.0359e-01,  ...,  7.2860e-01,\n",
            "           8.8953e-01,  5.3436e-01],\n",
            "         [ 1.9700e-01, -4.2450e-02, -1.1387e-02,  ..., -3.9244e-01,\n",
            "          -3.0360e-01, -7.9124e-02],\n",
            "         ...,\n",
            "         [ 4.8522e-01, -7.1490e-01, -8.6992e-02,  ...,  7.6948e-01,\n",
            "           1.7681e-01,  6.4491e-01],\n",
            "         [ 7.7336e-01,  7.3273e-01,  7.5216e-01,  ...,  6.8592e-01,\n",
            "           7.1116e-01,  7.3850e-01],\n",
            "         [ 7.5072e-01,  5.8154e-01,  1.3525e-03,  ...,  9.3956e-01,\n",
            "           8.3776e-01,  7.5210e-01]],\n",
            "\n",
            "        [[ 2.7020e-01, -5.0541e-01, -1.4072e-01,  ...,  5.7175e-02,\n",
            "          -1.5579e-01,  1.1058e-01],\n",
            "         [ 3.1142e-01,  8.1436e-01,  4.8280e-01,  ...,  7.5372e-01,\n",
            "           8.8714e-01,  5.5408e-01],\n",
            "         [ 1.5504e-01, -5.1512e-01, -1.1005e-01,  ..., -3.9021e-01,\n",
            "          -3.3702e-01, -9.0524e-02],\n",
            "         ...,\n",
            "         [ 4.6972e-01, -6.6986e-01, -1.3142e-01,  ...,  7.8074e-01,\n",
            "           1.9615e-01,  6.7451e-01],\n",
            "         [ 7.7260e-01,  7.4366e-01,  7.4819e-01,  ...,  7.0125e-01,\n",
            "           7.3075e-01,  7.5937e-01],\n",
            "         [ 7.4656e-01,  6.3155e-01, -3.9322e-02,  ...,  9.5018e-01,\n",
            "           8.6053e-01,  7.7912e-01]]])\n"
          ]
        }
      ]
    },
    {
      "cell_type": "code",
      "source": [
        "data.shape"
      ],
      "metadata": {
        "colab": {
          "base_uri": "https://localhost:8080/"
        },
        "id": "PVMFMBwAjImF",
        "outputId": "1e7c0d29-8248-48f4-8773-815d56ac1e2f"
      },
      "execution_count": 297,
      "outputs": [
        {
          "output_type": "execute_result",
          "data": {
            "text/plain": [
              "torch.Size([32, 16, 4500])"
            ]
          },
          "metadata": {},
          "execution_count": 297
        }
      ]
    },
    {
      "cell_type": "code",
      "source": [
        "device = 'cuda' if torch.cuda.is_available() else 'cpu'"
      ],
      "metadata": {
        "id": "HaiKzvgCjc3_"
      },
      "execution_count": 298,
      "outputs": []
    },
    {
      "cell_type": "markdown",
      "source": [
        "# LSTM model"
      ],
      "metadata": {
        "id": "tMV89z27_HmH"
      }
    },
    {
      "cell_type": "code",
      "source": [
        "class LSTM(nn.Module):\n",
        "    '''\n",
        "    Expected Input Shape: (batch, channels, seq_len, )\n",
        "    '''\n",
        "    def __init__(self, input_dim, hidden_dim, num_layers, output_dim, bidirectional, dropout):\n",
        "        super().__init__()\n",
        "        self.lstm = nn.LSTM(input_dim, \n",
        "                           hidden_dim, \n",
        "                           num_layers=num_layers, \n",
        "                           bidirectional=bidirectional, \n",
        "                           dropout=dropout,\n",
        "                           batch_first=True)\n",
        "        self.fc = nn.Linear(hidden_dim * num_layers, output_dim)\n",
        "        \n",
        "    def forward(self, x):\n",
        "        \n",
        "        #x = [batch size, channels, seq len, ]\n",
        "        out, (hn, cn) = self.lstm(x)\n",
        "        \n",
        "        #out = [batch size, seq len, hidden dim * num directions]        \n",
        "        #hn = [num layers * num directions, batch size, hidden dim]\n",
        "        #cn = [num layers * num directions, batch size, hidden dim]\n",
        "        \n",
        "        #concat the final forward (hidden[-2,:,:]) and backward (hidden[-1,:,:]) hidden layers\n",
        "        hn = torch.cat((hn[-2,:,:], hn[-1,:,:]), dim = 1)\n",
        "        #hn = [batch size, hidden dim * num directions]\n",
        "        \n",
        "        return self.fc(hn)"
      ],
      "metadata": {
        "id": "U0bk5XjGjoMk"
      },
      "execution_count": 299,
      "outputs": []
    },
    {
      "cell_type": "code",
      "source": [
        "#explicitly initialize weights for better learning\n",
        "def initialize_weights(m):\n",
        "    if isinstance(m, nn.Linear):   #if layer is of Linear\n",
        "        nn.init.xavier_normal_(m.weight)\n",
        "        nn.init.zeros_(m.bias)\n",
        "    elif isinstance(m, nn.LSTM):   #if layer is of LSTM\n",
        "        for name, param in m.named_parameters():\n",
        "            if 'bias' in name:\n",
        "                nn.init.zeros_(param)\n",
        "            elif 'weight' in name:\n",
        "                nn.init.orthogonal_(param)  #orthogonal is a common way to initialize weights for RNN/LSTM/GRU"
      ],
      "metadata": {
        "id": "TIOLWwwXpMpw"
      },
      "execution_count": 300,
      "outputs": []
    },
    {
      "cell_type": "code",
      "source": [
        "input_size     = 16 #channel \n",
        "hidden_size    = 8\n",
        "num_layers    = 2  \n",
        "output_size    = 1  #we got 2 classes so we can output only 1 number, 0 for first class and 1 for another class\n",
        "bidirectional = True  #uses bidirectional LSTM\n",
        "dropout       = 0.2 \n",
        "\n",
        "#define the model\n",
        "model = LSTM(input_size, hidden_size, num_layers, output_size, bidirectional, dropout)\n",
        "\n",
        "#send to cuda so we can use the GPU\n",
        "model = model.to(device)  \n",
        "\n",
        "#apply weights\n",
        "model.apply(initialize_weights)"
      ],
      "metadata": {
        "colab": {
          "base_uri": "https://localhost:8080/"
        },
        "id": "khjrPaLwxtfq",
        "outputId": "8a1147e7-1a08-426f-b52e-8415c2a06134"
      },
      "execution_count": 301,
      "outputs": [
        {
          "output_type": "execute_result",
          "data": {
            "text/plain": [
              "LSTM(\n",
              "  (lstm): LSTM(16, 8, num_layers=2, batch_first=True, dropout=0.2, bidirectional=True)\n",
              "  (fc): Linear(in_features=16, out_features=1, bias=True)\n",
              ")"
            ]
          },
          "metadata": {},
          "execution_count": 301
        }
      ]
    },
    {
      "cell_type": "code",
      "source": [
        "def count_parameters(model):\n",
        "    return sum(p.numel() for p in model.parameters() if p.requires_grad)\n",
        "\n",
        "print(f'The model {type(model).__name__} has {count_parameters(model):,} trainable parameters')# Train the model\n"
      ],
      "metadata": {
        "colab": {
          "base_uri": "https://localhost:8080/"
        },
        "id": "UaDuk4jtyDkT",
        "outputId": "125a6f74-9fff-47bc-edb2-89b4e08e28a8"
      },
      "execution_count": 302,
      "outputs": [
        {
          "output_type": "stream",
          "name": "stdout",
          "text": [
            "The model LSTM has 3,345 trainable parameters\n"
          ]
        }
      ]
    },
    {
      "cell_type": "code",
      "source": [
        "import torch.optim as optim\n",
        "\n",
        "num_epochs = 100\n",
        "\n",
        "lr = 0.001\n",
        "\n",
        "optimizer = optim.Adam(model.parameters(), lr=lr) \n",
        "criterion = nn.BCEWithLogitsLoss() "
      ],
      "metadata": {
        "id": "vdx6Dms0yGL7"
      },
      "execution_count": 303,
      "outputs": []
    },
    {
      "cell_type": "code",
      "source": [
        "#for measuring accuracy\n",
        "def binary_accuracy(preds, y):\n",
        "    \"\"\"\n",
        "    Returns accuracy per batch, i.e. if you get 8/10 right, this returns 0.8, NOT 8\n",
        "    \"\"\"\n",
        "    #round predictions to the closest integer\n",
        "    rounded_preds = torch.round(torch.sigmoid(preds))\n",
        "    correct = (rounded_preds == y).float() #convert into float for division \n",
        "    acc = correct.sum() / len(correct)\n",
        "    return acc\n"
      ],
      "metadata": {
        "id": "BV4d52uyyYlE"
      },
      "execution_count": 304,
      "outputs": []
    },
    {
      "cell_type": "code",
      "source": [
        "torch.sigmoid(torch.tensor([[-1.1193],\n",
        "        [-1.7878]]) )"
      ],
      "metadata": {
        "colab": {
          "base_uri": "https://localhost:8080/"
        },
        "id": "HMJk3mnr2xOH",
        "outputId": "d6058fbb-4bb5-4297-d395-41895e4c06c0"
      },
      "execution_count": 305,
      "outputs": [
        {
          "output_type": "execute_result",
          "data": {
            "text/plain": [
              "tensor([[0.2461],\n",
              "        [0.1433]])"
            ]
          },
          "metadata": {},
          "execution_count": 305
        }
      ]
    },
    {
      "cell_type": "code",
      "source": [
        "#for timing the epochs\n",
        "def epoch_time(start_time, end_time):\n",
        "    elapsed_time = end_time - start_time\n",
        "    elapsed_mins = int(elapsed_time / 60)\n",
        "    elapsed_secs = int(elapsed_time - (elapsed_mins * 60))\n",
        "    return elapsed_mins, elapsed_secs"
      ],
      "metadata": {
        "id": "lqDIAbvRylTR"
      },
      "execution_count": 306,
      "outputs": []
    },
    {
      "cell_type": "code",
      "source": [
        "def train(model, train_loader,  optimizer, criterion):\n",
        "\n",
        "    model.train()\n",
        "    epoch_train_loss = 0\n",
        "    epoch_train_acc  = 0\n",
        "\n",
        "    for i, batch in enumerate(train_loader):\n",
        "    \n",
        "        # data shape: (batch, channel, seq len)\n",
        "        data  = batch[0].to(device).permute(0, 2, 1)    \n",
        "        # data shape: (batch, seq len, channel)\n",
        "\n",
        "        # label shape: (batch, 1)\n",
        "        label = batch[1].to(device).reshape(-1, 1)\n",
        "        \n",
        "        #predict\n",
        "        output = model(data).reshape(-1, 1)  #output shape: (batch, 1)\n",
        "        loss   = criterion(output, label)\n",
        "        \n",
        "        #backprop\n",
        "        optimizer.zero_grad()\n",
        "        loss.backward()\n",
        "        optimizer.step()\n",
        "        \n",
        "        #for visualizing\n",
        "        epoch_train_loss += loss.item()\n",
        "        acc = binary_accuracy(output, label)\n",
        "        epoch_train_acc += acc.item()\n",
        "        \n",
        "    epoch_train_loss = epoch_train_loss / len(train_loader)\n",
        "    epoch_train_acc  = epoch_train_acc  / len(train_loader)\n",
        "    \n",
        "    return epoch_train_loss, epoch_train_acc\n"
      ],
      "metadata": {
        "id": "USKSyPIIyhdj"
      },
      "execution_count": 307,
      "outputs": []
    },
    {
      "cell_type": "code",
      "source": [
        "def evaluate(model, val_loader, criterion):\n",
        "\n",
        "    model.eval()\n",
        "    epoch_val_loss = 0\n",
        "    epoch_val_acc  = 0\n",
        "\n",
        "    with torch.no_grad():\n",
        "        for i, batch in enumerate(val_loader):\n",
        "            \n",
        "            # data shape: (batch, channel, seq len)\n",
        "            data  = batch[0].to(device).permute(0, 2, 1)   \n",
        "            label = batch[1].to(device).reshape(-1, 1)\n",
        "            \n",
        "            #predict\n",
        "            output = model(data).reshape(-1, 1)\n",
        "            loss   = criterion(output, label)\n",
        "            \n",
        "            #for visualizing\n",
        "            epoch_val_loss += loss.item()\n",
        "            acc = binary_accuracy(output, label)\n",
        "            epoch_val_acc += acc.item()\n",
        "    \n",
        "    epoch_val_loss =  epoch_val_loss / len(val_loader)\n",
        "    epoch_val_acc  =  epoch_val_acc  / len(val_loader)\n",
        "    \n",
        "    return epoch_val_loss, epoch_val_acc\n"
      ],
      "metadata": {
        "id": "DxaF5O8YymHK"
      },
      "execution_count": 308,
      "outputs": []
    },
    {
      "cell_type": "code",
      "source": [
        "import time"
      ],
      "metadata": {
        "id": "EDCgEWqTyrci"
      },
      "execution_count": 309,
      "outputs": []
    },
    {
      "cell_type": "code",
      "source": [
        "best_valid_loss = float('inf')\n",
        "\n",
        "train_losses = []\n",
        "train_accs   = []\n",
        "valid_losses = []\n",
        "valid_accs   = []\n",
        "\n",
        "for epoch in range(num_epochs):\n",
        "    \n",
        "    start_time = time.time()\n",
        "\n",
        "    train_loss, train_acc = train(model, train_loader, optimizer, criterion)\n",
        "    print('EVAL')\n",
        "    valid_loss, valid_acc = evaluate(model, val_loader, criterion)\n",
        "    \n",
        "    #for plotting\n",
        "    train_losses.append(train_loss)\n",
        "    train_accs  .append(train_acc)\n",
        "    valid_losses.append(valid_loss)\n",
        "    valid_accs  .append(valid_acc)\n",
        "    \n",
        "    if valid_loss < best_valid_loss:\n",
        "        best_valid_loss = valid_loss\n",
        "        torch.save(model.state_dict(), './models/StressLSTMv2.pt')\n",
        "        \n",
        "    end_time = time.time()\n",
        "    epoch_mins, epoch_secs = epoch_time(start_time, end_time)\n",
        "    \n",
        "    print(f'Epoch: {epoch+1:02} | Epoch Time: {epoch_mins}m {epoch_secs}s')\n",
        "    print(f'\\t Train Loss: {train_loss:.3f} | Train Acc: {train_acc*100:.2f}%')\n",
        "    print(f'\\t Val. Loss: {valid_loss:.3f}  |  Val. Acc: {valid_acc*100:.2f}%')\n"
      ],
      "metadata": {
        "colab": {
          "base_uri": "https://localhost:8080/"
        },
        "id": "lfX4uH96yoCI",
        "outputId": "084d8d10-10e8-48e1-9bc9-5c1fdeac1b74"
      },
      "execution_count": 310,
      "outputs": [
        {
          "output_type": "stream",
          "name": "stdout",
          "text": [
            "EVAL\n",
            "Epoch: 01 | Epoch Time: 0m 0s\n",
            "\t Train Loss: 0.693 | Train Acc: 52.88%\n",
            "\t Val. Loss: 0.689  |  Val. Acc: 64.29%\n",
            "EVAL\n",
            "Epoch: 02 | Epoch Time: 0m 0s\n",
            "\t Train Loss: 0.684 | Train Acc: 60.10%\n",
            "\t Val. Loss: 0.685  |  Val. Acc: 57.14%\n",
            "EVAL\n",
            "Epoch: 03 | Epoch Time: 0m 0s\n",
            "\t Train Loss: 0.678 | Train Acc: 62.86%\n",
            "\t Val. Loss: 0.682  |  Val. Acc: 57.14%\n",
            "EVAL\n",
            "Epoch: 04 | Epoch Time: 0m 0s\n",
            "\t Train Loss: 0.673 | Train Acc: 64.00%\n",
            "\t Val. Loss: 0.681  |  Val. Acc: 57.14%\n",
            "EVAL\n",
            "Epoch: 05 | Epoch Time: 0m 0s\n",
            "\t Train Loss: 0.669 | Train Acc: 63.46%\n",
            "\t Val. Loss: 0.680  |  Val. Acc: 57.14%\n",
            "EVAL\n",
            "Epoch: 06 | Epoch Time: 0m 0s\n",
            "\t Train Loss: 0.661 | Train Acc: 64.54%\n",
            "\t Val. Loss: 0.680  |  Val. Acc: 57.14%\n",
            "EVAL\n",
            "Epoch: 07 | Epoch Time: 0m 0s\n",
            "\t Train Loss: 0.662 | Train Acc: 63.46%\n",
            "\t Val. Loss: 0.680  |  Val. Acc: 57.14%\n",
            "EVAL\n",
            "Epoch: 08 | Epoch Time: 0m 0s\n",
            "\t Train Loss: 0.656 | Train Acc: 64.18%\n",
            "\t Val. Loss: 0.681  |  Val. Acc: 57.14%\n",
            "EVAL\n",
            "Epoch: 09 | Epoch Time: 0m 0s\n",
            "\t Train Loss: 0.658 | Train Acc: 64.00%\n",
            "\t Val. Loss: 0.683  |  Val. Acc: 57.14%\n",
            "EVAL\n",
            "Epoch: 10 | Epoch Time: 0m 0s\n",
            "\t Train Loss: 0.656 | Train Acc: 63.64%\n",
            "\t Val. Loss: 0.685  |  Val. Acc: 57.14%\n",
            "EVAL\n",
            "Epoch: 11 | Epoch Time: 0m 0s\n",
            "\t Train Loss: 0.658 | Train Acc: 63.28%\n",
            "\t Val. Loss: 0.687  |  Val. Acc: 57.14%\n",
            "EVAL\n",
            "Epoch: 12 | Epoch Time: 0m 0s\n",
            "\t Train Loss: 0.653 | Train Acc: 64.18%\n",
            "\t Val. Loss: 0.688  |  Val. Acc: 57.14%\n",
            "EVAL\n",
            "Epoch: 13 | Epoch Time: 0m 0s\n",
            "\t Train Loss: 0.656 | Train Acc: 63.64%\n",
            "\t Val. Loss: 0.688  |  Val. Acc: 57.14%\n",
            "EVAL\n",
            "Epoch: 14 | Epoch Time: 0m 0s\n",
            "\t Train Loss: 0.654 | Train Acc: 63.64%\n",
            "\t Val. Loss: 0.689  |  Val. Acc: 57.14%\n",
            "EVAL\n",
            "Epoch: 15 | Epoch Time: 0m 0s\n",
            "\t Train Loss: 0.651 | Train Acc: 64.00%\n",
            "\t Val. Loss: 0.688  |  Val. Acc: 57.14%\n",
            "EVAL\n",
            "Epoch: 16 | Epoch Time: 0m 0s\n",
            "\t Train Loss: 0.647 | Train Acc: 64.54%\n",
            "\t Val. Loss: 0.688  |  Val. Acc: 57.14%\n",
            "EVAL\n",
            "Epoch: 17 | Epoch Time: 0m 0s\n",
            "\t Train Loss: 0.651 | Train Acc: 63.82%\n",
            "\t Val. Loss: 0.689  |  Val. Acc: 57.14%\n",
            "EVAL\n",
            "Epoch: 18 | Epoch Time: 0m 0s\n",
            "\t Train Loss: 0.652 | Train Acc: 63.28%\n",
            "\t Val. Loss: 0.689  |  Val. Acc: 57.14%\n",
            "EVAL\n",
            "Epoch: 19 | Epoch Time: 0m 0s\n",
            "\t Train Loss: 0.647 | Train Acc: 64.54%\n",
            "\t Val. Loss: 0.689  |  Val. Acc: 57.14%\n",
            "EVAL\n",
            "Epoch: 20 | Epoch Time: 0m 0s\n",
            "\t Train Loss: 0.647 | Train Acc: 63.82%\n",
            "\t Val. Loss: 0.689  |  Val. Acc: 57.14%\n",
            "EVAL\n",
            "Epoch: 21 | Epoch Time: 0m 0s\n",
            "\t Train Loss: 0.645 | Train Acc: 64.18%\n",
            "\t Val. Loss: 0.690  |  Val. Acc: 57.14%\n",
            "EVAL\n",
            "Epoch: 22 | Epoch Time: 0m 0s\n",
            "\t Train Loss: 0.644 | Train Acc: 64.72%\n",
            "\t Val. Loss: 0.689  |  Val. Acc: 57.14%\n",
            "EVAL\n",
            "Epoch: 23 | Epoch Time: 0m 0s\n",
            "\t Train Loss: 0.651 | Train Acc: 63.46%\n",
            "\t Val. Loss: 0.691  |  Val. Acc: 57.14%\n",
            "EVAL\n",
            "Epoch: 24 | Epoch Time: 0m 0s\n",
            "\t Train Loss: 0.645 | Train Acc: 64.00%\n",
            "\t Val. Loss: 0.691  |  Val. Acc: 57.14%\n",
            "EVAL\n",
            "Epoch: 25 | Epoch Time: 0m 0s\n",
            "\t Train Loss: 0.642 | Train Acc: 64.36%\n",
            "\t Val. Loss: 0.691  |  Val. Acc: 57.14%\n",
            "EVAL\n",
            "Epoch: 26 | Epoch Time: 0m 0s\n",
            "\t Train Loss: 0.647 | Train Acc: 63.46%\n",
            "\t Val. Loss: 0.692  |  Val. Acc: 57.14%\n",
            "EVAL\n",
            "Epoch: 27 | Epoch Time: 0m 0s\n",
            "\t Train Loss: 0.646 | Train Acc: 63.28%\n",
            "\t Val. Loss: 0.693  |  Val. Acc: 57.14%\n",
            "EVAL\n",
            "Epoch: 28 | Epoch Time: 0m 0s\n",
            "\t Train Loss: 0.640 | Train Acc: 64.00%\n",
            "\t Val. Loss: 0.693  |  Val. Acc: 57.14%\n",
            "EVAL\n",
            "Epoch: 29 | Epoch Time: 0m 0s\n",
            "\t Train Loss: 0.640 | Train Acc: 64.36%\n",
            "\t Val. Loss: 0.693  |  Val. Acc: 57.14%\n",
            "EVAL\n",
            "Epoch: 30 | Epoch Time: 0m 0s\n",
            "\t Train Loss: 0.637 | Train Acc: 64.00%\n",
            "\t Val. Loss: 0.694  |  Val. Acc: 57.14%\n",
            "EVAL\n",
            "Epoch: 31 | Epoch Time: 0m 0s\n",
            "\t Train Loss: 0.637 | Train Acc: 64.00%\n",
            "\t Val. Loss: 0.694  |  Val. Acc: 57.14%\n",
            "EVAL\n",
            "Epoch: 32 | Epoch Time: 0m 0s\n",
            "\t Train Loss: 0.640 | Train Acc: 63.64%\n",
            "\t Val. Loss: 0.697  |  Val. Acc: 57.14%\n",
            "EVAL\n",
            "Epoch: 33 | Epoch Time: 0m 0s\n",
            "\t Train Loss: 0.633 | Train Acc: 64.00%\n",
            "\t Val. Loss: 0.697  |  Val. Acc: 57.14%\n",
            "EVAL\n",
            "Epoch: 34 | Epoch Time: 0m 0s\n",
            "\t Train Loss: 0.634 | Train Acc: 64.18%\n",
            "\t Val. Loss: 0.696  |  Val. Acc: 57.14%\n",
            "EVAL\n",
            "Epoch: 35 | Epoch Time: 0m 0s\n",
            "\t Train Loss: 0.630 | Train Acc: 64.72%\n",
            "\t Val. Loss: 0.695  |  Val. Acc: 57.14%\n",
            "EVAL\n",
            "Epoch: 36 | Epoch Time: 0m 0s\n",
            "\t Train Loss: 0.625 | Train Acc: 65.08%\n",
            "\t Val. Loss: 0.697  |  Val. Acc: 57.14%\n",
            "EVAL\n",
            "Epoch: 37 | Epoch Time: 0m 0s\n",
            "\t Train Loss: 0.628 | Train Acc: 64.00%\n",
            "\t Val. Loss: 0.698  |  Val. Acc: 57.14%\n",
            "EVAL\n",
            "Epoch: 38 | Epoch Time: 0m 0s\n",
            "\t Train Loss: 0.625 | Train Acc: 63.82%\n",
            "\t Val. Loss: 0.700  |  Val. Acc: 57.14%\n",
            "EVAL\n",
            "Epoch: 39 | Epoch Time: 0m 0s\n",
            "\t Train Loss: 0.626 | Train Acc: 63.64%\n",
            "\t Val. Loss: 0.702  |  Val. Acc: 57.14%\n",
            "EVAL\n",
            "Epoch: 40 | Epoch Time: 0m 0s\n",
            "\t Train Loss: 0.618 | Train Acc: 64.00%\n",
            "\t Val. Loss: 0.700  |  Val. Acc: 57.14%\n",
            "EVAL\n",
            "Epoch: 41 | Epoch Time: 0m 0s\n",
            "\t Train Loss: 0.609 | Train Acc: 64.54%\n",
            "\t Val. Loss: 0.694  |  Val. Acc: 57.14%\n",
            "EVAL\n",
            "Epoch: 42 | Epoch Time: 0m 0s\n",
            "\t Train Loss: 0.611 | Train Acc: 64.54%\n",
            "\t Val. Loss: 0.688  |  Val. Acc: 57.14%\n",
            "EVAL\n",
            "Epoch: 43 | Epoch Time: 0m 0s\n",
            "\t Train Loss: 0.615 | Train Acc: 63.28%\n",
            "\t Val. Loss: 0.683  |  Val. Acc: 57.14%\n",
            "EVAL\n",
            "Epoch: 44 | Epoch Time: 0m 0s\n",
            "\t Train Loss: 0.611 | Train Acc: 64.24%\n",
            "\t Val. Loss: 0.677  |  Val. Acc: 57.14%\n",
            "EVAL\n",
            "Epoch: 45 | Epoch Time: 0m 0s\n",
            "\t Train Loss: 0.600 | Train Acc: 64.60%\n",
            "\t Val. Loss: 0.671  |  Val. Acc: 57.14%\n",
            "EVAL\n",
            "Epoch: 46 | Epoch Time: 0m 0s\n",
            "\t Train Loss: 0.600 | Train Acc: 65.14%\n",
            "\t Val. Loss: 0.668  |  Val. Acc: 57.14%\n",
            "EVAL\n",
            "Epoch: 47 | Epoch Time: 0m 0s\n",
            "\t Train Loss: 0.593 | Train Acc: 65.38%\n",
            "\t Val. Loss: 0.659  |  Val. Acc: 57.14%\n",
            "EVAL\n",
            "Epoch: 48 | Epoch Time: 0m 0s\n",
            "\t Train Loss: 0.591 | Train Acc: 63.82%\n",
            "\t Val. Loss: 0.659  |  Val. Acc: 57.14%\n",
            "EVAL\n",
            "Epoch: 49 | Epoch Time: 0m 0s\n",
            "\t Train Loss: 0.587 | Train Acc: 65.75%\n",
            "\t Val. Loss: 0.659  |  Val. Acc: 57.14%\n",
            "EVAL\n",
            "Epoch: 50 | Epoch Time: 0m 0s\n",
            "\t Train Loss: 0.580 | Train Acc: 66.95%\n",
            "\t Val. Loss: 0.655  |  Val. Acc: 57.14%\n",
            "EVAL\n",
            "Epoch: 51 | Epoch Time: 0m 0s\n",
            "\t Train Loss: 0.574 | Train Acc: 67.67%\n",
            "\t Val. Loss: 0.658  |  Val. Acc: 57.14%\n",
            "EVAL\n",
            "Epoch: 52 | Epoch Time: 0m 0s\n",
            "\t Train Loss: 0.575 | Train Acc: 65.81%\n",
            "\t Val. Loss: 0.663  |  Val. Acc: 57.14%\n",
            "EVAL\n",
            "Epoch: 53 | Epoch Time: 0m 0s\n",
            "\t Train Loss: 0.563 | Train Acc: 68.69%\n",
            "\t Val. Loss: 0.666  |  Val. Acc: 50.00%\n",
            "EVAL\n",
            "Epoch: 54 | Epoch Time: 0m 0s\n",
            "\t Train Loss: 0.564 | Train Acc: 66.53%\n",
            "\t Val. Loss: 0.674  |  Val. Acc: 57.14%\n",
            "EVAL\n",
            "Epoch: 55 | Epoch Time: 0m 0s\n",
            "\t Train Loss: 0.552 | Train Acc: 69.23%\n",
            "\t Val. Loss: 0.673  |  Val. Acc: 50.00%\n",
            "EVAL\n",
            "Epoch: 56 | Epoch Time: 0m 0s\n",
            "\t Train Loss: 0.556 | Train Acc: 67.37%\n",
            "\t Val. Loss: 0.686  |  Val. Acc: 50.00%\n",
            "EVAL\n",
            "Epoch: 57 | Epoch Time: 0m 0s\n",
            "\t Train Loss: 0.549 | Train Acc: 70.01%\n",
            "\t Val. Loss: 0.680  |  Val. Acc: 50.00%\n",
            "EVAL\n",
            "Epoch: 58 | Epoch Time: 0m 0s\n",
            "\t Train Loss: 0.544 | Train Acc: 69.83%\n",
            "\t Val. Loss: 0.704  |  Val. Acc: 50.00%\n",
            "EVAL\n",
            "Epoch: 59 | Epoch Time: 0m 0s\n",
            "\t Train Loss: 0.558 | Train Acc: 65.38%\n",
            "\t Val. Loss: 0.735  |  Val. Acc: 50.00%\n",
            "EVAL\n",
            "Epoch: 60 | Epoch Time: 0m 0s\n",
            "\t Train Loss: 0.543 | Train Acc: 70.43%\n",
            "\t Val. Loss: 0.682  |  Val. Acc: 57.14%\n",
            "EVAL\n",
            "Epoch: 61 | Epoch Time: 0m 0s\n",
            "\t Train Loss: 0.540 | Train Acc: 64.96%\n",
            "\t Val. Loss: 0.684  |  Val. Acc: 57.14%\n",
            "EVAL\n",
            "Epoch: 62 | Epoch Time: 0m 0s\n",
            "\t Train Loss: 0.534 | Train Acc: 66.35%\n",
            "\t Val. Loss: 0.712  |  Val. Acc: 50.00%\n",
            "EVAL\n",
            "Epoch: 63 | Epoch Time: 0m 0s\n",
            "\t Train Loss: 0.529 | Train Acc: 72.72%\n",
            "\t Val. Loss: 0.724  |  Val. Acc: 50.00%\n",
            "EVAL\n",
            "Epoch: 64 | Epoch Time: 0m 0s\n",
            "\t Train Loss: 0.535 | Train Acc: 67.91%\n",
            "\t Val. Loss: 0.729  |  Val. Acc: 50.00%\n",
            "EVAL\n",
            "Epoch: 65 | Epoch Time: 0m 0s\n",
            "\t Train Loss: 0.518 | Train Acc: 69.29%\n",
            "\t Val. Loss: 0.693  |  Val. Acc: 64.29%\n",
            "EVAL\n",
            "Epoch: 66 | Epoch Time: 0m 0s\n",
            "\t Train Loss: 0.515 | Train Acc: 66.59%\n",
            "\t Val. Loss: 0.691  |  Val. Acc: 50.00%\n",
            "EVAL\n",
            "Epoch: 67 | Epoch Time: 0m 0s\n",
            "\t Train Loss: 0.515 | Train Acc: 68.27%\n",
            "\t Val. Loss: 0.760  |  Val. Acc: 57.14%\n",
            "EVAL\n",
            "Epoch: 68 | Epoch Time: 0m 0s\n",
            "\t Train Loss: 0.505 | Train Acc: 69.71%\n",
            "\t Val. Loss: 0.763  |  Val. Acc: 57.14%\n",
            "EVAL\n",
            "Epoch: 69 | Epoch Time: 0m 0s\n",
            "\t Train Loss: 0.510 | Train Acc: 68.09%\n",
            "\t Val. Loss: 0.702  |  Val. Acc: 64.29%\n",
            "EVAL\n",
            "Epoch: 70 | Epoch Time: 0m 0s\n",
            "\t Train Loss: 0.494 | Train Acc: 71.39%\n",
            "\t Val. Loss: 0.702  |  Val. Acc: 64.29%\n",
            "EVAL\n",
            "Epoch: 71 | Epoch Time: 0m 0s\n",
            "\t Train Loss: 0.492 | Train Acc: 72.36%\n",
            "\t Val. Loss: 0.733  |  Val. Acc: 57.14%\n",
            "EVAL\n",
            "Epoch: 72 | Epoch Time: 0m 0s\n",
            "\t Train Loss: 0.497 | Train Acc: 70.49%\n",
            "\t Val. Loss: 0.704  |  Val. Acc: 57.14%\n",
            "EVAL\n",
            "Epoch: 73 | Epoch Time: 0m 0s\n",
            "\t Train Loss: 0.490 | Train Acc: 70.07%\n",
            "\t Val. Loss: 0.673  |  Val. Acc: 57.14%\n",
            "EVAL\n",
            "Epoch: 74 | Epoch Time: 0m 0s\n",
            "\t Train Loss: 0.481 | Train Acc: 74.70%\n",
            "\t Val. Loss: 0.679  |  Val. Acc: 57.14%\n",
            "EVAL\n",
            "Epoch: 75 | Epoch Time: 0m 0s\n",
            "\t Train Loss: 0.476 | Train Acc: 71.21%\n",
            "\t Val. Loss: 0.759  |  Val. Acc: 50.00%\n",
            "EVAL\n",
            "Epoch: 76 | Epoch Time: 0m 0s\n",
            "\t Train Loss: 0.475 | Train Acc: 72.36%\n",
            "\t Val. Loss: 0.708  |  Val. Acc: 50.00%\n",
            "EVAL\n",
            "Epoch: 77 | Epoch Time: 0m 0s\n",
            "\t Train Loss: 0.466 | Train Acc: 74.76%\n",
            "\t Val. Loss: 0.705  |  Val. Acc: 57.14%\n",
            "EVAL\n",
            "Epoch: 78 | Epoch Time: 0m 0s\n",
            "\t Train Loss: 0.467 | Train Acc: 75.90%\n",
            "\t Val. Loss: 0.664  |  Val. Acc: 57.14%\n",
            "EVAL\n",
            "Epoch: 79 | Epoch Time: 0m 0s\n",
            "\t Train Loss: 0.454 | Train Acc: 79.57%\n",
            "\t Val. Loss: 0.679  |  Val. Acc: 50.00%\n",
            "EVAL\n",
            "Epoch: 80 | Epoch Time: 0m 0s\n",
            "\t Train Loss: 0.473 | Train Acc: 75.72%\n",
            "\t Val. Loss: 0.738  |  Val. Acc: 35.71%\n",
            "EVAL\n",
            "Epoch: 81 | Epoch Time: 0m 0s\n",
            "\t Train Loss: 0.443 | Train Acc: 78.25%\n",
            "\t Val. Loss: 0.707  |  Val. Acc: 50.00%\n",
            "EVAL\n",
            "Epoch: 82 | Epoch Time: 0m 0s\n",
            "\t Train Loss: 0.428 | Train Acc: 78.43%\n",
            "\t Val. Loss: 0.716  |  Val. Acc: 71.43%\n",
            "EVAL\n",
            "Epoch: 83 | Epoch Time: 0m 0s\n",
            "\t Train Loss: 0.430 | Train Acc: 80.95%\n",
            "\t Val. Loss: 0.713  |  Val. Acc: 50.00%\n",
            "EVAL\n",
            "Epoch: 84 | Epoch Time: 0m 0s\n",
            "\t Train Loss: 0.413 | Train Acc: 82.09%\n",
            "\t Val. Loss: 0.737  |  Val. Acc: 50.00%\n",
            "EVAL\n",
            "Epoch: 85 | Epoch Time: 0m 0s\n",
            "\t Train Loss: 0.405 | Train Acc: 82.87%\n",
            "\t Val. Loss: 0.680  |  Val. Acc: 57.14%\n",
            "EVAL\n",
            "Epoch: 86 | Epoch Time: 0m 0s\n",
            "\t Train Loss: 0.398 | Train Acc: 86.36%\n",
            "\t Val. Loss: 0.729  |  Val. Acc: 50.00%\n",
            "EVAL\n",
            "Epoch: 87 | Epoch Time: 0m 0s\n",
            "\t Train Loss: 0.404 | Train Acc: 82.27%\n",
            "\t Val. Loss: 0.780  |  Val. Acc: 50.00%\n",
            "EVAL\n",
            "Epoch: 88 | Epoch Time: 0m 0s\n",
            "\t Train Loss: 0.377 | Train Acc: 86.00%\n",
            "\t Val. Loss: 0.708  |  Val. Acc: 57.14%\n",
            "EVAL\n",
            "Epoch: 89 | Epoch Time: 0m 0s\n",
            "\t Train Loss: 0.365 | Train Acc: 85.64%\n",
            "\t Val. Loss: 0.707  |  Val. Acc: 57.14%\n",
            "EVAL\n",
            "Epoch: 90 | Epoch Time: 0m 0s\n",
            "\t Train Loss: 0.351 | Train Acc: 87.92%\n",
            "\t Val. Loss: 0.726  |  Val. Acc: 50.00%\n",
            "EVAL\n",
            "Epoch: 91 | Epoch Time: 0m 0s\n",
            "\t Train Loss: 0.347 | Train Acc: 85.40%\n",
            "\t Val. Loss: 0.814  |  Val. Acc: 50.00%\n",
            "EVAL\n",
            "Epoch: 92 | Epoch Time: 0m 0s\n",
            "\t Train Loss: 0.331 | Train Acc: 85.76%\n",
            "\t Val. Loss: 0.734  |  Val. Acc: 57.14%\n",
            "EVAL\n",
            "Epoch: 93 | Epoch Time: 0m 0s\n",
            "\t Train Loss: 0.359 | Train Acc: 86.24%\n",
            "\t Val. Loss: 0.771  |  Val. Acc: 50.00%\n",
            "EVAL\n",
            "Epoch: 94 | Epoch Time: 0m 0s\n",
            "\t Train Loss: 0.366 | Train Acc: 86.24%\n",
            "\t Val. Loss: 0.727  |  Val. Acc: 57.14%\n",
            "EVAL\n",
            "Epoch: 95 | Epoch Time: 0m 0s\n",
            "\t Train Loss: 0.347 | Train Acc: 84.07%\n",
            "\t Val. Loss: 0.742  |  Val. Acc: 50.00%\n",
            "EVAL\n",
            "Epoch: 96 | Epoch Time: 0m 0s\n",
            "\t Train Loss: 0.321 | Train Acc: 87.56%\n",
            "\t Val. Loss: 0.746  |  Val. Acc: 57.14%\n",
            "EVAL\n",
            "Epoch: 97 | Epoch Time: 0m 0s\n",
            "\t Train Loss: 0.335 | Train Acc: 85.10%\n",
            "\t Val. Loss: 0.770  |  Val. Acc: 50.00%\n",
            "EVAL\n",
            "Epoch: 98 | Epoch Time: 0m 0s\n",
            "\t Train Loss: 0.309 | Train Acc: 86.78%\n",
            "\t Val. Loss: 0.735  |  Val. Acc: 50.00%\n",
            "EVAL\n",
            "Epoch: 99 | Epoch Time: 0m 0s\n",
            "\t Train Loss: 0.321 | Train Acc: 89.66%\n",
            "\t Val. Loss: 0.710  |  Val. Acc: 57.14%\n",
            "EVAL\n",
            "Epoch: 100 | Epoch Time: 0m 0s\n",
            "\t Train Loss: 0.310 | Train Acc: 89.30%\n",
            "\t Val. Loss: 0.738  |  Val. Acc: 57.14%\n"
          ]
        }
      ]
    },
    {
      "cell_type": "code",
      "source": [
        "train_accs"
      ],
      "metadata": {
        "colab": {
          "base_uri": "https://localhost:8080/"
        },
        "id": "gOaNhT9B1zxT",
        "outputId": "114d6312-1089-4419-b5ba-e93a2cdeae3a"
      },
      "execution_count": 292,
      "outputs": [
        {
          "output_type": "execute_result",
          "data": {
            "text/plain": [
              "[0.5960000133514405,\n",
              " 0.6480000126361847,\n",
              " 0.6480000126361847,\n",
              " 0.6480000144243241,\n",
              " 0.6360000145435333,\n",
              " 0.6360000133514404,\n",
              " 0.6480000108480454,\n",
              " 0.6360000115633011,\n",
              " 0.6360000115633011,\n",
              " 0.6360000133514404,\n",
              " 0.6480000150203705,\n",
              " 0.6360000133514404,\n",
              " 0.6480000102519989,\n",
              " 0.6360000145435333,\n",
              " 0.6360000133514404,\n",
              " 0.6560000121593476,\n",
              " 0.6680000114440918,\n",
              " 0.6280000132322311,\n",
              " 0.6560000109672547,\n",
              " 0.6480000150203705,\n",
              " 0.6720000135898591,\n",
              " 0.688000014424324,\n",
              " 0.6560000103712081,\n",
              " 0.688000014424324,\n",
              " 0.7200000101327896,\n",
              " 0.7520000088214874,\n",
              " 0.6760000145435333,\n",
              " 0.7200000125169754,\n",
              " 0.6920000100135804,\n",
              " 0.7360000109672546,\n",
              " 0.7200000131130219,\n",
              " 0.7080000102519989,\n",
              " 0.7360000109672546,\n",
              " 0.708000014424324,\n",
              " 0.7280000108480453,\n",
              " 0.7080000150203705,\n",
              " 0.7440000116825104,\n",
              " 0.7320000106096267,\n",
              " 0.7440000122785568,\n",
              " 0.740000010728836,\n",
              " 0.7240000122785568,\n",
              " 0.8000000107288361,\n",
              " 0.7760000109672547,\n",
              " 0.7800000083446502,\n",
              " 0.7720000112056732,\n",
              " 0.7920000100135803,\n",
              " 0.8000000089406967,\n",
              " 0.8120000088214874,\n",
              " 0.796000006198883,\n",
              " 0.8480000078678132]"
            ]
          },
          "metadata": {},
          "execution_count": 292
        }
      ]
    },
    {
      "cell_type": "code",
      "source": [
        "import matplotlib.pyplot as plt\n",
        "fig = plt.figure(figsize=(10, 6))\n",
        "ax  = fig.add_subplot(1, 1, 1)\n",
        "ax.plot(train_losses, label = 'train loss')\n",
        "ax.plot(valid_losses, label = 'valid loss')\n",
        "plt.legend()\n",
        "ax.set_xlabel('updates')\n",
        "ax.set_ylabel('loss')"
      ],
      "metadata": {
        "colab": {
          "base_uri": "https://localhost:8080/",
          "height": 406
        },
        "id": "WfoWbyWnyp_K",
        "outputId": "b2a66067-791a-45a8-88ec-a7b0389c65a8"
      },
      "execution_count": 293,
      "outputs": [
        {
          "output_type": "execute_result",
          "data": {
            "text/plain": [
              "Text(0, 0.5, 'loss')"
            ]
          },
          "metadata": {},
          "execution_count": 293
        },
        {
          "output_type": "display_data",
          "data": {
            "text/plain": [
              "<Figure size 720x432 with 1 Axes>"
            ],
            "image/png": "[encoded data removed]"
          },
          "metadata": {
            "needs_background": "light"
          }
        }
      ]
    },
    {
      "cell_type": "code",
      "source": [
        "fig = plt.figure(figsize=(10, 6))\n",
        "ax  = fig.add_subplot(1, 1, 1)\n",
        "ax.plot(train_accs, label = 'train acc')\n",
        "ax.plot(valid_accs, label = 'valid acc')\n",
        "plt.legend()\n",
        "ax.set_xlabel('updates')\n",
        "ax.set_ylabel('acc')"
      ],
      "metadata": {
        "id": "mAgd8-Pt35gu",
        "colab": {
          "base_uri": "https://localhost:8080/",
          "height": 406
        },
        "outputId": "c10218d6-ffd7-4567-a447-0721ff8acf46"
      },
      "execution_count": 311,
      "outputs": [
        {
          "output_type": "execute_result",
          "data": {
            "text/plain": [
              "Text(0, 0.5, 'acc')"
            ]
          },
          "metadata": {},
          "execution_count": 311
        },
        {
          "output_type": "display_data",
          "data": {
            "text/plain": [
              "<Figure size 720x432 with 1 Axes>"
            ],
            "image/png": "[encoded data removed]"
          },
          "metadata": {
            "needs_background": "light"
          }
        }
      ]
    },
    {
      "cell_type": "code",
      "source": [
        "model.load_state_dict(torch.load('./models/StressLSTMv2.pt'))\n",
        "test_loss, test_acc = evaluate(model, test_loader, criterion)\n",
        "\n",
        "print(f'Test Loss: {test_loss:.3f} | Test Acc: {test_acc*100:.2f}%')"
      ],
      "metadata": {
        "colab": {
          "base_uri": "https://localhost:8080/"
        },
        "id": "0bb5mRKYXN9l",
        "outputId": "4a249db0-5957-4063-8802-d4731b374545"
      },
      "execution_count": 312,
      "outputs": [
        {
          "output_type": "stream",
          "name": "stdout",
          "text": [
            "Test Loss: 0.780 | Test Acc: 44.12%\n"
          ]
        }
      ]
    },
    {
      "cell_type": "code",
      "source": [],
      "metadata": {
        "id": "1kA0rg3JXvQB"
      },
      "execution_count": 261,
      "outputs": []
    }
  ]
}