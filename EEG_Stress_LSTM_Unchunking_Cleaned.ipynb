{
  "nbformat": 4,
  "nbformat_minor": 0,
  "metadata": {
    "colab": {
      "provenance": [],
      "authorship_tag": "ABX9TyP/bwQCPJE/wl0vbtlfmH1L",
      "include_colab_link": true
    },
    "kernelspec": {
      "name": "python3",
      "display_name": "Python 3"
    },
    "language_info": {
      "name": "python"
    },
    "accelerator": "GPU",
    "gpuClass": "standard"
  },
  "cells": [
    {
      "cell_type": "markdown",
      "metadata": {
        "id": "view-in-github",
        "colab_type": "text"
      },
      "source": [
        "<a href=\"https://colab.research.google.com/github/guntsvzz/CP_Project/blob/main/EG_Stress_LSTM_Data_Cleaned.ipynb\" target=\"_parent\"><img src=\"https://colab.research.google.com/assets/colab-badge.svg\" alt=\"Open In Colab\"/></a>"
      ]
    },
    {
      "cell_type": "code",
      "source": [
        "!pip install --upgrade --no-cache-dir gdown"
      ],
      "metadata": {
        "colab": {
          "base_uri": "https://localhost:8080/"
        },
        "id": "fwrERBtOU9hH",
        "outputId": "2961373f-415c-41f2-9039-ff21485c3e70"
      },
      "execution_count": 1,
      "outputs": [
        {
          "output_type": "stream",
          "name": "stdout",
          "text": [
            "Looking in indexes: https://pypi.org/simple, https://us-python.pkg.dev/colab-wheels/public/simple/\n",
            "Requirement already satisfied: gdown in /usr/local/lib/python3.7/dist-packages (4.4.0)\n",
            "Collecting gdown\n",
            "  Downloading gdown-4.5.4-py3-none-any.whl (14 kB)\n",
            "Requirement already satisfied: tqdm in /usr/local/lib/python3.7/dist-packages (from gdown) (4.64.1)\n",
            "Requirement already satisfied: filelock in /usr/local/lib/python3.7/dist-packages (from gdown) (3.8.0)\n",
            "Requirement already satisfied: beautifulsoup4 in /usr/local/lib/python3.7/dist-packages (from gdown) (4.6.3)\n",
            "Requirement already satisfied: six in /usr/local/lib/python3.7/dist-packages (from gdown) (1.15.0)\n",
            "Requirement already satisfied: requests[socks] in /usr/local/lib/python3.7/dist-packages (from gdown) (2.23.0)\n",
            "Requirement already satisfied: idna<3,>=2.5 in /usr/local/lib/python3.7/dist-packages (from requests[socks]->gdown) (2.10)\n",
            "Requirement already satisfied: certifi>=2017.4.17 in /usr/local/lib/python3.7/dist-packages (from requests[socks]->gdown) (2022.9.24)\n",
            "Requirement already satisfied: urllib3!=1.25.0,!=1.25.1,<1.26,>=1.21.1 in /usr/local/lib/python3.7/dist-packages (from requests[socks]->gdown) (1.24.3)\n",
            "Requirement already satisfied: chardet<4,>=3.0.2 in /usr/local/lib/python3.7/dist-packages (from requests[socks]->gdown) (3.0.4)\n",
            "Requirement already satisfied: PySocks!=1.5.7,>=1.5.6 in /usr/local/lib/python3.7/dist-packages (from requests[socks]->gdown) (1.7.1)\n",
            "Installing collected packages: gdown\n",
            "  Attempting uninstall: gdown\n",
            "    Found existing installation: gdown 4.4.0\n",
            "    Uninstalling gdown-4.4.0:\n",
            "      Successfully uninstalled gdown-4.4.0\n",
            "Successfully installed gdown-4.5.4\n"
          ]
        }
      ]
    },
    {
      "cell_type": "code",
      "source": [
        "!gdown --id 1KZjrJfUrB_k1g8VUsohNpek_hvWNqGcr"
      ],
      "metadata": {
        "colab": {
          "base_uri": "https://localhost:8080/"
        },
        "id": "vup-n60iVEOK",
        "outputId": "f41b3b04-a7cb-48ac-871f-2c0f1f672fa6"
      },
      "execution_count": 3,
      "outputs": [
        {
          "output_type": "stream",
          "name": "stdout",
          "text": [
            "/usr/local/lib/python3.7/dist-packages/gdown/cli.py:125: FutureWarning: Option `--id` was deprecated in version 4.3.1 and will be removed in 5.0. You don't need to pass it anymore to use a file ID.\n",
            "  category=FutureWarning,\n",
            "Downloading...\n",
            "From: https://drive.google.com/uc?id=1KZjrJfUrB_k1g8VUsohNpek_hvWNqGcr\n",
            "To: /content/Clean_signal.zip\n",
            "100% 113M/113M [00:02<00:00, 43.7MB/s]\n"
          ]
        }
      ]
    },
    {
      "cell_type": "code",
      "source": [
        "!unzip '/content/Clean_signal.zip'\n",
        "#!mv '/content/clean_exp16' 'Cleaned_signal'"
      ],
      "metadata": {
        "colab": {
          "base_uri": "https://localhost:8080/"
        },
        "id": "6pIlRs5wVA7D",
        "outputId": "c36cf692-1ceb-4fbb-da65-5389ea55a9bd"
      },
      "execution_count": 4,
      "outputs": [
        {
          "output_type": "stream",
          "name": "stdout",
          "text": [
            "Archive:  /content/Clean_signal.zip\n",
            "   creating: Clean_signal/\n",
            "  inflating: __MACOSX/._Clean_signal  \n",
            "  inflating: Clean_signal/PSS10 - Sheet1.csv  \n",
            "  inflating: __MACOSX/Clean_signal/._PSS10 - Sheet1.csv  \n",
            "  inflating: Clean_signal/clean_exp08.csv  \n",
            "  inflating: __MACOSX/Clean_signal/._clean_exp08.csv  \n",
            "  inflating: Clean_signal/clean_exp09.csv  \n",
            "  inflating: __MACOSX/Clean_signal/._clean_exp09.csv  \n",
            "  inflating: Clean_signal/clean_exp01.csv  \n",
            "  inflating: __MACOSX/Clean_signal/._clean_exp01.csv  \n",
            "  inflating: Clean_signal/clean_exp15.csv  \n",
            "  inflating: __MACOSX/Clean_signal/._clean_exp15.csv  \n",
            "  inflating: Clean_signal/clean_exp14.csv  \n",
            "  inflating: __MACOSX/Clean_signal/._clean_exp14.csv  \n",
            "  inflating: Clean_signal/clean_exp16.csv  \n",
            "  inflating: __MACOSX/Clean_signal/._clean_exp16.csv  \n",
            "  inflating: Clean_signal/clean_exp02.csv  \n",
            "  inflating: __MACOSX/Clean_signal/._clean_exp02.csv  \n",
            "  inflating: Clean_signal/clean_exp03.csv  \n",
            "  inflating: __MACOSX/Clean_signal/._clean_exp03.csv  \n",
            "  inflating: Clean_signal/clean_exp17.csv  \n",
            "  inflating: __MACOSX/Clean_signal/._clean_exp17.csv  \n",
            "  inflating: Clean_signal/clean_exp13.csv  \n",
            "  inflating: __MACOSX/Clean_signal/._clean_exp13.csv  \n",
            "  inflating: Clean_signal/clean_exp07.csv  \n",
            "  inflating: __MACOSX/Clean_signal/._clean_exp07.csv  \n",
            "  inflating: Clean_signal/clean_exp06.csv  \n",
            "  inflating: __MACOSX/Clean_signal/._clean_exp06.csv  \n",
            "  inflating: Clean_signal/clean_exp12.csv  \n",
            "  inflating: __MACOSX/Clean_signal/._clean_exp12.csv  \n",
            "  inflating: Clean_signal/clean_exp04.csv  \n",
            "  inflating: __MACOSX/Clean_signal/._clean_exp04.csv  \n",
            "  inflating: Clean_signal/clean_exp10.csv  \n",
            "  inflating: __MACOSX/Clean_signal/._clean_exp10.csv  \n",
            "  inflating: Clean_signal/clean_exp11.csv  \n",
            "  inflating: __MACOSX/Clean_signal/._clean_exp11.csv  \n",
            "  inflating: Clean_signal/clean_exp05.csv  \n",
            "  inflating: __MACOSX/Clean_signal/._clean_exp05.csv  \n"
          ]
        }
      ]
    },
    {
      "cell_type": "code",
      "source": [
        "pip install mne"
      ],
      "metadata": {
        "colab": {
          "base_uri": "https://localhost:8080/"
        },
        "id": "pwzKGAORVEVK",
        "outputId": "6bf3898b-e8e0-40a5-a82c-1af1709f37f6"
      },
      "execution_count": 5,
      "outputs": [
        {
          "output_type": "stream",
          "name": "stdout",
          "text": [
            "Looking in indexes: https://pypi.org/simple, https://us-python.pkg.dev/colab-wheels/public/simple/\n",
            "Collecting mne\n",
            "  Downloading mne-1.2.2-py3-none-any.whl (7.6 MB)\n",
            "\u001b[K     |████████████████████████████████| 7.6 MB 8.9 MB/s \n",
            "\u001b[?25hRequirement already satisfied: decorator in /usr/local/lib/python3.7/dist-packages (from mne) (4.4.2)\n",
            "Requirement already satisfied: tqdm in /usr/local/lib/python3.7/dist-packages (from mne) (4.64.1)\n",
            "Requirement already satisfied: packaging in /usr/local/lib/python3.7/dist-packages (from mne) (21.3)\n",
            "Requirement already satisfied: scipy>=1.1.0 in /usr/local/lib/python3.7/dist-packages (from mne) (1.7.3)\n",
            "Requirement already satisfied: numpy>=1.15.4 in /usr/local/lib/python3.7/dist-packages (from mne) (1.21.6)\n",
            "Requirement already satisfied: jinja2 in /usr/local/lib/python3.7/dist-packages (from mne) (2.11.3)\n",
            "Requirement already satisfied: matplotlib in /usr/local/lib/python3.7/dist-packages (from mne) (3.2.2)\n",
            "Requirement already satisfied: pooch>=1.5 in /usr/local/lib/python3.7/dist-packages (from mne) (1.6.0)\n",
            "Requirement already satisfied: requests>=2.19.0 in /usr/local/lib/python3.7/dist-packages (from pooch>=1.5->mne) (2.23.0)\n",
            "Requirement already satisfied: appdirs>=1.3.0 in /usr/local/lib/python3.7/dist-packages (from pooch>=1.5->mne) (1.4.4)\n",
            "Requirement already satisfied: pyparsing!=3.0.5,>=2.0.2 in /usr/local/lib/python3.7/dist-packages (from packaging->mne) (3.0.9)\n",
            "Requirement already satisfied: idna<3,>=2.5 in /usr/local/lib/python3.7/dist-packages (from requests>=2.19.0->pooch>=1.5->mne) (2.10)\n",
            "Requirement already satisfied: certifi>=2017.4.17 in /usr/local/lib/python3.7/dist-packages (from requests>=2.19.0->pooch>=1.5->mne) (2022.9.24)\n",
            "Requirement already satisfied: chardet<4,>=3.0.2 in /usr/local/lib/python3.7/dist-packages (from requests>=2.19.0->pooch>=1.5->mne) (3.0.4)\n",
            "Requirement already satisfied: urllib3!=1.25.0,!=1.25.1,<1.26,>=1.21.1 in /usr/local/lib/python3.7/dist-packages (from requests>=2.19.0->pooch>=1.5->mne) (1.24.3)\n",
            "Requirement already satisfied: MarkupSafe>=0.23 in /usr/local/lib/python3.7/dist-packages (from jinja2->mne) (2.0.1)\n",
            "Requirement already satisfied: kiwisolver>=1.0.1 in /usr/local/lib/python3.7/dist-packages (from matplotlib->mne) (1.4.4)\n",
            "Requirement already satisfied: cycler>=0.10 in /usr/local/lib/python3.7/dist-packages (from matplotlib->mne) (0.11.0)\n",
            "Requirement already satisfied: python-dateutil>=2.1 in /usr/local/lib/python3.7/dist-packages (from matplotlib->mne) (2.8.2)\n",
            "Requirement already satisfied: typing-extensions in /usr/local/lib/python3.7/dist-packages (from kiwisolver>=1.0.1->matplotlib->mne) (4.1.1)\n",
            "Requirement already satisfied: six>=1.5 in /usr/local/lib/python3.7/dist-packages (from python-dateutil>=2.1->matplotlib->mne) (1.15.0)\n",
            "Installing collected packages: mne\n",
            "Successfully installed mne-1.2.2\n"
          ]
        }
      ]
    },
    {
      "cell_type": "code",
      "source": [
        "pip install components"
      ],
      "metadata": {
        "colab": {
          "base_uri": "https://localhost:8080/"
        },
        "id": "w10ogyD1VEYJ",
        "outputId": "0aac575e-a757-48e9-b704-ac15f15013ea"
      },
      "execution_count": 6,
      "outputs": [
        {
          "output_type": "stream",
          "name": "stdout",
          "text": [
            "Looking in indexes: https://pypi.org/simple, https://us-python.pkg.dev/colab-wheels/public/simple/\n",
            "Collecting components\n",
            "  Downloading components-1.2.8-py3-none-any.whl (11 kB)\n",
            "Installing collected packages: components\n",
            "Successfully installed components-1.2.8\n"
          ]
        }
      ]
    },
    {
      "cell_type": "code",
      "source": [
        "import pickle\n",
        "import numpy as np\n",
        "import os\n",
        "import mne\n",
        "import pandas as pd\n",
        "pickle.format_version\n",
        "\n",
        "import torch\n",
        "import torch.nn as nn\n",
        "import torch.nn.functional as F\n",
        "from torchvision import datasets, transforms  \n",
        "from torch.utils.data import DataLoader, Dataset  \n",
        "from torch.utils.data import TensorDataset\n",
        "from torch.autograd import Variable\n",
        "\n",
        "import pandas as pd\n",
        "from sklearn.metrics import confusion_matrix, ConfusionMatrixDisplay\n",
        "import matplotlib.pyplot as plt\n",
        "\n",
        "from sklearn.model_selection import train_test_split\n",
        "\n",
        "# setting seed so that splitting process and training process can be reproduce\n",
        "torch.manual_seed(1)"
      ],
      "metadata": {
        "colab": {
          "base_uri": "https://localhost:8080/"
        },
        "id": "oV3Wo3-mVEa9",
        "outputId": "4470cab9-942c-4bad-a3f6-b84159c4d504"
      },
      "execution_count": 7,
      "outputs": [
        {
          "output_type": "execute_result",
          "data": {
            "text/plain": [
              "<torch._C.Generator at 0x7fc0f7b4f470>"
            ]
          },
          "metadata": {},
          "execution_count": 7
        }
      ]
    },
    {
      "cell_type": "markdown",
      "source": [
        "# ETL"
      ],
      "metadata": {
        "id": "6v7rkdizVS5M"
      }
    },
    {
      "cell_type": "code",
      "source": [
        "import os\n",
        "main_path = os.getcwd()\n",
        "filename = os.listdir(main_path + '/Clean_signal/')"
      ],
      "metadata": {
        "id": "RhLkEKQ1VEdx"
      },
      "execution_count": 9,
      "outputs": []
    },
    {
      "cell_type": "code",
      "source": [
        "filename = ['clean_exp01.csv',\n",
        " 'clean_exp02.csv',\n",
        " 'clean_exp03.csv',\n",
        " 'clean_exp04.csv',\n",
        " 'clean_exp05.csv',\n",
        " 'clean_exp06.csv',\n",
        " 'clean_exp07.csv',\n",
        " 'clean_exp08.csv',\n",
        " 'clean_exp09.csv',\n",
        " 'clean_exp10.csv',\n",
        " 'clean_exp11.csv',\n",
        " 'clean_exp12.csv',\n",
        " 'clean_exp13.csv',\n",
        " 'clean_exp14.csv',\n",
        " 'clean_exp15.csv',\n",
        " 'clean_exp16.csv',\n",
        " 'clean_exp17.csv']"
      ],
      "metadata": {
        "id": "cLR-bCqaVEgo"
      },
      "execution_count": 13,
      "outputs": []
    },
    {
      "cell_type": "code",
      "source": [
        "all_file_path = main_path + '/Clean_signal/'\n",
        "X_list = list()\n",
        "for file in filename:\n",
        "    file_path = all_file_path + file\n",
        "    df = pd.read_csv(file_path, index_col=None)\n",
        "    df = df.loc[:, ~df.columns.str.contains('^Unnamed')]\n",
        "    X_list.append(df)  "
      ],
      "metadata": {
        "id": "IT1a4C7WUiup"
      },
      "execution_count": 14,
      "outputs": []
    },
    {
      "cell_type": "code",
      "source": [
        "df.head()"
      ],
      "metadata": {
        "colab": {
          "base_uri": "https://localhost:8080/",
          "height": 270
        },
        "id": "COY-Jz-ZUiyo",
        "outputId": "a5ffd30b-51a5-4587-9108-4b06ca52d6d9"
      },
      "execution_count": 15,
      "outputs": [
        {
          "output_type": "execute_result",
          "data": {
            "text/plain": [
              "            Fp1           Fp2            F7            F3            F4  \\\n",
              "0  1.558541e-13  1.202787e-12 -1.822815e-12 -6.666149e-13 -1.524659e-14   \n",
              "1 -2.495299e+02 -2.591266e+02 -2.392414e+02 -2.472481e+02 -1.342918e+02   \n",
              "2 -1.022146e+02 -1.071695e+02 -8.913196e+01 -9.320015e+01 -7.188064e+01   \n",
              "3 -1.894707e+02 -1.985657e+02 -1.666088e+02 -1.773347e+02 -1.206077e+02   \n",
              "4 -1.976600e+02 -2.088452e+02 -1.691085e+02 -1.829386e+02 -1.219805e+02   \n",
              "\n",
              "             F8            T3            C3            C4            T4  \\\n",
              "0 -9.656176e-14  1.778769e-13 -7.318365e-13 -3.218725e-14  6.776264e-15   \n",
              "1 -2.469675e+02 -2.368676e+02 -2.375381e+02  8.964020e+01  9.114929e+01   \n",
              "2 -9.669399e+01 -7.360927e+01 -7.934479e+01 -8.483305e+00 -3.966042e+00   \n",
              "3 -1.861381e+02 -1.566157e+02 -1.616160e+02  1.053098e+01  1.359837e+01   \n",
              "4 -1.981792e+02 -1.664133e+02 -1.711082e+02  5.430791e+00  5.540176e+00   \n",
              "\n",
              "             T5            P3            P4            T6            O1  \\\n",
              "0  2.463172e-12 -5.293956e-13  1.679243e-13  2.774456e-12 -3.303428e-13   \n",
              "1  9.105020e+01  7.684951e+01  1.383037e+02 -4.155527e+02 -3.083336e+02   \n",
              "2  6.921319e-02 -5.860820e+00  6.340924e+00 -1.006591e+02 -7.385641e+01   \n",
              "3  2.570865e+01  1.375228e+01  4.319836e+01 -2.383818e+02 -1.751361e+02   \n",
              "4  2.039321e+01  9.522058e+00  4.153111e+01 -2.713544e+02 -1.985949e+02   \n",
              "\n",
              "             O2  \n",
              "0  2.217109e-13  \n",
              "1 -1.145710e+02  \n",
              "2 -3.186257e+01  \n",
              "3 -7.472951e+01  \n",
              "4 -9.082392e+01  "
            ],
            "text/html": [
              "\n",
              "  <div id=\"df-cdadcd63-8a3e-4a6a-9d1d-bfff98141628\">\n",
              "    <div class=\"colab-df-container\">\n",
              "      <div>\n",
              "<style scoped>\n",
              "    .dataframe tbody tr th:only-of-type {\n",
              "        vertical-align: middle;\n",
              "    }\n",
              "\n",
              "    .dataframe tbody tr th {\n",
              "        vertical-align: top;\n",
              "    }\n",
              "\n",
              "    .dataframe thead th {\n",
              "        text-align: right;\n",
              "    }\n",
              "</style>\n",
              "<table border=\"1\" class=\"dataframe\">\n",
              "  <thead>\n",
              "    <tr style=\"text-align: right;\">\n",
              "      <th></th>\n",
              "      <th>Fp1</th>\n",
              "      <th>Fp2</th>\n",
              "      <th>F7</th>\n",
              "      <th>F3</th>\n",
              "      <th>F4</th>\n",
              "      <th>F8</th>\n",
              "      <th>T3</th>\n",
              "      <th>C3</th>\n",
              "      <th>C4</th>\n",
              "      <th>T4</th>\n",
              "      <th>T5</th>\n",
              "      <th>P3</th>\n",
              "      <th>P4</th>\n",
              "      <th>T6</th>\n",
              "      <th>O1</th>\n",
              "      <th>O2</th>\n",
              "    </tr>\n",
              "  </thead>\n",
              "  <tbody>\n",
              "    <tr>\n",
              "      <th>0</th>\n",
              "      <td>1.558541e-13</td>\n",
              "      <td>1.202787e-12</td>\n",
              "      <td>-1.822815e-12</td>\n",
              "      <td>-6.666149e-13</td>\n",
              "      <td>-1.524659e-14</td>\n",
              "      <td>-9.656176e-14</td>\n",
              "      <td>1.778769e-13</td>\n",
              "      <td>-7.318365e-13</td>\n",
              "      <td>-3.218725e-14</td>\n",
              "      <td>6.776264e-15</td>\n",
              "      <td>2.463172e-12</td>\n",
              "      <td>-5.293956e-13</td>\n",
              "      <td>1.679243e-13</td>\n",
              "      <td>2.774456e-12</td>\n",
              "      <td>-3.303428e-13</td>\n",
              "      <td>2.217109e-13</td>\n",
              "    </tr>\n",
              "    <tr>\n",
              "      <th>1</th>\n",
              "      <td>-2.495299e+02</td>\n",
              "      <td>-2.591266e+02</td>\n",
              "      <td>-2.392414e+02</td>\n",
              "      <td>-2.472481e+02</td>\n",
              "      <td>-1.342918e+02</td>\n",
              "      <td>-2.469675e+02</td>\n",
              "      <td>-2.368676e+02</td>\n",
              "      <td>-2.375381e+02</td>\n",
              "      <td>8.964020e+01</td>\n",
              "      <td>9.114929e+01</td>\n",
              "      <td>9.105020e+01</td>\n",
              "      <td>7.684951e+01</td>\n",
              "      <td>1.383037e+02</td>\n",
              "      <td>-4.155527e+02</td>\n",
              "      <td>-3.083336e+02</td>\n",
              "      <td>-1.145710e+02</td>\n",
              "    </tr>\n",
              "    <tr>\n",
              "      <th>2</th>\n",
              "      <td>-1.022146e+02</td>\n",
              "      <td>-1.071695e+02</td>\n",
              "      <td>-8.913196e+01</td>\n",
              "      <td>-9.320015e+01</td>\n",
              "      <td>-7.188064e+01</td>\n",
              "      <td>-9.669399e+01</td>\n",
              "      <td>-7.360927e+01</td>\n",
              "      <td>-7.934479e+01</td>\n",
              "      <td>-8.483305e+00</td>\n",
              "      <td>-3.966042e+00</td>\n",
              "      <td>6.921319e-02</td>\n",
              "      <td>-5.860820e+00</td>\n",
              "      <td>6.340924e+00</td>\n",
              "      <td>-1.006591e+02</td>\n",
              "      <td>-7.385641e+01</td>\n",
              "      <td>-3.186257e+01</td>\n",
              "    </tr>\n",
              "    <tr>\n",
              "      <th>3</th>\n",
              "      <td>-1.894707e+02</td>\n",
              "      <td>-1.985657e+02</td>\n",
              "      <td>-1.666088e+02</td>\n",
              "      <td>-1.773347e+02</td>\n",
              "      <td>-1.206077e+02</td>\n",
              "      <td>-1.861381e+02</td>\n",
              "      <td>-1.566157e+02</td>\n",
              "      <td>-1.616160e+02</td>\n",
              "      <td>1.053098e+01</td>\n",
              "      <td>1.359837e+01</td>\n",
              "      <td>2.570865e+01</td>\n",
              "      <td>1.375228e+01</td>\n",
              "      <td>4.319836e+01</td>\n",
              "      <td>-2.383818e+02</td>\n",
              "      <td>-1.751361e+02</td>\n",
              "      <td>-7.472951e+01</td>\n",
              "    </tr>\n",
              "    <tr>\n",
              "      <th>4</th>\n",
              "      <td>-1.976600e+02</td>\n",
              "      <td>-2.088452e+02</td>\n",
              "      <td>-1.691085e+02</td>\n",
              "      <td>-1.829386e+02</td>\n",
              "      <td>-1.219805e+02</td>\n",
              "      <td>-1.981792e+02</td>\n",
              "      <td>-1.664133e+02</td>\n",
              "      <td>-1.711082e+02</td>\n",
              "      <td>5.430791e+00</td>\n",
              "      <td>5.540176e+00</td>\n",
              "      <td>2.039321e+01</td>\n",
              "      <td>9.522058e+00</td>\n",
              "      <td>4.153111e+01</td>\n",
              "      <td>-2.713544e+02</td>\n",
              "      <td>-1.985949e+02</td>\n",
              "      <td>-9.082392e+01</td>\n",
              "    </tr>\n",
              "  </tbody>\n",
              "</table>\n",
              "</div>\n",
              "      <button class=\"colab-df-convert\" onclick=\"convertToInteractive('df-cdadcd63-8a3e-4a6a-9d1d-bfff98141628')\"\n",
              "              title=\"Convert this dataframe to an interactive table.\"\n",
              "              style=\"display:none;\">\n",
              "        \n",
              "  <svg xmlns=\"http://www.w3.org/2000/svg\" height=\"24px\"viewBox=\"0 0 24 24\"\n",
              "       width=\"24px\">\n",
              "    <path d=\"M0 0h24v24H0V0z\" fill=\"none\"/>\n",
              "    <path d=\"M18.56 5.44l.94 2.06.94-2.06 2.06-.94-2.06-.94-.94-2.06-.94 2.06-2.06.94zm-11 1L8.5 8.5l.94-2.06 2.06-.94-2.06-.94L8.5 2.5l-.94 2.06-2.06.94zm10 10l.94 2.06.94-2.06 2.06-.94-2.06-.94-.94-2.06-.94 2.06-2.06.94z\"/><path d=\"M17.41 7.96l-1.37-1.37c-.4-.4-.92-.59-1.43-.59-.52 0-1.04.2-1.43.59L10.3 9.45l-7.72 7.72c-.78.78-.78 2.05 0 2.83L4 21.41c.39.39.9.59 1.41.59.51 0 1.02-.2 1.41-.59l7.78-7.78 2.81-2.81c.8-.78.8-2.07 0-2.86zM5.41 20L4 18.59l7.72-7.72 1.47 1.35L5.41 20z\"/>\n",
              "  </svg>\n",
              "      </button>\n",
              "      \n",
              "  <style>\n",
              "    .colab-df-container {\n",
              "      display:flex;\n",
              "      flex-wrap:wrap;\n",
              "      gap: 12px;\n",
              "    }\n",
              "\n",
              "    .colab-df-convert {\n",
              "      background-color: #E8F0FE;\n",
              "      border: none;\n",
              "      border-radius: 50%;\n",
              "      cursor: pointer;\n",
              "      display: none;\n",
              "      fill: #1967D2;\n",
              "      height: 32px;\n",
              "      padding: 0 0 0 0;\n",
              "      width: 32px;\n",
              "    }\n",
              "\n",
              "    .colab-df-convert:hover {\n",
              "      background-color: #E2EBFA;\n",
              "      box-shadow: 0px 1px 2px rgba(60, 64, 67, 0.3), 0px 1px 3px 1px rgba(60, 64, 67, 0.15);\n",
              "      fill: #174EA6;\n",
              "    }\n",
              "\n",
              "    [theme=dark] .colab-df-convert {\n",
              "      background-color: #3B4455;\n",
              "      fill: #D2E3FC;\n",
              "    }\n",
              "\n",
              "    [theme=dark] .colab-df-convert:hover {\n",
              "      background-color: #434B5C;\n",
              "      box-shadow: 0px 1px 3px 1px rgba(0, 0, 0, 0.15);\n",
              "      filter: drop-shadow(0px 1px 2px rgba(0, 0, 0, 0.3));\n",
              "      fill: #FFFFFF;\n",
              "    }\n",
              "  </style>\n",
              "\n",
              "      <script>\n",
              "        const buttonEl =\n",
              "          document.querySelector('#df-cdadcd63-8a3e-4a6a-9d1d-bfff98141628 button.colab-df-convert');\n",
              "        buttonEl.style.display =\n",
              "          google.colab.kernel.accessAllowed ? 'block' : 'none';\n",
              "\n",
              "        async function convertToInteractive(key) {\n",
              "          const element = document.querySelector('#df-cdadcd63-8a3e-4a6a-9d1d-bfff98141628');\n",
              "          const dataTable =\n",
              "            await google.colab.kernel.invokeFunction('convertToInteractive',\n",
              "                                                     [key], {});\n",
              "          if (!dataTable) return;\n",
              "\n",
              "          const docLinkHtml = 'Like what you see? Visit the ' +\n",
              "            '<a target=\"_blank\" href=https://colab.research.google.com/notebooks/data_table.ipynb>data table notebook</a>'\n",
              "            + ' to learn more about interactive tables.';\n",
              "          element.innerHTML = '';\n",
              "          dataTable['output_type'] = 'display_data';\n",
              "          await google.colab.output.renderOutput(dataTable, element);\n",
              "          const docLink = document.createElement('div');\n",
              "          docLink.innerHTML = docLinkHtml;\n",
              "          element.appendChild(docLink);\n",
              "        }\n",
              "      </script>\n",
              "    </div>\n",
              "  </div>\n",
              "  "
            ]
          },
          "metadata": {},
          "execution_count": 15
        }
      ]
    },
    {
      "cell_type": "code",
      "source": [
        "X = np.array(X_list)\n",
        "X.shape"
      ],
      "metadata": {
        "colab": {
          "base_uri": "https://localhost:8080/"
        },
        "id": "PEw38IzfV9Ze",
        "outputId": "3afd1442-22c1-4a3f-9549-006947ff91a3"
      },
      "execution_count": 16,
      "outputs": [
        {
          "output_type": "execute_result",
          "data": {
            "text/plain": [
              "(17, 45000, 16)"
            ]
          },
          "metadata": {},
          "execution_count": 16
        }
      ]
    },
    {
      "cell_type": "code",
      "source": [
        "# Reshape\n",
        "X = np.transpose(X, (0, 2, 1))\n",
        "X.shape"
      ],
      "metadata": {
        "colab": {
          "base_uri": "https://localhost:8080/"
        },
        "id": "2sJ3TIjQV9cz",
        "outputId": "b9380c81-73b3-4be8-d8b6-c8c331384cda"
      },
      "execution_count": 17,
      "outputs": [
        {
          "output_type": "execute_result",
          "data": {
            "text/plain": [
              "(17, 16, 45000)"
            ]
          },
          "metadata": {},
          "execution_count": 17
        }
      ]
    },
    {
      "cell_type": "code",
      "source": [
        "y_path = '/content/Clean_signal/PSS10 - Sheet1.csv'\n",
        "df = pd.read_csv(y_path)\n",
        "y = np.array(df['label'])\n",
        "y"
      ],
      "metadata": {
        "colab": {
          "base_uri": "https://localhost:8080/"
        },
        "id": "ACZEM4DBV9fl",
        "outputId": "837c03d5-0e8c-49f0-8a2f-e816074cc614"
      },
      "execution_count": 19,
      "outputs": [
        {
          "output_type": "execute_result",
          "data": {
            "text/plain": [
              "array([1, 1, 1, 0, 0, 0, 0, 1, 0, 0, 0, 1, 0, 0, 0, 1, 1])"
            ]
          },
          "metadata": {},
          "execution_count": 19
        }
      ]
    },
    {
      "cell_type": "markdown",
      "source": [
        "# Split Data"
      ],
      "metadata": {
        "id": "nGw8680y-3N5"
      }
    },
    {
      "cell_type": "code",
      "source": [
        "X_train, X_test, y_train, y_test = train_test_split(X, y, test_size=0.3, random_state=999)\n",
        "\n",
        "print(X_train.shape, X_test.shape, y_train.shape, y_test.shape)"
      ],
      "metadata": {
        "colab": {
          "base_uri": "https://localhost:8080/"
        },
        "id": "awnviaHZcdH7",
        "outputId": "c290f9c9-f71d-4244-fa02-cbdf60a958df"
      },
      "execution_count": 20,
      "outputs": [
        {
          "output_type": "stream",
          "name": "stdout",
          "text": [
            "(11, 16, 45000) (6, 16, 45000) (11,) (6,)\n"
          ]
        }
      ]
    },
    {
      "cell_type": "code",
      "source": [
        "X_train, X_val, y_train, y_val = train_test_split(X_train, y_train, test_size=0.2, random_state=999)\n",
        "print(X_train.shape, X_val.shape, y_train.shape, y_val.shape)"
      ],
      "metadata": {
        "colab": {
          "base_uri": "https://localhost:8080/"
        },
        "id": "TF6zuq4phP9E",
        "outputId": "5f2eaf33-da40-489b-862e-a5c6e3d838c7"
      },
      "execution_count": 21,
      "outputs": [
        {
          "output_type": "stream",
          "name": "stdout",
          "text": [
            "(8, 16, 45000) (3, 16, 45000) (8,) (3,)\n"
          ]
        }
      ]
    },
    {
      "cell_type": "code",
      "source": [
        "from sklearn.preprocessing import MinMaxScaler\n",
        "\n",
        "#scale transform each channel independently\n",
        "scalers = {}\n",
        "for i in range(X_train.shape[2]):\n",
        "    scalers[i] = MinMaxScaler(feature_range=(-1, 1))\n",
        "    X_train[:, :, i] = scalers[i].fit_transform(X_train[:, :, i]) \n",
        "\n",
        "for i in range(X_val.shape[2]):\n",
        "    X_val[:, :, i]   = scalers[i].transform(X_val[:, :, i])     \n",
        "    \n",
        "for i in range(X_test.shape[2]):\n",
        "    X_test[:, :, i]  = scalers[i].transform(X_test[:, :, i]) "
      ],
      "metadata": {
        "id": "BOOZBX7BhRpR"
      },
      "execution_count": 22,
      "outputs": []
    },
    {
      "cell_type": "code",
      "source": [
        "print(X_train.mean(), X_val.mean(), X_test.mean())\n",
        "print(X_train.min(), X_val.min(), X_test.min())\n",
        "print(X_train.max(), X_val.max(), X_test.max())"
      ],
      "metadata": {
        "colab": {
          "base_uri": "https://localhost:8080/"
        },
        "id": "TbYlRdOGhUKy",
        "outputId": "bed07dad-eee9-45d9-f2b8-5e74a12f9a69"
      },
      "execution_count": 23,
      "outputs": [
        {
          "output_type": "stream",
          "name": "stdout",
          "text": [
            "0.0020703341236946583 -0.0009901303317805623 0.0005053050170758863\n",
            "-1.0000000000000002 -864.2804088675043 -887.196704130179\n",
            "1.0000000000000004 235.54318116901902 1194.6955397721483\n"
          ]
        }
      ]
    },
    {
      "cell_type": "markdown",
      "source": [
        "# Define Batch size and train,test, val loader"
      ],
      "metadata": {
        "id": "hOl5sDXo_C_C"
      }
    },
    {
      "cell_type": "code",
      "source": [
        "X_train_tensor = torch.tensor(X_train).to(torch.float32)\n",
        "y_train_tensor = torch.tensor(y_train).to(torch.float32)\n",
        "X_val_tensor = torch.tensor(X_val).to(torch.float32)\n",
        "y_val_tensor = torch.tensor(y_val).to(torch.float32)\n",
        "X_test_tensor = torch.tensor(X_test).to(torch.float32)\n",
        "y_test_tensor = torch.tensor(y_test).to(torch.float32)\n",
        "\n",
        "# Cast data to dataloader for more convenience\n",
        "training_set = TensorDataset(X_train_tensor, y_train_tensor)\n",
        "testing_set = TensorDataset(X_test_tensor, y_test_tensor)\n",
        "validation_set = TensorDataset(X_val_tensor, y_val_tensor)\n",
        "\n",
        "train_batch_size = 5\n",
        "val_batch_size = len(validation_set)\n",
        "test_batch_size = len(testing_set)\n",
        "\n",
        "train_loader = DataLoader(training_set, train_batch_size, shuffle=True)\n",
        "val_loader = DataLoader(validation_set, val_batch_size, shuffle=True)\n",
        "test_loader = DataLoader(testing_set, test_batch_size, shuffle=True)"
      ],
      "metadata": {
        "id": "Y1enUccbhXGK"
      },
      "execution_count": 24,
      "outputs": []
    },
    {
      "cell_type": "code",
      "source": [
        "for data, label in train_loader:\n",
        "  print(data)\n",
        "  break"
      ],
      "metadata": {
        "colab": {
          "base_uri": "https://localhost:8080/"
        },
        "id": "LEJ3VJt3huYw",
        "outputId": "1940d151-4fb7-49cd-dfdd-e7ef5fd2d68f"
      },
      "execution_count": 25,
      "outputs": [
        {
          "output_type": "stream",
          "name": "stdout",
          "text": [
            "tensor([[[ 0.8136,  1.0000,  1.0000,  ...,  1.0000,  1.0000, -0.7567],\n",
            "         [-0.0372,  1.0000,  1.0000,  ...,  1.0000,  1.0000, -0.5264],\n",
            "         [ 1.0000,  1.0000,  1.0000,  ...,  1.0000,  1.0000,  1.0000],\n",
            "         ...,\n",
            "         [ 0.8404, -0.2555, -0.1168,  ..., -0.7572, -0.5666,  0.3927],\n",
            "         [ 0.9810,  1.0000,  0.9775,  ...,  1.0000,  1.0000,  1.0000],\n",
            "         [-1.0000,  1.0000,  1.0000,  ..., -0.0374,  1.0000,  0.0676]],\n",
            "\n",
            "        [[-1.0000, -0.7079, -0.4968,  ..., -0.0219, -0.8393,  1.0000],\n",
            "         [-1.0000, -1.0000, -1.0000,  ..., -1.0000, -1.0000,  1.0000],\n",
            "         [ 0.3428, -0.6891, -0.3959,  ..., -0.2467, -0.9009,  0.0110],\n",
            "         ...,\n",
            "         [-0.4848,  1.0000,  1.0000,  ...,  1.0000,  1.0000,  0.1942],\n",
            "         [ 0.7814, -0.4405, -0.6036,  ..., -0.6965, -0.0123,  0.0639],\n",
            "         [ 0.8890, -1.0000, -1.0000,  ..., -0.8462, -0.0962,  1.0000]],\n",
            "\n",
            "        [[ 0.6606, -0.9057, -0.8675,  ..., -0.6327, -0.7975, -0.4134],\n",
            "         [ 1.0000,  0.8213,  0.8728,  ...,  0.6124,  0.7138, -0.8653],\n",
            "         [-0.4347, -0.9292, -0.9598,  ..., -1.0000, -0.9628,  0.2881],\n",
            "         ...,\n",
            "         [-0.4443, -0.8322, -0.7788,  ..., -0.8689, -0.7182, -0.9542],\n",
            "         [ 0.7043, -0.2097, -0.0032,  ..., -0.3204, -0.0411, -1.0000],\n",
            "         [ 0.9884,  0.1080, -0.2603,  ..., -0.5550,  0.1400,  0.7019]],\n",
            "\n",
            "        [[ 0.4288, -0.8047, -0.9199,  ..., -1.0000, -1.0000, -0.6303],\n",
            "         [ 0.2392,  0.7991,  0.7148,  ...,  0.7630,  0.7419, -0.8708],\n",
            "         [ 0.2469, -0.8432, -1.0000,  ..., -0.8393, -1.0000,  0.6987],\n",
            "         ...,\n",
            "         [ 0.2163, -0.7606, -0.6387,  ..., -0.8613, -0.7346, -0.1524],\n",
            "         [ 0.8338, -0.2981, -0.2109,  ..., -0.7194, -0.0996, -0.1506],\n",
            "         [ 1.0000, -0.0302, -0.2872,  ..., -0.2126,  0.2600,  0.8778]],\n",
            "\n",
            "        [[ 0.2994, -0.7202, -0.5309,  ..., -0.4403, -0.9889, -0.9513],\n",
            "         [-0.0283,  0.7980,  0.7527,  ...,  0.7451,  0.7338, -1.0000],\n",
            "         [-1.0000, -0.7102, -0.4959,  ..., -0.4226, -0.9263, -1.0000],\n",
            "         ...,\n",
            "         [ 1.0000, -0.7196, -0.7463,  ..., -0.8429, -0.7324,  1.0000],\n",
            "         [-1.0000, -0.1435, -0.3832,  ..., -1.0000, -0.0584, -0.8484],\n",
            "         [ 0.5669, -0.0111, -0.5306,  ..., -0.4126,  0.3153,  0.8391]]])\n"
          ]
        }
      ]
    },
    {
      "cell_type": "code",
      "source": [
        "data.shape"
      ],
      "metadata": {
        "colab": {
          "base_uri": "https://localhost:8080/"
        },
        "id": "PVMFMBwAjImF",
        "outputId": "47358109-2629-458f-d0a8-b5592ca1e404"
      },
      "execution_count": 26,
      "outputs": [
        {
          "output_type": "execute_result",
          "data": {
            "text/plain": [
              "torch.Size([5, 16, 45000])"
            ]
          },
          "metadata": {},
          "execution_count": 26
        }
      ]
    },
    {
      "cell_type": "code",
      "source": [
        "device = 'cuda' if torch.cuda.is_available() else 'cpu'"
      ],
      "metadata": {
        "id": "HaiKzvgCjc3_"
      },
      "execution_count": 27,
      "outputs": []
    },
    {
      "cell_type": "markdown",
      "source": [
        "# LSTM model"
      ],
      "metadata": {
        "id": "tMV89z27_HmH"
      }
    },
    {
      "cell_type": "code",
      "source": [
        "class LSTM(nn.Module):\n",
        "    '''\n",
        "    Expected Input Shape: (batch, channels, seq_len, )\n",
        "    '''\n",
        "    def __init__(self, input_dim, hidden_dim, num_layers, output_dim, bidirectional, dropout):\n",
        "        super().__init__()\n",
        "        self.lstm = nn.LSTM(input_dim, \n",
        "                           hidden_dim, \n",
        "                           num_layers=num_layers, \n",
        "                           bidirectional=bidirectional, \n",
        "                           dropout=dropout,\n",
        "                           batch_first=True)\n",
        "        self.fc = nn.Linear(hidden_dim * num_layers, output_dim)\n",
        "        \n",
        "    def forward(self, x):\n",
        "        \n",
        "        #x = [batch size, channels, seq len, ]\n",
        "        out, (hn, cn) = self.lstm(x)\n",
        "        \n",
        "        #out = [batch size, seq len, hidden dim * num directions]        \n",
        "        #hn = [num layers * num directions, batch size, hidden dim]\n",
        "        #cn = [num layers * num directions, batch size, hidden dim]\n",
        "        \n",
        "        #concat the final forward (hidden[-2,:,:]) and backward (hidden[-1,:,:]) hidden layers\n",
        "        hn = torch.cat((hn[-2,:,:], hn[-1,:,:]), dim = 1)\n",
        "        #hn = [batch size, hidden dim * num directions]\n",
        "        \n",
        "        return self.fc(hn)"
      ],
      "metadata": {
        "id": "U0bk5XjGjoMk"
      },
      "execution_count": 28,
      "outputs": []
    },
    {
      "cell_type": "code",
      "source": [
        "#explicitly initialize weights for better learning\n",
        "def initialize_weights(m):\n",
        "    if isinstance(m, nn.Linear):   #if layer is of Linear\n",
        "        nn.init.xavier_normal_(m.weight)\n",
        "        nn.init.zeros_(m.bias)\n",
        "    elif isinstance(m, nn.LSTM):   #if layer is of LSTM\n",
        "        for name, param in m.named_parameters():\n",
        "            if 'bias' in name:\n",
        "                nn.init.zeros_(param)\n",
        "            elif 'weight' in name:\n",
        "                nn.init.orthogonal_(param)  #orthogonal is a common way to initialize weights for RNN/LSTM/GRU"
      ],
      "metadata": {
        "id": "TIOLWwwXpMpw"
      },
      "execution_count": 29,
      "outputs": []
    },
    {
      "cell_type": "code",
      "source": [
        "input_size     = 16 #channel \n",
        "hidden_size    = 256 \n",
        "num_layers    = 2  \n",
        "output_size    = 1  #we got 2 classes so we can output only 1 number, 0 for first class and 1 for another class\n",
        "bidirectional = True  #uses bidirectional LSTM\n",
        "dropout       = 0.5 \n",
        "\n",
        "#define the model\n",
        "model = LSTM(input_size, hidden_size, num_layers, output_size, bidirectional, dropout)\n",
        "\n",
        "#send to cuda so we can use the GPU\n",
        "model = model.to(device)  \n",
        "\n",
        "#apply weights\n",
        "model.apply(initialize_weights)"
      ],
      "metadata": {
        "colab": {
          "base_uri": "https://localhost:8080/"
        },
        "id": "khjrPaLwxtfq",
        "outputId": "e34362d9-e052-4a1f-e316-4a7b4ec94945"
      },
      "execution_count": 30,
      "outputs": [
        {
          "output_type": "execute_result",
          "data": {
            "text/plain": [
              "LSTM(\n",
              "  (lstm): LSTM(16, 256, num_layers=2, batch_first=True, dropout=0.5, bidirectional=True)\n",
              "  (fc): Linear(in_features=512, out_features=1, bias=True)\n",
              ")"
            ]
          },
          "metadata": {},
          "execution_count": 30
        }
      ]
    },
    {
      "cell_type": "code",
      "source": [
        "def count_parameters(model):\n",
        "    return sum(p.numel() for p in model.parameters() if p.requires_grad)\n",
        "\n",
        "print(f'The model {type(model).__name__} has {count_parameters(model):,} trainable parameters')# Train the model\n"
      ],
      "metadata": {
        "colab": {
          "base_uri": "https://localhost:8080/"
        },
        "id": "UaDuk4jtyDkT",
        "outputId": "15364318-957d-4c0b-b39d-9da934a566f8"
      },
      "execution_count": 31,
      "outputs": [
        {
          "output_type": "stream",
          "name": "stdout",
          "text": [
            "The model LSTM has 2,138,625 trainable parameters\n"
          ]
        }
      ]
    },
    {
      "cell_type": "code",
      "source": [
        "import torch.optim as optim\n",
        "\n",
        "num_epochs = 50\n",
        "\n",
        "lr = 0.0001\n",
        "\n",
        "optimizer = optim.Adam(model.parameters(), lr=lr) \n",
        "criterion = nn.BCEWithLogitsLoss() "
      ],
      "metadata": {
        "id": "vdx6Dms0yGL7"
      },
      "execution_count": 32,
      "outputs": []
    },
    {
      "cell_type": "code",
      "source": [
        "#for measuring accuracy\n",
        "def binary_accuracy(preds, y):\n",
        "    \"\"\"\n",
        "    Returns accuracy per batch, i.e. if you get 8/10 right, this returns 0.8, NOT 8\n",
        "    \"\"\"\n",
        "    #round predictions to the closest integer\n",
        "    rounded_preds = torch.round(torch.sigmoid(preds))\n",
        "    correct = (rounded_preds == y).float() #convert into float for division \n",
        "    acc = correct.sum() / len(correct)\n",
        "    return acc\n"
      ],
      "metadata": {
        "id": "BV4d52uyyYlE"
      },
      "execution_count": 33,
      "outputs": []
    },
    {
      "cell_type": "code",
      "source": [
        "torch.sigmoid(torch.tensor([[-1.1193],\n",
        "        [-1.7878]]) )"
      ],
      "metadata": {
        "colab": {
          "base_uri": "https://localhost:8080/"
        },
        "id": "HMJk3mnr2xOH",
        "outputId": "dbf1aaad-3d4c-4dc6-916b-f9d2f21f29d4"
      },
      "execution_count": 34,
      "outputs": [
        {
          "output_type": "execute_result",
          "data": {
            "text/plain": [
              "tensor([[0.2461],\n",
              "        [0.1433]])"
            ]
          },
          "metadata": {},
          "execution_count": 34
        }
      ]
    },
    {
      "cell_type": "code",
      "source": [
        "#for timing the epochs\n",
        "def epoch_time(start_time, end_time):\n",
        "    elapsed_time = end_time - start_time\n",
        "    elapsed_mins = int(elapsed_time / 60)\n",
        "    elapsed_secs = int(elapsed_time - (elapsed_mins * 60))\n",
        "    return elapsed_mins, elapsed_secs"
      ],
      "metadata": {
        "id": "lqDIAbvRylTR"
      },
      "execution_count": 35,
      "outputs": []
    },
    {
      "cell_type": "code",
      "source": [
        "def train(model, train_loader,  optimizer, criterion):\n",
        "\n",
        "    model.train()\n",
        "    epoch_train_loss = 0\n",
        "    epoch_train_acc  = 0\n",
        "\n",
        "    for i, batch in enumerate(train_loader):\n",
        "    \n",
        "        # data shape: (batch, channel, seq len)\n",
        "        data  = batch[0].to(device).permute(0, 2, 1)    \n",
        "        # data shape: (batch, seq len, channel)\n",
        "\n",
        "        # label shape: (batch, 1)\n",
        "        label = batch[1].to(device).reshape(-1, 1)\n",
        "        \n",
        "        #predict\n",
        "        output = model(data).reshape(-1, 1)  #output shape: (batch, 1)\n",
        "        loss   = criterion(output, label)\n",
        "        \n",
        "        #backprop\n",
        "        optimizer.zero_grad()\n",
        "        loss.backward()\n",
        "        optimizer.step()\n",
        "        \n",
        "        #for visualizing\n",
        "        epoch_train_loss += loss.item()\n",
        "        acc = binary_accuracy(output, label)\n",
        "        epoch_train_acc += acc.item()\n",
        "        \n",
        "    epoch_train_loss = epoch_train_loss / len(train_loader)\n",
        "    epoch_train_acc  = epoch_train_acc  / len(train_loader)\n",
        "    \n",
        "    return epoch_train_loss, epoch_train_acc\n"
      ],
      "metadata": {
        "id": "USKSyPIIyhdj"
      },
      "execution_count": 36,
      "outputs": []
    },
    {
      "cell_type": "code",
      "source": [
        "def evaluate(model, val_loader, criterion):\n",
        "\n",
        "    model.eval()\n",
        "    epoch_val_loss = 0\n",
        "    epoch_val_acc  = 0\n",
        "\n",
        "    with torch.no_grad():\n",
        "        for i, batch in enumerate(val_loader):\n",
        "            \n",
        "            # data shape: (batch, channel, seq len)\n",
        "            data  = batch[0].to(device).permute(0, 2, 1)   \n",
        "            label = batch[1].to(device).reshape(-1, 1)\n",
        "            \n",
        "            #predict\n",
        "            output = model(data).reshape(-1, 1)\n",
        "            loss   = criterion(output, label)\n",
        "            \n",
        "            #for visualizing\n",
        "            epoch_val_loss += loss.item()\n",
        "            acc = binary_accuracy(output, label)\n",
        "            epoch_val_acc += acc.item()\n",
        "    \n",
        "    epoch_val_loss =  epoch_val_loss / len(val_loader)\n",
        "    epoch_val_acc  =  epoch_val_acc  / len(val_loader)\n",
        "    \n",
        "    return epoch_val_loss, epoch_val_acc\n"
      ],
      "metadata": {
        "id": "DxaF5O8YymHK"
      },
      "execution_count": 37,
      "outputs": []
    },
    {
      "cell_type": "code",
      "source": [
        "import time"
      ],
      "metadata": {
        "id": "EDCgEWqTyrci"
      },
      "execution_count": 38,
      "outputs": []
    },
    {
      "cell_type": "code",
      "source": [
        "best_valid_loss = float('inf')\n",
        "\n",
        "train_losses = []\n",
        "train_accs   = []\n",
        "valid_losses = []\n",
        "valid_accs   = []\n",
        "\n",
        "for epoch in range(num_epochs):\n",
        "    \n",
        "    start_time = time.time()\n",
        "\n",
        "    train_loss, train_acc = train(model, train_loader, optimizer, criterion)\n",
        "    print('EVAL')\n",
        "    valid_loss, valid_acc = evaluate(model, val_loader, criterion)\n",
        "    \n",
        "    #for plotting\n",
        "    train_losses.append(train_loss)\n",
        "    train_accs  .append(train_acc)\n",
        "    valid_losses.append(valid_loss)\n",
        "    valid_accs  .append(valid_acc)\n",
        "    \n",
        "    if valid_loss < best_valid_loss:\n",
        "        best_valid_loss = valid_loss\n",
        "        torch.save(model.state_dict(), './models/StressLSTMv2.pt')\n",
        "        \n",
        "    end_time = time.time()\n",
        "    epoch_mins, epoch_secs = epoch_time(start_time, end_time)\n",
        "    \n",
        "    print(f'Epoch: {epoch+1:02} | Epoch Time: {epoch_mins}m {epoch_secs}s')\n",
        "    print(f'\\t Train Loss: {train_loss:.3f} | Train Acc: {train_acc*100:.2f}%')\n",
        "    print(f'\\t Val. Loss: {valid_loss:.3f}  |  Val. Acc: {valid_acc*100:.2f}%')\n"
      ],
      "metadata": {
        "colab": {
          "base_uri": "https://localhost:8080/"
        },
        "id": "lfX4uH96yoCI",
        "outputId": "c75a8d64-65ef-4e23-e047-1bf3feb7cdf3"
      },
      "execution_count": 40,
      "outputs": [
        {
          "output_type": "stream",
          "name": "stdout",
          "text": [
            "EVAL\n",
            "Epoch: 01 | Epoch Time: 0m 10s\n",
            "\t Train Loss: 0.695 | Train Acc: 30.00%\n",
            "\t Val. Loss: 0.700  |  Val. Acc: 33.33%\n",
            "EVAL\n",
            "Epoch: 02 | Epoch Time: 0m 10s\n",
            "\t Train Loss: 0.693 | Train Acc: 66.67%\n",
            "\t Val. Loss: 0.699  |  Val. Acc: 33.33%\n",
            "EVAL\n",
            "Epoch: 03 | Epoch Time: 0m 10s\n",
            "\t Train Loss: 0.685 | Train Acc: 66.67%\n",
            "\t Val. Loss: 0.698  |  Val. Acc: 33.33%\n",
            "EVAL\n",
            "Epoch: 04 | Epoch Time: 0m 10s\n",
            "\t Train Loss: 0.678 | Train Acc: 80.00%\n",
            "\t Val. Loss: 0.695  |  Val. Acc: 33.33%\n",
            "EVAL\n",
            "Epoch: 05 | Epoch Time: 0m 10s\n",
            "\t Train Loss: 0.674 | Train Acc: 73.33%\n",
            "\t Val. Loss: 0.695  |  Val. Acc: 33.33%\n",
            "EVAL\n",
            "Epoch: 06 | Epoch Time: 0m 10s\n",
            "\t Train Loss: 0.673 | Train Acc: 73.33%\n",
            "\t Val. Loss: 0.696  |  Val. Acc: 33.33%\n",
            "EVAL\n",
            "Epoch: 07 | Epoch Time: 0m 10s\n",
            "\t Train Loss: 0.672 | Train Acc: 73.33%\n",
            "\t Val. Loss: 0.696  |  Val. Acc: 33.33%\n",
            "EVAL\n",
            "Epoch: 08 | Epoch Time: 0m 10s\n",
            "\t Train Loss: 0.668 | Train Acc: 66.67%\n",
            "\t Val. Loss: 0.696  |  Val. Acc: 33.33%\n",
            "EVAL\n",
            "Epoch: 09 | Epoch Time: 0m 10s\n",
            "\t Train Loss: 0.661 | Train Acc: 73.33%\n",
            "\t Val. Loss: 0.695  |  Val. Acc: 33.33%\n",
            "EVAL\n",
            "Epoch: 10 | Epoch Time: 0m 10s\n",
            "\t Train Loss: 0.656 | Train Acc: 73.33%\n",
            "\t Val. Loss: 0.695  |  Val. Acc: 33.33%\n",
            "EVAL\n",
            "Epoch: 11 | Epoch Time: 0m 10s\n",
            "\t Train Loss: 0.649 | Train Acc: 73.33%\n",
            "\t Val. Loss: 0.695  |  Val. Acc: 33.33%\n",
            "EVAL\n",
            "Epoch: 12 | Epoch Time: 0m 10s\n",
            "\t Train Loss: 0.652 | Train Acc: 73.33%\n",
            "\t Val. Loss: 0.694  |  Val. Acc: 33.33%\n",
            "EVAL\n",
            "Epoch: 13 | Epoch Time: 0m 10s\n",
            "\t Train Loss: 0.647 | Train Acc: 73.33%\n",
            "\t Val. Loss: 0.694  |  Val. Acc: 33.33%\n",
            "EVAL\n",
            "Epoch: 14 | Epoch Time: 0m 10s\n",
            "\t Train Loss: 0.635 | Train Acc: 73.33%\n",
            "\t Val. Loss: 0.693  |  Val. Acc: 33.33%\n",
            "EVAL\n",
            "Epoch: 15 | Epoch Time: 0m 10s\n",
            "\t Train Loss: 0.631 | Train Acc: 73.33%\n",
            "\t Val. Loss: 0.692  |  Val. Acc: 33.33%\n",
            "EVAL\n",
            "Epoch: 16 | Epoch Time: 0m 10s\n",
            "\t Train Loss: 0.619 | Train Acc: 73.33%\n",
            "\t Val. Loss: 0.692  |  Val. Acc: 33.33%\n",
            "EVAL\n",
            "Epoch: 17 | Epoch Time: 0m 10s\n",
            "\t Train Loss: 0.631 | Train Acc: 66.67%\n",
            "\t Val. Loss: 0.690  |  Val. Acc: 33.33%\n",
            "EVAL\n",
            "Epoch: 18 | Epoch Time: 0m 10s\n",
            "\t Train Loss: 0.632 | Train Acc: 66.67%\n",
            "\t Val. Loss: 0.687  |  Val. Acc: 33.33%\n",
            "EVAL\n",
            "Epoch: 19 | Epoch Time: 0m 10s\n",
            "\t Train Loss: 0.608 | Train Acc: 63.33%\n",
            "\t Val. Loss: 0.682  |  Val. Acc: 33.33%\n",
            "EVAL\n",
            "Epoch: 20 | Epoch Time: 0m 10s\n",
            "\t Train Loss: 0.594 | Train Acc: 63.33%\n",
            "\t Val. Loss: 0.678  |  Val. Acc: 66.67%\n",
            "EVAL\n",
            "Epoch: 21 | Epoch Time: 0m 11s\n",
            "\t Train Loss: 0.563 | Train Acc: 80.00%\n",
            "\t Val. Loss: 0.676  |  Val. Acc: 66.67%\n",
            "EVAL\n",
            "Epoch: 22 | Epoch Time: 0m 10s\n",
            "\t Train Loss: 0.586 | Train Acc: 63.33%\n",
            "\t Val. Loss: 0.675  |  Val. Acc: 66.67%\n",
            "EVAL\n",
            "Epoch: 23 | Epoch Time: 0m 10s\n",
            "\t Train Loss: 0.576 | Train Acc: 63.33%\n",
            "\t Val. Loss: 0.674  |  Val. Acc: 66.67%\n",
            "EVAL\n",
            "Epoch: 24 | Epoch Time: 0m 10s\n",
            "\t Train Loss: 0.552 | Train Acc: 63.33%\n",
            "\t Val. Loss: 0.673  |  Val. Acc: 66.67%\n",
            "EVAL\n",
            "Epoch: 25 | Epoch Time: 0m 10s\n",
            "\t Train Loss: 0.529 | Train Acc: 63.33%\n",
            "\t Val. Loss: 0.675  |  Val. Acc: 66.67%\n",
            "EVAL\n",
            "Epoch: 26 | Epoch Time: 0m 10s\n",
            "\t Train Loss: 0.555 | Train Acc: 56.67%\n",
            "\t Val. Loss: 0.675  |  Val. Acc: 66.67%\n",
            "EVAL\n",
            "Epoch: 27 | Epoch Time: 0m 10s\n",
            "\t Train Loss: 0.543 | Train Acc: 56.67%\n",
            "\t Val. Loss: 0.676  |  Val. Acc: 33.33%\n",
            "EVAL\n",
            "Epoch: 28 | Epoch Time: 0m 10s\n",
            "\t Train Loss: 0.467 | Train Acc: 70.00%\n",
            "\t Val. Loss: 0.672  |  Val. Acc: 66.67%\n",
            "EVAL\n",
            "Epoch: 29 | Epoch Time: 0m 10s\n",
            "\t Train Loss: 0.481 | Train Acc: 63.33%\n",
            "\t Val. Loss: 0.674  |  Val. Acc: 66.67%\n",
            "EVAL\n",
            "Epoch: 30 | Epoch Time: 0m 10s\n",
            "\t Train Loss: 0.406 | Train Acc: 70.00%\n",
            "\t Val. Loss: 0.673  |  Val. Acc: 66.67%\n",
            "EVAL\n",
            "Epoch: 31 | Epoch Time: 0m 10s\n",
            "\t Train Loss: 0.487 | Train Acc: 56.67%\n",
            "\t Val. Loss: 0.678  |  Val. Acc: 66.67%\n",
            "EVAL\n",
            "Epoch: 32 | Epoch Time: 0m 10s\n",
            "\t Train Loss: 0.394 | Train Acc: 63.33%\n",
            "\t Val. Loss: 0.691  |  Val. Acc: 66.67%\n",
            "EVAL\n",
            "Epoch: 33 | Epoch Time: 0m 10s\n",
            "\t Train Loss: 0.392 | Train Acc: 63.33%\n",
            "\t Val. Loss: 0.724  |  Val. Acc: 66.67%\n",
            "EVAL\n",
            "Epoch: 34 | Epoch Time: 0m 10s\n",
            "\t Train Loss: 0.339 | Train Acc: 63.33%\n",
            "\t Val. Loss: 0.956  |  Val. Acc: 66.67%\n",
            "EVAL\n",
            "Epoch: 35 | Epoch Time: 0m 10s\n",
            "\t Train Loss: 0.278 | Train Acc: 70.00%\n",
            "\t Val. Loss: 1.765  |  Val. Acc: 66.67%\n",
            "EVAL\n",
            "Epoch: 36 | Epoch Time: 0m 10s\n",
            "\t Train Loss: 0.359 | Train Acc: 90.00%\n",
            "\t Val. Loss: 2.037  |  Val. Acc: 66.67%\n",
            "EVAL\n",
            "Epoch: 37 | Epoch Time: 0m 10s\n",
            "\t Train Loss: 0.965 | Train Acc: 83.33%\n",
            "\t Val. Loss: 1.989  |  Val. Acc: 66.67%\n",
            "EVAL\n",
            "Epoch: 38 | Epoch Time: 0m 10s\n",
            "\t Train Loss: 0.361 | Train Acc: 83.33%\n",
            "\t Val. Loss: 1.686  |  Val. Acc: 66.67%\n",
            "EVAL\n",
            "Epoch: 39 | Epoch Time: 0m 10s\n",
            "\t Train Loss: 0.298 | Train Acc: 100.00%\n",
            "\t Val. Loss: 1.111  |  Val. Acc: 66.67%\n",
            "EVAL\n",
            "Epoch: 40 | Epoch Time: 0m 10s\n",
            "\t Train Loss: 0.220 | Train Acc: 100.00%\n",
            "\t Val. Loss: 0.562  |  Val. Acc: 66.67%\n",
            "EVAL\n",
            "Epoch: 41 | Epoch Time: 0m 10s\n",
            "\t Train Loss: 0.289 | Train Acc: 83.33%\n",
            "\t Val. Loss: 0.973  |  Val. Acc: 66.67%\n",
            "EVAL\n",
            "Epoch: 42 | Epoch Time: 0m 10s\n",
            "\t Train Loss: 0.862 | Train Acc: 73.33%\n",
            "\t Val. Loss: 0.804  |  Val. Acc: 66.67%\n",
            "EVAL\n",
            "Epoch: 43 | Epoch Time: 0m 10s\n",
            "\t Train Loss: 0.455 | Train Acc: 80.00%\n",
            "\t Val. Loss: 0.508  |  Val. Acc: 100.00%\n",
            "EVAL\n",
            "Epoch: 44 | Epoch Time: 0m 10s\n",
            "\t Train Loss: 0.330 | Train Acc: 83.33%\n",
            "\t Val. Loss: 0.494  |  Val. Acc: 100.00%\n",
            "EVAL\n",
            "Epoch: 45 | Epoch Time: 0m 10s\n",
            "\t Train Loss: 0.344 | Train Acc: 90.00%\n",
            "\t Val. Loss: 0.490  |  Val. Acc: 100.00%\n",
            "EVAL\n",
            "Epoch: 46 | Epoch Time: 0m 10s\n",
            "\t Train Loss: 0.334 | Train Acc: 90.00%\n",
            "\t Val. Loss: 0.488  |  Val. Acc: 100.00%\n",
            "EVAL\n",
            "Epoch: 47 | Epoch Time: 0m 10s\n",
            "\t Train Loss: 0.316 | Train Acc: 90.00%\n",
            "\t Val. Loss: 0.489  |  Val. Acc: 100.00%\n",
            "EVAL\n",
            "Epoch: 48 | Epoch Time: 0m 10s\n",
            "\t Train Loss: 0.276 | Train Acc: 90.00%\n",
            "\t Val. Loss: 0.495  |  Val. Acc: 100.00%\n",
            "EVAL\n",
            "Epoch: 49 | Epoch Time: 0m 10s\n",
            "\t Train Loss: 0.287 | Train Acc: 83.33%\n",
            "\t Val. Loss: 0.581  |  Val. Acc: 66.67%\n",
            "EVAL\n",
            "Epoch: 50 | Epoch Time: 0m 10s\n",
            "\t Train Loss: 0.230 | Train Acc: 90.00%\n",
            "\t Val. Loss: 0.904  |  Val. Acc: 33.33%\n"
          ]
        }
      ]
    },
    {
      "cell_type": "code",
      "source": [
        "train_accs"
      ],
      "metadata": {
        "colab": {
          "base_uri": "https://localhost:8080/"
        },
        "id": "gOaNhT9B1zxT",
        "outputId": "6ee4b5c4-3fe2-4952-8384-bc50090122bf"
      },
      "execution_count": 41,
      "outputs": [
        {
          "output_type": "execute_result",
          "data": {
            "text/plain": [
              "[0.30000001192092896,\n",
              " 0.6666666716337204,\n",
              " 0.6666666716337204,\n",
              " 0.800000011920929,\n",
              " 0.7333333492279053,\n",
              " 0.7333333492279053,\n",
              " 0.7333333492279053,\n",
              " 0.6666666716337204,\n",
              " 0.7333333492279053,\n",
              " 0.7333333492279053,\n",
              " 0.7333333492279053,\n",
              " 0.7333333492279053,\n",
              " 0.7333333492279053,\n",
              " 0.7333333492279053,\n",
              " 0.7333333492279053,\n",
              " 0.7333333492279053,\n",
              " 0.6666666716337204,\n",
              " 0.6666666716337204,\n",
              " 0.6333333551883698,\n",
              " 0.6333333551883698,\n",
              " 0.800000011920929,\n",
              " 0.6333333551883698,\n",
              " 0.6333333551883698,\n",
              " 0.6333333551883698,\n",
              " 0.6333333551883698,\n",
              " 0.5666666775941849,\n",
              " 0.5666666775941849,\n",
              " 0.7000000029802322,\n",
              " 0.6333333551883698,\n",
              " 0.7000000029802322,\n",
              " 0.5666666775941849,\n",
              " 0.6333333551883698,\n",
              " 0.6333333551883698,\n",
              " 0.6333333551883698,\n",
              " 0.7000000029802322,\n",
              " 0.9000000059604645,\n",
              " 0.8333333432674408,\n",
              " 0.8333333432674408,\n",
              " 1.0,\n",
              " 1.0,\n",
              " 0.8333333432674408,\n",
              " 0.7333333492279053,\n",
              " 0.800000011920929,\n",
              " 0.8333333432674408,\n",
              " 0.9000000059604645,\n",
              " 0.9000000059604645,\n",
              " 0.9000000059604645,\n",
              " 0.9000000059604645,\n",
              " 0.8333333432674408,\n",
              " 0.9000000059604645]"
            ]
          },
          "metadata": {},
          "execution_count": 41
        }
      ]
    },
    {
      "cell_type": "code",
      "source": [
        "import matplotlib.pyplot as plt\n",
        "fig = plt.figure(figsize=(10, 6))\n",
        "ax  = fig.add_subplot(1, 1, 1)\n",
        "ax.plot(train_losses, label = 'train loss')\n",
        "ax.plot(valid_losses, label = 'valid loss')\n",
        "plt.legend()\n",
        "ax.set_xlabel('updates')\n",
        "ax.set_ylabel('loss')"
      ],
      "metadata": {
        "colab": {
          "base_uri": "https://localhost:8080/",
          "height": 405
        },
        "id": "WfoWbyWnyp_K",
        "outputId": "04ca6d10-c627-4975-c976-060127390679"
      },
      "execution_count": 42,
      "outputs": [
        {
          "output_type": "execute_result",
          "data": {
            "text/plain": [
              "Text(0, 0.5, 'loss')"
            ]
          },
          "metadata": {},
          "execution_count": 42
        },
        {
          "output_type": "display_data",
          "data": {
            "text/plain": [
              "<Figure size 720x432 with 1 Axes>"
            ],
            "image/png": "[encoded data removed]"
          },
          "metadata": {
            "needs_background": "light"
          }
        }
      ]
    },
    {
      "cell_type": "code",
      "source": [
        "# fig = plt.figure(figsize=(10, 6))\n",
        "# ax  = fig.add_subplot(1, 1, 1)\n",
        "# ax.plot(train_accs, label = 'train acc')\n",
        "# ax.plot(valid_accs, label = 'valid acc')\n",
        "# plt.legend()\n",
        "# ax.set_xlabel('updates')\n",
        "# ax.set_ylabel('acc')"
      ],
      "metadata": {
        "id": "mAgd8-Pt35gu"
      },
      "execution_count": 45,
      "outputs": []
    },
    {
      "cell_type": "code",
      "source": [
        "model.load_state_dict(torch.load('./models/StressLSTMv2.pt'))\n",
        "test_loss, test_acc = evaluate(model, test_loader, criterion)\n",
        "\n",
        "print(f'Test Loss: {test_loss:.3f} | Test Acc: {test_acc*100:.2f}%')"
      ],
      "metadata": {
        "colab": {
          "base_uri": "https://localhost:8080/"
        },
        "id": "0bb5mRKYXN9l",
        "outputId": "094e8806-ac7d-4b18-8f81-a3acf7d84611"
      },
      "execution_count": 44,
      "outputs": [
        {
          "output_type": "stream",
          "name": "stdout",
          "text": [
            "Test Loss: 0.770 | Test Acc: 50.00%\n"
          ]
        }
      ]
    },
    {
      "cell_type": "code",
      "source": [],
      "metadata": {
        "id": "1kA0rg3JXvQB"
      },
      "execution_count": 44,
      "outputs": []
    }
  ]
}
