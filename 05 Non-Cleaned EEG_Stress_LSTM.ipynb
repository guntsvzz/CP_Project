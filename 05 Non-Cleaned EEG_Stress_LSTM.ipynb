{
  "cells": [
    {
      "cell_type": "markdown",
      "metadata": {
        "colab_type": "text",
        "id": "view-in-github"
      },
      "source": [
        "<a href=\"https://colab.research.google.com/github/guntsvzz/CP_Project/blob/main/EEG_Stress_LSTM.ipynb\" target=\"_parent\"><img src=\"https://colab.research.google.com/assets/colab-badge.svg\" alt=\"Open In Colab\"/></a>"
      ]
    },
    {
      "cell_type": "code",
      "execution_count": 1,
      "metadata": {
        "colab": {
          "base_uri": "https://localhost:8080/"
        },
        "id": "Aa7uKqb0QGc9",
        "outputId": "78dd1ca8-9f0c-4149-8b85-70f29294b67e"
      },
      "outputs": [
        {
          "name": "stdout",
          "output_type": "stream",
          "text": [
            "Looking in indexes: https://pypi.org/simple, https://us-python.pkg.dev/colab-wheels/public/simple/\n",
            "Collecting mne\n",
            "  Downloading mne-1.2.2-py3-none-any.whl (7.6 MB)\n",
            "\u001b[K     |████████████████████████████████| 7.6 MB 4.4 MB/s \n",
            "\u001b[?25hRequirement already satisfied: packaging in /usr/local/lib/python3.7/dist-packages (from mne) (21.3)\n",
            "Requirement already satisfied: jinja2 in /usr/local/lib/python3.7/dist-packages (from mne) (2.11.3)\n",
            "Requirement already satisfied: scipy>=1.1.0 in /usr/local/lib/python3.7/dist-packages (from mne) (1.7.3)\n",
            "Requirement already satisfied: pooch>=1.5 in /usr/local/lib/python3.7/dist-packages (from mne) (1.6.0)\n",
            "Requirement already satisfied: matplotlib in /usr/local/lib/python3.7/dist-packages (from mne) (3.2.2)\n",
            "Requirement already satisfied: numpy>=1.15.4 in /usr/local/lib/python3.7/dist-packages (from mne) (1.21.6)\n",
            "Requirement already satisfied: tqdm in /usr/local/lib/python3.7/dist-packages (from mne) (4.64.1)\n",
            "Requirement already satisfied: decorator in /usr/local/lib/python3.7/dist-packages (from mne) (4.4.2)\n",
            "Requirement already satisfied: requests>=2.19.0 in /usr/local/lib/python3.7/dist-packages (from pooch>=1.5->mne) (2.23.0)\n",
            "Requirement already satisfied: appdirs>=1.3.0 in /usr/local/lib/python3.7/dist-packages (from pooch>=1.5->mne) (1.4.4)\n",
            "Requirement already satisfied: pyparsing!=3.0.5,>=2.0.2 in /usr/local/lib/python3.7/dist-packages (from packaging->mne) (3.0.9)\n",
            "Requirement already satisfied: chardet<4,>=3.0.2 in /usr/local/lib/python3.7/dist-packages (from requests>=2.19.0->pooch>=1.5->mne) (3.0.4)\n",
            "Requirement already satisfied: urllib3!=1.25.0,!=1.25.1,<1.26,>=1.21.1 in /usr/local/lib/python3.7/dist-packages (from requests>=2.19.0->pooch>=1.5->mne) (1.24.3)\n",
            "Requirement already satisfied: certifi>=2017.4.17 in /usr/local/lib/python3.7/dist-packages (from requests>=2.19.0->pooch>=1.5->mne) (2022.9.24)\n",
            "Requirement already satisfied: idna<3,>=2.5 in /usr/local/lib/python3.7/dist-packages (from requests>=2.19.0->pooch>=1.5->mne) (2.10)\n",
            "Requirement already satisfied: MarkupSafe>=0.23 in /usr/local/lib/python3.7/dist-packages (from jinja2->mne) (2.0.1)\n",
            "Requirement already satisfied: cycler>=0.10 in /usr/local/lib/python3.7/dist-packages (from matplotlib->mne) (0.11.0)\n",
            "Requirement already satisfied: python-dateutil>=2.1 in /usr/local/lib/python3.7/dist-packages (from matplotlib->mne) (2.8.2)\n",
            "Requirement already satisfied: kiwisolver>=1.0.1 in /usr/local/lib/python3.7/dist-packages (from matplotlib->mne) (1.4.4)\n",
            "Requirement already satisfied: typing-extensions in /usr/local/lib/python3.7/dist-packages (from kiwisolver>=1.0.1->matplotlib->mne) (4.1.1)\n",
            "Requirement already satisfied: six>=1.5 in /usr/local/lib/python3.7/dist-packages (from python-dateutil>=2.1->matplotlib->mne) (1.15.0)\n",
            "Installing collected packages: mne\n",
            "Successfully installed mne-1.2.2\n"
          ]
        }
      ],
      "source": [
        "pip install mne"
      ]
    },
    {
      "cell_type": "code",
      "execution_count": 2,
      "metadata": {
        "colab": {
          "base_uri": "https://localhost:8080/"
        },
        "id": "wst52ie6eNKc",
        "outputId": "2298d7d1-246f-4f23-f75a-e60d2daefdfc"
      },
      "outputs": [
        {
          "name": "stdout",
          "output_type": "stream",
          "text": [
            "Looking in indexes: https://pypi.org/simple, https://us-python.pkg.dev/colab-wheels/public/simple/\n",
            "Collecting components\n",
            "  Downloading components-1.2.8-py3-none-any.whl (11 kB)\n",
            "Installing collected packages: components\n",
            "Successfully installed components-1.2.8\n"
          ]
        }
      ],
      "source": [
        "pip install components"
      ]
    },
    {
      "cell_type": "code",
      "execution_count": 3,
      "metadata": {
        "colab": {
          "base_uri": "https://localhost:8080/"
        },
        "id": "d1c3t0r-NoDI",
        "outputId": "68b67e82-f566-4c0b-e5be-dfcab2c648e5"
      },
      "outputs": [
        {
          "data": {
            "text/plain": [
              "<torch._C.Generator at 0x7fea28458ab0>"
            ]
          },
          "execution_count": 3,
          "metadata": {},
          "output_type": "execute_result"
        }
      ],
      "source": [
        "import pickle\n",
        "import numpy as np\n",
        "import os\n",
        "import mne\n",
        "import pandas as pd\n",
        "pickle.format_version\n",
        "\n",
        "import torch\n",
        "import torch.nn as nn\n",
        "import torch.nn.functional as F\n",
        "from torchvision import datasets, transforms  \n",
        "from torch.utils.data import DataLoader, Dataset  \n",
        "from torch.utils.data import TensorDataset\n",
        "from torch.autograd import Variable\n",
        "\n",
        "import pandas as pd\n",
        "from sklearn.metrics import confusion_matrix, ConfusionMatrixDisplay\n",
        "import matplotlib.pyplot as plt\n",
        "\n",
        "from sklearn.model_selection import train_test_split\n",
        "\n",
        "# setting seed so that splitting process and training process can be reproduce\n",
        "torch.manual_seed(1)"
      ]
    },
    {
      "cell_type": "markdown",
      "metadata": {
        "id": "N7jGaewr-JW2"
      },
      "source": [
        "# Import File"
      ]
    },
    {
      "cell_type": "code",
      "execution_count": 4,
      "metadata": {
        "colab": {
          "base_uri": "https://localhost:8080/"
        },
        "id": "-BnYRgITQEbb",
        "outputId": "bae144a8-0f87-4b4f-fb1a-f8b2ff606014"
      },
      "outputs": [
        {
          "name": "stdout",
          "output_type": "stream",
          "text": [
            "['exp1_Ati.csv', 'exp2_Tonson.csv', 'exp3_Pyae.csv', 'exp4_Duc.csv', 'exp5_And.csv', 'exp6_Sayaka.csv', 'exp7_Suyoga.csv', 'exp8_Arti.csv', 'exp9_Amanda.csv', 'exp10_Sapna.csv', 'exp11_Data.csv', 'exp12_Jirasak.csv', 'exp13_Max.csv', 'exp14_Ayush.csv', 'exp15_Dipesh.csv', 'exp16_Shashank.csv', 'exp17_Mi.csv']\n"
          ]
        }
      ],
      "source": [
        "main_path = os.getcwd()\n",
        "all_file = os.listdir()\n",
        "file_name = list()\n",
        "for file in all_file:\n",
        "    if file[0:3] == 'exp':\n",
        "        file_name.append(file)\n",
        "file_name = sorted(file_name)\n",
        "file = file_name[8:] + file_name[0:8]\n",
        "print(file)"
      ]
    },
    {
      "cell_type": "markdown",
      "metadata": {
        "id": "z8LdChwD-PuU"
      },
      "source": [
        "# Define Channel"
      ]
    },
    {
      "cell_type": "code",
      "execution_count": 5,
      "metadata": {
        "colab": {
          "base_uri": "https://localhost:8080/",
          "height": 487
        },
        "id": "InHALuhvQSk_",
        "outputId": "2865c76a-b512-4eb2-8e27-32313b9674f6"
      },
      "outputs": [
        {
          "data": {
            "text/html": [
              "\n",
              "  <div id=\"df-a2805bb0-623c-4592-a753-bc2cdeab0b19\">\n",
              "    <div class=\"colab-df-container\">\n",
              "      <div>\n",
              "<style scoped>\n",
              "    .dataframe tbody tr th:only-of-type {\n",
              "        vertical-align: middle;\n",
              "    }\n",
              "\n",
              "    .dataframe tbody tr th {\n",
              "        vertical-align: top;\n",
              "    }\n",
              "\n",
              "    .dataframe thead th {\n",
              "        text-align: right;\n",
              "    }\n",
              "</style>\n",
              "<table border=\"1\" class=\"dataframe\">\n",
              "  <thead>\n",
              "    <tr style=\"text-align: right;\">\n",
              "      <th></th>\n",
              "      <th>Fp1</th>\n",
              "      <th>Fp2</th>\n",
              "      <th>F7</th>\n",
              "      <th>F3</th>\n",
              "      <th>F4</th>\n",
              "      <th>F8</th>\n",
              "      <th>T3</th>\n",
              "      <th>C3</th>\n",
              "      <th>C4</th>\n",
              "      <th>T4</th>\n",
              "      <th>T5</th>\n",
              "      <th>P3</th>\n",
              "      <th>P4</th>\n",
              "      <th>T6</th>\n",
              "      <th>O1</th>\n",
              "      <th>O2</th>\n",
              "    </tr>\n",
              "  </thead>\n",
              "  <tbody>\n",
              "    <tr>\n",
              "      <th>0</th>\n",
              "      <td>-3203.250850</td>\n",
              "      <td>-7278.934989</td>\n",
              "      <td>-22030.236963</td>\n",
              "      <td>-9343.319755</td>\n",
              "      <td>-3711.417760</td>\n",
              "      <td>2255.693347</td>\n",
              "      <td>-12633.653001</td>\n",
              "      <td>3538.079982</td>\n",
              "      <td>-22537.129824</td>\n",
              "      <td>-5153.306443</td>\n",
              "      <td>-16958.246166</td>\n",
              "      <td>-12598.918390</td>\n",
              "      <td>-25105.434669</td>\n",
              "      <td>-17961.593623</td>\n",
              "      <td>-23601.229322</td>\n",
              "      <td>-12943.850511</td>\n",
              "    </tr>\n",
              "    <tr>\n",
              "      <th>1</th>\n",
              "      <td>-3201.261544</td>\n",
              "      <td>-7280.209038</td>\n",
              "      <td>-22023.464384</td>\n",
              "      <td>-9339.251738</td>\n",
              "      <td>-3717.095103</td>\n",
              "      <td>2254.843981</td>\n",
              "      <td>-12623.482957</td>\n",
              "      <td>3549.121743</td>\n",
              "      <td>-22528.434995</td>\n",
              "      <td>-5154.111106</td>\n",
              "      <td>-16954.200501</td>\n",
              "      <td>-12597.577285</td>\n",
              "      <td>-25057.289011</td>\n",
              "      <td>-17954.262251</td>\n",
              "      <td>-23595.775496</td>\n",
              "      <td>-12940.073066</td>\n",
              "    </tr>\n",
              "    <tr>\n",
              "      <th>2</th>\n",
              "      <td>-3196.210050</td>\n",
              "      <td>-7273.592922</td>\n",
              "      <td>-22024.492565</td>\n",
              "      <td>-9336.636583</td>\n",
              "      <td>-3709.696676</td>\n",
              "      <td>2258.263798</td>\n",
              "      <td>-12628.355638</td>\n",
              "      <td>3541.052764</td>\n",
              "      <td>-22536.682789</td>\n",
              "      <td>-5150.914806</td>\n",
              "      <td>-16955.631012</td>\n",
              "      <td>-12597.934913</td>\n",
              "      <td>-25113.861276</td>\n",
              "      <td>-17958.620841</td>\n",
              "      <td>-23597.206008</td>\n",
              "      <td>-12945.079857</td>\n",
              "    </tr>\n",
              "    <tr>\n",
              "      <th>3</th>\n",
              "      <td>-3200.680399</td>\n",
              "      <td>-7275.045785</td>\n",
              "      <td>-22027.152422</td>\n",
              "      <td>-9340.548139</td>\n",
              "      <td>-3711.887146</td>\n",
              "      <td>2257.839114</td>\n",
              "      <td>-12625.986353</td>\n",
              "      <td>3540.337508</td>\n",
              "      <td>-22531.653646</td>\n",
              "      <td>-5155.362803</td>\n",
              "      <td>-16966.918643</td>\n",
              "      <td>-12605.355693</td>\n",
              "      <td>-25079.171369</td>\n",
              "      <td>-17968.075629</td>\n",
              "      <td>-23611.891104</td>\n",
              "      <td>-12950.332516</td>\n",
              "    </tr>\n",
              "    <tr>\n",
              "      <th>4</th>\n",
              "      <td>-3200.434530</td>\n",
              "      <td>-7280.454907</td>\n",
              "      <td>-22023.263219</td>\n",
              "      <td>-9337.888281</td>\n",
              "      <td>-3719.866719</td>\n",
              "      <td>2250.083059</td>\n",
              "      <td>-12625.360504</td>\n",
              "      <td>3544.740801</td>\n",
              "      <td>-22535.162870</td>\n",
              "      <td>-5155.876894</td>\n",
              "      <td>-16955.586309</td>\n",
              "      <td>-12599.141908</td>\n",
              "      <td>-25085.094581</td>\n",
              "      <td>-17956.765647</td>\n",
              "      <td>-23594.814371</td>\n",
              "      <td>-12943.895214</td>\n",
              "    </tr>\n",
              "    <tr>\n",
              "      <th>...</th>\n",
              "      <td>...</td>\n",
              "      <td>...</td>\n",
              "      <td>...</td>\n",
              "      <td>...</td>\n",
              "      <td>...</td>\n",
              "      <td>...</td>\n",
              "      <td>...</td>\n",
              "      <td>...</td>\n",
              "      <td>...</td>\n",
              "      <td>...</td>\n",
              "      <td>...</td>\n",
              "      <td>...</td>\n",
              "      <td>...</td>\n",
              "      <td>...</td>\n",
              "      <td>...</td>\n",
              "      <td>...</td>\n",
              "    </tr>\n",
              "    <tr>\n",
              "      <th>44995</th>\n",
              "      <td>-1023.687544</td>\n",
              "      <td>-4436.709516</td>\n",
              "      <td>-24608.175410</td>\n",
              "      <td>-7672.683319</td>\n",
              "      <td>-870.712205</td>\n",
              "      <td>3996.514260</td>\n",
              "      <td>-11068.561503</td>\n",
              "      <td>2068.966874</td>\n",
              "      <td>-19891.152667</td>\n",
              "      <td>-2561.196990</td>\n",
              "      <td>-15042.232280</td>\n",
              "      <td>-10727.473882</td>\n",
              "      <td>-23593.182694</td>\n",
              "      <td>-15365.058525</td>\n",
              "      <td>-21944.339209</td>\n",
              "      <td>-10726.311591</td>\n",
              "    </tr>\n",
              "    <tr>\n",
              "      <th>44996</th>\n",
              "      <td>-1016.534986</td>\n",
              "      <td>-4433.557920</td>\n",
              "      <td>-24602.051032</td>\n",
              "      <td>-7667.207142</td>\n",
              "      <td>-870.868667</td>\n",
              "      <td>3997.363627</td>\n",
              "      <td>-11064.828761</td>\n",
              "      <td>2070.620903</td>\n",
              "      <td>-19898.282873</td>\n",
              "      <td>-2560.526438</td>\n",
              "      <td>-15037.672524</td>\n",
              "      <td>-10726.758626</td>\n",
              "      <td>-23615.623846</td>\n",
              "      <td>-15353.480322</td>\n",
              "      <td>-21941.701703</td>\n",
              "      <td>-10729.016153</td>\n",
              "    </tr>\n",
              "    <tr>\n",
              "      <th>44997</th>\n",
              "      <td>-1015.238585</td>\n",
              "      <td>-4427.813521</td>\n",
              "      <td>-24602.676881</td>\n",
              "      <td>-7664.524932</td>\n",
              "      <td>-859.826906</td>\n",
              "      <td>4002.616287</td>\n",
              "      <td>-11067.220398</td>\n",
              "      <td>2069.458612</td>\n",
              "      <td>-19891.867923</td>\n",
              "      <td>-2558.313615</td>\n",
              "      <td>-15045.048600</td>\n",
              "      <td>-10730.424312</td>\n",
              "      <td>-23618.797793</td>\n",
              "      <td>-15361.482246</td>\n",
              "      <td>-21954.531605</td>\n",
              "      <td>-10730.089036</td>\n",
              "    </tr>\n",
              "    <tr>\n",
              "      <th>44998</th>\n",
              "      <td>-1018.189015</td>\n",
              "      <td>-4432.820312</td>\n",
              "      <td>-24600.844038</td>\n",
              "      <td>-7668.280026</td>\n",
              "      <td>-871.963903</td>\n",
              "      <td>4003.420949</td>\n",
              "      <td>-11061.364241</td>\n",
              "      <td>2073.280760</td>\n",
              "      <td>-19889.163362</td>\n",
              "      <td>-2559.073574</td>\n",
              "      <td>-15034.945611</td>\n",
              "      <td>-10725.953964</td>\n",
              "      <td>-23582.744429</td>\n",
              "      <td>-15350.127560</td>\n",
              "      <td>-21938.706570</td>\n",
              "      <td>-10721.908298</td>\n",
              "    </tr>\n",
              "    <tr>\n",
              "      <th>44999</th>\n",
              "      <td>-1012.243451</td>\n",
              "      <td>-4424.617222</td>\n",
              "      <td>-24602.632177</td>\n",
              "      <td>-7664.100249</td>\n",
              "      <td>-860.475106</td>\n",
              "      <td>4003.309191</td>\n",
              "      <td>-11065.476962</td>\n",
              "      <td>2068.184563</td>\n",
              "      <td>-19896.986472</td>\n",
              "      <td>-2556.748993</td>\n",
              "      <td>-15037.873690</td>\n",
              "      <td>-10727.071551</td>\n",
              "      <td>-23631.024197</td>\n",
              "      <td>-15354.642612</td>\n",
              "      <td>-21942.439311</td>\n",
              "      <td>-10726.669219</td>\n",
              "    </tr>\n",
              "  </tbody>\n",
              "</table>\n",
              "<p>45000 rows × 16 columns</p>\n",
              "</div>\n",
              "      <button class=\"colab-df-convert\" onclick=\"convertToInteractive('df-a2805bb0-623c-4592-a753-bc2cdeab0b19')\"\n",
              "              title=\"Convert this dataframe to an interactive table.\"\n",
              "              style=\"display:none;\">\n",
              "        \n",
              "  <svg xmlns=\"http://www.w3.org/2000/svg\" height=\"24px\"viewBox=\"0 0 24 24\"\n",
              "       width=\"24px\">\n",
              "    <path d=\"M0 0h24v24H0V0z\" fill=\"none\"/>\n",
              "    <path d=\"M18.56 5.44l.94 2.06.94-2.06 2.06-.94-2.06-.94-.94-2.06-.94 2.06-2.06.94zm-11 1L8.5 8.5l.94-2.06 2.06-.94-2.06-.94L8.5 2.5l-.94 2.06-2.06.94zm10 10l.94 2.06.94-2.06 2.06-.94-2.06-.94-.94-2.06-.94 2.06-2.06.94z\"/><path d=\"M17.41 7.96l-1.37-1.37c-.4-.4-.92-.59-1.43-.59-.52 0-1.04.2-1.43.59L10.3 9.45l-7.72 7.72c-.78.78-.78 2.05 0 2.83L4 21.41c.39.39.9.59 1.41.59.51 0 1.02-.2 1.41-.59l7.78-7.78 2.81-2.81c.8-.78.8-2.07 0-2.86zM5.41 20L4 18.59l7.72-7.72 1.47 1.35L5.41 20z\"/>\n",
              "  </svg>\n",
              "      </button>\n",
              "      \n",
              "  <style>\n",
              "    .colab-df-container {\n",
              "      display:flex;\n",
              "      flex-wrap:wrap;\n",
              "      gap: 12px;\n",
              "    }\n",
              "\n",
              "    .colab-df-convert {\n",
              "      background-color: #E8F0FE;\n",
              "      border: none;\n",
              "      border-radius: 50%;\n",
              "      cursor: pointer;\n",
              "      display: none;\n",
              "      fill: #1967D2;\n",
              "      height: 32px;\n",
              "      padding: 0 0 0 0;\n",
              "      width: 32px;\n",
              "    }\n",
              "\n",
              "    .colab-df-convert:hover {\n",
              "      background-color: #E2EBFA;\n",
              "      box-shadow: 0px 1px 2px rgba(60, 64, 67, 0.3), 0px 1px 3px 1px rgba(60, 64, 67, 0.15);\n",
              "      fill: #174EA6;\n",
              "    }\n",
              "\n",
              "    [theme=dark] .colab-df-convert {\n",
              "      background-color: #3B4455;\n",
              "      fill: #D2E3FC;\n",
              "    }\n",
              "\n",
              "    [theme=dark] .colab-df-convert:hover {\n",
              "      background-color: #434B5C;\n",
              "      box-shadow: 0px 1px 3px 1px rgba(0, 0, 0, 0.15);\n",
              "      filter: drop-shadow(0px 1px 2px rgba(0, 0, 0, 0.3));\n",
              "      fill: #FFFFFF;\n",
              "    }\n",
              "  </style>\n",
              "\n",
              "      <script>\n",
              "        const buttonEl =\n",
              "          document.querySelector('#df-a2805bb0-623c-4592-a753-bc2cdeab0b19 button.colab-df-convert');\n",
              "        buttonEl.style.display =\n",
              "          google.colab.kernel.accessAllowed ? 'block' : 'none';\n",
              "\n",
              "        async function convertToInteractive(key) {\n",
              "          const element = document.querySelector('#df-a2805bb0-623c-4592-a753-bc2cdeab0b19');\n",
              "          const dataTable =\n",
              "            await google.colab.kernel.invokeFunction('convertToInteractive',\n",
              "                                                     [key], {});\n",
              "          if (!dataTable) return;\n",
              "\n",
              "          const docLinkHtml = 'Like what you see? Visit the ' +\n",
              "            '<a target=\"_blank\" href=https://colab.research.google.com/notebooks/data_table.ipynb>data table notebook</a>'\n",
              "            + ' to learn more about interactive tables.';\n",
              "          element.innerHTML = '';\n",
              "          dataTable['output_type'] = 'display_data';\n",
              "          await google.colab.output.renderOutput(dataTable, element);\n",
              "          const docLink = document.createElement('div');\n",
              "          docLink.innerHTML = docLinkHtml;\n",
              "          element.appendChild(docLink);\n",
              "        }\n",
              "      </script>\n",
              "    </div>\n",
              "  </div>\n",
              "  "
            ],
            "text/plain": [
              "               Fp1          Fp2            F7           F3           F4  \\\n",
              "0     -3203.250850 -7278.934989 -22030.236963 -9343.319755 -3711.417760   \n",
              "1     -3201.261544 -7280.209038 -22023.464384 -9339.251738 -3717.095103   \n",
              "2     -3196.210050 -7273.592922 -22024.492565 -9336.636583 -3709.696676   \n",
              "3     -3200.680399 -7275.045785 -22027.152422 -9340.548139 -3711.887146   \n",
              "4     -3200.434530 -7280.454907 -22023.263219 -9337.888281 -3719.866719   \n",
              "...            ...          ...           ...          ...          ...   \n",
              "44995 -1023.687544 -4436.709516 -24608.175410 -7672.683319  -870.712205   \n",
              "44996 -1016.534986 -4433.557920 -24602.051032 -7667.207142  -870.868667   \n",
              "44997 -1015.238585 -4427.813521 -24602.676881 -7664.524932  -859.826906   \n",
              "44998 -1018.189015 -4432.820312 -24600.844038 -7668.280026  -871.963903   \n",
              "44999 -1012.243451 -4424.617222 -24602.632177 -7664.100249  -860.475106   \n",
              "\n",
              "                F8            T3           C3            C4           T4  \\\n",
              "0      2255.693347 -12633.653001  3538.079982 -22537.129824 -5153.306443   \n",
              "1      2254.843981 -12623.482957  3549.121743 -22528.434995 -5154.111106   \n",
              "2      2258.263798 -12628.355638  3541.052764 -22536.682789 -5150.914806   \n",
              "3      2257.839114 -12625.986353  3540.337508 -22531.653646 -5155.362803   \n",
              "4      2250.083059 -12625.360504  3544.740801 -22535.162870 -5155.876894   \n",
              "...            ...           ...          ...           ...          ...   \n",
              "44995  3996.514260 -11068.561503  2068.966874 -19891.152667 -2561.196990   \n",
              "44996  3997.363627 -11064.828761  2070.620903 -19898.282873 -2560.526438   \n",
              "44997  4002.616287 -11067.220398  2069.458612 -19891.867923 -2558.313615   \n",
              "44998  4003.420949 -11061.364241  2073.280760 -19889.163362 -2559.073574   \n",
              "44999  4003.309191 -11065.476962  2068.184563 -19896.986472 -2556.748993   \n",
              "\n",
              "                 T5            P3            P4            T6            O1  \\\n",
              "0     -16958.246166 -12598.918390 -25105.434669 -17961.593623 -23601.229322   \n",
              "1     -16954.200501 -12597.577285 -25057.289011 -17954.262251 -23595.775496   \n",
              "2     -16955.631012 -12597.934913 -25113.861276 -17958.620841 -23597.206008   \n",
              "3     -16966.918643 -12605.355693 -25079.171369 -17968.075629 -23611.891104   \n",
              "4     -16955.586309 -12599.141908 -25085.094581 -17956.765647 -23594.814371   \n",
              "...             ...           ...           ...           ...           ...   \n",
              "44995 -15042.232280 -10727.473882 -23593.182694 -15365.058525 -21944.339209   \n",
              "44996 -15037.672524 -10726.758626 -23615.623846 -15353.480322 -21941.701703   \n",
              "44997 -15045.048600 -10730.424312 -23618.797793 -15361.482246 -21954.531605   \n",
              "44998 -15034.945611 -10725.953964 -23582.744429 -15350.127560 -21938.706570   \n",
              "44999 -15037.873690 -10727.071551 -23631.024197 -15354.642612 -21942.439311   \n",
              "\n",
              "                 O2  \n",
              "0     -12943.850511  \n",
              "1     -12940.073066  \n",
              "2     -12945.079857  \n",
              "3     -12950.332516  \n",
              "4     -12943.895214  \n",
              "...             ...  \n",
              "44995 -10726.311591  \n",
              "44996 -10729.016153  \n",
              "44997 -10730.089036  \n",
              "44998 -10721.908298  \n",
              "44999 -10726.669219  \n",
              "\n",
              "[45000 rows x 16 columns]"
            ]
          },
          "execution_count": 5,
          "metadata": {},
          "output_type": "execute_result"
        }
      ],
      "source": [
        "df1 = pd.read_csv(main_path + '/' + file[0])\n",
        "df1 = df1.drop(columns=['Unnamed: 0', '0', '17', '18', '19', '20', '21', '22',\n",
        "       '23', '24', '25', '26', '27', '28', '29', '30', '31'])\n",
        "df1.columns = ['Fp1', 'Fp2', 'F7', 'F3', 'F4', 'F8', 'T3', 'C3', 'C4', 'T4', 'T5', 'P3', 'P4', 'T6', 'O1', 'O2']\n",
        "df1"
      ]
    },
    {
      "cell_type": "code",
      "execution_count": 6,
      "metadata": {
        "id": "VaLsNR5fQVeT"
      },
      "outputs": [],
      "source": [
        "# Drop some columns and save it into the new file.\n",
        "for i in range(len(file)):\n",
        "    converted_signal_path = main_path + '/Converted_signal/' + 'Conv_' + file[i]\n",
        "    df = pd.read_csv(main_path + '/' + file[i])\n",
        "    df = df.drop(columns=['Unnamed: 0', '0', '17', '18', '19', '20', '21', '22',\n",
        "        '23', '24', '25', '26', '27', '28', '29', '30', '31'])\n",
        "    df.columns = ['Fp1', 'Fp2', 'F7', 'F3', 'F4', 'F8', 'T3', 'C3', 'C4', 'T4', 'T5', 'P3', 'P4', 'T6', 'O1', 'O2']\n",
        "    df = df.set_index(df.columns[0])\n",
        "    df.to_csv(converted_signal_path)"
      ]
    },
    {
      "cell_type": "code",
      "execution_count": 7,
      "metadata": {
        "id": "C-h3CINLQatU"
      },
      "outputs": [],
      "source": [
        "def df_to_raw(df):\n",
        "    ch_names = ['Fp1', 'Fp2', 'F7', 'F3', 'F4', 'F8', 'T3', 'C3', 'C4', 'T4', 'T5', 'P3', 'P4', 'T6', 'O1', 'O2']\n",
        "    ch_types = ['eeg'] * len(ch_names)\n",
        "    df = df.T\n",
        "    sampling_rate = 250 #Hz\n",
        "    info = mne.create_info(ch_names=ch_names, ch_types=ch_types, sfreq=sampling_rate)\n",
        "    raw = mne.io.RawArray(df, info)\n",
        "    raw.set_montage('standard_1020')\n",
        "    return raw"
      ]
    },
    {
      "cell_type": "code",
      "execution_count": 8,
      "metadata": {
        "id": "lMMdhk5YV_xY"
      },
      "outputs": [],
      "source": [
        "from mne import Epochs, find_events\n",
        "\n",
        "def getEpochs(raw, event_id, tmin, tmax, picks):\n",
        "\n",
        "    #epoching\n",
        "    events = find_events(raw)\n",
        "    epochs = Epochs(raw, events=events, event_id=event_id, \n",
        "                    tmin=tmin, tmax=tmax, baseline=None, preload=True,verbose=False, picks=picks)  #8 channels\n",
        "    print('sample drop %: ', (1 - len(epochs.events)/len(events)) * 100)\n",
        "\n",
        "    return epochs"
      ]
    },
    {
      "cell_type": "code",
      "execution_count": 9,
      "metadata": {
        "colab": {
          "base_uri": "https://localhost:8080/"
        },
        "id": "y1xTtVbVWCKr",
        "outputId": "3a41c844-1aa1-4c3d-c1a0-b20530f7a83e"
      },
      "outputs": [
        {
          "data": {
            "text/plain": [
              "['Conv_exp9_Amanda.csv',\n",
              " 'Conv_exp7_Suyoga.csv',\n",
              " 'Conv_exp5_And.csv',\n",
              " 'Conv_exp16_Shashank.csv',\n",
              " 'Conv_exp13_Max.csv',\n",
              " 'Conv_exp1_Ati.csv',\n",
              " 'Conv_exp14_Ayush.csv',\n",
              " 'Conv_exp2_Tonson.csv',\n",
              " 'Conv_exp3_Pyae.csv',\n",
              " 'Conv_exp10_Sapna.csv',\n",
              " 'Conv_exp17_Mi.csv',\n",
              " 'Conv_exp8_Arti.csv',\n",
              " 'Conv_exp6_Sayaka.csv',\n",
              " 'Conv_exp12_Jirasak.csv',\n",
              " 'Conv_exp11_Data.csv',\n",
              " 'Conv_exp4_Duc.csv',\n",
              " 'Conv_exp15_Dipesh.csv']"
            ]
          },
          "execution_count": 9,
          "metadata": {},
          "output_type": "execute_result"
        }
      ],
      "source": [
        "# Get the name of converted data\n",
        "main_path = os.getcwd()\n",
        "all_file = os.listdir(main_path + '/Converted_signal')\n",
        "conv_list = all_file[8:] + all_file[0:8]\n",
        "conv_list"
      ]
    },
    {
      "cell_type": "code",
      "execution_count": 10,
      "metadata": {
        "id": "GmQQw7M1bG2q"
      },
      "outputs": [],
      "source": [
        "file_path = main_path + '/Converted_signal/'\n",
        "all_data = []\n",
        "for file in conv_list:\n",
        "    path = file_path + file\n",
        "    df = pd.read_csv(path)\n",
        "    all_data.append(df)"
      ]
    },
    {
      "cell_type": "code",
      "execution_count": 11,
      "metadata": {
        "id": "2K3PMBymWF4D"
      },
      "outputs": [],
      "source": [
        "X = np.array(all_data)\n",
        "X = np.transpose(X, (0, 2, 1))"
      ]
    },
    {
      "cell_type": "markdown",
      "metadata": {
        "id": "I8-gUgAA-jTs"
      },
      "source": [
        "# Import PSS10 data"
      ]
    },
    {
      "cell_type": "code",
      "execution_count": 12,
      "metadata": {
        "colab": {
          "base_uri": "https://localhost:8080/"
        },
        "id": "8gKSQ4T0alV4",
        "outputId": "9bca4d28-a3cd-4178-b6fe-bd4f4d40139f"
      },
      "outputs": [
        {
          "data": {
            "text/plain": [
              "array([1, 1, 1, 0, 0, 0, 0, 1, 0, 0, 0, 1, 0, 0, 0, 1, 1])"
            ]
          },
          "execution_count": 12,
          "metadata": {},
          "output_type": "execute_result"
        }
      ],
      "source": [
        "df = pd.read_csv('PSS10 - Sheet1.csv')\n",
        "y = np.array(df['label'])\n",
        "y"
      ]
    },
    {
      "cell_type": "markdown",
      "metadata": {
        "id": "nGw8680y-3N5"
      },
      "source": [
        "# Split Data"
      ]
    },
    {
      "cell_type": "code",
      "execution_count": 14,
      "metadata": {
        "colab": {
          "base_uri": "https://localhost:8080/"
        },
        "id": "awnviaHZcdH7",
        "outputId": "da053378-4b7d-4d23-bc4a-2e7577e77205"
      },
      "outputs": [
        {
          "name": "stdout",
          "output_type": "stream",
          "text": [
            "(13, 16, 45000) (4, 16, 45000) (13,) (4,)\n"
          ]
        }
      ],
      "source": [
        "X_train, X_test, y_train, y_test = train_test_split(X, y, test_size=0.2, random_state=999)\n",
        "\n",
        "print(X_train.shape, X_test.shape, y_train.shape, y_test.shape)"
      ]
    },
    {
      "cell_type": "code",
      "execution_count": 15,
      "metadata": {
        "colab": {
          "base_uri": "https://localhost:8080/"
        },
        "id": "TF6zuq4phP9E",
        "outputId": "7e13e511-3fae-4390-d6ad-e5d5bda1d06e"
      },
      "outputs": [
        {
          "name": "stdout",
          "output_type": "stream",
          "text": [
            "(11, 16, 45000) (2, 16, 45000) (11,) (2,)\n"
          ]
        }
      ],
      "source": [
        "X_train, X_val, y_train, y_val = train_test_split(X_train, y_train, test_size=0.1, random_state=999)\n",
        "print(X_train.shape, X_val.shape, y_train.shape, y_val.shape)"
      ]
    },
    {
      "cell_type": "code",
      "execution_count": 16,
      "metadata": {
        "id": "BOOZBX7BhRpR"
      },
      "outputs": [],
      "source": [
        "from sklearn.preprocessing import MinMaxScaler\n",
        "\n",
        "#scale transform each channel independently\n",
        "scalers = {}\n",
        "for i in range(X_train.shape[2]):\n",
        "    scalers[i] = MinMaxScaler(feature_range=(-1, 1))\n",
        "    X_train[:, :, i] = scalers[i].fit_transform(X_train[:, :, i]) \n",
        "\n",
        "for i in range(X_val.shape[2]):\n",
        "    X_val[:, :, i]   = scalers[i].transform(X_val[:, :, i])     \n",
        "    \n",
        "for i in range(X_test.shape[2]):\n",
        "    X_test[:, :, i]  = scalers[i].transform(X_test[:, :, i]) "
      ]
    },
    {
      "cell_type": "code",
      "execution_count": 17,
      "metadata": {
        "colab": {
          "base_uri": "https://localhost:8080/"
        },
        "id": "TbYlRdOGhUKy",
        "outputId": "81630190-a037-4a73-f4a8-e0bda4e36a59"
      },
      "outputs": [
        {
          "name": "stdout",
          "output_type": "stream",
          "text": [
            "0.1273476113363838 -0.1530318051502836 -0.008639289287877806\n",
            "-1.0 -5.70215726188583 -5.804701026562504\n",
            "1.0000000000000004 6.412578848667387 1.633039504659759\n"
          ]
        }
      ],
      "source": [
        "print(X_train.mean(), X_val.mean(), X_test.mean())\n",
        "print(X_train.min(), X_val.min(), X_test.min())\n",
        "print(X_train.max(), X_val.max(), X_test.max())"
      ]
    },
    {
      "cell_type": "markdown",
      "metadata": {
        "id": "hOl5sDXo_C_C"
      },
      "source": [
        "# Tensor"
      ]
    },
    {
      "cell_type": "code",
      "execution_count": 18,
      "metadata": {
        "id": "Y1enUccbhXGK"
      },
      "outputs": [],
      "source": [
        "X_train_tensor = torch.tensor(X_train).to(torch.float32)\n",
        "y_train_tensor = torch.tensor(y_train).to(torch.float32)\n",
        "X_val_tensor = torch.tensor(X_val).to(torch.float32)\n",
        "y_val_tensor = torch.tensor(y_val).to(torch.float32)\n",
        "X_test_tensor = torch.tensor(X_test).to(torch.float32)\n",
        "y_test_tensor = torch.tensor(y_test).to(torch.float32)\n",
        "\n",
        "# Cast data to dataloader for more convenience\n",
        "training_set = TensorDataset(X_train_tensor, y_train_tensor)\n",
        "testing_set = TensorDataset(X_test_tensor, y_test_tensor)\n",
        "validation_set = TensorDataset(X_val_tensor, y_val_tensor)\n",
        "\n",
        "train_batch_size = 5\n",
        "val_batch_size = len(validation_set)\n",
        "test_batch_size = len(testing_set)\n",
        "\n",
        "train_loader = DataLoader(training_set, train_batch_size, shuffle=True)\n",
        "val_loader = DataLoader(validation_set, val_batch_size, shuffle=True)\n",
        "test_loader = DataLoader(testing_set, test_batch_size, shuffle=True)"
      ]
    },
    {
      "cell_type": "code",
      "execution_count": 20,
      "metadata": {
        "colab": {
          "base_uri": "https://localhost:8080/"
        },
        "id": "LEJ3VJt3huYw",
        "outputId": "6a520e67-09f6-4346-aff4-890736bd9a8f"
      },
      "outputs": [
        {
          "name": "stdout",
          "output_type": "stream",
          "text": [
            "tensor([[[ 2.9449e-01,  2.9322e-01,  2.9747e-01,  ...,  1.0000e+00,\n",
            "           1.0000e+00,  1.0000e+00],\n",
            "         [ 3.0708e-01,  3.0608e-01,  3.0970e-01,  ...,  5.2585e-01,\n",
            "           5.5209e-01,  5.1636e-01],\n",
            "         [ 6.7623e-01,  6.7259e-01,  6.7672e-01,  ...,  1.0000e+00,\n",
            "           1.0000e+00,  1.0000e+00],\n",
            "         ...,\n",
            "         [ 1.0000e+00,  1.0000e+00,  1.0000e+00,  ...,  1.0000e+00,\n",
            "           1.0000e+00,  1.0000e+00],\n",
            "         [ 8.0891e-01,  8.2519e-01,  8.1632e-01,  ...,  9.8336e-01,\n",
            "           9.7279e-01,  9.7556e-01],\n",
            "         [ 1.1666e-01,  1.1489e-01,  1.1578e-01,  ...,  1.1091e-01,\n",
            "           1.0793e-01,  1.0934e-01]],\n",
            "\n",
            "        [[ 1.0000e+00,  1.0000e+00,  1.0000e+00,  ...,  5.2233e-01,\n",
            "           5.2358e-01,  5.2387e-01],\n",
            "         [ 1.0000e+00,  1.0000e+00,  1.0000e+00,  ...,  6.5781e-01,\n",
            "           6.8749e-01,  6.4978e-01],\n",
            "         [ 1.0000e+00,  1.0000e+00,  1.0000e+00,  ...,  7.5530e-01,\n",
            "           7.5613e-01,  7.5630e-01],\n",
            "         ...,\n",
            "         [ 1.1717e-01,  1.2693e-01,  1.1979e-01,  ...,  7.3270e-01,\n",
            "           7.4560e-01,  7.2589e-01],\n",
            "         [ 1.0000e+00,  1.0000e+00,  1.0000e+00,  ...,  7.7411e-01,\n",
            "           7.7420e-01,  7.7631e-01],\n",
            "         [-5.7872e-01, -5.7725e-01, -5.7837e-01,  ..., -3.7240e-01,\n",
            "          -3.7023e-01, -3.7358e-01]],\n",
            "\n",
            "        [[-3.5848e-01, -3.6159e-01, -3.6451e-01,  ..., -4.3825e-01,\n",
            "          -4.3881e-01, -4.3796e-01],\n",
            "         [-2.6421e-01, -2.6681e-01, -2.6947e-01,  ..., -4.3212e-01,\n",
            "          -4.2254e-01, -4.3473e-01],\n",
            "         [-2.2465e-01, -2.3675e-01, -2.3012e-01,  ..., -3.6256e-01,\n",
            "          -3.6286e-01, -3.6190e-01],\n",
            "         ...,\n",
            "         [-6.0080e-01, -6.0145e-01, -6.0161e-01,  ..., -2.0152e-01,\n",
            "          -2.0056e-01, -2.0242e-01],\n",
            "         [ 2.0265e-02,  2.0469e-02,  1.9499e-02,  ...,  1.2127e-01,\n",
            "           1.2086e-01,  1.2131e-01],\n",
            "         [ 4.8973e-02,  4.4209e-02,  4.3238e-02,  ...,  1.0493e-01,\n",
            "           1.0376e-01,  1.0937e-01]],\n",
            "\n",
            "        [[ 2.5658e-01,  2.5487e-01,  2.5507e-01,  ..., -8.9398e-02,\n",
            "          -8.9928e-02, -8.8101e-02],\n",
            "         [ 4.0647e-01,  4.0533e-01,  4.0510e-01,  ...,  3.4936e-03,\n",
            "           2.0737e-02, -1.2799e-03],\n",
            "         [ 6.8780e-02,  6.0319e-02,  6.6661e-02,  ..., -4.3747e-03,\n",
            "          -4.3962e-03, -3.7484e-03],\n",
            "         ...,\n",
            "         [ 3.8286e-01,  3.8092e-01,  3.8167e-01,  ...,  8.8755e-01,\n",
            "           8.8878e-01,  8.8807e-01],\n",
            "         [ 5.9742e-01,  5.9858e-01,  5.9696e-01,  ...,  4.6354e-01,\n",
            "           4.6332e-01,  4.6498e-01],\n",
            "         [ 3.7177e-01,  3.7049e-01,  3.6908e-01,  ...,  2.0694e-01,\n",
            "           2.0385e-01,  2.0626e-01]],\n",
            "\n",
            "        [[-5.2427e-01, -5.2510e-01, -5.2529e-01,  ..., -6.2139e-01,\n",
            "          -6.2147e-01, -6.2065e-01],\n",
            "         [-8.2488e-01, -8.2498e-01, -8.2534e-01,  ..., -9.2147e-01,\n",
            "          -9.2005e-01, -9.2193e-01],\n",
            "         [ 6.1787e-01,  6.1359e-01,  6.1631e-01,  ...,  4.6422e-01,\n",
            "           4.6379e-01,  4.6520e-01],\n",
            "         ...,\n",
            "         [-2.3044e-01, -2.3137e-01, -2.3107e-01,  ...,  1.8161e-01,\n",
            "           1.8238e-01,  1.8175e-01],\n",
            "         [ 3.4564e-01,  3.4604e-01,  3.4490e-01,  ...,  2.5742e-01,\n",
            "           2.5660e-01,  2.5811e-01],\n",
            "         [ 1.4900e-01,  1.4751e-01,  1.4650e-01,  ...,  6.3942e-04,\n",
            "          -2.5215e-03, -2.8354e-04]]])\n"
          ]
        }
      ],
      "source": [
        "for data, label in train_loader:\n",
        "  print(data)\n",
        "  break"
      ]
    },
    {
      "cell_type": "code",
      "execution_count": 21,
      "metadata": {
        "colab": {
          "base_uri": "https://localhost:8080/"
        },
        "id": "PVMFMBwAjImF",
        "outputId": "44e6a7c3-faab-4ba6-8ab9-4d5482b2bd0d"
      },
      "outputs": [
        {
          "data": {
            "text/plain": [
              "torch.Size([5, 16, 45000])"
            ]
          },
          "execution_count": 21,
          "metadata": {},
          "output_type": "execute_result"
        }
      ],
      "source": [
        "data.shape"
      ]
    },
    {
      "cell_type": "code",
      "execution_count": 22,
      "metadata": {
        "id": "HaiKzvgCjc3_"
      },
      "outputs": [],
      "source": [
        "device = 'cuda' if torch.cuda.is_available() else 'cpu'"
      ]
    },
    {
      "cell_type": "code",
      "execution_count": 23,
      "metadata": {
        "id": "jHB8Zgs_kpm6"
      },
      "outputs": [],
      "source": [
        "lstm_model = nn.LSTM(input_size=45000, hidden_size=500)"
      ]
    },
    {
      "cell_type": "markdown",
      "metadata": {
        "id": "tMV89z27_HmH"
      },
      "source": [
        "# LSTM model"
      ]
    },
    {
      "cell_type": "code",
      "execution_count": 24,
      "metadata": {
        "id": "U0bk5XjGjoMk"
      },
      "outputs": [],
      "source": [
        "class LSTM(nn.Module):\n",
        "    '''\n",
        "    Expected Input Shape: (batch, channels, seq_len, )\n",
        "    '''\n",
        "    def __init__(self, input_dim, hidden_dim, num_layers, output_dim, bidirectional, dropout):\n",
        "        super().__init__()\n",
        "        self.lstm = nn.LSTM(input_dim, \n",
        "                           hidden_dim, \n",
        "                           num_layers=num_layers, \n",
        "                           bidirectional=bidirectional, \n",
        "                           dropout=dropout,\n",
        "                           batch_first=True)\n",
        "        self.fc = nn.Linear(hidden_dim * num_layers, output_dim)\n",
        "        \n",
        "    def forward(self, x):\n",
        "        \n",
        "        #x = [batch size, channels, seq len, ]\n",
        "        out, (hn, cn) = self.lstm(x)\n",
        "        \n",
        "        #out = [batch size, seq len, hidden dim * num directions]        \n",
        "        #hn = [num layers * num directions, batch size, hidden dim]\n",
        "        #cn = [num layers * num directions, batch size, hidden dim]\n",
        "        \n",
        "        #concat the final forward (hidden[-2,:,:]) and backward (hidden[-1,:,:]) hidden layers\n",
        "        hn = torch.cat((hn[-2,:,:], hn[-1,:,:]), dim = 1)\n",
        "        #hn = [batch size, hidden dim * num directions]\n",
        "        \n",
        "        return self.fc(hn)"
      ]
    },
    {
      "cell_type": "code",
      "execution_count": 25,
      "metadata": {
        "id": "TIOLWwwXpMpw"
      },
      "outputs": [],
      "source": [
        "#explicitly initialize weights for better learning\n",
        "def initialize_weights(m):\n",
        "    if isinstance(m, nn.Linear):   #if layer is of Linear\n",
        "        nn.init.xavier_normal_(m.weight)\n",
        "        nn.init.zeros_(m.bias)\n",
        "    elif isinstance(m, nn.LSTM):   #if layer is of LSTM\n",
        "        for name, param in m.named_parameters():\n",
        "            if 'bias' in name:\n",
        "                nn.init.zeros_(param)\n",
        "            elif 'weight' in name:\n",
        "                nn.init.orthogonal_(param)  #orthogonal is a common way to initialize weights for RNN/LSTM/GRU"
      ]
    },
    {
      "cell_type": "code",
      "execution_count": 26,
      "metadata": {
        "colab": {
          "base_uri": "https://localhost:8080/"
        },
        "id": "khjrPaLwxtfq",
        "outputId": "65e6e30b-d77c-4a1f-a5c3-6089e1952e6f"
      },
      "outputs": [
        {
          "data": {
            "text/plain": [
              "LSTM(\n",
              "  (lstm): LSTM(45000, 256, num_layers=2, batch_first=True, dropout=0.7, bidirectional=True)\n",
              "  (fc): Linear(in_features=512, out_features=1, bias=True)\n",
              ")"
            ]
          },
          "execution_count": 26,
          "metadata": {},
          "output_type": "execute_result"
        }
      ],
      "source": [
        "input_dim     = 45000 \n",
        "hidden_dim    = 256 \n",
        "num_layers    = 2  \n",
        "output_dim    = 1  #we got 2 classes so we can output only 1 number, 0 for first class and 1 for another class\n",
        "bidirectional = True  #uses bidirectional LSTM\n",
        "dropout       = 0.7 \n",
        "\n",
        "#define the model\n",
        "model = LSTM(input_dim, hidden_dim, num_layers, output_dim, bidirectional, dropout)\n",
        "\n",
        "#send to cuda so we can use the GPU\n",
        "model = model.to(device)  \n",
        "\n",
        "#apply weights\n",
        "model.apply(initialize_weights)\n"
      ]
    },
    {
      "cell_type": "code",
      "execution_count": 27,
      "metadata": {
        "colab": {
          "base_uri": "https://localhost:8080/"
        },
        "id": "UaDuk4jtyDkT",
        "outputId": "29b46bbd-30e0-4e5c-b0fd-4e1b5aa958cb"
      },
      "outputs": [
        {
          "name": "stdout",
          "output_type": "stream",
          "text": [
            "The model LSTM has 94,265,857 trainable parameters\n"
          ]
        }
      ],
      "source": [
        "def count_parameters(model):\n",
        "    return sum(p.numel() for p in model.parameters() if p.requires_grad)\n",
        "\n",
        "print(f'The model {type(model).__name__} has {count_parameters(model):,} trainable parameters')# Train the model\n"
      ]
    },
    {
      "cell_type": "code",
      "execution_count": 28,
      "metadata": {
        "id": "vdx6Dms0yGL7"
      },
      "outputs": [],
      "source": [
        "import torch.optim as optim\n",
        "\n",
        "num_epochs = 50\n",
        "\n",
        "lr = 0.0001\n",
        "\n",
        "#can also try SGD which should not make too much of a difference\n",
        "optimizer = optim.Adam(model.parameters(), lr=lr) \n",
        "\n",
        "#combine sigmoid with binary entropy; binary entropy is used for binary classification\n",
        "criterion = nn.BCEWithLogitsLoss() \n"
      ]
    },
    {
      "cell_type": "code",
      "execution_count": 29,
      "metadata": {
        "id": "BV4d52uyyYlE"
      },
      "outputs": [],
      "source": [
        "#for measuring accuracy\n",
        "def binary_accuracy(preds, y):\n",
        "    \"\"\"\n",
        "    Returns accuracy per batch, i.e. if you get 8/10 right, this returns 0.8, NOT 8\n",
        "    \"\"\"\n",
        "    #round predictions to the closest integer\n",
        "    rounded_preds = torch.round(torch.sigmoid(preds))\n",
        "    correct = (rounded_preds == y).float() #convert into float for division \n",
        "    acc = correct.sum() / len(correct)\n",
        "    return acc\n"
      ]
    },
    {
      "cell_type": "code",
      "execution_count": 30,
      "metadata": {
        "colab": {
          "base_uri": "https://localhost:8080/"
        },
        "id": "HMJk3mnr2xOH",
        "outputId": "82a070fd-c3dc-4276-e1bf-46f96b8f6f82"
      },
      "outputs": [
        {
          "data": {
            "text/plain": [
              "tensor([[0.2461],\n",
              "        [0.1433]])"
            ]
          },
          "execution_count": 30,
          "metadata": {},
          "output_type": "execute_result"
        }
      ],
      "source": [
        "torch.sigmoid(torch.tensor([[-1.1193],\n",
        "        [-1.7878]]) )"
      ]
    },
    {
      "cell_type": "code",
      "execution_count": 31,
      "metadata": {
        "id": "lqDIAbvRylTR"
      },
      "outputs": [],
      "source": [
        "#for timing the epochs\n",
        "def epoch_time(start_time, end_time):\n",
        "    elapsed_time = end_time - start_time\n",
        "    elapsed_mins = int(elapsed_time / 60)\n",
        "    elapsed_secs = int(elapsed_time - (elapsed_mins * 60))\n",
        "    return elapsed_mins, elapsed_secs"
      ]
    },
    {
      "cell_type": "code",
      "execution_count": 32,
      "metadata": {
        "id": "USKSyPIIyhdj"
      },
      "outputs": [],
      "source": [
        "\n",
        "def train(model, train_loader,  optimizer, criterion):\n",
        "\n",
        "    model.train()\n",
        "    epoch_train_loss = 0\n",
        "    epoch_train_acc  = 0\n",
        "\n",
        "    for i, batch in enumerate(train_loader):\n",
        "    \n",
        "        # data shape: (batch, channel, seq len)\n",
        "        data  = batch[0].to(device)  \n",
        "        # data shape: (batch, seq len, channel)\n",
        "\n",
        "        # label shape: (batch, 1)\n",
        "        label = batch[1].to(device).reshape(-1, 1)\n",
        "        \n",
        "        #predict\n",
        "        output = model(data).reshape(-1, 1)  #output shape: (batch, 1)\n",
        "        loss   = criterion(output, label)\n",
        "        \n",
        "        #backprop\n",
        "        optimizer.zero_grad()\n",
        "        loss.backward()\n",
        "        optimizer.step()\n",
        "        \n",
        "        #for visualizing\n",
        "        epoch_train_loss += loss.item()\n",
        "        acc = binary_accuracy(output, label)\n",
        "        epoch_train_acc += acc.item()\n",
        "        \n",
        "    epoch_train_loss = epoch_train_loss / len(train_loader)\n",
        "    epoch_train_acc  = epoch_train_acc  / len(train_loader)\n",
        "    \n",
        "    return epoch_train_loss, epoch_train_acc\n"
      ]
    },
    {
      "cell_type": "code",
      "execution_count": 33,
      "metadata": {
        "id": "DxaF5O8YymHK"
      },
      "outputs": [],
      "source": [
        "def evaluate(model, val_loader, criterion):\n",
        "\n",
        "    model.eval()\n",
        "    epoch_val_loss = 0\n",
        "    epoch_val_acc  = 0\n",
        "\n",
        "    with torch.no_grad():\n",
        "        for i, batch in enumerate(val_loader):\n",
        "            \n",
        "            # data shape: (batch, channel, seq len)\n",
        "            data  = batch[0].to(device) \n",
        "            label = batch[1].to(device).reshape(-1, 1)\n",
        "            \n",
        "            #predict\n",
        "            output = model(data).reshape(-1, 1)\n",
        "            loss   = criterion(output, label)\n",
        "            \n",
        "            #for visualizing\n",
        "            epoch_val_loss += loss.item()\n",
        "            acc = binary_accuracy(output, label)\n",
        "            epoch_val_acc += acc.item()\n",
        "    \n",
        "    epoch_val_loss =  epoch_val_loss / len(val_loader)\n",
        "    epoch_val_acc  =  epoch_val_acc  / len(val_loader)\n",
        "    \n",
        "    return epoch_val_loss, epoch_val_acc\n"
      ]
    },
    {
      "cell_type": "code",
      "execution_count": 34,
      "metadata": {
        "id": "EDCgEWqTyrci"
      },
      "outputs": [],
      "source": [
        "import time"
      ]
    },
    {
      "cell_type": "code",
      "execution_count": 35,
      "metadata": {
        "colab": {
          "base_uri": "https://localhost:8080/"
        },
        "id": "lfX4uH96yoCI",
        "outputId": "45d4faaa-c85d-420d-84d5-1a09cfea5228"
      },
      "outputs": [
        {
          "name": "stdout",
          "output_type": "stream",
          "text": [
            "Epoch: 01 | Epoch Time: 0m 2s\n",
            "\t Train Loss: 0.772 | Train Acc: 26.67%\n",
            "\t Val. Loss: 0.721  |  Val. Acc: 0.00%\n",
            "Epoch: 02 | Epoch Time: 0m 0s\n",
            "\t Train Loss: 0.653 | Train Acc: 66.67%\n",
            "\t Val. Loss: 0.807  |  Val. Acc: 50.00%\n",
            "Epoch: 03 | Epoch Time: 0m 0s\n",
            "\t Train Loss: 0.547 | Train Acc: 80.00%\n",
            "\t Val. Loss: 1.040  |  Val. Acc: 0.00%\n",
            "Epoch: 04 | Epoch Time: 0m 0s\n",
            "\t Train Loss: 0.547 | Train Acc: 80.00%\n",
            "\t Val. Loss: 1.290  |  Val. Acc: 0.00%\n",
            "Epoch: 05 | Epoch Time: 0m 0s\n",
            "\t Train Loss: 0.397 | Train Acc: 86.67%\n",
            "\t Val. Loss: 1.559  |  Val. Acc: 0.00%\n",
            "Epoch: 06 | Epoch Time: 0m 0s\n",
            "\t Train Loss: 0.475 | Train Acc: 86.67%\n",
            "\t Val. Loss: 1.795  |  Val. Acc: 0.00%\n",
            "Epoch: 07 | Epoch Time: 0m 0s\n",
            "\t Train Loss: 0.398 | Train Acc: 86.67%\n",
            "\t Val. Loss: 2.017  |  Val. Acc: 0.00%\n",
            "Epoch: 08 | Epoch Time: 0m 0s\n",
            "\t Train Loss: 0.443 | Train Acc: 80.00%\n",
            "\t Val. Loss: 2.187  |  Val. Acc: 0.00%\n",
            "Epoch: 09 | Epoch Time: 0m 0s\n",
            "\t Train Loss: 0.357 | Train Acc: 80.00%\n",
            "\t Val. Loss: 2.336  |  Val. Acc: 0.00%\n",
            "Epoch: 10 | Epoch Time: 0m 0s\n",
            "\t Train Loss: 0.339 | Train Acc: 80.00%\n",
            "\t Val. Loss: 2.433  |  Val. Acc: 0.00%\n",
            "Epoch: 11 | Epoch Time: 0m 0s\n",
            "\t Train Loss: 0.376 | Train Acc: 80.00%\n",
            "\t Val. Loss: 2.519  |  Val. Acc: 0.00%\n",
            "Epoch: 12 | Epoch Time: 0m 0s\n",
            "\t Train Loss: 0.469 | Train Acc: 86.67%\n",
            "\t Val. Loss: 2.509  |  Val. Acc: 0.00%\n",
            "Epoch: 13 | Epoch Time: 0m 0s\n",
            "\t Train Loss: 0.473 | Train Acc: 86.67%\n",
            "\t Val. Loss: 2.467  |  Val. Acc: 0.00%\n",
            "Epoch: 14 | Epoch Time: 0m 0s\n",
            "\t Train Loss: 0.478 | Train Acc: 86.67%\n",
            "\t Val. Loss: 2.446  |  Val. Acc: 0.00%\n",
            "Epoch: 15 | Epoch Time: 0m 0s\n",
            "\t Train Loss: 0.419 | Train Acc: 86.67%\n",
            "\t Val. Loss: 2.342  |  Val. Acc: 0.00%\n",
            "Epoch: 16 | Epoch Time: 0m 0s\n",
            "\t Train Loss: 0.395 | Train Acc: 86.67%\n",
            "\t Val. Loss: 2.245  |  Val. Acc: 0.00%\n",
            "Epoch: 17 | Epoch Time: 0m 0s\n",
            "\t Train Loss: 0.344 | Train Acc: 80.00%\n",
            "\t Val. Loss: 2.165  |  Val. Acc: 0.00%\n",
            "Epoch: 18 | Epoch Time: 0m 0s\n",
            "\t Train Loss: 0.427 | Train Acc: 86.67%\n",
            "\t Val. Loss: 2.156  |  Val. Acc: 0.00%\n",
            "Epoch: 19 | Epoch Time: 0m 0s\n",
            "\t Train Loss: 0.292 | Train Acc: 93.33%\n",
            "\t Val. Loss: 2.194  |  Val. Acc: 0.00%\n",
            "Epoch: 20 | Epoch Time: 0m 0s\n",
            "\t Train Loss: 0.594 | Train Acc: 60.00%\n",
            "\t Val. Loss: 2.203  |  Val. Acc: 0.00%\n",
            "Epoch: 21 | Epoch Time: 0m 0s\n",
            "\t Train Loss: 0.304 | Train Acc: 80.00%\n",
            "\t Val. Loss: 2.164  |  Val. Acc: 0.00%\n",
            "Epoch: 22 | Epoch Time: 0m 0s\n",
            "\t Train Loss: 0.298 | Train Acc: 93.33%\n",
            "\t Val. Loss: 2.144  |  Val. Acc: 0.00%\n",
            "Epoch: 23 | Epoch Time: 0m 0s\n",
            "\t Train Loss: 0.273 | Train Acc: 86.67%\n",
            "\t Val. Loss: 2.188  |  Val. Acc: 0.00%\n",
            "Epoch: 24 | Epoch Time: 0m 0s\n",
            "\t Train Loss: 0.438 | Train Acc: 93.33%\n",
            "\t Val. Loss: 2.261  |  Val. Acc: 0.00%\n",
            "Epoch: 25 | Epoch Time: 0m 0s\n",
            "\t Train Loss: 0.329 | Train Acc: 80.00%\n",
            "\t Val. Loss: 2.323  |  Val. Acc: 0.00%\n",
            "Epoch: 26 | Epoch Time: 0m 0s\n",
            "\t Train Loss: 0.473 | Train Acc: 53.33%\n",
            "\t Val. Loss: 2.319  |  Val. Acc: 0.00%\n",
            "Epoch: 27 | Epoch Time: 0m 0s\n",
            "\t Train Loss: 0.319 | Train Acc: 86.67%\n",
            "\t Val. Loss: 2.300  |  Val. Acc: 0.00%\n",
            "Epoch: 28 | Epoch Time: 0m 0s\n",
            "\t Train Loss: 0.387 | Train Acc: 93.33%\n",
            "\t Val. Loss: 2.216  |  Val. Acc: 0.00%\n",
            "Epoch: 29 | Epoch Time: 0m 0s\n",
            "\t Train Loss: 0.326 | Train Acc: 86.67%\n",
            "\t Val. Loss: 2.186  |  Val. Acc: 0.00%\n",
            "Epoch: 30 | Epoch Time: 0m 0s\n",
            "\t Train Loss: 0.517 | Train Acc: 60.00%\n",
            "\t Val. Loss: 2.152  |  Val. Acc: 0.00%\n",
            "Epoch: 31 | Epoch Time: 0m 0s\n",
            "\t Train Loss: 0.310 | Train Acc: 86.67%\n",
            "\t Val. Loss: 2.102  |  Val. Acc: 0.00%\n",
            "Epoch: 32 | Epoch Time: 0m 0s\n",
            "\t Train Loss: 0.277 | Train Acc: 86.67%\n",
            "\t Val. Loss: 2.107  |  Val. Acc: 0.00%\n",
            "Epoch: 33 | Epoch Time: 0m 0s\n",
            "\t Train Loss: 0.489 | Train Acc: 60.00%\n",
            "\t Val. Loss: 2.098  |  Val. Acc: 0.00%\n",
            "Epoch: 34 | Epoch Time: 0m 0s\n",
            "\t Train Loss: 0.556 | Train Acc: 60.00%\n",
            "\t Val. Loss: 2.040  |  Val. Acc: 0.00%\n",
            "Epoch: 35 | Epoch Time: 0m 0s\n",
            "\t Train Loss: 0.386 | Train Acc: 86.67%\n",
            "\t Val. Loss: 2.046  |  Val. Acc: 0.00%\n",
            "Epoch: 36 | Epoch Time: 0m 0s\n",
            "\t Train Loss: 0.409 | Train Acc: 66.67%\n",
            "\t Val. Loss: 2.124  |  Val. Acc: 0.00%\n",
            "Epoch: 37 | Epoch Time: 0m 0s\n",
            "\t Train Loss: 0.311 | Train Acc: 80.00%\n",
            "\t Val. Loss: 2.282  |  Val. Acc: 0.00%\n",
            "Epoch: 38 | Epoch Time: 0m 0s\n",
            "\t Train Loss: 0.421 | Train Acc: 53.33%\n",
            "\t Val. Loss: 2.507  |  Val. Acc: 0.00%\n",
            "Epoch: 39 | Epoch Time: 0m 0s\n",
            "\t Train Loss: 0.299 | Train Acc: 86.67%\n",
            "\t Val. Loss: 2.714  |  Val. Acc: 0.00%\n",
            "Epoch: 40 | Epoch Time: 0m 0s\n",
            "\t Train Loss: 0.360 | Train Acc: 86.67%\n",
            "\t Val. Loss: 2.883  |  Val. Acc: 0.00%\n",
            "Epoch: 41 | Epoch Time: 0m 0s\n",
            "\t Train Loss: 0.241 | Train Acc: 86.67%\n",
            "\t Val. Loss: 3.058  |  Val. Acc: 0.00%\n",
            "Epoch: 42 | Epoch Time: 0m 0s\n",
            "\t Train Loss: 0.278 | Train Acc: 86.67%\n",
            "\t Val. Loss: 3.188  |  Val. Acc: 0.00%\n",
            "Epoch: 43 | Epoch Time: 0m 0s\n",
            "\t Train Loss: 0.212 | Train Acc: 86.67%\n",
            "\t Val. Loss: 3.243  |  Val. Acc: 0.00%\n",
            "Epoch: 44 | Epoch Time: 0m 0s\n",
            "\t Train Loss: 0.213 | Train Acc: 86.67%\n",
            "\t Val. Loss: 3.294  |  Val. Acc: 0.00%\n",
            "Epoch: 45 | Epoch Time: 0m 0s\n",
            "\t Train Loss: 0.252 | Train Acc: 86.67%\n",
            "\t Val. Loss: 3.290  |  Val. Acc: 0.00%\n",
            "Epoch: 46 | Epoch Time: 0m 0s\n",
            "\t Train Loss: 0.210 | Train Acc: 86.67%\n",
            "\t Val. Loss: 3.322  |  Val. Acc: 0.00%\n",
            "Epoch: 47 | Epoch Time: 0m 0s\n",
            "\t Train Loss: 0.209 | Train Acc: 86.67%\n",
            "\t Val. Loss: 3.368  |  Val. Acc: 0.00%\n",
            "Epoch: 48 | Epoch Time: 0m 0s\n",
            "\t Train Loss: 0.204 | Train Acc: 93.33%\n",
            "\t Val. Loss: 3.427  |  Val. Acc: 0.00%\n",
            "Epoch: 49 | Epoch Time: 0m 0s\n",
            "\t Train Loss: 0.178 | Train Acc: 93.33%\n",
            "\t Val. Loss: 3.461  |  Val. Acc: 0.00%\n",
            "Epoch: 50 | Epoch Time: 0m 0s\n",
            "\t Train Loss: 0.188 | Train Acc: 93.33%\n",
            "\t Val. Loss: 3.472  |  Val. Acc: 0.00%\n"
          ]
        }
      ],
      "source": [
        "best_valid_loss = float('inf')\n",
        "\n",
        "train_losses = []\n",
        "train_accs   = []\n",
        "valid_losses = []\n",
        "valid_accs   = []\n",
        "\n",
        "for epoch in range(num_epochs):\n",
        "    \n",
        "    start_time = time.time()\n",
        "\n",
        "    train_loss, train_acc = train(model, train_loader, optimizer, criterion)\n",
        "    valid_loss, valid_acc = evaluate(model, val_loader, criterion)\n",
        "    \n",
        "    #for plotting\n",
        "    train_losses.append(train_loss)\n",
        "    train_accs  .append(train_acc)\n",
        "    valid_losses.append(valid_loss)\n",
        "    valid_accs  .append(valid_acc)\n",
        "    \n",
        "    if valid_loss < best_valid_loss:\n",
        "        best_valid_loss = valid_loss\n",
        "        torch.save(model.state_dict(), './models/DEAP_BiLSTM.pt')\n",
        "        \n",
        "    end_time = time.time()\n",
        "    epoch_mins, epoch_secs = epoch_time(start_time, end_time)\n",
        "    \n",
        "    print(f'Epoch: {epoch+1:02} | Epoch Time: {epoch_mins}m {epoch_secs}s')\n",
        "    print(f'\\t Train Loss: {train_loss:.3f} | Train Acc: {train_acc*100:.2f}%')\n",
        "    print(f'\\t Val. Loss: {valid_loss:.3f}  |  Val. Acc: {valid_acc*100:.2f}%')\n"
      ]
    },
    {
      "cell_type": "code",
      "execution_count": 36,
      "metadata": {
        "colab": {
          "base_uri": "https://localhost:8080/"
        },
        "id": "gOaNhT9B1zxT",
        "outputId": "cd1e86d3-4c59-49b6-ee1b-0f24997781be"
      },
      "outputs": [
        {
          "data": {
            "text/plain": [
              "[0.2666666756073634,\n",
              " 0.6666666666666666,\n",
              " 0.800000011920929,\n",
              " 0.800000011920929,\n",
              " 0.8666666746139526,\n",
              " 0.8666666746139526,\n",
              " 0.8666666746139526,\n",
              " 0.800000011920929,\n",
              " 0.800000011920929,\n",
              " 0.800000011920929,\n",
              " 0.800000011920929,\n",
              " 0.8666666746139526,\n",
              " 0.8666666746139526,\n",
              " 0.8666666746139526,\n",
              " 0.8666666746139526,\n",
              " 0.8666666746139526,\n",
              " 0.800000011920929,\n",
              " 0.8666666746139526,\n",
              " 0.9333333373069763,\n",
              " 0.600000003973643,\n",
              " 0.800000011920929,\n",
              " 0.9333333373069763,\n",
              " 0.8666666746139526,\n",
              " 0.9333333373069763,\n",
              " 0.800000011920929,\n",
              " 0.5333333412806193,\n",
              " 0.8666666746139526,\n",
              " 0.9333333373069763,\n",
              " 0.8666666746139526,\n",
              " 0.600000003973643,\n",
              " 0.8666666746139526,\n",
              " 0.8666666746139526,\n",
              " 0.600000003973643,\n",
              " 0.600000003973643,\n",
              " 0.8666666746139526,\n",
              " 0.6666666666666666,\n",
              " 0.800000011920929,\n",
              " 0.5333333412806193,\n",
              " 0.8666666746139526,\n",
              " 0.8666666746139526,\n",
              " 0.8666666746139526,\n",
              " 0.8666666746139526,\n",
              " 0.8666666746139526,\n",
              " 0.8666666746139526,\n",
              " 0.8666666746139526,\n",
              " 0.8666666746139526,\n",
              " 0.8666666746139526,\n",
              " 0.9333333373069763,\n",
              " 0.9333333373069763,\n",
              " 0.9333333373069763]"
            ]
          },
          "execution_count": 36,
          "metadata": {},
          "output_type": "execute_result"
        }
      ],
      "source": [
        "train_accs"
      ]
    },
    {
      "cell_type": "code",
      "execution_count": 37,
      "metadata": {
        "colab": {
          "base_uri": "https://localhost:8080/",
          "height": 406
        },
        "id": "WfoWbyWnyp_K",
        "outputId": "36047099-c3a1-4e3b-8ed0-c86d934383d3"
      },
      "outputs": [
        {
          "data": {
            "text/plain": [
              "Text(0, 0.5, 'loss')"
            ]
          },
          "execution_count": 37,
          "metadata": {},
          "output_type": "execute_result"
        },
        {
          "data": {
            "image/png": "[encoded data removed]",
            "text/plain": [
              "<Figure size 720x432 with 1 Axes>"
            ]
          },
          "metadata": {
            "needs_background": "light"
          },
          "output_type": "display_data"
        }
      ],
      "source": [
        "import matplotlib.pyplot as plt\n",
        "fig = plt.figure(figsize=(10, 6))\n",
        "ax  = fig.add_subplot(1, 1, 1)\n",
        "ax.plot(train_losses, label = 'train loss')\n",
        "ax.plot(valid_losses, label = 'valid loss')\n",
        "plt.legend()\n",
        "ax.set_xlabel('updates')\n",
        "ax.set_ylabel('loss')"
      ]
    },
    {
      "cell_type": "code",
      "execution_count": 37,
      "metadata": {
        "id": "mAgd8-Pt35gu"
      },
      "outputs": [],
      "source": []
    }
  ],
  "metadata": {
    "accelerator": "GPU",
    "colab": {
      "authorship_tag": "ABX9TyPf0a5Cj/Ax1H7U/tpFr93N",
      "include_colab_link": true,
      "provenance": []
    },
    "gpuClass": "standard",
    "kernelspec": {
      "display_name": "Python 3.10.4 64-bit",
      "language": "python",
      "name": "python3"
    },
    "language_info": {
      "name": "python",
      "version": "3.10.4"
    },
    "vscode": {
      "interpreter": {
        "hash": "c81d839d3c4227cd770621df97fe8191838af02e7eef185a922d8250cb33d344"
      }
    }
  },
  "nbformat": 4,
  "nbformat_minor": 0
}
