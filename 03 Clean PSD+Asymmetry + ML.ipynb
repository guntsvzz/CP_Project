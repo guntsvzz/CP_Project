{
 "cells": [
  {
   "cell_type": "code",
   "execution_count": 5,
   "metadata": {},
   "outputs": [
    {
     "data": {
      "text/plain": [
       "'4.0'"
      ]
     },
     "execution_count": 5,
     "metadata": {},
     "output_type": "execute_result"
    }
   ],
   "source": [
    "# Import necessary libralies\n",
    "import pickle\n",
    "import numpy as np\n",
    "import os\n",
    "import mne\n",
    "import pandas as pd\n",
    "import seaborn as sns\n",
    "pickle.format_version"
   ]
  },
  {
   "cell_type": "markdown",
   "metadata": {},
   "source": [
    "## 1.ETL"
   ]
  },
  {
   "cell_type": "code",
   "execution_count": 6,
   "metadata": {},
   "outputs": [],
   "source": [
    "import os\n",
    "# main_path = os.getcwd()\n",
    "# file_name = os.listdir(main_path + '/Clean_signal/')"
   ]
  },
  {
   "cell_type": "code",
   "execution_count": 9,
   "metadata": {},
   "outputs": [],
   "source": [
    "# Rename all the files to exp with number \n",
    "import os\n",
    "main_path = os.getcwd()\n",
    "main_path\n",
    "all_file = os.listdir(path='./Clean_signal/')\n",
    "all_file\n",
    "file_name = list()\n",
    "index_counter = 0\n",
    "for file in all_file:\n",
    "    if file[0:5] == 'clean':\n",
    "        file_name.append(file)"
   ]
  },
  {
   "cell_type": "code",
   "execution_count": 10,
   "metadata": {},
   "outputs": [
    {
     "name": "stdout",
     "output_type": "stream",
     "text": [
      "['clean_exp01.csv', 'clean_exp02.csv', 'clean_exp03.csv', 'clean_exp04.csv', 'clean_exp05.csv', 'clean_exp06.csv', 'clean_exp07.csv', 'clean_exp08.csv', 'clean_exp09.csv', 'clean_exp10.csv', 'clean_exp11.csv', 'clean_exp12.csv', 'clean_exp13.csv', 'clean_exp14.csv', 'clean_exp15.csv', 'clean_exp16.csv', 'clean_exp17.csv']\n"
     ]
    }
   ],
   "source": [
    "# Check filename\n",
    "print(file_name)"
   ]
  },
  {
   "cell_type": "code",
   "execution_count": 43,
   "metadata": {},
   "outputs": [],
   "source": [
    "# file_name = ['clean_exp01.csv', 'clean_exp02.csv', 'clean_exp03.csv',\n",
    "#  'clean_exp04.csv', 'clean_exp06.csv', 'clean_exp07.csv',\n",
    "#  'clean_exp08.csv', 'clean_exp09.csv', 'clean_exp10.csv',\n",
    "#  'clean_exp11.csv', 'clean_exp12.csv', 'clean_exp13.csv',\n",
    "#  'clean_exp14.csv', 'clean_exp15.csv', 'clean_exp16.csv']"
   ]
  },
  {
   "cell_type": "code",
   "execution_count": 11,
   "metadata": {},
   "outputs": [],
   "source": [
    "all_file_path = main_path + '/Clean_signal/'\n",
    "X_list = list()\n",
    "for file in file_name:\n",
    "    file_path = all_file_path + file\n",
    "    df = pd.read_csv(file_path, index_col=None)\n",
    "    df = df.loc[:, ~df.columns.str.contains('^Unnamed')]\n",
    "    X_list.append(df)    "
   ]
  },
  {
   "cell_type": "code",
   "execution_count": 12,
   "metadata": {},
   "outputs": [
    {
     "data": {
      "text/html": [
       "<div>\n",
       "<style scoped>\n",
       "    .dataframe tbody tr th:only-of-type {\n",
       "        vertical-align: middle;\n",
       "    }\n",
       "\n",
       "    .dataframe tbody tr th {\n",
       "        vertical-align: top;\n",
       "    }\n",
       "\n",
       "    .dataframe thead th {\n",
       "        text-align: right;\n",
       "    }\n",
       "</style>\n",
       "<table border=\"1\" class=\"dataframe\">\n",
       "  <thead>\n",
       "    <tr style=\"text-align: right;\">\n",
       "      <th></th>\n",
       "      <th>Fp1</th>\n",
       "      <th>Fp2</th>\n",
       "      <th>F7</th>\n",
       "      <th>F3</th>\n",
       "      <th>F4</th>\n",
       "      <th>F8</th>\n",
       "      <th>T3</th>\n",
       "      <th>C3</th>\n",
       "      <th>C4</th>\n",
       "      <th>T4</th>\n",
       "      <th>T5</th>\n",
       "      <th>P3</th>\n",
       "      <th>P4</th>\n",
       "      <th>T6</th>\n",
       "      <th>O1</th>\n",
       "      <th>O2</th>\n",
       "    </tr>\n",
       "  </thead>\n",
       "  <tbody>\n",
       "    <tr>\n",
       "      <th>0</th>\n",
       "      <td>1.558541e-13</td>\n",
       "      <td>1.202787e-12</td>\n",
       "      <td>-1.822815e-12</td>\n",
       "      <td>-6.666149e-13</td>\n",
       "      <td>-1.524659e-14</td>\n",
       "      <td>-9.656176e-14</td>\n",
       "      <td>1.778769e-13</td>\n",
       "      <td>-7.318365e-13</td>\n",
       "      <td>-3.218725e-14</td>\n",
       "      <td>6.776264e-15</td>\n",
       "      <td>2.463172e-12</td>\n",
       "      <td>-5.293956e-13</td>\n",
       "      <td>1.679243e-13</td>\n",
       "      <td>2.774456e-12</td>\n",
       "      <td>-3.303428e-13</td>\n",
       "      <td>2.217109e-13</td>\n",
       "    </tr>\n",
       "    <tr>\n",
       "      <th>1</th>\n",
       "      <td>-2.495299e+02</td>\n",
       "      <td>-2.591266e+02</td>\n",
       "      <td>-2.392414e+02</td>\n",
       "      <td>-2.472481e+02</td>\n",
       "      <td>-1.342918e+02</td>\n",
       "      <td>-2.469675e+02</td>\n",
       "      <td>-2.368676e+02</td>\n",
       "      <td>-2.375381e+02</td>\n",
       "      <td>8.964020e+01</td>\n",
       "      <td>9.114929e+01</td>\n",
       "      <td>9.105020e+01</td>\n",
       "      <td>7.684951e+01</td>\n",
       "      <td>1.383037e+02</td>\n",
       "      <td>-4.155527e+02</td>\n",
       "      <td>-3.083336e+02</td>\n",
       "      <td>-1.145710e+02</td>\n",
       "    </tr>\n",
       "    <tr>\n",
       "      <th>2</th>\n",
       "      <td>-1.022146e+02</td>\n",
       "      <td>-1.071695e+02</td>\n",
       "      <td>-8.913196e+01</td>\n",
       "      <td>-9.320015e+01</td>\n",
       "      <td>-7.188064e+01</td>\n",
       "      <td>-9.669399e+01</td>\n",
       "      <td>-7.360927e+01</td>\n",
       "      <td>-7.934479e+01</td>\n",
       "      <td>-8.483305e+00</td>\n",
       "      <td>-3.966042e+00</td>\n",
       "      <td>6.921319e-02</td>\n",
       "      <td>-5.860820e+00</td>\n",
       "      <td>6.340924e+00</td>\n",
       "      <td>-1.006591e+02</td>\n",
       "      <td>-7.385641e+01</td>\n",
       "      <td>-3.186257e+01</td>\n",
       "    </tr>\n",
       "    <tr>\n",
       "      <th>3</th>\n",
       "      <td>-1.894707e+02</td>\n",
       "      <td>-1.985657e+02</td>\n",
       "      <td>-1.666088e+02</td>\n",
       "      <td>-1.773347e+02</td>\n",
       "      <td>-1.206077e+02</td>\n",
       "      <td>-1.861381e+02</td>\n",
       "      <td>-1.566157e+02</td>\n",
       "      <td>-1.616160e+02</td>\n",
       "      <td>1.053098e+01</td>\n",
       "      <td>1.359837e+01</td>\n",
       "      <td>2.570865e+01</td>\n",
       "      <td>1.375228e+01</td>\n",
       "      <td>4.319836e+01</td>\n",
       "      <td>-2.383818e+02</td>\n",
       "      <td>-1.751361e+02</td>\n",
       "      <td>-7.472951e+01</td>\n",
       "    </tr>\n",
       "    <tr>\n",
       "      <th>4</th>\n",
       "      <td>-1.976600e+02</td>\n",
       "      <td>-2.088452e+02</td>\n",
       "      <td>-1.691085e+02</td>\n",
       "      <td>-1.829386e+02</td>\n",
       "      <td>-1.219805e+02</td>\n",
       "      <td>-1.981792e+02</td>\n",
       "      <td>-1.664133e+02</td>\n",
       "      <td>-1.711082e+02</td>\n",
       "      <td>5.430791e+00</td>\n",
       "      <td>5.540176e+00</td>\n",
       "      <td>2.039321e+01</td>\n",
       "      <td>9.522058e+00</td>\n",
       "      <td>4.153111e+01</td>\n",
       "      <td>-2.713544e+02</td>\n",
       "      <td>-1.985949e+02</td>\n",
       "      <td>-9.082392e+01</td>\n",
       "    </tr>\n",
       "  </tbody>\n",
       "</table>\n",
       "</div>"
      ],
      "text/plain": [
       "            Fp1           Fp2            F7            F3            F4  \\\n",
       "0  1.558541e-13  1.202787e-12 -1.822815e-12 -6.666149e-13 -1.524659e-14   \n",
       "1 -2.495299e+02 -2.591266e+02 -2.392414e+02 -2.472481e+02 -1.342918e+02   \n",
       "2 -1.022146e+02 -1.071695e+02 -8.913196e+01 -9.320015e+01 -7.188064e+01   \n",
       "3 -1.894707e+02 -1.985657e+02 -1.666088e+02 -1.773347e+02 -1.206077e+02   \n",
       "4 -1.976600e+02 -2.088452e+02 -1.691085e+02 -1.829386e+02 -1.219805e+02   \n",
       "\n",
       "             F8            T3            C3            C4            T4  \\\n",
       "0 -9.656176e-14  1.778769e-13 -7.318365e-13 -3.218725e-14  6.776264e-15   \n",
       "1 -2.469675e+02 -2.368676e+02 -2.375381e+02  8.964020e+01  9.114929e+01   \n",
       "2 -9.669399e+01 -7.360927e+01 -7.934479e+01 -8.483305e+00 -3.966042e+00   \n",
       "3 -1.861381e+02 -1.566157e+02 -1.616160e+02  1.053098e+01  1.359837e+01   \n",
       "4 -1.981792e+02 -1.664133e+02 -1.711082e+02  5.430791e+00  5.540176e+00   \n",
       "\n",
       "             T5            P3            P4            T6            O1  \\\n",
       "0  2.463172e-12 -5.293956e-13  1.679243e-13  2.774456e-12 -3.303428e-13   \n",
       "1  9.105020e+01  7.684951e+01  1.383037e+02 -4.155527e+02 -3.083336e+02   \n",
       "2  6.921319e-02 -5.860820e+00  6.340924e+00 -1.006591e+02 -7.385641e+01   \n",
       "3  2.570865e+01  1.375228e+01  4.319836e+01 -2.383818e+02 -1.751361e+02   \n",
       "4  2.039321e+01  9.522058e+00  4.153111e+01 -2.713544e+02 -1.985949e+02   \n",
       "\n",
       "             O2  \n",
       "0  2.217109e-13  \n",
       "1 -1.145710e+02  \n",
       "2 -3.186257e+01  \n",
       "3 -7.472951e+01  \n",
       "4 -9.082392e+01  "
      ]
     },
     "execution_count": 12,
     "metadata": {},
     "output_type": "execute_result"
    }
   ],
   "source": [
    "df.head()"
   ]
  },
  {
   "cell_type": "code",
   "execution_count": 13,
   "metadata": {},
   "outputs": [
    {
     "data": {
      "text/plain": [
       "(17, 45000, 16)"
      ]
     },
     "execution_count": 13,
     "metadata": {},
     "output_type": "execute_result"
    }
   ],
   "source": [
    "X = np.array(X_list)\n",
    "X.shape"
   ]
  },
  {
   "cell_type": "code",
   "execution_count": 14,
   "metadata": {},
   "outputs": [
    {
     "data": {
      "text/plain": [
       "(17, 16, 45000)"
      ]
     },
     "execution_count": 14,
     "metadata": {},
     "output_type": "execute_result"
    }
   ],
   "source": [
    "# Reshape\n",
    "X = np.transpose(X, (0, 2, 1))\n",
    "X.shape"
   ]
  },
  {
   "cell_type": "code",
   "execution_count": 16,
   "metadata": {},
   "outputs": [
    {
     "data": {
      "text/plain": [
       "(17,)"
      ]
     },
     "execution_count": 16,
     "metadata": {},
     "output_type": "execute_result"
    }
   ],
   "source": [
    "y_path = './label_exp.csv'\n",
    "df = pd.read_csv(y_path)\n",
    "y = np.array(df['label'])\n",
    "y.shape"
   ]
  },
  {
   "cell_type": "code",
   "execution_count": 17,
   "metadata": {},
   "outputs": [],
   "source": [
    "import torch   #general pytorch\n",
    "import torch.nn as nn  #neural network module\n",
    "import torch.nn.functional as F  #useful functions like softmax, or relu\n",
    "\n",
    "#pip install torchvision; conda install torchvision\n",
    "from torchvision import datasets, transforms  #transforms for image processing\n",
    "from torch.utils.data import DataLoader, Dataset       #dataloader for preparing batch\n",
    "\n",
    "import numpy as np\n",
    "import pandas as pd\n",
    "from sklearn.metrics import confusion_matrix, ConfusionMatrixDisplay\n",
    "import matplotlib.pyplot as plt\n",
    "\n",
    "from sklearn.model_selection import train_test_split\n",
    "from torch.utils.data import TensorDataset\n",
    "from torch.autograd import Variable"
   ]
  },
  {
   "cell_type": "code",
   "execution_count": 18,
   "metadata": {},
   "outputs": [],
   "source": [
    "# Create dataset\n",
    "tensor_X = torch.tensor(X)\n",
    "tensor_y = torch.tensor(y)\n",
    "dataset = TensorDataset(tensor_X, tensor_y)"
   ]
  },
  {
   "cell_type": "code",
   "execution_count": 19,
   "metadata": {},
   "outputs": [
    {
     "name": "stdout",
     "output_type": "stream",
     "text": [
      "torch.Size([16, 45000]) torch.Size([])\n"
     ]
    }
   ],
   "source": [
    "for x, y in dataset:\n",
    "    print(x.shape, y.shape)\n",
    "    break"
   ]
  },
  {
   "cell_type": "markdown",
   "metadata": {},
   "source": [
    "## 2. EDA - Spectral Analysis"
   ]
  },
  {
   "cell_type": "code",
   "execution_count": 20,
   "metadata": {},
   "outputs": [
    {
     "name": "stdout",
     "output_type": "stream",
     "text": [
      "Not setting metadata\n",
      "17 matching events found\n",
      "No baseline correction applied\n",
      "0 projection items activated\n",
      "------------------\n",
      "epochs._data.shape=(17, 16, 45000)\n",
      "------------------\n"
     ]
    },
    {
     "data": {
      "text/html": [
       "<table class=\"table table-hover table-striped table-sm table-responsive small\">\n",
       "    <tr>\n",
       "        <th>Number of events</th>\n",
       "        <td>17</td>\n",
       "    </tr>\n",
       "    <tr>\n",
       "        <th>Events</th>\n",
       "        \n",
       "        <td>1: 17</td>\n",
       "        \n",
       "    </tr>\n",
       "    <tr>\n",
       "        <th>Time range</th>\n",
       "        <td>0.000 – 359.992 sec</td>\n",
       "    </tr>\n",
       "    <tr>\n",
       "        <th>Baseline</th>\n",
       "        <td>off</td>\n",
       "    </tr>\n",
       "</table>"
      ],
      "text/plain": [
       "<EpochsArray |  17 events (all good), 0 - 359.992 sec, baseline off, ~93.4 MB, data loaded,\n",
       " '1': 17>"
      ]
     },
     "execution_count": 20,
     "metadata": {},
     "output_type": "execute_result"
    }
   ],
   "source": [
    "# Meta data\n",
    "ch_names = ['Fp1', 'Fp2', 'F7', 'F3', 'F4', 'F8', 'T3', 'C3', 'C4', 'T4', 'T5', 'P3', 'P4', 'T6', 'O1', 'O2']\n",
    "ch_types = ['eeg'] * len(ch_names)\n",
    "sfreq = 125\n",
    "info = mne.create_info(ch_names=ch_names, ch_types=ch_types, sfreq=sfreq)\n",
    "\n",
    "# Create epochs\n",
    "epochs = mne.EpochsArray(tensor_X, info)\n",
    "\n",
    "# Set headset mapping\n",
    "epochs.set_montage('standard_1020')\n",
    "print('------------------')\n",
    "print(f'{epochs._data.shape=}')\n",
    "print('------------------')\n",
    "epochs"
   ]
  },
  {
   "cell_type": "code",
   "execution_count": 21,
   "metadata": {},
   "outputs": [
    {
     "name": "stdout",
     "output_type": "stream",
     "text": [
      "Effective window size : 1.000 (s)\n",
      "(1, 16, 63) (63,)\n"
     ]
    }
   ],
   "source": [
    "# Compute power spectrum density\n",
    "\n",
    "epoch = epochs.__getitem__(0)\n",
    "spectrum = epoch.compute_psd(method=\"welch\", n_fft=125) #get Spectrum object from epochs\n",
    "psds, freqs = spectrum.get_data(return_freqs=True)\n",
    "print(psds.shape, freqs.shape)"
   ]
  },
  {
   "cell_type": "code",
   "execution_count": 22,
   "metadata": {},
   "outputs": [
    {
     "name": "stdout",
     "output_type": "stream",
     "text": [
      "Effective window size : 1.000 (s)\n",
      "(17, 16, 63) (63,)\n"
     ]
    }
   ],
   "source": [
    "# Add log for vissiblity\n",
    "spectrum = epochs.compute_psd(method='welch', n_fft=125)\n",
    "psds, freqs = spectrum.get_data(return_freqs=True)\n",
    "psds = 10 * np.log10(psds)\n",
    "print(psds.shape, freqs.shape)"
   ]
  },
  {
   "cell_type": "code",
   "execution_count": 23,
   "metadata": {},
   "outputs": [
    {
     "data": {
      "text/plain": [
       "(17, 63)"
      ]
     },
     "execution_count": 23,
     "metadata": {},
     "output_type": "execute_result"
    }
   ],
   "source": [
    "# 1. First step, find the mean of all channels\n",
    "psds = psds.mean(axis=1)\n",
    "psds.shape"
   ]
  },
  {
   "cell_type": "code",
   "execution_count": 24,
   "metadata": {},
   "outputs": [],
   "source": [
    "#2. Seperate to the range of bands\n",
    "# delta 0-3 Hz \n",
    "delta = psds[:, :4]\n",
    "# theta 4-7 Hz\n",
    "theta = psds[:, 4:8]\n",
    "# alpha 8-12 Hz\n",
    "alpha = psds[:, 8:13]\n",
    "# beta 13-30 Hz\n",
    "beta = psds[:, 13:31]\n",
    "# gamma 25-43 Hz\n",
    "gamma = psds[:, 25:44]\n",
    "# slow 4-13 Hz\n",
    "slow = psds[:, 4:14]\n",
    "# low beta 13-17 Hz\n",
    "low_beta = psds[:, 13:18]"
   ]
  },
  {
   "cell_type": "code",
   "execution_count": 25,
   "metadata": {},
   "outputs": [
    {
     "name": "stdout",
     "output_type": "stream",
     "text": [
      "delta shape is (17, 4)\n",
      "theta shape is (17, 4)\n",
      "alpha shape is (17, 5)\n",
      "beta shape is (17, 18)\n",
      "gamma shape is (17, 19)\n",
      "slow shape is (17, 10)\n",
      "low_beta shape is (17, 5)\n"
     ]
    }
   ],
   "source": [
    "print(f'delta shape is {delta.shape}')\n",
    "print(f'theta shape is {theta.shape}')\n",
    "print(f'alpha shape is {alpha.shape}')\n",
    "print(f'beta shape is {beta.shape}')\n",
    "print(f'gamma shape is {gamma.shape}')\n",
    "print(f'slow shape is {slow.shape}')\n",
    "print(f'low_beta shape is {low_beta.shape}')"
   ]
  },
  {
   "cell_type": "code",
   "execution_count": 26,
   "metadata": {},
   "outputs": [],
   "source": [
    "delta = delta.mean(axis=1).reshape(-1, 1)\n",
    "theta = theta.mean(axis=1).reshape(-1, 1)\n",
    "alpha = alpha.mean(axis=1).reshape(-1, 1)\n",
    "beta = beta.mean(axis=1).reshape(-1, 1)\n",
    "gamma = gamma.mean(axis=1).reshape(-1, 1)\n",
    "slow = slow.mean(axis=1).reshape(-1, 1)\n",
    "low_beta = low_beta.mean(axis=1).reshape(-1, 1)"
   ]
  },
  {
   "cell_type": "code",
   "execution_count": 27,
   "metadata": {},
   "outputs": [
    {
     "name": "stdout",
     "output_type": "stream",
     "text": [
      "delta shape is (17, 1)\n",
      "theta shape is (17, 1)\n",
      "alpha shape is (17, 1)\n",
      "beta shape is (17, 1)\n",
      "gamma shape is (17, 1)\n",
      "slow shape is (17, 1)\n",
      "low_beta shape is (17, 1)\n"
     ]
    }
   ],
   "source": [
    "print(f'delta shape is {delta.shape}')\n",
    "print(f'theta shape is {theta.shape}')\n",
    "print(f'alpha shape is {alpha.shape}')\n",
    "print(f'beta shape is {beta.shape}')\n",
    "print(f'gamma shape is {gamma.shape}')\n",
    "print(f'slow shape is {slow.shape}')\n",
    "print(f'low_beta shape is {low_beta.shape}')"
   ]
  },
  {
   "cell_type": "code",
   "execution_count": 28,
   "metadata": {},
   "outputs": [
    {
     "data": {
      "text/plain": [
       "(17, 7)"
      ]
     },
     "execution_count": 28,
     "metadata": {},
     "output_type": "execute_result"
    }
   ],
   "source": [
    "# Stack them together for ploting\n",
    "_temp = [delta, theta, alpha, beta, gamma, slow, low_beta]\n",
    "all_bands = np.hstack(_temp)\n",
    "all_bands.shape"
   ]
  },
  {
   "cell_type": "code",
   "execution_count": 29,
   "metadata": {},
   "outputs": [
    {
     "data": {
      "text/html": [
       "<div>\n",
       "<style scoped>\n",
       "    .dataframe tbody tr th:only-of-type {\n",
       "        vertical-align: middle;\n",
       "    }\n",
       "\n",
       "    .dataframe tbody tr th {\n",
       "        vertical-align: top;\n",
       "    }\n",
       "\n",
       "    .dataframe thead th {\n",
       "        text-align: right;\n",
       "    }\n",
       "</style>\n",
       "<table border=\"1\" class=\"dataframe\">\n",
       "  <thead>\n",
       "    <tr style=\"text-align: right;\">\n",
       "      <th></th>\n",
       "      <th>delta</th>\n",
       "      <th>theta</th>\n",
       "      <th>alpha</th>\n",
       "      <th>beta</th>\n",
       "      <th>gamma</th>\n",
       "      <th>slow</th>\n",
       "      <th>low_beta</th>\n",
       "    </tr>\n",
       "  </thead>\n",
       "  <tbody>\n",
       "    <tr>\n",
       "      <th>0</th>\n",
       "      <td>5.816752</td>\n",
       "      <td>-0.211333</td>\n",
       "      <td>-4.062054</td>\n",
       "      <td>-8.697476</td>\n",
       "      <td>-12.212243</td>\n",
       "      <td>-2.739044</td>\n",
       "      <td>-7.487652</td>\n",
       "    </tr>\n",
       "    <tr>\n",
       "      <th>1</th>\n",
       "      <td>12.457123</td>\n",
       "      <td>6.573959</td>\n",
       "      <td>2.867248</td>\n",
       "      <td>-1.010743</td>\n",
       "      <td>-2.015134</td>\n",
       "      <td>4.173378</td>\n",
       "      <td>0.016220</td>\n",
       "    </tr>\n",
       "    <tr>\n",
       "      <th>2</th>\n",
       "      <td>7.680673</td>\n",
       "      <td>1.548254</td>\n",
       "      <td>6.900073</td>\n",
       "      <td>-4.632303</td>\n",
       "      <td>-9.638861</td>\n",
       "      <td>4.243176</td>\n",
       "      <td>-2.389733</td>\n",
       "    </tr>\n",
       "    <tr>\n",
       "      <th>3</th>\n",
       "      <td>9.857033</td>\n",
       "      <td>7.392447</td>\n",
       "      <td>6.185955</td>\n",
       "      <td>0.347076</td>\n",
       "      <td>-0.899249</td>\n",
       "      <td>6.241433</td>\n",
       "      <td>1.088514</td>\n",
       "    </tr>\n",
       "    <tr>\n",
       "      <th>4</th>\n",
       "      <td>20.362204</td>\n",
       "      <td>14.998787</td>\n",
       "      <td>8.750110</td>\n",
       "      <td>3.305604</td>\n",
       "      <td>-0.751017</td>\n",
       "      <td>11.077218</td>\n",
       "      <td>5.997419</td>\n",
       "    </tr>\n",
       "  </tbody>\n",
       "</table>\n",
       "</div>"
      ],
      "text/plain": [
       "       delta      theta     alpha      beta      gamma       slow  low_beta\n",
       "0   5.816752  -0.211333 -4.062054 -8.697476 -12.212243  -2.739044 -7.487652\n",
       "1  12.457123   6.573959  2.867248 -1.010743  -2.015134   4.173378  0.016220\n",
       "2   7.680673   1.548254  6.900073 -4.632303  -9.638861   4.243176 -2.389733\n",
       "3   9.857033   7.392447  6.185955  0.347076  -0.899249   6.241433  1.088514\n",
       "4  20.362204  14.998787  8.750110  3.305604  -0.751017  11.077218  5.997419"
      ]
     },
     "execution_count": 29,
     "metadata": {},
     "output_type": "execute_result"
    }
   ],
   "source": [
    "# Turn all band into dataframe\n",
    "df_psd = pd.DataFrame(all_bands, columns= ['delta', 'theta', 'alpha', 'beta', 'gamma', 'slow', 'low_beta'])\n",
    "df_psd.head()"
   ]
  },
  {
   "cell_type": "markdown",
   "metadata": {},
   "source": [
    "#### Asymmetry"
   ]
  },
  {
   "cell_type": "code",
   "execution_count": 30,
   "metadata": {},
   "outputs": [],
   "source": [
    "# Chaky code\n",
    "def df_to_raw(df, convert=False):\n",
    "    ch_names = ['Fp1', 'Fp2', 'F7', 'F3', 'F4', 'F8', 'T3', 'C3', 'C4', 'T4', 'T5', 'P3', 'P4', 'T6', 'O1', 'O2']\n",
    "    ch_types = ['eeg'] * len(ch_names)\n",
    "    df = df.T\n",
    "\n",
    "    #df[:] *= 1e-6 # mne assume volt data # We already converted in the ETA process\n",
    "\n",
    "    sampling_rate = 125 #Hz\n",
    "    info = mne.create_info(ch_names=ch_names, ch_types=ch_types, sfreq=sampling_rate)\n",
    "    raw = mne.io.RawArray(df, info)\n",
    "    raw.set_montage('standard_1020')\n",
    "    # plotting, is not work\n",
    "    # raw.compute_psd().plot()\n",
    "    return raw"
   ]
  },
  {
   "cell_type": "code",
   "execution_count": 31,
   "metadata": {},
   "outputs": [
    {
     "name": "stdout",
     "output_type": "stream",
     "text": [
      "Creating RawArray with float64 data, n_channels=16, n_times=45000\n",
      "    Range : 0 ... 44999 =      0.000 ...   359.992 secs\n",
      "Ready.\n",
      "clean_exp01.csv | time: 360.0\n",
      "Creating RawArray with float64 data, n_channels=16, n_times=45000\n",
      "    Range : 0 ... 44999 =      0.000 ...   359.992 secs\n",
      "Ready.\n",
      "clean_exp02.csv | time: 360.0\n",
      "Creating RawArray with float64 data, n_channels=16, n_times=45000\n",
      "    Range : 0 ... 44999 =      0.000 ...   359.992 secs\n",
      "Ready.\n",
      "clean_exp03.csv | time: 360.0\n",
      "Creating RawArray with float64 data, n_channels=16, n_times=45000\n",
      "    Range : 0 ... 44999 =      0.000 ...   359.992 secs\n",
      "Ready.\n",
      "clean_exp04.csv | time: 360.0\n",
      "Creating RawArray with float64 data, n_channels=16, n_times=45000\n",
      "    Range : 0 ... 44999 =      0.000 ...   359.992 secs\n",
      "Ready.\n",
      "clean_exp05.csv | time: 360.0\n",
      "Creating RawArray with float64 data, n_channels=16, n_times=45000\n",
      "    Range : 0 ... 44999 =      0.000 ...   359.992 secs\n",
      "Ready.\n",
      "clean_exp06.csv | time: 360.0\n",
      "Creating RawArray with float64 data, n_channels=16, n_times=45000\n",
      "    Range : 0 ... 44999 =      0.000 ...   359.992 secs\n",
      "Ready.\n",
      "clean_exp07.csv | time: 360.0\n",
      "Creating RawArray with float64 data, n_channels=16, n_times=45000\n",
      "    Range : 0 ... 44999 =      0.000 ...   359.992 secs\n",
      "Ready.\n",
      "clean_exp08.csv | time: 360.0\n",
      "Creating RawArray with float64 data, n_channels=16, n_times=45000\n",
      "    Range : 0 ... 44999 =      0.000 ...   359.992 secs\n",
      "Ready.\n",
      "clean_exp09.csv | time: 360.0\n",
      "Creating RawArray with float64 data, n_channels=16, n_times=45000\n",
      "    Range : 0 ... 44999 =      0.000 ...   359.992 secs\n",
      "Ready.\n",
      "clean_exp10.csv | time: 360.0\n",
      "Creating RawArray with float64 data, n_channels=16, n_times=45000\n",
      "    Range : 0 ... 44999 =      0.000 ...   359.992 secs\n",
      "Ready.\n",
      "clean_exp11.csv | time: 360.0\n",
      "Creating RawArray with float64 data, n_channels=16, n_times=45000\n",
      "    Range : 0 ... 44999 =      0.000 ...   359.992 secs\n",
      "Ready.\n",
      "clean_exp12.csv | time: 360.0\n",
      "Creating RawArray with float64 data, n_channels=16, n_times=45000\n",
      "    Range : 0 ... 44999 =      0.000 ...   359.992 secs\n",
      "Ready.\n",
      "clean_exp13.csv | time: 360.0\n",
      "Creating RawArray with float64 data, n_channels=16, n_times=45000\n",
      "    Range : 0 ... 44999 =      0.000 ...   359.992 secs\n",
      "Ready.\n",
      "clean_exp14.csv | time: 360.0\n",
      "Creating RawArray with float64 data, n_channels=16, n_times=45000\n",
      "    Range : 0 ... 44999 =      0.000 ...   359.992 secs\n",
      "Ready.\n",
      "clean_exp15.csv | time: 360.0\n",
      "Creating RawArray with float64 data, n_channels=16, n_times=45000\n",
      "    Range : 0 ... 44999 =      0.000 ...   359.992 secs\n",
      "Ready.\n",
      "clean_exp16.csv | time: 360.0\n",
      "Creating RawArray with float64 data, n_channels=16, n_times=45000\n",
      "    Range : 0 ... 44999 =      0.000 ...   359.992 secs\n",
      "Ready.\n",
      "clean_exp17.csv | time: 360.0\n"
     ]
    }
   ],
   "source": [
    "# Put data into mne\n",
    "main_path = os.getcwd()\n",
    "eeg = dict()\n",
    "\n",
    "for index, file in enumerate(file_name):\n",
    "    clean_signal_path = main_path + '/Clean_signal/' + file\n",
    "    df = pd.read_csv(clean_signal_path)\n",
    "    df = df.loc[:, ~df.columns.str.contains('^Unnamed')]\n",
    "    raw = df_to_raw(df)\n",
    "    eeg['exp' + str(index)] = raw\n",
    "    print(f'{file} | time: {len(df)/125}')\n"
   ]
  },
  {
   "cell_type": "code",
   "execution_count": 32,
   "metadata": {},
   "outputs": [
    {
     "name": "stderr",
     "output_type": "stream",
     "text": [
      "<decorator-gen-201>:4: FutureWarning: NOTE: psd_welch() is a deprecated function. Function ``psd_welch()`` is deprecated; for Raw/Epochs/Evoked instances use ``spectrum = instance.compute_psd(method=\"welch\")`` instead, followed by ``spectrum.get_data(return_freqs=True)``.\n"
     ]
    },
    {
     "name": "stdout",
     "output_type": "stream",
     "text": [
      "Effective window size : 1.000 (s)\n",
      "[ 0.  1.  2.  3.  4.  5.  6.  7.  8.  9. 10. 11. 12. 13. 14. 15. 16. 17.\n",
      " 18. 19. 20. 21. 22. 23. 24. 25. 26. 27. 28. 29. 30. 31. 32. 33. 34. 35.\n",
      " 36. 37. 38. 39. 40. 41. 42. 43. 44. 45. 46. 47. 48. 49. 50. 51. 52. 53.\n",
      " 54. 55. 56. 57. 58. 59. 60. 61. 62.]\n"
     ]
    },
    {
     "name": "stderr",
     "output_type": "stream",
     "text": [
      "[Parallel(n_jobs=1)]: Using backend SequentialBackend with 1 concurrent workers.\n",
      "[Parallel(n_jobs=1)]: Done   1 out of   1 | elapsed:    0.0s remaining:    0.0s\n",
      "[Parallel(n_jobs=1)]: Done   1 out of   1 | elapsed:    0.0s finished\n"
     ]
    }
   ],
   "source": [
    "# Get freqeuency\n",
    "def get_freq(info):\n",
    "    raw = info\n",
    "    power, freq = mne.time_frequency.psd_welch(raw,n_fft=125, verbose=True)\n",
    "    return freq\n",
    "    \n",
    "for name, info in eeg.items():\n",
    "    freq = get_freq(info)\n",
    "    print(freq)\n",
    "    break"
   ]
  },
  {
   "cell_type": "code",
   "execution_count": 33,
   "metadata": {},
   "outputs": [
    {
     "name": "stdout",
     "output_type": "stream",
     "text": [
      "[array([1, 2, 3], dtype=int64) array([4, 5, 6, 7], dtype=int64)\n",
      " array([ 8,  9, 10, 11, 12], dtype=int64)\n",
      " array([13, 14, 15, 16, 17, 18, 19, 20, 21, 22, 23, 24, 25, 26, 27, 28, 29,\n",
      "        30], dtype=int64)\n",
      " array([30, 31, 32, 33, 34, 35, 36, 37, 38, 39, 40, 41, 42, 43],\n",
      "       dtype=int64)\n",
      " array([ 4,  5,  6,  7,  8,  9, 10, 11, 12, 13], dtype=int64)\n",
      " array([13, 14, 15, 16, 17], dtype=int64)]\n"
     ]
    },
    {
     "name": "stderr",
     "output_type": "stream",
     "text": [
      "C:\\Users\\Guntsv\\AppData\\Local\\Temp\\ipykernel_15632\\3271316881.py:9: VisibleDeprecationWarning: Creating an ndarray from ragged nested sequences (which is a list-or-tuple of lists-or-tuples-or ndarrays with different lengths or shapes) is deprecated. If you meant to do this, you must specify 'dtype=object' when creating the ndarray.\n",
      "  bands = np.array(bands)\n"
     ]
    }
   ],
   "source": [
    "band_names = np.array(['Delta', 'Theta', 'Alpha', 'Beta', 'Gamma', 'Slow', 'Low_beta'])\n",
    "filter_list = [[1,3],[4,7],[8,12],[13,30],[30,43], [4,13], [13,17]]\n",
    "# band_names = np.array(['Delta', 'Theta', 'Alpha', 'Slow', 'Low_beta'])\n",
    "# filter_list = [[1,3],[4,7],[8,12], [4,13], [13,17]]\n",
    "bands = []\n",
    "for filt in filter_list:\n",
    "    pt = np.argwhere((freq >= filt[0]) & (freq <= filt[1])).reshape(-1)\n",
    "    bands.append(pt)\n",
    "bands = np.array(bands)\n",
    "print(bands)"
   ]
  },
  {
   "cell_type": "code",
   "execution_count": 34,
   "metadata": {},
   "outputs": [
    {
     "name": "stdout",
     "output_type": "stream",
     "text": [
      "name: exp0\n",
      "type feature == None band name = Delta value = [[6.95546883]]\n",
      "band name = Theta value = [[-0.21133261]]\n"
     ]
    },
    {
     "name": "stderr",
     "output_type": "stream",
     "text": [
      "<decorator-gen-201>:4: FutureWarning: NOTE: psd_welch() is a deprecated function. Function ``psd_welch()`` is deprecated; for Raw/Epochs/Evoked instances use ``spectrum = instance.compute_psd(method=\"welch\")`` instead, followed by ``spectrum.get_data(return_freqs=True)``.\n"
     ]
    },
    {
     "name": "stdout",
     "output_type": "stream",
     "text": [
      "band name = Alpha value = [[-4.06205445]]\n",
      "band name = Beta value = [[-8.69747625]]\n",
      "band name = Gamma value = [[-13.14332126]]\n",
      "band name = Slow value = [[-2.73904411]]\n",
      "band name = Low_beta value = [[-7.48765161]]\n",
      "relative gamma [[0.20839817]]\n",
      "alpha_frontal [[-0.02105562]]\n",
      "alpha_temportal [[0.01229723]]\n",
      "alpha_asymmetry [[-0.00875839]]\n",
      "beta_frontal [[-0.03354595]]\n",
      "beta_temporal [[0.10063094]]\n",
      "name: exp1\n",
      "type feature == None band name = Delta value = [[13.44494836]]\n",
      "band name = Theta value = [[6.57395901]]\n",
      "band name = Alpha value = [[2.8672477]]\n",
      "band name = Beta value = [[-1.01074317]]\n",
      "band name = Gamma value = [[-2.17283104]]\n",
      "band name = Slow value = [[4.17337843]]\n",
      "band name = Low_beta value = [[0.01622016]]\n",
      "relative gamma [[-1.92071006]]\n",
      "alpha_frontal [[-0.90385039]]\n",
      "alpha_temportal [[0.3600322]]\n",
      "alpha_asymmetry [[-0.54381819]]\n",
      "beta_frontal [[-2.95194804]]\n",
      "beta_temporal [[-0.09931333]]\n",
      "name: exp2\n",
      "type feature == None band name = Delta value = [[9.02933255]]\n",
      "band name = Theta value = [[1.54825439]]\n",
      "band name = Alpha value = [[6.90007268]]\n",
      "band name = Beta value = [[-4.63230278]]\n",
      "band name = Gamma value = [[-10.33287775]]\n",
      "band name = Slow value = [[4.24317591]]\n",
      "band name = Low_beta value = [[-2.38973254]]\n",
      "relative gamma [[-0.41064803]]\n",
      "alpha_frontal [[-0.03136241]]\n",
      "alpha_temportal [[0.04879629]]\n",
      "alpha_asymmetry [[0.01743388]]\n",
      "beta_frontal [[-0.02667462]]\n",
      "beta_temporal [[-0.81584828]]\n",
      "name: exp3\n",
      "type feature == None band name = Delta value = [[11.35020945]]\n",
      "band name = Theta value = [[7.39244734]]\n",
      "band name = Alpha value = [[6.18595543]]\n",
      "band name = Beta value = [[0.34707585]]\n",
      "band name = Gamma value = [[-1.15048065]]\n",
      "band name = Slow value = [[6.24143313]]\n",
      "band name = Low_beta value = [[1.08851358]]\n",
      "relative gamma [[-5.42506572]]\n",
      "alpha_frontal [[0.17103346]]\n",
      "alpha_temportal [[-0.12235554]]\n",
      "alpha_asymmetry [[0.04867792]]\n",
      "beta_frontal [[0.69562583]]\n",
      "beta_temporal [[-0.23988233]]\n",
      "name: exp4\n",
      "type feature == None band name = Delta value = [[21.82478936]]\n",
      "band name = Theta value = [[14.99878718]]\n",
      "band name = Alpha value = [[8.75010998]]\n",
      "band name = Beta value = [[3.30560445]]\n",
      "band name = Gamma value = [[-1.56483406]]\n",
      "band name = Slow value = [[11.07721771]]\n",
      "band name = Low_beta value = [[5.99741885]]\n",
      "relative gamma [[-7.07884496]]\n",
      "alpha_frontal [[-0.57492252]]\n",
      "alpha_temportal [[-0.13356826]]\n",
      "alpha_asymmetry [[-0.70849078]]\n",
      "beta_frontal [[-0.8759184]]\n",
      "beta_temporal [[0.47219113]]\n",
      "name: exp5\n",
      "type feature == None band name = Delta value = [[9.87093096]]\n",
      "band name = Theta value = [[1.99140793]]\n",
      "band name = Alpha value = [[1.96544113]]\n",
      "band name = Beta value = [[-3.85651145]]\n",
      "band name = Gamma value = [[-9.21754901]]\n",
      "band name = Slow value = [[1.71880034]]\n",
      "band name = Low_beta value = [[-2.49243298]]\n",
      "relative gamma [[-0.18647043]]\n",
      "alpha_frontal [[0.38289933]]\n",
      "alpha_temportal [[-0.10029998]]\n",
      "alpha_asymmetry [[0.28259934]]\n",
      "beta_frontal [[-0.14679514]]\n",
      "beta_temporal [[-0.44971494]]\n",
      "name: exp6\n",
      "type feature == None band name = Delta value = [[9.16075441]]\n",
      "band name = Theta value = [[3.37048586]]\n",
      "band name = Alpha value = [[3.47323567]]\n",
      "band name = Beta value = [[-4.16805908]]\n",
      "band name = Gamma value = [[-7.61553665]]\n",
      "band name = Slow value = [[3.20878493]]\n",
      "band name = Low_beta value = [[-1.90576738]]\n",
      "relative gamma [[-0.42134718]]\n",
      "alpha_frontal [[0.00381521]]\n",
      "alpha_temportal [[-0.07161214]]\n",
      "alpha_asymmetry [[-0.06779693]]\n",
      "beta_frontal [[0.0161831]]\n",
      "beta_temporal [[-0.01401912]]\n",
      "name: exp7\n",
      "type feature == None band name = Delta value = [[14.66994081]]\n",
      "band name = Theta value = [[7.69746465]]\n",
      "band name = Alpha value = [[9.16084856]]\n",
      "band name = Beta value = [[0.60536178]]\n",
      "band name = Gamma value = [[-3.86393489]]\n",
      "band name = Slow value = [[8.05555052]]\n",
      "band name = Low_beta value = [[2.71088227]]\n",
      "relative gamma [[-2.08480493]]\n",
      "alpha_frontal [[-0.01817236]]\n",
      "alpha_temportal [[-0.04539102]]\n",
      "alpha_asymmetry [[-0.06356338]]\n",
      "beta_frontal [[-0.12959424]]\n",
      "beta_temporal [[0.11926519]]\n",
      "name: exp8\n",
      "type feature == None band name = Delta value = [[15.53193247]]\n",
      "band name = Theta value = [[7.01332001]]\n",
      "band name = Alpha value = [[3.65463436]]\n",
      "band name = Beta value = [[-2.70932241]]\n",
      "band name = Gamma value = [[-7.87706048]]\n",
      "band name = Slow value = [[4.60948816]]\n",
      "band name = Low_beta value = [[-1.34269374]]\n",
      "relative gamma [[-0.58517872]]\n",
      "alpha_frontal [[0.05269341]]\n",
      "alpha_temportal [[0.02954776]]\n",
      "alpha_asymmetry [[0.08224117]]\n",
      "beta_frontal [[0.02405058]]\n",
      "beta_temporal [[0.02615243]]\n",
      "name: exp9\n",
      "type feature == None band name = Delta value = [[17.34164488]]\n",
      "band name = Theta value = [[6.52586807]]\n",
      "band name = Alpha value = [[5.01950287]]\n",
      "band name = Beta value = [[-1.66974125]]\n",
      "band name = Gamma value = [[-5.72644562]]\n",
      "band name = Slow value = [[5.69064957]]\n",
      "band name = Low_beta value = [[1.11971715]]\n",
      "relative gamma [[-0.99374899]]\n",
      "alpha_frontal [[-0.01009142]]\n",
      "alpha_temportal [[0.12291137]]\n",
      "alpha_asymmetry [[0.11281995]]\n",
      "beta_frontal [[-0.0476943]]\n",
      "beta_temporal [[0.04079912]]\n",
      "name: exp10\n",
      "type feature == None band name = Delta value = [[14.8077128]]\n",
      "band name = Theta value = [[6.5049044]]\n",
      "band name = Alpha value = [[10.0856641]]\n",
      "band name = Beta value = [[-0.73440161]]\n",
      "band name = Gamma value = [[-3.08717688]]\n",
      "band name = Slow value = [[7.85362551]]\n",
      "band name = Low_beta value = [[0.48771994]]\n",
      "relative gamma [[-2.54395061]]\n",
      "alpha_frontal [[-0.04229749]]\n",
      "alpha_temportal [[-0.02348622]]\n",
      "alpha_asymmetry [[-0.06578371]]\n",
      "beta_frontal [[-0.83660809]]\n",
      "beta_temporal [[0.11763884]]\n",
      "name: exp11\n",
      "type feature == None band name = Delta value = [[12.40102125]]\n",
      "band name = Theta value = [[9.00862808]]\n",
      "band name = Alpha value = [[11.37219775]]\n",
      "band name = Beta value = [[14.56297379]]\n",
      "band name = Gamma value = [[17.79421571]]\n",
      "band name = Slow value = [[10.41932739]]\n",
      "band name = Low_beta value = [[12.52451407]]\n",
      "relative gamma [[0.58554575]]\n",
      "alpha_frontal [[-0.14517466]]\n",
      "alpha_temportal [[0.0152131]]\n",
      "alpha_asymmetry [[-0.12996156]]\n",
      "beta_frontal [[-0.19550882]]\n",
      "beta_temporal [[0.00592912]]\n",
      "name: exp12\n",
      "type feature == None band name = Delta value = [[12.40885065]]\n",
      "band name = Theta value = [[6.01750611]]\n",
      "band name = Alpha value = [[3.36295161]]\n",
      "band name = Beta value = [[-4.60456471]]\n",
      "band name = Gamma value = [[-11.33531819]]\n",
      "band name = Slow value = [[4.02328803]]\n",
      "band name = Low_beta value = [[-1.46966561]]\n",
      "relative gamma [[-0.35493384]]\n",
      "alpha_frontal [[0.00662372]]\n",
      "alpha_temportal [[-0.05642564]]\n",
      "alpha_asymmetry [[-0.04980193]]\n",
      "beta_frontal [[0.09752536]]\n",
      "beta_temporal [[0.57071893]]\n",
      "name: exp13\n",
      "type feature == None band name = Delta value = [[13.0134086]]\n",
      "band name = Theta value = [[5.92422367]]\n",
      "band name = Alpha value = [[4.8200863]]\n",
      "band name = Beta value = [[-0.6357562]]\n",
      "band name = Gamma value = [[-9.17327325]]\n",
      "band name = Slow value = [[5.10367505]]\n",
      "band name = Low_beta value = [[3.21423728]]\n",
      "relative gamma [[-0.55636357]]\n",
      "alpha_frontal [[-0.1284168]]\n",
      "alpha_temportal [[-0.02693357]]\n",
      "alpha_asymmetry [[-0.15535037]]\n",
      "beta_frontal [[1.57132803]]\n",
      "beta_temporal [[0.2521558]]\n",
      "name: exp14\n",
      "type feature == None band name = Delta value = [[14.37149464]]\n",
      "band name = Theta value = [[6.64641988]]\n",
      "band name = Alpha value = [[9.53239951]]\n",
      "band name = Beta value = [[1.35954598]]\n",
      "band name = Gamma value = [[-3.91375796]]\n",
      "band name = Slow value = [[8.3248432]]\n",
      "band name = Low_beta value = [[4.14982223]]\n",
      "relative gamma [[-2.12707155]]\n",
      "alpha_frontal [[-0.08120926]]\n",
      "alpha_temportal [[0.74721688]]\n",
      "alpha_asymmetry [[0.66600762]]\n",
      "beta_frontal [[0.03770916]]\n",
      "beta_temporal [[1.26996074]]\n",
      "name: exp15\n",
      "type feature == None band name = Delta value = [[13.61274123]]\n",
      "band name = Theta value = [[6.58896407]]\n",
      "band name = Alpha value = [[8.48952126]]\n",
      "band name = Beta value = [[-1.75090194]]\n",
      "band name = Gamma value = [[-5.55278437]]\n",
      "band name = Slow value = [[7.06329414]]\n",
      "band name = Low_beta value = [[0.22464113]]\n",
      "relative gamma [[-1.27202745]]\n",
      "alpha_frontal [[-0.02727239]]\n",
      "alpha_temportal [[-0.02453408]]\n",
      "alpha_asymmetry [[-0.05180647]]\n",
      "beta_frontal [[0.18183359]]\n",
      "beta_temporal [[0.45185553]]\n",
      "name: exp16\n",
      "type feature == None band name = Delta value = [[13.51617725]]\n",
      "band name = Theta value = [[8.70468614]]\n",
      "band name = Alpha value = [[9.6288613]]\n",
      "band name = Beta value = [[6.03861373]]\n",
      "band name = Gamma value = [[4.00664532]]\n",
      "band name = Slow value = [[9.0703366]]\n",
      "band name = Low_beta value = [[6.72364298]]\n",
      "relative gamma [[2.26382319]]\n",
      "alpha_frontal [[0.00851758]]\n",
      "alpha_temportal [[0.0209457]]\n",
      "alpha_asymmetry [[0.02946328]]\n",
      "beta_frontal [[0.02872253]]\n",
      "beta_temporal [[-0.00038132]]\n",
      "(17, 13)\n",
      "====================================================================================================\n"
     ]
    }
   ],
   "source": [
    "#Asymmetry \n",
    "features = None\n",
    "for name, info in eeg.items():\n",
    "    raw = info\n",
    "    feature = None\n",
    "    slow, gamma = None, None\n",
    "    a_f3, a_f4 = None, None\n",
    "    a_t7, a_t8 = None, None\n",
    "    b_f3, b_f4 = None, None\n",
    "    b_t7, b_t8 = None, None\n",
    "    #epochs = mne.Epochs(raw, np.array([[125*60*1, 0, 1]]), tmin=0, tmax=30, baseline=(0,30), verbose=False)\n",
    "    epochs = raw\n",
    "\n",
    "    print(f'name: {name}')\n",
    "\n",
    "\n",
    "    for index, band in enumerate(bands):\n",
    "        \n",
    "        power,freq = mne.time_frequency.psd_welch(epochs,n_fft=125, verbose=False)\n",
    "        power = power.squeeze()\n",
    "        power = 10 * np.log10(power)\n",
    "        data = power[::,band].mean(axis=1).reshape(1,-1)\n",
    "        # for asym\n",
    "        if(band_names[index] == 'Alpha'):\n",
    "            a_f3 = data[:,raw.ch_names.index('F3')]\n",
    "            a_f4 = data[:,raw.ch_names.index('F4')]\n",
    "            # We use t3 as t7 and t4 as t8\n",
    "            a_t7 = data[:,raw.ch_names.index('T3')]\n",
    "            a_t8 = data[:,raw.ch_names.index('T4')]\n",
    "        if(band_names[index] == 'Beta'):\n",
    "            b_f3 = data[:,raw.ch_names.index('F3')]\n",
    "            b_f4 = data[:,raw.ch_names.index('F4')]\n",
    "            # We use t3 as t7 and t4 as t8\n",
    "            b_t7 = data[:,raw.ch_names.index('T3')]\n",
    "            b_t8 = data[:,raw.ch_names.index('T4')]\n",
    "\n",
    "        ####### Mean for visualization #######\n",
    "        data = data.mean().reshape(1,-1)\n",
    "        # for relative gamma\n",
    "        if(band_names[index] == 'Slow'): \n",
    "            slow = data\n",
    "        if(band_names[index] == 'Gamma'): \n",
    "            gamma = data\n",
    "\n",
    "        if(type(feature) == type(None)): \n",
    "            print(f'type feature == None band name = {band_names[index]} value = {data}')\n",
    "            feature = data\n",
    "        else:\n",
    "            print(f'band name = {band_names[index]} value = {data}')\n",
    "            feature = np.concatenate([feature, data], axis=1)\n",
    "    # print(feature.shape)\n",
    "    # the eighth feature: relative gamma is slow/gamma\n",
    "    relative_gamma = slow/gamma\n",
    "    feature = np.concatenate([feature, relative_gamma], axis=1)\n",
    "\n",
    "    print(f'relative gamma {relative_gamma}')\n",
    "\n",
    "    # The asymetry\n",
    "    alpha_frontal = ((a_f4 - a_f3) / (a_f4 + a_f3)).reshape(1,-1)\n",
    "    feature = np.concatenate([feature, alpha_frontal], axis=1)\n",
    "\n",
    "    print(f'alpha_frontal {alpha_frontal}')\n",
    "\n",
    "    # alpha_temporal\n",
    "    alpha_temporal = ((a_t8 - a_t7) / (a_t8 + a_t7)).reshape(1,-1)\n",
    "    feature = np.concatenate([feature, alpha_temporal], axis=1)\n",
    "\n",
    "    print(f'alpha_temportal {alpha_temporal}')\n",
    "\n",
    "    # alpha_asymmetry\n",
    "    alpha_asymmetry = alpha_frontal + alpha_temporal\n",
    "    feature = np.concatenate([feature, alpha_asymmetry], axis=1)\n",
    "\n",
    "    print(f'alpha_asymmetry {alpha_asymmetry}')\n",
    "\n",
    "    # beta_frontal\n",
    "    beta_frontal = ((b_f4 - b_f3) / (b_f4 + b_f3)).reshape(1,-1)\n",
    "    feature = np.concatenate([feature, beta_frontal], axis=1)\n",
    "\n",
    "    print(f'beta_frontal {beta_frontal}')\n",
    "\n",
    "\n",
    "    # beta_temporal\n",
    "    beta_temporal = ((b_t8 - b_t7) / (b_t8 + b_t7)).reshape(1,-1)\n",
    "    feature = np.concatenate([feature, beta_temporal], axis=1)\n",
    "\n",
    "    print(f'beta_temporal {beta_temporal}')\n",
    "\n",
    "    # print(slow/gamma)\n",
    "    # print(feature.shape)\n",
    "    # print(feature)\n",
    "    # info['all'] = feature\n",
    "    #print(feature.shape)\n",
    "    if(type(features) == type(None)): features = feature\n",
    "    else: features = np.concatenate([features, feature], axis=0)\n",
    "\n",
    "print(features.shape)\n",
    "print('=' * 100)"
   ]
  },
  {
   "cell_type": "code",
   "execution_count": 35,
   "metadata": {},
   "outputs": [],
   "source": [
    "feature_column = ['Delta', 'Theta', 'Alpha', 'Beta', 'Gamma', 'Slow', 'Low_beta', 'Relative_gamma', 'Alpha_frontal', 'Alpha_temporal',\n",
    "'Alpha_asymmetry', 'Beta_Frontal', 'Beta_temporal'] #'label'"
   ]
  },
  {
   "cell_type": "code",
   "execution_count": 37,
   "metadata": {},
   "outputs": [
    {
     "data": {
      "text/plain": [
       "(17,)"
      ]
     },
     "execution_count": 37,
     "metadata": {},
     "output_type": "execute_result"
    }
   ],
   "source": [
    "y_path = './label_exp.csv'\n",
    "df = pd.read_csv(y_path)\n",
    "y = np.array(df['label'])\n",
    "y.shape"
   ]
  },
  {
   "cell_type": "code",
   "execution_count": 39,
   "metadata": {},
   "outputs": [
    {
     "data": {
      "text/plain": [
       "((17, 13), (17,))"
      ]
     },
     "execution_count": 39,
     "metadata": {},
     "output_type": "execute_result"
    }
   ],
   "source": [
    "features.shape, y.shape"
   ]
  },
  {
   "cell_type": "code",
   "execution_count": 40,
   "metadata": {},
   "outputs": [
    {
     "data": {
      "text/html": [
       "<div>\n",
       "<style scoped>\n",
       "    .dataframe tbody tr th:only-of-type {\n",
       "        vertical-align: middle;\n",
       "    }\n",
       "\n",
       "    .dataframe tbody tr th {\n",
       "        vertical-align: top;\n",
       "    }\n",
       "\n",
       "    .dataframe thead th {\n",
       "        text-align: right;\n",
       "    }\n",
       "</style>\n",
       "<table border=\"1\" class=\"dataframe\">\n",
       "  <thead>\n",
       "    <tr style=\"text-align: right;\">\n",
       "      <th></th>\n",
       "      <th>Delta</th>\n",
       "      <th>Theta</th>\n",
       "      <th>Alpha</th>\n",
       "      <th>Beta</th>\n",
       "      <th>Gamma</th>\n",
       "      <th>Slow</th>\n",
       "      <th>Low_beta</th>\n",
       "      <th>Relative_gamma</th>\n",
       "      <th>Alpha_frontal</th>\n",
       "      <th>Alpha_temporal</th>\n",
       "      <th>Alpha_asymmetry</th>\n",
       "      <th>Beta_Frontal</th>\n",
       "      <th>Beta_temporal</th>\n",
       "    </tr>\n",
       "  </thead>\n",
       "  <tbody>\n",
       "    <tr>\n",
       "      <th>0</th>\n",
       "      <td>6.955469</td>\n",
       "      <td>-0.211333</td>\n",
       "      <td>-4.062054</td>\n",
       "      <td>-8.697476</td>\n",
       "      <td>-13.143321</td>\n",
       "      <td>-2.739044</td>\n",
       "      <td>-7.487652</td>\n",
       "      <td>0.208398</td>\n",
       "      <td>-0.021056</td>\n",
       "      <td>0.012297</td>\n",
       "      <td>-0.008758</td>\n",
       "      <td>-0.033546</td>\n",
       "      <td>0.100631</td>\n",
       "    </tr>\n",
       "    <tr>\n",
       "      <th>1</th>\n",
       "      <td>13.444948</td>\n",
       "      <td>6.573959</td>\n",
       "      <td>2.867248</td>\n",
       "      <td>-1.010743</td>\n",
       "      <td>-2.172831</td>\n",
       "      <td>4.173378</td>\n",
       "      <td>0.016220</td>\n",
       "      <td>-1.920710</td>\n",
       "      <td>-0.903850</td>\n",
       "      <td>0.360032</td>\n",
       "      <td>-0.543818</td>\n",
       "      <td>-2.951948</td>\n",
       "      <td>-0.099313</td>\n",
       "    </tr>\n",
       "    <tr>\n",
       "      <th>2</th>\n",
       "      <td>9.029333</td>\n",
       "      <td>1.548254</td>\n",
       "      <td>6.900073</td>\n",
       "      <td>-4.632303</td>\n",
       "      <td>-10.332878</td>\n",
       "      <td>4.243176</td>\n",
       "      <td>-2.389733</td>\n",
       "      <td>-0.410648</td>\n",
       "      <td>-0.031362</td>\n",
       "      <td>0.048796</td>\n",
       "      <td>0.017434</td>\n",
       "      <td>-0.026675</td>\n",
       "      <td>-0.815848</td>\n",
       "    </tr>\n",
       "    <tr>\n",
       "      <th>3</th>\n",
       "      <td>11.350209</td>\n",
       "      <td>7.392447</td>\n",
       "      <td>6.185955</td>\n",
       "      <td>0.347076</td>\n",
       "      <td>-1.150481</td>\n",
       "      <td>6.241433</td>\n",
       "      <td>1.088514</td>\n",
       "      <td>-5.425066</td>\n",
       "      <td>0.171033</td>\n",
       "      <td>-0.122356</td>\n",
       "      <td>0.048678</td>\n",
       "      <td>0.695626</td>\n",
       "      <td>-0.239882</td>\n",
       "    </tr>\n",
       "    <tr>\n",
       "      <th>4</th>\n",
       "      <td>21.824789</td>\n",
       "      <td>14.998787</td>\n",
       "      <td>8.750110</td>\n",
       "      <td>3.305604</td>\n",
       "      <td>-1.564834</td>\n",
       "      <td>11.077218</td>\n",
       "      <td>5.997419</td>\n",
       "      <td>-7.078845</td>\n",
       "      <td>-0.574923</td>\n",
       "      <td>-0.133568</td>\n",
       "      <td>-0.708491</td>\n",
       "      <td>-0.875918</td>\n",
       "      <td>0.472191</td>\n",
       "    </tr>\n",
       "  </tbody>\n",
       "</table>\n",
       "</div>"
      ],
      "text/plain": [
       "       Delta      Theta     Alpha      Beta      Gamma       Slow  Low_beta  \\\n",
       "0   6.955469  -0.211333 -4.062054 -8.697476 -13.143321  -2.739044 -7.487652   \n",
       "1  13.444948   6.573959  2.867248 -1.010743  -2.172831   4.173378  0.016220   \n",
       "2   9.029333   1.548254  6.900073 -4.632303 -10.332878   4.243176 -2.389733   \n",
       "3  11.350209   7.392447  6.185955  0.347076  -1.150481   6.241433  1.088514   \n",
       "4  21.824789  14.998787  8.750110  3.305604  -1.564834  11.077218  5.997419   \n",
       "\n",
       "   Relative_gamma  Alpha_frontal  Alpha_temporal  Alpha_asymmetry  \\\n",
       "0        0.208398      -0.021056        0.012297        -0.008758   \n",
       "1       -1.920710      -0.903850        0.360032        -0.543818   \n",
       "2       -0.410648      -0.031362        0.048796         0.017434   \n",
       "3       -5.425066       0.171033       -0.122356         0.048678   \n",
       "4       -7.078845      -0.574923       -0.133568        -0.708491   \n",
       "\n",
       "   Beta_Frontal  Beta_temporal  \n",
       "0     -0.033546       0.100631  \n",
       "1     -2.951948      -0.099313  \n",
       "2     -0.026675      -0.815848  \n",
       "3      0.695626      -0.239882  \n",
       "4     -0.875918       0.472191  "
      ]
     },
     "execution_count": 40,
     "metadata": {},
     "output_type": "execute_result"
    }
   ],
   "source": [
    "df_asy = pd.DataFrame(features, columns=feature_column)\n",
    "df_asy.head()"
   ]
  },
  {
   "cell_type": "code",
   "execution_count": 53,
   "metadata": {},
   "outputs": [],
   "source": [
    "df_asy_alpha = df_asy[['Alpha','Alpha_frontal','Alpha_temporal','Alpha_asymmetry']]\n",
    "df_asy_gamma = df_asy[['Gamma','Relative_gamma']]\n",
    "df_asy_beta = df_asy[['Beta','Low_beta','Beta_Frontal','Beta_temporal']]\n",
    "\n",
    "df_asy_alpha_beta = df_asy[['Alpha','Beta','Low_beta','Alpha_frontal','Alpha_temporal','Alpha_asymmetry','Beta_Frontal','Beta_temporal']]\n",
    "df_asy_alpha_gamma = df_asy[['Alpha','Beta','Low_beta','Alpha_frontal','Alpha_temporal','Alpha_asymmetry','Gamma','Relative_gamma']]\n",
    "df_asy_beta_gamma = df_asy[['Beta','Low_beta','Beta_Frontal','Beta_temporal','Gamma','Relative_gamma']]\n",
    "\n",
    "df_asy_alpha_beta_gamma = df_asy[['Alpha','Beta','Low_beta','Alpha_frontal','Alpha_temporal','Alpha_asymmetry','Beta_Frontal','Beta_temporal','Gamma','Relative_gamma']]"
   ]
  },
  {
   "cell_type": "code",
   "execution_count": 54,
   "metadata": {},
   "outputs": [],
   "source": [
    "# df_asy_alpha = df_asy[['Alpha_frontal','Alpha_temporal','Alpha_asymmetry']]\n",
    "# df_asy_gamma = df_asy[['Relative_gamma']]\n",
    "# df_asy_beta = df_asy[['Beta_Frontal','Beta_temporal']]\n",
    "\n",
    "# df_asy_alpha_beta = df_asy[['Alpha_frontal','Alpha_temporal','Alpha_asymmetry','Beta_Frontal','Beta_temporal']]\n",
    "# df_asy_alpha_gamma = df_asy[['Alpha_frontal','Alpha_temporal','Alpha_asymmetry','Relative_gamma']]\n",
    "# df_asy_beta_gamma = df_asy[['Beta_Frontal','Beta_temporal','Relative_gamma']]\n",
    "\n",
    "# df_asy_alpha_beta_gamma = df_asy[['Alpha_frontal','Alpha_temporal','Alpha_asymmetry','Beta_Frontal','Beta_temporal','Relative_gamma']]"
   ]
  },
  {
   "cell_type": "code",
   "execution_count": 55,
   "metadata": {},
   "outputs": [],
   "source": [
    "df_list = [\n",
    "    df_asy_alpha,\n",
    "    df_asy_gamma,\n",
    "    df_asy_beta,\n",
    "    df_asy_beta_gamma,\n",
    "    df_asy_alpha_beta,\n",
    "    df_asy_alpha_gamma,\n",
    "    df_asy_alpha_beta_gamma,\n",
    "    df_asy\n",
    "] # df_asy.iloc[:,7:]"
   ]
  },
  {
   "cell_type": "markdown",
   "metadata": {},
   "source": [
    "#### Cross Validation"
   ]
  },
  {
   "cell_type": "code",
   "execution_count": 59,
   "metadata": {},
   "outputs": [
    {
     "name": "stdout",
     "output_type": "stream",
     "text": [
      "-----------------SVM-----NB-----KNN----LR----RF-----\n",
      "alpha            [0.6]\n",
      "gamma            [0.5333]\n",
      "beta             [0.5333]\n",
      "beta gamma       [0.6]\n",
      "alpha beta       [0.5333]\n",
      "alpha gamma      [0.5333]\n",
      "alpha beta gamma [0.5333]\n",
      "all              [0.5333]\n"
     ]
    }
   ],
   "source": [
    "from sklearn.linear_model import LogisticRegression\n",
    "from sklearn.ensemble import RandomForestClassifier\n",
    "from sklearn.neighbors import KNeighborsClassifier\n",
    "from sklearn.svm import SVC\n",
    "from sklearn.naive_bayes import GaussianNB\n",
    "from sklearn.model_selection import StratifiedShuffleSplit\n",
    "from sklearn.neural_network import MLPClassifier\n",
    "lor = LogisticRegression(max_iter=1000)\n",
    "rfc = RandomForestClassifier(n_jobs=-1)  \n",
    "svm = SVC(kernel='rbf')\n",
    "gn = GaussianNB()\n",
    "knn = KNeighborsClassifier(n_neighbors = 2)\n",
    "mlp = MLPClassifier()\n",
    "models = [svm, gn, knn, lor, rfc]\n",
    "name_list = ['alpha','gamma','beta','beta gamma','alpha beta','alpha gamma','alpha beta gamma','all']\n",
    "from sklearn.model_selection import cross_val_score\n",
    "from sklearn.model_selection import train_test_split\n",
    "from sklearn.preprocessing import MinMaxScaler\n",
    "print('-----------------SVM-----NB-----KNN----LR----RF-----')\n",
    "i = 0\n",
    "for df_each in df_list:\n",
    "    X_train, X_test, y_train, y_test = train_test_split(df_each, y, test_size=0.2, random_state=999)\n",
    "    scaler = MinMaxScaler()\n",
    "    X_train = scaler.fit_transform(X_train)\n",
    "    X_test = scaler.transform(X_test)\n",
    "    scores = [] \n",
    "    for model in models:\n",
    "        scores.append(\n",
    "            cross_val_score(model, X_train, np.array(y_train).reshape(-1), cv=5, \n",
    "                            scoring='accuracy')\n",
    "            )\n",
    "    print(f'{name_list[i]:16} {np.round(np.mean(scores, axis=1),4)}')\n",
    "    i = i + 1"
   ]
  },
  {
   "cell_type": "code",
   "execution_count": 43,
   "metadata": {},
   "outputs": [],
   "source": [
    "# # split X and y into training and testing sets\n",
    "# from sklearn.model_selection import train_test_split\n",
    "# #X_train, X_test, y_train, y_test = train_test_split(df_asy, y[:-1], test_size=0.3, random_state=999)\n",
    "# X_train, X_test, y_train, y_test = train_test_split(df_psd, y[:-1], test_size=0.3, random_state=999)\n",
    "# X_train.shape, X_test.shape, y_train.shape, y_test.shape"
   ]
  },
  {
   "cell_type": "code",
   "execution_count": 72,
   "metadata": {},
   "outputs": [],
   "source": [
    "# from sklearn.preprocessing import MinMaxScaler\n",
    "\n",
    "# scaler = MinMaxScaler()\n",
    "# X_train = scaler.fit_transform(X_train)\n",
    "# X_test = scaler.transform(X_test)"
   ]
  },
  {
   "cell_type": "code",
   "execution_count": 46,
   "metadata": {},
   "outputs": [],
   "source": [
    "from sklearn.linear_model import LogisticRegression\n",
    "from sklearn.pipeline import Pipeline\n",
    "from sklearn.preprocessing import StandardScaler\n",
    "from sklearn.metrics import classification_report,accuracy_score\n",
    "from sklearn.model_selection import GroupKFold,GridSearchCV,cross_val_score \n",
    "from sklearn.model_selection import StratifiedShuffleSplit\n",
    "import torch\n",
    "import pandas as pd"
   ]
  },
  {
   "cell_type": "markdown",
   "metadata": {},
   "source": [
    "### Training"
   ]
  },
  {
   "cell_type": "code",
   "execution_count": 47,
   "metadata": {},
   "outputs": [
    {
     "name": "stdout",
     "output_type": "stream",
     "text": [
      "Accuracy GridSearchCV 0.7333333333333332\n"
     ]
    }
   ],
   "source": [
    "param_grid = {\n",
    "    'solver' : ['newton-cg', 'lbfgs', 'liblinear'],\n",
    "}\n",
    "cv = StratifiedShuffleSplit(n_splits=5, test_size=0.2, random_state=999)\n",
    "estimator = LogisticRegression(max_iter=1000)\n",
    "grid = GridSearchCV(estimator  = estimator,\n",
    "                    param_grid = param_grid,\n",
    "                    cv = cv,  \n",
    "                    n_jobs  = -1,\n",
    "                    refit   = True, \n",
    "                    scoring = 'accuracy',\n",
    "                    return_train_score=True)\n",
    "                    \n",
    "grid.fit(X_train, y_train)\n",
    "print('Accuracy GridSearchCV',grid.best_score_)"
   ]
  },
  {
   "cell_type": "markdown",
   "metadata": {},
   "source": [
    "### Testing"
   ]
  },
  {
   "cell_type": "code",
   "execution_count": 48,
   "metadata": {},
   "outputs": [
    {
     "name": "stdout",
     "output_type": "stream",
     "text": [
      "Accuracy : 0.75\n",
      "classification_report : \n",
      "                 precision    recall  f1-score   support\n",
      "\n",
      "without Stress       0.67      1.00      0.80         2\n",
      "   with Stress       1.00      0.50      0.67         2\n",
      "\n",
      "      accuracy                           0.75         4\n",
      "     macro avg       0.83      0.75      0.73         4\n",
      "  weighted avg       0.83      0.75      0.73         4\n",
      "\n"
     ]
    }
   ],
   "source": [
    "from sklearn.metrics import accuracy_score  \n",
    "from sklearn.metrics import classification_report\n",
    "from sklearn.metrics import confusion_matrix\n",
    "import matplotlib.pyplot as plt\n",
    "import seaborn as sns\n",
    "y_pred = grid.predict(X_test)\n",
    "target_names = ['without Stress', 'with Stress']\n",
    "acc = accuracy_score(y_test,y_pred)\n",
    "crp = classification_report(y_test,y_pred, target_names=target_names)\n",
    "print(\"Accuracy :\",acc)\n",
    "print(\"classification_report : \\n\",crp)\n",
    "# print(sns.heatmap(confusion_matrix(y_test,y_pred),annot=True))\n",
    "# plt.show()"
   ]
  },
  {
   "cell_type": "code",
   "execution_count": null,
   "metadata": {},
   "outputs": [],
   "source": []
  }
 ],
 "metadata": {
  "kernelspec": {
   "display_name": "Python 3.10.4 64-bit",
   "language": "python",
   "name": "python3"
  },
  "language_info": {
   "codemirror_mode": {
    "name": "ipython",
    "version": 3
   },
   "file_extension": ".py",
   "mimetype": "text/x-python",
   "name": "python",
   "nbconvert_exporter": "python",
   "pygments_lexer": "ipython3",
   "version": "3.10.4"
  },
  "orig_nbformat": 4,
  "vscode": {
   "interpreter": {
    "hash": "c81d839d3c4227cd770621df97fe8191838af02e7eef185a922d8250cb33d344"
   }
  }
 },
 "nbformat": 4,
 "nbformat_minor": 2
}
